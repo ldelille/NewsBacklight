{
 "cells": [
  {
   "cell_type": "markdown",
   "metadata": {},
   "source": [
    "# Demo notebook for article recommandation\n",
    "\n",
    "The goal of this notebook is to show a typical recommandation workflow, as it will be performed through the chatbot.\n",
    "\n",
    "Here we only demonstrate the use of the pretrained models and explore some ways of personnalizing the recommandation.\n",
    "\n",
    "\n",
    "### Contents\n",
    "\n",
    "__Preliminaries__\n",
    "* a. Package Imports\n",
    "* b. Data and models\n",
    "\n",
    "__1. Geo & Topic prediction__\n",
    "\n",
    "* Prediction of input article's geographic zone and topic\n",
    "\n",
    "__2. Basic reco based on article body similarity__\n",
    "\n",
    "* a. Most similar article\n",
    "    \n",
    "* b. Random articles from the same cluster\n",
    "\n",
    "__3. Similarity-based reco with filter on geo and topic__\n",
    "\n",
    "__4. How to use the title__\n",
    "\n",
    "__5. Entity-based recommandation__  \n",
    "\n",
    "\n"
   ]
  },
  {
   "cell_type": "markdown",
   "metadata": {},
   "source": [
    "### Preliminaries"
   ]
  },
  {
   "cell_type": "markdown",
   "metadata": {},
   "source": [
    "A. Packages"
   ]
  },
  {
   "cell_type": "code",
   "execution_count": 1,
   "metadata": {},
   "outputs": [
    {
     "name": "stdout",
     "output_type": "stream",
     "text": [
      "fr_core_news_sm loaded\n"
     ]
    }
   ],
   "source": [
    "## Classic packages ##\n",
    "\n",
    "import os \n",
    "import pandas as pd\n",
    "import matplotlib.pyplot as plt\n",
    "import numpy as np\n",
    "from collections import Counter\n",
    "import random \n",
    "random.seed(a=2905) # set random seed \n",
    "import pickle\n",
    "import re\n",
    "from scipy import stats\n",
    "from time import time\n",
    "\n",
    "## NLP packages ##\n",
    "\n",
    "import gensim\n",
    "from gensim import corpora\n",
    "\n",
    "from wordcloud import WordCloud\n",
    "\n",
    "import spacy\n",
    "try: \n",
    "    print(\"fr_core_news_sm loaded\")\n",
    "    nlp = spacy.load(\"fr_core_news_sm\") # load pre-trained models for French\n",
    "except:\n",
    "    print(\"fr loaded\")\n",
    "    nlp=spacy.load('fr') # fr calls fr_core_news_sm \n",
    "from spacy.lang.fr import French\n",
    "\n",
    "import nltk\n",
    "from nltk.corpus import wordnet as wn\n",
    "from nltk.stem.wordnet import WordNetLemmatizer # not adapted to French?\n",
    "from nltk.stem.snowball import FrenchStemmer # already something \n",
    "\n",
    "## ML with sklearn ##\n",
    "\n",
    "from sklearn.feature_extraction.text import TfidfTransformer, CountVectorizer, TfidfVectorizer \n",
    "\n",
    "from sklearn.pipeline import Pipeline\n",
    "from sklearn.decomposition import PCA\n",
    "from sklearn.preprocessing import StandardScaler, MinMaxScaler\n",
    "\n",
    "from sklearn.linear_model import LogisticRegression\n",
    "from sklearn.naive_bayes import GaussianNB\n",
    "from sklearn.ensemble import RandomForestClassifier\n",
    "from sklearn.svm import LinearSVC, SVC\n",
    "import sklearn.cluster\n",
    "from sklearn.cluster import KMeans\n",
    "from sklearn.model_selection import GridSearchCV, RandomizedSearchCV, StratifiedShuffleSplit\n",
    "from sklearn.model_selection import cross_val_score, cross_validate\n",
    "\n",
    "from sklearn.base import TransformerMixin\n",
    "from sklearn.compose import make_column_selector\n",
    "\n",
    "from sklearn.metrics import classification_report\n",
    "from sklearn.metrics import silhouette_score"
   ]
  },
  {
   "cell_type": "markdown",
   "metadata": {},
   "source": [
    "B. Data and models\n",
    "\n",
    "* Dataset with Past articles = our database for article recommandation\n",
    "\n",
    "* User input = some recent article manually picked on the Internet\n",
    "\n",
    "We need: \n",
    "\n",
    "* tfidf model to transform the article body --> saved pipeline \n",
    "* models for geo and topic classification --> saved pipeline\n",
    "* cosine distance for basic comparison --> python\n",
    "* kmeans model for clustering --> still to save\n"
   ]
  },
  {
   "cell_type": "code",
   "execution_count": 2,
   "metadata": {},
   "outputs": [],
   "source": [
    "# tfidfs used for clustering\n",
    "\n",
    "with open('tfidf_vectorizer_base', 'rb') as file:\n",
    "    tfidf_vectorizer_base = pickle.load(file)\n",
    "\n",
    "with open('tfidf_vectorizer_vocab', 'rb') as file:\n",
    "    tfidf_vectorizer_vocab = pickle.load(file)"
   ]
  },
  {
   "cell_type": "code",
   "execution_count": 3,
   "metadata": {},
   "outputs": [],
   "source": [
    "# Load pipelines from saved pickle files\n",
    "\n",
    "\n",
    "with open('best_topic_lr_basic_vocab', 'rb') as file:\n",
    "    best_topic_lr_basic_vocab = pickle.load(file)\n",
    "\n",
    "with open('best_topic_lr_basic_vocab_l2', 'rb') as file:\n",
    "    best_topic_lr_basic_vocab_l2 = pickle.load(file)\n",
    "    \n",
    "with open('best_topic_rf_basic_vocab', 'rb') as file:\n",
    "    best_topic_rf_basic_vocab = pickle.load(file)\n",
    "\n",
    "with open('best_geo_rf_entity_vocab', 'rb') as file:\n",
    "    best_geo_rf_entity_vocab = pickle.load(file)\n",
    "    \n"
   ]
  },
  {
   "cell_type": "code",
   "execution_count": 4,
   "metadata": {},
   "outputs": [
    {
     "name": "stdout",
     "output_type": "stream",
     "text": [
      "{0: 'afr', 1: 'as', 2: 'eu', 3: 'fr', 4: 'lat', 5: 'me', 6: 'spa', 7: 'usa', 8: 'wo'}\n",
      "{0: 'cu', 1: 'eco', 2: 'ju', 3: 'mi', 4: 'po', 5: 'sc', 6: 'so', 7: 'spo'}\n"
     ]
    }
   ],
   "source": [
    "# topic codes\n",
    "\n",
    "with open('geo_code_dic', 'rb') as file:\n",
    "    geo_code_dic = pickle.load(file)\n",
    "    \n",
    "with open('topic_code_dic', 'rb') as file:\n",
    "    topic_code_dic = pickle.load(file)\n",
    "    \n",
    "print(geo_code_dic)\n",
    "print(topic_code_dic)"
   ]
  },
  {
   "cell_type": "code",
   "execution_count": 5,
   "metadata": {},
   "outputs": [
    {
     "data": {
      "text/html": [
       "<div>\n",
       "<style scoped>\n",
       "    .dataframe tbody tr th:only-of-type {\n",
       "        vertical-align: middle;\n",
       "    }\n",
       "\n",
       "    .dataframe tbody tr th {\n",
       "        vertical-align: top;\n",
       "    }\n",
       "\n",
       "    .dataframe thead th {\n",
       "        text-align: right;\n",
       "    }\n",
       "</style>\n",
       "<table border=\"1\" class=\"dataframe\">\n",
       "  <thead>\n",
       "    <tr style=\"text-align: right;\">\n",
       "      <th></th>\n",
       "      <th>Unnamed: 0</th>\n",
       "      <th>Unnamed: 0.1</th>\n",
       "      <th>year</th>\n",
       "      <th>title</th>\n",
       "      <th>text</th>\n",
       "      <th>url</th>\n",
       "      <th>geo</th>\n",
       "      <th>topic</th>\n",
       "      <th>geo_code</th>\n",
       "      <th>topic_code</th>\n",
       "    </tr>\n",
       "  </thead>\n",
       "  <tbody>\n",
       "    <tr>\n",
       "      <th>0</th>\n",
       "      <td>0</td>\n",
       "      <td>0</td>\n",
       "      <td>1988</td>\n",
       "      <td>Tintin dans l'espace</td>\n",
       "      <td>Trois semaines à bord de la station soviétique...</td>\n",
       "      <td>https://www.lexpress.fr/informations/tintin-da...</td>\n",
       "      <td>fr</td>\n",
       "      <td>sc</td>\n",
       "      <td>3</td>\n",
       "      <td>5</td>\n",
       "    </tr>\n",
       "    <tr>\n",
       "      <th>1</th>\n",
       "      <td>1</td>\n",
       "      <td>1</td>\n",
       "      <td>1988</td>\n",
       "      <td>Le faux suicide de Robert Boulin</td>\n",
       "      <td>1979 : son corps est découvert en forêt de Ram...</td>\n",
       "      <td>https://www.lexpress.fr/actualite/politique/le...</td>\n",
       "      <td>fr</td>\n",
       "      <td>ju</td>\n",
       "      <td>3</td>\n",
       "      <td>2</td>\n",
       "    </tr>\n",
       "    <tr>\n",
       "      <th>2</th>\n",
       "      <td>2</td>\n",
       "      <td>2</td>\n",
       "      <td>1988</td>\n",
       "      <td>Des pierres contre les certitudes</td>\n",
       "      <td>Rideaux de fer baissés, silhouettes furtives, ...</td>\n",
       "      <td>https://www.lexpress.fr/actualite/monde/proche...</td>\n",
       "      <td>me</td>\n",
       "      <td>po</td>\n",
       "      <td>5</td>\n",
       "      <td>4</td>\n",
       "    </tr>\n",
       "    <tr>\n",
       "      <th>3</th>\n",
       "      <td>3</td>\n",
       "      <td>3</td>\n",
       "      <td>1988</td>\n",
       "      <td>Otages: soudain, mercredi soir...</td>\n",
       "      <td>\" Je lui ai dit: \"Ça suffit\", et j'ai raccroch...</td>\n",
       "      <td>https://www.lexpress.fr/informations/otages-so...</td>\n",
       "      <td>me</td>\n",
       "      <td>ju</td>\n",
       "      <td>5</td>\n",
       "      <td>2</td>\n",
       "    </tr>\n",
       "    <tr>\n",
       "      <th>4</th>\n",
       "      <td>4</td>\n",
       "      <td>4</td>\n",
       "      <td>1988</td>\n",
       "      <td>Les secrets de la planète rouge</td>\n",
       "      <td>S'il existe, dans le système solaire, un seul ...</td>\n",
       "      <td>https://www.lexpress.fr/actualite/sciences/les...</td>\n",
       "      <td>spa</td>\n",
       "      <td>sc</td>\n",
       "      <td>6</td>\n",
       "      <td>5</td>\n",
       "    </tr>\n",
       "  </tbody>\n",
       "</table>\n",
       "</div>"
      ],
      "text/plain": [
       "   Unnamed: 0  Unnamed: 0.1  year                              title  \\\n",
       "0           0             0  1988               Tintin dans l'espace   \n",
       "1           1             1  1988   Le faux suicide de Robert Boulin   \n",
       "2           2             2  1988  Des pierres contre les certitudes   \n",
       "3           3             3  1988  Otages: soudain, mercredi soir...   \n",
       "4           4             4  1988    Les secrets de la planète rouge   \n",
       "\n",
       "                                                text  \\\n",
       "0  Trois semaines à bord de la station soviétique...   \n",
       "1  1979 : son corps est découvert en forêt de Ram...   \n",
       "2  Rideaux de fer baissés, silhouettes furtives, ...   \n",
       "3  \" Je lui ai dit: \"Ça suffit\", et j'ai raccroch...   \n",
       "4  S'il existe, dans le système solaire, un seul ...   \n",
       "\n",
       "                                                 url  geo topic  geo_code  \\\n",
       "0  https://www.lexpress.fr/informations/tintin-da...   fr    sc         3   \n",
       "1  https://www.lexpress.fr/actualite/politique/le...   fr    ju         3   \n",
       "2  https://www.lexpress.fr/actualite/monde/proche...   me    po         5   \n",
       "3  https://www.lexpress.fr/informations/otages-so...   me    ju         5   \n",
       "4  https://www.lexpress.fr/actualite/sciences/les...  spa    sc         6   \n",
       "\n",
       "   topic_code  \n",
       "0           5  \n",
       "1           2  \n",
       "2           4  \n",
       "3           2  \n",
       "4           5  "
      ]
     },
     "execution_count": 5,
     "metadata": {},
     "output_type": "execute_result"
    }
   ],
   "source": [
    "labeled_df=pd.read_csv(\"labeled_articles_clean.csv\")\n",
    "labeled_df.head()"
   ]
  },
  {
   "cell_type": "code",
   "execution_count": 6,
   "metadata": {},
   "outputs": [
    {
     "data": {
      "text/html": [
       "<div>\n",
       "<style scoped>\n",
       "    .dataframe tbody tr th:only-of-type {\n",
       "        vertical-align: middle;\n",
       "    }\n",
       "\n",
       "    .dataframe tbody tr th {\n",
       "        vertical-align: top;\n",
       "    }\n",
       "\n",
       "    .dataframe thead th {\n",
       "        text-align: right;\n",
       "    }\n",
       "</style>\n",
       "<table border=\"1\" class=\"dataframe\">\n",
       "  <thead>\n",
       "    <tr style=\"text-align: right;\">\n",
       "      <th></th>\n",
       "      <th>title</th>\n",
       "      <th>text</th>\n",
       "      <th>url</th>\n",
       "    </tr>\n",
       "  </thead>\n",
       "  <tbody>\n",
       "    <tr>\n",
       "      <th>0</th>\n",
       "      <td>« L’Ickabog », de J. K. Rowling : le triste ro...</td>\n",
       "      <td>C’est l’histoire d’un conte de fées qui se tra...</td>\n",
       "      <td>https://www.lemonde.fr/livres/article/2020/12/...</td>\n",
       "    </tr>\n",
       "    <tr>\n",
       "      <th>1</th>\n",
       "      <td>Covid-19 en France : Jean Castex expose la str...</td>\n",
       "      <td>Le premier ministre doit présenter la stratégi...</td>\n",
       "      <td>https://www.lemonde.fr/planete/article/2020/12...</td>\n",
       "    </tr>\n",
       "    <tr>\n",
       "      <th>2</th>\n",
       "      <td>Claude Guéant mis en examen pour « association...</td>\n",
       "      <td>L’ex-ministre de l’intérieur était déjà mis en...</td>\n",
       "      <td>https://www.lemonde.fr/societe/article/2020/12...</td>\n",
       "    </tr>\n",
       "    <tr>\n",
       "      <th>3</th>\n",
       "      <td>Pédocriminalité : quinze ans de réclusion requ...</td>\n",
       "      <td>L’homme de 70 ans comparait à huis clos pour r...</td>\n",
       "      <td>https://www.lemonde.fr/societe/article/2020/12...</td>\n",
       "    </tr>\n",
       "    <tr>\n",
       "      <th>4</th>\n",
       "      <td>Le prix littéraire Interallié décerné à Irène ...</td>\n",
       "      <td>L’autrice, qui raconte les suites du meurtre d...</td>\n",
       "      <td>https://www.lemonde.fr/culture/article/2020/12...</td>\n",
       "    </tr>\n",
       "  </tbody>\n",
       "</table>\n",
       "</div>"
      ],
      "text/plain": [
       "                                               title  \\\n",
       "0  « L’Ickabog », de J. K. Rowling : le triste ro...   \n",
       "1  Covid-19 en France : Jean Castex expose la str...   \n",
       "2  Claude Guéant mis en examen pour « association...   \n",
       "3  Pédocriminalité : quinze ans de réclusion requ...   \n",
       "4  Le prix littéraire Interallié décerné à Irène ...   \n",
       "\n",
       "                                                text  \\\n",
       "0  C’est l’histoire d’un conte de fées qui se tra...   \n",
       "1  Le premier ministre doit présenter la stratégi...   \n",
       "2  L’ex-ministre de l’intérieur était déjà mis en...   \n",
       "3  L’homme de 70 ans comparait à huis clos pour r...   \n",
       "4  L’autrice, qui raconte les suites du meurtre d...   \n",
       "\n",
       "                                                 url  \n",
       "0  https://www.lemonde.fr/livres/article/2020/12/...  \n",
       "1  https://www.lemonde.fr/planete/article/2020/12...  \n",
       "2  https://www.lemonde.fr/societe/article/2020/12...  \n",
       "3  https://www.lemonde.fr/societe/article/2020/12...  \n",
       "4  https://www.lemonde.fr/culture/article/2020/12...  "
      ]
     },
     "execution_count": 6,
     "metadata": {},
     "output_type": "execute_result"
    }
   ],
   "source": [
    "sample_articles=pd.read_excel(\"sample_articles.xlsx\")\n",
    "sample_articles.head()"
   ]
  },
  {
   "cell_type": "markdown",
   "metadata": {},
   "source": [
    "## 1. Geo and Topic prediction "
   ]
  },
  {
   "cell_type": "code",
   "execution_count": 7,
   "metadata": {},
   "outputs": [
    {
     "name": "stderr",
     "output_type": "stream",
     "text": [
      "[Parallel(n_jobs=1)]: Using backend SequentialBackend with 1 concurrent workers.\n",
      "[Parallel(n_jobs=1)]: Done 216 out of 216 | elapsed:    0.0s finished\n"
     ]
    }
   ],
   "source": [
    "pred_geo=best_geo_rf_entity_vocab.predict(sample_articles.text)"
   ]
  },
  {
   "cell_type": "code",
   "execution_count": 8,
   "metadata": {},
   "outputs": [
    {
     "name": "stdout",
     "output_type": "stream",
     "text": [
      "['fr', 'fr', 'fr', 'fr', 'fr', 'fr']\n"
     ]
    }
   ],
   "source": [
    "pred_geo_labels = [geo_code_dic[x] for x in pred_geo]\n",
    "print(pred_geo_labels)"
   ]
  },
  {
   "cell_type": "code",
   "execution_count": 9,
   "metadata": {},
   "outputs": [
    {
     "name": "stdout",
     "output_type": "stream",
     "text": [
      "['po', 'po', 'po', 'eco', 'eco', 'eco']\n"
     ]
    }
   ],
   "source": [
    "pred_topic = best_topic_lr_basic_vocab.predict(sample_articles.text)\n",
    "pred_topic_labels = [topic_code_dic[x] for x in pred_topic]\n",
    "print(pred_topic_labels)"
   ]
  },
  {
   "cell_type": "markdown",
   "metadata": {},
   "source": [
    "## 2. Basic reco based on article body similarity\n",
    "\n"
   ]
  },
  {
   "cell_type": "code",
   "execution_count": null,
   "metadata": {},
   "outputs": [],
   "source": []
  }
 ],
 "metadata": {
  "kernelspec": {
   "display_name": "Python 3",
   "language": "python",
   "name": "python3"
  },
  "language_info": {
   "codemirror_mode": {
    "name": "ipython",
    "version": 3
   },
   "file_extension": ".py",
   "mimetype": "text/x-python",
   "name": "python",
   "nbconvert_exporter": "python",
   "pygments_lexer": "ipython3",
   "version": "3.6.7"
  }
 },
 "nbformat": 4,
 "nbformat_minor": 2
}
