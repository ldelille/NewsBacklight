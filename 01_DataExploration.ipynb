{
 "cells": [
  {
   "cell_type": "markdown",
   "metadata": {},
   "source": [
    "# Data Exploration\n",
    "\n",
    "The goal of this notebook is to get a closer look at the news articles and grasp a better understanding of their content: repartition across time, topics, style etc.\n",
    "\n",
    "__Contents__\n",
    "\n",
    "Imports\n",
    "\n",
    "1. A few statistics\n",
    "\n",
    "2. Getting a closer look at the text"
   ]
  },
  {
   "cell_type": "markdown",
   "metadata": {},
   "source": [
    "__Imports__"
   ]
  },
  {
   "cell_type": "code",
   "execution_count": 7,
   "metadata": {},
   "outputs": [],
   "source": [
    "# packages\n",
    "import os \n",
    "import pandas as pd\n",
    "import matplotlib.pyplot as plt\n",
    "import numpy as np\n",
    "from collections import Counter"
   ]
  },
  {
   "cell_type": "code",
   "execution_count": 3,
   "metadata": {},
   "outputs": [],
   "source": [
    "# data\n",
    "news_df=pd.read_csv(\"./articles.csv\")"
   ]
  },
  {
   "cell_type": "markdown",
   "metadata": {},
   "source": [
    "## 1. A few statistics\n",
    "\n",
    "Most articles were published between 1990 and 1999. "
   ]
  },
  {
   "cell_type": "code",
   "execution_count": 27,
   "metadata": {},
   "outputs": [
    {
     "name": "stdout",
     "output_type": "stream",
     "text": [
      "Total number of articles:  726\n"
     ]
    }
   ],
   "source": [
    "print(\"Total number of articles: \", len(news_df))"
   ]
  },
  {
   "cell_type": "code",
   "execution_count": 6,
   "metadata": {},
   "outputs": [
    {
     "data": {
      "text/plain": [
       "array([[<matplotlib.axes._subplots.AxesSubplot object at 0x7f8a6aafc5c0>]],\n",
       "      dtype=object)"
      ]
     },
     "execution_count": 6,
     "metadata": {},
     "output_type": "execute_result"
    },
    {
     "data": {
      "image/png": "[encoded data removed]",
      "text/plain": [
       "<Figure size 432x288 with 1 Axes>"
      ]
     },
     "metadata": {
      "needs_background": "light"
     },
     "output_type": "display_data"
    }
   ],
   "source": [
    "# histogram: number of articles for each year\n",
    "news_df.hist('year')"
   ]
  },
  {
   "cell_type": "markdown",
   "metadata": {},
   "source": [
    "Articles have a broad range of lengths.  However most of the texts are below 5000 words."
   ]
  },
  {
   "cell_type": "code",
   "execution_count": 26,
   "metadata": {},
   "outputs": [
    {
     "name": "stdout",
     "output_type": "stream",
     "text": [
      "Minimum length of a text: 301 words\n",
      "Maximum length of a text: 37701 words\n",
      "Average length of a text: 5630 words\n",
      "Standard deviation:       5688 words\n"
     ]
    },
    {
     "data": {
      "text/plain": [
       "[]"
      ]
     },
     "execution_count": 26,
     "metadata": {},
     "output_type": "execute_result"
    },
    {
     "data": {
      "image/png": "[encoded data removed]",
      "text/plain": [
       "<Figure size 432x288 with 1 Axes>"
      ]
     },
     "metadata": {
      "needs_background": "light"
     },
     "output_type": "display_data"
    }
   ],
   "source": [
    "# article length in words\n",
    "\n",
    "# min, max, mean, avg, standard deviation\n",
    "text_length=news_df['text'].apply(lambda x:len(x))\n",
    "print(\"Minimum length of a text: %s words\" %min(text_length))\n",
    "print(\"Maximum length of a text: %s words\" %max(text_length))\n",
    "print(\"Average length of a text: %4.f words\" %np.mean(text_length))\n",
    "print(\"Standard deviation:       %4.f words\" %np.std(text_length))\n",
    "\n",
    "# hist\n",
    "plt.hist(text_length, bins=10, cumulative=True, label=\"cumulated\")\n",
    "plt.hist(text_length, bins=10, color='y', label = \"raw\") \n",
    "plt.legend()\n",
    "plt.plot()"
   ]
  },
  {
   "cell_type": "markdown",
   "metadata": {},
   "source": [
    "## 2. Getting a closer look at the text"
   ]
  },
  {
   "cell_type": "code",
   "execution_count": 32,
   "metadata": {},
   "outputs": [
    {
     "name": "stdout",
     "output_type": "stream",
     "text": [
      "('de', 34612)\n",
      "('la', 18270)\n",
      "('le', 13652)\n",
      "('à', 12882)\n",
      "('les', 12832)\n",
      "('des', 10497)\n",
      "('et', 10299)\n",
      "('en', 7939)\n",
      "('du', 7554)\n",
      "('un', 6219)\n",
      "('que', 5248)\n",
      "('qui', 5044)\n",
      "('dans', 4883)\n",
      "('une', 4639)\n",
      "('pour', 4361)\n",
      "('a', 4294)\n",
      "('au', 3890)\n",
      "('par', 3756)\n",
      "('est', 3712)\n",
      "('pas', 3646)\n"
     ]
    }
   ],
   "source": [
    "# most frequent words\n",
    "words=[]\n",
    "for t in news_df.text:\n",
    "    words+=t.split()\n",
    "    \n",
    "c=Counter(words)\n",
    "for w in c.most_common(20):\n",
    "    print(w)"
   ]
  },
  {
   "cell_type": "markdown",
   "metadata": {},
   "source": [
    "Necissity of cleaning and preprocessing the data before going any further: the words we have just obtained should be considered as stopwords! They do not bring any useful information about the actual content of the articles."
   ]
  },
  {
   "cell_type": "code",
   "execution_count": null,
   "metadata": {},
   "outputs": [],
   "source": [
    "# idea : wordcloud --> after preprocessing"
   ]
  },
  {
   "cell_type": "markdown",
   "metadata": {},
   "source": [
    "# 3. Preprocessing\n",
    "\n",
    "to do "
   ]
  },
  {
   "cell_type": "code",
   "execution_count": null,
   "metadata": {},
   "outputs": [],
   "source": []
  }
 ],
 "metadata": {
  "kernelspec": {
   "display_name": "Python 3",
   "language": "python",
   "name": "python3"
  },
  "language_info": {
   "codemirror_mode": {
    "name": "ipython",
    "version": 3
   },
   "file_extension": ".py",
   "mimetype": "text/x-python",
   "name": "python",
   "nbconvert_exporter": "python",
   "pygments_lexer": "ipython3",
   "version": "3.6.7"
  }
 },
 "nbformat": 4,
 "nbformat_minor": 2
}
