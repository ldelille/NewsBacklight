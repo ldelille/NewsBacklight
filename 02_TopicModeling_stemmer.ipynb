{
 "cells": [
  {
   "cell_type": "markdown",
   "metadata": {},
   "source": [
    "# Topic Modeling\n",
    "\n",
    "The goal of this notebook is two-fold:\n",
    "* identify the main topics of the corpus through LDA and clustering (unsupervised approach)\n",
    "* train a text classifier based on these topics (supervised learning).\n",
    "\n",
    "### Contents\n",
    "\n",
    "__Preliminaries__\n",
    "* a. Overview of text modeling techniques\n",
    "* b. Imports\n",
    "\n",
    "__1. LDA__\n",
    "\n",
    "__2. Clustering__\n",
    "* a. Tf-Idf for Clustering\n",
    "* b. K-Means\n",
    "* c. DBSCAN\n",
    "\n",
    "__3. Supervised topic classifiers__\n",
    "\n",
    "What's next"
   ]
  },
  {
   "cell_type": "markdown",
   "metadata": {},
   "source": [
    "# Preliminaries"
   ]
  },
  {
   "cell_type": "markdown",
   "metadata": {},
   "source": [
    "__a. Overview of text modeling techniques__\n",
    "\n",
    "* [LDA](https://towardsdatascience.com/end-to-end-topic-modeling-in-python-latent-dirichlet-allocation-lda-35ce4ed6b3e0)\n",
    "\n",
    "* Clustering. In order to build clusters we have to transform our news articles into a numerical representation that models can handle. Here we go for old good tf-idf vectors (we will test more state-of-the-art techniques in the next steps). Algorithms: K-Means and DBSCAN seem like the most relevant options to begin with.\n",
    "\n",
    "* ?"
   ]
  },
  {
   "cell_type": "markdown",
   "metadata": {},
   "source": [
    "__b. Imports__\n",
    "\n",
    "If you don't have already done so, please download these NLTK dependancies by running the following lines:\n",
    "\n",
    "> nltk.download('wordnet')\n",
    "\n",
    "> nltk.download('stopwords')"
   ]
  },
  {
   "cell_type": "code",
   "execution_count": 1,
   "metadata": {},
   "outputs": [
    {
     "name": "stdout",
     "output_type": "stream",
     "text": [
      "fr_core_news_sm loaded\n"
     ]
    }
   ],
   "source": [
    "# Classic packages\n",
    "\n",
    "import os \n",
    "import pandas as pd\n",
    "import matplotlib.pyplot as plt\n",
    "import numpy as np\n",
    "from collections import Counter\n",
    "import random \n",
    "random.seed(a=2905) # set random seed \n",
    "import pickle\n",
    "import re\n",
    "from scipy import stats\n",
    "from time import time\n",
    "\n",
    "# NLP packages\n",
    "\n",
    "import gensim\n",
    "from gensim import corpora\n",
    "\n",
    "import spacy\n",
    "try: \n",
    "    print(\"fr_core_news_sm loaded\")\n",
    "    nlp = spacy.load(\"fr_core_news_sm\") # load pre-trained models for French\n",
    "except:\n",
    "    print(\"fr loaded\")\n",
    "    nlp=spacy.load('fr') # fr calls fr_core_news_sm \n",
    "\n",
    "import nltk\n",
    "from nltk.corpus import wordnet as wn\n",
    "from nltk.stem.wordnet import WordNetLemmatizer # not adapted to French?\n",
    "from nltk.stem.snowball import FrenchStemmer # already something \n",
    "# --> Lemmatizer would be better --> use spaCy lemmatizer\n",
    "\n",
    "# ML with sklearn\n",
    "import sklearn.cluster\n",
    "from sklearn.feature_extraction.text import TfidfTransformer, CountVectorizer \n",
    "from sklearn.feature_extraction.text import  TfidfVectorizer\n",
    "from sklearn.pipeline import Pipeline\n",
    "from sklearn.linear_model import LogisticRegression\n",
    "from sklearn.naive_bayes import GaussianNB\n",
    "from sklearn.ensemble import RandomForestClassifier\n",
    "from sklearn.svm import LinearSVC\n",
    "from sklearn.metrics import classification_report\n",
    "from sklearn.model_selection import GridSearchCV, RandomizedSearchCV\n"
   ]
  },
  {
   "cell_type": "code",
   "execution_count": 2,
   "metadata": {},
   "outputs": [],
   "source": [
    "# data\n",
    "news_df=pd.read_csv(\"./articles.csv\")"
   ]
  },
  {
   "cell_type": "markdown",
   "metadata": {},
   "source": [
    "# 1. Latent Dirichlet Allocation (LDA)\n",
    "\n",
    "\n",
    "Main idea: Each document is represented as a distribution over topics, and each topic is represented as a distribution over words.\n",
    "Here we do not set the number of topics in advance, we rather set it arbitrarily like a threshold and see if the results are relevant.\n",
    "\n",
    "Code freely adapted from this [TDS post](https://towardsdatascience.com/topic-modelling-in-python-with-nltk-and-gensim-4ef03213cd21).\n",
    "\n"
   ]
  },
  {
   "cell_type": "markdown",
   "metadata": {},
   "source": [
    "__Text cleaning for LDA__\n",
    "\n",
    "* tokenize words (here using spacy parser for French)\n",
    "* lemmatize (using NLTK WordNetLemmatizer)\n",
    "* stopwords removal (using the default NLTK stopwords list for French)\n",
    "* apply pipeline on titles and text bodies"
   ]
  },
  {
   "cell_type": "code",
   "execution_count": 3,
   "metadata": {},
   "outputs": [
    {
     "name": "stdout",
     "output_type": "stream",
     "text": [
      "['il', 'était', 'une', 'fois', 'dans', \"l'\", 'ouest', ',', 'une', 'troupe', 'de', 'cowboys', 'intrépides', '.']\n",
      "['URL', '/', 'notebooks/02_topicmodeling.ipynb']\n",
      "['eva.feillet', 'student.ecp.fr']\n",
      "['all']\n"
     ]
    }
   ],
   "source": [
    "## spacy LDA\n",
    "\n",
    "#spacy.load('fr')\n",
    "from spacy.lang.fr import French\n",
    "parser = French()\n",
    "\n",
    "def tokenize(text):\n",
    "    lda_tokens = []\n",
    "    tokens = parser(text)\n",
    "    for token in tokens:\n",
    "        if token.orth_.isspace():\n",
    "            continue\n",
    "        elif token.like_url:\n",
    "            lda_tokens.append('URL')\n",
    "        elif '@' in str(token):\n",
    "            lda_tokens+=str(token).split('@')\n",
    "        else:\n",
    "            lda_tokens.append(token.lower_)\n",
    "    return [t for t in lda_tokens if len(str(t))>0]\n",
    "\n",
    "# test\n",
    "# we see it's basically a conversion of the words from the split sentence into lower case\n",
    "# but actually there is more under the hood because of the use of a parser\n",
    "print(tokenize(\"Il était une fois dans l'Ouest, une troupe de cowboys intrépides.\"))\n",
    "print(tokenize('http://localhost:8888/notebooks/02_TopicModeling.ipynb'))\n",
    "print(tokenize('eva.feillet@student.ecp.fr'))\n",
    "print(tokenize('@all'))"
   ]
  },
  {
   "cell_type": "code",
   "execution_count": 4,
   "metadata": {},
   "outputs": [
    {
     "name": "stdout",
     "output_type": "stream",
     "text": [
      "{'mes', 'étés', 'deux', 'serons', 'quarante', 'notre', 'cet', 'seriez', 'sont', 'eusse', 'y', 'ait', 'soit', 'celui-là', 'cinq', 'six', 'fussiez', 'après', 'où', 's', 'serez', 'serait', 'quatorze', 'sois', 'trente', 'c', 'seraient', 'vos', 'qui', 'eût', 'aurais', 'moi', 'quoi', 'ma', 'votre', 'étants', 'te', 'ou', 'au', 'ainsi', 'donc', 'eux', 'seras', 'par', 'fus', 'auras', 'eurent', 'être', 'avoir', 'toi', 'elle', 'huit', 'serai', 'faire', 'or', 'mon', 'avant', 'leur', 'aient', 'aura', 'cent', 'sa', 'étaient', 'trois', 'sur', 'avez', 'avait', 'alors', 'quatre', 'ayons', 'eûmes', 'soyons', 't', 'ayants', 'que', 'en', 'celui-ci', 'était', 'aurez', 'son', 'ta', 'eussiez', 'étant', 'ayantes', 'soyez', 'avaient', 'auront', 'même', 'fûtes', 'fussent', 'le', 'fussions', 'ayant', 'fût', 'eussions', 'avais', 'me', 'furent', 'eu', 'ai', 'onze', 'un', 'dans', 'de', 'fusse', 'aurons', 'les', 'eusses', 'fut', 'étées', 'on', 'aviez', 'sommes', 'aies', 'eut', 'vingt', 'ce', 'auriez', 'ces', 'nos', 'êtes', 'du', 'ils', 'eue', 'quand', 'neuf', 'serions', 'aurai', 'eussent', 'et', 'ton', 'cinquante', 'avons', 'ont', 'avec', 'vous', 'ni', 'soient', 'sept', 'la', 'étée', 'ne', 'nous', 'ayez', 'celui', 'fusses', 'autre', 'fûmes', 'ses', 'ayante', 'd', 'treize', 'étiez', 'eûtes', 'depuis', 'soixante', 'auraient', 'il', 'aux', 'tu', 'aie', 'seize', 'pour', 'n', 'sera', 'étante', 'mais', 'pas', 'cette', 'je', 'car', 'aurions', 'se', 'l', 'es', 'étions', 'étais', 'aurait', 'une', 'est', 'serais', 'suis', 'dix', 'quinze', 'tes', 'j', 'douze', 'eus', 'eues', 'avions', 'seront', 'des', 'été', 'lui', 'à', 'comme', 'm', 'qu', 'as', 'étantes'}\n"
     ]
    }
   ],
   "source": [
    "# stopwords removal\n",
    "\n",
    "#v0 : basic list\n",
    "fr_stop = set(nltk.corpus.stopwords.words('french'))\n",
    "\n",
    "#v1 : numbers\n",
    "my_fr_stop=fr_stop.union({'un' ,'deux','trois','quatre','cinq','six','sept','huit','neuf','dix',\n",
    "                          'onze', 'douze', 'treize','quatorze', 'quinze', 'seize', \n",
    "                          'vingt', 'trente', 'quarante', 'cinquante','soixante','cent'}, fr_stop)\n",
    "#v2 : conj + det + verbs\n",
    "my_fr_stop=my_fr_stop.union({'ce', 'celui', 'cette', 'cet', 'celui-là', 'celui-ci', \n",
    "                          'le', 'la', 'les', 'de', 'des', 'du',\n",
    "                          'mais', 'où', 'et', 'donc', 'or', 'ni', 'car', 'depuis', 'quand', 'que', 'qui', 'quoi',\n",
    "                          'ainsi', 'alors', 'avant', 'après', 'comme', \n",
    "                          'être', 'avoir', 'faire', \n",
    "                          'autre'})\n",
    "\n",
    "#'mille'  'million' 'milliard' 'billion' are not added to the stopwords list because they are more discriminative\n",
    "\n",
    "print(my_fr_stop)"
   ]
  },
  {
   "cell_type": "code",
   "execution_count": null,
   "metadata": {},
   "outputs": [
    {
     "name": "stdout",
     "output_type": "stream",
     "text": [
      "'python 3' => 'python'\n",
      "'python3' => 'python3'\n",
      "'1something' => '1something'\n",
      "'1 something' => 'something'\n",
      "'2' => ''\n",
      "'434' => ''\n",
      "'python 35' => 'python'\n",
      "'1 ' => ''\n",
      "' 232' => ''\n"
     ]
    }
   ],
   "source": [
    "# example: digit removal with regex\n",
    "words = ['python 3', 'python3', '1something', '1 something', '2', '434', 'python 35', '1 ', ' 232']\n",
    "for word in words:\n",
    "    print(\"'{}' => '{}'\".format(word, re.sub(r'\\b\\d+\\b', '', word).strip(' ')))\n"
   ]
  },
  {
   "cell_type": "markdown",
   "metadata": {},
   "source": [
    "We would prefer to use the lemmas over the stems because they tend to be more informative and closer to the actual root word."
   ]
  },
  {
   "cell_type": "code",
   "execution_count": null,
   "metadata": {},
   "outputs": [
    {
     "name": "stdout",
     "output_type": "stream",
     "text": [
      "\n",
      "Lemmas\n",
      "les --> le\n",
      "manifestations --> manifestation\n",
      "qui --> qui\n",
      "ont --> avoir\n",
      "agitées --> agiter\n",
      "la --> le\n",
      "France --> France\n",
      "ces --> ce\n",
      "derniers --> dernier\n",
      "mois --> mois\n",
      "\n",
      "Stems\n",
      "les --> le\n",
      "manifestations --> manifest\n",
      "qui --> qui\n",
      "ont --> ont\n",
      "agitées --> agit\n",
      "la --> la\n",
      "France --> franc\n",
      "ces --> ce\n",
      "derniers --> derni\n",
      "mois --> mois\n",
      "\n",
      "Lemmas\n",
      "Tintin --> tintin\n",
      "dans --> dans\n",
      "l' --> le\n",
      "espace --> espace\n",
      "a --> avoir\n",
      "quitté --> quitter\n",
      "la --> le\n",
      "France --> France\n",
      "il --> il\n",
      "n' --> n'\n",
      "aura --> avoir\n",
      "plus --> plus\n",
      "besoin --> besoin\n",
      "de --> de\n",
      "francs --> franc\n",
      "\n",
      "Stems\n",
      "Tintin --> tintin\n",
      "dans --> dan\n",
      "l'espace --> l'espac\n",
      "a --> a\n",
      "quitté --> quitt\n",
      "la --> la\n",
      "France --> franc\n",
      "il --> il\n",
      "n'aura --> n'aur\n",
      "plus --> plus\n",
      "besoin --> besoin\n",
      "de --> de\n",
      "francs --> franc\n"
     ]
    }
   ],
   "source": [
    "# Comparison: nltk french stemmer vs spacy french lemmatizer\n",
    "\n",
    "# spacy\n",
    "print(\"\\nLemmas\")\n",
    "doc = nlp(u\"les manifestations qui ont agitées la France ces derniers mois\")\n",
    "for token in doc:\n",
    "    print(token, '-->', token.lemma_)\n",
    "print(\"\\nStems\")\n",
    "stemmer = FrenchStemmer()\n",
    "for w in \"les manifestations qui ont agitées la France ces derniers mois\".split():\n",
    "    print(w, '-->', stemmer.stem(w))\n",
    "    \n",
    "## ?? espac / espace \n",
    "print(\"\\nLemmas\")\n",
    "doc = nlp(u\"Tintin dans l'espace a quitté la France il n'aura plus besoin de francs\")\n",
    "for token in doc:\n",
    "    print(token, '-->', token.lemma_)\n",
    "print(\"\\nStems\")\n",
    "stemmer = FrenchStemmer()\n",
    "for w in \"Tintin dans l'espace a quitté la France il n'aura plus besoin de francs\".split():\n",
    "    print(w, '-->', stemmer.stem(w))\n"
   ]
  },
  {
   "cell_type": "markdown",
   "metadata": {},
   "source": [
    "In fact there is some weird reproductibility issue happening with the spacy lemmatizer (see example with word \"espace\" repeated in a sentence). So in the end we go for the nltk French stemmer."
   ]
  },
  {
   "cell_type": "code",
   "execution_count": null,
   "metadata": {},
   "outputs": [
    {
     "name": "stdout",
     "output_type": "stream",
     "text": [
      "\n",
      "\n",
      "Remaining tokens :  ['tintin', 'espace', 'espace', 'espace']\n",
      "['tintin', 'espac', 'espace', 'espacer']\n",
      "\n",
      "\n",
      "Remaining tokens :  ['manifestations', 'agitées', 'france', 'derniers', 'mois']\n",
      "['manifestation', 'agité', 'france', 'dernier', 'mois']\n",
      "\n",
      "\n",
      "Remaining tokens :  ['semaines', 'station', 'soviétique', 'jean-loup', 'chrétien', 'premier', 'ouest-européen', 'sortir', 'espace', 'espace', 'tintin', 'espace']\n",
      "['semaine', 'station', 'soviétique', 'jean-loup', 'chrétien', 'premier', 'ouest-européen', 'sortir', 'espace', 'espace', 'tintin', 'espac']\n"
     ]
    }
   ],
   "source": [
    "# Preprocessing  routine\n",
    "\n",
    "def prepare_text_lemma(text):\n",
    "    \"\"\"\n",
    "    Input:\n",
    "    ------\n",
    "    text: string, raw text\n",
    "    \n",
    "    Output:\n",
    "    ------\n",
    "    tokens: list of string, tokenized, filtered and lemmatized words from the input text\n",
    "    \"\"\"\n",
    "    tokens = tokenize(text) # parsing, split and lower case\n",
    "    tokens=[re.sub(r'\\b\\d+\\b', '', token).strip(' ') for token in tokens] # get rid of digits\n",
    "    tokens = [token for token in tokens if len(token) > 3] # arbitrary length, +get rid of empty strings\n",
    "    tokens = [token for token in tokens if token not in my_fr_stop] # stopwords\n",
    "    print(\"Remaining tokens : \", tokens)\n",
    "    doc = nlp(' '.join(tokens)) # pave the way for spacy lemmatizer\n",
    "    tokens = [t.lemma_ for t in doc] # obtain lemmas\n",
    "    return tokens  \n",
    "\n",
    "print(\"\\n\")\n",
    "print(prepare_text_lemma(\"Tintin dans l'espace espace l'espace\"))\n",
    "print(\"\\n\")\n",
    "print(prepare_text_lemma(\"les manifestations qui ont agitées la France ces derniers mois\"))\n",
    "print(\"\\n\")\n",
    "print(prepare_text_lemma(\"semaines station soviétique jean-loup chrétien premier ouest-européen sortir dans l'espace espace Tintin dans l'espace\"))"
   ]
  },
  {
   "cell_type": "code",
   "execution_count": null,
   "metadata": {},
   "outputs": [
    {
     "name": "stdout",
     "output_type": "stream",
     "text": [
      "\n",
      "\n",
      "['tintin', 'espac', 'espac', 'espac']\n",
      "\n",
      "\n",
      "['manifest', 'agit', 'franc', 'derni', 'mois']\n",
      "\n",
      "\n",
      "['semain', 'station', 'soviet', 'jean-loup', 'chrétien', 'premi', 'ouest-européen', 'sort', 'espac', 'espac', 'tintin', 'espac']\n"
     ]
    }
   ],
   "source": [
    "def prepare_text_stem(text):\n",
    "    \"\"\"\n",
    "    Input:\n",
    "    ------\n",
    "    text: string, raw text\n",
    "    \n",
    "    Output:\n",
    "    ------\n",
    "    tokens: list of string, tokenized, filtered and lemmatized words from the input text\n",
    "    \"\"\"\n",
    "    tokens = tokenize(text) # split and lower case\n",
    "    tokens=[re.sub(r'\\b\\d+\\b', '', token).strip(' ') for token in tokens] # get rid of digits\n",
    "    tokens = [token for token in tokens if len(token) > 3] # arbitrary length, +get rid of empty strings\n",
    "    tokens = [token for token in tokens if token not in my_fr_stop] # stopwords\n",
    "    #print(\"Remaining tokens : \", tokens)\n",
    "    tokens = [stemmer.stem(token) for token in tokens] # obtain lemmas\n",
    "    return tokens  \n",
    "\n",
    "print(\"\\n\")\n",
    "print(prepare_text_stem(\"Tintin dans l'espace espace l'espace\"))\n",
    "print(\"\\n\")\n",
    "print(prepare_text_stem(\"les manifestations qui ont agitées la France ces derniers mois\"))\n",
    "print(\"\\n\")\n",
    "print(prepare_text_stem(\"semaines station soviétique jean-loup chrétien premier ouest-européen sortir dans l'espace espace Tintin dans l'espace\"))"
   ]
  },
  {
   "cell_type": "markdown",
   "metadata": {},
   "source": [
    "Finally. we apply this preprocessing routine to our corpus (titles+bodies)."
   ]
  },
  {
   "cell_type": "code",
   "execution_count": null,
   "metadata": {},
   "outputs": [
    {
     "name": "stdout",
     "output_type": "stream",
     "text": [
      "0    Tintin dans l'espace\n",
      "Name: title, dtype: object\n",
      "[['tintin', 'espac']]\n",
      "0    Trois semaines à bord de la station soviétique...\n",
      "Name: text, dtype: object\n",
      "['semain', 'bord', 'station', 'soviet', 'jean-loup', 'chrétien', 'premi', 'ouest-européen', 'sort', 'espac']\n"
     ]
    }
   ],
   "source": [
    "title_tokens = []\n",
    "text_tokens = []\n",
    "\n",
    "## Apply on titles ##\n",
    "\n",
    "for t in news_df.title:\n",
    "    tokens = prepare_text_stem(t)\n",
    "    title_tokens.append(tokens)\n",
    "        \n",
    "## Apply on titles ##\n",
    "\n",
    "for t in news_df.text:\n",
    "    tokens = prepare_text_stem(t)\n",
    "    text_tokens.append(tokens)\n",
    "\n",
    "print(news_df.title[:1])        \n",
    "print(title_tokens[:1])\n",
    "print(news_df.text[:1][:20])  \n",
    "print(text_tokens[0][:10])"
   ]
  },
  {
   "cell_type": "markdown",
   "metadata": {},
   "source": [
    "__Visualize results with a wordcloud__\n",
    "\n",
    "We can control the quality of our preprocessing by plotting a wordcloud.\n",
    "\n",
    "We are satisfied by the quality of the processed titles since most of the words we see are nouns eligible as key words to describe an article.\n",
    "There is still room for improvement  on the side of article bodies (we spot a few link words, noun articles and adverbs we could get rid of through the stopwords list).\n",
    "\n",
    "//*Eventuellement on enrichira la liste de stopwords pour éliminer ces mots. Cependant, comme ils sont communs et donc peu discriminants, on peut espérer que leur score tf-idf sera en général relativement bas, et donc qu'ils seront éliminés du vocabulaire par la suite.*//"
   ]
  },
  {
   "cell_type": "code",
   "execution_count": null,
   "metadata": {},
   "outputs": [
    {
     "data": {
      "image/png": "[encoded data removed]",
      "text/plain": [
       "<PIL.Image.Image image mode=RGB size=400x200 at 0x7FE7121E4B38>"
      ]
     },
     "execution_count": 10,
     "metadata": {},
     "output_type": "execute_result"
    }
   ],
   "source": [
    "# Import the wordcloud library\n",
    "from wordcloud import WordCloud\n",
    "# Join the different processed titles together.\n",
    "long_string = ','.join(list([' '.join(word_list_i) for word_list_i in title_tokens]))\n",
    "# Create a WordCloud object\n",
    "wordcloud = WordCloud(background_color=\"white\", max_words=5000, contour_width=3, contour_color='steelblue')\n",
    "# Generate a word cloud\n",
    "wordcloud.generate(long_string)\n",
    "# Visualize the word cloud\n",
    "wordcloud.to_image()"
   ]
  },
  {
   "cell_type": "code",
   "execution_count": null,
   "metadata": {},
   "outputs": [
    {
     "data": {
      "image/png": "[encoded data removed]",
      "text/plain": [
       "<PIL.Image.Image image mode=RGB size=400x200 at 0x7FE7121EA198>"
      ]
     },
     "execution_count": 11,
     "metadata": {},
     "output_type": "execute_result"
    }
   ],
   "source": [
    "# Same for article bodies\n",
    "# Join the different processed texts together.\n",
    "long_string = ','.join(list([' '.join(word_list_i) for word_list_i in text_tokens]))\n",
    "# Create a WordCloud object\n",
    "wordcloud = WordCloud(background_color=\"white\", max_words=5000, contour_width=3, contour_color='steelblue')\n",
    "# Generate a word cloud\n",
    "wordcloud.generate(long_string)\n",
    "# Visualize the word cloud\n",
    "wordcloud.to_image()"
   ]
  },
  {
   "cell_type": "markdown",
   "metadata": {},
   "source": [
    "__Perform LDA with Gensim__\n",
    "\n",
    "Fixage arbitraire du nombre de topics, comme on fixerait arbitrairement k dans un k-means."
   ]
  },
  {
   "cell_type": "code",
   "execution_count": null,
   "metadata": {},
   "outputs": [],
   "source": [
    "dic_title = corpora.Dictionary(title_tokens)\n",
    "dic_text = corpora.Dictionary(text_tokens)\n",
    "corpus_title = [dic_title.doc2bow(token) for token in title_tokens]\n",
    "corpus_text = [dic_text.doc2bow(token) for token in text_tokens]\n",
    "\n",
    "pickle.dump(corpus_title, open('corpus_title.pkl', 'wb'))\n",
    "dic_title.save('dic_title.gensim')\n",
    "pickle.dump(corpus_title, open('corpus_text.pkl', 'wb'))\n",
    "dic_text.save('dic_text.gensim')"
   ]
  },
  {
   "cell_type": "code",
   "execution_count": null,
   "metadata": {},
   "outputs": [
    {
     "name": "stdout",
     "output_type": "stream",
     "text": [
      "['espac', 'tintin', 'boulin', 'faux', 'robert', 'suicid', 'certitud', 'contr', 'pierr', 'mercred', 'otag', 'soir', 'soudain', 'planet', 'roug', 'secret', 'abou', 'ammar', 'forc', 'march', 'champion', 'discret', 'olymp', 'quinon', 'alger', 'faillit', 'sangl', 'israël', 'mois', 'ébranl', 'homm', 'objet', 'pong', 'bess', 'georg', 'mort', 'pourquoi', 'africain', 'longu', 'mémoir', 'aid', 'malgr', 'tout', 'antigon', 'benaz', 'bhutto', 'janvi', 'pakistan', 'soupçon', 'triangl', 'campagn', 'ombre', 'darwin', 'tromp', 'dayan', 'symbol', 'div', 'impopulair', 'lead', 'péres', 'shimon', 'exclus', 'fin', 'penh', 'phnom', 'témoignag', 'expliqu', 'simon', 'veil', 'bureau', 'informat', 'livr', 'jérusalem', 'nouveau', 'seul', 'chopinet', 'mlle', 'express', 'paul', 'retrouv', 'touvi', 'nas', 'sous', 'tutel', 'agent', 'fauss', 'franc', 'star', 'vrais', 'complex', 'pinochet', 'san', 'challeng', 'dram', 'beineix', 'fait', 'tilt', 'coluch', 'nourrici', 'per', 'marchandag', 'rat', 'terror', 'enquêt', 'jug', 'reprend', 'espagn', 'goytisolo', 'sarrasin', 'attentat', 'blanco', 'carrero', 'décembr', 'avort', 'médecin', 'peur', 'pein', 'hors-la-loi', 'extrait', 'guerr', 'kippour', 'front', 'arafat', 'intronis', 'yass', 'femm', 'pouvoir', 'hearst', 'nouvel', 'patrici', 'épisod', 'appel', 'ambul', 'tir', 'feuilleton', 'dib', 'ethnologu', 'pascal', 'tribu', 'douc', 'manifest', 'novembr', 'retour', 'tchécoslovaqu', 'août', 'pologn', 'solidar', 'bocal', 'énigm', 'abbé', 'destin', 'sacr', 'capital', 'mar', 'ouvr', 'del', 'fuit', 'ozon', 'chadl', 'joker', 'faucon', 'têt', 'futur', 'oued', 'noiret', 'taverni', 'union', 'jour', 'pékin', 'tiananmen', 'droit', 'famin', 'château', 'havel', 'prison', 'vaclav', 'banquerout', 'mathieu', 'selon', 'pann', 'urss', 'revanch', 'serb', 'chargeur', 'réun', 'coup', 'jeun', 'enver', 'parad', 'chin', 'libert', 'typhon', 'enfant', 'saint-laurent', 'trist', 'yve', 'burguer', 'méthod', 'baton', 'carott', 'couet', 'degr', 'carthag', 'rêv', 'intemporel', 'chang', 'cris', 'japon', 'paysan', 'plouc', 'carrefour', 'scienc', 'conclus', 'heureux', 'liaison', 'croisad', 'mafi', 'papal', 'guignol', 'info', 'au-dessus', 'concerte', 'impossibl', 'recess', 'repons', 'ham', 'occup', 'territoir', 'hain', 'mill', 'normal', 'nuit', 'chiffr', 'querel', 'masquent', 'tarif', 'transparent', 'envah', 'europ', 'chomag', 'bien', 'comment', 'ger', 'imag', 'mammifer', 'éton', 'polit', 'social', 'limit', 'amour', 'reper', 'quel', 'étranger', 'euroscept', 'mont', 'sang', 'terr', 'fac', 'paix', 'atmospher', 'drôl', 'progres', 'rag', 'histoir', 'négoci', 'carton', 'jaun', 'tapi', 'agenc', 'assoc', 'consigny', 'directeur', 'lund', 'octobr', 'oper', 'publicit', 'thierry', 'bazar', 'econom', 'russ', 'compact', 'irest', 'tet', 'charlot', 'napp', 'parl', 'pouv', 'idyll', 'staccato', 'bours', 'apec', 'press', 'courri', 'lecteur', 'bois', 'vert', 'spirituel', 'cred', 'encor', 'lyon', 'tuil', 'découvert', 'indispens', 'las', 'hermon', 'michel', 'util', 'néglig', 'tort', 'bernard', 'madagascar1853', 'ucla', 'justic', 'prix', 'orgueil', 'franchis', 'heur', 'vérit', 'chaos', 'devon', 'victoir', 'afriqu', 'continent', 'miet', 'célin', 'l.-f.', 'nord', 'amer', 'capitain', 'grand', 'cameroun', 'deuxiem', 'cent', 'méti', 'cherchent', 'patron', 'repreneur', 'influenc', 'debat', 'interd', 'interet', 'taux', 'joyal', 'éternel', 'guiloineau', 'jean', 'mandel', 'nelson', 'implac', 'sant', 'intemper', 'temper', 'carnag', 'rével', 'renseign', 'cours', 'decodeur', 'méphisto', 'evalu', 'pet', 'sort', 'bor', 'eltsin', 'malad', 'dollar', 'baiss', 'gandois', 'salair', 'dijon', 'fêtard', 'italien', 'surmont', 'pantomim', 'port-au-princ', 'librair', 'impitoi', 'univer', 'sud-ouest', 'trêv', 'reten', 'embel', 'flaconnag', 'bless', 'dresd', 'licenc', 'priorit', 'reembauchag', 'salar', 'vagu', 'diplomat', 'quotidien', 'faill', 'perdr', 'exces', 'royaum', 'américain', 'etap', 'atteint', 'cim', 'minitel', 'diam', 'fantôm', 'asi', 'central', 'combourg', 'ceris', 'elle', 'levr', 'chant', 'dieux', 'yakout', 'astérix', 'theodor', 'zeldin', 'dilu', 'epope', 'eurotunnel', 'our', 'étreint', 'frangl', 'lexiqu', 'managerial', 'eternel', 'lumier', 'presqu', 'aéropostal', 'bouilloux', 'lafont', 'marcel', 'calvet', 'epuis', 'imprec', 'rol', 'choix', 'paris', 'banan', 'nabab', 'pay', 'island', 'kangaroo', 'revivr', 'combien', 'emploi', 'offre', 'stabilis', 'compt', 'légend', 'ancien', 'frem', 'essec', 'mard', 'suiss', 'feuill', 'impot', 'suiv', 'départ', 'apollo', 'mond', 'juillet', 'saut', 'désorm', 'misent', 'nigérian', 'lun', 'vivr', 'peupl', 'répress', 'alarm', 'faut', 'supprim', 'budapest', 'sartr', 'dout', 'semain', 'densit', 'implant', 'rebel', 'clef', 'psychanalys', 'bord', 'bollardi', 'combat', 'général', 'gagn', 'gourion', 'point', 'français', 'léon', 'mazurat', 'victim', 'edgar', 'morin', 'choreg', 'enjeu', 'médi', 'entre', 'racin', 'saveur', 'senteur', 'chanti', 'septennat', 'bon', 'dev', 'inégal', 'plais', 'syndic', 'apre', 'abbas', 'algerien', 'ferhat', 'utop', 'cabl', 'menac', 'satel', 'camp', 'horreur', 'naz', 'guet', 'tour', 'defic', 'rien', 'banlieu', 'vivi', 'suédois', 'humanitair', 'janin', 'ochojsk', 'pédagog', 'aim', 'financi', 'client', 'cultur', 'flamb', 'noum', 'vol', 'verbatim', 'cos', 'mutat', 'nostr', 'immigr', 'affair', 'révélon', 'budgetair', 'control', 'har', 'kir', 'class', 'mod', 'charismat', 'ministr', 'premi', 'québec', 'mensong', 'prisonni', 'dejouany', 'examen', 'berlin', 'doigt', 'cadr', 'etre', 'fier', 'partiel', 'temp', 'charl', 'matern', 'professeur', 'ren', 'rudigoz', 'sag', 'des', 'lorsqu', 'paraît', 'rebond', 'chirac', 'miroir', 'associ', 'collim', '-nous', 'joi', 'bien-êtr', 'combin', 'milliard', 'langag', 'exposit', 'leçon', 'societ', 'voir', 'émiss', 'film', 'pub', 'commun', 'jurassic', 'park', 'lénin', 'colon', 'préoccupent', 'khmer', 'bagarr', 'beb', 'budget', 'polici', 'écran', 'gent', 'interess', 'supporter', 'esclav', 'martyr', 'demenag', 'suff', 'sureffect', 'gaz', 'long', 'plus', 'syndicat', 'veulent', 'petit', 'phras', 'gustat', 'voyag', 'c?ur', 'françois', 'giroud', 'tigr', 'mauv', 'signal', 'brevet', 'vampir', 'ital', 'moral', 'ordre', 'dort', 'guid', 'jazz', 'vill', 'elys', 'étrang', 'antimissil', 'laser', 'orbit', 'concert', 'virtuel', 'héritag', 'rabin', 'institutionnel', 'trac', 'badint', 'eichmann', 'proces', 'kennedy', 'contingent', 'o.a.s.', 'programmm', 'etat', 'piao', 'otan', 'bark', 'rec', 'tu', 'témoin', 'chinois', 'culturel', 'regard', 'révolu', 'chapeau', 'rou', 'envoi', 'spécial', 'tres', 'jean-mar', 'vrai', 'lam', 'stepp', 'gag', 'volont', 'innov', 'vitamin', 'aller', 'jusqu', 'ponction', 'pourr', 'defient', 'gouvern', 'boom', 'tourism', 'accor', 'choc', 'strateg', \"'europ\", 'pari', 'tzigan', 'veut', 'engrenag', 'medecin', 'sall', 'irremplac', 'mendes', 'meurtri', 'accord', 'renault', 'volvo', 'cour', 'international', 'elizabeth', 'taylor', 'competitivit', 'prefer', 'productivit', 'directric', 'costum', 'marzotto', 'philipp', 'portr', 'séguin', 'disciplin', 'inflat', 'lesfranc', 'quiachang', 'minc', 'respons', 'ber', 'bercy', 'laiss', 'marqu', 'commiss', 'offens', 'orient', 'pacif', 'proch', 'empir', 'lev', 'men', 'soleil', 'train', 'exod', 'rout', 'allemand', 'regl', 'sauvag', 'tueur', 'attendent', 'islam', 'poid', 'gold', 'espoir', 'illus', 'dir', 'détect', 'marguerit', 'moïs', 'demain', 'kanaky', 'tjibaou', 'hont', 'vall', 'lettr', 'jam', 'yamit', 'cactus', 'sinaï', 'autr', 'jean-pierr', 'écart', 'acteur', 'désengag', 'avril', 'financ', 'retrait', 'ambiguït', 'mis', 'chez', 'holm', 'moin', 'sherlock', 'doubl', 'désastr', 'assassinat', 'bertrand', 'cambodg', 'goulag', 'bédouin', 'glac', 'commando', 'suit', 'henry', 'patrick', 'lrgoun', 'décid', 'euthanas', 'peut', 'schwartzenberg', 'condamn', 'augusto', 'cess', 'verdict', 'sham', 'soldat', 'second', 'bibliothequ', 'dumberto', 'arriv', 'pauvr', 'faim', 'génocid', 'burgos', 'biafr', \"jusqu'\", 'étern', 'parachut', 'guérilleros', 'téhéran', 'chut', 'strasbourg', 'cirqu', 'clignancourt', 'mesrin', 'giscard', 'espagnol', 'fili', 'goldman', 'fêt', 'lendemain', 'boulet', 'européen', 'khomein', 'occident', 'trembl', 'person', 'derni', 'dialogu', 'bomb', 'guêpi', 'fronti', 'demiss', 'dessous', 'hopital', 'attaqu', 'corrupt', 'jupp', 'confess', 'chien', 'manag', 'consult', 'danois', 'mariag', 'multipli', 'pression', 'cardin', 'galax', 'consomm', 'jou', 'repris', 'street', 'wall', 'cinem', 'grain', 'sabl', 'vatican', 'encycloped', 'ruptur', 'leur', 'dian', 'gloir', 'decollag', 'trop', 'armateur', 'barraquand', 'barreur', 'bollor', 'privilegi', 'bien-naîtr', 'devenu', 'expans', 'fevri', 'gener', 'pag', 'precarit', 'dictatur', 'narco', 'cannab', 'toxiqu', 'alleg', 'chambr', 'lou', 'ecolo', 'energ', 'rim', 'sydney', 'sien', 'toujour', 'trah', 'complic', 'elit', 'popul', 'armé', 'decus', 'patronat', 'bretagn', 'vendr', 'cohen', 'daniel', 'flammarion', 'nation', 'pauvret', 'richess', 'botan', 'tropical', 'clément', 'entourloup', 'judiciair', 'publiqu', 'aquitain', 'ben', 'brent', 'cur', 'jaffr', 'empoison', 'parquet', 'tardif', 'zel', 'libr', 'model', 'jack', 'maîtr', 'roserai', 'allemagn', 'eau', 'humeur', 'salaud', 'touch', 'frer', 'galer', 'jacqu', 'saad', 'lantern', 'franceman', 'industr', 'apprend', 'atlant', 'alcatel', 'patt', 'thomson', 'velour', 'antirigueur', 'argentin', 'menem', 'revolt', 'attent', 'dis', 'expatr', 'bilan', 'chapi', 'singuli', 'commandos', 'dieu', 'fais', 'pedro', 'murmur', 'bator', 'ouest', 'oulan', 'vent', 'délir', 'initi', 'umberto', 'libéri', 'national', 'parret', 'masqu', 'plum', 'westlak', 'part', 'plural', 'adolf', 'chanceli', 'hitl', 'rescap', 'rit', 'juif', 'milli', 'éclat', 'apocalyps', 'cow', 'foll', 'odyss', 'fusil', 'journal', 'dix-huit', 'rest', 'bousquet', 'bongo', 'montr', 'sert', 'févri', 'palestinien', 'réfugi', 'recul', 'telecom', 'aguich', 'mus', 'argent', 'rideau', 'effort', 'mesdam', 'prendr', 'calcul', 'chef', 'devr', 'servic', 'secteur', 'telecommun', 'jospin', 'honkong', 'vision', 'castr', 'henr', 'pret', 'regn', 'commerc', 'exterieur', 'repart', 'americain', 'negoci', 'sino', 'europeen', 'seattl', 'uni', 'confidentiel', 'répons', 'maltrait', 'princip', 'monu', 'remord', 'fiscal', 'surplus', 'conseil', 'theo', 'waigel', 'croissanc', 'mondial', 'command', 'etrang', 'profit', 'indépendans', 'tibet', 'législ', 'résultat', 'fiscalit', 'promet', 'encher', 'foot', 'troubl', 'bank', 'deutsch', 'sanction', 'telekom', 'balladur', 'devedjian', 'don', 'main', 'hommes-femm', 'malentendu', 'achet', 'grossist', 'sicav', 'anné', 'olivi', 'rolin', 'agricultur', 'rabot', 'affrontent', 'arnault', 'internet', 'pinault', 'emprunt', 'relanc', 'business', 'mediterrane', 'oriental', 'industriel', 'product', 'rechut', 'septembr', 'gerhard', 'massiv', 'schrod', 'abecedair', 'ami', 'revolu', 'silenci', 'chos', 'sport', 'lionel', 'acceler', 'decelerent', 'menag', 'record', 'baud', 'def', 'maison', 'restaur', 'chrono', 'convert', 'reseau', 'vit', 'antimondialis', 'export', 'chrétien', 'visag', 'joyeux', 'noel', 'famill', 'confirm', 'emplois', 'suppress', 'blair', 'licenci', 'tien', 'oestrich', 'sued', 'paritar', 'banqu', 'deficit', 'public', 'epanou', 'fleur', 'plein', 'astre', 'cayrol', 'roland', 'marocain', 'pleurent', 'protecteur', 'final', 'rugby', 'craindr', 'petroli', 'prochain', 'troisiem', 'platan', 'ravag', 'decen', 'meilleur', 'ver', 'medef', 'cerveau', 'depend', 'log', 'molecul', 'reduir', 'toxicoman', 'aerospatial', 'couac', 'fusion', 'matr', 'activit', 'hauss', 'ralent', 'enflamm', 'istambul', 'perdu', 'poes', 'action', 'rentabl', 'bijoux', 'chaumet', 'ebel', 'horlog', 'lvmh', 'dang', 'monsieur', '-vous', 'prépar', 'alstom', 'rever', 'siemen', 'sub', 'taiwan', 'abus', 'tax', 'commercial', 'enjeux', 'gouvernemental', 'mesur', 'inquiet', 'lamy', 'prepar', 'reunion', 'lyonnais', 'rappele', 'su', 'tractebel', 'mobil', 'salon', 'aubry', 'excedent', 'secu', 'vis', 'anne', 'cont', 'irland', 'pon', 'fix', 'selftrad', 'bull', 'recentrag', 'platz', 'potsdam', 'ténebr', 'fruit', 'mend', 'ingénieur', 'élev', 'camargu', 'lieu', 'oustiqu', 'coûteux', 'négligent', 'alli', 'bebear', 'parib', 'recoivent', 'region', 'balis', 'chemin', 'obstacl', 'pourt', 'débriefing', 'creent', 'depart', 'equip', 'xavi', 'partn', 'controvers', 'vaccin', 'frech', 'mid', 'surpris', 'bascul', 'bouygu', 'broth', 'etait', 'ailleur', 'krugman', 'viv', 'ballon', 'micro', 'apôtr', 'extrêm', 'attitud', 'routard', 'bienfait', 'cohabit', 'coffret', 'decouvert', 'gallimard', 'hav', 'interact', 'larouss', 'polem', 'previs', 'goût', 'grac', 'rayon', 'panam', 'ronfl', 'spleen', 'cor', 'idéal', 'jung', 'tourist', 'climat', 'deterior', 'laos', 'miser', 'fi', 'tortionnair', 'demission', 'enfanc', 'pâtur', 'fonctionnair', 'nippon', 'terreur', 'chronolog', 'democrat', 'anonym', 'passion', 'naîtr', 'indompt', 'shangh', 'fach', 'gastronom', 'invoqu', 'jox', 'cible', 'reduct', 'reflech', 'examin', 'ultrason', 'amien', 'téléphon', 'multimédi', 'posit', 'prend', 'schuman', 'conduit', 'houphouët', 'bénin', 'togo', 'jouent', 'pir', 'regret', 'serviteur', 'vichy', 'fatigu', 'parrain', 'musiqu', 'nott', 'croat', 'déchirur', 'enfer', 'kurdistan', 'oasis', 'contrôl', 'dérapag', 'madrid', 'promess', 'charit', 'iran', 'ordon', 'coeur', 'descent', 'bluff', 'boss', 'gadget', 'pren', 'candidat', 'embauch', 'ordin', 'sélect', 'cit', 'couleur', 'primair', 'calvair', 'scientologu', 'duel', 'netanyahu', 'arrive', 'unis', 'washington', 'rwand', 'privat', 'verit', 'néerland', 'fuel', 'cott', 'maill', 'après-aïdid', 'somal', 'ténus', 'chanceller', 'caiss', 'gest', 'pass', 'profan', 'figaro', 'heriti', 'guer', 'mâl', 'anti', 'oncle', 'defais', 'mexicain', 'cherch', 'aviv', 'indifférent', 'toll', 'hollywood', 'dot', 'elementair', 'gestion', 'local', 'organ', 'frontier', 'coupabl', 'forum', 'skod', 'exploit', 'johnny', 'malheur', 'mano', 'polic', 'prudenc', 'reform', 'progress', 'holding', 'nettoyag', 'cach', 'dingu', 'tendanc', 'tong', 'mot', 'économ', 'lescur', 'loup', 'moteur', 'nethold', 'fragil', 'syrien', 'marketing', 'reconcilient', 'yaourt', 'belgiqu', 'auss', 'canc', 'cigaret', 'gen', 'bénéfic', 'hezbollah', 'disney', 'emir', 'televis', 'harcel', 'prion', 'savoir', 'bott', 'haut', 'pasqu', 'repl', 'sein', 'indic', 'nikkei', 'rend', 'pieg', 'avocat', 'cabinet', 'cribl', 'irak', 'farin', 'poisson', 'viand', 'zapp', 'convoit', 'wireless', 'marilyn', 'monro', 'réuss', 'confus', 'dossi', 'charon', 'massacr']\n"
     ]
    }
   ],
   "source": [
    "print([k for k in dic_title.values()])"
   ]
  },
  {
   "cell_type": "code",
   "execution_count": null,
   "metadata": {},
   "outputs": [
    {
     "name": "stdout",
     "output_type": "stream",
     "text": [
      "\n",
      "Topics\n",
      "(0, '0.025*\"mort\" + 0.019*\"contr\" + 0.010*\"franc\" + 0.010*\"seul\"')\n",
      "(1, '0.011*\"alger\" + 0.006*\"roug\" + 0.006*\"internet\" + 0.006*\"mod\"')\n",
      "(2, '0.009*\"etat\" + 0.009*\"choc\" + 0.006*\"quel\" + 0.006*\"coup\"')\n",
      "(3, '0.014*\"chang\" + 0.011*\"patron\" + 0.009*\"jug\" + 0.009*\"pet\"')\n",
      "(4, '0.012*\"plus\" + 0.012*\"contr\" + 0.009*\"grand\" + 0.006*\"encor\"')\n",
      "(5, '0.014*\"heur\" + 0.009*\"droit\" + 0.009*\"ital\" + 0.009*\"chiffr\"')\n",
      "(6, '0.015*\"express\" + 0.009*\"homm\" + 0.006*\"sous\" + 0.006*\"encor\"')\n",
      "(7, '0.053*\"franc\" + 0.013*\"fait\" + 0.008*\"tout\" + 0.008*\"reseau\"')\n",
      "(8, '0.010*\"américain\" + 0.007*\"bien\" + 0.007*\"affair\" + 0.007*\"robert\"')\n",
      "(9, '0.015*\"franc\" + 0.010*\"march\" + 0.010*\"impot\" + 0.008*\"europ\"')\n",
      "\n",
      "Topics\n"
     ]
    }
   ],
   "source": [
    "# get the topics! \n",
    "\n",
    "NUM_TOPICS = 10\n",
    "\n",
    "for (corpus, dictionary) in [(corpus_title, dic_title), (corpus_text, dic_text)]:\n",
    "    print('\\nTopics')\n",
    "    ldamodel = gensim.models.ldamodel.LdaModel(corpus, num_topics = NUM_TOPICS, id2word=dictionary, passes=15)\n",
    "    ldamodel.save('model5.gensim')\n",
    "    topics = ldamodel.print_topics(num_words=4)\n",
    "    for topic in topics:\n",
    "        print(topic)"
   ]
  },
  {
   "cell_type": "code",
   "execution_count": null,
   "metadata": {},
   "outputs": [],
   "source": [
    "# to be continued\n",
    "# https://towardsdatascience.com/topic-modelling-in-python-with-nltk-and-gensim-4ef03213cd21"
   ]
  },
  {
   "cell_type": "markdown",
   "metadata": {},
   "source": [
    "__Analysis__\n",
    "\n",
    "* at first sight, key words associated to the same topic do not always have much in common \n",
    "* some of the words used to define topics do not seem like relevant, high level key words\n",
    "* maybe the corpus is to small or to heterogeneous to obtain relevant topics this way!\n",
    "\n",
    "--> *Improvement ideas*\n",
    "- preprocessing: remove figures ('000', '10', '100', '11', '12', '15', '16', '17', '1990', '1997', '20', '30', '31', '50', '500', '60')\n",
    "- try clustering methods and put a word on the topics\n",
    "- improve dictionary\n",
    "- improve this first LDA model (more ideas [here](https://www.machinelearningplus.com/nlp/topic-modeling-gensim-python/))\n",
    "- get more data on specific topics\n"
   ]
  },
  {
   "cell_type": "markdown",
   "metadata": {},
   "source": [
    "# 2. Clustering \n",
    "\n",
    "K-Means clustering and DBSCAN with tf-idf representation\n",
    "\n"
   ]
  },
  {
   "cell_type": "markdown",
   "metadata": {},
   "source": [
    "### a. Build a tf-idf matrix to represent the corpus"
   ]
  },
  {
   "cell_type": "markdown",
   "metadata": {},
   "source": [
    "__Naive approach based on word count__\n",
    "\n",
    "We rapidly see that the use of lemmas is nessecary to avoid the explosion of our vocabulary. For example, \"missives\" and \"missive\" should be considered to be the same. "
   ]
  },
  {
   "cell_type": "code",
   "execution_count": null,
   "metadata": {},
   "outputs": [],
   "source": [
    "#instantiate CountVectorizer() \n",
    "cv=CountVectorizer() \n",
    " \n",
    "# this steps generates word counts for the words in your docs \n",
    "word_count_vector=cv.fit_transform(news_df.text)\n",
    "\n",
    "print(word_count_vector.shape)\n",
    "# Houston, we have a dimensionality problem"
   ]
  },
  {
   "cell_type": "code",
   "execution_count": null,
   "metadata": {},
   "outputs": [],
   "source": [
    "# tf-idf with all the words\n",
    "tfidf_transformer=TfidfTransformer(smooth_idf=True,use_idf=True) \n",
    "tfidf_transformer.fit(word_count_vector)\n",
    "\n",
    "# print idf values \n",
    "idf = pd.DataFrame(tfidf_transformer.idf_, index=cv.get_feature_names(),columns=[\"idf_weights\"]) \n",
    " \n",
    "# sort ascending \n",
    "idf.sort_values(by=['idf_weights'])"
   ]
  },
  {
   "cell_type": "markdown",
   "metadata": {},
   "source": [
    "We have to select the words with highest tf-idf count."
   ]
  },
  {
   "cell_type": "markdown",
   "metadata": {},
   "source": [
    "Improvement ideas:\n",
    "    \n",
    "* get rid of figures \"000\", \"cinq\"\n",
    "* get rid of non topic words (destructive approach)\n",
    "* custom build vocabulary for the corpus, based on previous NER extraction \n",
    "* use lemmas (root words) instead of full words (ex: français, france go back to the same entity)\n"
   ]
  },
  {
   "cell_type": "markdown",
   "metadata": {},
   "source": [
    "__Tf-idf with lemmatized words__\n",
    "\n",
    "We resuse the preprocessing made in the LDA section. We already obtain a smaller vocabulary, but it remains too big. So next step is to fit the Tf-Idf matrix with some constraints to reduce the number of features."
   ]
  },
  {
   "cell_type": "code",
   "execution_count": null,
   "metadata": {},
   "outputs": [],
   "source": [
    "news_df['pre_title']=[' '.join(word_list_i) for word_list_i in title_tokens] # preprocessed titles\n",
    "news_df['pre_text']=[' '.join(word_list_i) for word_list_i in text_tokens] # preprocessed article bodies"
   ]
  },
  {
   "cell_type": "code",
   "execution_count": null,
   "metadata": {},
   "outputs": [],
   "source": [
    "# Re-compute the word-count for preprocessed texts\n",
    "\n",
    "word_count_vector=cv.fit_transform(news_df.pre_text)\n",
    "\n",
    "print(word_count_vector.shape)\n",
    "\n",
    "# tf-idf with all the words\n",
    "tfidf_transformer=TfidfTransformer(smooth_idf=True,use_idf=True) \n",
    "tfidf_transformer.fit(word_count_vector)\n",
    "\n",
    "# print idf values \n",
    "idf = pd.DataFrame(tfidf_transformer.idf_, index=cv.get_feature_names(),columns=[\"idf_weights\"]) \n",
    " \n",
    "# sort ascending \n",
    "idf.sort_values(by=['idf_weights'])"
   ]
  },
  {
   "cell_type": "markdown",
   "metadata": {},
   "source": [
    "__Tf-Idf vectorizer with constraints__"
   ]
  },
  {
   "cell_type": "code",
   "execution_count": null,
   "metadata": {},
   "outputs": [],
   "source": [
    "# fit tf-idf on all preprocessed texts with constraints on document frequency and number of tokens\n",
    "tfidf_vectorizer=TfidfVectorizer(max_df = 700, max_features=500, smooth_idf=True,use_idf=True) #strip_accents=True\n",
    "X = tfidf_vectorizer.fit_transform(news_df.pre_text) # X is a matrix"
   ]
  },
  {
   "cell_type": "code",
   "execution_count": null,
   "metadata": {},
   "outputs": [],
   "source": [
    "# take a look at the result\n",
    "print(tfidf_vectorizer.get_feature_names())\n",
    "print(X.shape)"
   ]
  },
  {
   "cell_type": "markdown",
   "metadata": {},
   "source": [
    "### b.  K-Means Clustering \n",
    "\n",
    "We don't know how many clusters we might have, so we explore a ange of values for hyperparameter k and assess the quality of the clusters using the silhouette score. If our dataset had been labeled we could have used the adjusted rand index instead."
   ]
  },
  {
   "cell_type": "code",
   "execution_count": null,
   "metadata": {},
   "outputs": [],
   "source": [
    "from sklearn.cluster import KMeans\n",
    "#from sklearn.metrics import adjusted_rand_score(labels_true, labels_pred)\n",
    "from sklearn.metrics import silhouette_score\n",
    "\n",
    "# training\n",
    "k_scores=[]\n",
    "for k in range(2, 21):\n",
    "    k_model = KMeans(n_clusters=k, init='k-means++', max_iter=100, n_init=1, random_state=2905,)\n",
    "    k_labels = k_model.fit_predict(X)\n",
    "    score = silhouette_score(X, k_labels,metric='cosine', sample_size=None)\n",
    "    k_scores.append(score)"
   ]
  },
  {
   "cell_type": "code",
   "execution_count": null,
   "metadata": {},
   "outputs": [],
   "source": [
    "# visualize\n",
    "plt.figure(figsize=(20,10))\n",
    "x_val = [k for k in range(2,21)]\n",
    "y_val = k_scores\n",
    "plt.plot(x_val,y_val)\n",
    "\n",
    "plt.plot(x_val,y_val,'ob') \n",
    "plt.plot(x_val[np.argmax(y_val)], np.max(y_val), 'or') \n",
    "plt.annotate(\"Best k value\",\n",
    "             (x_val[np.argmax(y_val)], np.max(y_val)),\n",
    "             textcoords=\"offset points\", \n",
    "             xytext=(0,-40), \n",
    "             ha='center')\n",
    "best_k=x_val[np.argmax(y_val)]\n",
    "x_val = [k for k in range(3,21)]\n",
    "y_val = k_scores[1:]\n",
    "plt.plot(x_val[np.argmax(y_val)], np.max(y_val), 'oy') \n",
    "plt.annotate(\"Second best k value\",\n",
    "             (x_val[np.argmax(y_val)], np.max(y_val)),\n",
    "             textcoords=\"offset points\", \n",
    "             xytext=(0,-40), \n",
    "             ha='center')\n",
    "second_best_k=x_val[np.argmax(y_val)]\n",
    "plt.xlabel('Number of clusters')\n",
    "plt.ylabel('Silhouette Score')\n",
    "plt.title('Silhouette score in function of the number of clusters') \n",
    "plt.show()"
   ]
  },
  {
   "cell_type": "markdown",
   "metadata": {},
   "source": [
    "So we will use either k=2 or k=16. Let's see if we can interprete the clusters by assigning them a relevant topic."
   ]
  },
  {
   "cell_type": "code",
   "execution_count": null,
   "metadata": {},
   "outputs": [],
   "source": [
    "news_clusters=news_df.copy()\n",
    "news_clusters['k_'+str(best_k)]=KMeans(n_clusters=best_k, init='k-means++', max_iter=100, n_init=1, random_state=2905).fit_predict(X)\n",
    "news_clusters['k_'+str(second_best_k)]=KMeans(n_clusters=second_best_k, init='k-means++', max_iter=100, n_init=1, random_state=2905).fit_predict(X)\n",
    "news_clusters.head(10)"
   ]
  },
  {
   "cell_type": "code",
   "execution_count": null,
   "metadata": {},
   "outputs": [],
   "source": [
    "# Look at the repartition between clusters\n",
    "print(news_clusters.groupby(['k_'+str(best_k)])[\"year\"].count())\n",
    "print(news_clusters.groupby(['k_'+str(second_best_k)])[\"year\"].count())\n",
    "print(news_clusters.groupby(['k_'+str(best_k), 'k_'+str(second_best_k)])[\"year\"].count())"
   ]
  },
  {
   "cell_type": "code",
   "execution_count": null,
   "metadata": {},
   "outputs": [],
   "source": [
    "# Try to identify topics inside clusters\n",
    "for i in range(best_k):\n",
    "    print(\"\\nCluster \", i)\n",
    "    print(news_clusters[news_clusters['k_'+str(best_k)]==i].title[:10]) # print 10 titles from each cluster"
   ]
  },
  {
   "cell_type": "markdown",
   "metadata": {},
   "source": [
    "On parvient à la liste de thèmes suivants:\n",
    "    \n",
    "* Infos nationales France / économie \n",
    "* Infos nationales France / économie et entreprises, emploi, compétitivité\n",
    "* Infos nationales France / Société\n",
    "* Infos nationales France /  Femmes et débats de société (ex: avortement)\n",
    "* Infos nationales France / Faits divers\n",
    "\n",
    "\n",
    "* International / économie internationale\n",
    "* International / Moyen Orient / politique\n",
    "* International / politique internationale (anciennes colonies notamment), conflits\n",
    "* International / Europe / économie\n",
    "* International / Europe / politique\n",
    "\n",
    "\n",
    "* Affaires judiciaires et criminelles\n",
    "* Santé, Biologie, Sciences\n",
    "* Sport\n",
    "* Culture\n",
    "\n",
    "\n",
    "On se rend compte que les thèmes serait mieux décrits par un fonctionnement matriciel, id est __un aspect géographique combiné à un aspect thématique__.\n",
    "\n",
    "* Géographie: France - Amérique - Europe - Asie - Afrique - Moyen Orient et même peut-être une région transverse \"anciennes colonnies françaises\"\n",
    "\n",
    "* Thèmes: Sciences/Santé - Politique - Economie/Entreprises - Société/Faits divers - Affaires judiciaires \n",
    "\n",
    "__D'où la nécessité dune double classfication géographique et thématique, pour obtenir le thème final de l'article.__\n"
   ]
  },
  {
   "cell_type": "markdown",
   "metadata": {},
   "source": [
    "__Temporality__\n",
    "\n",
    "Are some topics time-bound ? When did what topic particularly gain momentum ?\n",
    "\n",
    "Idea: topics like women's right to abort in France or the first French astronaut in space are related to precise events, respectively the corresponding law defended by Simone Weil and Jean-Loup Chrétien's trip to the ISS. Other topics, like French and internaitonal economics, are more likely to be always there, although sometines not at the forefront of the scene.\n",
    "\n",
    "*Idea: once we have labelled the data, visualize the topics as a fonction of time*"
   ]
  },
  {
   "cell_type": "markdown",
   "metadata": {},
   "source": [
    "### c. Clustering with entity-based vocabulary"
   ]
  },
  {
   "cell_type": "markdown",
   "metadata": {},
   "source": [
    "__Tf-idf with entity-based vocabulary__\n",
    "\n",
    "to do: notebook 01 --> add other entity types (ORG and TIME ?)\n",
    "\n",
    "*Note on PER entities*\n",
    "\n",
    "* Some cleaning might be necessary, for example 'ii' is considered as a single entity although it should be 'jean-paul ii' as a whole. \n",
    "\n",
    "* Also we are faced with multiple wordings for the same name. For example 'de gaulle' and 'général de gaulle' should be considered to be the same. \n",
    "\n",
    "* Most entities are personal names, like 'chirac', but some are categories, like 'président de la république' and might refer to a different person depending on the year the article was published.\n",
    "\n",
    "* Errors are due to the French \"-\", for example '-major' should be \"état-major\", \"-aviv\" is probably coming from \"Tel-aviv\"\n",
    "\n",
    "Nonetheless, the PER list is quite satisfying already.\n",
    "\n",
    "*Note on LOC entities*\n",
    "\n",
    "Similar remarks apply \n",
    "\n",
    "* cleaning necessary: '»' etc should be deleted\n",
    "* 'france', 'la france' should be the same, \"l'espagne\" should be \"espagne\" etc\n",
    "* 'état' is a category and should not be mistaken with 'etats-unis'\n",
    "* errors are trickier to explain, a few verbs are in the list: 'croyez', 'voudrais', 'avais'"
   ]
  },
  {
   "cell_type": "code",
   "execution_count": null,
   "metadata": {},
   "outputs": [],
   "source": [
    "PER_df=pd.read_csv('articles_PER.csv')\n",
    "LOC_df=pd.read_csv('articles_LOC.csv')\n",
    "print(PER_df.describe())\n",
    "print(LOC_df.describe())"
   ]
  },
  {
   "cell_type": "code",
   "execution_count": null,
   "metadata": {},
   "outputs": [],
   "source": [
    "PER_highest=PER_df[PER_df['PER_count']>5]\n",
    "print(\"There are %s PER entities with >5 occurences.\\n\" %len(PER_highest))\n",
    "print(list(PER_highest.PER_entity))\n",
    "PER_highest[:5]\n"
   ]
  },
  {
   "cell_type": "code",
   "execution_count": null,
   "metadata": {},
   "outputs": [],
   "source": [
    "LOC_highest=LOC_df[LOC_df['LOC_count']>6]\n",
    "print(\"There are %s LOC entities with >6 occurences.\\n\" %len(LOC_highest))\n",
    "print(list(LOC_highest.LOC_entity))\n",
    "LOC_highest[:5]"
   ]
  },
  {
   "cell_type": "markdown",
   "metadata": {},
   "source": [
    "Now that we  have looked at the extracted entities, we are going to preprocess them the same way we did for the texts and titles earlier, and then use the keywords we obtain as vocabulary to build a new Tf-Idf matrix. Finally, we re-train k-means models and analyse the results to see if the relevance of individual clusters has improved regarding topic modelling.\n",
    "\n",
    "Note: one possible issue are the surnames that appear as autonomous entities after splitting full names, e.g. \"louis-ferdinand céline\" is a French author, \"céline dion\" is a singer, the family name of the first is the surname of the second. \"Prince Harry\" has nothing to do with singer \"Prince\". We see the need for word embeddings coming right toward us!"
   ]
  },
  {
   "cell_type": "code",
   "execution_count": null,
   "metadata": {},
   "outputs": [],
   "source": [
    "# preprocessing of individual entities\n",
    "\n",
    "#v0: use all entities\n",
    "voc_PER = []\n",
    "for PER in PER_df['PER_entity']:\n",
    "    voc_PER+=prepare_text_stem(PER) # PER : one string, preprocessed PER is a list containing 0 to n strings\n",
    "print(voc_PER)\n",
    "\n",
    "#v1: use most common entities only "
   ]
  },
  {
   "cell_type": "code",
   "execution_count": null,
   "metadata": {},
   "outputs": [],
   "source": [
    "#v0: use all entities\n",
    "voc_LOC = []\n",
    "for LOC in LOC_df['LOC_entity']:\n",
    "    voc_LOC+=prepare_text_stem(LOC) # idem\n",
    "print(voc_LOC)"
   ]
  },
  {
   "cell_type": "code",
   "execution_count": null,
   "metadata": {},
   "outputs": [],
   "source": [
    "# define vocab\n",
    "my_vocab=list(set(voc_LOC+voc_PER))\n",
    "print(\"Entity-based vocabulary of size \", len(my_vocab))\n",
    "print(my_vocab)"
   ]
  },
  {
   "cell_type": "markdown",
   "metadata": {},
   "source": [
    "__KMeans__"
   ]
  },
  {
   "cell_type": "code",
   "execution_count": null,
   "metadata": {},
   "outputs": [],
   "source": [
    "## PER entities only ##\n",
    "\n",
    "# fit new tf-idf on all preprocessed texts with new vocab and constraints on document frequency and number of tokens\n",
    "tfidf_vectorizer_vocab=TfidfVectorizer(vocabulary=list(set(voc_PER))) # my_vocab = PER+LOC preprocessed entities\n",
    "X_vocab = tfidf_vectorizer_vocab.fit_transform(news_df.pre_text) # X is a matrix\n",
    "print(X_vocab.shape)\n",
    "\n",
    "# training\n",
    "k_scores=[]\n",
    "for k in range(2, 21):\n",
    "    k_model = KMeans(n_clusters=k, init='k-means++', max_iter=100, n_init=1, random_state=2905,)\n",
    "    k_labels = k_model.fit_predict(X_vocab)\n",
    "    score = silhouette_score(X_vocab, k_labels,metric='cosine', sample_size=None)\n",
    "    k_scores.append(score)\n",
    "    \n",
    "# visualize\n",
    "plt.figure(figsize=(20,10))\n",
    "x_val = [k for k in range(2,21)]\n",
    "y_val = k_scores\n",
    "plt.plot(x_val,y_val)\n",
    "\n",
    "plt.plot(x_val,y_val,'ob') \n",
    "plt.plot(x_val[np.argmax(y_val)], np.max(y_val), 'or') \n",
    "plt.annotate(\"Best k value\",\n",
    "             (x_val[np.argmax(y_val)], np.max(y_val)),\n",
    "             textcoords=\"offset points\", \n",
    "             xytext=(0,-40), \n",
    "             ha='center')\n",
    "best_k=x_val[np.argmax(y_val)]\n",
    "plt.xlabel('Number of clusters')\n",
    "plt.ylabel('Silhouette Score')\n",
    "plt.title('Silhouette score in function of the number of clusters') \n",
    "plt.show()"
   ]
  },
  {
   "cell_type": "code",
   "execution_count": null,
   "metadata": {},
   "outputs": [],
   "source": [
    "news_clusters[\"k_PER_\"+str(best_k)]=KMeans(n_clusters=best_k, init='k-means++', max_iter=100, n_init=1, random_state=2905).fit_predict(X_vocab)\n",
    "\n",
    "# repartition\n",
    "print(news_clusters.groupby([\"k_PER_\"+str(best_k)])[\"year\"].count())\n",
    "\n",
    "# Try to identify topics inside clusters\n",
    "for i in range(best_k):\n",
    "    print(\"\\nCluster \", i)\n",
    "    print(news_clusters[news_clusters[\"k_PER_\"+str(best_k)]==i].title[:10]) # print 10 titles from each cluster"
   ]
  },
  {
   "cell_type": "code",
   "execution_count": null,
   "metadata": {},
   "outputs": [],
   "source": [
    "## LOC entities only ##\n",
    "\n",
    "# fit new tf-idf on all preprocessed texts with new vocab and constraints on document frequency and number of tokens\n",
    "tfidf_vectorizer_vocab=TfidfVectorizer(vocabulary=list(set(voc_LOC))) # my_vocab = PER+LOC preprocessed entities\n",
    "X_vocab = tfidf_vectorizer_vocab.fit_transform(news_df.pre_text) # X is a matrix\n",
    "print(X_vocab.shape)\n",
    "\n",
    "# training\n",
    "k_scores=[]\n",
    "for k in range(2, 21):\n",
    "    k_model = KMeans(n_clusters=k, init='k-means++', max_iter=100, n_init=1, random_state=2905,)\n",
    "    k_labels = k_model.fit_predict(X_vocab)\n",
    "    score = silhouette_score(X_vocab, k_labels,metric='cosine', sample_size=None)\n",
    "    k_scores.append(score)\n",
    "    \n",
    "# visualize\n",
    "plt.figure(figsize=(20,10))\n",
    "x_val = [k for k in range(2,21)]\n",
    "y_val = k_scores\n",
    "plt.plot(x_val,y_val)\n",
    "\n",
    "plt.plot(x_val,y_val,'ob') \n",
    "plt.plot(x_val[np.argmax(y_val)], np.max(y_val), 'or') \n",
    "plt.annotate(\"Best k value\",\n",
    "             (x_val[np.argmax(y_val)], np.max(y_val)),\n",
    "             textcoords=\"offset points\", \n",
    "             xytext=(0,-40), \n",
    "             ha='center')\n",
    "best_k=x_val[np.argmax(y_val)]\n",
    "plt.xlabel('Number of clusters')\n",
    "plt.ylabel('Silhouette Score')\n",
    "plt.title('Silhouette score in function of the number of clusters') \n",
    "plt.show()"
   ]
  },
  {
   "cell_type": "markdown",
   "metadata": {},
   "source": [
    "The graph outlook is quite strange but good news is the silhouette score, although remaining low, is higher than the first time.  Let's see if clusters can be directly mapped to topics at this stage."
   ]
  },
  {
   "cell_type": "code",
   "execution_count": null,
   "metadata": {
    "scrolled": false
   },
   "outputs": [],
   "source": [
    "news_clusters[\"k_PER_\"+str(best_k)]=KMeans(n_clusters=best_k, init='k-means++', max_iter=100, n_init=1, random_state=2905).fit_predict(X_vocab)\n",
    "\n",
    "# repartition\n",
    "print(news_clusters.groupby([\"k_PER_\"+str(best_k)])[\"year\"].count())\n",
    "\n",
    "# Try to identify topics inside clusters\n",
    "for i in range(best_k):\n",
    "    print(\"\\nCluster \", i)\n",
    "    print(news_clusters[news_clusters[\"k_PER_\"+str(best_k)]==i].title[:20:2]) # print 10 titles from each cluster"
   ]
  },
  {
   "cell_type": "code",
   "execution_count": null,
   "metadata": {},
   "outputs": [],
   "source": [
    "## PER and LOC together ##\n",
    "\n",
    "# fit new tf-idf on all preprocessed texts with new vocab and constraints on document frequency and number of tokens\n",
    "tfidf_vectorizer_vocab=TfidfVectorizer(vocabulary=my_vocab) # my_vocab = PER+LOC preprocessed entities\n",
    "X_vocab = tfidf_vectorizer_vocab.fit_transform(news_df.pre_text) # X is a matrix\n",
    "print(X_vocab.shape)\n",
    "\n",
    "# training\n",
    "k_scores=[]\n",
    "for k in range(2, 21):\n",
    "    k_model = KMeans(n_clusters=k, init='k-means++', max_iter=100, n_init=1, random_state=2905,)\n",
    "    k_labels = k_model.fit_predict(X_vocab)\n",
    "    score = silhouette_score(X_vocab, k_labels,metric='cosine', sample_size=None)\n",
    "    k_scores.append(score)\n",
    "    \n",
    "# visualize\n",
    "plt.figure(figsize=(20,10))\n",
    "x_val = [k for k in range(2,21)]\n",
    "y_val = k_scores\n",
    "plt.plot(x_val,y_val)\n",
    "\n",
    "plt.plot(x_val,y_val,'ob') \n",
    "plt.plot(x_val[np.argmax(y_val)], np.max(y_val), 'or') \n",
    "plt.annotate(\"Best k value\",\n",
    "             (x_val[np.argmax(y_val)], np.max(y_val)),\n",
    "             textcoords=\"offset points\", \n",
    "             xytext=(0,-40), \n",
    "             ha='center')\n",
    "best_k=x_val[np.argmax(y_val)]\n",
    "\n",
    "plt.xlabel('Number of clusters')\n",
    "plt.ylabel('Silhouette Score')\n",
    "plt.title('Silhouette score in function of the number of clusters') \n",
    "plt.show()\n",
    "\n",
    "x_val = [k for k in range(3,21)]\n",
    "y_val = k_scores[1:]\n",
    "plt.plot(x_val[np.argmax(y_val)], np.max(y_val), 'oy') \n",
    "plt.annotate(\"Second best k value\",\n",
    "             (x_val[np.argmax(y_val)], np.max(y_val)),\n",
    "             textcoords=\"offset points\", \n",
    "             xytext=(0,-40), \n",
    "             ha='center')\n",
    "second_best_k=x_val[np.argmax(y_val)]\n",
    "plt.xlabel('Number of clusters')\n",
    "plt.ylabel('Silhouette Score')\n",
    "plt.title('Silhouette score in function of the number of clusters') \n",
    "plt.show()"
   ]
  },
  {
   "cell_type": "code",
   "execution_count": null,
   "metadata": {},
   "outputs": [],
   "source": [
    "news_clusters['k_'+str(second_best_k)]=KMeans(n_clusters=second_best_k, init='k-means++', max_iter=100, n_init=1, random_state=2905).fit_predict(X_vocab)\n",
    "\n",
    "# repartition\n",
    "print(news_clusters.groupby(['k_'+str(second_best_k)])[\"year\"].count())\n",
    "\n",
    "# Try to identify topics inside clusters\n",
    "for i in range(second_best_k):\n",
    "    print(\"\\nCluster \", i)\n",
    "    print(news_clusters[news_clusters['k_'+str(second_best_k)]==i].title[:20:2]) # print 10 titles from each cluster"
   ]
  },
  {
   "cell_type": "markdown",
   "metadata": {},
   "source": [
    "__Cluster interpretation__\n",
    "\n",
    "    k_6\n",
    "    0     81\n",
    "    1    455\n",
    "    2     57\n",
    "    3     69\n",
    "    4     20\n",
    "    5     44\n",
    "    Name: year, dtype: int64\n",
    "\n",
    "    Cluster  0\n",
    "    0                             Tintin dans l'espace\n",
    "    68                      L'envers du paradis en RFA\n",
    "    80                          LES LIAISONS HEUREUSES\n",
    "    88                            QUERELLE DE CHIFFRES\n",
    "    98                     Quelle politique étrangère?\n",
    "    113                             UNE BOURSE À GÉRER\n",
    "    153    Jean Gandois: contre la baisse des salaires\n",
    "    162                   DRESDE OU LA MÉMOIRE BLESSÉE\n",
    "    178                                L'Europe diluée\n",
    "    187                   Un nabab au pays des bananes\n",
    "    Name: title, dtype: object\n",
    "\n",
    "    Cluster  1\n",
    "    1                      Le faux suicide de Robert Boulin\n",
    "    4                       Les secrets de la planète rouge\n",
    "    9                                Ponge: l'homme objets.\n",
    "    11                     La longue marche du Che africain\n",
    "    14    (1e janvier 1988) Benazir Bhutto: l'Antigone d...\n",
    "    16                              L'ombre sur la campagne\n",
    "    19                                                 Diva\n",
    "    22                        1975 : Simone Veil s'explique\n",
    "    25                                      «Mlle Chopinet»\n",
    "    27                                 La Nasa sous tutelle\n",
    "    Name: title, dtype: object\n",
    "\n",
    "    Cluster  2\n",
    "    28           France: fausses stars et vrais agents\n",
    "    39          1973 : les hors-la-loi de l'avortement\n",
    "    70     Yves Saint-Laurent, le nouvel enfant triste\n",
    "    77                        PAYSANS, MAIS PAS PLOUCS\n",
    "    86                      Contre la haine, les juges\n",
    "    102                             DRÔLE D'ATMOSPHERE\n",
    "    116                          Courrier des lecteurs\n",
    "    121                                  MICHEL HERMON\n",
    "    174    \"Que mes lèvres ne sont-elles des cerises!\"\n",
    "    183        L'AÉROPOSTALE - MARCEL BOUILLOUX-LAFONT\n",
    "    Name: title, dtype: object\n",
    "\n",
    "    Cluster  3\n",
    "    32                              Coluche père nourricier\n",
    "    94     1981 1993 les socialistes et le marche politique\n",
    "    108                                    Reperes economie\n",
    "    122                                               Utile\n",
    "    139                    Taux d interet le debat interdit\n",
    "    146                               RENSEIGNEMENTS UTILES\n",
    "    159                         \"Sud-Ouest\": la trêve amère\n",
    "    226              Pourquoi le satelli te menace le cable\n",
    "    235                          La culture flambe a noumea\n",
    "    247                 Berlin a deux doigts de la faillite\n",
    "    Name: title, dtype: object\n",
    "\n",
    "    Cluster  4\n",
    "    7              Algérie: la faillite sanglante\n",
    "    56              Algérie: Les jokers de Chadli\n",
    "    186                  \"Paris a fait son choix\"\n",
    "    204                           Un cri d'alarme\n",
    "    225        Ferhat abbas une utopie algerienne\n",
    "    307                       La stratégie du FIS\n",
    "    322    \"Notre responsabilité n'est pas mince\"\n",
    "    397               La confession d'un policier\n",
    "    471          Restez chez vous, l'islam veille\n",
    "    593          La France peut gagner en Algerie\n",
    "    Name: title, dtype: object\n",
    "\n",
    "    Cluster  5\n",
    "    2         Des pierres contre les certitudes\n",
    "    8      Les deux mois qui ont ébranlé Israël\n",
    "    20      Shimon Pérès, le leader impopulaire\n",
    "    40           Guerre de Kippour. Extraits...\n",
    "    42                  Yasser Arafat intronisé\n",
    "    85             Hamas occupe les Territoires\n",
    "    104      Histoire secrète d'une négociation\n",
    "    192                      Comptes et légende\n",
    "    212            Ben Gourion gagne aux points\n",
    "    273              Gaza: le mois le plus long\n",
    "    Name: title, dtype: object\n",
    "\n",
    "* Cluster 0: hard to explain\n",
    "* Cluster 1: hard to explain\n",
    "* Cluster 2: French society topics --> not so clear though\n",
    "* Cluster 3: Economics in France and Europe \n",
    "* Cluster 4: Algérie --> cluster has better quality than previously\n",
    "* Cluster 5: Moyen-Orient --> already obtained with the first tf-idf\n",
    "\n",
    "So clustering using LOC entities seems to give relevant clusters / have more weight in the decision process here whereas clustering using PER entities doesn't seem to have a strong influence on building clusters corresponding to interpretable topics. \n",
    "\n"
   ]
  },
  {
   "cell_type": "code",
   "execution_count": null,
   "metadata": {},
   "outputs": [],
   "source": [
    "## PER & LOC ## \n",
    "\n",
    "print(\"Top terms per cluster:\")\n",
    "order_centroids = k_model.cluster_centers_.argsort()[:, ::-1]\n",
    "terms = tfidf_vectorizer_vocab.get_feature_names()\n",
    "for i in range(best_k):\n",
    "    print (\"Cluster %d:\" % i,)\n",
    "    for ind in order_centroids[i, :10]:\n",
    "        print (' %s' % terms[ind],)"
   ]
  },
  {
   "cell_type": "markdown",
   "metadata": {},
   "source": [
    "__Summary__\n",
    "\n",
    "* For the final vocabulary, keep entities as keywords but not only\n",
    "* 2 classification: Geography + Topics "
   ]
  },
  {
   "cell_type": "markdown",
   "metadata": {},
   "source": [
    "# 3. Supervised topic classifiers\n",
    "\n"
   ]
  },
  {
   "cell_type": "markdown",
   "metadata": {},
   "source": [
    "### a. Preprocessing and labeling \n",
    "\n",
    "We have labeled the dataset by hand using the topics we have defined thanks to the above analysis. There's some cleaning left to do, though."
   ]
  },
  {
   "cell_type": "code",
   "execution_count": 40,
   "metadata": {},
   "outputs": [],
   "source": [
    "labeled_df=pd.read_excel(\"articles_labeled.xlsx\", sheet_name=0)\n",
    "geo_codes=pd.read_excel(\"articles_labeled.xlsx\", sheet_name=1)\n",
    "topic_codes=pd.read_excel(\"articles_labeled.xlsx\", sheet_name=2)"
   ]
  },
  {
   "cell_type": "markdown",
   "metadata": {},
   "source": [
    "__Cleaning the labels__"
   ]
  },
  {
   "cell_type": "code",
   "execution_count": 41,
   "metadata": {},
   "outputs": [
    {
     "data": {
      "text/html": [
       "<div>\n",
       "<style scoped>\n",
       "    .dataframe tbody tr th:only-of-type {\n",
       "        vertical-align: middle;\n",
       "    }\n",
       "\n",
       "    .dataframe tbody tr th {\n",
       "        vertical-align: top;\n",
       "    }\n",
       "\n",
       "    .dataframe thead th {\n",
       "        text-align: right;\n",
       "    }\n",
       "</style>\n",
       "<table border=\"1\" class=\"dataframe\">\n",
       "  <thead>\n",
       "    <tr style=\"text-align: right;\">\n",
       "      <th></th>\n",
       "      <th>Unnamed: 0</th>\n",
       "      <th>year</th>\n",
       "      <th>title</th>\n",
       "      <th>text</th>\n",
       "      <th>url</th>\n",
       "      <th>geo</th>\n",
       "      <th>topic</th>\n",
       "    </tr>\n",
       "  </thead>\n",
       "  <tbody>\n",
       "    <tr>\n",
       "      <th>0</th>\n",
       "      <td>0</td>\n",
       "      <td>1988</td>\n",
       "      <td>Tintin dans l'espace</td>\n",
       "      <td>Trois semaines à bord de la station soviétique...</td>\n",
       "      <td>https://www.lexpress.fr/informations/tintin-da...</td>\n",
       "      <td>fr</td>\n",
       "      <td>sc</td>\n",
       "    </tr>\n",
       "    <tr>\n",
       "      <th>1</th>\n",
       "      <td>1</td>\n",
       "      <td>1988</td>\n",
       "      <td>Le faux suicide de Robert Boulin</td>\n",
       "      <td>1979 : son corps est découvert en forêt de Ram...</td>\n",
       "      <td>https://www.lexpress.fr/actualite/politique/le...</td>\n",
       "      <td>fr</td>\n",
       "      <td>ju</td>\n",
       "    </tr>\n",
       "    <tr>\n",
       "      <th>2</th>\n",
       "      <td>2</td>\n",
       "      <td>1988</td>\n",
       "      <td>Des pierres contre les certitudes</td>\n",
       "      <td>Rideaux de fer baissés, silhouettes furtives, ...</td>\n",
       "      <td>https://www.lexpress.fr/actualite/monde/proche...</td>\n",
       "      <td>me</td>\n",
       "      <td>po</td>\n",
       "    </tr>\n",
       "    <tr>\n",
       "      <th>3</th>\n",
       "      <td>3</td>\n",
       "      <td>1988</td>\n",
       "      <td>Otages: soudain, mercredi soir...</td>\n",
       "      <td>\" Je lui ai dit: \"Ça suffit\", et j'ai raccroch...</td>\n",
       "      <td>https://www.lexpress.fr/informations/otages-so...</td>\n",
       "      <td>me</td>\n",
       "      <td>ju</td>\n",
       "    </tr>\n",
       "    <tr>\n",
       "      <th>4</th>\n",
       "      <td>4</td>\n",
       "      <td>1988</td>\n",
       "      <td>Les secrets de la planète rouge</td>\n",
       "      <td>S'il existe, dans le système solaire, un seul ...</td>\n",
       "      <td>https://www.lexpress.fr/actualite/sciences/les...</td>\n",
       "      <td>spa</td>\n",
       "      <td>sc</td>\n",
       "    </tr>\n",
       "  </tbody>\n",
       "</table>\n",
       "</div>"
      ],
      "text/plain": [
       "   Unnamed: 0  year                              title  \\\n",
       "0           0  1988               Tintin dans l'espace   \n",
       "1           1  1988   Le faux suicide de Robert Boulin   \n",
       "2           2  1988  Des pierres contre les certitudes   \n",
       "3           3  1988  Otages: soudain, mercredi soir...   \n",
       "4           4  1988    Les secrets de la planète rouge   \n",
       "\n",
       "                                                text  \\\n",
       "0  Trois semaines à bord de la station soviétique...   \n",
       "1  1979 : son corps est découvert en forêt de Ram...   \n",
       "2  Rideaux de fer baissés, silhouettes furtives, ...   \n",
       "3  \" Je lui ai dit: \"Ça suffit\", et j'ai raccroch...   \n",
       "4  S'il existe, dans le système solaire, un seul ...   \n",
       "\n",
       "                                                 url  geo topic  \n",
       "0  https://www.lexpress.fr/informations/tintin-da...   fr    sc  \n",
       "1  https://www.lexpress.fr/actualite/politique/le...   fr    ju  \n",
       "2  https://www.lexpress.fr/actualite/monde/proche...   me    po  \n",
       "3  https://www.lexpress.fr/informations/otages-so...   me    ju  \n",
       "4  https://www.lexpress.fr/actualite/sciences/les...  spa    sc  "
      ]
     },
     "execution_count": 41,
     "metadata": {},
     "output_type": "execute_result"
    }
   ],
   "source": [
    "labeled_df.head()"
   ]
  },
  {
   "cell_type": "code",
   "execution_count": 42,
   "metadata": {},
   "outputs": [
    {
     "name": "stdout",
     "output_type": "stream",
     "text": [
      "{'france': 'fr', 'fr': 'fr', 'europe': 'eu', 'eu': 'eu', 'usa': 'usa', 'africa': 'afr', 'afr': 'afr', 'asia': 'as', 'as': 'as', 'middle east': 'mo', 'mo': 'mo', 'space': 'spa', 'spa': 'spa', 'world': 'wo', 'wo': 'wo', 'latine america': 'lat', 'lat': 'lat'}\n",
      "{'science / STEM / technology / space': 'sc', 'science / STEM / technology / space ': 'sc', 'sc': 'sc', 'society / women /  human rights': 'so', 'society / women /  human rights ': 'so', 'so': 'so', 'culture': 'cu', 'culture ': 'cu', 'cu': 'cu', 'politics / wars': 'po', 'po': 'po', 'economics / companies / employment': 'eco', 'economics / companies / employment ': 'eco', 'eco': 'eco', 'judiciary/laws/ crime': 'ju', 'ju': 'ju', 'sports': 'spo', 'spo': 'spo', 'miscellaneous': 'mi', 'miscellaneous ': 'mi', 'mi': 'mi'}\n"
     ]
    }
   ],
   "source": [
    "# create dictionaries\n",
    "\n",
    "geo_dic={}\n",
    "for index, row in geo_codes.iterrows():\n",
    "    geo_dic[row[1].strip(' ')]=row[0].strip(' ')\n",
    "    geo_dic[row[0].strip(' ')]=row[0].strip(' ')\n",
    "print(geo_dic)\n",
    "\n",
    "topic_dic={}\n",
    "for index, row in topic_codes.iterrows():\n",
    "    topic_dic[row[1].split(',')[0].strip(' ')]=row[0].strip(' ')\n",
    "    topic_dic[row[1].split(',')[0]]=row[0].strip(' ')\n",
    "    topic_dic[row[0].strip(' ')]=row[0].strip(' ')\n",
    "print(topic_dic)"
   ]
  },
  {
   "cell_type": "code",
   "execution_count": 43,
   "metadata": {},
   "outputs": [
    {
     "name": "stdout",
     "output_type": "stream",
     "text": [
      "{'spa', 'moyen-orient', 'as', 'usa', 'africa', 'latin america', 'afr', 'france', 'europe', 'mo', 'middle east', 'world', 'fr', 'eu', 'space', 'France', 'lat', 'asia', 'me'}\n",
      "{'sc', 'politics / wars', 'po', 'eco', 'culture', 'mi', 'science / STEM / technology / space', 'ju', 'economics / companies / employment', 'spo', 'cu', 'miscellaneous ', 'so', 'judiciary/laws/ crime', 'society / women /  human rights ', 'sports', 'misc'}\n",
      "\n",
      "Final dict:\n",
      "{'france': 'fr', 'fr': 'fr', 'europe': 'eu', 'eu': 'eu', 'usa': 'usa', 'africa': 'afr', 'afr': 'afr', 'asia': 'as', 'as': 'as', 'middle east': 'me', 'mo': 'me', 'space': 'spa', 'spa': 'spa', 'world': 'wo', 'wo': 'wo', 'latine america': 'lat', 'lat': 'lat', 'France': 'fr', 'latin america': 'lat', 'moyen-orient': 'me', 'me': 'me'}\n",
      "{'science / STEM / technology / space': 'sc', 'science / STEM / technology / space ': 'sc', 'sc': 'sc', 'society / women /  human rights': 'so', 'society / women /  human rights ': 'so', 'so': 'so', 'culture': 'cu', 'culture ': 'cu', 'cu': 'cu', 'politics / wars': 'po', 'po': 'po', 'economics / companies / employment': 'eco', 'economics / companies / employment ': 'eco', 'eco': 'eco', 'judiciary/laws/ crime': 'ju', 'ju': 'ju', 'sports': 'spo', 'spo': 'spo', 'miscellaneous': 'mi', 'miscellaneous ': 'mi', 'mi': 'mi', 'misc': 'mi'}\n"
     ]
    }
   ],
   "source": [
    "# comparison\n",
    "print(set(labeled_df['geo']))\n",
    "print(set(labeled_df['topic']))\n",
    "\n",
    "# corrections\n",
    "geo_dic['France']='fr'\n",
    "geo_dic['latin america']='lat'\n",
    "geo_dic['mo']='me'\n",
    "geo_dic['middle east']='me'\n",
    "geo_dic['moyen-orient']='me'\n",
    "geo_dic['me']='me'\n",
    "\n",
    "topic_dic['misc']='mi'\n",
    "print('\\nFinal dict:')\n",
    "print(geo_dic)\n",
    "print(topic_dic)"
   ]
  },
  {
   "cell_type": "code",
   "execution_count": 44,
   "metadata": {},
   "outputs": [
    {
     "data": {
      "text/html": [
       "<div>\n",
       "<style scoped>\n",
       "    .dataframe tbody tr th:only-of-type {\n",
       "        vertical-align: middle;\n",
       "    }\n",
       "\n",
       "    .dataframe tbody tr th {\n",
       "        vertical-align: top;\n",
       "    }\n",
       "\n",
       "    .dataframe thead th {\n",
       "        text-align: right;\n",
       "    }\n",
       "</style>\n",
       "<table border=\"1\" class=\"dataframe\">\n",
       "  <thead>\n",
       "    <tr style=\"text-align: right;\">\n",
       "      <th></th>\n",
       "      <th>Unnamed: 0</th>\n",
       "      <th>year</th>\n",
       "      <th>title</th>\n",
       "      <th>text</th>\n",
       "      <th>url</th>\n",
       "      <th>geo</th>\n",
       "      <th>topic</th>\n",
       "      <th>geo_code</th>\n",
       "      <th>topic_code</th>\n",
       "    </tr>\n",
       "  </thead>\n",
       "  <tbody>\n",
       "    <tr>\n",
       "      <th>0</th>\n",
       "      <td>0</td>\n",
       "      <td>1988</td>\n",
       "      <td>Tintin dans l'espace</td>\n",
       "      <td>Trois semaines à bord de la station soviétique...</td>\n",
       "      <td>https://www.lexpress.fr/informations/tintin-da...</td>\n",
       "      <td>fr</td>\n",
       "      <td>sc</td>\n",
       "      <td>3</td>\n",
       "      <td>5</td>\n",
       "    </tr>\n",
       "    <tr>\n",
       "      <th>1</th>\n",
       "      <td>1</td>\n",
       "      <td>1988</td>\n",
       "      <td>Le faux suicide de Robert Boulin</td>\n",
       "      <td>1979 : son corps est découvert en forêt de Ram...</td>\n",
       "      <td>https://www.lexpress.fr/actualite/politique/le...</td>\n",
       "      <td>fr</td>\n",
       "      <td>ju</td>\n",
       "      <td>3</td>\n",
       "      <td>2</td>\n",
       "    </tr>\n",
       "    <tr>\n",
       "      <th>2</th>\n",
       "      <td>2</td>\n",
       "      <td>1988</td>\n",
       "      <td>Des pierres contre les certitudes</td>\n",
       "      <td>Rideaux de fer baissés, silhouettes furtives, ...</td>\n",
       "      <td>https://www.lexpress.fr/actualite/monde/proche...</td>\n",
       "      <td>me</td>\n",
       "      <td>po</td>\n",
       "      <td>5</td>\n",
       "      <td>4</td>\n",
       "    </tr>\n",
       "    <tr>\n",
       "      <th>3</th>\n",
       "      <td>3</td>\n",
       "      <td>1988</td>\n",
       "      <td>Otages: soudain, mercredi soir...</td>\n",
       "      <td>\" Je lui ai dit: \"Ça suffit\", et j'ai raccroch...</td>\n",
       "      <td>https://www.lexpress.fr/informations/otages-so...</td>\n",
       "      <td>me</td>\n",
       "      <td>ju</td>\n",
       "      <td>5</td>\n",
       "      <td>2</td>\n",
       "    </tr>\n",
       "    <tr>\n",
       "      <th>4</th>\n",
       "      <td>4</td>\n",
       "      <td>1988</td>\n",
       "      <td>Les secrets de la planète rouge</td>\n",
       "      <td>S'il existe, dans le système solaire, un seul ...</td>\n",
       "      <td>https://www.lexpress.fr/actualite/sciences/les...</td>\n",
       "      <td>spa</td>\n",
       "      <td>sc</td>\n",
       "      <td>6</td>\n",
       "      <td>5</td>\n",
       "    </tr>\n",
       "    <tr>\n",
       "      <th>5</th>\n",
       "      <td>5</td>\n",
       "      <td>1988</td>\n",
       "      <td>La marche forcée d'Abou Ammar</td>\n",
       "      <td>Prêt à la guerre en 1974, offrant la paix en 1...</td>\n",
       "      <td>https://www.lexpress.fr/informations/la-marche...</td>\n",
       "      <td>me</td>\n",
       "      <td>po</td>\n",
       "      <td>5</td>\n",
       "      <td>4</td>\n",
       "    </tr>\n",
       "    <tr>\n",
       "      <th>6</th>\n",
       "      <td>6</td>\n",
       "      <td>1988</td>\n",
       "      <td>Pierre Quinon, discret champion olympique</td>\n",
       "      <td>Pierre Quinon s'est donné la mort à 49 ans le ...</td>\n",
       "      <td>https://www.lexpress.fr/actualite/sport/pierre...</td>\n",
       "      <td>fr</td>\n",
       "      <td>spo</td>\n",
       "      <td>3</td>\n",
       "      <td>7</td>\n",
       "    </tr>\n",
       "    <tr>\n",
       "      <th>7</th>\n",
       "      <td>7</td>\n",
       "      <td>1988</td>\n",
       "      <td>Algérie: la faillite sanglante</td>\n",
       "      <td>Au moins 1000 morts. Des milliers de blessés. ...</td>\n",
       "      <td>https://www.lexpress.fr/informations/algerie-l...</td>\n",
       "      <td>afr</td>\n",
       "      <td>po</td>\n",
       "      <td>0</td>\n",
       "      <td>4</td>\n",
       "    </tr>\n",
       "    <tr>\n",
       "      <th>8</th>\n",
       "      <td>8</td>\n",
       "      <td>1988</td>\n",
       "      <td>Les deux mois qui ont ébranlé Israël</td>\n",
       "      <td>Israël avait pris l'habitude de mesurer ses gu...</td>\n",
       "      <td>https://www.lexpress.fr/actualite/monde/proche...</td>\n",
       "      <td>me</td>\n",
       "      <td>po</td>\n",
       "      <td>5</td>\n",
       "      <td>4</td>\n",
       "    </tr>\n",
       "    <tr>\n",
       "      <th>9</th>\n",
       "      <td>9</td>\n",
       "      <td>1988</td>\n",
       "      <td>Ponge: l'homme objets.</td>\n",
       "      <td>Francis Ponge célébra la Guêpe, un \" petit sip...</td>\n",
       "      <td>https://www.lexpress.fr/informations/ponge-l-h...</td>\n",
       "      <td>fr</td>\n",
       "      <td>cu</td>\n",
       "      <td>3</td>\n",
       "      <td>0</td>\n",
       "    </tr>\n",
       "  </tbody>\n",
       "</table>\n",
       "</div>"
      ],
      "text/plain": [
       "   Unnamed: 0  year                                      title  \\\n",
       "0           0  1988                       Tintin dans l'espace   \n",
       "1           1  1988           Le faux suicide de Robert Boulin   \n",
       "2           2  1988          Des pierres contre les certitudes   \n",
       "3           3  1988          Otages: soudain, mercredi soir...   \n",
       "4           4  1988            Les secrets de la planète rouge   \n",
       "5           5  1988              La marche forcée d'Abou Ammar   \n",
       "6           6  1988  Pierre Quinon, discret champion olympique   \n",
       "7           7  1988             Algérie: la faillite sanglante   \n",
       "8           8  1988       Les deux mois qui ont ébranlé Israël   \n",
       "9           9  1988                     Ponge: l'homme objets.   \n",
       "\n",
       "                                                text  \\\n",
       "0  Trois semaines à bord de la station soviétique...   \n",
       "1  1979 : son corps est découvert en forêt de Ram...   \n",
       "2  Rideaux de fer baissés, silhouettes furtives, ...   \n",
       "3  \" Je lui ai dit: \"Ça suffit\", et j'ai raccroch...   \n",
       "4  S'il existe, dans le système solaire, un seul ...   \n",
       "5  Prêt à la guerre en 1974, offrant la paix en 1...   \n",
       "6  Pierre Quinon s'est donné la mort à 49 ans le ...   \n",
       "7  Au moins 1000 morts. Des milliers de blessés. ...   \n",
       "8  Israël avait pris l'habitude de mesurer ses gu...   \n",
       "9  Francis Ponge célébra la Guêpe, un \" petit sip...   \n",
       "\n",
       "                                                 url  geo topic  geo_code  \\\n",
       "0  https://www.lexpress.fr/informations/tintin-da...   fr    sc         3   \n",
       "1  https://www.lexpress.fr/actualite/politique/le...   fr    ju         3   \n",
       "2  https://www.lexpress.fr/actualite/monde/proche...   me    po         5   \n",
       "3  https://www.lexpress.fr/informations/otages-so...   me    ju         5   \n",
       "4  https://www.lexpress.fr/actualite/sciences/les...  spa    sc         6   \n",
       "5  https://www.lexpress.fr/informations/la-marche...   me    po         5   \n",
       "6  https://www.lexpress.fr/actualite/sport/pierre...   fr   spo         3   \n",
       "7  https://www.lexpress.fr/informations/algerie-l...  afr    po         0   \n",
       "8  https://www.lexpress.fr/actualite/monde/proche...   me    po         5   \n",
       "9  https://www.lexpress.fr/informations/ponge-l-h...   fr    cu         3   \n",
       "\n",
       "   topic_code  \n",
       "0           5  \n",
       "1           2  \n",
       "2           4  \n",
       "3           2  \n",
       "4           5  \n",
       "5           4  \n",
       "6           7  \n",
       "7           4  \n",
       "8           4  \n",
       "9           0  "
      ]
     },
     "execution_count": 44,
     "metadata": {},
     "output_type": "execute_result"
    }
   ],
   "source": [
    "# map to categories\n",
    "\n",
    "labeled_df['geo']=labeled_df['geo'].apply(lambda x:geo_dic[x])\n",
    "labeled_df['topic']=labeled_df['topic'].apply(lambda x:topic_dic[x])\n",
    "labeled_df.geo = pd.Categorical(labeled_df.geo)\n",
    "labeled_df.topic = pd.Categorical(labeled_df.topic)\n",
    "\n",
    "labeled_df['geo_code'] = labeled_df.geo.cat.codes\n",
    "labeled_df['topic_code'] = labeled_df.topic.cat.codes\n",
    "\n",
    "labeled_df.head(10)"
   ]
  },
  {
   "cell_type": "markdown",
   "metadata": {},
   "source": [
    "__Exploration__\n",
    "\n",
    "Both the topic and the geo features are unbalanced.\n",
    "\n",
    "Most common locations are France and Europe. Most common topics are economics and politics, followed by society."
   ]
  },
  {
   "cell_type": "code",
   "execution_count": 45,
   "metadata": {},
   "outputs": [
    {
     "name": "stdout",
     "output_type": "stream",
     "text": [
      "\n",
      " Geo\n",
      "Index(['afr', 'as', 'eu', 'fr', 'lat', 'me', 'spa', 'usa', 'wo'], dtype='object')\n",
      "geo_code\n",
      "0     45\n",
      "1     48\n",
      "2     99\n",
      "3    401\n",
      "4      9\n",
      "5     54\n",
      "6      3\n",
      "7     40\n",
      "8     27\n",
      "Name: geo, dtype: int64\n",
      "\n",
      " Topic\n",
      "Index(['cu', 'eco', 'ju', 'mi', 'po', 'sc', 'so', 'spo'], dtype='object')\n",
      "topic_code\n",
      "0     66\n",
      "1    201\n",
      "2     39\n",
      "3     13\n",
      "4    235\n",
      "5     44\n",
      "6    117\n",
      "7     11\n",
      "Name: topic, dtype: int64\n"
     ]
    }
   ],
   "source": [
    "# Classe repartition\n",
    "\n",
    "print(\"\\n Geo\")\n",
    "print(labeled_df.geo.cat.categories)\n",
    "print(labeled_df.groupby([\"geo_code\"])['geo'].count())\n",
    "\n",
    "print(\"\\n Topic\")\n",
    "print(labeled_df.topic.cat.categories)\n",
    "print(labeled_df.groupby([\"topic_code\"])[\"topic\"].count())\n"
   ]
  },
  {
   "cell_type": "markdown",
   "metadata": {},
   "source": [
    "__Representative split__\n",
    "\n",
    "We use a stratified shuffle split to obtain 5 splits containing a representative percentage of each class in both the training and the test set."
   ]
  },
  {
   "cell_type": "code",
   "execution_count": 46,
   "metadata": {},
   "outputs": [],
   "source": [
    "from sklearn.model_selection import StratifiedShuffleSplit\n",
    "X=labeled_df[['year', 'title', 'text']]\n",
    "y_geo=labeled_df.geo_code\n",
    "y_topic=labeled_df.topic_code\n",
    "sss = StratifiedShuffleSplit(n_splits=5, test_size=0.1, random_state=2905)\n",
    "geo_split=sss.split(X, y_geo) # geo\n",
    "topic_split=sss.split(X, y_topic) # topic"
   ]
  },
  {
   "cell_type": "markdown",
   "metadata": {},
   "source": [
    "__Tf-idf encoding__\n",
    "\n",
    "Will be done directly inside pipelines."
   ]
  },
  {
   "cell_type": "markdown",
   "metadata": {},
   "source": [
    "### b. Training - Multiclass classifier"
   ]
  },
  {
   "cell_type": "markdown",
   "metadata": {},
   "source": [
    "__Accuracy Comparison for various model types using Cross-Validation__"
   ]
  },
  {
   "cell_type": "code",
   "execution_count": 47,
   "metadata": {},
   "outputs": [],
   "source": [
    "# preprocessing\n",
    "tfidf_vectorizer_base=TfidfVectorizer(max_df = 700, max_features=300, smooth_idf=True, use_idf=True) # \n",
    "tfidf_vectorizer_vocab=TfidfVectorizer(max_features=250, vocabulary=my_vocab) # my_vocab = PER+LOC preprocessed entities\n",
    "tfidf_list=[tfidf_vectorizer_base, tfidf_vectorizer_vocab]\n",
    "\n",
    "from sklearn.svm import SVC\n",
    "from sklearn.decomposition import PCA\n",
    "\n",
    "# models\n",
    "lr=LogisticRegression(max_iter=300, random_state=2905, verbose=1)\n",
    "nb=GaussianNB()\n",
    "rf=RandomForestClassifier(random_state=2905, verbose=1)\n",
    "lsvc=LinearSVC(max_iter=500, random_state=2905, verbose=1)\n",
    "svc=SVC(max_iter=500, random_state=2905, verbose=1)\n",
    "\n",
    "model_list=[lr, rf, lsvc, svc] # \n",
    "\n"
   ]
  },
  {
   "cell_type": "code",
   "execution_count": 48,
   "metadata": {},
   "outputs": [
    {
     "name": "stdout",
     "output_type": "stream",
     "text": [
      "\n",
      "Model:  LogisticRegression(max_iter=300, random_state=2905, verbose=1)\n",
      "\n",
      "Preprocessing:  TfidfVectorizer(max_df=700, max_features=300)\n"
     ]
    },
    {
     "name": "stderr",
     "output_type": "stream",
     "text": [
      "[Parallel(n_jobs=1)]: Using backend SequentialBackend with 1 concurrent workers.\n",
      "[Parallel(n_jobs=1)]: Done   1 out of   1 | elapsed:    0.1s finished\n",
      "[Parallel(n_jobs=1)]: Using backend SequentialBackend with 1 concurrent workers.\n",
      "[Parallel(n_jobs=1)]: Done   1 out of   1 | elapsed:    0.1s finished\n",
      "[Parallel(n_jobs=1)]: Using backend SequentialBackend with 1 concurrent workers.\n",
      "[Parallel(n_jobs=1)]: Done   1 out of   1 | elapsed:    0.1s finished\n",
      "[Parallel(n_jobs=1)]: Using backend SequentialBackend with 1 concurrent workers.\n",
      "[Parallel(n_jobs=1)]: Done   1 out of   1 | elapsed:    0.1s finished\n",
      "[Parallel(n_jobs=1)]: Using backend SequentialBackend with 1 concurrent workers.\n",
      "[Parallel(n_jobs=1)]: Done   1 out of   1 | elapsed:    0.1s finished\n"
     ]
    },
    {
     "name": "stdout",
     "output_type": "stream",
     "text": [
      "Accuracy for Geo   Classification: 0.55 (+/- 0.00)\n"
     ]
    },
    {
     "name": "stderr",
     "output_type": "stream",
     "text": [
      "[Parallel(n_jobs=1)]: Using backend SequentialBackend with 1 concurrent workers.\n",
      "[Parallel(n_jobs=1)]: Done   1 out of   1 | elapsed:    0.1s finished\n",
      "[Parallel(n_jobs=1)]: Using backend SequentialBackend with 1 concurrent workers.\n",
      "[Parallel(n_jobs=1)]: Done   1 out of   1 | elapsed:    0.1s finished\n",
      "[Parallel(n_jobs=1)]: Using backend SequentialBackend with 1 concurrent workers.\n",
      "[Parallel(n_jobs=1)]: Done   1 out of   1 | elapsed:    0.1s finished\n",
      "[Parallel(n_jobs=1)]: Using backend SequentialBackend with 1 concurrent workers.\n",
      "[Parallel(n_jobs=1)]: Done   1 out of   1 | elapsed:    0.1s finished\n",
      "[Parallel(n_jobs=1)]: Using backend SequentialBackend with 1 concurrent workers.\n",
      "[Parallel(n_jobs=1)]: Done   1 out of   1 | elapsed:    0.1s finished\n"
     ]
    },
    {
     "name": "stdout",
     "output_type": "stream",
     "text": [
      "Accuracy for Topic Classification: 0.47 (+/- 0.03)\n",
      "\n",
      "Preprocessing:  TfidfVectorizer(max_features=250,\n",
      "                vocabulary=['indones', 'chadl', 'allemagn', 'grand-pein',\n",
      "                            'armstrong', 'champagn', 'lausann', 'yen', 'cubain',\n",
      "                            'françois', 'fisc', 'robert', 'plateau', 'appel',\n",
      "                            'nicaragu', 'eichmann', 'irak', 'unedic', 'valéry',\n",
      "                            'pierr', 'carlos', 'aquitain', 'gold', 'alsac',\n",
      "                            'belgiqu', 'cheysson', 'marrakech', 'atlant',\n",
      "                            'gouffr', 'israël', ...])\n"
     ]
    },
    {
     "name": "stderr",
     "output_type": "stream",
     "text": [
      "[Parallel(n_jobs=1)]: Using backend SequentialBackend with 1 concurrent workers.\n",
      "[Parallel(n_jobs=1)]: Done   1 out of   1 | elapsed:    0.1s finished\n",
      "[Parallel(n_jobs=1)]: Using backend SequentialBackend with 1 concurrent workers.\n",
      "[Parallel(n_jobs=1)]: Done   1 out of   1 | elapsed:    0.1s finished\n",
      "[Parallel(n_jobs=1)]: Using backend SequentialBackend with 1 concurrent workers.\n",
      "[Parallel(n_jobs=1)]: Done   1 out of   1 | elapsed:    0.1s finished\n",
      "[Parallel(n_jobs=1)]: Using backend SequentialBackend with 1 concurrent workers.\n",
      "[Parallel(n_jobs=1)]: Done   1 out of   1 | elapsed:    0.1s finished\n",
      "[Parallel(n_jobs=1)]: Using backend SequentialBackend with 1 concurrent workers.\n",
      "[Parallel(n_jobs=1)]: Done   1 out of   1 | elapsed:    0.1s finished\n"
     ]
    },
    {
     "name": "stdout",
     "output_type": "stream",
     "text": [
      "Accuracy for Geo   Classification: 0.55 (+/- 0.04)\n"
     ]
    },
    {
     "name": "stderr",
     "output_type": "stream",
     "text": [
      "[Parallel(n_jobs=1)]: Using backend SequentialBackend with 1 concurrent workers.\n",
      "[Parallel(n_jobs=1)]: Done   1 out of   1 | elapsed:    0.1s finished\n",
      "[Parallel(n_jobs=1)]: Using backend SequentialBackend with 1 concurrent workers.\n",
      "[Parallel(n_jobs=1)]: Done   1 out of   1 | elapsed:    0.1s finished\n",
      "[Parallel(n_jobs=1)]: Using backend SequentialBackend with 1 concurrent workers.\n",
      "[Parallel(n_jobs=1)]: Done   1 out of   1 | elapsed:    0.1s finished\n",
      "[Parallel(n_jobs=1)]: Using backend SequentialBackend with 1 concurrent workers.\n",
      "[Parallel(n_jobs=1)]: Done   1 out of   1 | elapsed:    0.1s finished\n",
      "[Parallel(n_jobs=1)]: Using backend SequentialBackend with 1 concurrent workers.\n",
      "[Parallel(n_jobs=1)]: Done   1 out of   1 | elapsed:    0.1s finished\n"
     ]
    },
    {
     "name": "stdout",
     "output_type": "stream",
     "text": [
      "Accuracy for Topic Classification: 0.44 (+/- 0.05)\n",
      "\n",
      "Model:  RandomForestClassifier(random_state=2905, verbose=1)\n",
      "\n",
      "Preprocessing:  TfidfVectorizer(max_df=700, max_features=300)\n"
     ]
    },
    {
     "name": "stderr",
     "output_type": "stream",
     "text": [
      "[Parallel(n_jobs=1)]: Using backend SequentialBackend with 1 concurrent workers.\n",
      "[Parallel(n_jobs=1)]: Done 100 out of 100 | elapsed:    0.6s finished\n",
      "[Parallel(n_jobs=1)]: Using backend SequentialBackend with 1 concurrent workers.\n",
      "[Parallel(n_jobs=1)]: Done 100 out of 100 | elapsed:    0.0s finished\n",
      "[Parallel(n_jobs=1)]: Using backend SequentialBackend with 1 concurrent workers.\n",
      "[Parallel(n_jobs=1)]: Done 100 out of 100 | elapsed:    0.6s finished\n",
      "[Parallel(n_jobs=1)]: Using backend SequentialBackend with 1 concurrent workers.\n",
      "[Parallel(n_jobs=1)]: Done 100 out of 100 | elapsed:    0.0s finished\n",
      "[Parallel(n_jobs=1)]: Using backend SequentialBackend with 1 concurrent workers.\n",
      "[Parallel(n_jobs=1)]: Done 100 out of 100 | elapsed:    0.6s finished\n",
      "[Parallel(n_jobs=1)]: Using backend SequentialBackend with 1 concurrent workers.\n",
      "[Parallel(n_jobs=1)]: Done 100 out of 100 | elapsed:    0.0s finished\n",
      "[Parallel(n_jobs=1)]: Using backend SequentialBackend with 1 concurrent workers.\n",
      "[Parallel(n_jobs=1)]: Done 100 out of 100 | elapsed:    0.6s finished\n",
      "[Parallel(n_jobs=1)]: Using backend SequentialBackend with 1 concurrent workers.\n",
      "[Parallel(n_jobs=1)]: Done 100 out of 100 | elapsed:    0.0s finished\n",
      "[Parallel(n_jobs=1)]: Using backend SequentialBackend with 1 concurrent workers.\n",
      "[Parallel(n_jobs=1)]: Done 100 out of 100 | elapsed:    0.6s finished\n",
      "[Parallel(n_jobs=1)]: Using backend SequentialBackend with 1 concurrent workers.\n",
      "[Parallel(n_jobs=1)]: Done 100 out of 100 | elapsed:    0.0s finished\n"
     ]
    },
    {
     "name": "stdout",
     "output_type": "stream",
     "text": [
      "Accuracy for Geo   Classification: 0.55 (+/- 0.02)\n"
     ]
    },
    {
     "name": "stderr",
     "output_type": "stream",
     "text": [
      "[Parallel(n_jobs=1)]: Using backend SequentialBackend with 1 concurrent workers.\n",
      "[Parallel(n_jobs=1)]: Done 100 out of 100 | elapsed:    0.6s finished\n",
      "[Parallel(n_jobs=1)]: Using backend SequentialBackend with 1 concurrent workers.\n",
      "[Parallel(n_jobs=1)]: Done 100 out of 100 | elapsed:    0.0s finished\n",
      "[Parallel(n_jobs=1)]: Using backend SequentialBackend with 1 concurrent workers.\n",
      "[Parallel(n_jobs=1)]: Done 100 out of 100 | elapsed:    0.6s finished\n",
      "[Parallel(n_jobs=1)]: Using backend SequentialBackend with 1 concurrent workers.\n",
      "[Parallel(n_jobs=1)]: Done 100 out of 100 | elapsed:    0.0s finished\n",
      "[Parallel(n_jobs=1)]: Using backend SequentialBackend with 1 concurrent workers.\n",
      "[Parallel(n_jobs=1)]: Done 100 out of 100 | elapsed:    0.6s finished\n",
      "[Parallel(n_jobs=1)]: Using backend SequentialBackend with 1 concurrent workers.\n",
      "[Parallel(n_jobs=1)]: Done 100 out of 100 | elapsed:    0.0s finished\n",
      "[Parallel(n_jobs=1)]: Using backend SequentialBackend with 1 concurrent workers.\n",
      "[Parallel(n_jobs=1)]: Done 100 out of 100 | elapsed:    0.6s finished\n",
      "[Parallel(n_jobs=1)]: Using backend SequentialBackend with 1 concurrent workers.\n",
      "[Parallel(n_jobs=1)]: Done 100 out of 100 | elapsed:    0.0s finished\n",
      "[Parallel(n_jobs=1)]: Using backend SequentialBackend with 1 concurrent workers.\n",
      "[Parallel(n_jobs=1)]: Done 100 out of 100 | elapsed:    0.6s finished\n",
      "[Parallel(n_jobs=1)]: Using backend SequentialBackend with 1 concurrent workers.\n",
      "[Parallel(n_jobs=1)]: Done 100 out of 100 | elapsed:    0.0s finished\n"
     ]
    },
    {
     "name": "stdout",
     "output_type": "stream",
     "text": [
      "Accuracy for Topic Classification: 0.46 (+/- 0.07)\n",
      "\n",
      "Preprocessing:  TfidfVectorizer(max_features=250,\n",
      "                vocabulary=['indones', 'chadl', 'allemagn', 'grand-pein',\n",
      "                            'armstrong', 'champagn', 'lausann', 'yen', 'cubain',\n",
      "                            'françois', 'fisc', 'robert', 'plateau', 'appel',\n",
      "                            'nicaragu', 'eichmann', 'irak', 'unedic', 'valéry',\n",
      "                            'pierr', 'carlos', 'aquitain', 'gold', 'alsac',\n",
      "                            'belgiqu', 'cheysson', 'marrakech', 'atlant',\n",
      "                            'gouffr', 'israël', ...])\n"
     ]
    },
    {
     "name": "stderr",
     "output_type": "stream",
     "text": [
      "[Parallel(n_jobs=1)]: Using backend SequentialBackend with 1 concurrent workers.\n",
      "[Parallel(n_jobs=1)]: Done 100 out of 100 | elapsed:    0.3s finished\n",
      "[Parallel(n_jobs=1)]: Using backend SequentialBackend with 1 concurrent workers.\n",
      "[Parallel(n_jobs=1)]: Done 100 out of 100 | elapsed:    0.0s finished\n",
      "[Parallel(n_jobs=1)]: Using backend SequentialBackend with 1 concurrent workers.\n",
      "[Parallel(n_jobs=1)]: Done 100 out of 100 | elapsed:    0.3s finished\n",
      "[Parallel(n_jobs=1)]: Using backend SequentialBackend with 1 concurrent workers.\n",
      "[Parallel(n_jobs=1)]: Done 100 out of 100 | elapsed:    0.0s finished\n",
      "[Parallel(n_jobs=1)]: Using backend SequentialBackend with 1 concurrent workers.\n",
      "[Parallel(n_jobs=1)]: Done 100 out of 100 | elapsed:    0.3s finished\n",
      "[Parallel(n_jobs=1)]: Using backend SequentialBackend with 1 concurrent workers.\n",
      "[Parallel(n_jobs=1)]: Done 100 out of 100 | elapsed:    0.0s finished\n",
      "[Parallel(n_jobs=1)]: Using backend SequentialBackend with 1 concurrent workers.\n",
      "[Parallel(n_jobs=1)]: Done 100 out of 100 | elapsed:    0.3s finished\n",
      "[Parallel(n_jobs=1)]: Using backend SequentialBackend with 1 concurrent workers.\n",
      "[Parallel(n_jobs=1)]: Done 100 out of 100 | elapsed:    0.0s finished\n",
      "[Parallel(n_jobs=1)]: Using backend SequentialBackend with 1 concurrent workers.\n",
      "[Parallel(n_jobs=1)]: Done 100 out of 100 | elapsed:    0.3s finished\n",
      "[Parallel(n_jobs=1)]: Using backend SequentialBackend with 1 concurrent workers.\n",
      "[Parallel(n_jobs=1)]: Done 100 out of 100 | elapsed:    0.0s finished\n"
     ]
    },
    {
     "name": "stdout",
     "output_type": "stream",
     "text": [
      "Accuracy for Geo   Classification: 0.57 (+/- 0.02)\n"
     ]
    },
    {
     "name": "stderr",
     "output_type": "stream",
     "text": [
      "[Parallel(n_jobs=1)]: Using backend SequentialBackend with 1 concurrent workers.\n",
      "[Parallel(n_jobs=1)]: Done 100 out of 100 | elapsed:    0.3s finished\n",
      "[Parallel(n_jobs=1)]: Using backend SequentialBackend with 1 concurrent workers.\n",
      "[Parallel(n_jobs=1)]: Done 100 out of 100 | elapsed:    0.0s finished\n",
      "[Parallel(n_jobs=1)]: Using backend SequentialBackend with 1 concurrent workers.\n",
      "[Parallel(n_jobs=1)]: Done 100 out of 100 | elapsed:    0.3s finished\n",
      "[Parallel(n_jobs=1)]: Using backend SequentialBackend with 1 concurrent workers.\n",
      "[Parallel(n_jobs=1)]: Done 100 out of 100 | elapsed:    0.0s finished\n",
      "[Parallel(n_jobs=1)]: Using backend SequentialBackend with 1 concurrent workers.\n",
      "[Parallel(n_jobs=1)]: Done 100 out of 100 | elapsed:    0.3s finished\n",
      "[Parallel(n_jobs=1)]: Using backend SequentialBackend with 1 concurrent workers.\n",
      "[Parallel(n_jobs=1)]: Done 100 out of 100 | elapsed:    0.0s finished\n",
      "[Parallel(n_jobs=1)]: Using backend SequentialBackend with 1 concurrent workers.\n",
      "[Parallel(n_jobs=1)]: Done 100 out of 100 | elapsed:    0.3s finished\n",
      "[Parallel(n_jobs=1)]: Using backend SequentialBackend with 1 concurrent workers.\n",
      "[Parallel(n_jobs=1)]: Done 100 out of 100 | elapsed:    0.0s finished\n",
      "[Parallel(n_jobs=1)]: Using backend SequentialBackend with 1 concurrent workers.\n",
      "[Parallel(n_jobs=1)]: Done 100 out of 100 | elapsed:    0.3s finished\n",
      "[Parallel(n_jobs=1)]: Using backend SequentialBackend with 1 concurrent workers.\n",
      "[Parallel(n_jobs=1)]: Done 100 out of 100 | elapsed:    0.0s finished\n"
     ]
    },
    {
     "name": "stdout",
     "output_type": "stream",
     "text": [
      "Accuracy for Topic Classification: 0.42 (+/- 0.05)\n",
      "\n",
      "Model:  LinearSVC(max_iter=500, random_state=2905, verbose=1)\n",
      "\n",
      "Preprocessing:  TfidfVectorizer(max_df=700, max_features=300)\n",
      "[LibLinear][LibLinear][LibLinear][LibLinear][LibLinear]Accuracy for Geo   Classification: 0.55 (+/- 0.07)\n",
      "[LibLinear][LibLinear][LibLinear][LibLinear][LibLinear]Accuracy for Topic Classification: 0.45 (+/- 0.10)\n",
      "\n",
      "Preprocessing:  TfidfVectorizer(max_features=250,\n",
      "                vocabulary=['indones', 'chadl', 'allemagn', 'grand-pein',\n",
      "                            'armstrong', 'champagn', 'lausann', 'yen', 'cubain',\n",
      "                            'françois', 'fisc', 'robert', 'plateau', 'appel',\n",
      "                            'nicaragu', 'eichmann', 'irak', 'unedic', 'valéry',\n",
      "                            'pierr', 'carlos', 'aquitain', 'gold', 'alsac',\n",
      "                            'belgiqu', 'cheysson', 'marrakech', 'atlant',\n",
      "                            'gouffr', 'israël', ...])\n",
      "[LibLinear][LibLinear][LibLinear][LibLinear][LibLinear]Accuracy for Geo   Classification: 0.57 (+/- 0.04)\n",
      "[LibLinear][LibLinear][LibLinear][LibLinear][LibLinear]Accuracy for Topic Classification: 0.35 (+/- 0.12)\n",
      "\n",
      "Model:  SVC(max_iter=500, random_state=2905, verbose=1)\n",
      "\n",
      "Preprocessing:  TfidfVectorizer(max_df=700, max_features=300)\n",
      "[LibSVM]"
     ]
    },
    {
     "name": "stderr",
     "output_type": "stream",
     "text": [
      "/Users/eva/.local/lib/python3.6/site-packages/sklearn/svm/_base.py:249: ConvergenceWarning: Solver terminated early (max_iter=500).  Consider pre-processing your data with StandardScaler or MinMaxScaler.\n",
      "  % self.max_iter, ConvergenceWarning)\n"
     ]
    },
    {
     "name": "stdout",
     "output_type": "stream",
     "text": [
      "[LibSVM][LibSVM][LibSVM][LibSVM]Accuracy for Geo   Classification: 0.55 (+/- 0.03)\n",
      "[LibSVM][LibSVM][LibSVM][LibSVM][LibSVM]Accuracy for Topic Classification: 0.45 (+/- 0.03)\n",
      "\n",
      "Preprocessing:  TfidfVectorizer(max_features=250,\n",
      "                vocabulary=['indones', 'chadl', 'allemagn', 'grand-pein',\n",
      "                            'armstrong', 'champagn', 'lausann', 'yen', 'cubain',\n",
      "                            'françois', 'fisc', 'robert', 'plateau', 'appel',\n",
      "                            'nicaragu', 'eichmann', 'irak', 'unedic', 'valéry',\n",
      "                            'pierr', 'carlos', 'aquitain', 'gold', 'alsac',\n",
      "                            'belgiqu', 'cheysson', 'marrakech', 'atlant',\n",
      "                            'gouffr', 'israël', ...])\n",
      "[LibSVM]"
     ]
    },
    {
     "name": "stderr",
     "output_type": "stream",
     "text": [
      "/Users/eva/.local/lib/python3.6/site-packages/sklearn/svm/_base.py:249: ConvergenceWarning: Solver terminated early (max_iter=500).  Consider pre-processing your data with StandardScaler or MinMaxScaler.\n",
      "  % self.max_iter, ConvergenceWarning)\n"
     ]
    },
    {
     "name": "stdout",
     "output_type": "stream",
     "text": [
      "[LibSVM][LibSVM][LibSVM][LibSVM]Accuracy for Geo   Classification: 0.56 (+/- 0.03)\n",
      "[LibSVM][LibSVM][LibSVM][LibSVM][LibSVM]Accuracy for Topic Classification: 0.42 (+/- 0.07)\n",
      "\n",
      "Model:  GaussianNB()\n",
      "\n",
      "Preprocessing:  TfidfVectorizer(max_df=700, max_features=300)\n",
      "Accuracy for Geo   Classification: 0.32 (+/- 0.07)\n",
      "Accuracy for Topic Classification: 0.35 (+/- 0.04)\n",
      "\n",
      "Preprocessing:  TfidfVectorizer(max_features=250,\n",
      "                vocabulary=['indones', 'chadl', 'allemagn', 'grand-pein',\n",
      "                            'armstrong', 'champagn', 'lausann', 'yen', 'cubain',\n",
      "                            'françois', 'fisc', 'robert', 'plateau', 'appel',\n",
      "                            'nicaragu', 'eichmann', 'irak', 'unedic', 'valéry',\n",
      "                            'pierr', 'carlos', 'aquitain', 'gold', 'alsac',\n",
      "                            'belgiqu', 'cheysson', 'marrakech', 'atlant',\n",
      "                            'gouffr', 'israël', ...])\n",
      "Accuracy for Geo   Classification: 0.25 (+/- 0.04)\n",
      "Accuracy for Topic Classification: 0.27 (+/- 0.08)\n"
     ]
    }
   ],
   "source": [
    "from sklearn.preprocessing import StandardScaler, MinMaxScaler\n",
    "from sklearn.compose import make_column_selector\n",
    "from sklearn.model_selection import cross_val_score\n",
    "from sklearn.base import TransformerMixin\n",
    "\n",
    "class DenseTransformer(TransformerMixin):\n",
    "\n",
    "    def fit(self, X, y=None, **fit_params):\n",
    "        return self\n",
    "\n",
    "    def transform(self, X, y=None, **fit_params):\n",
    "        return X.todense()\n",
    "\n",
    "# Accuracy\n",
    "for m in model_list:\n",
    "    print(\"\\nModel: \", m)\n",
    "    for t in tfidf_list:\n",
    "        print(\"\\nPreprocessing: \", t)\n",
    "        pipe = Pipeline(steps=[('tfidf', t ), \n",
    "                               #('to_dense', DenseTransformer()), \n",
    "                               #('scale', StandardScaler()),\n",
    "                               #('pca', PCA(0.80)), \n",
    "                               ('model', m)])\n",
    "        geo_split=sss.split(X, y_geo) # geo\n",
    "        scores_geo = cross_val_score(pipe, X[\"text\"], y_geo, cv=geo_split) # scoring='f1_macro' to change the metric\n",
    "        print(\"Accuracy for Geo   Classification: %0.2f (+/- %0.2f)\" % (scores_geo.mean(), scores_geo.std() * 2))\n",
    "\n",
    "        topic_split=sss.split(X, y_topic) # topic\n",
    "        pipe = Pipeline(steps=[('tfidf', t ), \n",
    "                               #('to_dense', DenseTransformer()), \n",
    "                               #('scale', StandardScaler()),\n",
    "                               #('pca', PCA(0.8)), \n",
    "                               ('model', m)])\n",
    "        scores_topic = cross_val_score(pipe, X[\"text\"], y_topic, cv=topic_split) # scoring='f1_macro' to change the metric\n",
    "        print(\"Accuracy for Topic Classification: %0.2f (+/- %0.2f)\" % (scores_topic.mean(), scores_topic.std() * 2))\n",
    "\n",
    "print(\"\\nModel: \", nb)\n",
    "for t in tfidf_list:\n",
    "    print(\"\\nPreprocessing: \", t)\n",
    "    pipe = Pipeline(steps=[('tfidf', t ), \n",
    "                           ('to_dense', DenseTransformer()), \n",
    "                           ('scale', MinMaxScaler()),\n",
    "                           #('pca', PCA(0.80)), \n",
    "                           ('model', nb)])\n",
    "    geo_split=sss.split(X, y_geo) # geo\n",
    "    scores_geo = cross_val_score(pipe, X[\"text\"], y_geo, cv=geo_split) # scoring='f1_macro' to change the metric\n",
    "    print(\"Accuracy for Geo   Classification: %0.2f (+/- %0.2f)\" % (scores_geo.mean(), scores_geo.std() * 2))\n",
    "\n",
    "    topic_split=sss.split(X, y_topic) # topic\n",
    "    pipe = Pipeline(steps=[('tfidf', t ), \n",
    "                           ('to_dense', DenseTransformer()), \n",
    "                           ('scale', MinMaxScaler()),\n",
    "                           #('pca', PCA(0.8)), \n",
    "                           ('model', nb)])\n",
    "    scores_topic = cross_val_score(pipe, X[\"text\"], y_topic, cv=topic_split) # scoring='f1_macro' to change the metric\n",
    "    print(\"Accuracy for Topic Classification: %0.2f (+/- %0.2f)\" % (scores_topic.mean(), scores_topic.std() * 2))\n"
   ]
  },
  {
   "cell_type": "raw",
   "metadata": {},
   "source": [
    ">>> clf = make_pipeline(preprocessing.StandardScaler(), svm.SVC(C=1))\n",
    ">>> cross_val_score(clf, X, y, cv=cv)\n",
    "array([0.977..., 0.933..., 0.955..., 0.933..., 0.977...])\n",
    "\n",
    "\n",
    "\n",
    ">>> from sklearn.model_selection import ShuffleSplit\n",
    ">>> n_samples = X.shape[0]\n",
    ">>> cv = ShuffleSplit(n_splits=5, test_size=0.3, random_state=0)\n",
    ">>> cross_val_score(clf, X, y, cv=cv)\n",
    "\n",
    ">>> from sklearn.model_selection import cross_validate\n",
    ">>> from sklearn.metrics import recall_score\n",
    ">>> scoring = ['precision_macro', 'recall_macro']\n",
    ">>> clf = svm.SVC(kernel='linear', C=1, random_state=0)\n",
    ">>> scores = cross_validate(clf, X, y, scoring=scoring)\n",
    ">>> sorted(scores.keys())\n",
    "['fit_time', 'score_time', 'test_precision_macro', 'test_recall_macro']\n",
    ">>> scores['test_recall_macro']\n",
    "from sklearn.metrics import classification_report\n",
    "\n",
    "\n",
    "\n",
    "('scale', StandardScaler(), make_column_selector(dtype_include=np.number)),\n",
    "('pca', PCA(0.8)), \n"
   ]
  },
  {
   "cell_type": "markdown",
   "metadata": {},
   "source": [
    "__What's next?__\n",
    "\n",
    "hyperparameter tuning : just for the most promising model types id est logistic regression and random forest.\n"
   ]
  },
  {
   "cell_type": "markdown",
   "metadata": {},
   "source": [
    "### c. Hyperparameter Tuning for multiclass classification\n",
    "\n",
    "We are going to tune the hyperparameters of a logistic regression model for the `topic` classification and the hyperparameters of a Random Forest for both `topic`and `geo`classifications.\n",
    "\n",
    "Here is an overview of the default values we used so far:\n",
    "\n",
    "    class sklearn.linear_model.LogisticRegression(penalty='l2', *, dual=False, tol=0.0001, C=1.0, fit_intercept=True, intercept_scaling=1, class_weight=None, random_state=None, solver='lbfgs', max_iter=100, multi_class='auto', verbose=0, warm_start=False, n_jobs=None, l1_ratio=None)\n",
    "    \n",
    "    class sklearn.ensemble.RandomForestClassifier(n_estimators=100, *, criterion='gini', max_depth=None, min_samples_split=2, min_samples_leaf=1, min_weight_fraction_leaf=0.0, max_features='auto', max_leaf_nodes=None, min_impurity_decrease=0.0, min_impurity_split=None, bootstrap=True, oob_score=False, n_jobs=None, random_state=None, verbose=0, warm_start=False, class_weight=None, ccp_alpha=0.0, max_samples=None)"
   ]
  },
  {
   "cell_type": "code",
   "execution_count": 49,
   "metadata": {},
   "outputs": [],
   "source": [
    "# Utility function to report best scores\n",
    "def report(results, n_top=3):\n",
    "    for i in range(1, n_top + 1):\n",
    "        candidates = np.flatnonzero(results['rank_test_score'] == i)\n",
    "        for candidate in candidates:\n",
    "            print(\"Model with rank: {0}\".format(i))\n",
    "            print(\"Mean validation score: {0:.3f} (std: {1:.3f})\"\n",
    "                  .format(results['mean_test_score'][candidate],\n",
    "                          results['std_test_score'][candidate]))\n",
    "            print(\"Parameters: {0}\".format(results['params'][candidate]))\n",
    "            print(\"\")\n"
   ]
  },
  {
   "cell_type": "markdown",
   "metadata": {},
   "source": [
    "__Logisitc regression for `topic`__\n",
    "\n",
    "Preprocessing : basic tfidf with constraints\n",
    "\n",
    "Don't forget to choose the random state!"
   ]
  },
  {
   "cell_type": "code",
   "execution_count": 50,
   "metadata": {},
   "outputs": [
    {
     "name": "stdout",
     "output_type": "stream",
     "text": [
      "Fitting 5 folds for each of 10 candidates, totalling 50 fits\n"
     ]
    },
    {
     "name": "stderr",
     "output_type": "stream",
     "text": [
      "[Parallel(n_jobs=-1)]: Using backend LokyBackend with 4 concurrent workers.\n",
      "[Parallel(n_jobs=-1)]: Done  33 tasks      | elapsed:   52.8s\n",
      "[Parallel(n_jobs=-1)]: Done  50 out of  50 | elapsed:  1.2min finished\n",
      "[Parallel(n_jobs=1)]: Using backend SequentialBackend with 1 concurrent workers.\n"
     ]
    },
    {
     "name": "stdout",
     "output_type": "stream",
     "text": [
      "max_iter reached after 4 seconds\n",
      "RandomizedSearchCV took 75.87 seconds for 10 candidates parameter settings.\n",
      "Model with rank: 1\n",
      "Mean validation score: 0.479 (std: 0.012)\n",
      "Parameters: {'logisticR__C': 1.8620777171647571, 'logisticR__l1_ratio': 0.08964905142835955, 'logisticR__penalty': 'elasticnet', 'logisticR__solver': 'saga'}\n",
      "\n",
      "Model with rank: 2\n",
      "Mean validation score: 0.474 (std: 0.014)\n",
      "Parameters: {'logisticR__C': 1.7121884444958853, 'logisticR__l1_ratio': 0.3076925707365644, 'logisticR__penalty': 'elasticnet', 'logisticR__solver': 'saga'}\n",
      "\n",
      "Model with rank: 3\n",
      "Mean validation score: 0.471 (std: 0.014)\n",
      "Parameters: {'logisticR__C': 1.867199528917896, 'logisticR__l1_ratio': 0.4236631421284509, 'logisticR__penalty': 'elasticnet', 'logisticR__solver': 'saga'}\n",
      "\n"
     ]
    },
    {
     "name": "stderr",
     "output_type": "stream",
     "text": [
      "/Users/eva/.local/lib/python3.6/site-packages/sklearn/linear_model/_sag.py:330: ConvergenceWarning: The max_iter was reached which means the coef_ did not converge\n",
      "  \"the coef_ did not converge\", ConvergenceWarning)\n",
      "[Parallel(n_jobs=1)]: Done   1 out of   1 | elapsed:    3.4s finished\n"
     ]
    }
   ],
   "source": [
    "## Randomized search 1 for Logistic regression : penalty = elasticnet, solver=saga ## \n",
    "\n",
    "# Pipeline\n",
    "# LR + basic vocab for topics\n",
    "lr=LogisticRegression(max_iter=400, random_state=2905, verbose=1)\n",
    "pipe_lr = Pipeline(steps=[('tfidf', tfidf_vectorizer_base), ('logisticR', lr)])\n",
    "\n",
    "# Hp distribution\n",
    "# specify parameters and distributions to sample from --> Randomized\n",
    "param_dist = {'logisticR__penalty':['elasticnet'],\n",
    "              'logisticR__solver':['saga'],\n",
    "              'logisticR__C':stats.uniform(0.1, 2),\n",
    "              'logisticR__l1_ratio': stats.uniform(0, 1)}\n",
    "\n",
    "# Run randomized search\n",
    "# cv = sss Shuffled split with 5 folds, defined earlier\n",
    "sss = StratifiedShuffleSplit(n_splits=5, test_size=0.1, random_state=2905)\n",
    "# iterations\n",
    "n_iter_search = 10\n",
    "random_search = RandomizedSearchCV(pipe_lr, \n",
    "                                   param_distributions=param_dist,\n",
    "                                   verbose=2, \n",
    "                                   random_state=2905,\n",
    "                                   n_iter=n_iter_search,\n",
    "                                   cv=sss, \n",
    "                                   n_jobs = -1 )\n",
    "# Monitor\n",
    "start = time()\n",
    "random_search.fit(X['text'], y_topic)\n",
    "print(\"RandomizedSearchCV took %.2f seconds for %d candidates\"\n",
    "      \" parameter settings.\" % ((time() - start), n_iter_search))\n",
    "report(random_search.cv_results_)\n"
   ]
  },
  {
   "cell_type": "raw",
   "metadata": {},
   "source": [
    "## Randomized search 1 for Logistic regression : penalty = elasticnet, solver=saga ## \n",
    "\n",
    "                                        ___ Results: ____\n",
    "\n",
    "\n",
    "RandomizedSearchCV took 77.72 seconds for 10 candidates parameter settings.\n",
    "Model with rank: 1\n",
    "Mean validation score: 0.479 (std: 0.012)\n",
    "Parameters: {'logisticR__C': 1.8620777171647571, 'logisticR__l1_ratio': 0.08964905142835955, 'logisticR__penalty': 'elasticnet', 'logisticR__solver': 'saga'}\n",
    "\n",
    "Model with rank: 2\n",
    "Mean validation score: 0.474 (std: 0.014)\n",
    "Parameters: {'logisticR__C': 1.7121884444958853, 'logisticR__l1_ratio': 0.3076925707365644, 'logisticR__penalty': 'elasticnet', 'logisticR__solver': 'saga'}\n",
    "\n",
    "Model with rank: 3\n",
    "Mean validation score: 0.471 (std: 0.014)\n",
    "Parameters: {'logisticR__C': 1.867199528917896, 'logisticR__l1_ratio': 0.4236631421284509, 'logisticR__penalty': 'elasticnet', 'logisticR__solver': 'saga'}"
   ]
  },
  {
   "cell_type": "code",
   "execution_count": 51,
   "metadata": {},
   "outputs": [
    {
     "name": "stdout",
     "output_type": "stream",
     "text": [
      "Fitting 5 folds for each of 10 candidates, totalling 50 fits\n"
     ]
    },
    {
     "name": "stderr",
     "output_type": "stream",
     "text": [
      "[Parallel(n_jobs=-1)]: Using backend LokyBackend with 4 concurrent workers.\n",
      "[Parallel(n_jobs=-1)]: Done  33 tasks      | elapsed:   12.9s\n",
      "[Parallel(n_jobs=-1)]: Done  50 out of  50 | elapsed:   18.3s finished\n"
     ]
    },
    {
     "name": "stdout",
     "output_type": "stream",
     "text": [
      "RandomizedSearchCV took 19.01 seconds for 10 candidates parameter settings.\n",
      "Model with rank: 1\n",
      "Mean validation score: 0.474 (std: 0.014)\n",
      "Parameters: {'logisticR__C': 1.6992857251271825}\n",
      "\n",
      "Model with rank: 1\n",
      "Mean validation score: 0.474 (std: 0.016)\n",
      "Parameters: {'logisticR__C': 1.8620777171647571}\n",
      "\n",
      "Model with rank: 3\n",
      "Mean validation score: 0.468 (std: 0.010)\n",
      "Parameters: {'logisticR__C': 1.02974916172587}\n",
      "\n",
      "{'logisticR__C': 1.6992857251271825}\n"
     ]
    },
    {
     "name": "stderr",
     "output_type": "stream",
     "text": [
      "[Parallel(n_jobs=1)]: Using backend SequentialBackend with 1 concurrent workers.\n",
      "[Parallel(n_jobs=1)]: Done   1 out of   1 | elapsed:    0.1s finished\n"
     ]
    }
   ],
   "source": [
    "## Randomized search 2 for Logistic regression : penalty = l2, solver=lbfgs ## \n",
    "\n",
    "# Model types to tune: LR + basic vocab for topics, RF + E-B vocab for locations\n",
    "\n",
    "\n",
    "## Randomized search  for Logistic regression## \n",
    "# LR + basic vocab for topics\n",
    "\n",
    "pipe_lr = Pipeline(steps=[('tfidf', tfidf_vectorizer_base), ('logisticR', lr)])\n",
    "\n",
    "# specify parameters and distributions to sample from --> Randomized\n",
    "param_dist = {'logisticR__C':stats.uniform(0.1, 2)} # l2 penalty, lbfgs solver\n",
    "\n",
    "# run randomized search\n",
    "n_iter_search = 10\n",
    "random_search = RandomizedSearchCV(pipe_lr, \n",
    "                                   param_distributions=param_dist,\n",
    "                                   n_iter=n_iter_search, \n",
    "                                   verbose=2, \n",
    "                                   random_state=2905,\n",
    "                                   cv=sss, \n",
    "                                   n_jobs = -1)\n",
    "\n",
    "start = time()\n",
    "random_search.fit(X['text'], y_topic)\n",
    "print(\"RandomizedSearchCV took %.2f seconds for %d candidates\"\n",
    "      \" parameter settings.\" % ((time() - start), n_iter_search))\n",
    "report(random_search.cv_results_)\n",
    "print(random_search.best_params_)"
   ]
  },
  {
   "cell_type": "raw",
   "metadata": {},
   "source": [
    "## Randomized search 2 for Logistic regression : penalty = l2, solver=lbfgs ## \n",
    "\n",
    "                                        ___ Results: ____\n",
    "\n",
    "RandomizedSearchCV took 20.06 seconds for 10 candidates parameter settings.\n",
    "Model with rank: 1\n",
    "Mean validation score: 0.474 (std: 0.014)\n",
    "Parameters: {'logisticR__C': 1.6910388216086767}\n",
    "\n",
    "Model with rank: 2\n",
    "Mean validation score: 0.468 (std: 0.016)\n",
    "Parameters: {'logisticR__C': 1.1282201218310974}\n",
    "\n",
    "Model with rank: 3\n",
    "Mean validation score: 0.468 (std: 0.018)\n",
    "Parameters: {'logisticR__C': 1.487719382030727}\n",
    "\n",
    "Model with rank: 3\n",
    "Mean validation score: 0.468 (std: 0.016)\n",
    "Parameters: {'logisticR__C': 1.7311788112185886}\n",
    "\n",
    "Best C: \n",
    "{'logisticR__C': 1.6910388216086767}"
   ]
  },
  {
   "cell_type": "code",
   "execution_count": 52,
   "metadata": {},
   "outputs": [
    {
     "data": {
      "text/plain": [
       "'\\n## Grid Search ##\\n\\n# param_grid for Grid\\nparam_grid = {\\'average\\': [True, False],\\n              \\'l1_ratio\\': np.linspace(0, 1, num=10),\\n              \\'alpha\\': np.power(10, np.arange(-4, 1, dtype=float))}\\n\\n# run grid search\\ngrid_search = GridSearchCV(clf, param_grid=param_grid)\\nstart = time()\\ngrid_search.fit(X, y)\\n\\nprint(\"GridSearchCV took %.2f seconds for %d candidate parameter settings.\"\\n      % (time() - start, len(grid_search.cv_results_[\\'params\\'])))\\nreport(grid_search.cv_results_)'"
      ]
     },
     "execution_count": 52,
     "metadata": {},
     "output_type": "execute_result"
    }
   ],
   "source": [
    "\"\"\"\n",
    "## Grid Search ##\n",
    "\n",
    "# param_grid for Grid\n",
    "param_grid = {'average': [True, False],\n",
    "              'l1_ratio': np.linspace(0, 1, num=10),\n",
    "              'alpha': np.power(10, np.arange(-4, 1, dtype=float))}\n",
    "\n",
    "# run grid search\n",
    "grid_search = GridSearchCV(clf, param_grid=param_grid)\n",
    "start = time()\n",
    "grid_search.fit(X, y)\n",
    "\n",
    "print(\"GridSearchCV took %.2f seconds for %d candidate parameter settings.\"\n",
    "      % (time() - start, len(grid_search.cv_results_['params'])))\n",
    "report(grid_search.cv_results_)\"\"\""
   ]
  },
  {
   "cell_type": "markdown",
   "metadata": {},
   "source": [
    "More on solver choices for logistic regression [here](https://towardsdatascience.com/dont-sweat-the-solver-stuff-aea7cddc3451).\n",
    "\n",
    "Tuorial for hp tuning [here](https://towardsdatascience.com/hyperparameter-tuning-the-random-forest-in-python-using-scikit-learn-28d2aa77dd74).\n",
    "\n",
    "*__Warning__*: the following cell will take a very long time to run if you don't have parallel workers."
   ]
  },
  {
   "cell_type": "code",
   "execution_count": 53,
   "metadata": {},
   "outputs": [
    {
     "name": "stderr",
     "output_type": "stream",
     "text": [
      "[Parallel(n_jobs=1)]: Using backend SequentialBackend with 1 concurrent workers.\n"
     ]
    },
    {
     "name": "stdout",
     "output_type": "stream",
     "text": [
      "{'rf__n_estimators': [200, 208, 216, 224, 232, 240, 248, 256, 264, 272, 280, 288, 296, 305, 313, 321, 329, 337, 345, 353, 361, 369, 377, 385, 393, 402, 410, 418, 426, 434, 442, 450, 458, 466, 474, 482, 490, 498, 507, 515, 523, 531, 539, 547, 555, 563, 571, 579, 587, 595, 604, 612, 620, 628, 636, 644, 652, 660, 668, 676, 684, 692, 701, 709, 717, 725, 733, 741, 749, 757, 765, 773, 781, 789, 797, 806, 814, 822, 830, 838, 846, 854, 862, 870, 878, 886, 894, 903, 911, 919, 927, 935, 943, 951, 959, 967, 975, 983, 991, 1000], 'rf__max_features': ['auto', 'sqrt'], 'rf__max_depth': [10, 15, 20, 25, 30, 35, 40, 45, 50, 55, 60, 65, 70, 75, 80, 85, 90, 95, 100, 105, 110, None], 'rf__min_samples_split': [2, 5, 10], 'rf__min_samples_leaf': [1, 2, 4], 'rf__bootstrap': [True, False]}\n",
      "Fitting 5 folds for each of 100 candidates, totalling 500 fits\n",
      "[CV] rf__n_estimators=345, rf__min_samples_split=10, rf__min_samples_leaf=2, rf__max_features=auto, rf__max_depth=None, rf__bootstrap=True \n"
     ]
    },
    {
     "name": "stderr",
     "output_type": "stream",
     "text": [
      "[Parallel(n_jobs=1)]: Using backend SequentialBackend with 1 concurrent workers.\n",
      "[Parallel(n_jobs=1)]: Done 345 out of 345 | elapsed:    1.4s finished\n",
      "[Parallel(n_jobs=1)]: Using backend SequentialBackend with 1 concurrent workers.\n",
      "[Parallel(n_jobs=1)]: Done 345 out of 345 | elapsed:    0.0s finished\n",
      "[Parallel(n_jobs=1)]: Done   1 out of   1 | elapsed:    2.2s remaining:    0.0s\n"
     ]
    },
    {
     "name": "stdout",
     "output_type": "stream",
     "text": [
      "[CV]  rf__n_estimators=345, rf__min_samples_split=10, rf__min_samples_leaf=2, rf__max_features=auto, rf__max_depth=None, rf__bootstrap=True, total=   2.2s\n",
      "[CV] rf__n_estimators=345, rf__min_samples_split=10, rf__min_samples_leaf=2, rf__max_features=auto, rf__max_depth=None, rf__bootstrap=True \n"
     ]
    },
    {
     "name": "stderr",
     "output_type": "stream",
     "text": [
      "[Parallel(n_jobs=1)]: Using backend SequentialBackend with 1 concurrent workers.\n",
      "[Parallel(n_jobs=1)]: Done 345 out of 345 | elapsed:    1.4s finished\n",
      "[Parallel(n_jobs=1)]: Using backend SequentialBackend with 1 concurrent workers.\n",
      "[Parallel(n_jobs=1)]: Done 345 out of 345 | elapsed:    0.0s finished\n"
     ]
    },
    {
     "name": "stdout",
     "output_type": "stream",
     "text": [
      "[CV]  rf__n_estimators=345, rf__min_samples_split=10, rf__min_samples_leaf=2, rf__max_features=auto, rf__max_depth=None, rf__bootstrap=True, total=   2.1s\n",
      "[CV] rf__n_estimators=345, rf__min_samples_split=10, rf__min_samples_leaf=2, rf__max_features=auto, rf__max_depth=None, rf__bootstrap=True \n"
     ]
    },
    {
     "name": "stderr",
     "output_type": "stream",
     "text": [
      "[Parallel(n_jobs=1)]: Using backend SequentialBackend with 1 concurrent workers.\n",
      "[Parallel(n_jobs=1)]: Done 345 out of 345 | elapsed:    1.4s finished\n",
      "[Parallel(n_jobs=1)]: Using backend SequentialBackend with 1 concurrent workers.\n",
      "[Parallel(n_jobs=1)]: Done 345 out of 345 | elapsed:    0.0s finished\n"
     ]
    },
    {
     "name": "stdout",
     "output_type": "stream",
     "text": [
      "[CV]  rf__n_estimators=345, rf__min_samples_split=10, rf__min_samples_leaf=2, rf__max_features=auto, rf__max_depth=None, rf__bootstrap=True, total=   2.1s\n",
      "[CV] rf__n_estimators=345, rf__min_samples_split=10, rf__min_samples_leaf=2, rf__max_features=auto, rf__max_depth=None, rf__bootstrap=True \n"
     ]
    },
    {
     "name": "stderr",
     "output_type": "stream",
     "text": [
      "[Parallel(n_jobs=1)]: Using backend SequentialBackend with 1 concurrent workers.\n",
      "[Parallel(n_jobs=1)]: Done 345 out of 345 | elapsed:    1.4s finished\n",
      "[Parallel(n_jobs=1)]: Using backend SequentialBackend with 1 concurrent workers.\n",
      "[Parallel(n_jobs=1)]: Done 345 out of 345 | elapsed:    0.0s finished\n"
     ]
    },
    {
     "name": "stdout",
     "output_type": "stream",
     "text": [
      "[CV]  rf__n_estimators=345, rf__min_samples_split=10, rf__min_samples_leaf=2, rf__max_features=auto, rf__max_depth=None, rf__bootstrap=True, total=   2.1s\n",
      "[CV] rf__n_estimators=345, rf__min_samples_split=10, rf__min_samples_leaf=2, rf__max_features=auto, rf__max_depth=None, rf__bootstrap=True \n"
     ]
    },
    {
     "name": "stderr",
     "output_type": "stream",
     "text": [
      "[Parallel(n_jobs=1)]: Using backend SequentialBackend with 1 concurrent workers.\n",
      "[Parallel(n_jobs=1)]: Done 345 out of 345 | elapsed:    1.3s finished\n",
      "[Parallel(n_jobs=1)]: Using backend SequentialBackend with 1 concurrent workers.\n",
      "[Parallel(n_jobs=1)]: Done 345 out of 345 | elapsed:    0.0s finished\n"
     ]
    },
    {
     "name": "stdout",
     "output_type": "stream",
     "text": [
      "[CV]  rf__n_estimators=345, rf__min_samples_split=10, rf__min_samples_leaf=2, rf__max_features=auto, rf__max_depth=None, rf__bootstrap=True, total=   2.0s\n",
      "[CV] rf__n_estimators=862, rf__min_samples_split=5, rf__min_samples_leaf=1, rf__max_features=sqrt, rf__max_depth=20, rf__bootstrap=True \n"
     ]
    },
    {
     "name": "stderr",
     "output_type": "stream",
     "text": [
      "[Parallel(n_jobs=1)]: Using backend SequentialBackend with 1 concurrent workers.\n",
      "[Parallel(n_jobs=1)]: Done 862 out of 862 | elapsed:    4.3s finished\n",
      "[Parallel(n_jobs=1)]: Using backend SequentialBackend with 1 concurrent workers.\n",
      "[Parallel(n_jobs=1)]: Done 862 out of 862 | elapsed:    0.1s finished\n"
     ]
    },
    {
     "name": "stdout",
     "output_type": "stream",
     "text": [
      "[CV]  rf__n_estimators=862, rf__min_samples_split=5, rf__min_samples_leaf=1, rf__max_features=sqrt, rf__max_depth=20, rf__bootstrap=True, total=   5.2s\n",
      "[CV] rf__n_estimators=862, rf__min_samples_split=5, rf__min_samples_leaf=1, rf__max_features=sqrt, rf__max_depth=20, rf__bootstrap=True \n"
     ]
    },
    {
     "name": "stderr",
     "output_type": "stream",
     "text": [
      "[Parallel(n_jobs=1)]: Using backend SequentialBackend with 1 concurrent workers.\n",
      "[Parallel(n_jobs=1)]: Done 862 out of 862 | elapsed:    4.2s finished\n",
      "[Parallel(n_jobs=1)]: Using backend SequentialBackend with 1 concurrent workers.\n",
      "[Parallel(n_jobs=1)]: Done 862 out of 862 | elapsed:    0.1s finished\n"
     ]
    },
    {
     "name": "stdout",
     "output_type": "stream",
     "text": [
      "[CV]  rf__n_estimators=862, rf__min_samples_split=5, rf__min_samples_leaf=1, rf__max_features=sqrt, rf__max_depth=20, rf__bootstrap=True, total=   5.1s\n",
      "[CV] rf__n_estimators=862, rf__min_samples_split=5, rf__min_samples_leaf=1, rf__max_features=sqrt, rf__max_depth=20, rf__bootstrap=True \n"
     ]
    },
    {
     "name": "stderr",
     "output_type": "stream",
     "text": [
      "[Parallel(n_jobs=1)]: Using backend SequentialBackend with 1 concurrent workers.\n",
      "[Parallel(n_jobs=1)]: Done 862 out of 862 | elapsed:    4.1s finished\n",
      "[Parallel(n_jobs=1)]: Using backend SequentialBackend with 1 concurrent workers.\n",
      "[Parallel(n_jobs=1)]: Done 862 out of 862 | elapsed:    0.1s finished\n"
     ]
    },
    {
     "name": "stdout",
     "output_type": "stream",
     "text": [
      "[CV]  rf__n_estimators=862, rf__min_samples_split=5, rf__min_samples_leaf=1, rf__max_features=sqrt, rf__max_depth=20, rf__bootstrap=True, total=   5.0s\n",
      "[CV] rf__n_estimators=862, rf__min_samples_split=5, rf__min_samples_leaf=1, rf__max_features=sqrt, rf__max_depth=20, rf__bootstrap=True \n"
     ]
    },
    {
     "name": "stderr",
     "output_type": "stream",
     "text": [
      "[Parallel(n_jobs=1)]: Using backend SequentialBackend with 1 concurrent workers.\n",
      "[Parallel(n_jobs=1)]: Done 862 out of 862 | elapsed:    4.4s finished\n",
      "[Parallel(n_jobs=1)]: Using backend SequentialBackend with 1 concurrent workers.\n",
      "[Parallel(n_jobs=1)]: Done 862 out of 862 | elapsed:    0.1s finished\n"
     ]
    },
    {
     "name": "stdout",
     "output_type": "stream",
     "text": [
      "[CV]  rf__n_estimators=862, rf__min_samples_split=5, rf__min_samples_leaf=1, rf__max_features=sqrt, rf__max_depth=20, rf__bootstrap=True, total=   5.3s\n",
      "[CV] rf__n_estimators=862, rf__min_samples_split=5, rf__min_samples_leaf=1, rf__max_features=sqrt, rf__max_depth=20, rf__bootstrap=True \n"
     ]
    },
    {
     "name": "stderr",
     "output_type": "stream",
     "text": [
      "[Parallel(n_jobs=1)]: Using backend SequentialBackend with 1 concurrent workers.\n",
      "[Parallel(n_jobs=1)]: Done 862 out of 862 | elapsed:    4.2s finished\n",
      "[Parallel(n_jobs=1)]: Using backend SequentialBackend with 1 concurrent workers.\n",
      "[Parallel(n_jobs=1)]: Done 862 out of 862 | elapsed:    0.1s finished\n"
     ]
    },
    {
     "name": "stdout",
     "output_type": "stream",
     "text": [
      "[CV]  rf__n_estimators=862, rf__min_samples_split=5, rf__min_samples_leaf=1, rf__max_features=sqrt, rf__max_depth=20, rf__bootstrap=True, total=   5.1s\n",
      "[CV] rf__n_estimators=628, rf__min_samples_split=5, rf__min_samples_leaf=4, rf__max_features=auto, rf__max_depth=85, rf__bootstrap=True \n"
     ]
    },
    {
     "name": "stderr",
     "output_type": "stream",
     "text": [
      "[Parallel(n_jobs=1)]: Using backend SequentialBackend with 1 concurrent workers.\n",
      "[Parallel(n_jobs=1)]: Done 628 out of 628 | elapsed:    2.3s finished\n",
      "[Parallel(n_jobs=1)]: Using backend SequentialBackend with 1 concurrent workers.\n",
      "[Parallel(n_jobs=1)]: Done 628 out of 628 | elapsed:    0.1s finished\n"
     ]
    },
    {
     "name": "stdout",
     "output_type": "stream",
     "text": [
      "[CV]  rf__n_estimators=628, rf__min_samples_split=5, rf__min_samples_leaf=4, rf__max_features=auto, rf__max_depth=85, rf__bootstrap=True, total=   3.2s\n",
      "[CV] rf__n_estimators=628, rf__min_samples_split=5, rf__min_samples_leaf=4, rf__max_features=auto, rf__max_depth=85, rf__bootstrap=True \n"
     ]
    },
    {
     "name": "stderr",
     "output_type": "stream",
     "text": [
      "[Parallel(n_jobs=1)]: Using backend SequentialBackend with 1 concurrent workers.\n",
      "[Parallel(n_jobs=1)]: Done 628 out of 628 | elapsed:    2.4s finished\n",
      "[Parallel(n_jobs=1)]: Using backend SequentialBackend with 1 concurrent workers.\n",
      "[Parallel(n_jobs=1)]: Done 628 out of 628 | elapsed:    0.1s finished\n"
     ]
    },
    {
     "name": "stdout",
     "output_type": "stream",
     "text": [
      "[CV]  rf__n_estimators=628, rf__min_samples_split=5, rf__min_samples_leaf=4, rf__max_features=auto, rf__max_depth=85, rf__bootstrap=True, total=   3.2s\n",
      "[CV] rf__n_estimators=628, rf__min_samples_split=5, rf__min_samples_leaf=4, rf__max_features=auto, rf__max_depth=85, rf__bootstrap=True \n"
     ]
    },
    {
     "name": "stderr",
     "output_type": "stream",
     "text": [
      "[Parallel(n_jobs=1)]: Using backend SequentialBackend with 1 concurrent workers.\n",
      "[Parallel(n_jobs=1)]: Done 628 out of 628 | elapsed:    2.4s finished\n",
      "[Parallel(n_jobs=1)]: Using backend SequentialBackend with 1 concurrent workers.\n",
      "[Parallel(n_jobs=1)]: Done 628 out of 628 | elapsed:    0.1s finished\n"
     ]
    },
    {
     "name": "stdout",
     "output_type": "stream",
     "text": [
      "[CV]  rf__n_estimators=628, rf__min_samples_split=5, rf__min_samples_leaf=4, rf__max_features=auto, rf__max_depth=85, rf__bootstrap=True, total=   3.2s\n",
      "[CV] rf__n_estimators=628, rf__min_samples_split=5, rf__min_samples_leaf=4, rf__max_features=auto, rf__max_depth=85, rf__bootstrap=True \n"
     ]
    },
    {
     "name": "stderr",
     "output_type": "stream",
     "text": [
      "[Parallel(n_jobs=1)]: Using backend SequentialBackend with 1 concurrent workers.\n",
      "[Parallel(n_jobs=1)]: Done 628 out of 628 | elapsed:    2.3s finished\n",
      "[Parallel(n_jobs=1)]: Using backend SequentialBackend with 1 concurrent workers.\n",
      "[Parallel(n_jobs=1)]: Done 628 out of 628 | elapsed:    0.1s finished\n"
     ]
    },
    {
     "name": "stdout",
     "output_type": "stream",
     "text": [
      "[CV]  rf__n_estimators=628, rf__min_samples_split=5, rf__min_samples_leaf=4, rf__max_features=auto, rf__max_depth=85, rf__bootstrap=True, total=   3.1s\n",
      "[CV] rf__n_estimators=628, rf__min_samples_split=5, rf__min_samples_leaf=4, rf__max_features=auto, rf__max_depth=85, rf__bootstrap=True \n"
     ]
    },
    {
     "name": "stderr",
     "output_type": "stream",
     "text": [
      "[Parallel(n_jobs=1)]: Using backend SequentialBackend with 1 concurrent workers.\n",
      "[Parallel(n_jobs=1)]: Done 628 out of 628 | elapsed:    2.3s finished\n",
      "[Parallel(n_jobs=1)]: Using backend SequentialBackend with 1 concurrent workers.\n",
      "[Parallel(n_jobs=1)]: Done 628 out of 628 | elapsed:    0.1s finished\n"
     ]
    },
    {
     "name": "stdout",
     "output_type": "stream",
     "text": [
      "[CV]  rf__n_estimators=628, rf__min_samples_split=5, rf__min_samples_leaf=4, rf__max_features=auto, rf__max_depth=85, rf__bootstrap=True, total=   3.1s\n",
      "[CV] rf__n_estimators=288, rf__min_samples_split=2, rf__min_samples_leaf=1, rf__max_features=sqrt, rf__max_depth=105, rf__bootstrap=False \n"
     ]
    },
    {
     "name": "stderr",
     "output_type": "stream",
     "text": [
      "[Parallel(n_jobs=1)]: Using backend SequentialBackend with 1 concurrent workers.\n",
      "[Parallel(n_jobs=1)]: Done 288 out of 288 | elapsed:    2.0s finished\n",
      "[Parallel(n_jobs=1)]: Using backend SequentialBackend with 1 concurrent workers.\n",
      "[Parallel(n_jobs=1)]: Done 288 out of 288 | elapsed:    0.0s finished\n"
     ]
    },
    {
     "name": "stdout",
     "output_type": "stream",
     "text": [
      "[CV]  rf__n_estimators=288, rf__min_samples_split=2, rf__min_samples_leaf=1, rf__max_features=sqrt, rf__max_depth=105, rf__bootstrap=False, total=   2.7s\n",
      "[CV] rf__n_estimators=288, rf__min_samples_split=2, rf__min_samples_leaf=1, rf__max_features=sqrt, rf__max_depth=105, rf__bootstrap=False \n"
     ]
    },
    {
     "name": "stderr",
     "output_type": "stream",
     "text": [
      "[Parallel(n_jobs=1)]: Using backend SequentialBackend with 1 concurrent workers.\n",
      "[Parallel(n_jobs=1)]: Done 288 out of 288 | elapsed:    2.0s finished\n",
      "[Parallel(n_jobs=1)]: Using backend SequentialBackend with 1 concurrent workers.\n",
      "[Parallel(n_jobs=1)]: Done 288 out of 288 | elapsed:    0.0s finished\n"
     ]
    },
    {
     "name": "stdout",
     "output_type": "stream",
     "text": [
      "[CV]  rf__n_estimators=288, rf__min_samples_split=2, rf__min_samples_leaf=1, rf__max_features=sqrt, rf__max_depth=105, rf__bootstrap=False, total=   2.7s\n",
      "[CV] rf__n_estimators=288, rf__min_samples_split=2, rf__min_samples_leaf=1, rf__max_features=sqrt, rf__max_depth=105, rf__bootstrap=False \n"
     ]
    },
    {
     "name": "stderr",
     "output_type": "stream",
     "text": [
      "[Parallel(n_jobs=1)]: Using backend SequentialBackend with 1 concurrent workers.\n",
      "[Parallel(n_jobs=1)]: Done 288 out of 288 | elapsed:    2.0s finished\n",
      "[Parallel(n_jobs=1)]: Using backend SequentialBackend with 1 concurrent workers.\n",
      "[Parallel(n_jobs=1)]: Done 288 out of 288 | elapsed:    0.0s finished\n"
     ]
    },
    {
     "name": "stdout",
     "output_type": "stream",
     "text": [
      "[CV]  rf__n_estimators=288, rf__min_samples_split=2, rf__min_samples_leaf=1, rf__max_features=sqrt, rf__max_depth=105, rf__bootstrap=False, total=   2.6s\n",
      "[CV] rf__n_estimators=288, rf__min_samples_split=2, rf__min_samples_leaf=1, rf__max_features=sqrt, rf__max_depth=105, rf__bootstrap=False \n"
     ]
    },
    {
     "name": "stderr",
     "output_type": "stream",
     "text": [
      "[Parallel(n_jobs=1)]: Using backend SequentialBackend with 1 concurrent workers.\n",
      "[Parallel(n_jobs=1)]: Done 288 out of 288 | elapsed:    2.0s finished\n",
      "[Parallel(n_jobs=1)]: Using backend SequentialBackend with 1 concurrent workers.\n",
      "[Parallel(n_jobs=1)]: Done 288 out of 288 | elapsed:    0.0s finished\n"
     ]
    },
    {
     "name": "stdout",
     "output_type": "stream",
     "text": [
      "[CV]  rf__n_estimators=288, rf__min_samples_split=2, rf__min_samples_leaf=1, rf__max_features=sqrt, rf__max_depth=105, rf__bootstrap=False, total=   2.6s\n",
      "[CV] rf__n_estimators=288, rf__min_samples_split=2, rf__min_samples_leaf=1, rf__max_features=sqrt, rf__max_depth=105, rf__bootstrap=False \n"
     ]
    },
    {
     "name": "stderr",
     "output_type": "stream",
     "text": [
      "[Parallel(n_jobs=1)]: Using backend SequentialBackend with 1 concurrent workers.\n",
      "[Parallel(n_jobs=1)]: Done 288 out of 288 | elapsed:    2.0s finished\n",
      "[Parallel(n_jobs=1)]: Using backend SequentialBackend with 1 concurrent workers.\n",
      "[Parallel(n_jobs=1)]: Done 288 out of 288 | elapsed:    0.0s finished\n"
     ]
    },
    {
     "name": "stdout",
     "output_type": "stream",
     "text": [
      "[CV]  rf__n_estimators=288, rf__min_samples_split=2, rf__min_samples_leaf=1, rf__max_features=sqrt, rf__max_depth=105, rf__bootstrap=False, total=   2.6s\n",
      "[CV] rf__n_estimators=789, rf__min_samples_split=5, rf__min_samples_leaf=1, rf__max_features=sqrt, rf__max_depth=110, rf__bootstrap=True \n"
     ]
    },
    {
     "name": "stderr",
     "output_type": "stream",
     "text": [
      "[Parallel(n_jobs=1)]: Using backend SequentialBackend with 1 concurrent workers.\n",
      "[Parallel(n_jobs=1)]: Done 789 out of 789 | elapsed:    3.9s finished\n",
      "[Parallel(n_jobs=1)]: Using backend SequentialBackend with 1 concurrent workers.\n",
      "[Parallel(n_jobs=1)]: Done 789 out of 789 | elapsed:    0.1s finished\n"
     ]
    },
    {
     "name": "stdout",
     "output_type": "stream",
     "text": [
      "[CV]  rf__n_estimators=789, rf__min_samples_split=5, rf__min_samples_leaf=1, rf__max_features=sqrt, rf__max_depth=110, rf__bootstrap=True, total=   4.7s\n",
      "[CV] rf__n_estimators=789, rf__min_samples_split=5, rf__min_samples_leaf=1, rf__max_features=sqrt, rf__max_depth=110, rf__bootstrap=True \n"
     ]
    },
    {
     "name": "stderr",
     "output_type": "stream",
     "text": [
      "[Parallel(n_jobs=1)]: Using backend SequentialBackend with 1 concurrent workers.\n",
      "[Parallel(n_jobs=1)]: Done 789 out of 789 | elapsed:    8.3s finished\n",
      "[Parallel(n_jobs=1)]: Using backend SequentialBackend with 1 concurrent workers.\n",
      "[Parallel(n_jobs=1)]: Done 789 out of 789 | elapsed:    0.3s finished\n"
     ]
    },
    {
     "name": "stdout",
     "output_type": "stream",
     "text": [
      "[CV]  rf__n_estimators=789, rf__min_samples_split=5, rf__min_samples_leaf=1, rf__max_features=sqrt, rf__max_depth=110, rf__bootstrap=True, total=   9.4s\n",
      "[CV] rf__n_estimators=789, rf__min_samples_split=5, rf__min_samples_leaf=1, rf__max_features=sqrt, rf__max_depth=110, rf__bootstrap=True \n"
     ]
    },
    {
     "name": "stderr",
     "output_type": "stream",
     "text": [
      "[Parallel(n_jobs=1)]: Using backend SequentialBackend with 1 concurrent workers.\n",
      "[Parallel(n_jobs=1)]: Done 789 out of 789 | elapsed:   10.6s finished\n",
      "[Parallel(n_jobs=1)]: Using backend SequentialBackend with 1 concurrent workers.\n",
      "[Parallel(n_jobs=1)]: Done 789 out of 789 | elapsed:    0.3s finished\n"
     ]
    },
    {
     "name": "stdout",
     "output_type": "stream",
     "text": [
      "[CV]  rf__n_estimators=789, rf__min_samples_split=5, rf__min_samples_leaf=1, rf__max_features=sqrt, rf__max_depth=110, rf__bootstrap=True, total=  13.5s\n",
      "[CV] rf__n_estimators=789, rf__min_samples_split=5, rf__min_samples_leaf=1, rf__max_features=sqrt, rf__max_depth=110, rf__bootstrap=True \n"
     ]
    },
    {
     "name": "stderr",
     "output_type": "stream",
     "text": [
      "[Parallel(n_jobs=1)]: Using backend SequentialBackend with 1 concurrent workers.\n",
      "[Parallel(n_jobs=1)]: Done 789 out of 789 | elapsed:   10.4s finished\n",
      "[Parallel(n_jobs=1)]: Using backend SequentialBackend with 1 concurrent workers.\n",
      "[Parallel(n_jobs=1)]: Done 789 out of 789 | elapsed:    0.3s finished\n"
     ]
    },
    {
     "name": "stdout",
     "output_type": "stream",
     "text": [
      "[CV]  rf__n_estimators=789, rf__min_samples_split=5, rf__min_samples_leaf=1, rf__max_features=sqrt, rf__max_depth=110, rf__bootstrap=True, total=  13.3s\n",
      "[CV] rf__n_estimators=789, rf__min_samples_split=5, rf__min_samples_leaf=1, rf__max_features=sqrt, rf__max_depth=110, rf__bootstrap=True \n"
     ]
    },
    {
     "name": "stderr",
     "output_type": "stream",
     "text": [
      "[Parallel(n_jobs=1)]: Using backend SequentialBackend with 1 concurrent workers.\n",
      "[Parallel(n_jobs=1)]: Done 789 out of 789 | elapsed:   10.5s finished\n",
      "[Parallel(n_jobs=1)]: Using backend SequentialBackend with 1 concurrent workers.\n",
      "[Parallel(n_jobs=1)]: Done 789 out of 789 | elapsed:    0.3s finished\n"
     ]
    },
    {
     "name": "stdout",
     "output_type": "stream",
     "text": [
      "[CV]  rf__n_estimators=789, rf__min_samples_split=5, rf__min_samples_leaf=1, rf__max_features=sqrt, rf__max_depth=110, rf__bootstrap=True, total=  13.5s\n",
      "[CV] rf__n_estimators=773, rf__min_samples_split=5, rf__min_samples_leaf=2, rf__max_features=sqrt, rf__max_depth=10, rf__bootstrap=True \n"
     ]
    },
    {
     "name": "stderr",
     "output_type": "stream",
     "text": [
      "[Parallel(n_jobs=1)]: Using backend SequentialBackend with 1 concurrent workers.\n",
      "[Parallel(n_jobs=1)]: Done 773 out of 773 | elapsed:    8.1s finished\n",
      "[Parallel(n_jobs=1)]: Using backend SequentialBackend with 1 concurrent workers.\n",
      "[Parallel(n_jobs=1)]: Done 773 out of 773 | elapsed:    0.3s finished\n"
     ]
    },
    {
     "name": "stdout",
     "output_type": "stream",
     "text": [
      "[CV]  rf__n_estimators=773, rf__min_samples_split=5, rf__min_samples_leaf=2, rf__max_features=sqrt, rf__max_depth=10, rf__bootstrap=True, total=  11.0s\n",
      "[CV] rf__n_estimators=773, rf__min_samples_split=5, rf__min_samples_leaf=2, rf__max_features=sqrt, rf__max_depth=10, rf__bootstrap=True \n"
     ]
    },
    {
     "name": "stderr",
     "output_type": "stream",
     "text": [
      "[Parallel(n_jobs=1)]: Using backend SequentialBackend with 1 concurrent workers.\n",
      "[Parallel(n_jobs=1)]: Done 773 out of 773 | elapsed:    8.1s finished\n",
      "[Parallel(n_jobs=1)]: Using backend SequentialBackend with 1 concurrent workers.\n",
      "[Parallel(n_jobs=1)]: Done 773 out of 773 | elapsed:    0.3s finished\n"
     ]
    },
    {
     "name": "stdout",
     "output_type": "stream",
     "text": [
      "[CV]  rf__n_estimators=773, rf__min_samples_split=5, rf__min_samples_leaf=2, rf__max_features=sqrt, rf__max_depth=10, rf__bootstrap=True, total=  11.1s\n",
      "[CV] rf__n_estimators=773, rf__min_samples_split=5, rf__min_samples_leaf=2, rf__max_features=sqrt, rf__max_depth=10, rf__bootstrap=True \n"
     ]
    },
    {
     "name": "stderr",
     "output_type": "stream",
     "text": [
      "[Parallel(n_jobs=1)]: Using backend SequentialBackend with 1 concurrent workers.\n",
      "[Parallel(n_jobs=1)]: Done 773 out of 773 | elapsed:    8.4s finished\n",
      "[Parallel(n_jobs=1)]: Using backend SequentialBackend with 1 concurrent workers.\n",
      "[Parallel(n_jobs=1)]: Done 773 out of 773 | elapsed:    0.3s finished\n"
     ]
    },
    {
     "name": "stdout",
     "output_type": "stream",
     "text": [
      "[CV]  rf__n_estimators=773, rf__min_samples_split=5, rf__min_samples_leaf=2, rf__max_features=sqrt, rf__max_depth=10, rf__bootstrap=True, total=  11.6s\n",
      "[CV] rf__n_estimators=773, rf__min_samples_split=5, rf__min_samples_leaf=2, rf__max_features=sqrt, rf__max_depth=10, rf__bootstrap=True \n"
     ]
    },
    {
     "name": "stderr",
     "output_type": "stream",
     "text": [
      "[Parallel(n_jobs=1)]: Using backend SequentialBackend with 1 concurrent workers.\n",
      "[Parallel(n_jobs=1)]: Done 773 out of 773 | elapsed:    9.2s finished\n",
      "[Parallel(n_jobs=1)]: Using backend SequentialBackend with 1 concurrent workers.\n",
      "[Parallel(n_jobs=1)]: Done 773 out of 773 | elapsed:    0.4s finished\n"
     ]
    },
    {
     "name": "stdout",
     "output_type": "stream",
     "text": [
      "[CV]  rf__n_estimators=773, rf__min_samples_split=5, rf__min_samples_leaf=2, rf__max_features=sqrt, rf__max_depth=10, rf__bootstrap=True, total=  12.5s\n",
      "[CV] rf__n_estimators=773, rf__min_samples_split=5, rf__min_samples_leaf=2, rf__max_features=sqrt, rf__max_depth=10, rf__bootstrap=True \n"
     ]
    },
    {
     "name": "stderr",
     "output_type": "stream",
     "text": [
      "[Parallel(n_jobs=1)]: Using backend SequentialBackend with 1 concurrent workers.\n",
      "[Parallel(n_jobs=1)]: Done 773 out of 773 | elapsed:    8.9s finished\n",
      "[Parallel(n_jobs=1)]: Using backend SequentialBackend with 1 concurrent workers.\n",
      "[Parallel(n_jobs=1)]: Done 773 out of 773 | elapsed:    0.3s finished\n"
     ]
    },
    {
     "name": "stdout",
     "output_type": "stream",
     "text": [
      "[CV]  rf__n_estimators=773, rf__min_samples_split=5, rf__min_samples_leaf=2, rf__max_features=sqrt, rf__max_depth=10, rf__bootstrap=True, total=  12.6s\n",
      "[CV] rf__n_estimators=402, rf__min_samples_split=5, rf__min_samples_leaf=1, rf__max_features=auto, rf__max_depth=70, rf__bootstrap=True \n"
     ]
    },
    {
     "name": "stderr",
     "output_type": "stream",
     "text": [
      "[Parallel(n_jobs=1)]: Using backend SequentialBackend with 1 concurrent workers.\n",
      "[Parallel(n_jobs=1)]: Done 402 out of 402 | elapsed:    5.2s finished\n",
      "[Parallel(n_jobs=1)]: Using backend SequentialBackend with 1 concurrent workers.\n",
      "[Parallel(n_jobs=1)]: Done 402 out of 402 | elapsed:    0.2s finished\n"
     ]
    },
    {
     "name": "stdout",
     "output_type": "stream",
     "text": [
      "[CV]  rf__n_estimators=402, rf__min_samples_split=5, rf__min_samples_leaf=1, rf__max_features=auto, rf__max_depth=70, rf__bootstrap=True, total=   7.5s\n",
      "[CV] rf__n_estimators=402, rf__min_samples_split=5, rf__min_samples_leaf=1, rf__max_features=auto, rf__max_depth=70, rf__bootstrap=True \n"
     ]
    },
    {
     "name": "stderr",
     "output_type": "stream",
     "text": [
      "[Parallel(n_jobs=1)]: Using backend SequentialBackend with 1 concurrent workers.\n",
      "[Parallel(n_jobs=1)]: Done 402 out of 402 | elapsed:    5.1s finished\n",
      "[Parallel(n_jobs=1)]: Using backend SequentialBackend with 1 concurrent workers.\n",
      "[Parallel(n_jobs=1)]: Done 402 out of 402 | elapsed:    0.2s finished\n"
     ]
    },
    {
     "name": "stdout",
     "output_type": "stream",
     "text": [
      "[CV]  rf__n_estimators=402, rf__min_samples_split=5, rf__min_samples_leaf=1, rf__max_features=auto, rf__max_depth=70, rf__bootstrap=True, total=   7.4s\n",
      "[CV] rf__n_estimators=402, rf__min_samples_split=5, rf__min_samples_leaf=1, rf__max_features=auto, rf__max_depth=70, rf__bootstrap=True \n"
     ]
    },
    {
     "name": "stderr",
     "output_type": "stream",
     "text": [
      "[Parallel(n_jobs=1)]: Using backend SequentialBackend with 1 concurrent workers.\n",
      "[Parallel(n_jobs=1)]: Done 402 out of 402 | elapsed:    5.1s finished\n",
      "[Parallel(n_jobs=1)]: Using backend SequentialBackend with 1 concurrent workers.\n",
      "[Parallel(n_jobs=1)]: Done 402 out of 402 | elapsed:    0.2s finished\n"
     ]
    },
    {
     "name": "stdout",
     "output_type": "stream",
     "text": [
      "[CV]  rf__n_estimators=402, rf__min_samples_split=5, rf__min_samples_leaf=1, rf__max_features=auto, rf__max_depth=70, rf__bootstrap=True, total=   7.4s\n",
      "[CV] rf__n_estimators=402, rf__min_samples_split=5, rf__min_samples_leaf=1, rf__max_features=auto, rf__max_depth=70, rf__bootstrap=True \n"
     ]
    },
    {
     "name": "stderr",
     "output_type": "stream",
     "text": [
      "[Parallel(n_jobs=1)]: Using backend SequentialBackend with 1 concurrent workers.\n",
      "[Parallel(n_jobs=1)]: Done 402 out of 402 | elapsed:    5.4s finished\n",
      "[Parallel(n_jobs=1)]: Using backend SequentialBackend with 1 concurrent workers.\n",
      "[Parallel(n_jobs=1)]: Done 402 out of 402 | elapsed:    0.2s finished\n"
     ]
    },
    {
     "name": "stdout",
     "output_type": "stream",
     "text": [
      "[CV]  rf__n_estimators=402, rf__min_samples_split=5, rf__min_samples_leaf=1, rf__max_features=auto, rf__max_depth=70, rf__bootstrap=True, total=   7.7s\n",
      "[CV] rf__n_estimators=402, rf__min_samples_split=5, rf__min_samples_leaf=1, rf__max_features=auto, rf__max_depth=70, rf__bootstrap=True \n"
     ]
    },
    {
     "name": "stderr",
     "output_type": "stream",
     "text": [
      "[Parallel(n_jobs=1)]: Using backend SequentialBackend with 1 concurrent workers.\n",
      "[Parallel(n_jobs=1)]: Done 402 out of 402 | elapsed:    5.6s finished\n",
      "[Parallel(n_jobs=1)]: Using backend SequentialBackend with 1 concurrent workers.\n",
      "[Parallel(n_jobs=1)]: Done 402 out of 402 | elapsed:    0.2s finished\n"
     ]
    },
    {
     "name": "stdout",
     "output_type": "stream",
     "text": [
      "[CV]  rf__n_estimators=402, rf__min_samples_split=5, rf__min_samples_leaf=1, rf__max_features=auto, rf__max_depth=70, rf__bootstrap=True, total=   8.0s\n",
      "[CV] rf__n_estimators=725, rf__min_samples_split=10, rf__min_samples_leaf=1, rf__max_features=auto, rf__max_depth=10, rf__bootstrap=False \n"
     ]
    },
    {
     "name": "stderr",
     "output_type": "stream",
     "text": [
      "[Parallel(n_jobs=1)]: Using backend SequentialBackend with 1 concurrent workers.\n",
      "[Parallel(n_jobs=1)]: Done 725 out of 725 | elapsed:    9.3s finished\n",
      "[Parallel(n_jobs=1)]: Using backend SequentialBackend with 1 concurrent workers.\n",
      "[Parallel(n_jobs=1)]: Done 725 out of 725 | elapsed:    0.3s finished\n"
     ]
    },
    {
     "name": "stdout",
     "output_type": "stream",
     "text": [
      "[CV]  rf__n_estimators=725, rf__min_samples_split=10, rf__min_samples_leaf=1, rf__max_features=auto, rf__max_depth=10, rf__bootstrap=False, total=  12.6s\n",
      "[CV] rf__n_estimators=725, rf__min_samples_split=10, rf__min_samples_leaf=1, rf__max_features=auto, rf__max_depth=10, rf__bootstrap=False \n"
     ]
    },
    {
     "name": "stderr",
     "output_type": "stream",
     "text": [
      "[Parallel(n_jobs=1)]: Using backend SequentialBackend with 1 concurrent workers.\n",
      "[Parallel(n_jobs=1)]: Done 725 out of 725 | elapsed:    8.0s finished\n",
      "[Parallel(n_jobs=1)]: Using backend SequentialBackend with 1 concurrent workers.\n",
      "[Parallel(n_jobs=1)]: Done 725 out of 725 | elapsed:    0.3s finished\n"
     ]
    },
    {
     "name": "stdout",
     "output_type": "stream",
     "text": [
      "[CV]  rf__n_estimators=725, rf__min_samples_split=10, rf__min_samples_leaf=1, rf__max_features=auto, rf__max_depth=10, rf__bootstrap=False, total=  10.8s\n",
      "[CV] rf__n_estimators=725, rf__min_samples_split=10, rf__min_samples_leaf=1, rf__max_features=auto, rf__max_depth=10, rf__bootstrap=False \n"
     ]
    },
    {
     "name": "stderr",
     "output_type": "stream",
     "text": [
      "[Parallel(n_jobs=1)]: Using backend SequentialBackend with 1 concurrent workers.\n",
      "[Parallel(n_jobs=1)]: Done 725 out of 725 | elapsed:   10.0s finished\n",
      "[Parallel(n_jobs=1)]: Using backend SequentialBackend with 1 concurrent workers.\n",
      "[Parallel(n_jobs=1)]: Done 725 out of 725 | elapsed:    0.3s finished\n"
     ]
    },
    {
     "name": "stdout",
     "output_type": "stream",
     "text": [
      "[CV]  rf__n_estimators=725, rf__min_samples_split=10, rf__min_samples_leaf=1, rf__max_features=auto, rf__max_depth=10, rf__bootstrap=False, total=  12.8s\n",
      "[CV] rf__n_estimators=725, rf__min_samples_split=10, rf__min_samples_leaf=1, rf__max_features=auto, rf__max_depth=10, rf__bootstrap=False \n"
     ]
    },
    {
     "name": "stderr",
     "output_type": "stream",
     "text": [
      "[Parallel(n_jobs=1)]: Using backend SequentialBackend with 1 concurrent workers.\n",
      "[Parallel(n_jobs=1)]: Done 725 out of 725 | elapsed:    7.9s finished\n",
      "[Parallel(n_jobs=1)]: Using backend SequentialBackend with 1 concurrent workers.\n",
      "[Parallel(n_jobs=1)]: Done 725 out of 725 | elapsed:    0.3s finished\n"
     ]
    },
    {
     "name": "stdout",
     "output_type": "stream",
     "text": [
      "[CV]  rf__n_estimators=725, rf__min_samples_split=10, rf__min_samples_leaf=1, rf__max_features=auto, rf__max_depth=10, rf__bootstrap=False, total=  11.1s\n",
      "[CV] rf__n_estimators=725, rf__min_samples_split=10, rf__min_samples_leaf=1, rf__max_features=auto, rf__max_depth=10, rf__bootstrap=False \n"
     ]
    },
    {
     "name": "stderr",
     "output_type": "stream",
     "text": [
      "[Parallel(n_jobs=1)]: Using backend SequentialBackend with 1 concurrent workers.\n",
      "[Parallel(n_jobs=1)]: Done 725 out of 725 | elapsed:    7.7s finished\n",
      "[Parallel(n_jobs=1)]: Using backend SequentialBackend with 1 concurrent workers.\n",
      "[Parallel(n_jobs=1)]: Done 725 out of 725 | elapsed:    0.3s finished\n"
     ]
    },
    {
     "name": "stdout",
     "output_type": "stream",
     "text": [
      "[CV]  rf__n_estimators=725, rf__min_samples_split=10, rf__min_samples_leaf=1, rf__max_features=auto, rf__max_depth=10, rf__bootstrap=False, total=  10.6s\n",
      "[CV] rf__n_estimators=903, rf__min_samples_split=2, rf__min_samples_leaf=1, rf__max_features=sqrt, rf__max_depth=65, rf__bootstrap=False \n"
     ]
    },
    {
     "name": "stderr",
     "output_type": "stream",
     "text": [
      "[Parallel(n_jobs=1)]: Using backend SequentialBackend with 1 concurrent workers.\n",
      "[Parallel(n_jobs=1)]: Done 903 out of 903 | elapsed:   18.6s finished\n",
      "[Parallel(n_jobs=1)]: Using backend SequentialBackend with 1 concurrent workers.\n",
      "[Parallel(n_jobs=1)]: Done 903 out of 903 | elapsed:    0.4s finished\n"
     ]
    },
    {
     "name": "stdout",
     "output_type": "stream",
     "text": [
      "[CV]  rf__n_estimators=903, rf__min_samples_split=2, rf__min_samples_leaf=1, rf__max_features=sqrt, rf__max_depth=65, rf__bootstrap=False, total=  21.9s\n",
      "[CV] rf__n_estimators=903, rf__min_samples_split=2, rf__min_samples_leaf=1, rf__max_features=sqrt, rf__max_depth=65, rf__bootstrap=False \n"
     ]
    },
    {
     "name": "stderr",
     "output_type": "stream",
     "text": [
      "[Parallel(n_jobs=1)]: Using backend SequentialBackend with 1 concurrent workers.\n",
      "[Parallel(n_jobs=1)]: Done 903 out of 903 | elapsed:   15.5s finished\n",
      "[Parallel(n_jobs=1)]: Using backend SequentialBackend with 1 concurrent workers.\n",
      "[Parallel(n_jobs=1)]: Done 903 out of 903 | elapsed:    0.4s finished\n"
     ]
    },
    {
     "name": "stdout",
     "output_type": "stream",
     "text": [
      "[CV]  rf__n_estimators=903, rf__min_samples_split=2, rf__min_samples_leaf=1, rf__max_features=sqrt, rf__max_depth=65, rf__bootstrap=False, total=  18.9s\n",
      "[CV] rf__n_estimators=903, rf__min_samples_split=2, rf__min_samples_leaf=1, rf__max_features=sqrt, rf__max_depth=65, rf__bootstrap=False \n"
     ]
    },
    {
     "name": "stderr",
     "output_type": "stream",
     "text": [
      "[Parallel(n_jobs=1)]: Using backend SequentialBackend with 1 concurrent workers.\n",
      "[Parallel(n_jobs=1)]: Done 903 out of 903 | elapsed:   15.5s finished\n",
      "[Parallel(n_jobs=1)]: Using backend SequentialBackend with 1 concurrent workers.\n",
      "[Parallel(n_jobs=1)]: Done 903 out of 903 | elapsed:    0.4s finished\n"
     ]
    },
    {
     "name": "stdout",
     "output_type": "stream",
     "text": [
      "[CV]  rf__n_estimators=903, rf__min_samples_split=2, rf__min_samples_leaf=1, rf__max_features=sqrt, rf__max_depth=65, rf__bootstrap=False, total=  18.4s\n",
      "[CV] rf__n_estimators=903, rf__min_samples_split=2, rf__min_samples_leaf=1, rf__max_features=sqrt, rf__max_depth=65, rf__bootstrap=False \n"
     ]
    },
    {
     "name": "stderr",
     "output_type": "stream",
     "text": [
      "[Parallel(n_jobs=1)]: Using backend SequentialBackend with 1 concurrent workers.\n",
      "[Parallel(n_jobs=1)]: Done 903 out of 903 | elapsed:   16.6s finished\n",
      "[Parallel(n_jobs=1)]: Using backend SequentialBackend with 1 concurrent workers.\n",
      "[Parallel(n_jobs=1)]: Done 903 out of 903 | elapsed:    0.3s finished\n"
     ]
    },
    {
     "name": "stdout",
     "output_type": "stream",
     "text": [
      "[CV]  rf__n_estimators=903, rf__min_samples_split=2, rf__min_samples_leaf=1, rf__max_features=sqrt, rf__max_depth=65, rf__bootstrap=False, total=  19.9s\n",
      "[CV] rf__n_estimators=903, rf__min_samples_split=2, rf__min_samples_leaf=1, rf__max_features=sqrt, rf__max_depth=65, rf__bootstrap=False \n"
     ]
    },
    {
     "name": "stderr",
     "output_type": "stream",
     "text": [
      "[Parallel(n_jobs=1)]: Using backend SequentialBackend with 1 concurrent workers.\n",
      "[Parallel(n_jobs=1)]: Done 903 out of 903 | elapsed:   16.2s finished\n",
      "[Parallel(n_jobs=1)]: Using backend SequentialBackend with 1 concurrent workers.\n",
      "[Parallel(n_jobs=1)]: Done 903 out of 903 | elapsed:    0.4s finished\n"
     ]
    },
    {
     "name": "stdout",
     "output_type": "stream",
     "text": [
      "[CV]  rf__n_estimators=903, rf__min_samples_split=2, rf__min_samples_leaf=1, rf__max_features=sqrt, rf__max_depth=65, rf__bootstrap=False, total=  19.3s\n",
      "[CV] rf__n_estimators=765, rf__min_samples_split=10, rf__min_samples_leaf=1, rf__max_features=sqrt, rf__max_depth=35, rf__bootstrap=True \n"
     ]
    },
    {
     "name": "stderr",
     "output_type": "stream",
     "text": [
      "[Parallel(n_jobs=1)]: Using backend SequentialBackend with 1 concurrent workers.\n",
      "[Parallel(n_jobs=1)]: Done 765 out of 765 | elapsed:   10.0s finished\n",
      "[Parallel(n_jobs=1)]: Using backend SequentialBackend with 1 concurrent workers.\n",
      "[Parallel(n_jobs=1)]: Done 765 out of 765 | elapsed:    0.3s finished\n"
     ]
    },
    {
     "name": "stdout",
     "output_type": "stream",
     "text": [
      "[CV]  rf__n_estimators=765, rf__min_samples_split=10, rf__min_samples_leaf=1, rf__max_features=sqrt, rf__max_depth=35, rf__bootstrap=True, total=  13.3s\n",
      "[CV] rf__n_estimators=765, rf__min_samples_split=10, rf__min_samples_leaf=1, rf__max_features=sqrt, rf__max_depth=35, rf__bootstrap=True \n"
     ]
    },
    {
     "name": "stderr",
     "output_type": "stream",
     "text": [
      "[Parallel(n_jobs=1)]: Using backend SequentialBackend with 1 concurrent workers.\n",
      "[Parallel(n_jobs=1)]: Done 765 out of 765 | elapsed:    8.3s finished\n",
      "[Parallel(n_jobs=1)]: Using backend SequentialBackend with 1 concurrent workers.\n",
      "[Parallel(n_jobs=1)]: Done 765 out of 765 | elapsed:    0.3s finished\n"
     ]
    },
    {
     "name": "stdout",
     "output_type": "stream",
     "text": [
      "[CV]  rf__n_estimators=765, rf__min_samples_split=10, rf__min_samples_leaf=1, rf__max_features=sqrt, rf__max_depth=35, rf__bootstrap=True, total=  11.2s\n",
      "[CV] rf__n_estimators=765, rf__min_samples_split=10, rf__min_samples_leaf=1, rf__max_features=sqrt, rf__max_depth=35, rf__bootstrap=True \n"
     ]
    },
    {
     "name": "stderr",
     "output_type": "stream",
     "text": [
      "[Parallel(n_jobs=1)]: Using backend SequentialBackend with 1 concurrent workers.\n",
      "[Parallel(n_jobs=1)]: Done 765 out of 765 | elapsed:    9.4s finished\n",
      "[Parallel(n_jobs=1)]: Using backend SequentialBackend with 1 concurrent workers.\n",
      "[Parallel(n_jobs=1)]: Done 765 out of 765 | elapsed:    0.4s finished\n"
     ]
    },
    {
     "name": "stdout",
     "output_type": "stream",
     "text": [
      "[CV]  rf__n_estimators=765, rf__min_samples_split=10, rf__min_samples_leaf=1, rf__max_features=sqrt, rf__max_depth=35, rf__bootstrap=True, total=  12.4s\n",
      "[CV] rf__n_estimators=765, rf__min_samples_split=10, rf__min_samples_leaf=1, rf__max_features=sqrt, rf__max_depth=35, rf__bootstrap=True \n"
     ]
    },
    {
     "name": "stderr",
     "output_type": "stream",
     "text": [
      "[Parallel(n_jobs=1)]: Using backend SequentialBackend with 1 concurrent workers.\n",
      "[Parallel(n_jobs=1)]: Done 765 out of 765 | elapsed:    9.7s finished\n",
      "[Parallel(n_jobs=1)]: Using backend SequentialBackend with 1 concurrent workers.\n",
      "[Parallel(n_jobs=1)]: Done 765 out of 765 | elapsed:    0.3s finished\n"
     ]
    },
    {
     "name": "stdout",
     "output_type": "stream",
     "text": [
      "[CV]  rf__n_estimators=765, rf__min_samples_split=10, rf__min_samples_leaf=1, rf__max_features=sqrt, rf__max_depth=35, rf__bootstrap=True, total=  13.1s\n",
      "[CV] rf__n_estimators=765, rf__min_samples_split=10, rf__min_samples_leaf=1, rf__max_features=sqrt, rf__max_depth=35, rf__bootstrap=True \n"
     ]
    },
    {
     "name": "stderr",
     "output_type": "stream",
     "text": [
      "[Parallel(n_jobs=1)]: Using backend SequentialBackend with 1 concurrent workers.\n",
      "[Parallel(n_jobs=1)]: Done 765 out of 765 | elapsed:    9.6s finished\n",
      "[Parallel(n_jobs=1)]: Using backend SequentialBackend with 1 concurrent workers.\n",
      "[Parallel(n_jobs=1)]: Done 765 out of 765 | elapsed:    0.3s finished\n"
     ]
    },
    {
     "name": "stdout",
     "output_type": "stream",
     "text": [
      "[CV]  rf__n_estimators=765, rf__min_samples_split=10, rf__min_samples_leaf=1, rf__max_features=sqrt, rf__max_depth=35, rf__bootstrap=True, total=  12.9s\n",
      "[CV] rf__n_estimators=393, rf__min_samples_split=10, rf__min_samples_leaf=2, rf__max_features=auto, rf__max_depth=15, rf__bootstrap=True \n"
     ]
    },
    {
     "name": "stderr",
     "output_type": "stream",
     "text": [
      "[Parallel(n_jobs=1)]: Using backend SequentialBackend with 1 concurrent workers.\n",
      "[Parallel(n_jobs=1)]: Done 393 out of 393 | elapsed:    4.2s finished\n",
      "[Parallel(n_jobs=1)]: Using backend SequentialBackend with 1 concurrent workers.\n",
      "[Parallel(n_jobs=1)]: Done 393 out of 393 | elapsed:    0.2s finished\n"
     ]
    },
    {
     "name": "stdout",
     "output_type": "stream",
     "text": [
      "[CV]  rf__n_estimators=393, rf__min_samples_split=10, rf__min_samples_leaf=2, rf__max_features=auto, rf__max_depth=15, rf__bootstrap=True, total=   6.7s\n",
      "[CV] rf__n_estimators=393, rf__min_samples_split=10, rf__min_samples_leaf=2, rf__max_features=auto, rf__max_depth=15, rf__bootstrap=True \n"
     ]
    },
    {
     "name": "stderr",
     "output_type": "stream",
     "text": [
      "[Parallel(n_jobs=1)]: Using backend SequentialBackend with 1 concurrent workers.\n",
      "[Parallel(n_jobs=1)]: Done 393 out of 393 | elapsed:    4.1s finished\n",
      "[Parallel(n_jobs=1)]: Using backend SequentialBackend with 1 concurrent workers.\n",
      "[Parallel(n_jobs=1)]: Done 393 out of 393 | elapsed:    0.2s finished\n"
     ]
    },
    {
     "name": "stdout",
     "output_type": "stream",
     "text": [
      "[CV]  rf__n_estimators=393, rf__min_samples_split=10, rf__min_samples_leaf=2, rf__max_features=auto, rf__max_depth=15, rf__bootstrap=True, total=   6.3s\n",
      "[CV] rf__n_estimators=393, rf__min_samples_split=10, rf__min_samples_leaf=2, rf__max_features=auto, rf__max_depth=15, rf__bootstrap=True \n"
     ]
    },
    {
     "name": "stderr",
     "output_type": "stream",
     "text": [
      "[Parallel(n_jobs=1)]: Using backend SequentialBackend with 1 concurrent workers.\n",
      "[Parallel(n_jobs=1)]: Done 393 out of 393 | elapsed:    4.0s finished\n",
      "[Parallel(n_jobs=1)]: Using backend SequentialBackend with 1 concurrent workers.\n",
      "[Parallel(n_jobs=1)]: Done 393 out of 393 | elapsed:    0.2s finished\n"
     ]
    },
    {
     "name": "stdout",
     "output_type": "stream",
     "text": [
      "[CV]  rf__n_estimators=393, rf__min_samples_split=10, rf__min_samples_leaf=2, rf__max_features=auto, rf__max_depth=15, rf__bootstrap=True, total=   6.2s\n",
      "[CV] rf__n_estimators=393, rf__min_samples_split=10, rf__min_samples_leaf=2, rf__max_features=auto, rf__max_depth=15, rf__bootstrap=True \n"
     ]
    },
    {
     "name": "stderr",
     "output_type": "stream",
     "text": [
      "[Parallel(n_jobs=1)]: Using backend SequentialBackend with 1 concurrent workers.\n",
      "[Parallel(n_jobs=1)]: Done 393 out of 393 | elapsed:    4.1s finished\n",
      "[Parallel(n_jobs=1)]: Using backend SequentialBackend with 1 concurrent workers.\n",
      "[Parallel(n_jobs=1)]: Done 393 out of 393 | elapsed:    0.2s finished\n"
     ]
    },
    {
     "name": "stdout",
     "output_type": "stream",
     "text": [
      "[CV]  rf__n_estimators=393, rf__min_samples_split=10, rf__min_samples_leaf=2, rf__max_features=auto, rf__max_depth=15, rf__bootstrap=True, total=   6.4s\n",
      "[CV] rf__n_estimators=393, rf__min_samples_split=10, rf__min_samples_leaf=2, rf__max_features=auto, rf__max_depth=15, rf__bootstrap=True \n"
     ]
    },
    {
     "name": "stderr",
     "output_type": "stream",
     "text": [
      "[Parallel(n_jobs=1)]: Using backend SequentialBackend with 1 concurrent workers.\n",
      "[Parallel(n_jobs=1)]: Done 393 out of 393 | elapsed:    4.2s finished\n",
      "[Parallel(n_jobs=1)]: Using backend SequentialBackend with 1 concurrent workers.\n",
      "[Parallel(n_jobs=1)]: Done 393 out of 393 | elapsed:    0.2s finished\n"
     ]
    },
    {
     "name": "stdout",
     "output_type": "stream",
     "text": [
      "[CV]  rf__n_estimators=393, rf__min_samples_split=10, rf__min_samples_leaf=2, rf__max_features=auto, rf__max_depth=15, rf__bootstrap=True, total=   6.5s\n",
      "[CV] rf__n_estimators=854, rf__min_samples_split=5, rf__min_samples_leaf=4, rf__max_features=auto, rf__max_depth=110, rf__bootstrap=True \n"
     ]
    },
    {
     "name": "stderr",
     "output_type": "stream",
     "text": [
      "[Parallel(n_jobs=1)]: Using backend SequentialBackend with 1 concurrent workers.\n",
      "[Parallel(n_jobs=1)]: Done 854 out of 854 | elapsed:    9.4s finished\n",
      "[Parallel(n_jobs=1)]: Using backend SequentialBackend with 1 concurrent workers.\n",
      "[Parallel(n_jobs=1)]: Done 854 out of 854 | elapsed:    0.4s finished\n"
     ]
    },
    {
     "name": "stdout",
     "output_type": "stream",
     "text": [
      "[CV]  rf__n_estimators=854, rf__min_samples_split=5, rf__min_samples_leaf=4, rf__max_features=auto, rf__max_depth=110, rf__bootstrap=True, total=  12.6s\n",
      "[CV] rf__n_estimators=854, rf__min_samples_split=5, rf__min_samples_leaf=4, rf__max_features=auto, rf__max_depth=110, rf__bootstrap=True \n"
     ]
    },
    {
     "name": "stderr",
     "output_type": "stream",
     "text": [
      "[Parallel(n_jobs=1)]: Using backend SequentialBackend with 1 concurrent workers.\n",
      "[Parallel(n_jobs=1)]: Done 854 out of 854 | elapsed:    8.9s finished\n",
      "[Parallel(n_jobs=1)]: Using backend SequentialBackend with 1 concurrent workers.\n",
      "[Parallel(n_jobs=1)]: Done 854 out of 854 | elapsed:    0.4s finished\n"
     ]
    },
    {
     "name": "stdout",
     "output_type": "stream",
     "text": [
      "[CV]  rf__n_estimators=854, rf__min_samples_split=5, rf__min_samples_leaf=4, rf__max_features=auto, rf__max_depth=110, rf__bootstrap=True, total=  12.1s\n",
      "[CV] rf__n_estimators=854, rf__min_samples_split=5, rf__min_samples_leaf=4, rf__max_features=auto, rf__max_depth=110, rf__bootstrap=True \n"
     ]
    },
    {
     "name": "stderr",
     "output_type": "stream",
     "text": [
      "[Parallel(n_jobs=1)]: Using backend SequentialBackend with 1 concurrent workers.\n",
      "[Parallel(n_jobs=1)]: Done 854 out of 854 | elapsed:    8.5s finished\n",
      "[Parallel(n_jobs=1)]: Using backend SequentialBackend with 1 concurrent workers.\n",
      "[Parallel(n_jobs=1)]: Done 854 out of 854 | elapsed:    0.4s finished\n"
     ]
    },
    {
     "name": "stdout",
     "output_type": "stream",
     "text": [
      "[CV]  rf__n_estimators=854, rf__min_samples_split=5, rf__min_samples_leaf=4, rf__max_features=auto, rf__max_depth=110, rf__bootstrap=True, total=  11.7s\n",
      "[CV] rf__n_estimators=854, rf__min_samples_split=5, rf__min_samples_leaf=4, rf__max_features=auto, rf__max_depth=110, rf__bootstrap=True \n"
     ]
    },
    {
     "name": "stderr",
     "output_type": "stream",
     "text": [
      "[Parallel(n_jobs=1)]: Using backend SequentialBackend with 1 concurrent workers.\n",
      "[Parallel(n_jobs=1)]: Done 854 out of 854 | elapsed:    8.7s finished\n",
      "[Parallel(n_jobs=1)]: Using backend SequentialBackend with 1 concurrent workers.\n",
      "[Parallel(n_jobs=1)]: Done 854 out of 854 | elapsed:    0.3s finished\n"
     ]
    },
    {
     "name": "stdout",
     "output_type": "stream",
     "text": [
      "[CV]  rf__n_estimators=854, rf__min_samples_split=5, rf__min_samples_leaf=4, rf__max_features=auto, rf__max_depth=110, rf__bootstrap=True, total=  11.8s\n",
      "[CV] rf__n_estimators=854, rf__min_samples_split=5, rf__min_samples_leaf=4, rf__max_features=auto, rf__max_depth=110, rf__bootstrap=True \n"
     ]
    },
    {
     "name": "stderr",
     "output_type": "stream",
     "text": [
      "[Parallel(n_jobs=1)]: Using backend SequentialBackend with 1 concurrent workers.\n",
      "[Parallel(n_jobs=1)]: Done 854 out of 854 | elapsed:    9.0s finished\n",
      "[Parallel(n_jobs=1)]: Using backend SequentialBackend with 1 concurrent workers.\n",
      "[Parallel(n_jobs=1)]: Done 854 out of 854 | elapsed:    0.4s finished\n"
     ]
    },
    {
     "name": "stdout",
     "output_type": "stream",
     "text": [
      "[CV]  rf__n_estimators=854, rf__min_samples_split=5, rf__min_samples_leaf=4, rf__max_features=auto, rf__max_depth=110, rf__bootstrap=True, total=  12.1s\n",
      "[CV] rf__n_estimators=353, rf__min_samples_split=5, rf__min_samples_leaf=4, rf__max_features=auto, rf__max_depth=110, rf__bootstrap=True \n"
     ]
    },
    {
     "name": "stderr",
     "output_type": "stream",
     "text": [
      "[Parallel(n_jobs=1)]: Using backend SequentialBackend with 1 concurrent workers.\n",
      "[Parallel(n_jobs=1)]: Done 353 out of 353 | elapsed:    3.6s finished\n",
      "[Parallel(n_jobs=1)]: Using backend SequentialBackend with 1 concurrent workers.\n",
      "[Parallel(n_jobs=1)]: Done 353 out of 353 | elapsed:    0.2s finished\n"
     ]
    },
    {
     "name": "stdout",
     "output_type": "stream",
     "text": [
      "[CV]  rf__n_estimators=353, rf__min_samples_split=5, rf__min_samples_leaf=4, rf__max_features=auto, rf__max_depth=110, rf__bootstrap=True, total=   6.0s\n",
      "[CV] rf__n_estimators=353, rf__min_samples_split=5, rf__min_samples_leaf=4, rf__max_features=auto, rf__max_depth=110, rf__bootstrap=True \n"
     ]
    },
    {
     "name": "stderr",
     "output_type": "stream",
     "text": [
      "[Parallel(n_jobs=1)]: Using backend SequentialBackend with 1 concurrent workers.\n",
      "[Parallel(n_jobs=1)]: Done 353 out of 353 | elapsed:    3.6s finished\n",
      "[Parallel(n_jobs=1)]: Using backend SequentialBackend with 1 concurrent workers.\n",
      "[Parallel(n_jobs=1)]: Done 353 out of 353 | elapsed:    0.1s finished\n"
     ]
    },
    {
     "name": "stdout",
     "output_type": "stream",
     "text": [
      "[CV]  rf__n_estimators=353, rf__min_samples_split=5, rf__min_samples_leaf=4, rf__max_features=auto, rf__max_depth=110, rf__bootstrap=True, total=   5.8s\n",
      "[CV] rf__n_estimators=353, rf__min_samples_split=5, rf__min_samples_leaf=4, rf__max_features=auto, rf__max_depth=110, rf__bootstrap=True \n"
     ]
    },
    {
     "name": "stderr",
     "output_type": "stream",
     "text": [
      "[Parallel(n_jobs=1)]: Using backend SequentialBackend with 1 concurrent workers.\n",
      "[Parallel(n_jobs=1)]: Done 353 out of 353 | elapsed:    3.5s finished\n",
      "[Parallel(n_jobs=1)]: Using backend SequentialBackend with 1 concurrent workers.\n",
      "[Parallel(n_jobs=1)]: Done 353 out of 353 | elapsed:    0.2s finished\n"
     ]
    },
    {
     "name": "stdout",
     "output_type": "stream",
     "text": [
      "[CV]  rf__n_estimators=353, rf__min_samples_split=5, rf__min_samples_leaf=4, rf__max_features=auto, rf__max_depth=110, rf__bootstrap=True, total=   5.7s\n",
      "[CV] rf__n_estimators=353, rf__min_samples_split=5, rf__min_samples_leaf=4, rf__max_features=auto, rf__max_depth=110, rf__bootstrap=True \n"
     ]
    },
    {
     "name": "stderr",
     "output_type": "stream",
     "text": [
      "[Parallel(n_jobs=1)]: Using backend SequentialBackend with 1 concurrent workers.\n",
      "[Parallel(n_jobs=1)]: Done 353 out of 353 | elapsed:    3.5s finished\n",
      "[Parallel(n_jobs=1)]: Using backend SequentialBackend with 1 concurrent workers.\n",
      "[Parallel(n_jobs=1)]: Done 353 out of 353 | elapsed:    0.2s finished\n"
     ]
    },
    {
     "name": "stdout",
     "output_type": "stream",
     "text": [
      "[CV]  rf__n_estimators=353, rf__min_samples_split=5, rf__min_samples_leaf=4, rf__max_features=auto, rf__max_depth=110, rf__bootstrap=True, total=   5.7s\n",
      "[CV] rf__n_estimators=353, rf__min_samples_split=5, rf__min_samples_leaf=4, rf__max_features=auto, rf__max_depth=110, rf__bootstrap=True \n"
     ]
    },
    {
     "name": "stderr",
     "output_type": "stream",
     "text": [
      "[Parallel(n_jobs=1)]: Using backend SequentialBackend with 1 concurrent workers.\n",
      "[Parallel(n_jobs=1)]: Done 353 out of 353 | elapsed:    3.3s finished\n",
      "[Parallel(n_jobs=1)]: Using backend SequentialBackend with 1 concurrent workers.\n",
      "[Parallel(n_jobs=1)]: Done 353 out of 353 | elapsed:    0.1s finished\n"
     ]
    },
    {
     "name": "stdout",
     "output_type": "stream",
     "text": [
      "[CV]  rf__n_estimators=353, rf__min_samples_split=5, rf__min_samples_leaf=4, rf__max_features=auto, rf__max_depth=110, rf__bootstrap=True, total=   5.6s\n",
      "[CV] rf__n_estimators=361, rf__min_samples_split=10, rf__min_samples_leaf=4, rf__max_features=sqrt, rf__max_depth=40, rf__bootstrap=True \n"
     ]
    },
    {
     "name": "stderr",
     "output_type": "stream",
     "text": [
      "[Parallel(n_jobs=1)]: Using backend SequentialBackend with 1 concurrent workers.\n",
      "[Parallel(n_jobs=1)]: Done 361 out of 361 | elapsed:    3.3s finished\n",
      "[Parallel(n_jobs=1)]: Using backend SequentialBackend with 1 concurrent workers.\n",
      "[Parallel(n_jobs=1)]: Done 361 out of 361 | elapsed:    0.1s finished\n"
     ]
    },
    {
     "name": "stdout",
     "output_type": "stream",
     "text": [
      "[CV]  rf__n_estimators=361, rf__min_samples_split=10, rf__min_samples_leaf=4, rf__max_features=sqrt, rf__max_depth=40, rf__bootstrap=True, total=   5.4s\n",
      "[CV] rf__n_estimators=361, rf__min_samples_split=10, rf__min_samples_leaf=4, rf__max_features=sqrt, rf__max_depth=40, rf__bootstrap=True \n"
     ]
    },
    {
     "name": "stderr",
     "output_type": "stream",
     "text": [
      "[Parallel(n_jobs=1)]: Using backend SequentialBackend with 1 concurrent workers.\n",
      "[Parallel(n_jobs=1)]: Done 361 out of 361 | elapsed:    3.3s finished\n",
      "[Parallel(n_jobs=1)]: Using backend SequentialBackend with 1 concurrent workers.\n",
      "[Parallel(n_jobs=1)]: Done 361 out of 361 | elapsed:    0.1s finished\n"
     ]
    },
    {
     "name": "stdout",
     "output_type": "stream",
     "text": [
      "[CV]  rf__n_estimators=361, rf__min_samples_split=10, rf__min_samples_leaf=4, rf__max_features=sqrt, rf__max_depth=40, rf__bootstrap=True, total=   5.4s\n",
      "[CV] rf__n_estimators=361, rf__min_samples_split=10, rf__min_samples_leaf=4, rf__max_features=sqrt, rf__max_depth=40, rf__bootstrap=True \n"
     ]
    },
    {
     "name": "stderr",
     "output_type": "stream",
     "text": [
      "[Parallel(n_jobs=1)]: Using backend SequentialBackend with 1 concurrent workers.\n",
      "[Parallel(n_jobs=1)]: Done 361 out of 361 | elapsed:    3.7s finished\n",
      "[Parallel(n_jobs=1)]: Using backend SequentialBackend with 1 concurrent workers.\n",
      "[Parallel(n_jobs=1)]: Done 361 out of 361 | elapsed:    0.2s finished\n"
     ]
    },
    {
     "name": "stdout",
     "output_type": "stream",
     "text": [
      "[CV]  rf__n_estimators=361, rf__min_samples_split=10, rf__min_samples_leaf=4, rf__max_features=sqrt, rf__max_depth=40, rf__bootstrap=True, total=   5.9s\n",
      "[CV] rf__n_estimators=361, rf__min_samples_split=10, rf__min_samples_leaf=4, rf__max_features=sqrt, rf__max_depth=40, rf__bootstrap=True \n"
     ]
    },
    {
     "name": "stderr",
     "output_type": "stream",
     "text": [
      "[Parallel(n_jobs=1)]: Using backend SequentialBackend with 1 concurrent workers.\n",
      "[Parallel(n_jobs=1)]: Done 361 out of 361 | elapsed:    3.8s finished\n",
      "[Parallel(n_jobs=1)]: Using backend SequentialBackend with 1 concurrent workers.\n",
      "[Parallel(n_jobs=1)]: Done 361 out of 361 | elapsed:    0.2s finished\n"
     ]
    },
    {
     "name": "stdout",
     "output_type": "stream",
     "text": [
      "[CV]  rf__n_estimators=361, rf__min_samples_split=10, rf__min_samples_leaf=4, rf__max_features=sqrt, rf__max_depth=40, rf__bootstrap=True, total=   6.1s\n",
      "[CV] rf__n_estimators=361, rf__min_samples_split=10, rf__min_samples_leaf=4, rf__max_features=sqrt, rf__max_depth=40, rf__bootstrap=True \n"
     ]
    },
    {
     "name": "stderr",
     "output_type": "stream",
     "text": [
      "[Parallel(n_jobs=1)]: Using backend SequentialBackend with 1 concurrent workers.\n",
      "[Parallel(n_jobs=1)]: Done 361 out of 361 | elapsed:    3.6s finished\n",
      "[Parallel(n_jobs=1)]: Using backend SequentialBackend with 1 concurrent workers.\n",
      "[Parallel(n_jobs=1)]: Done 361 out of 361 | elapsed:    0.2s finished\n"
     ]
    },
    {
     "name": "stdout",
     "output_type": "stream",
     "text": [
      "[CV]  rf__n_estimators=361, rf__min_samples_split=10, rf__min_samples_leaf=4, rf__max_features=sqrt, rf__max_depth=40, rf__bootstrap=True, total=   6.0s\n",
      "[CV] rf__n_estimators=402, rf__min_samples_split=5, rf__min_samples_leaf=2, rf__max_features=auto, rf__max_depth=70, rf__bootstrap=False \n"
     ]
    },
    {
     "name": "stderr",
     "output_type": "stream",
     "text": [
      "[Parallel(n_jobs=1)]: Using backend SequentialBackend with 1 concurrent workers.\n",
      "[Parallel(n_jobs=1)]: Done 402 out of 402 | elapsed:    7.6s finished\n",
      "[Parallel(n_jobs=1)]: Using backend SequentialBackend with 1 concurrent workers.\n",
      "[Parallel(n_jobs=1)]: Done 402 out of 402 | elapsed:    0.2s finished\n"
     ]
    },
    {
     "name": "stdout",
     "output_type": "stream",
     "text": [
      "[CV]  rf__n_estimators=402, rf__min_samples_split=5, rf__min_samples_leaf=2, rf__max_features=auto, rf__max_depth=70, rf__bootstrap=False, total=  10.4s\n",
      "[CV] rf__n_estimators=402, rf__min_samples_split=5, rf__min_samples_leaf=2, rf__max_features=auto, rf__max_depth=70, rf__bootstrap=False \n"
     ]
    },
    {
     "name": "stderr",
     "output_type": "stream",
     "text": [
      "[Parallel(n_jobs=1)]: Using backend SequentialBackend with 1 concurrent workers.\n",
      "[Parallel(n_jobs=1)]: Done 402 out of 402 | elapsed:    6.5s finished\n",
      "[Parallel(n_jobs=1)]: Using backend SequentialBackend with 1 concurrent workers.\n",
      "[Parallel(n_jobs=1)]: Done 402 out of 402 | elapsed:    0.2s finished\n"
     ]
    },
    {
     "name": "stdout",
     "output_type": "stream",
     "text": [
      "[CV]  rf__n_estimators=402, rf__min_samples_split=5, rf__min_samples_leaf=2, rf__max_features=auto, rf__max_depth=70, rf__bootstrap=False, total=   8.9s\n",
      "[CV] rf__n_estimators=402, rf__min_samples_split=5, rf__min_samples_leaf=2, rf__max_features=auto, rf__max_depth=70, rf__bootstrap=False \n"
     ]
    },
    {
     "name": "stderr",
     "output_type": "stream",
     "text": [
      "[Parallel(n_jobs=1)]: Using backend SequentialBackend with 1 concurrent workers.\n",
      "[Parallel(n_jobs=1)]: Done 402 out of 402 | elapsed:    6.7s finished\n",
      "[Parallel(n_jobs=1)]: Using backend SequentialBackend with 1 concurrent workers.\n",
      "[Parallel(n_jobs=1)]: Done 402 out of 402 | elapsed:    0.2s finished\n"
     ]
    },
    {
     "name": "stdout",
     "output_type": "stream",
     "text": [
      "[CV]  rf__n_estimators=402, rf__min_samples_split=5, rf__min_samples_leaf=2, rf__max_features=auto, rf__max_depth=70, rf__bootstrap=False, total=   8.9s\n",
      "[CV] rf__n_estimators=402, rf__min_samples_split=5, rf__min_samples_leaf=2, rf__max_features=auto, rf__max_depth=70, rf__bootstrap=False \n"
     ]
    },
    {
     "name": "stderr",
     "output_type": "stream",
     "text": [
      "[Parallel(n_jobs=1)]: Using backend SequentialBackend with 1 concurrent workers.\n",
      "[Parallel(n_jobs=1)]: Done 402 out of 402 | elapsed:    5.9s finished\n",
      "[Parallel(n_jobs=1)]: Using backend SequentialBackend with 1 concurrent workers.\n",
      "[Parallel(n_jobs=1)]: Done 402 out of 402 | elapsed:    0.2s finished\n"
     ]
    },
    {
     "name": "stdout",
     "output_type": "stream",
     "text": [
      "[CV]  rf__n_estimators=402, rf__min_samples_split=5, rf__min_samples_leaf=2, rf__max_features=auto, rf__max_depth=70, rf__bootstrap=False, total=   8.2s\n",
      "[CV] rf__n_estimators=402, rf__min_samples_split=5, rf__min_samples_leaf=2, rf__max_features=auto, rf__max_depth=70, rf__bootstrap=False \n"
     ]
    },
    {
     "name": "stderr",
     "output_type": "stream",
     "text": [
      "[Parallel(n_jobs=1)]: Using backend SequentialBackend with 1 concurrent workers.\n",
      "[Parallel(n_jobs=1)]: Done 402 out of 402 | elapsed:    5.7s finished\n",
      "[Parallel(n_jobs=1)]: Using backend SequentialBackend with 1 concurrent workers.\n",
      "[Parallel(n_jobs=1)]: Done 402 out of 402 | elapsed:    0.2s finished\n"
     ]
    },
    {
     "name": "stdout",
     "output_type": "stream",
     "text": [
      "[CV]  rf__n_estimators=402, rf__min_samples_split=5, rf__min_samples_leaf=2, rf__max_features=auto, rf__max_depth=70, rf__bootstrap=False, total=   7.9s\n",
      "[CV] rf__n_estimators=490, rf__min_samples_split=2, rf__min_samples_leaf=4, rf__max_features=auto, rf__max_depth=105, rf__bootstrap=False \n"
     ]
    },
    {
     "name": "stderr",
     "output_type": "stream",
     "text": [
      "[Parallel(n_jobs=1)]: Using backend SequentialBackend with 1 concurrent workers.\n",
      "[Parallel(n_jobs=1)]: Done 490 out of 490 | elapsed:    5.7s finished\n",
      "[Parallel(n_jobs=1)]: Using backend SequentialBackend with 1 concurrent workers.\n",
      "[Parallel(n_jobs=1)]: Done 490 out of 490 | elapsed:    0.2s finished\n"
     ]
    },
    {
     "name": "stdout",
     "output_type": "stream",
     "text": [
      "[CV]  rf__n_estimators=490, rf__min_samples_split=2, rf__min_samples_leaf=4, rf__max_features=auto, rf__max_depth=105, rf__bootstrap=False, total=   7.9s\n",
      "[CV] rf__n_estimators=490, rf__min_samples_split=2, rf__min_samples_leaf=4, rf__max_features=auto, rf__max_depth=105, rf__bootstrap=False \n"
     ]
    },
    {
     "name": "stderr",
     "output_type": "stream",
     "text": [
      "[Parallel(n_jobs=1)]: Using backend SequentialBackend with 1 concurrent workers.\n",
      "[Parallel(n_jobs=1)]: Done 490 out of 490 | elapsed:    7.0s finished\n",
      "[Parallel(n_jobs=1)]: Using backend SequentialBackend with 1 concurrent workers.\n",
      "[Parallel(n_jobs=1)]: Done 490 out of 490 | elapsed:    0.2s finished\n"
     ]
    },
    {
     "name": "stdout",
     "output_type": "stream",
     "text": [
      "[CV]  rf__n_estimators=490, rf__min_samples_split=2, rf__min_samples_leaf=4, rf__max_features=auto, rf__max_depth=105, rf__bootstrap=False, total=   9.5s\n",
      "[CV] rf__n_estimators=490, rf__min_samples_split=2, rf__min_samples_leaf=4, rf__max_features=auto, rf__max_depth=105, rf__bootstrap=False \n"
     ]
    },
    {
     "name": "stderr",
     "output_type": "stream",
     "text": [
      "[Parallel(n_jobs=1)]: Using backend SequentialBackend with 1 concurrent workers.\n",
      "[Parallel(n_jobs=1)]: Done 490 out of 490 | elapsed:    6.0s finished\n",
      "[Parallel(n_jobs=1)]: Using backend SequentialBackend with 1 concurrent workers.\n",
      "[Parallel(n_jobs=1)]: Done 490 out of 490 | elapsed:    0.2s finished\n"
     ]
    },
    {
     "name": "stdout",
     "output_type": "stream",
     "text": [
      "[CV]  rf__n_estimators=490, rf__min_samples_split=2, rf__min_samples_leaf=4, rf__max_features=auto, rf__max_depth=105, rf__bootstrap=False, total=   8.6s\n",
      "[CV] rf__n_estimators=490, rf__min_samples_split=2, rf__min_samples_leaf=4, rf__max_features=auto, rf__max_depth=105, rf__bootstrap=False \n"
     ]
    },
    {
     "name": "stderr",
     "output_type": "stream",
     "text": [
      "[Parallel(n_jobs=1)]: Using backend SequentialBackend with 1 concurrent workers.\n",
      "[Parallel(n_jobs=1)]: Done 490 out of 490 | elapsed:    5.7s finished\n",
      "[Parallel(n_jobs=1)]: Using backend SequentialBackend with 1 concurrent workers.\n",
      "[Parallel(n_jobs=1)]: Done 490 out of 490 | elapsed:    0.2s finished\n"
     ]
    },
    {
     "name": "stdout",
     "output_type": "stream",
     "text": [
      "[CV]  rf__n_estimators=490, rf__min_samples_split=2, rf__min_samples_leaf=4, rf__max_features=auto, rf__max_depth=105, rf__bootstrap=False, total=   8.0s\n",
      "[CV] rf__n_estimators=490, rf__min_samples_split=2, rf__min_samples_leaf=4, rf__max_features=auto, rf__max_depth=105, rf__bootstrap=False \n"
     ]
    },
    {
     "name": "stderr",
     "output_type": "stream",
     "text": [
      "[Parallel(n_jobs=1)]: Using backend SequentialBackend with 1 concurrent workers.\n",
      "[Parallel(n_jobs=1)]: Done 490 out of 490 | elapsed:    6.5s finished\n",
      "[Parallel(n_jobs=1)]: Using backend SequentialBackend with 1 concurrent workers.\n",
      "[Parallel(n_jobs=1)]: Done 490 out of 490 | elapsed:    0.2s finished\n"
     ]
    },
    {
     "name": "stdout",
     "output_type": "stream",
     "text": [
      "[CV]  rf__n_estimators=490, rf__min_samples_split=2, rf__min_samples_leaf=4, rf__max_features=auto, rf__max_depth=105, rf__bootstrap=False, total=   8.9s\n",
      "[CV] rf__n_estimators=474, rf__min_samples_split=5, rf__min_samples_leaf=4, rf__max_features=auto, rf__max_depth=20, rf__bootstrap=True \n"
     ]
    },
    {
     "name": "stderr",
     "output_type": "stream",
     "text": [
      "[Parallel(n_jobs=1)]: Using backend SequentialBackend with 1 concurrent workers.\n",
      "[Parallel(n_jobs=1)]: Done 474 out of 474 | elapsed:    5.1s finished\n",
      "[Parallel(n_jobs=1)]: Using backend SequentialBackend with 1 concurrent workers.\n",
      "[Parallel(n_jobs=1)]: Done 474 out of 474 | elapsed:    0.2s finished\n"
     ]
    },
    {
     "name": "stdout",
     "output_type": "stream",
     "text": [
      "[CV]  rf__n_estimators=474, rf__min_samples_split=5, rf__min_samples_leaf=4, rf__max_features=auto, rf__max_depth=20, rf__bootstrap=True, total=   7.7s\n",
      "[CV] rf__n_estimators=474, rf__min_samples_split=5, rf__min_samples_leaf=4, rf__max_features=auto, rf__max_depth=20, rf__bootstrap=True \n"
     ]
    },
    {
     "name": "stderr",
     "output_type": "stream",
     "text": [
      "[Parallel(n_jobs=1)]: Using backend SequentialBackend with 1 concurrent workers.\n",
      "[Parallel(n_jobs=1)]: Done 474 out of 474 | elapsed:    4.7s finished\n",
      "[Parallel(n_jobs=1)]: Using backend SequentialBackend with 1 concurrent workers.\n",
      "[Parallel(n_jobs=1)]: Done 474 out of 474 | elapsed:    0.2s finished\n"
     ]
    },
    {
     "name": "stdout",
     "output_type": "stream",
     "text": [
      "[CV]  rf__n_estimators=474, rf__min_samples_split=5, rf__min_samples_leaf=4, rf__max_features=auto, rf__max_depth=20, rf__bootstrap=True, total=   7.1s\n",
      "[CV] rf__n_estimators=474, rf__min_samples_split=5, rf__min_samples_leaf=4, rf__max_features=auto, rf__max_depth=20, rf__bootstrap=True \n"
     ]
    },
    {
     "name": "stderr",
     "output_type": "stream",
     "text": [
      "[Parallel(n_jobs=1)]: Using backend SequentialBackend with 1 concurrent workers.\n",
      "[Parallel(n_jobs=1)]: Done 474 out of 474 | elapsed:    4.6s finished\n",
      "[Parallel(n_jobs=1)]: Using backend SequentialBackend with 1 concurrent workers.\n",
      "[Parallel(n_jobs=1)]: Done 474 out of 474 | elapsed:    0.2s finished\n"
     ]
    },
    {
     "name": "stdout",
     "output_type": "stream",
     "text": [
      "[CV]  rf__n_estimators=474, rf__min_samples_split=5, rf__min_samples_leaf=4, rf__max_features=auto, rf__max_depth=20, rf__bootstrap=True, total=   6.9s\n",
      "[CV] rf__n_estimators=474, rf__min_samples_split=5, rf__min_samples_leaf=4, rf__max_features=auto, rf__max_depth=20, rf__bootstrap=True \n"
     ]
    },
    {
     "name": "stderr",
     "output_type": "stream",
     "text": [
      "[Parallel(n_jobs=1)]: Using backend SequentialBackend with 1 concurrent workers.\n",
      "[Parallel(n_jobs=1)]: Done 474 out of 474 | elapsed:    5.6s finished\n",
      "[Parallel(n_jobs=1)]: Using backend SequentialBackend with 1 concurrent workers.\n",
      "[Parallel(n_jobs=1)]: Done 474 out of 474 | elapsed:    0.2s finished\n"
     ]
    },
    {
     "name": "stdout",
     "output_type": "stream",
     "text": [
      "[CV]  rf__n_estimators=474, rf__min_samples_split=5, rf__min_samples_leaf=4, rf__max_features=auto, rf__max_depth=20, rf__bootstrap=True, total=   8.0s\n",
      "[CV] rf__n_estimators=474, rf__min_samples_split=5, rf__min_samples_leaf=4, rf__max_features=auto, rf__max_depth=20, rf__bootstrap=True \n"
     ]
    },
    {
     "name": "stderr",
     "output_type": "stream",
     "text": [
      "[Parallel(n_jobs=1)]: Using backend SequentialBackend with 1 concurrent workers.\n",
      "[Parallel(n_jobs=1)]: Done 474 out of 474 | elapsed:    5.2s finished\n",
      "[Parallel(n_jobs=1)]: Using backend SequentialBackend with 1 concurrent workers.\n",
      "[Parallel(n_jobs=1)]: Done 474 out of 474 | elapsed:    0.3s finished\n"
     ]
    },
    {
     "name": "stdout",
     "output_type": "stream",
     "text": [
      "[CV]  rf__n_estimators=474, rf__min_samples_split=5, rf__min_samples_leaf=4, rf__max_features=auto, rf__max_depth=20, rf__bootstrap=True, total=   8.1s\n",
      "[CV] rf__n_estimators=878, rf__min_samples_split=5, rf__min_samples_leaf=4, rf__max_features=sqrt, rf__max_depth=10, rf__bootstrap=False \n"
     ]
    },
    {
     "name": "stderr",
     "output_type": "stream",
     "text": [
      "[Parallel(n_jobs=1)]: Using backend SequentialBackend with 1 concurrent workers.\n",
      "[Parallel(n_jobs=1)]: Done 878 out of 878 | elapsed:   12.3s finished\n",
      "[Parallel(n_jobs=1)]: Using backend SequentialBackend with 1 concurrent workers.\n",
      "[Parallel(n_jobs=1)]: Done 878 out of 878 | elapsed:    0.2s finished\n"
     ]
    },
    {
     "name": "stdout",
     "output_type": "stream",
     "text": [
      "[CV]  rf__n_estimators=878, rf__min_samples_split=5, rf__min_samples_leaf=4, rf__max_features=sqrt, rf__max_depth=10, rf__bootstrap=False, total=  15.9s\n",
      "[CV] rf__n_estimators=878, rf__min_samples_split=5, rf__min_samples_leaf=4, rf__max_features=sqrt, rf__max_depth=10, rf__bootstrap=False \n"
     ]
    },
    {
     "name": "stderr",
     "output_type": "stream",
     "text": [
      "[Parallel(n_jobs=1)]: Using backend SequentialBackend with 1 concurrent workers.\n",
      "[Parallel(n_jobs=1)]: Done 878 out of 878 | elapsed:    4.1s finished\n",
      "[Parallel(n_jobs=1)]: Using backend SequentialBackend with 1 concurrent workers.\n",
      "[Parallel(n_jobs=1)]: Done 878 out of 878 | elapsed:    0.5s finished\n"
     ]
    },
    {
     "name": "stdout",
     "output_type": "stream",
     "text": [
      "[CV]  rf__n_estimators=878, rf__min_samples_split=5, rf__min_samples_leaf=4, rf__max_features=sqrt, rf__max_depth=10, rf__bootstrap=False, total=   5.6s\n",
      "[CV] rf__n_estimators=878, rf__min_samples_split=5, rf__min_samples_leaf=4, rf__max_features=sqrt, rf__max_depth=10, rf__bootstrap=False \n"
     ]
    },
    {
     "name": "stderr",
     "output_type": "stream",
     "text": [
      "[Parallel(n_jobs=1)]: Using backend SequentialBackend with 1 concurrent workers.\n",
      "[Parallel(n_jobs=1)]: Done 878 out of 878 | elapsed:    5.3s finished\n",
      "[Parallel(n_jobs=1)]: Using backend SequentialBackend with 1 concurrent workers.\n",
      "[Parallel(n_jobs=1)]: Done 878 out of 878 | elapsed:    0.2s finished\n"
     ]
    },
    {
     "name": "stdout",
     "output_type": "stream",
     "text": [
      "[CV]  rf__n_estimators=878, rf__min_samples_split=5, rf__min_samples_leaf=4, rf__max_features=sqrt, rf__max_depth=10, rf__bootstrap=False, total=   8.5s\n",
      "[CV] rf__n_estimators=878, rf__min_samples_split=5, rf__min_samples_leaf=4, rf__max_features=sqrt, rf__max_depth=10, rf__bootstrap=False \n"
     ]
    },
    {
     "name": "stderr",
     "output_type": "stream",
     "text": [
      "[Parallel(n_jobs=1)]: Using backend SequentialBackend with 1 concurrent workers.\n",
      "[Parallel(n_jobs=1)]: Done 878 out of 878 | elapsed:    6.2s finished\n",
      "[Parallel(n_jobs=1)]: Using backend SequentialBackend with 1 concurrent workers.\n",
      "[Parallel(n_jobs=1)]: Done 878 out of 878 | elapsed:    0.1s finished\n"
     ]
    },
    {
     "name": "stdout",
     "output_type": "stream",
     "text": [
      "[CV]  rf__n_estimators=878, rf__min_samples_split=5, rf__min_samples_leaf=4, rf__max_features=sqrt, rf__max_depth=10, rf__bootstrap=False, total=   7.2s\n",
      "[CV] rf__n_estimators=878, rf__min_samples_split=5, rf__min_samples_leaf=4, rf__max_features=sqrt, rf__max_depth=10, rf__bootstrap=False \n"
     ]
    },
    {
     "name": "stderr",
     "output_type": "stream",
     "text": [
      "[Parallel(n_jobs=1)]: Using backend SequentialBackend with 1 concurrent workers.\n",
      "[Parallel(n_jobs=1)]: Done 878 out of 878 | elapsed:    6.3s finished\n",
      "[Parallel(n_jobs=1)]: Using backend SequentialBackend with 1 concurrent workers.\n",
      "[Parallel(n_jobs=1)]: Done 878 out of 878 | elapsed:    0.2s finished\n"
     ]
    },
    {
     "name": "stdout",
     "output_type": "stream",
     "text": [
      "[CV]  rf__n_estimators=878, rf__min_samples_split=5, rf__min_samples_leaf=4, rf__max_features=sqrt, rf__max_depth=10, rf__bootstrap=False, total=   9.1s\n",
      "[CV] rf__n_estimators=773, rf__min_samples_split=5, rf__min_samples_leaf=1, rf__max_features=sqrt, rf__max_depth=60, rf__bootstrap=False \n"
     ]
    },
    {
     "name": "stderr",
     "output_type": "stream",
     "text": [
      "[Parallel(n_jobs=1)]: Using backend SequentialBackend with 1 concurrent workers.\n",
      "[Parallel(n_jobs=1)]: Done 773 out of 773 | elapsed:    6.8s finished\n",
      "[Parallel(n_jobs=1)]: Using backend SequentialBackend with 1 concurrent workers.\n",
      "[Parallel(n_jobs=1)]: Done 773 out of 773 | elapsed:    0.1s finished\n"
     ]
    },
    {
     "name": "stdout",
     "output_type": "stream",
     "text": [
      "[CV]  rf__n_estimators=773, rf__min_samples_split=5, rf__min_samples_leaf=1, rf__max_features=sqrt, rf__max_depth=60, rf__bootstrap=False, total=   8.4s\n",
      "[CV] rf__n_estimators=773, rf__min_samples_split=5, rf__min_samples_leaf=1, rf__max_features=sqrt, rf__max_depth=60, rf__bootstrap=False \n"
     ]
    },
    {
     "name": "stderr",
     "output_type": "stream",
     "text": [
      "[Parallel(n_jobs=1)]: Using backend SequentialBackend with 1 concurrent workers.\n",
      "[Parallel(n_jobs=1)]: Done 773 out of 773 | elapsed:    5.5s finished\n",
      "[Parallel(n_jobs=1)]: Using backend SequentialBackend with 1 concurrent workers.\n",
      "[Parallel(n_jobs=1)]: Done 773 out of 773 | elapsed:    0.1s finished\n"
     ]
    },
    {
     "name": "stdout",
     "output_type": "stream",
     "text": [
      "[CV]  rf__n_estimators=773, rf__min_samples_split=5, rf__min_samples_leaf=1, rf__max_features=sqrt, rf__max_depth=60, rf__bootstrap=False, total=   6.4s\n",
      "[CV] rf__n_estimators=773, rf__min_samples_split=5, rf__min_samples_leaf=1, rf__max_features=sqrt, rf__max_depth=60, rf__bootstrap=False \n"
     ]
    },
    {
     "name": "stderr",
     "output_type": "stream",
     "text": [
      "[Parallel(n_jobs=1)]: Using backend SequentialBackend with 1 concurrent workers.\n",
      "[Parallel(n_jobs=1)]: Done 773 out of 773 | elapsed:    6.0s finished\n",
      "[Parallel(n_jobs=1)]: Using backend SequentialBackend with 1 concurrent workers.\n",
      "[Parallel(n_jobs=1)]: Done 773 out of 773 | elapsed:    0.1s finished\n"
     ]
    },
    {
     "name": "stdout",
     "output_type": "stream",
     "text": [
      "[CV]  rf__n_estimators=773, rf__min_samples_split=5, rf__min_samples_leaf=1, rf__max_features=sqrt, rf__max_depth=60, rf__bootstrap=False, total=   7.2s\n",
      "[CV] rf__n_estimators=773, rf__min_samples_split=5, rf__min_samples_leaf=1, rf__max_features=sqrt, rf__max_depth=60, rf__bootstrap=False \n"
     ]
    },
    {
     "name": "stderr",
     "output_type": "stream",
     "text": [
      "[Parallel(n_jobs=1)]: Using backend SequentialBackend with 1 concurrent workers.\n",
      "[Parallel(n_jobs=1)]: Done 773 out of 773 | elapsed:    5.7s finished\n",
      "[Parallel(n_jobs=1)]: Using backend SequentialBackend with 1 concurrent workers.\n",
      "[Parallel(n_jobs=1)]: Done 773 out of 773 | elapsed:    0.1s finished\n"
     ]
    },
    {
     "name": "stdout",
     "output_type": "stream",
     "text": [
      "[CV]  rf__n_estimators=773, rf__min_samples_split=5, rf__min_samples_leaf=1, rf__max_features=sqrt, rf__max_depth=60, rf__bootstrap=False, total=   6.6s\n",
      "[CV] rf__n_estimators=773, rf__min_samples_split=5, rf__min_samples_leaf=1, rf__max_features=sqrt, rf__max_depth=60, rf__bootstrap=False \n"
     ]
    },
    {
     "name": "stderr",
     "output_type": "stream",
     "text": [
      "[Parallel(n_jobs=1)]: Using backend SequentialBackend with 1 concurrent workers.\n",
      "[Parallel(n_jobs=1)]: Done 773 out of 773 | elapsed:    5.0s finished\n",
      "[Parallel(n_jobs=1)]: Using backend SequentialBackend with 1 concurrent workers.\n",
      "[Parallel(n_jobs=1)]: Done 773 out of 773 | elapsed:    0.1s finished\n"
     ]
    },
    {
     "name": "stdout",
     "output_type": "stream",
     "text": [
      "[CV]  rf__n_estimators=773, rf__min_samples_split=5, rf__min_samples_leaf=1, rf__max_features=sqrt, rf__max_depth=60, rf__bootstrap=False, total=   5.9s\n",
      "[CV] rf__n_estimators=402, rf__min_samples_split=5, rf__min_samples_leaf=4, rf__max_features=auto, rf__max_depth=70, rf__bootstrap=False \n"
     ]
    },
    {
     "name": "stderr",
     "output_type": "stream",
     "text": [
      "[Parallel(n_jobs=1)]: Using backend SequentialBackend with 1 concurrent workers.\n",
      "[Parallel(n_jobs=1)]: Done 402 out of 402 | elapsed:    2.5s finished\n",
      "[Parallel(n_jobs=1)]: Using backend SequentialBackend with 1 concurrent workers.\n",
      "[Parallel(n_jobs=1)]: Done 402 out of 402 | elapsed:    0.0s finished\n"
     ]
    },
    {
     "name": "stdout",
     "output_type": "stream",
     "text": [
      "[CV]  rf__n_estimators=402, rf__min_samples_split=5, rf__min_samples_leaf=4, rf__max_features=auto, rf__max_depth=70, rf__bootstrap=False, total=   3.4s\n",
      "[CV] rf__n_estimators=402, rf__min_samples_split=5, rf__min_samples_leaf=4, rf__max_features=auto, rf__max_depth=70, rf__bootstrap=False \n"
     ]
    },
    {
     "name": "stderr",
     "output_type": "stream",
     "text": [
      "[Parallel(n_jobs=1)]: Using backend SequentialBackend with 1 concurrent workers.\n",
      "[Parallel(n_jobs=1)]: Done 402 out of 402 | elapsed:    2.8s finished\n",
      "[Parallel(n_jobs=1)]: Using backend SequentialBackend with 1 concurrent workers.\n",
      "[Parallel(n_jobs=1)]: Done 402 out of 402 | elapsed:    0.1s finished\n"
     ]
    },
    {
     "name": "stdout",
     "output_type": "stream",
     "text": [
      "[CV]  rf__n_estimators=402, rf__min_samples_split=5, rf__min_samples_leaf=4, rf__max_features=auto, rf__max_depth=70, rf__bootstrap=False, total=   3.6s\n",
      "[CV] rf__n_estimators=402, rf__min_samples_split=5, rf__min_samples_leaf=4, rf__max_features=auto, rf__max_depth=70, rf__bootstrap=False \n"
     ]
    },
    {
     "name": "stderr",
     "output_type": "stream",
     "text": [
      "[Parallel(n_jobs=1)]: Using backend SequentialBackend with 1 concurrent workers.\n",
      "[Parallel(n_jobs=1)]: Done 402 out of 402 | elapsed:    2.6s finished\n",
      "[Parallel(n_jobs=1)]: Using backend SequentialBackend with 1 concurrent workers.\n",
      "[Parallel(n_jobs=1)]: Done 402 out of 402 | elapsed:    0.0s finished\n"
     ]
    },
    {
     "name": "stdout",
     "output_type": "stream",
     "text": [
      "[CV]  rf__n_estimators=402, rf__min_samples_split=5, rf__min_samples_leaf=4, rf__max_features=auto, rf__max_depth=70, rf__bootstrap=False, total=   3.6s\n",
      "[CV] rf__n_estimators=402, rf__min_samples_split=5, rf__min_samples_leaf=4, rf__max_features=auto, rf__max_depth=70, rf__bootstrap=False \n"
     ]
    },
    {
     "name": "stderr",
     "output_type": "stream",
     "text": [
      "[Parallel(n_jobs=1)]: Using backend SequentialBackend with 1 concurrent workers.\n",
      "[Parallel(n_jobs=1)]: Done 402 out of 402 | elapsed:    2.1s finished\n",
      "[Parallel(n_jobs=1)]: Using backend SequentialBackend with 1 concurrent workers.\n",
      "[Parallel(n_jobs=1)]: Done 402 out of 402 | elapsed:    0.0s finished\n"
     ]
    },
    {
     "name": "stdout",
     "output_type": "stream",
     "text": [
      "[CV]  rf__n_estimators=402, rf__min_samples_split=5, rf__min_samples_leaf=4, rf__max_features=auto, rf__max_depth=70, rf__bootstrap=False, total=   2.8s\n",
      "[CV] rf__n_estimators=402, rf__min_samples_split=5, rf__min_samples_leaf=4, rf__max_features=auto, rf__max_depth=70, rf__bootstrap=False \n"
     ]
    },
    {
     "name": "stderr",
     "output_type": "stream",
     "text": [
      "[Parallel(n_jobs=1)]: Using backend SequentialBackend with 1 concurrent workers.\n",
      "[Parallel(n_jobs=1)]: Done 402 out of 402 | elapsed:    2.2s finished\n",
      "[Parallel(n_jobs=1)]: Using backend SequentialBackend with 1 concurrent workers.\n",
      "[Parallel(n_jobs=1)]: Done 402 out of 402 | elapsed:    0.0s finished\n"
     ]
    },
    {
     "name": "stdout",
     "output_type": "stream",
     "text": [
      "[CV]  rf__n_estimators=402, rf__min_samples_split=5, rf__min_samples_leaf=4, rf__max_features=auto, rf__max_depth=70, rf__bootstrap=False, total=   3.1s\n",
      "[CV] rf__n_estimators=838, rf__min_samples_split=10, rf__min_samples_leaf=4, rf__max_features=auto, rf__max_depth=90, rf__bootstrap=True \n"
     ]
    },
    {
     "name": "stderr",
     "output_type": "stream",
     "text": [
      "[Parallel(n_jobs=1)]: Using backend SequentialBackend with 1 concurrent workers.\n",
      "[Parallel(n_jobs=1)]: Done 838 out of 838 | elapsed:    3.8s finished\n",
      "[Parallel(n_jobs=1)]: Using backend SequentialBackend with 1 concurrent workers.\n",
      "[Parallel(n_jobs=1)]: Done 838 out of 838 | elapsed:    0.2s finished\n"
     ]
    },
    {
     "name": "stdout",
     "output_type": "stream",
     "text": [
      "[CV]  rf__n_estimators=838, rf__min_samples_split=10, rf__min_samples_leaf=4, rf__max_features=auto, rf__max_depth=90, rf__bootstrap=True, total=   5.0s\n",
      "[CV] rf__n_estimators=838, rf__min_samples_split=10, rf__min_samples_leaf=4, rf__max_features=auto, rf__max_depth=90, rf__bootstrap=True \n"
     ]
    },
    {
     "name": "stderr",
     "output_type": "stream",
     "text": [
      "[Parallel(n_jobs=1)]: Using backend SequentialBackend with 1 concurrent workers.\n",
      "[Parallel(n_jobs=1)]: Done 838 out of 838 | elapsed:    3.2s finished\n",
      "[Parallel(n_jobs=1)]: Using backend SequentialBackend with 1 concurrent workers.\n",
      "[Parallel(n_jobs=1)]: Done 838 out of 838 | elapsed:    0.1s finished\n"
     ]
    },
    {
     "name": "stdout",
     "output_type": "stream",
     "text": [
      "[CV]  rf__n_estimators=838, rf__min_samples_split=10, rf__min_samples_leaf=4, rf__max_features=auto, rf__max_depth=90, rf__bootstrap=True, total=   4.6s\n",
      "[CV] rf__n_estimators=838, rf__min_samples_split=10, rf__min_samples_leaf=4, rf__max_features=auto, rf__max_depth=90, rf__bootstrap=True \n"
     ]
    },
    {
     "name": "stderr",
     "output_type": "stream",
     "text": [
      "[Parallel(n_jobs=1)]: Using backend SequentialBackend with 1 concurrent workers.\n",
      "[Parallel(n_jobs=1)]: Done 838 out of 838 | elapsed:    3.1s finished\n",
      "[Parallel(n_jobs=1)]: Using backend SequentialBackend with 1 concurrent workers.\n",
      "[Parallel(n_jobs=1)]: Done 838 out of 838 | elapsed:    0.1s finished\n"
     ]
    },
    {
     "name": "stdout",
     "output_type": "stream",
     "text": [
      "[CV]  rf__n_estimators=838, rf__min_samples_split=10, rf__min_samples_leaf=4, rf__max_features=auto, rf__max_depth=90, rf__bootstrap=True, total=   4.1s\n",
      "[CV] rf__n_estimators=838, rf__min_samples_split=10, rf__min_samples_leaf=4, rf__max_features=auto, rf__max_depth=90, rf__bootstrap=True \n"
     ]
    },
    {
     "name": "stderr",
     "output_type": "stream",
     "text": [
      "[Parallel(n_jobs=1)]: Using backend SequentialBackend with 1 concurrent workers.\n",
      "[Parallel(n_jobs=1)]: Done 838 out of 838 | elapsed:    2.9s finished\n",
      "[Parallel(n_jobs=1)]: Using backend SequentialBackend with 1 concurrent workers.\n",
      "[Parallel(n_jobs=1)]: Done 838 out of 838 | elapsed:    0.1s finished\n"
     ]
    },
    {
     "name": "stdout",
     "output_type": "stream",
     "text": [
      "[CV]  rf__n_estimators=838, rf__min_samples_split=10, rf__min_samples_leaf=4, rf__max_features=auto, rf__max_depth=90, rf__bootstrap=True, total=   3.8s\n",
      "[CV] rf__n_estimators=838, rf__min_samples_split=10, rf__min_samples_leaf=4, rf__max_features=auto, rf__max_depth=90, rf__bootstrap=True \n"
     ]
    },
    {
     "name": "stderr",
     "output_type": "stream",
     "text": [
      "[Parallel(n_jobs=1)]: Using backend SequentialBackend with 1 concurrent workers.\n",
      "[Parallel(n_jobs=1)]: Done 838 out of 838 | elapsed:    3.1s finished\n",
      "[Parallel(n_jobs=1)]: Using backend SequentialBackend with 1 concurrent workers.\n",
      "[Parallel(n_jobs=1)]: Done 838 out of 838 | elapsed:    0.1s finished\n"
     ]
    },
    {
     "name": "stdout",
     "output_type": "stream",
     "text": [
      "[CV]  rf__n_estimators=838, rf__min_samples_split=10, rf__min_samples_leaf=4, rf__max_features=auto, rf__max_depth=90, rf__bootstrap=True, total=   4.0s\n",
      "[CV] rf__n_estimators=927, rf__min_samples_split=2, rf__min_samples_leaf=2, rf__max_features=sqrt, rf__max_depth=30, rf__bootstrap=True \n"
     ]
    },
    {
     "name": "stderr",
     "output_type": "stream",
     "text": [
      "[Parallel(n_jobs=1)]: Using backend SequentialBackend with 1 concurrent workers.\n",
      "[Parallel(n_jobs=1)]: Done 927 out of 927 | elapsed:    5.2s finished\n",
      "[Parallel(n_jobs=1)]: Using backend SequentialBackend with 1 concurrent workers.\n",
      "[Parallel(n_jobs=1)]: Done 927 out of 927 | elapsed:    0.1s finished\n"
     ]
    },
    {
     "name": "stdout",
     "output_type": "stream",
     "text": [
      "[CV]  rf__n_estimators=927, rf__min_samples_split=2, rf__min_samples_leaf=2, rf__max_features=sqrt, rf__max_depth=30, rf__bootstrap=True, total=   6.2s\n",
      "[CV] rf__n_estimators=927, rf__min_samples_split=2, rf__min_samples_leaf=2, rf__max_features=sqrt, rf__max_depth=30, rf__bootstrap=True \n"
     ]
    },
    {
     "name": "stderr",
     "output_type": "stream",
     "text": [
      "[Parallel(n_jobs=1)]: Using backend SequentialBackend with 1 concurrent workers.\n",
      "[Parallel(n_jobs=1)]: Done 927 out of 927 | elapsed:    5.4s finished\n",
      "[Parallel(n_jobs=1)]: Using backend SequentialBackend with 1 concurrent workers.\n",
      "[Parallel(n_jobs=1)]: Done 927 out of 927 | elapsed:    0.1s finished\n"
     ]
    },
    {
     "name": "stdout",
     "output_type": "stream",
     "text": [
      "[CV]  rf__n_estimators=927, rf__min_samples_split=2, rf__min_samples_leaf=2, rf__max_features=sqrt, rf__max_depth=30, rf__bootstrap=True, total=   6.3s\n",
      "[CV] rf__n_estimators=927, rf__min_samples_split=2, rf__min_samples_leaf=2, rf__max_features=sqrt, rf__max_depth=30, rf__bootstrap=True \n"
     ]
    },
    {
     "name": "stderr",
     "output_type": "stream",
     "text": [
      "[Parallel(n_jobs=1)]: Using backend SequentialBackend with 1 concurrent workers.\n",
      "[Parallel(n_jobs=1)]: Done 927 out of 927 | elapsed:    4.4s finished\n",
      "[Parallel(n_jobs=1)]: Using backend SequentialBackend with 1 concurrent workers.\n",
      "[Parallel(n_jobs=1)]: Done 927 out of 927 | elapsed:    0.1s finished\n"
     ]
    },
    {
     "name": "stdout",
     "output_type": "stream",
     "text": [
      "[CV]  rf__n_estimators=927, rf__min_samples_split=2, rf__min_samples_leaf=2, rf__max_features=sqrt, rf__max_depth=30, rf__bootstrap=True, total=   5.4s\n",
      "[CV] rf__n_estimators=927, rf__min_samples_split=2, rf__min_samples_leaf=2, rf__max_features=sqrt, rf__max_depth=30, rf__bootstrap=True \n"
     ]
    },
    {
     "name": "stderr",
     "output_type": "stream",
     "text": [
      "[Parallel(n_jobs=1)]: Using backend SequentialBackend with 1 concurrent workers.\n",
      "[Parallel(n_jobs=1)]: Done 927 out of 927 | elapsed:    4.8s finished\n",
      "[Parallel(n_jobs=1)]: Using backend SequentialBackend with 1 concurrent workers.\n",
      "[Parallel(n_jobs=1)]: Done 927 out of 927 | elapsed:    0.1s finished\n"
     ]
    },
    {
     "name": "stdout",
     "output_type": "stream",
     "text": [
      "[CV]  rf__n_estimators=927, rf__min_samples_split=2, rf__min_samples_leaf=2, rf__max_features=sqrt, rf__max_depth=30, rf__bootstrap=True, total=   5.7s\n",
      "[CV] rf__n_estimators=927, rf__min_samples_split=2, rf__min_samples_leaf=2, rf__max_features=sqrt, rf__max_depth=30, rf__bootstrap=True \n"
     ]
    },
    {
     "name": "stderr",
     "output_type": "stream",
     "text": [
      "[Parallel(n_jobs=1)]: Using backend SequentialBackend with 1 concurrent workers.\n",
      "[Parallel(n_jobs=1)]: Done 927 out of 927 | elapsed:    4.4s finished\n",
      "[Parallel(n_jobs=1)]: Using backend SequentialBackend with 1 concurrent workers.\n",
      "[Parallel(n_jobs=1)]: Done 927 out of 927 | elapsed:    0.1s finished\n"
     ]
    },
    {
     "name": "stdout",
     "output_type": "stream",
     "text": [
      "[CV]  rf__n_estimators=927, rf__min_samples_split=2, rf__min_samples_leaf=2, rf__max_features=sqrt, rf__max_depth=30, rf__bootstrap=True, total=   5.4s\n",
      "[CV] rf__n_estimators=773, rf__min_samples_split=10, rf__min_samples_leaf=1, rf__max_features=auto, rf__max_depth=20, rf__bootstrap=False \n"
     ]
    },
    {
     "name": "stderr",
     "output_type": "stream",
     "text": [
      "[Parallel(n_jobs=1)]: Using backend SequentialBackend with 1 concurrent workers.\n",
      "[Parallel(n_jobs=1)]: Done 773 out of 773 | elapsed:    4.1s finished\n",
      "[Parallel(n_jobs=1)]: Using backend SequentialBackend with 1 concurrent workers.\n",
      "[Parallel(n_jobs=1)]: Done 773 out of 773 | elapsed:    0.1s finished\n"
     ]
    },
    {
     "name": "stdout",
     "output_type": "stream",
     "text": [
      "[CV]  rf__n_estimators=773, rf__min_samples_split=10, rf__min_samples_leaf=1, rf__max_features=auto, rf__max_depth=20, rf__bootstrap=False, total=   5.0s\n",
      "[CV] rf__n_estimators=773, rf__min_samples_split=10, rf__min_samples_leaf=1, rf__max_features=auto, rf__max_depth=20, rf__bootstrap=False \n"
     ]
    },
    {
     "name": "stderr",
     "output_type": "stream",
     "text": [
      "[Parallel(n_jobs=1)]: Using backend SequentialBackend with 1 concurrent workers.\n",
      "[Parallel(n_jobs=1)]: Done 773 out of 773 | elapsed:    4.3s finished\n",
      "[Parallel(n_jobs=1)]: Using backend SequentialBackend with 1 concurrent workers.\n",
      "[Parallel(n_jobs=1)]: Done 773 out of 773 | elapsed:    0.1s finished\n"
     ]
    },
    {
     "name": "stdout",
     "output_type": "stream",
     "text": [
      "[CV]  rf__n_estimators=773, rf__min_samples_split=10, rf__min_samples_leaf=1, rf__max_features=auto, rf__max_depth=20, rf__bootstrap=False, total=   5.2s\n",
      "[CV] rf__n_estimators=773, rf__min_samples_split=10, rf__min_samples_leaf=1, rf__max_features=auto, rf__max_depth=20, rf__bootstrap=False \n"
     ]
    },
    {
     "name": "stderr",
     "output_type": "stream",
     "text": [
      "[Parallel(n_jobs=1)]: Using backend SequentialBackend with 1 concurrent workers.\n",
      "[Parallel(n_jobs=1)]: Done 773 out of 773 | elapsed:    4.5s finished\n",
      "[Parallel(n_jobs=1)]: Using backend SequentialBackend with 1 concurrent workers.\n",
      "[Parallel(n_jobs=1)]: Done 773 out of 773 | elapsed:    0.2s finished\n"
     ]
    },
    {
     "name": "stdout",
     "output_type": "stream",
     "text": [
      "[CV]  rf__n_estimators=773, rf__min_samples_split=10, rf__min_samples_leaf=1, rf__max_features=auto, rf__max_depth=20, rf__bootstrap=False, total=   5.6s\n",
      "[CV] rf__n_estimators=773, rf__min_samples_split=10, rf__min_samples_leaf=1, rf__max_features=auto, rf__max_depth=20, rf__bootstrap=False \n"
     ]
    },
    {
     "name": "stderr",
     "output_type": "stream",
     "text": [
      "[Parallel(n_jobs=1)]: Using backend SequentialBackend with 1 concurrent workers.\n",
      "[Parallel(n_jobs=1)]: Done 773 out of 773 | elapsed:    4.7s finished\n",
      "[Parallel(n_jobs=1)]: Using backend SequentialBackend with 1 concurrent workers.\n",
      "[Parallel(n_jobs=1)]: Done 773 out of 773 | elapsed:    0.2s finished\n"
     ]
    },
    {
     "name": "stdout",
     "output_type": "stream",
     "text": [
      "[CV]  rf__n_estimators=773, rf__min_samples_split=10, rf__min_samples_leaf=1, rf__max_features=auto, rf__max_depth=20, rf__bootstrap=False, total=   5.7s\n",
      "[CV] rf__n_estimators=773, rf__min_samples_split=10, rf__min_samples_leaf=1, rf__max_features=auto, rf__max_depth=20, rf__bootstrap=False \n"
     ]
    },
    {
     "name": "stderr",
     "output_type": "stream",
     "text": [
      "[Parallel(n_jobs=1)]: Using backend SequentialBackend with 1 concurrent workers.\n",
      "[Parallel(n_jobs=1)]: Done 773 out of 773 | elapsed:    6.2s finished\n",
      "[Parallel(n_jobs=1)]: Using backend SequentialBackend with 1 concurrent workers.\n",
      "[Parallel(n_jobs=1)]: Done 773 out of 773 | elapsed:    0.1s finished\n"
     ]
    },
    {
     "name": "stdout",
     "output_type": "stream",
     "text": [
      "[CV]  rf__n_estimators=773, rf__min_samples_split=10, rf__min_samples_leaf=1, rf__max_features=auto, rf__max_depth=20, rf__bootstrap=False, total=   7.5s\n",
      "[CV] rf__n_estimators=426, rf__min_samples_split=5, rf__min_samples_leaf=2, rf__max_features=auto, rf__max_depth=None, rf__bootstrap=False \n"
     ]
    },
    {
     "name": "stderr",
     "output_type": "stream",
     "text": [
      "[Parallel(n_jobs=1)]: Using backend SequentialBackend with 1 concurrent workers.\n",
      "[Parallel(n_jobs=1)]: Done 426 out of 426 | elapsed:    3.6s finished\n",
      "[Parallel(n_jobs=1)]: Using backend SequentialBackend with 1 concurrent workers.\n",
      "[Parallel(n_jobs=1)]: Done 426 out of 426 | elapsed:    0.0s finished\n"
     ]
    },
    {
     "name": "stdout",
     "output_type": "stream",
     "text": [
      "[CV]  rf__n_estimators=426, rf__min_samples_split=5, rf__min_samples_leaf=2, rf__max_features=auto, rf__max_depth=None, rf__bootstrap=False, total=   4.6s\n",
      "[CV] rf__n_estimators=426, rf__min_samples_split=5, rf__min_samples_leaf=2, rf__max_features=auto, rf__max_depth=None, rf__bootstrap=False \n"
     ]
    },
    {
     "name": "stderr",
     "output_type": "stream",
     "text": [
      "[Parallel(n_jobs=1)]: Using backend SequentialBackend with 1 concurrent workers.\n",
      "[Parallel(n_jobs=1)]: Done 426 out of 426 | elapsed:    2.8s finished\n",
      "[Parallel(n_jobs=1)]: Using backend SequentialBackend with 1 concurrent workers.\n",
      "[Parallel(n_jobs=1)]: Done 426 out of 426 | elapsed:    0.0s finished\n"
     ]
    },
    {
     "name": "stdout",
     "output_type": "stream",
     "text": [
      "[CV]  rf__n_estimators=426, rf__min_samples_split=5, rf__min_samples_leaf=2, rf__max_features=auto, rf__max_depth=None, rf__bootstrap=False, total=   3.7s\n",
      "[CV] rf__n_estimators=426, rf__min_samples_split=5, rf__min_samples_leaf=2, rf__max_features=auto, rf__max_depth=None, rf__bootstrap=False \n"
     ]
    },
    {
     "name": "stderr",
     "output_type": "stream",
     "text": [
      "[Parallel(n_jobs=1)]: Using backend SequentialBackend with 1 concurrent workers.\n",
      "[Parallel(n_jobs=1)]: Done 426 out of 426 | elapsed:    2.7s finished\n",
      "[Parallel(n_jobs=1)]: Using backend SequentialBackend with 1 concurrent workers.\n",
      "[Parallel(n_jobs=1)]: Done 426 out of 426 | elapsed:    0.0s finished\n"
     ]
    },
    {
     "name": "stdout",
     "output_type": "stream",
     "text": [
      "[CV]  rf__n_estimators=426, rf__min_samples_split=5, rf__min_samples_leaf=2, rf__max_features=auto, rf__max_depth=None, rf__bootstrap=False, total=   3.6s\n",
      "[CV] rf__n_estimators=426, rf__min_samples_split=5, rf__min_samples_leaf=2, rf__max_features=auto, rf__max_depth=None, rf__bootstrap=False \n"
     ]
    },
    {
     "name": "stderr",
     "output_type": "stream",
     "text": [
      "[Parallel(n_jobs=1)]: Using backend SequentialBackend with 1 concurrent workers.\n",
      "[Parallel(n_jobs=1)]: Done 426 out of 426 | elapsed:    2.6s finished\n",
      "[Parallel(n_jobs=1)]: Using backend SequentialBackend with 1 concurrent workers.\n",
      "[Parallel(n_jobs=1)]: Done 426 out of 426 | elapsed:    0.0s finished\n"
     ]
    },
    {
     "name": "stdout",
     "output_type": "stream",
     "text": [
      "[CV]  rf__n_estimators=426, rf__min_samples_split=5, rf__min_samples_leaf=2, rf__max_features=auto, rf__max_depth=None, rf__bootstrap=False, total=   3.3s\n",
      "[CV] rf__n_estimators=426, rf__min_samples_split=5, rf__min_samples_leaf=2, rf__max_features=auto, rf__max_depth=None, rf__bootstrap=False \n"
     ]
    },
    {
     "name": "stderr",
     "output_type": "stream",
     "text": [
      "[Parallel(n_jobs=1)]: Using backend SequentialBackend with 1 concurrent workers.\n",
      "[Parallel(n_jobs=1)]: Done 426 out of 426 | elapsed:    2.7s finished\n",
      "[Parallel(n_jobs=1)]: Using backend SequentialBackend with 1 concurrent workers.\n",
      "[Parallel(n_jobs=1)]: Done 426 out of 426 | elapsed:    0.0s finished\n"
     ]
    },
    {
     "name": "stdout",
     "output_type": "stream",
     "text": [
      "[CV]  rf__n_estimators=426, rf__min_samples_split=5, rf__min_samples_leaf=2, rf__max_features=auto, rf__max_depth=None, rf__bootstrap=False, total=   3.4s\n",
      "[CV] rf__n_estimators=442, rf__min_samples_split=2, rf__min_samples_leaf=1, rf__max_features=sqrt, rf__max_depth=40, rf__bootstrap=False \n"
     ]
    },
    {
     "name": "stderr",
     "output_type": "stream",
     "text": [
      "[Parallel(n_jobs=1)]: Using backend SequentialBackend with 1 concurrent workers.\n",
      "[Parallel(n_jobs=1)]: Done 442 out of 442 | elapsed:    3.3s finished\n",
      "[Parallel(n_jobs=1)]: Using backend SequentialBackend with 1 concurrent workers.\n",
      "[Parallel(n_jobs=1)]: Done 442 out of 442 | elapsed:    0.0s finished\n"
     ]
    },
    {
     "name": "stdout",
     "output_type": "stream",
     "text": [
      "[CV]  rf__n_estimators=442, rf__min_samples_split=2, rf__min_samples_leaf=1, rf__max_features=sqrt, rf__max_depth=40, rf__bootstrap=False, total=   4.0s\n",
      "[CV] rf__n_estimators=442, rf__min_samples_split=2, rf__min_samples_leaf=1, rf__max_features=sqrt, rf__max_depth=40, rf__bootstrap=False \n"
     ]
    },
    {
     "name": "stderr",
     "output_type": "stream",
     "text": [
      "[Parallel(n_jobs=1)]: Using backend SequentialBackend with 1 concurrent workers.\n",
      "[Parallel(n_jobs=1)]: Done 442 out of 442 | elapsed:    3.6s finished\n",
      "[Parallel(n_jobs=1)]: Using backend SequentialBackend with 1 concurrent workers.\n",
      "[Parallel(n_jobs=1)]: Done 442 out of 442 | elapsed:    0.0s finished\n"
     ]
    },
    {
     "name": "stdout",
     "output_type": "stream",
     "text": [
      "[CV]  rf__n_estimators=442, rf__min_samples_split=2, rf__min_samples_leaf=1, rf__max_features=sqrt, rf__max_depth=40, rf__bootstrap=False, total=   4.3s\n",
      "[CV] rf__n_estimators=442, rf__min_samples_split=2, rf__min_samples_leaf=1, rf__max_features=sqrt, rf__max_depth=40, rf__bootstrap=False \n"
     ]
    },
    {
     "name": "stderr",
     "output_type": "stream",
     "text": [
      "[Parallel(n_jobs=1)]: Using backend SequentialBackend with 1 concurrent workers.\n",
      "[Parallel(n_jobs=1)]: Done 442 out of 442 | elapsed:    3.3s finished\n",
      "[Parallel(n_jobs=1)]: Using backend SequentialBackend with 1 concurrent workers.\n",
      "[Parallel(n_jobs=1)]: Done 442 out of 442 | elapsed:    0.0s finished\n"
     ]
    },
    {
     "name": "stdout",
     "output_type": "stream",
     "text": [
      "[CV]  rf__n_estimators=442, rf__min_samples_split=2, rf__min_samples_leaf=1, rf__max_features=sqrt, rf__max_depth=40, rf__bootstrap=False, total=   4.0s\n",
      "[CV] rf__n_estimators=442, rf__min_samples_split=2, rf__min_samples_leaf=1, rf__max_features=sqrt, rf__max_depth=40, rf__bootstrap=False \n"
     ]
    },
    {
     "name": "stderr",
     "output_type": "stream",
     "text": [
      "[Parallel(n_jobs=1)]: Using backend SequentialBackend with 1 concurrent workers.\n",
      "[Parallel(n_jobs=1)]: Done 442 out of 442 | elapsed:    3.3s finished\n",
      "[Parallel(n_jobs=1)]: Using backend SequentialBackend with 1 concurrent workers.\n",
      "[Parallel(n_jobs=1)]: Done 442 out of 442 | elapsed:    0.0s finished\n"
     ]
    },
    {
     "name": "stdout",
     "output_type": "stream",
     "text": [
      "[CV]  rf__n_estimators=442, rf__min_samples_split=2, rf__min_samples_leaf=1, rf__max_features=sqrt, rf__max_depth=40, rf__bootstrap=False, total=   4.0s\n",
      "[CV] rf__n_estimators=442, rf__min_samples_split=2, rf__min_samples_leaf=1, rf__max_features=sqrt, rf__max_depth=40, rf__bootstrap=False \n"
     ]
    },
    {
     "name": "stderr",
     "output_type": "stream",
     "text": [
      "[Parallel(n_jobs=1)]: Using backend SequentialBackend with 1 concurrent workers.\n",
      "[Parallel(n_jobs=1)]: Done 442 out of 442 | elapsed:    3.2s finished\n",
      "[Parallel(n_jobs=1)]: Using backend SequentialBackend with 1 concurrent workers.\n",
      "[Parallel(n_jobs=1)]: Done 442 out of 442 | elapsed:    0.0s finished\n"
     ]
    },
    {
     "name": "stdout",
     "output_type": "stream",
     "text": [
      "[CV]  rf__n_estimators=442, rf__min_samples_split=2, rf__min_samples_leaf=1, rf__max_features=sqrt, rf__max_depth=40, rf__bootstrap=False, total=   4.5s\n",
      "[CV] rf__n_estimators=563, rf__min_samples_split=2, rf__min_samples_leaf=4, rf__max_features=auto, rf__max_depth=95, rf__bootstrap=True \n"
     ]
    },
    {
     "name": "stderr",
     "output_type": "stream",
     "text": [
      "[Parallel(n_jobs=1)]: Using backend SequentialBackend with 1 concurrent workers.\n",
      "[Parallel(n_jobs=1)]: Done 563 out of 563 | elapsed:    2.2s finished\n",
      "[Parallel(n_jobs=1)]: Using backend SequentialBackend with 1 concurrent workers.\n",
      "[Parallel(n_jobs=1)]: Done 563 out of 563 | elapsed:    0.1s finished\n"
     ]
    },
    {
     "name": "stdout",
     "output_type": "stream",
     "text": [
      "[CV]  rf__n_estimators=563, rf__min_samples_split=2, rf__min_samples_leaf=4, rf__max_features=auto, rf__max_depth=95, rf__bootstrap=True, total=   3.0s\n",
      "[CV] rf__n_estimators=563, rf__min_samples_split=2, rf__min_samples_leaf=4, rf__max_features=auto, rf__max_depth=95, rf__bootstrap=True \n"
     ]
    },
    {
     "name": "stderr",
     "output_type": "stream",
     "text": [
      "[Parallel(n_jobs=1)]: Using backend SequentialBackend with 1 concurrent workers.\n",
      "[Parallel(n_jobs=1)]: Done 563 out of 563 | elapsed:    2.2s finished\n",
      "[Parallel(n_jobs=1)]: Using backend SequentialBackend with 1 concurrent workers.\n",
      "[Parallel(n_jobs=1)]: Done 563 out of 563 | elapsed:    0.1s finished\n"
     ]
    },
    {
     "name": "stdout",
     "output_type": "stream",
     "text": [
      "[CV]  rf__n_estimators=563, rf__min_samples_split=2, rf__min_samples_leaf=4, rf__max_features=auto, rf__max_depth=95, rf__bootstrap=True, total=   3.1s\n",
      "[CV] rf__n_estimators=563, rf__min_samples_split=2, rf__min_samples_leaf=4, rf__max_features=auto, rf__max_depth=95, rf__bootstrap=True \n"
     ]
    },
    {
     "name": "stderr",
     "output_type": "stream",
     "text": [
      "[Parallel(n_jobs=1)]: Using backend SequentialBackend with 1 concurrent workers.\n",
      "[Parallel(n_jobs=1)]: Done 563 out of 563 | elapsed:    2.1s finished\n",
      "[Parallel(n_jobs=1)]: Using backend SequentialBackend with 1 concurrent workers.\n",
      "[Parallel(n_jobs=1)]: Done 563 out of 563 | elapsed:    0.1s finished\n"
     ]
    },
    {
     "name": "stdout",
     "output_type": "stream",
     "text": [
      "[CV]  rf__n_estimators=563, rf__min_samples_split=2, rf__min_samples_leaf=4, rf__max_features=auto, rf__max_depth=95, rf__bootstrap=True, total=   2.8s\n",
      "[CV] rf__n_estimators=563, rf__min_samples_split=2, rf__min_samples_leaf=4, rf__max_features=auto, rf__max_depth=95, rf__bootstrap=True \n"
     ]
    },
    {
     "name": "stderr",
     "output_type": "stream",
     "text": [
      "[Parallel(n_jobs=1)]: Using backend SequentialBackend with 1 concurrent workers.\n",
      "[Parallel(n_jobs=1)]: Done 563 out of 563 | elapsed:    2.2s finished\n",
      "[Parallel(n_jobs=1)]: Using backend SequentialBackend with 1 concurrent workers.\n",
      "[Parallel(n_jobs=1)]: Done 563 out of 563 | elapsed:    0.1s finished\n"
     ]
    },
    {
     "name": "stdout",
     "output_type": "stream",
     "text": [
      "[CV]  rf__n_estimators=563, rf__min_samples_split=2, rf__min_samples_leaf=4, rf__max_features=auto, rf__max_depth=95, rf__bootstrap=True, total=   2.9s\n",
      "[CV] rf__n_estimators=563, rf__min_samples_split=2, rf__min_samples_leaf=4, rf__max_features=auto, rf__max_depth=95, rf__bootstrap=True \n"
     ]
    },
    {
     "name": "stderr",
     "output_type": "stream",
     "text": [
      "[Parallel(n_jobs=1)]: Using backend SequentialBackend with 1 concurrent workers.\n",
      "[Parallel(n_jobs=1)]: Done 563 out of 563 | elapsed:    2.2s finished\n",
      "[Parallel(n_jobs=1)]: Using backend SequentialBackend with 1 concurrent workers.\n",
      "[Parallel(n_jobs=1)]: Done 563 out of 563 | elapsed:    0.1s finished\n"
     ]
    },
    {
     "name": "stdout",
     "output_type": "stream",
     "text": [
      "[CV]  rf__n_estimators=563, rf__min_samples_split=2, rf__min_samples_leaf=4, rf__max_features=auto, rf__max_depth=95, rf__bootstrap=True, total=   2.9s\n",
      "[CV] rf__n_estimators=313, rf__min_samples_split=2, rf__min_samples_leaf=1, rf__max_features=auto, rf__max_depth=100, rf__bootstrap=False \n"
     ]
    },
    {
     "name": "stderr",
     "output_type": "stream",
     "text": [
      "[Parallel(n_jobs=1)]: Using backend SequentialBackend with 1 concurrent workers.\n",
      "[Parallel(n_jobs=1)]: Done 313 out of 313 | elapsed:    2.3s finished\n",
      "[Parallel(n_jobs=1)]: Using backend SequentialBackend with 1 concurrent workers.\n",
      "[Parallel(n_jobs=1)]: Done 313 out of 313 | elapsed:    0.0s finished\n"
     ]
    },
    {
     "name": "stdout",
     "output_type": "stream",
     "text": [
      "[CV]  rf__n_estimators=313, rf__min_samples_split=2, rf__min_samples_leaf=1, rf__max_features=auto, rf__max_depth=100, rf__bootstrap=False, total=   3.0s\n",
      "[CV] rf__n_estimators=313, rf__min_samples_split=2, rf__min_samples_leaf=1, rf__max_features=auto, rf__max_depth=100, rf__bootstrap=False \n"
     ]
    },
    {
     "name": "stderr",
     "output_type": "stream",
     "text": [
      "[Parallel(n_jobs=1)]: Using backend SequentialBackend with 1 concurrent workers.\n",
      "[Parallel(n_jobs=1)]: Done 313 out of 313 | elapsed:    2.6s finished\n",
      "[Parallel(n_jobs=1)]: Using backend SequentialBackend with 1 concurrent workers.\n",
      "[Parallel(n_jobs=1)]: Done 313 out of 313 | elapsed:    0.0s finished\n"
     ]
    },
    {
     "name": "stdout",
     "output_type": "stream",
     "text": [
      "[CV]  rf__n_estimators=313, rf__min_samples_split=2, rf__min_samples_leaf=1, rf__max_features=auto, rf__max_depth=100, rf__bootstrap=False, total=   3.2s\n",
      "[CV] rf__n_estimators=313, rf__min_samples_split=2, rf__min_samples_leaf=1, rf__max_features=auto, rf__max_depth=100, rf__bootstrap=False \n"
     ]
    },
    {
     "name": "stderr",
     "output_type": "stream",
     "text": [
      "[Parallel(n_jobs=1)]: Using backend SequentialBackend with 1 concurrent workers.\n",
      "[Parallel(n_jobs=1)]: Done 313 out of 313 | elapsed:    2.2s finished\n",
      "[Parallel(n_jobs=1)]: Using backend SequentialBackend with 1 concurrent workers.\n",
      "[Parallel(n_jobs=1)]: Done 313 out of 313 | elapsed:    0.0s finished\n"
     ]
    },
    {
     "name": "stdout",
     "output_type": "stream",
     "text": [
      "[CV]  rf__n_estimators=313, rf__min_samples_split=2, rf__min_samples_leaf=1, rf__max_features=auto, rf__max_depth=100, rf__bootstrap=False, total=   2.9s\n",
      "[CV] rf__n_estimators=313, rf__min_samples_split=2, rf__min_samples_leaf=1, rf__max_features=auto, rf__max_depth=100, rf__bootstrap=False \n"
     ]
    },
    {
     "name": "stderr",
     "output_type": "stream",
     "text": [
      "[Parallel(n_jobs=1)]: Using backend SequentialBackend with 1 concurrent workers.\n",
      "[Parallel(n_jobs=1)]: Done 313 out of 313 | elapsed:    2.2s finished\n",
      "[Parallel(n_jobs=1)]: Using backend SequentialBackend with 1 concurrent workers.\n",
      "[Parallel(n_jobs=1)]: Done 313 out of 313 | elapsed:    0.0s finished\n"
     ]
    },
    {
     "name": "stdout",
     "output_type": "stream",
     "text": [
      "[CV]  rf__n_estimators=313, rf__min_samples_split=2, rf__min_samples_leaf=1, rf__max_features=auto, rf__max_depth=100, rf__bootstrap=False, total=   2.9s\n",
      "[CV] rf__n_estimators=313, rf__min_samples_split=2, rf__min_samples_leaf=1, rf__max_features=auto, rf__max_depth=100, rf__bootstrap=False \n"
     ]
    },
    {
     "name": "stderr",
     "output_type": "stream",
     "text": [
      "[Parallel(n_jobs=1)]: Using backend SequentialBackend with 1 concurrent workers.\n",
      "[Parallel(n_jobs=1)]: Done 313 out of 313 | elapsed:    2.2s finished\n",
      "[Parallel(n_jobs=1)]: Using backend SequentialBackend with 1 concurrent workers.\n",
      "[Parallel(n_jobs=1)]: Done 313 out of 313 | elapsed:    0.0s finished\n"
     ]
    },
    {
     "name": "stdout",
     "output_type": "stream",
     "text": [
      "[CV]  rf__n_estimators=313, rf__min_samples_split=2, rf__min_samples_leaf=1, rf__max_features=auto, rf__max_depth=100, rf__bootstrap=False, total=   2.9s\n",
      "[CV] rf__n_estimators=507, rf__min_samples_split=10, rf__min_samples_leaf=1, rf__max_features=sqrt, rf__max_depth=70, rf__bootstrap=False \n"
     ]
    },
    {
     "name": "stderr",
     "output_type": "stream",
     "text": [
      "[Parallel(n_jobs=1)]: Using backend SequentialBackend with 1 concurrent workers.\n",
      "[Parallel(n_jobs=1)]: Done 507 out of 507 | elapsed:    2.9s finished\n",
      "[Parallel(n_jobs=1)]: Using backend SequentialBackend with 1 concurrent workers.\n",
      "[Parallel(n_jobs=1)]: Done 507 out of 507 | elapsed:    0.1s finished\n"
     ]
    },
    {
     "name": "stdout",
     "output_type": "stream",
     "text": [
      "[CV]  rf__n_estimators=507, rf__min_samples_split=10, rf__min_samples_leaf=1, rf__max_features=sqrt, rf__max_depth=70, rf__bootstrap=False, total=   3.7s\n",
      "[CV] rf__n_estimators=507, rf__min_samples_split=10, rf__min_samples_leaf=1, rf__max_features=sqrt, rf__max_depth=70, rf__bootstrap=False \n"
     ]
    },
    {
     "name": "stderr",
     "output_type": "stream",
     "text": [
      "[Parallel(n_jobs=1)]: Using backend SequentialBackend with 1 concurrent workers.\n",
      "[Parallel(n_jobs=1)]: Done 507 out of 507 | elapsed:    3.0s finished\n",
      "[Parallel(n_jobs=1)]: Using backend SequentialBackend with 1 concurrent workers.\n",
      "[Parallel(n_jobs=1)]: Done 507 out of 507 | elapsed:    0.0s finished\n"
     ]
    },
    {
     "name": "stdout",
     "output_type": "stream",
     "text": [
      "[CV]  rf__n_estimators=507, rf__min_samples_split=10, rf__min_samples_leaf=1, rf__max_features=sqrt, rf__max_depth=70, rf__bootstrap=False, total=   3.9s\n",
      "[CV] rf__n_estimators=507, rf__min_samples_split=10, rf__min_samples_leaf=1, rf__max_features=sqrt, rf__max_depth=70, rf__bootstrap=False \n"
     ]
    },
    {
     "name": "stderr",
     "output_type": "stream",
     "text": [
      "[Parallel(n_jobs=1)]: Using backend SequentialBackend with 1 concurrent workers.\n",
      "[Parallel(n_jobs=1)]: Done 507 out of 507 | elapsed:    2.8s finished\n",
      "[Parallel(n_jobs=1)]: Using backend SequentialBackend with 1 concurrent workers.\n",
      "[Parallel(n_jobs=1)]: Done 507 out of 507 | elapsed:    0.0s finished\n"
     ]
    },
    {
     "name": "stdout",
     "output_type": "stream",
     "text": [
      "[CV]  rf__n_estimators=507, rf__min_samples_split=10, rf__min_samples_leaf=1, rf__max_features=sqrt, rf__max_depth=70, rf__bootstrap=False, total=   3.6s\n",
      "[CV] rf__n_estimators=507, rf__min_samples_split=10, rf__min_samples_leaf=1, rf__max_features=sqrt, rf__max_depth=70, rf__bootstrap=False \n"
     ]
    },
    {
     "name": "stderr",
     "output_type": "stream",
     "text": [
      "[Parallel(n_jobs=1)]: Using backend SequentialBackend with 1 concurrent workers.\n",
      "[Parallel(n_jobs=1)]: Done 507 out of 507 | elapsed:    2.9s finished\n",
      "[Parallel(n_jobs=1)]: Using backend SequentialBackend with 1 concurrent workers.\n",
      "[Parallel(n_jobs=1)]: Done 507 out of 507 | elapsed:    0.1s finished\n"
     ]
    },
    {
     "name": "stdout",
     "output_type": "stream",
     "text": [
      "[CV]  rf__n_estimators=507, rf__min_samples_split=10, rf__min_samples_leaf=1, rf__max_features=sqrt, rf__max_depth=70, rf__bootstrap=False, total=   3.7s\n",
      "[CV] rf__n_estimators=507, rf__min_samples_split=10, rf__min_samples_leaf=1, rf__max_features=sqrt, rf__max_depth=70, rf__bootstrap=False \n"
     ]
    },
    {
     "name": "stderr",
     "output_type": "stream",
     "text": [
      "[Parallel(n_jobs=1)]: Using backend SequentialBackend with 1 concurrent workers.\n",
      "[Parallel(n_jobs=1)]: Done 507 out of 507 | elapsed:    2.8s finished\n",
      "[Parallel(n_jobs=1)]: Using backend SequentialBackend with 1 concurrent workers.\n",
      "[Parallel(n_jobs=1)]: Done 507 out of 507 | elapsed:    0.0s finished\n"
     ]
    },
    {
     "name": "stdout",
     "output_type": "stream",
     "text": [
      "[CV]  rf__n_estimators=507, rf__min_samples_split=10, rf__min_samples_leaf=1, rf__max_features=sqrt, rf__max_depth=70, rf__bootstrap=False, total=   3.6s\n",
      "[CV] rf__n_estimators=830, rf__min_samples_split=2, rf__min_samples_leaf=1, rf__max_features=sqrt, rf__max_depth=30, rf__bootstrap=True \n"
     ]
    },
    {
     "name": "stderr",
     "output_type": "stream",
     "text": [
      "[Parallel(n_jobs=1)]: Using backend SequentialBackend with 1 concurrent workers.\n",
      "[Parallel(n_jobs=1)]: Done 830 out of 830 | elapsed:    4.5s finished\n",
      "[Parallel(n_jobs=1)]: Using backend SequentialBackend with 1 concurrent workers.\n",
      "[Parallel(n_jobs=1)]: Done 830 out of 830 | elapsed:    0.1s finished\n"
     ]
    },
    {
     "name": "stdout",
     "output_type": "stream",
     "text": [
      "[CV]  rf__n_estimators=830, rf__min_samples_split=2, rf__min_samples_leaf=1, rf__max_features=sqrt, rf__max_depth=30, rf__bootstrap=True, total=   5.5s\n",
      "[CV] rf__n_estimators=830, rf__min_samples_split=2, rf__min_samples_leaf=1, rf__max_features=sqrt, rf__max_depth=30, rf__bootstrap=True \n"
     ]
    },
    {
     "name": "stderr",
     "output_type": "stream",
     "text": [
      "[Parallel(n_jobs=1)]: Using backend SequentialBackend with 1 concurrent workers.\n",
      "[Parallel(n_jobs=1)]: Done 830 out of 830 | elapsed:    4.7s finished\n",
      "[Parallel(n_jobs=1)]: Using backend SequentialBackend with 1 concurrent workers.\n",
      "[Parallel(n_jobs=1)]: Done 830 out of 830 | elapsed:    0.2s finished\n"
     ]
    },
    {
     "name": "stdout",
     "output_type": "stream",
     "text": [
      "[CV]  rf__n_estimators=830, rf__min_samples_split=2, rf__min_samples_leaf=1, rf__max_features=sqrt, rf__max_depth=30, rf__bootstrap=True, total=   5.8s\n",
      "[CV] rf__n_estimators=830, rf__min_samples_split=2, rf__min_samples_leaf=1, rf__max_features=sqrt, rf__max_depth=30, rf__bootstrap=True \n"
     ]
    },
    {
     "name": "stderr",
     "output_type": "stream",
     "text": [
      "[Parallel(n_jobs=1)]: Using backend SequentialBackend with 1 concurrent workers.\n",
      "[Parallel(n_jobs=1)]: Done 830 out of 830 | elapsed:    4.7s finished\n",
      "[Parallel(n_jobs=1)]: Using backend SequentialBackend with 1 concurrent workers.\n",
      "[Parallel(n_jobs=1)]: Done 830 out of 830 | elapsed:    0.1s finished\n"
     ]
    },
    {
     "name": "stdout",
     "output_type": "stream",
     "text": [
      "[CV]  rf__n_estimators=830, rf__min_samples_split=2, rf__min_samples_leaf=1, rf__max_features=sqrt, rf__max_depth=30, rf__bootstrap=True, total=   5.8s\n",
      "[CV] rf__n_estimators=830, rf__min_samples_split=2, rf__min_samples_leaf=1, rf__max_features=sqrt, rf__max_depth=30, rf__bootstrap=True \n"
     ]
    },
    {
     "name": "stderr",
     "output_type": "stream",
     "text": [
      "[Parallel(n_jobs=1)]: Using backend SequentialBackend with 1 concurrent workers.\n",
      "[Parallel(n_jobs=1)]: Done 830 out of 830 | elapsed:    5.6s finished\n",
      "[Parallel(n_jobs=1)]: Using backend SequentialBackend with 1 concurrent workers.\n",
      "[Parallel(n_jobs=1)]: Done 830 out of 830 | elapsed:    0.1s finished\n"
     ]
    },
    {
     "name": "stdout",
     "output_type": "stream",
     "text": [
      "[CV]  rf__n_estimators=830, rf__min_samples_split=2, rf__min_samples_leaf=1, rf__max_features=sqrt, rf__max_depth=30, rf__bootstrap=True, total=   6.5s\n",
      "[CV] rf__n_estimators=830, rf__min_samples_split=2, rf__min_samples_leaf=1, rf__max_features=sqrt, rf__max_depth=30, rf__bootstrap=True \n"
     ]
    },
    {
     "name": "stderr",
     "output_type": "stream",
     "text": [
      "[Parallel(n_jobs=1)]: Using backend SequentialBackend with 1 concurrent workers.\n",
      "[Parallel(n_jobs=1)]: Done 830 out of 830 | elapsed:    5.1s finished\n",
      "[Parallel(n_jobs=1)]: Using backend SequentialBackend with 1 concurrent workers.\n",
      "[Parallel(n_jobs=1)]: Done 830 out of 830 | elapsed:    0.1s finished\n"
     ]
    },
    {
     "name": "stdout",
     "output_type": "stream",
     "text": [
      "[CV]  rf__n_estimators=830, rf__min_samples_split=2, rf__min_samples_leaf=1, rf__max_features=sqrt, rf__max_depth=30, rf__bootstrap=True, total=   6.1s\n",
      "[CV] rf__n_estimators=434, rf__min_samples_split=2, rf__min_samples_leaf=1, rf__max_features=sqrt, rf__max_depth=50, rf__bootstrap=False \n"
     ]
    },
    {
     "name": "stderr",
     "output_type": "stream",
     "text": [
      "[Parallel(n_jobs=1)]: Using backend SequentialBackend with 1 concurrent workers.\n",
      "[Parallel(n_jobs=1)]: Done 434 out of 434 | elapsed:    3.1s finished\n",
      "[Parallel(n_jobs=1)]: Using backend SequentialBackend with 1 concurrent workers.\n",
      "[Parallel(n_jobs=1)]: Done 434 out of 434 | elapsed:    0.0s finished\n"
     ]
    },
    {
     "name": "stdout",
     "output_type": "stream",
     "text": [
      "[CV]  rf__n_estimators=434, rf__min_samples_split=2, rf__min_samples_leaf=1, rf__max_features=sqrt, rf__max_depth=50, rf__bootstrap=False, total=   3.9s\n",
      "[CV] rf__n_estimators=434, rf__min_samples_split=2, rf__min_samples_leaf=1, rf__max_features=sqrt, rf__max_depth=50, rf__bootstrap=False \n"
     ]
    },
    {
     "name": "stderr",
     "output_type": "stream",
     "text": [
      "[Parallel(n_jobs=1)]: Using backend SequentialBackend with 1 concurrent workers.\n",
      "[Parallel(n_jobs=1)]: Done 434 out of 434 | elapsed:    3.2s finished\n",
      "[Parallel(n_jobs=1)]: Using backend SequentialBackend with 1 concurrent workers.\n",
      "[Parallel(n_jobs=1)]: Done 434 out of 434 | elapsed:    0.1s finished\n"
     ]
    },
    {
     "name": "stdout",
     "output_type": "stream",
     "text": [
      "[CV]  rf__n_estimators=434, rf__min_samples_split=2, rf__min_samples_leaf=1, rf__max_features=sqrt, rf__max_depth=50, rf__bootstrap=False, total=   4.0s\n",
      "[CV] rf__n_estimators=434, rf__min_samples_split=2, rf__min_samples_leaf=1, rf__max_features=sqrt, rf__max_depth=50, rf__bootstrap=False \n"
     ]
    },
    {
     "name": "stderr",
     "output_type": "stream",
     "text": [
      "[Parallel(n_jobs=1)]: Using backend SequentialBackend with 1 concurrent workers.\n",
      "[Parallel(n_jobs=1)]: Done 434 out of 434 | elapsed:    3.2s finished\n",
      "[Parallel(n_jobs=1)]: Using backend SequentialBackend with 1 concurrent workers.\n",
      "[Parallel(n_jobs=1)]: Done 434 out of 434 | elapsed:    0.0s finished\n"
     ]
    },
    {
     "name": "stdout",
     "output_type": "stream",
     "text": [
      "[CV]  rf__n_estimators=434, rf__min_samples_split=2, rf__min_samples_leaf=1, rf__max_features=sqrt, rf__max_depth=50, rf__bootstrap=False, total=   4.0s\n",
      "[CV] rf__n_estimators=434, rf__min_samples_split=2, rf__min_samples_leaf=1, rf__max_features=sqrt, rf__max_depth=50, rf__bootstrap=False \n"
     ]
    },
    {
     "name": "stderr",
     "output_type": "stream",
     "text": [
      "[Parallel(n_jobs=1)]: Using backend SequentialBackend with 1 concurrent workers.\n",
      "[Parallel(n_jobs=1)]: Done 434 out of 434 | elapsed:    3.1s finished\n",
      "[Parallel(n_jobs=1)]: Using backend SequentialBackend with 1 concurrent workers.\n",
      "[Parallel(n_jobs=1)]: Done 434 out of 434 | elapsed:    0.0s finished\n"
     ]
    },
    {
     "name": "stdout",
     "output_type": "stream",
     "text": [
      "[CV]  rf__n_estimators=434, rf__min_samples_split=2, rf__min_samples_leaf=1, rf__max_features=sqrt, rf__max_depth=50, rf__bootstrap=False, total=   3.8s\n",
      "[CV] rf__n_estimators=434, rf__min_samples_split=2, rf__min_samples_leaf=1, rf__max_features=sqrt, rf__max_depth=50, rf__bootstrap=False \n"
     ]
    },
    {
     "name": "stderr",
     "output_type": "stream",
     "text": [
      "[Parallel(n_jobs=1)]: Using backend SequentialBackend with 1 concurrent workers.\n",
      "[Parallel(n_jobs=1)]: Done 434 out of 434 | elapsed:    3.1s finished\n",
      "[Parallel(n_jobs=1)]: Using backend SequentialBackend with 1 concurrent workers.\n",
      "[Parallel(n_jobs=1)]: Done 434 out of 434 | elapsed:    0.0s finished\n"
     ]
    },
    {
     "name": "stdout",
     "output_type": "stream",
     "text": [
      "[CV]  rf__n_estimators=434, rf__min_samples_split=2, rf__min_samples_leaf=1, rf__max_features=sqrt, rf__max_depth=50, rf__bootstrap=False, total=   3.8s\n",
      "[CV] rf__n_estimators=296, rf__min_samples_split=2, rf__min_samples_leaf=1, rf__max_features=auto, rf__max_depth=75, rf__bootstrap=False \n"
     ]
    },
    {
     "name": "stderr",
     "output_type": "stream",
     "text": [
      "[Parallel(n_jobs=1)]: Using backend SequentialBackend with 1 concurrent workers.\n",
      "[Parallel(n_jobs=1)]: Done 296 out of 296 | elapsed:    2.1s finished\n",
      "[Parallel(n_jobs=1)]: Using backend SequentialBackend with 1 concurrent workers.\n",
      "[Parallel(n_jobs=1)]: Done 296 out of 296 | elapsed:    0.0s finished\n"
     ]
    },
    {
     "name": "stdout",
     "output_type": "stream",
     "text": [
      "[CV]  rf__n_estimators=296, rf__min_samples_split=2, rf__min_samples_leaf=1, rf__max_features=auto, rf__max_depth=75, rf__bootstrap=False, total=   2.8s\n",
      "[CV] rf__n_estimators=296, rf__min_samples_split=2, rf__min_samples_leaf=1, rf__max_features=auto, rf__max_depth=75, rf__bootstrap=False \n"
     ]
    },
    {
     "name": "stderr",
     "output_type": "stream",
     "text": [
      "[Parallel(n_jobs=1)]: Using backend SequentialBackend with 1 concurrent workers.\n",
      "[Parallel(n_jobs=1)]: Done 296 out of 296 | elapsed:    2.1s finished\n",
      "[Parallel(n_jobs=1)]: Using backend SequentialBackend with 1 concurrent workers.\n",
      "[Parallel(n_jobs=1)]: Done 296 out of 296 | elapsed:    0.0s finished\n"
     ]
    },
    {
     "name": "stdout",
     "output_type": "stream",
     "text": [
      "[CV]  rf__n_estimators=296, rf__min_samples_split=2, rf__min_samples_leaf=1, rf__max_features=auto, rf__max_depth=75, rf__bootstrap=False, total=   2.8s\n",
      "[CV] rf__n_estimators=296, rf__min_samples_split=2, rf__min_samples_leaf=1, rf__max_features=auto, rf__max_depth=75, rf__bootstrap=False \n"
     ]
    },
    {
     "name": "stderr",
     "output_type": "stream",
     "text": [
      "[Parallel(n_jobs=1)]: Using backend SequentialBackend with 1 concurrent workers.\n",
      "[Parallel(n_jobs=1)]: Done 296 out of 296 | elapsed:    2.1s finished\n",
      "[Parallel(n_jobs=1)]: Using backend SequentialBackend with 1 concurrent workers.\n",
      "[Parallel(n_jobs=1)]: Done 296 out of 296 | elapsed:    0.0s finished\n"
     ]
    },
    {
     "name": "stdout",
     "output_type": "stream",
     "text": [
      "[CV]  rf__n_estimators=296, rf__min_samples_split=2, rf__min_samples_leaf=1, rf__max_features=auto, rf__max_depth=75, rf__bootstrap=False, total=   2.8s\n",
      "[CV] rf__n_estimators=296, rf__min_samples_split=2, rf__min_samples_leaf=1, rf__max_features=auto, rf__max_depth=75, rf__bootstrap=False \n"
     ]
    },
    {
     "name": "stderr",
     "output_type": "stream",
     "text": [
      "[Parallel(n_jobs=1)]: Using backend SequentialBackend with 1 concurrent workers.\n",
      "[Parallel(n_jobs=1)]: Done 296 out of 296 | elapsed:    2.1s finished\n",
      "[Parallel(n_jobs=1)]: Using backend SequentialBackend with 1 concurrent workers.\n",
      "[Parallel(n_jobs=1)]: Done 296 out of 296 | elapsed:    0.0s finished\n"
     ]
    },
    {
     "name": "stdout",
     "output_type": "stream",
     "text": [
      "[CV]  rf__n_estimators=296, rf__min_samples_split=2, rf__min_samples_leaf=1, rf__max_features=auto, rf__max_depth=75, rf__bootstrap=False, total=   2.8s\n",
      "[CV] rf__n_estimators=296, rf__min_samples_split=2, rf__min_samples_leaf=1, rf__max_features=auto, rf__max_depth=75, rf__bootstrap=False \n"
     ]
    },
    {
     "name": "stderr",
     "output_type": "stream",
     "text": [
      "[Parallel(n_jobs=1)]: Using backend SequentialBackend with 1 concurrent workers.\n",
      "[Parallel(n_jobs=1)]: Done 296 out of 296 | elapsed:    2.1s finished\n",
      "[Parallel(n_jobs=1)]: Using backend SequentialBackend with 1 concurrent workers.\n",
      "[Parallel(n_jobs=1)]: Done 296 out of 296 | elapsed:    0.0s finished\n"
     ]
    },
    {
     "name": "stdout",
     "output_type": "stream",
     "text": [
      "[CV]  rf__n_estimators=296, rf__min_samples_split=2, rf__min_samples_leaf=1, rf__max_features=auto, rf__max_depth=75, rf__bootstrap=False, total=   2.7s\n",
      "[CV] rf__n_estimators=216, rf__min_samples_split=2, rf__min_samples_leaf=2, rf__max_features=auto, rf__max_depth=95, rf__bootstrap=False \n"
     ]
    },
    {
     "name": "stderr",
     "output_type": "stream",
     "text": [
      "[Parallel(n_jobs=1)]: Using backend SequentialBackend with 1 concurrent workers.\n",
      "[Parallel(n_jobs=1)]: Done 216 out of 216 | elapsed:    1.4s finished\n",
      "[Parallel(n_jobs=1)]: Using backend SequentialBackend with 1 concurrent workers.\n",
      "[Parallel(n_jobs=1)]: Done 216 out of 216 | elapsed:    0.0s finished\n"
     ]
    },
    {
     "name": "stdout",
     "output_type": "stream",
     "text": [
      "[CV]  rf__n_estimators=216, rf__min_samples_split=2, rf__min_samples_leaf=2, rf__max_features=auto, rf__max_depth=95, rf__bootstrap=False, total=   2.0s\n",
      "[CV] rf__n_estimators=216, rf__min_samples_split=2, rf__min_samples_leaf=2, rf__max_features=auto, rf__max_depth=95, rf__bootstrap=False \n"
     ]
    },
    {
     "name": "stderr",
     "output_type": "stream",
     "text": [
      "[Parallel(n_jobs=1)]: Using backend SequentialBackend with 1 concurrent workers.\n",
      "[Parallel(n_jobs=1)]: Done 216 out of 216 | elapsed:    1.4s finished\n",
      "[Parallel(n_jobs=1)]: Using backend SequentialBackend with 1 concurrent workers.\n",
      "[Parallel(n_jobs=1)]: Done 216 out of 216 | elapsed:    0.0s finished\n"
     ]
    },
    {
     "name": "stdout",
     "output_type": "stream",
     "text": [
      "[CV]  rf__n_estimators=216, rf__min_samples_split=2, rf__min_samples_leaf=2, rf__max_features=auto, rf__max_depth=95, rf__bootstrap=False, total=   2.1s\n",
      "[CV] rf__n_estimators=216, rf__min_samples_split=2, rf__min_samples_leaf=2, rf__max_features=auto, rf__max_depth=95, rf__bootstrap=False \n"
     ]
    },
    {
     "name": "stderr",
     "output_type": "stream",
     "text": [
      "[Parallel(n_jobs=1)]: Using backend SequentialBackend with 1 concurrent workers.\n",
      "[Parallel(n_jobs=1)]: Done 216 out of 216 | elapsed:    1.6s finished\n",
      "[Parallel(n_jobs=1)]: Using backend SequentialBackend with 1 concurrent workers.\n",
      "[Parallel(n_jobs=1)]: Done 216 out of 216 | elapsed:    0.0s finished\n"
     ]
    },
    {
     "name": "stdout",
     "output_type": "stream",
     "text": [
      "[CV]  rf__n_estimators=216, rf__min_samples_split=2, rf__min_samples_leaf=2, rf__max_features=auto, rf__max_depth=95, rf__bootstrap=False, total=   2.3s\n",
      "[CV] rf__n_estimators=216, rf__min_samples_split=2, rf__min_samples_leaf=2, rf__max_features=auto, rf__max_depth=95, rf__bootstrap=False \n"
     ]
    },
    {
     "name": "stderr",
     "output_type": "stream",
     "text": [
      "[Parallel(n_jobs=1)]: Using backend SequentialBackend with 1 concurrent workers.\n",
      "[Parallel(n_jobs=1)]: Done 216 out of 216 | elapsed:    1.4s finished\n",
      "[Parallel(n_jobs=1)]: Using backend SequentialBackend with 1 concurrent workers.\n",
      "[Parallel(n_jobs=1)]: Done 216 out of 216 | elapsed:    0.0s finished\n"
     ]
    },
    {
     "name": "stdout",
     "output_type": "stream",
     "text": [
      "[CV]  rf__n_estimators=216, rf__min_samples_split=2, rf__min_samples_leaf=2, rf__max_features=auto, rf__max_depth=95, rf__bootstrap=False, total=   2.0s\n",
      "[CV] rf__n_estimators=216, rf__min_samples_split=2, rf__min_samples_leaf=2, rf__max_features=auto, rf__max_depth=95, rf__bootstrap=False \n"
     ]
    },
    {
     "name": "stderr",
     "output_type": "stream",
     "text": [
      "[Parallel(n_jobs=1)]: Using backend SequentialBackend with 1 concurrent workers.\n",
      "[Parallel(n_jobs=1)]: Done 216 out of 216 | elapsed:    1.6s finished\n",
      "[Parallel(n_jobs=1)]: Using backend SequentialBackend with 1 concurrent workers.\n",
      "[Parallel(n_jobs=1)]: Done 216 out of 216 | elapsed:    0.0s finished\n"
     ]
    },
    {
     "name": "stdout",
     "output_type": "stream",
     "text": [
      "[CV]  rf__n_estimators=216, rf__min_samples_split=2, rf__min_samples_leaf=2, rf__max_features=auto, rf__max_depth=95, rf__bootstrap=False, total=   2.2s\n",
      "[CV] rf__n_estimators=288, rf__min_samples_split=5, rf__min_samples_leaf=2, rf__max_features=sqrt, rf__max_depth=85, rf__bootstrap=False \n"
     ]
    },
    {
     "name": "stderr",
     "output_type": "stream",
     "text": [
      "[Parallel(n_jobs=1)]: Using backend SequentialBackend with 1 concurrent workers.\n",
      "[Parallel(n_jobs=1)]: Done 288 out of 288 | elapsed:    1.9s finished\n",
      "[Parallel(n_jobs=1)]: Using backend SequentialBackend with 1 concurrent workers.\n",
      "[Parallel(n_jobs=1)]: Done 288 out of 288 | elapsed:    0.0s finished\n"
     ]
    },
    {
     "name": "stdout",
     "output_type": "stream",
     "text": [
      "[CV]  rf__n_estimators=288, rf__min_samples_split=5, rf__min_samples_leaf=2, rf__max_features=sqrt, rf__max_depth=85, rf__bootstrap=False, total=   2.6s\n",
      "[CV] rf__n_estimators=288, rf__min_samples_split=5, rf__min_samples_leaf=2, rf__max_features=sqrt, rf__max_depth=85, rf__bootstrap=False \n"
     ]
    },
    {
     "name": "stderr",
     "output_type": "stream",
     "text": [
      "[Parallel(n_jobs=1)]: Using backend SequentialBackend with 1 concurrent workers.\n",
      "[Parallel(n_jobs=1)]: Done 288 out of 288 | elapsed:    1.8s finished\n",
      "[Parallel(n_jobs=1)]: Using backend SequentialBackend with 1 concurrent workers.\n",
      "[Parallel(n_jobs=1)]: Done 288 out of 288 | elapsed:    0.0s finished\n"
     ]
    },
    {
     "name": "stdout",
     "output_type": "stream",
     "text": [
      "[CV]  rf__n_estimators=288, rf__min_samples_split=5, rf__min_samples_leaf=2, rf__max_features=sqrt, rf__max_depth=85, rf__bootstrap=False, total=   2.5s\n",
      "[CV] rf__n_estimators=288, rf__min_samples_split=5, rf__min_samples_leaf=2, rf__max_features=sqrt, rf__max_depth=85, rf__bootstrap=False \n"
     ]
    },
    {
     "name": "stderr",
     "output_type": "stream",
     "text": [
      "[Parallel(n_jobs=1)]: Using backend SequentialBackend with 1 concurrent workers.\n",
      "[Parallel(n_jobs=1)]: Done 288 out of 288 | elapsed:    1.8s finished\n",
      "[Parallel(n_jobs=1)]: Using backend SequentialBackend with 1 concurrent workers.\n",
      "[Parallel(n_jobs=1)]: Done 288 out of 288 | elapsed:    0.0s finished\n"
     ]
    },
    {
     "name": "stdout",
     "output_type": "stream",
     "text": [
      "[CV]  rf__n_estimators=288, rf__min_samples_split=5, rf__min_samples_leaf=2, rf__max_features=sqrt, rf__max_depth=85, rf__bootstrap=False, total=   2.6s\n",
      "[CV] rf__n_estimators=288, rf__min_samples_split=5, rf__min_samples_leaf=2, rf__max_features=sqrt, rf__max_depth=85, rf__bootstrap=False \n"
     ]
    },
    {
     "name": "stderr",
     "output_type": "stream",
     "text": [
      "[Parallel(n_jobs=1)]: Using backend SequentialBackend with 1 concurrent workers.\n",
      "[Parallel(n_jobs=1)]: Done 288 out of 288 | elapsed:    1.9s finished\n",
      "[Parallel(n_jobs=1)]: Using backend SequentialBackend with 1 concurrent workers.\n",
      "[Parallel(n_jobs=1)]: Done 288 out of 288 | elapsed:    0.0s finished\n"
     ]
    },
    {
     "name": "stdout",
     "output_type": "stream",
     "text": [
      "[CV]  rf__n_estimators=288, rf__min_samples_split=5, rf__min_samples_leaf=2, rf__max_features=sqrt, rf__max_depth=85, rf__bootstrap=False, total=   2.6s\n",
      "[CV] rf__n_estimators=288, rf__min_samples_split=5, rf__min_samples_leaf=2, rf__max_features=sqrt, rf__max_depth=85, rf__bootstrap=False \n"
     ]
    },
    {
     "name": "stderr",
     "output_type": "stream",
     "text": [
      "[Parallel(n_jobs=1)]: Using backend SequentialBackend with 1 concurrent workers.\n",
      "[Parallel(n_jobs=1)]: Done 288 out of 288 | elapsed:    1.9s finished\n",
      "[Parallel(n_jobs=1)]: Using backend SequentialBackend with 1 concurrent workers.\n",
      "[Parallel(n_jobs=1)]: Done 288 out of 288 | elapsed:    0.0s finished\n"
     ]
    },
    {
     "name": "stdout",
     "output_type": "stream",
     "text": [
      "[CV]  rf__n_estimators=288, rf__min_samples_split=5, rf__min_samples_leaf=2, rf__max_features=sqrt, rf__max_depth=85, rf__bootstrap=False, total=   2.5s\n",
      "[CV] rf__n_estimators=571, rf__min_samples_split=10, rf__min_samples_leaf=4, rf__max_features=auto, rf__max_depth=75, rf__bootstrap=False \n"
     ]
    },
    {
     "name": "stderr",
     "output_type": "stream",
     "text": [
      "[Parallel(n_jobs=1)]: Using backend SequentialBackend with 1 concurrent workers.\n",
      "[Parallel(n_jobs=1)]: Done 571 out of 571 | elapsed:    2.8s finished\n",
      "[Parallel(n_jobs=1)]: Using backend SequentialBackend with 1 concurrent workers.\n",
      "[Parallel(n_jobs=1)]: Done 571 out of 571 | elapsed:    0.1s finished\n"
     ]
    },
    {
     "name": "stdout",
     "output_type": "stream",
     "text": [
      "[CV]  rf__n_estimators=571, rf__min_samples_split=10, rf__min_samples_leaf=4, rf__max_features=auto, rf__max_depth=75, rf__bootstrap=False, total=   3.6s\n",
      "[CV] rf__n_estimators=571, rf__min_samples_split=10, rf__min_samples_leaf=4, rf__max_features=auto, rf__max_depth=75, rf__bootstrap=False \n"
     ]
    },
    {
     "name": "stderr",
     "output_type": "stream",
     "text": [
      "[Parallel(n_jobs=1)]: Using backend SequentialBackend with 1 concurrent workers.\n",
      "[Parallel(n_jobs=1)]: Done 571 out of 571 | elapsed:    2.8s finished\n",
      "[Parallel(n_jobs=1)]: Using backend SequentialBackend with 1 concurrent workers.\n",
      "[Parallel(n_jobs=1)]: Done 571 out of 571 | elapsed:    0.1s finished\n"
     ]
    },
    {
     "name": "stdout",
     "output_type": "stream",
     "text": [
      "[CV]  rf__n_estimators=571, rf__min_samples_split=10, rf__min_samples_leaf=4, rf__max_features=auto, rf__max_depth=75, rf__bootstrap=False, total=   3.7s\n",
      "[CV] rf__n_estimators=571, rf__min_samples_split=10, rf__min_samples_leaf=4, rf__max_features=auto, rf__max_depth=75, rf__bootstrap=False \n"
     ]
    },
    {
     "name": "stderr",
     "output_type": "stream",
     "text": [
      "[Parallel(n_jobs=1)]: Using backend SequentialBackend with 1 concurrent workers.\n",
      "[Parallel(n_jobs=1)]: Done 571 out of 571 | elapsed:    2.8s finished\n",
      "[Parallel(n_jobs=1)]: Using backend SequentialBackend with 1 concurrent workers.\n",
      "[Parallel(n_jobs=1)]: Done 571 out of 571 | elapsed:    0.1s finished\n"
     ]
    },
    {
     "name": "stdout",
     "output_type": "stream",
     "text": [
      "[CV]  rf__n_estimators=571, rf__min_samples_split=10, rf__min_samples_leaf=4, rf__max_features=auto, rf__max_depth=75, rf__bootstrap=False, total=   3.7s\n",
      "[CV] rf__n_estimators=571, rf__min_samples_split=10, rf__min_samples_leaf=4, rf__max_features=auto, rf__max_depth=75, rf__bootstrap=False \n"
     ]
    },
    {
     "name": "stderr",
     "output_type": "stream",
     "text": [
      "[Parallel(n_jobs=1)]: Using backend SequentialBackend with 1 concurrent workers.\n",
      "[Parallel(n_jobs=1)]: Done 571 out of 571 | elapsed:    3.2s finished\n",
      "[Parallel(n_jobs=1)]: Using backend SequentialBackend with 1 concurrent workers.\n",
      "[Parallel(n_jobs=1)]: Done 571 out of 571 | elapsed:    0.1s finished\n"
     ]
    },
    {
     "name": "stdout",
     "output_type": "stream",
     "text": [
      "[CV]  rf__n_estimators=571, rf__min_samples_split=10, rf__min_samples_leaf=4, rf__max_features=auto, rf__max_depth=75, rf__bootstrap=False, total=   4.2s\n",
      "[CV] rf__n_estimators=571, rf__min_samples_split=10, rf__min_samples_leaf=4, rf__max_features=auto, rf__max_depth=75, rf__bootstrap=False \n"
     ]
    },
    {
     "name": "stderr",
     "output_type": "stream",
     "text": [
      "[Parallel(n_jobs=1)]: Using backend SequentialBackend with 1 concurrent workers.\n",
      "[Parallel(n_jobs=1)]: Done 571 out of 571 | elapsed:    2.9s finished\n",
      "[Parallel(n_jobs=1)]: Using backend SequentialBackend with 1 concurrent workers.\n",
      "[Parallel(n_jobs=1)]: Done 571 out of 571 | elapsed:    0.1s finished\n"
     ]
    },
    {
     "name": "stdout",
     "output_type": "stream",
     "text": [
      "[CV]  rf__n_estimators=571, rf__min_samples_split=10, rf__min_samples_leaf=4, rf__max_features=auto, rf__max_depth=75, rf__bootstrap=False, total=   4.0s\n",
      "[CV] rf__n_estimators=377, rf__min_samples_split=5, rf__min_samples_leaf=2, rf__max_features=sqrt, rf__max_depth=100, rf__bootstrap=False \n"
     ]
    },
    {
     "name": "stderr",
     "output_type": "stream",
     "text": [
      "[Parallel(n_jobs=1)]: Using backend SequentialBackend with 1 concurrent workers.\n",
      "[Parallel(n_jobs=1)]: Done 377 out of 377 | elapsed:    2.3s finished\n",
      "[Parallel(n_jobs=1)]: Using backend SequentialBackend with 1 concurrent workers.\n",
      "[Parallel(n_jobs=1)]: Done 377 out of 377 | elapsed:    0.0s finished\n"
     ]
    },
    {
     "name": "stdout",
     "output_type": "stream",
     "text": [
      "[CV]  rf__n_estimators=377, rf__min_samples_split=5, rf__min_samples_leaf=2, rf__max_features=sqrt, rf__max_depth=100, rf__bootstrap=False, total=   3.0s\n",
      "[CV] rf__n_estimators=377, rf__min_samples_split=5, rf__min_samples_leaf=2, rf__max_features=sqrt, rf__max_depth=100, rf__bootstrap=False \n"
     ]
    },
    {
     "name": "stderr",
     "output_type": "stream",
     "text": [
      "[Parallel(n_jobs=1)]: Using backend SequentialBackend with 1 concurrent workers.\n",
      "[Parallel(n_jobs=1)]: Done 377 out of 377 | elapsed:    2.4s finished\n",
      "[Parallel(n_jobs=1)]: Using backend SequentialBackend with 1 concurrent workers.\n",
      "[Parallel(n_jobs=1)]: Done 377 out of 377 | elapsed:    0.0s finished\n"
     ]
    },
    {
     "name": "stdout",
     "output_type": "stream",
     "text": [
      "[CV]  rf__n_estimators=377, rf__min_samples_split=5, rf__min_samples_leaf=2, rf__max_features=sqrt, rf__max_depth=100, rf__bootstrap=False, total=   3.1s\n",
      "[CV] rf__n_estimators=377, rf__min_samples_split=5, rf__min_samples_leaf=2, rf__max_features=sqrt, rf__max_depth=100, rf__bootstrap=False \n"
     ]
    },
    {
     "name": "stderr",
     "output_type": "stream",
     "text": [
      "[Parallel(n_jobs=1)]: Using backend SequentialBackend with 1 concurrent workers.\n",
      "[Parallel(n_jobs=1)]: Done 377 out of 377 | elapsed:    2.4s finished\n",
      "[Parallel(n_jobs=1)]: Using backend SequentialBackend with 1 concurrent workers.\n",
      "[Parallel(n_jobs=1)]: Done 377 out of 377 | elapsed:    0.3s finished\n"
     ]
    },
    {
     "name": "stdout",
     "output_type": "stream",
     "text": [
      "[CV]  rf__n_estimators=377, rf__min_samples_split=5, rf__min_samples_leaf=2, rf__max_features=sqrt, rf__max_depth=100, rf__bootstrap=False, total=   3.3s\n",
      "[CV] rf__n_estimators=377, rf__min_samples_split=5, rf__min_samples_leaf=2, rf__max_features=sqrt, rf__max_depth=100, rf__bootstrap=False \n"
     ]
    },
    {
     "name": "stderr",
     "output_type": "stream",
     "text": [
      "[Parallel(n_jobs=1)]: Using backend SequentialBackend with 1 concurrent workers.\n",
      "[Parallel(n_jobs=1)]: Done 377 out of 377 | elapsed:    3.8s finished\n",
      "[Parallel(n_jobs=1)]: Using backend SequentialBackend with 1 concurrent workers.\n",
      "[Parallel(n_jobs=1)]: Done 377 out of 377 | elapsed:    0.0s finished\n"
     ]
    },
    {
     "name": "stdout",
     "output_type": "stream",
     "text": [
      "[CV]  rf__n_estimators=377, rf__min_samples_split=5, rf__min_samples_leaf=2, rf__max_features=sqrt, rf__max_depth=100, rf__bootstrap=False, total=   5.5s\n",
      "[CV] rf__n_estimators=377, rf__min_samples_split=5, rf__min_samples_leaf=2, rf__max_features=sqrt, rf__max_depth=100, rf__bootstrap=False \n"
     ]
    },
    {
     "name": "stderr",
     "output_type": "stream",
     "text": [
      "[Parallel(n_jobs=1)]: Using backend SequentialBackend with 1 concurrent workers.\n",
      "[Parallel(n_jobs=1)]: Done 377 out of 377 | elapsed:    3.5s finished\n",
      "[Parallel(n_jobs=1)]: Using backend SequentialBackend with 1 concurrent workers.\n",
      "[Parallel(n_jobs=1)]: Done 377 out of 377 | elapsed:    0.0s finished\n"
     ]
    },
    {
     "name": "stdout",
     "output_type": "stream",
     "text": [
      "[CV]  rf__n_estimators=377, rf__min_samples_split=5, rf__min_samples_leaf=2, rf__max_features=sqrt, rf__max_depth=100, rf__bootstrap=False, total=   4.5s\n",
      "[CV] rf__n_estimators=636, rf__min_samples_split=2, rf__min_samples_leaf=4, rf__max_features=sqrt, rf__max_depth=65, rf__bootstrap=False \n"
     ]
    },
    {
     "name": "stderr",
     "output_type": "stream",
     "text": [
      "[Parallel(n_jobs=1)]: Using backend SequentialBackend with 1 concurrent workers.\n",
      "[Parallel(n_jobs=1)]: Done 636 out of 636 | elapsed:    4.6s finished\n",
      "[Parallel(n_jobs=1)]: Using backend SequentialBackend with 1 concurrent workers.\n",
      "[Parallel(n_jobs=1)]: Done 636 out of 636 | elapsed:    0.1s finished\n"
     ]
    },
    {
     "name": "stdout",
     "output_type": "stream",
     "text": [
      "[CV]  rf__n_estimators=636, rf__min_samples_split=2, rf__min_samples_leaf=4, rf__max_features=sqrt, rf__max_depth=65, rf__bootstrap=False, total=   5.4s\n",
      "[CV] rf__n_estimators=636, rf__min_samples_split=2, rf__min_samples_leaf=4, rf__max_features=sqrt, rf__max_depth=65, rf__bootstrap=False \n"
     ]
    },
    {
     "name": "stderr",
     "output_type": "stream",
     "text": [
      "[Parallel(n_jobs=1)]: Using backend SequentialBackend with 1 concurrent workers.\n",
      "[Parallel(n_jobs=1)]: Done 636 out of 636 | elapsed:    3.4s finished\n",
      "[Parallel(n_jobs=1)]: Using backend SequentialBackend with 1 concurrent workers.\n",
      "[Parallel(n_jobs=1)]: Done 636 out of 636 | elapsed:    0.1s finished\n"
     ]
    },
    {
     "name": "stdout",
     "output_type": "stream",
     "text": [
      "[CV]  rf__n_estimators=636, rf__min_samples_split=2, rf__min_samples_leaf=4, rf__max_features=sqrt, rf__max_depth=65, rf__bootstrap=False, total=   4.3s\n",
      "[CV] rf__n_estimators=636, rf__min_samples_split=2, rf__min_samples_leaf=4, rf__max_features=sqrt, rf__max_depth=65, rf__bootstrap=False \n"
     ]
    },
    {
     "name": "stderr",
     "output_type": "stream",
     "text": [
      "[Parallel(n_jobs=1)]: Using backend SequentialBackend with 1 concurrent workers.\n",
      "[Parallel(n_jobs=1)]: Done 636 out of 636 | elapsed:    3.5s finished\n",
      "[Parallel(n_jobs=1)]: Using backend SequentialBackend with 1 concurrent workers.\n",
      "[Parallel(n_jobs=1)]: Done 636 out of 636 | elapsed:    0.1s finished\n"
     ]
    },
    {
     "name": "stdout",
     "output_type": "stream",
     "text": [
      "[CV]  rf__n_estimators=636, rf__min_samples_split=2, rf__min_samples_leaf=4, rf__max_features=sqrt, rf__max_depth=65, rf__bootstrap=False, total=   4.8s\n",
      "[CV] rf__n_estimators=636, rf__min_samples_split=2, rf__min_samples_leaf=4, rf__max_features=sqrt, rf__max_depth=65, rf__bootstrap=False \n"
     ]
    },
    {
     "name": "stderr",
     "output_type": "stream",
     "text": [
      "[Parallel(n_jobs=1)]: Using backend SequentialBackend with 1 concurrent workers.\n",
      "[Parallel(n_jobs=1)]: Done 636 out of 636 | elapsed:    3.5s finished\n",
      "[Parallel(n_jobs=1)]: Using backend SequentialBackend with 1 concurrent workers.\n",
      "[Parallel(n_jobs=1)]: Done 636 out of 636 | elapsed:    0.1s finished\n"
     ]
    },
    {
     "name": "stdout",
     "output_type": "stream",
     "text": [
      "[CV]  rf__n_estimators=636, rf__min_samples_split=2, rf__min_samples_leaf=4, rf__max_features=sqrt, rf__max_depth=65, rf__bootstrap=False, total=   4.4s\n",
      "[CV] rf__n_estimators=636, rf__min_samples_split=2, rf__min_samples_leaf=4, rf__max_features=sqrt, rf__max_depth=65, rf__bootstrap=False \n"
     ]
    },
    {
     "name": "stderr",
     "output_type": "stream",
     "text": [
      "[Parallel(n_jobs=1)]: Using backend SequentialBackend with 1 concurrent workers.\n",
      "[Parallel(n_jobs=1)]: Done 636 out of 636 | elapsed:    3.6s finished\n",
      "[Parallel(n_jobs=1)]: Using backend SequentialBackend with 1 concurrent workers.\n",
      "[Parallel(n_jobs=1)]: Done 636 out of 636 | elapsed:    0.1s finished\n"
     ]
    },
    {
     "name": "stdout",
     "output_type": "stream",
     "text": [
      "[CV]  rf__n_estimators=636, rf__min_samples_split=2, rf__min_samples_leaf=4, rf__max_features=sqrt, rf__max_depth=65, rf__bootstrap=False, total=   4.7s\n",
      "[CV] rf__n_estimators=216, rf__min_samples_split=5, rf__min_samples_leaf=4, rf__max_features=sqrt, rf__max_depth=85, rf__bootstrap=True \n"
     ]
    },
    {
     "name": "stderr",
     "output_type": "stream",
     "text": [
      "[Parallel(n_jobs=1)]: Using backend SequentialBackend with 1 concurrent workers.\n",
      "[Parallel(n_jobs=1)]: Done 216 out of 216 | elapsed:    0.9s finished\n",
      "[Parallel(n_jobs=1)]: Using backend SequentialBackend with 1 concurrent workers.\n",
      "[Parallel(n_jobs=1)]: Done 216 out of 216 | elapsed:    0.0s finished\n"
     ]
    },
    {
     "name": "stdout",
     "output_type": "stream",
     "text": [
      "[CV]  rf__n_estimators=216, rf__min_samples_split=5, rf__min_samples_leaf=4, rf__max_features=sqrt, rf__max_depth=85, rf__bootstrap=True, total=   1.5s\n",
      "[CV] rf__n_estimators=216, rf__min_samples_split=5, rf__min_samples_leaf=4, rf__max_features=sqrt, rf__max_depth=85, rf__bootstrap=True \n"
     ]
    },
    {
     "name": "stderr",
     "output_type": "stream",
     "text": [
      "[Parallel(n_jobs=1)]: Using backend SequentialBackend with 1 concurrent workers.\n",
      "[Parallel(n_jobs=1)]: Done 216 out of 216 | elapsed:    0.8s finished\n",
      "[Parallel(n_jobs=1)]: Using backend SequentialBackend with 1 concurrent workers.\n",
      "[Parallel(n_jobs=1)]: Done 216 out of 216 | elapsed:    0.0s finished\n"
     ]
    },
    {
     "name": "stdout",
     "output_type": "stream",
     "text": [
      "[CV]  rf__n_estimators=216, rf__min_samples_split=5, rf__min_samples_leaf=4, rf__max_features=sqrt, rf__max_depth=85, rf__bootstrap=True, total=   1.5s\n",
      "[CV] rf__n_estimators=216, rf__min_samples_split=5, rf__min_samples_leaf=4, rf__max_features=sqrt, rf__max_depth=85, rf__bootstrap=True \n"
     ]
    },
    {
     "name": "stderr",
     "output_type": "stream",
     "text": [
      "[Parallel(n_jobs=1)]: Using backend SequentialBackend with 1 concurrent workers.\n",
      "[Parallel(n_jobs=1)]: Done 216 out of 216 | elapsed:    0.8s finished\n",
      "[Parallel(n_jobs=1)]: Using backend SequentialBackend with 1 concurrent workers.\n",
      "[Parallel(n_jobs=1)]: Done 216 out of 216 | elapsed:    0.0s finished\n"
     ]
    },
    {
     "name": "stdout",
     "output_type": "stream",
     "text": [
      "[CV]  rf__n_estimators=216, rf__min_samples_split=5, rf__min_samples_leaf=4, rf__max_features=sqrt, rf__max_depth=85, rf__bootstrap=True, total=   1.5s\n",
      "[CV] rf__n_estimators=216, rf__min_samples_split=5, rf__min_samples_leaf=4, rf__max_features=sqrt, rf__max_depth=85, rf__bootstrap=True \n"
     ]
    },
    {
     "name": "stderr",
     "output_type": "stream",
     "text": [
      "[Parallel(n_jobs=1)]: Using backend SequentialBackend with 1 concurrent workers.\n",
      "[Parallel(n_jobs=1)]: Done 216 out of 216 | elapsed:    0.8s finished\n",
      "[Parallel(n_jobs=1)]: Using backend SequentialBackend with 1 concurrent workers.\n",
      "[Parallel(n_jobs=1)]: Done 216 out of 216 | elapsed:    0.0s finished\n"
     ]
    },
    {
     "name": "stdout",
     "output_type": "stream",
     "text": [
      "[CV]  rf__n_estimators=216, rf__min_samples_split=5, rf__min_samples_leaf=4, rf__max_features=sqrt, rf__max_depth=85, rf__bootstrap=True, total=   1.5s\n",
      "[CV] rf__n_estimators=216, rf__min_samples_split=5, rf__min_samples_leaf=4, rf__max_features=sqrt, rf__max_depth=85, rf__bootstrap=True \n"
     ]
    },
    {
     "name": "stderr",
     "output_type": "stream",
     "text": [
      "[Parallel(n_jobs=1)]: Using backend SequentialBackend with 1 concurrent workers.\n",
      "[Parallel(n_jobs=1)]: Done 216 out of 216 | elapsed:    0.8s finished\n",
      "[Parallel(n_jobs=1)]: Using backend SequentialBackend with 1 concurrent workers.\n",
      "[Parallel(n_jobs=1)]: Done 216 out of 216 | elapsed:    0.0s finished\n"
     ]
    },
    {
     "name": "stdout",
     "output_type": "stream",
     "text": [
      "[CV]  rf__n_estimators=216, rf__min_samples_split=5, rf__min_samples_leaf=4, rf__max_features=sqrt, rf__max_depth=85, rf__bootstrap=True, total=   1.5s\n",
      "[CV] rf__n_estimators=361, rf__min_samples_split=2, rf__min_samples_leaf=2, rf__max_features=auto, rf__max_depth=95, rf__bootstrap=True \n"
     ]
    },
    {
     "name": "stderr",
     "output_type": "stream",
     "text": [
      "[Parallel(n_jobs=1)]: Using backend SequentialBackend with 1 concurrent workers.\n",
      "[Parallel(n_jobs=1)]: Done 361 out of 361 | elapsed:    1.8s finished\n",
      "[Parallel(n_jobs=1)]: Using backend SequentialBackend with 1 concurrent workers.\n",
      "[Parallel(n_jobs=1)]: Done 361 out of 361 | elapsed:    0.0s finished\n"
     ]
    },
    {
     "name": "stdout",
     "output_type": "stream",
     "text": [
      "[CV]  rf__n_estimators=361, rf__min_samples_split=2, rf__min_samples_leaf=2, rf__max_features=auto, rf__max_depth=95, rf__bootstrap=True, total=   2.5s\n",
      "[CV] rf__n_estimators=361, rf__min_samples_split=2, rf__min_samples_leaf=2, rf__max_features=auto, rf__max_depth=95, rf__bootstrap=True \n"
     ]
    },
    {
     "name": "stderr",
     "output_type": "stream",
     "text": [
      "[Parallel(n_jobs=1)]: Using backend SequentialBackend with 1 concurrent workers.\n",
      "[Parallel(n_jobs=1)]: Done 361 out of 361 | elapsed:    1.8s finished\n",
      "[Parallel(n_jobs=1)]: Using backend SequentialBackend with 1 concurrent workers.\n",
      "[Parallel(n_jobs=1)]: Done 361 out of 361 | elapsed:    0.0s finished\n"
     ]
    },
    {
     "name": "stdout",
     "output_type": "stream",
     "text": [
      "[CV]  rf__n_estimators=361, rf__min_samples_split=2, rf__min_samples_leaf=2, rf__max_features=auto, rf__max_depth=95, rf__bootstrap=True, total=   2.5s\n",
      "[CV] rf__n_estimators=361, rf__min_samples_split=2, rf__min_samples_leaf=2, rf__max_features=auto, rf__max_depth=95, rf__bootstrap=True \n"
     ]
    },
    {
     "name": "stderr",
     "output_type": "stream",
     "text": [
      "[Parallel(n_jobs=1)]: Using backend SequentialBackend with 1 concurrent workers.\n",
      "[Parallel(n_jobs=1)]: Done 361 out of 361 | elapsed:    1.7s finished\n",
      "[Parallel(n_jobs=1)]: Using backend SequentialBackend with 1 concurrent workers.\n",
      "[Parallel(n_jobs=1)]: Done 361 out of 361 | elapsed:    0.0s finished\n"
     ]
    },
    {
     "name": "stdout",
     "output_type": "stream",
     "text": [
      "[CV]  rf__n_estimators=361, rf__min_samples_split=2, rf__min_samples_leaf=2, rf__max_features=auto, rf__max_depth=95, rf__bootstrap=True, total=   2.4s\n",
      "[CV] rf__n_estimators=361, rf__min_samples_split=2, rf__min_samples_leaf=2, rf__max_features=auto, rf__max_depth=95, rf__bootstrap=True \n"
     ]
    },
    {
     "name": "stderr",
     "output_type": "stream",
     "text": [
      "[Parallel(n_jobs=1)]: Using backend SequentialBackend with 1 concurrent workers.\n",
      "[Parallel(n_jobs=1)]: Done 361 out of 361 | elapsed:    1.8s finished\n",
      "[Parallel(n_jobs=1)]: Using backend SequentialBackend with 1 concurrent workers.\n",
      "[Parallel(n_jobs=1)]: Done 361 out of 361 | elapsed:    0.0s finished\n"
     ]
    },
    {
     "name": "stdout",
     "output_type": "stream",
     "text": [
      "[CV]  rf__n_estimators=361, rf__min_samples_split=2, rf__min_samples_leaf=2, rf__max_features=auto, rf__max_depth=95, rf__bootstrap=True, total=   2.6s\n",
      "[CV] rf__n_estimators=361, rf__min_samples_split=2, rf__min_samples_leaf=2, rf__max_features=auto, rf__max_depth=95, rf__bootstrap=True \n"
     ]
    },
    {
     "name": "stderr",
     "output_type": "stream",
     "text": [
      "[Parallel(n_jobs=1)]: Using backend SequentialBackend with 1 concurrent workers.\n",
      "[Parallel(n_jobs=1)]: Done 361 out of 361 | elapsed:    1.9s finished\n",
      "[Parallel(n_jobs=1)]: Using backend SequentialBackend with 1 concurrent workers.\n",
      "[Parallel(n_jobs=1)]: Done 361 out of 361 | elapsed:    0.0s finished\n"
     ]
    },
    {
     "name": "stdout",
     "output_type": "stream",
     "text": [
      "[CV]  rf__n_estimators=361, rf__min_samples_split=2, rf__min_samples_leaf=2, rf__max_features=auto, rf__max_depth=95, rf__bootstrap=True, total=   2.6s\n",
      "[CV] rf__n_estimators=612, rf__min_samples_split=5, rf__min_samples_leaf=1, rf__max_features=sqrt, rf__max_depth=55, rf__bootstrap=True \n"
     ]
    },
    {
     "name": "stderr",
     "output_type": "stream",
     "text": [
      "[Parallel(n_jobs=1)]: Using backend SequentialBackend with 1 concurrent workers.\n",
      "[Parallel(n_jobs=1)]: Done 612 out of 612 | elapsed:    3.1s finished\n",
      "[Parallel(n_jobs=1)]: Using backend SequentialBackend with 1 concurrent workers.\n",
      "[Parallel(n_jobs=1)]: Done 612 out of 612 | elapsed:    0.1s finished\n"
     ]
    },
    {
     "name": "stdout",
     "output_type": "stream",
     "text": [
      "[CV]  rf__n_estimators=612, rf__min_samples_split=5, rf__min_samples_leaf=1, rf__max_features=sqrt, rf__max_depth=55, rf__bootstrap=True, total=   4.0s\n",
      "[CV] rf__n_estimators=612, rf__min_samples_split=5, rf__min_samples_leaf=1, rf__max_features=sqrt, rf__max_depth=55, rf__bootstrap=True \n"
     ]
    },
    {
     "name": "stderr",
     "output_type": "stream",
     "text": [
      "[Parallel(n_jobs=1)]: Using backend SequentialBackend with 1 concurrent workers.\n",
      "[Parallel(n_jobs=1)]: Done 612 out of 612 | elapsed:    3.3s finished\n",
      "[Parallel(n_jobs=1)]: Using backend SequentialBackend with 1 concurrent workers.\n",
      "[Parallel(n_jobs=1)]: Done 612 out of 612 | elapsed:    0.1s finished\n"
     ]
    },
    {
     "name": "stdout",
     "output_type": "stream",
     "text": [
      "[CV]  rf__n_estimators=612, rf__min_samples_split=5, rf__min_samples_leaf=1, rf__max_features=sqrt, rf__max_depth=55, rf__bootstrap=True, total=   4.1s\n",
      "[CV] rf__n_estimators=612, rf__min_samples_split=5, rf__min_samples_leaf=1, rf__max_features=sqrt, rf__max_depth=55, rf__bootstrap=True \n"
     ]
    },
    {
     "name": "stderr",
     "output_type": "stream",
     "text": [
      "[Parallel(n_jobs=1)]: Using backend SequentialBackend with 1 concurrent workers.\n",
      "[Parallel(n_jobs=1)]: Done 612 out of 612 | elapsed:    3.1s finished\n",
      "[Parallel(n_jobs=1)]: Using backend SequentialBackend with 1 concurrent workers.\n",
      "[Parallel(n_jobs=1)]: Done 612 out of 612 | elapsed:    0.1s finished\n"
     ]
    },
    {
     "name": "stdout",
     "output_type": "stream",
     "text": [
      "[CV]  rf__n_estimators=612, rf__min_samples_split=5, rf__min_samples_leaf=1, rf__max_features=sqrt, rf__max_depth=55, rf__bootstrap=True, total=   3.9s\n",
      "[CV] rf__n_estimators=612, rf__min_samples_split=5, rf__min_samples_leaf=1, rf__max_features=sqrt, rf__max_depth=55, rf__bootstrap=True \n"
     ]
    },
    {
     "name": "stderr",
     "output_type": "stream",
     "text": [
      "[Parallel(n_jobs=1)]: Using backend SequentialBackend with 1 concurrent workers.\n",
      "[Parallel(n_jobs=1)]: Done 612 out of 612 | elapsed:    3.3s finished\n",
      "[Parallel(n_jobs=1)]: Using backend SequentialBackend with 1 concurrent workers.\n",
      "[Parallel(n_jobs=1)]: Done 612 out of 612 | elapsed:    0.1s finished\n"
     ]
    },
    {
     "name": "stdout",
     "output_type": "stream",
     "text": [
      "[CV]  rf__n_estimators=612, rf__min_samples_split=5, rf__min_samples_leaf=1, rf__max_features=sqrt, rf__max_depth=55, rf__bootstrap=True, total=   4.1s\n",
      "[CV] rf__n_estimators=612, rf__min_samples_split=5, rf__min_samples_leaf=1, rf__max_features=sqrt, rf__max_depth=55, rf__bootstrap=True \n"
     ]
    },
    {
     "name": "stderr",
     "output_type": "stream",
     "text": [
      "[Parallel(n_jobs=1)]: Using backend SequentialBackend with 1 concurrent workers.\n",
      "[Parallel(n_jobs=1)]: Done 612 out of 612 | elapsed:    3.2s finished\n",
      "[Parallel(n_jobs=1)]: Using backend SequentialBackend with 1 concurrent workers.\n",
      "[Parallel(n_jobs=1)]: Done 612 out of 612 | elapsed:    0.1s finished\n"
     ]
    },
    {
     "name": "stdout",
     "output_type": "stream",
     "text": [
      "[CV]  rf__n_estimators=612, rf__min_samples_split=5, rf__min_samples_leaf=1, rf__max_features=sqrt, rf__max_depth=55, rf__bootstrap=True, total=   4.1s\n",
      "[CV] rf__n_estimators=240, rf__min_samples_split=10, rf__min_samples_leaf=4, rf__max_features=sqrt, rf__max_depth=90, rf__bootstrap=True \n"
     ]
    },
    {
     "name": "stderr",
     "output_type": "stream",
     "text": [
      "[Parallel(n_jobs=1)]: Using backend SequentialBackend with 1 concurrent workers.\n",
      "[Parallel(n_jobs=1)]: Done 240 out of 240 | elapsed:    0.9s finished\n",
      "[Parallel(n_jobs=1)]: Using backend SequentialBackend with 1 concurrent workers.\n",
      "[Parallel(n_jobs=1)]: Done 240 out of 240 | elapsed:    0.0s finished\n"
     ]
    },
    {
     "name": "stdout",
     "output_type": "stream",
     "text": [
      "[CV]  rf__n_estimators=240, rf__min_samples_split=10, rf__min_samples_leaf=4, rf__max_features=sqrt, rf__max_depth=90, rf__bootstrap=True, total=   1.5s\n",
      "[CV] rf__n_estimators=240, rf__min_samples_split=10, rf__min_samples_leaf=4, rf__max_features=sqrt, rf__max_depth=90, rf__bootstrap=True \n"
     ]
    },
    {
     "name": "stderr",
     "output_type": "stream",
     "text": [
      "[Parallel(n_jobs=1)]: Using backend SequentialBackend with 1 concurrent workers.\n",
      "[Parallel(n_jobs=1)]: Done 240 out of 240 | elapsed:    0.9s finished\n",
      "[Parallel(n_jobs=1)]: Using backend SequentialBackend with 1 concurrent workers.\n",
      "[Parallel(n_jobs=1)]: Done 240 out of 240 | elapsed:    0.0s finished\n"
     ]
    },
    {
     "name": "stdout",
     "output_type": "stream",
     "text": [
      "[CV]  rf__n_estimators=240, rf__min_samples_split=10, rf__min_samples_leaf=4, rf__max_features=sqrt, rf__max_depth=90, rf__bootstrap=True, total=   1.5s\n",
      "[CV] rf__n_estimators=240, rf__min_samples_split=10, rf__min_samples_leaf=4, rf__max_features=sqrt, rf__max_depth=90, rf__bootstrap=True \n"
     ]
    },
    {
     "name": "stderr",
     "output_type": "stream",
     "text": [
      "[Parallel(n_jobs=1)]: Using backend SequentialBackend with 1 concurrent workers.\n",
      "[Parallel(n_jobs=1)]: Done 240 out of 240 | elapsed:    0.9s finished\n",
      "[Parallel(n_jobs=1)]: Using backend SequentialBackend with 1 concurrent workers.\n",
      "[Parallel(n_jobs=1)]: Done 240 out of 240 | elapsed:    0.0s finished\n"
     ]
    },
    {
     "name": "stdout",
     "output_type": "stream",
     "text": [
      "[CV]  rf__n_estimators=240, rf__min_samples_split=10, rf__min_samples_leaf=4, rf__max_features=sqrt, rf__max_depth=90, rf__bootstrap=True, total=   1.5s\n",
      "[CV] rf__n_estimators=240, rf__min_samples_split=10, rf__min_samples_leaf=4, rf__max_features=sqrt, rf__max_depth=90, rf__bootstrap=True \n"
     ]
    },
    {
     "name": "stderr",
     "output_type": "stream",
     "text": [
      "[Parallel(n_jobs=1)]: Using backend SequentialBackend with 1 concurrent workers.\n",
      "[Parallel(n_jobs=1)]: Done 240 out of 240 | elapsed:    0.9s finished\n",
      "[Parallel(n_jobs=1)]: Using backend SequentialBackend with 1 concurrent workers.\n",
      "[Parallel(n_jobs=1)]: Done 240 out of 240 | elapsed:    0.0s finished\n"
     ]
    },
    {
     "name": "stdout",
     "output_type": "stream",
     "text": [
      "[CV]  rf__n_estimators=240, rf__min_samples_split=10, rf__min_samples_leaf=4, rf__max_features=sqrt, rf__max_depth=90, rf__bootstrap=True, total=   1.5s\n",
      "[CV] rf__n_estimators=240, rf__min_samples_split=10, rf__min_samples_leaf=4, rf__max_features=sqrt, rf__max_depth=90, rf__bootstrap=True \n"
     ]
    },
    {
     "name": "stderr",
     "output_type": "stream",
     "text": [
      "[Parallel(n_jobs=1)]: Using backend SequentialBackend with 1 concurrent workers.\n",
      "[Parallel(n_jobs=1)]: Done 240 out of 240 | elapsed:    0.8s finished\n",
      "[Parallel(n_jobs=1)]: Using backend SequentialBackend with 1 concurrent workers.\n",
      "[Parallel(n_jobs=1)]: Done 240 out of 240 | elapsed:    0.0s finished\n"
     ]
    },
    {
     "name": "stdout",
     "output_type": "stream",
     "text": [
      "[CV]  rf__n_estimators=240, rf__min_samples_split=10, rf__min_samples_leaf=4, rf__max_features=sqrt, rf__max_depth=90, rf__bootstrap=True, total=   1.5s\n",
      "[CV] rf__n_estimators=1000, rf__min_samples_split=2, rf__min_samples_leaf=4, rf__max_features=sqrt, rf__max_depth=35, rf__bootstrap=False \n"
     ]
    },
    {
     "name": "stderr",
     "output_type": "stream",
     "text": [
      "[Parallel(n_jobs=1)]: Using backend SequentialBackend with 1 concurrent workers.\n",
      "[Parallel(n_jobs=1)]: Done 1000 out of 1000 | elapsed:    5.4s finished\n",
      "[Parallel(n_jobs=1)]: Using backend SequentialBackend with 1 concurrent workers.\n",
      "[Parallel(n_jobs=1)]: Done 1000 out of 1000 | elapsed:    0.1s finished\n"
     ]
    },
    {
     "name": "stdout",
     "output_type": "stream",
     "text": [
      "[CV]  rf__n_estimators=1000, rf__min_samples_split=2, rf__min_samples_leaf=4, rf__max_features=sqrt, rf__max_depth=35, rf__bootstrap=False, total=   6.4s\n",
      "[CV] rf__n_estimators=1000, rf__min_samples_split=2, rf__min_samples_leaf=4, rf__max_features=sqrt, rf__max_depth=35, rf__bootstrap=False \n"
     ]
    },
    {
     "name": "stderr",
     "output_type": "stream",
     "text": [
      "[Parallel(n_jobs=1)]: Using backend SequentialBackend with 1 concurrent workers.\n",
      "[Parallel(n_jobs=1)]: Done 1000 out of 1000 | elapsed:    5.5s finished\n",
      "[Parallel(n_jobs=1)]: Using backend SequentialBackend with 1 concurrent workers.\n",
      "[Parallel(n_jobs=1)]: Done 1000 out of 1000 | elapsed:    0.1s finished\n"
     ]
    },
    {
     "name": "stdout",
     "output_type": "stream",
     "text": [
      "[CV]  rf__n_estimators=1000, rf__min_samples_split=2, rf__min_samples_leaf=4, rf__max_features=sqrt, rf__max_depth=35, rf__bootstrap=False, total=   6.7s\n",
      "[CV] rf__n_estimators=1000, rf__min_samples_split=2, rf__min_samples_leaf=4, rf__max_features=sqrt, rf__max_depth=35, rf__bootstrap=False \n"
     ]
    },
    {
     "name": "stderr",
     "output_type": "stream",
     "text": [
      "[Parallel(n_jobs=1)]: Using backend SequentialBackend with 1 concurrent workers.\n",
      "[Parallel(n_jobs=1)]: Done 1000 out of 1000 | elapsed:    5.7s finished\n",
      "[Parallel(n_jobs=1)]: Using backend SequentialBackend with 1 concurrent workers.\n",
      "[Parallel(n_jobs=1)]: Done 1000 out of 1000 | elapsed:    0.1s finished\n"
     ]
    },
    {
     "name": "stdout",
     "output_type": "stream",
     "text": [
      "[CV]  rf__n_estimators=1000, rf__min_samples_split=2, rf__min_samples_leaf=4, rf__max_features=sqrt, rf__max_depth=35, rf__bootstrap=False, total=   6.8s\n",
      "[CV] rf__n_estimators=1000, rf__min_samples_split=2, rf__min_samples_leaf=4, rf__max_features=sqrt, rf__max_depth=35, rf__bootstrap=False \n"
     ]
    },
    {
     "name": "stderr",
     "output_type": "stream",
     "text": [
      "[Parallel(n_jobs=1)]: Using backend SequentialBackend with 1 concurrent workers.\n",
      "[Parallel(n_jobs=1)]: Done 1000 out of 1000 | elapsed:    5.0s finished\n",
      "[Parallel(n_jobs=1)]: Using backend SequentialBackend with 1 concurrent workers.\n",
      "[Parallel(n_jobs=1)]: Done 1000 out of 1000 | elapsed:    0.1s finished\n"
     ]
    },
    {
     "name": "stdout",
     "output_type": "stream",
     "text": [
      "[CV]  rf__n_estimators=1000, rf__min_samples_split=2, rf__min_samples_leaf=4, rf__max_features=sqrt, rf__max_depth=35, rf__bootstrap=False, total=   6.3s\n",
      "[CV] rf__n_estimators=1000, rf__min_samples_split=2, rf__min_samples_leaf=4, rf__max_features=sqrt, rf__max_depth=35, rf__bootstrap=False \n"
     ]
    },
    {
     "name": "stderr",
     "output_type": "stream",
     "text": [
      "[Parallel(n_jobs=1)]: Using backend SequentialBackend with 1 concurrent workers.\n",
      "[Parallel(n_jobs=1)]: Done 1000 out of 1000 | elapsed:    4.8s finished\n",
      "[Parallel(n_jobs=1)]: Using backend SequentialBackend with 1 concurrent workers.\n",
      "[Parallel(n_jobs=1)]: Done 1000 out of 1000 | elapsed:    0.1s finished\n"
     ]
    },
    {
     "name": "stdout",
     "output_type": "stream",
     "text": [
      "[CV]  rf__n_estimators=1000, rf__min_samples_split=2, rf__min_samples_leaf=4, rf__max_features=sqrt, rf__max_depth=35, rf__bootstrap=False, total=   5.8s\n",
      "[CV] rf__n_estimators=458, rf__min_samples_split=10, rf__min_samples_leaf=2, rf__max_features=sqrt, rf__max_depth=45, rf__bootstrap=True \n"
     ]
    },
    {
     "name": "stderr",
     "output_type": "stream",
     "text": [
      "[Parallel(n_jobs=1)]: Using backend SequentialBackend with 1 concurrent workers.\n",
      "[Parallel(n_jobs=1)]: Done 458 out of 458 | elapsed:    2.1s finished\n",
      "[Parallel(n_jobs=1)]: Using backend SequentialBackend with 1 concurrent workers.\n",
      "[Parallel(n_jobs=1)]: Done 458 out of 458 | elapsed:    0.0s finished\n"
     ]
    },
    {
     "name": "stdout",
     "output_type": "stream",
     "text": [
      "[CV]  rf__n_estimators=458, rf__min_samples_split=10, rf__min_samples_leaf=2, rf__max_features=sqrt, rf__max_depth=45, rf__bootstrap=True, total=   3.0s\n",
      "[CV] rf__n_estimators=458, rf__min_samples_split=10, rf__min_samples_leaf=2, rf__max_features=sqrt, rf__max_depth=45, rf__bootstrap=True \n"
     ]
    },
    {
     "name": "stderr",
     "output_type": "stream",
     "text": [
      "[Parallel(n_jobs=1)]: Using backend SequentialBackend with 1 concurrent workers.\n",
      "[Parallel(n_jobs=1)]: Done 458 out of 458 | elapsed:    2.5s finished\n",
      "[Parallel(n_jobs=1)]: Using backend SequentialBackend with 1 concurrent workers.\n",
      "[Parallel(n_jobs=1)]: Done 458 out of 458 | elapsed:    0.0s finished\n"
     ]
    },
    {
     "name": "stdout",
     "output_type": "stream",
     "text": [
      "[CV]  rf__n_estimators=458, rf__min_samples_split=10, rf__min_samples_leaf=2, rf__max_features=sqrt, rf__max_depth=45, rf__bootstrap=True, total=   3.5s\n",
      "[CV] rf__n_estimators=458, rf__min_samples_split=10, rf__min_samples_leaf=2, rf__max_features=sqrt, rf__max_depth=45, rf__bootstrap=True \n"
     ]
    },
    {
     "name": "stderr",
     "output_type": "stream",
     "text": [
      "[Parallel(n_jobs=1)]: Using backend SequentialBackend with 1 concurrent workers.\n",
      "[Parallel(n_jobs=1)]: Done 458 out of 458 | elapsed:    1.9s finished\n",
      "[Parallel(n_jobs=1)]: Using backend SequentialBackend with 1 concurrent workers.\n",
      "[Parallel(n_jobs=1)]: Done 458 out of 458 | elapsed:    0.0s finished\n"
     ]
    },
    {
     "name": "stdout",
     "output_type": "stream",
     "text": [
      "[CV]  rf__n_estimators=458, rf__min_samples_split=10, rf__min_samples_leaf=2, rf__max_features=sqrt, rf__max_depth=45, rf__bootstrap=True, total=   2.8s\n",
      "[CV] rf__n_estimators=458, rf__min_samples_split=10, rf__min_samples_leaf=2, rf__max_features=sqrt, rf__max_depth=45, rf__bootstrap=True \n"
     ]
    },
    {
     "name": "stderr",
     "output_type": "stream",
     "text": [
      "[Parallel(n_jobs=1)]: Using backend SequentialBackend with 1 concurrent workers.\n",
      "[Parallel(n_jobs=1)]: Done 458 out of 458 | elapsed:    2.1s finished\n",
      "[Parallel(n_jobs=1)]: Using backend SequentialBackend with 1 concurrent workers.\n",
      "[Parallel(n_jobs=1)]: Done 458 out of 458 | elapsed:    0.0s finished\n"
     ]
    },
    {
     "name": "stdout",
     "output_type": "stream",
     "text": [
      "[CV]  rf__n_estimators=458, rf__min_samples_split=10, rf__min_samples_leaf=2, rf__max_features=sqrt, rf__max_depth=45, rf__bootstrap=True, total=   3.1s\n",
      "[CV] rf__n_estimators=458, rf__min_samples_split=10, rf__min_samples_leaf=2, rf__max_features=sqrt, rf__max_depth=45, rf__bootstrap=True \n"
     ]
    },
    {
     "name": "stderr",
     "output_type": "stream",
     "text": [
      "[Parallel(n_jobs=1)]: Using backend SequentialBackend with 1 concurrent workers.\n",
      "[Parallel(n_jobs=1)]: Done 458 out of 458 | elapsed:    2.5s finished\n",
      "[Parallel(n_jobs=1)]: Using backend SequentialBackend with 1 concurrent workers.\n",
      "[Parallel(n_jobs=1)]: Done 458 out of 458 | elapsed:    0.0s finished\n"
     ]
    },
    {
     "name": "stdout",
     "output_type": "stream",
     "text": [
      "[CV]  rf__n_estimators=458, rf__min_samples_split=10, rf__min_samples_leaf=2, rf__max_features=sqrt, rf__max_depth=45, rf__bootstrap=True, total=   3.2s\n",
      "[CV] rf__n_estimators=717, rf__min_samples_split=10, rf__min_samples_leaf=1, rf__max_features=auto, rf__max_depth=85, rf__bootstrap=False \n"
     ]
    },
    {
     "name": "stderr",
     "output_type": "stream",
     "text": [
      "[Parallel(n_jobs=1)]: Using backend SequentialBackend with 1 concurrent workers.\n",
      "[Parallel(n_jobs=1)]: Done 717 out of 717 | elapsed:    4.6s finished\n",
      "[Parallel(n_jobs=1)]: Using backend SequentialBackend with 1 concurrent workers.\n",
      "[Parallel(n_jobs=1)]: Done 717 out of 717 | elapsed:    0.1s finished\n"
     ]
    },
    {
     "name": "stdout",
     "output_type": "stream",
     "text": [
      "[CV]  rf__n_estimators=717, rf__min_samples_split=10, rf__min_samples_leaf=1, rf__max_features=auto, rf__max_depth=85, rf__bootstrap=False, total=   5.7s\n",
      "[CV] rf__n_estimators=717, rf__min_samples_split=10, rf__min_samples_leaf=1, rf__max_features=auto, rf__max_depth=85, rf__bootstrap=False \n"
     ]
    },
    {
     "name": "stderr",
     "output_type": "stream",
     "text": [
      "[Parallel(n_jobs=1)]: Using backend SequentialBackend with 1 concurrent workers.\n",
      "[Parallel(n_jobs=1)]: Done 717 out of 717 | elapsed:    4.7s finished\n",
      "[Parallel(n_jobs=1)]: Using backend SequentialBackend with 1 concurrent workers.\n",
      "[Parallel(n_jobs=1)]: Done 717 out of 717 | elapsed:    0.1s finished\n"
     ]
    },
    {
     "name": "stdout",
     "output_type": "stream",
     "text": [
      "[CV]  rf__n_estimators=717, rf__min_samples_split=10, rf__min_samples_leaf=1, rf__max_features=auto, rf__max_depth=85, rf__bootstrap=False, total=   5.6s\n",
      "[CV] rf__n_estimators=717, rf__min_samples_split=10, rf__min_samples_leaf=1, rf__max_features=auto, rf__max_depth=85, rf__bootstrap=False \n"
     ]
    },
    {
     "name": "stderr",
     "output_type": "stream",
     "text": [
      "[Parallel(n_jobs=1)]: Using backend SequentialBackend with 1 concurrent workers.\n",
      "[Parallel(n_jobs=1)]: Done 717 out of 717 | elapsed:    4.4s finished\n",
      "[Parallel(n_jobs=1)]: Using backend SequentialBackend with 1 concurrent workers.\n",
      "[Parallel(n_jobs=1)]: Done 717 out of 717 | elapsed:    0.1s finished\n"
     ]
    },
    {
     "name": "stdout",
     "output_type": "stream",
     "text": [
      "[CV]  rf__n_estimators=717, rf__min_samples_split=10, rf__min_samples_leaf=1, rf__max_features=auto, rf__max_depth=85, rf__bootstrap=False, total=   5.6s\n",
      "[CV] rf__n_estimators=717, rf__min_samples_split=10, rf__min_samples_leaf=1, rf__max_features=auto, rf__max_depth=85, rf__bootstrap=False \n"
     ]
    },
    {
     "name": "stderr",
     "output_type": "stream",
     "text": [
      "[Parallel(n_jobs=1)]: Using backend SequentialBackend with 1 concurrent workers.\n",
      "[Parallel(n_jobs=1)]: Done 717 out of 717 | elapsed:    4.4s finished\n",
      "[Parallel(n_jobs=1)]: Using backend SequentialBackend with 1 concurrent workers.\n",
      "[Parallel(n_jobs=1)]: Done 717 out of 717 | elapsed:    0.1s finished\n"
     ]
    },
    {
     "name": "stdout",
     "output_type": "stream",
     "text": [
      "[CV]  rf__n_estimators=717, rf__min_samples_split=10, rf__min_samples_leaf=1, rf__max_features=auto, rf__max_depth=85, rf__bootstrap=False, total=   5.3s\n",
      "[CV] rf__n_estimators=717, rf__min_samples_split=10, rf__min_samples_leaf=1, rf__max_features=auto, rf__max_depth=85, rf__bootstrap=False \n"
     ]
    },
    {
     "name": "stderr",
     "output_type": "stream",
     "text": [
      "[Parallel(n_jobs=1)]: Using backend SequentialBackend with 1 concurrent workers.\n",
      "[Parallel(n_jobs=1)]: Done 717 out of 717 | elapsed:    4.1s finished\n",
      "[Parallel(n_jobs=1)]: Using backend SequentialBackend with 1 concurrent workers.\n",
      "[Parallel(n_jobs=1)]: Done 717 out of 717 | elapsed:    0.1s finished\n"
     ]
    },
    {
     "name": "stdout",
     "output_type": "stream",
     "text": [
      "[CV]  rf__n_estimators=717, rf__min_samples_split=10, rf__min_samples_leaf=1, rf__max_features=auto, rf__max_depth=85, rf__bootstrap=False, total=   5.0s\n",
      "[CV] rf__n_estimators=595, rf__min_samples_split=5, rf__min_samples_leaf=2, rf__max_features=sqrt, rf__max_depth=50, rf__bootstrap=True \n"
     ]
    },
    {
     "name": "stderr",
     "output_type": "stream",
     "text": [
      "[Parallel(n_jobs=1)]: Using backend SequentialBackend with 1 concurrent workers.\n",
      "[Parallel(n_jobs=1)]: Done 595 out of 595 | elapsed:    4.1s finished\n",
      "[Parallel(n_jobs=1)]: Using backend SequentialBackend with 1 concurrent workers.\n",
      "[Parallel(n_jobs=1)]: Done 595 out of 595 | elapsed:    0.1s finished\n"
     ]
    },
    {
     "name": "stdout",
     "output_type": "stream",
     "text": [
      "[CV]  rf__n_estimators=595, rf__min_samples_split=5, rf__min_samples_leaf=2, rf__max_features=sqrt, rf__max_depth=50, rf__bootstrap=True, total=   5.7s\n",
      "[CV] rf__n_estimators=595, rf__min_samples_split=5, rf__min_samples_leaf=2, rf__max_features=sqrt, rf__max_depth=50, rf__bootstrap=True \n"
     ]
    },
    {
     "name": "stderr",
     "output_type": "stream",
     "text": [
      "[Parallel(n_jobs=1)]: Using backend SequentialBackend with 1 concurrent workers.\n",
      "[Parallel(n_jobs=1)]: Done 595 out of 595 | elapsed:    2.8s finished\n",
      "[Parallel(n_jobs=1)]: Using backend SequentialBackend with 1 concurrent workers.\n",
      "[Parallel(n_jobs=1)]: Done 595 out of 595 | elapsed:    0.1s finished\n"
     ]
    },
    {
     "name": "stdout",
     "output_type": "stream",
     "text": [
      "[CV]  rf__n_estimators=595, rf__min_samples_split=5, rf__min_samples_leaf=2, rf__max_features=sqrt, rf__max_depth=50, rf__bootstrap=True, total=   3.6s\n",
      "[CV] rf__n_estimators=595, rf__min_samples_split=5, rf__min_samples_leaf=2, rf__max_features=sqrt, rf__max_depth=50, rf__bootstrap=True \n"
     ]
    },
    {
     "name": "stderr",
     "output_type": "stream",
     "text": [
      "[Parallel(n_jobs=1)]: Using backend SequentialBackend with 1 concurrent workers.\n",
      "[Parallel(n_jobs=1)]: Done 595 out of 595 | elapsed:    3.0s finished\n",
      "[Parallel(n_jobs=1)]: Using backend SequentialBackend with 1 concurrent workers.\n",
      "[Parallel(n_jobs=1)]: Done 595 out of 595 | elapsed:    0.1s finished\n"
     ]
    },
    {
     "name": "stdout",
     "output_type": "stream",
     "text": [
      "[CV]  rf__n_estimators=595, rf__min_samples_split=5, rf__min_samples_leaf=2, rf__max_features=sqrt, rf__max_depth=50, rf__bootstrap=True, total=   3.9s\n",
      "[CV] rf__n_estimators=595, rf__min_samples_split=5, rf__min_samples_leaf=2, rf__max_features=sqrt, rf__max_depth=50, rf__bootstrap=True \n"
     ]
    },
    {
     "name": "stderr",
     "output_type": "stream",
     "text": [
      "[Parallel(n_jobs=1)]: Using backend SequentialBackend with 1 concurrent workers.\n",
      "[Parallel(n_jobs=1)]: Done 595 out of 595 | elapsed:    3.4s finished\n",
      "[Parallel(n_jobs=1)]: Using backend SequentialBackend with 1 concurrent workers.\n",
      "[Parallel(n_jobs=1)]: Done 595 out of 595 | elapsed:    0.1s finished\n"
     ]
    },
    {
     "name": "stdout",
     "output_type": "stream",
     "text": [
      "[CV]  rf__n_estimators=595, rf__min_samples_split=5, rf__min_samples_leaf=2, rf__max_features=sqrt, rf__max_depth=50, rf__bootstrap=True, total=   4.2s\n",
      "[CV] rf__n_estimators=595, rf__min_samples_split=5, rf__min_samples_leaf=2, rf__max_features=sqrt, rf__max_depth=50, rf__bootstrap=True \n"
     ]
    },
    {
     "name": "stderr",
     "output_type": "stream",
     "text": [
      "[Parallel(n_jobs=1)]: Using backend SequentialBackend with 1 concurrent workers.\n",
      "[Parallel(n_jobs=1)]: Done 595 out of 595 | elapsed:    3.3s finished\n",
      "[Parallel(n_jobs=1)]: Using backend SequentialBackend with 1 concurrent workers.\n",
      "[Parallel(n_jobs=1)]: Done 595 out of 595 | elapsed:    0.1s finished\n"
     ]
    },
    {
     "name": "stdout",
     "output_type": "stream",
     "text": [
      "[CV]  rf__n_estimators=595, rf__min_samples_split=5, rf__min_samples_leaf=2, rf__max_features=sqrt, rf__max_depth=50, rf__bootstrap=True, total=   4.1s\n",
      "[CV] rf__n_estimators=967, rf__min_samples_split=10, rf__min_samples_leaf=4, rf__max_features=sqrt, rf__max_depth=70, rf__bootstrap=True \n"
     ]
    },
    {
     "name": "stderr",
     "output_type": "stream",
     "text": [
      "[Parallel(n_jobs=1)]: Using backend SequentialBackend with 1 concurrent workers.\n",
      "[Parallel(n_jobs=1)]: Done 967 out of 967 | elapsed:    3.5s finished\n",
      "[Parallel(n_jobs=1)]: Using backend SequentialBackend with 1 concurrent workers.\n",
      "[Parallel(n_jobs=1)]: Done 967 out of 967 | elapsed:    0.1s finished\n"
     ]
    },
    {
     "name": "stdout",
     "output_type": "stream",
     "text": [
      "[CV]  rf__n_estimators=967, rf__min_samples_split=10, rf__min_samples_leaf=4, rf__max_features=sqrt, rf__max_depth=70, rf__bootstrap=True, total=   4.5s\n",
      "[CV] rf__n_estimators=967, rf__min_samples_split=10, rf__min_samples_leaf=4, rf__max_features=sqrt, rf__max_depth=70, rf__bootstrap=True \n"
     ]
    },
    {
     "name": "stderr",
     "output_type": "stream",
     "text": [
      "[Parallel(n_jobs=1)]: Using backend SequentialBackend with 1 concurrent workers.\n",
      "[Parallel(n_jobs=1)]: Done 967 out of 967 | elapsed:    3.4s finished\n",
      "[Parallel(n_jobs=1)]: Using backend SequentialBackend with 1 concurrent workers.\n",
      "[Parallel(n_jobs=1)]: Done 967 out of 967 | elapsed:    0.1s finished\n"
     ]
    },
    {
     "name": "stdout",
     "output_type": "stream",
     "text": [
      "[CV]  rf__n_estimators=967, rf__min_samples_split=10, rf__min_samples_leaf=4, rf__max_features=sqrt, rf__max_depth=70, rf__bootstrap=True, total=   4.4s\n",
      "[CV] rf__n_estimators=967, rf__min_samples_split=10, rf__min_samples_leaf=4, rf__max_features=sqrt, rf__max_depth=70, rf__bootstrap=True \n"
     ]
    },
    {
     "name": "stderr",
     "output_type": "stream",
     "text": [
      "[Parallel(n_jobs=1)]: Using backend SequentialBackend with 1 concurrent workers.\n",
      "[Parallel(n_jobs=1)]: Done 967 out of 967 | elapsed:    3.4s finished\n",
      "[Parallel(n_jobs=1)]: Using backend SequentialBackend with 1 concurrent workers.\n",
      "[Parallel(n_jobs=1)]: Done 967 out of 967 | elapsed:    0.1s finished\n"
     ]
    },
    {
     "name": "stdout",
     "output_type": "stream",
     "text": [
      "[CV]  rf__n_estimators=967, rf__min_samples_split=10, rf__min_samples_leaf=4, rf__max_features=sqrt, rf__max_depth=70, rf__bootstrap=True, total=   4.4s\n",
      "[CV] rf__n_estimators=967, rf__min_samples_split=10, rf__min_samples_leaf=4, rf__max_features=sqrt, rf__max_depth=70, rf__bootstrap=True \n"
     ]
    },
    {
     "name": "stderr",
     "output_type": "stream",
     "text": [
      "[Parallel(n_jobs=1)]: Using backend SequentialBackend with 1 concurrent workers.\n",
      "[Parallel(n_jobs=1)]: Done 967 out of 967 | elapsed:    4.2s finished\n",
      "[Parallel(n_jobs=1)]: Using backend SequentialBackend with 1 concurrent workers.\n",
      "[Parallel(n_jobs=1)]: Done 967 out of 967 | elapsed:    0.1s finished\n"
     ]
    },
    {
     "name": "stdout",
     "output_type": "stream",
     "text": [
      "[CV]  rf__n_estimators=967, rf__min_samples_split=10, rf__min_samples_leaf=4, rf__max_features=sqrt, rf__max_depth=70, rf__bootstrap=True, total=   5.2s\n",
      "[CV] rf__n_estimators=967, rf__min_samples_split=10, rf__min_samples_leaf=4, rf__max_features=sqrt, rf__max_depth=70, rf__bootstrap=True \n"
     ]
    },
    {
     "name": "stderr",
     "output_type": "stream",
     "text": [
      "[Parallel(n_jobs=1)]: Using backend SequentialBackend with 1 concurrent workers.\n",
      "[Parallel(n_jobs=1)]: Done 967 out of 967 | elapsed:    3.4s finished\n",
      "[Parallel(n_jobs=1)]: Using backend SequentialBackend with 1 concurrent workers.\n",
      "[Parallel(n_jobs=1)]: Done 967 out of 967 | elapsed:    0.1s finished\n"
     ]
    },
    {
     "name": "stdout",
     "output_type": "stream",
     "text": [
      "[CV]  rf__n_estimators=967, rf__min_samples_split=10, rf__min_samples_leaf=4, rf__max_features=sqrt, rf__max_depth=70, rf__bootstrap=True, total=   4.4s\n",
      "[CV] rf__n_estimators=571, rf__min_samples_split=10, rf__min_samples_leaf=1, rf__max_features=auto, rf__max_depth=35, rf__bootstrap=False \n"
     ]
    },
    {
     "name": "stderr",
     "output_type": "stream",
     "text": [
      "[Parallel(n_jobs=1)]: Using backend SequentialBackend with 1 concurrent workers.\n",
      "[Parallel(n_jobs=1)]: Done 571 out of 571 | elapsed:    3.2s finished\n",
      "[Parallel(n_jobs=1)]: Using backend SequentialBackend with 1 concurrent workers.\n",
      "[Parallel(n_jobs=1)]: Done 571 out of 571 | elapsed:    0.1s finished\n"
     ]
    },
    {
     "name": "stdout",
     "output_type": "stream",
     "text": [
      "[CV]  rf__n_estimators=571, rf__min_samples_split=10, rf__min_samples_leaf=1, rf__max_features=auto, rf__max_depth=35, rf__bootstrap=False, total=   4.0s\n",
      "[CV] rf__n_estimators=571, rf__min_samples_split=10, rf__min_samples_leaf=1, rf__max_features=auto, rf__max_depth=35, rf__bootstrap=False \n"
     ]
    },
    {
     "name": "stderr",
     "output_type": "stream",
     "text": [
      "[Parallel(n_jobs=1)]: Using backend SequentialBackend with 1 concurrent workers.\n",
      "[Parallel(n_jobs=1)]: Done 571 out of 571 | elapsed:    4.6s finished\n",
      "[Parallel(n_jobs=1)]: Using backend SequentialBackend with 1 concurrent workers.\n",
      "[Parallel(n_jobs=1)]: Done 571 out of 571 | elapsed:    0.1s finished\n"
     ]
    },
    {
     "name": "stdout",
     "output_type": "stream",
     "text": [
      "[CV]  rf__n_estimators=571, rf__min_samples_split=10, rf__min_samples_leaf=1, rf__max_features=auto, rf__max_depth=35, rf__bootstrap=False, total=   5.5s\n",
      "[CV] rf__n_estimators=571, rf__min_samples_split=10, rf__min_samples_leaf=1, rf__max_features=auto, rf__max_depth=35, rf__bootstrap=False \n"
     ]
    },
    {
     "name": "stderr",
     "output_type": "stream",
     "text": [
      "[Parallel(n_jobs=1)]: Using backend SequentialBackend with 1 concurrent workers.\n",
      "[Parallel(n_jobs=1)]: Done 571 out of 571 | elapsed:    4.4s finished\n",
      "[Parallel(n_jobs=1)]: Using backend SequentialBackend with 1 concurrent workers.\n",
      "[Parallel(n_jobs=1)]: Done 571 out of 571 | elapsed:    0.1s finished\n"
     ]
    },
    {
     "name": "stdout",
     "output_type": "stream",
     "text": [
      "[CV]  rf__n_estimators=571, rf__min_samples_split=10, rf__min_samples_leaf=1, rf__max_features=auto, rf__max_depth=35, rf__bootstrap=False, total=   5.5s\n",
      "[CV] rf__n_estimators=571, rf__min_samples_split=10, rf__min_samples_leaf=1, rf__max_features=auto, rf__max_depth=35, rf__bootstrap=False \n"
     ]
    },
    {
     "name": "stderr",
     "output_type": "stream",
     "text": [
      "[Parallel(n_jobs=1)]: Using backend SequentialBackend with 1 concurrent workers.\n",
      "[Parallel(n_jobs=1)]: Done 571 out of 571 | elapsed:    4.8s finished\n",
      "[Parallel(n_jobs=1)]: Using backend SequentialBackend with 1 concurrent workers.\n",
      "[Parallel(n_jobs=1)]: Done 571 out of 571 | elapsed:    0.1s finished\n"
     ]
    },
    {
     "name": "stdout",
     "output_type": "stream",
     "text": [
      "[CV]  rf__n_estimators=571, rf__min_samples_split=10, rf__min_samples_leaf=1, rf__max_features=auto, rf__max_depth=35, rf__bootstrap=False, total=   6.1s\n",
      "[CV] rf__n_estimators=571, rf__min_samples_split=10, rf__min_samples_leaf=1, rf__max_features=auto, rf__max_depth=35, rf__bootstrap=False \n"
     ]
    },
    {
     "name": "stderr",
     "output_type": "stream",
     "text": [
      "[Parallel(n_jobs=1)]: Using backend SequentialBackend with 1 concurrent workers.\n",
      "[Parallel(n_jobs=1)]: Done 571 out of 571 | elapsed:    3.4s finished\n",
      "[Parallel(n_jobs=1)]: Using backend SequentialBackend with 1 concurrent workers.\n",
      "[Parallel(n_jobs=1)]: Done 571 out of 571 | elapsed:    0.1s finished\n"
     ]
    },
    {
     "name": "stdout",
     "output_type": "stream",
     "text": [
      "[CV]  rf__n_estimators=571, rf__min_samples_split=10, rf__min_samples_leaf=1, rf__max_features=auto, rf__max_depth=35, rf__bootstrap=False, total=   4.3s\n",
      "[CV] rf__n_estimators=943, rf__min_samples_split=5, rf__min_samples_leaf=1, rf__max_features=auto, rf__max_depth=35, rf__bootstrap=True \n"
     ]
    },
    {
     "name": "stderr",
     "output_type": "stream",
     "text": [
      "[Parallel(n_jobs=1)]: Using backend SequentialBackend with 1 concurrent workers.\n",
      "[Parallel(n_jobs=1)]: Done 943 out of 943 | elapsed:    7.6s finished\n",
      "[Parallel(n_jobs=1)]: Using backend SequentialBackend with 1 concurrent workers.\n",
      "[Parallel(n_jobs=1)]: Done 943 out of 943 | elapsed:    0.2s finished\n"
     ]
    },
    {
     "name": "stdout",
     "output_type": "stream",
     "text": [
      "[CV]  rf__n_estimators=943, rf__min_samples_split=5, rf__min_samples_leaf=1, rf__max_features=auto, rf__max_depth=35, rf__bootstrap=True, total=   8.7s\n",
      "[CV] rf__n_estimators=943, rf__min_samples_split=5, rf__min_samples_leaf=1, rf__max_features=auto, rf__max_depth=35, rf__bootstrap=True \n"
     ]
    },
    {
     "name": "stderr",
     "output_type": "stream",
     "text": [
      "[Parallel(n_jobs=1)]: Using backend SequentialBackend with 1 concurrent workers.\n",
      "[Parallel(n_jobs=1)]: Done 943 out of 943 | elapsed:    5.4s finished\n",
      "[Parallel(n_jobs=1)]: Using backend SequentialBackend with 1 concurrent workers.\n",
      "[Parallel(n_jobs=1)]: Done 943 out of 943 | elapsed:    0.1s finished\n"
     ]
    },
    {
     "name": "stdout",
     "output_type": "stream",
     "text": [
      "[CV]  rf__n_estimators=943, rf__min_samples_split=5, rf__min_samples_leaf=1, rf__max_features=auto, rf__max_depth=35, rf__bootstrap=True, total=   7.1s\n",
      "[CV] rf__n_estimators=943, rf__min_samples_split=5, rf__min_samples_leaf=1, rf__max_features=auto, rf__max_depth=35, rf__bootstrap=True \n"
     ]
    },
    {
     "name": "stderr",
     "output_type": "stream",
     "text": [
      "[Parallel(n_jobs=1)]: Using backend SequentialBackend with 1 concurrent workers.\n",
      "[Parallel(n_jobs=1)]: Done 943 out of 943 | elapsed:    4.7s finished\n",
      "[Parallel(n_jobs=1)]: Using backend SequentialBackend with 1 concurrent workers.\n",
      "[Parallel(n_jobs=1)]: Done 943 out of 943 | elapsed:    0.1s finished\n"
     ]
    },
    {
     "name": "stdout",
     "output_type": "stream",
     "text": [
      "[CV]  rf__n_estimators=943, rf__min_samples_split=5, rf__min_samples_leaf=1, rf__max_features=auto, rf__max_depth=35, rf__bootstrap=True, total=   5.7s\n",
      "[CV] rf__n_estimators=943, rf__min_samples_split=5, rf__min_samples_leaf=1, rf__max_features=auto, rf__max_depth=35, rf__bootstrap=True \n"
     ]
    },
    {
     "name": "stderr",
     "output_type": "stream",
     "text": [
      "[Parallel(n_jobs=1)]: Using backend SequentialBackend with 1 concurrent workers.\n",
      "[Parallel(n_jobs=1)]: Done 943 out of 943 | elapsed:    4.6s finished\n",
      "[Parallel(n_jobs=1)]: Using backend SequentialBackend with 1 concurrent workers.\n",
      "[Parallel(n_jobs=1)]: Done 943 out of 943 | elapsed:    0.1s finished\n"
     ]
    },
    {
     "name": "stdout",
     "output_type": "stream",
     "text": [
      "[CV]  rf__n_estimators=943, rf__min_samples_split=5, rf__min_samples_leaf=1, rf__max_features=auto, rf__max_depth=35, rf__bootstrap=True, total=   5.6s\n",
      "[CV] rf__n_estimators=943, rf__min_samples_split=5, rf__min_samples_leaf=1, rf__max_features=auto, rf__max_depth=35, rf__bootstrap=True \n"
     ]
    },
    {
     "name": "stderr",
     "output_type": "stream",
     "text": [
      "[Parallel(n_jobs=1)]: Using backend SequentialBackend with 1 concurrent workers.\n",
      "[Parallel(n_jobs=1)]: Done 943 out of 943 | elapsed:    4.6s finished\n",
      "[Parallel(n_jobs=1)]: Using backend SequentialBackend with 1 concurrent workers.\n",
      "[Parallel(n_jobs=1)]: Done 943 out of 943 | elapsed:    0.1s finished\n"
     ]
    },
    {
     "name": "stdout",
     "output_type": "stream",
     "text": [
      "[CV]  rf__n_estimators=943, rf__min_samples_split=5, rf__min_samples_leaf=1, rf__max_features=auto, rf__max_depth=35, rf__bootstrap=True, total=   5.5s\n",
      "[CV] rf__n_estimators=345, rf__min_samples_split=5, rf__min_samples_leaf=1, rf__max_features=sqrt, rf__max_depth=50, rf__bootstrap=True \n"
     ]
    },
    {
     "name": "stderr",
     "output_type": "stream",
     "text": [
      "[Parallel(n_jobs=1)]: Using backend SequentialBackend with 1 concurrent workers.\n",
      "[Parallel(n_jobs=1)]: Done 345 out of 345 | elapsed:    1.7s finished\n",
      "[Parallel(n_jobs=1)]: Using backend SequentialBackend with 1 concurrent workers.\n",
      "[Parallel(n_jobs=1)]: Done 345 out of 345 | elapsed:    0.0s finished\n"
     ]
    },
    {
     "name": "stdout",
     "output_type": "stream",
     "text": [
      "[CV]  rf__n_estimators=345, rf__min_samples_split=5, rf__min_samples_leaf=1, rf__max_features=sqrt, rf__max_depth=50, rf__bootstrap=True, total=   2.4s\n",
      "[CV] rf__n_estimators=345, rf__min_samples_split=5, rf__min_samples_leaf=1, rf__max_features=sqrt, rf__max_depth=50, rf__bootstrap=True \n"
     ]
    },
    {
     "name": "stderr",
     "output_type": "stream",
     "text": [
      "[Parallel(n_jobs=1)]: Using backend SequentialBackend with 1 concurrent workers.\n",
      "[Parallel(n_jobs=1)]: Done 345 out of 345 | elapsed:    1.7s finished\n",
      "[Parallel(n_jobs=1)]: Using backend SequentialBackend with 1 concurrent workers.\n",
      "[Parallel(n_jobs=1)]: Done 345 out of 345 | elapsed:    0.0s finished\n"
     ]
    },
    {
     "name": "stdout",
     "output_type": "stream",
     "text": [
      "[CV]  rf__n_estimators=345, rf__min_samples_split=5, rf__min_samples_leaf=1, rf__max_features=sqrt, rf__max_depth=50, rf__bootstrap=True, total=   2.4s\n",
      "[CV] rf__n_estimators=345, rf__min_samples_split=5, rf__min_samples_leaf=1, rf__max_features=sqrt, rf__max_depth=50, rf__bootstrap=True \n"
     ]
    },
    {
     "name": "stderr",
     "output_type": "stream",
     "text": [
      "[Parallel(n_jobs=1)]: Using backend SequentialBackend with 1 concurrent workers.\n",
      "[Parallel(n_jobs=1)]: Done 345 out of 345 | elapsed:    1.7s finished\n",
      "[Parallel(n_jobs=1)]: Using backend SequentialBackend with 1 concurrent workers.\n",
      "[Parallel(n_jobs=1)]: Done 345 out of 345 | elapsed:    0.0s finished\n"
     ]
    },
    {
     "name": "stdout",
     "output_type": "stream",
     "text": [
      "[CV]  rf__n_estimators=345, rf__min_samples_split=5, rf__min_samples_leaf=1, rf__max_features=sqrt, rf__max_depth=50, rf__bootstrap=True, total=   2.3s\n",
      "[CV] rf__n_estimators=345, rf__min_samples_split=5, rf__min_samples_leaf=1, rf__max_features=sqrt, rf__max_depth=50, rf__bootstrap=True \n"
     ]
    },
    {
     "name": "stderr",
     "output_type": "stream",
     "text": [
      "[Parallel(n_jobs=1)]: Using backend SequentialBackend with 1 concurrent workers.\n",
      "[Parallel(n_jobs=1)]: Done 345 out of 345 | elapsed:    1.7s finished\n",
      "[Parallel(n_jobs=1)]: Using backend SequentialBackend with 1 concurrent workers.\n",
      "[Parallel(n_jobs=1)]: Done 345 out of 345 | elapsed:    0.0s finished\n"
     ]
    },
    {
     "name": "stdout",
     "output_type": "stream",
     "text": [
      "[CV]  rf__n_estimators=345, rf__min_samples_split=5, rf__min_samples_leaf=1, rf__max_features=sqrt, rf__max_depth=50, rf__bootstrap=True, total=   2.4s\n",
      "[CV] rf__n_estimators=345, rf__min_samples_split=5, rf__min_samples_leaf=1, rf__max_features=sqrt, rf__max_depth=50, rf__bootstrap=True \n"
     ]
    },
    {
     "name": "stderr",
     "output_type": "stream",
     "text": [
      "[Parallel(n_jobs=1)]: Using backend SequentialBackend with 1 concurrent workers.\n",
      "[Parallel(n_jobs=1)]: Done 345 out of 345 | elapsed:    1.8s finished\n",
      "[Parallel(n_jobs=1)]: Using backend SequentialBackend with 1 concurrent workers.\n",
      "[Parallel(n_jobs=1)]: Done 345 out of 345 | elapsed:    0.0s finished\n"
     ]
    },
    {
     "name": "stdout",
     "output_type": "stream",
     "text": [
      "[CV]  rf__n_estimators=345, rf__min_samples_split=5, rf__min_samples_leaf=1, rf__max_features=sqrt, rf__max_depth=50, rf__bootstrap=True, total=   2.4s\n",
      "[CV] rf__n_estimators=482, rf__min_samples_split=10, rf__min_samples_leaf=1, rf__max_features=auto, rf__max_depth=30, rf__bootstrap=False \n"
     ]
    },
    {
     "name": "stderr",
     "output_type": "stream",
     "text": [
      "[Parallel(n_jobs=1)]: Using backend SequentialBackend with 1 concurrent workers.\n",
      "[Parallel(n_jobs=1)]: Done 482 out of 482 | elapsed:    2.7s finished\n",
      "[Parallel(n_jobs=1)]: Using backend SequentialBackend with 1 concurrent workers.\n",
      "[Parallel(n_jobs=1)]: Done 482 out of 482 | elapsed:    0.0s finished\n"
     ]
    },
    {
     "name": "stdout",
     "output_type": "stream",
     "text": [
      "[CV]  rf__n_estimators=482, rf__min_samples_split=10, rf__min_samples_leaf=1, rf__max_features=auto, rf__max_depth=30, rf__bootstrap=False, total=   3.4s\n",
      "[CV] rf__n_estimators=482, rf__min_samples_split=10, rf__min_samples_leaf=1, rf__max_features=auto, rf__max_depth=30, rf__bootstrap=False \n"
     ]
    },
    {
     "name": "stderr",
     "output_type": "stream",
     "text": [
      "[Parallel(n_jobs=1)]: Using backend SequentialBackend with 1 concurrent workers.\n",
      "[Parallel(n_jobs=1)]: Done 482 out of 482 | elapsed:    2.6s finished\n",
      "[Parallel(n_jobs=1)]: Using backend SequentialBackend with 1 concurrent workers.\n",
      "[Parallel(n_jobs=1)]: Done 482 out of 482 | elapsed:    0.0s finished\n"
     ]
    },
    {
     "name": "stdout",
     "output_type": "stream",
     "text": [
      "[CV]  rf__n_estimators=482, rf__min_samples_split=10, rf__min_samples_leaf=1, rf__max_features=auto, rf__max_depth=30, rf__bootstrap=False, total=   3.3s\n",
      "[CV] rf__n_estimators=482, rf__min_samples_split=10, rf__min_samples_leaf=1, rf__max_features=auto, rf__max_depth=30, rf__bootstrap=False \n"
     ]
    },
    {
     "name": "stderr",
     "output_type": "stream",
     "text": [
      "[Parallel(n_jobs=1)]: Using backend SequentialBackend with 1 concurrent workers.\n",
      "[Parallel(n_jobs=1)]: Done 482 out of 482 | elapsed:    2.9s finished\n",
      "[Parallel(n_jobs=1)]: Using backend SequentialBackend with 1 concurrent workers.\n",
      "[Parallel(n_jobs=1)]: Done 482 out of 482 | elapsed:    0.0s finished\n"
     ]
    },
    {
     "name": "stdout",
     "output_type": "stream",
     "text": [
      "[CV]  rf__n_estimators=482, rf__min_samples_split=10, rf__min_samples_leaf=1, rf__max_features=auto, rf__max_depth=30, rf__bootstrap=False, total=   3.7s\n",
      "[CV] rf__n_estimators=482, rf__min_samples_split=10, rf__min_samples_leaf=1, rf__max_features=auto, rf__max_depth=30, rf__bootstrap=False \n"
     ]
    },
    {
     "name": "stderr",
     "output_type": "stream",
     "text": [
      "[Parallel(n_jobs=1)]: Using backend SequentialBackend with 1 concurrent workers.\n",
      "[Parallel(n_jobs=1)]: Done 482 out of 482 | elapsed:    2.8s finished\n",
      "[Parallel(n_jobs=1)]: Using backend SequentialBackend with 1 concurrent workers.\n",
      "[Parallel(n_jobs=1)]: Done 482 out of 482 | elapsed:    0.1s finished\n"
     ]
    },
    {
     "name": "stdout",
     "output_type": "stream",
     "text": [
      "[CV]  rf__n_estimators=482, rf__min_samples_split=10, rf__min_samples_leaf=1, rf__max_features=auto, rf__max_depth=30, rf__bootstrap=False, total=   3.6s\n",
      "[CV] rf__n_estimators=482, rf__min_samples_split=10, rf__min_samples_leaf=1, rf__max_features=auto, rf__max_depth=30, rf__bootstrap=False \n"
     ]
    },
    {
     "name": "stderr",
     "output_type": "stream",
     "text": [
      "[Parallel(n_jobs=1)]: Using backend SequentialBackend with 1 concurrent workers.\n",
      "[Parallel(n_jobs=1)]: Done 482 out of 482 | elapsed:    2.9s finished\n",
      "[Parallel(n_jobs=1)]: Using backend SequentialBackend with 1 concurrent workers.\n",
      "[Parallel(n_jobs=1)]: Done 482 out of 482 | elapsed:    0.1s finished\n"
     ]
    },
    {
     "name": "stdout",
     "output_type": "stream",
     "text": [
      "[CV]  rf__n_estimators=482, rf__min_samples_split=10, rf__min_samples_leaf=1, rf__max_features=auto, rf__max_depth=30, rf__bootstrap=False, total=   3.7s\n",
      "[CV] rf__n_estimators=329, rf__min_samples_split=5, rf__min_samples_leaf=4, rf__max_features=auto, rf__max_depth=85, rf__bootstrap=False \n"
     ]
    },
    {
     "name": "stderr",
     "output_type": "stream",
     "text": [
      "[Parallel(n_jobs=1)]: Using backend SequentialBackend with 1 concurrent workers.\n",
      "[Parallel(n_jobs=1)]: Done 329 out of 329 | elapsed:    1.6s finished\n",
      "[Parallel(n_jobs=1)]: Using backend SequentialBackend with 1 concurrent workers.\n",
      "[Parallel(n_jobs=1)]: Done 329 out of 329 | elapsed:    0.0s finished\n"
     ]
    },
    {
     "name": "stdout",
     "output_type": "stream",
     "text": [
      "[CV]  rf__n_estimators=329, rf__min_samples_split=5, rf__min_samples_leaf=4, rf__max_features=auto, rf__max_depth=85, rf__bootstrap=False, total=   2.3s\n",
      "[CV] rf__n_estimators=329, rf__min_samples_split=5, rf__min_samples_leaf=4, rf__max_features=auto, rf__max_depth=85, rf__bootstrap=False \n"
     ]
    },
    {
     "name": "stderr",
     "output_type": "stream",
     "text": [
      "[Parallel(n_jobs=1)]: Using backend SequentialBackend with 1 concurrent workers.\n",
      "[Parallel(n_jobs=1)]: Done 329 out of 329 | elapsed:    1.7s finished\n",
      "[Parallel(n_jobs=1)]: Using backend SequentialBackend with 1 concurrent workers.\n",
      "[Parallel(n_jobs=1)]: Done 329 out of 329 | elapsed:    0.0s finished\n"
     ]
    },
    {
     "name": "stdout",
     "output_type": "stream",
     "text": [
      "[CV]  rf__n_estimators=329, rf__min_samples_split=5, rf__min_samples_leaf=4, rf__max_features=auto, rf__max_depth=85, rf__bootstrap=False, total=   2.3s\n",
      "[CV] rf__n_estimators=329, rf__min_samples_split=5, rf__min_samples_leaf=4, rf__max_features=auto, rf__max_depth=85, rf__bootstrap=False \n"
     ]
    },
    {
     "name": "stderr",
     "output_type": "stream",
     "text": [
      "[Parallel(n_jobs=1)]: Using backend SequentialBackend with 1 concurrent workers.\n",
      "[Parallel(n_jobs=1)]: Done 329 out of 329 | elapsed:    1.7s finished\n",
      "[Parallel(n_jobs=1)]: Using backend SequentialBackend with 1 concurrent workers.\n",
      "[Parallel(n_jobs=1)]: Done 329 out of 329 | elapsed:    0.0s finished\n"
     ]
    },
    {
     "name": "stdout",
     "output_type": "stream",
     "text": [
      "[CV]  rf__n_estimators=329, rf__min_samples_split=5, rf__min_samples_leaf=4, rf__max_features=auto, rf__max_depth=85, rf__bootstrap=False, total=   2.4s\n",
      "[CV] rf__n_estimators=329, rf__min_samples_split=5, rf__min_samples_leaf=4, rf__max_features=auto, rf__max_depth=85, rf__bootstrap=False \n"
     ]
    },
    {
     "name": "stderr",
     "output_type": "stream",
     "text": [
      "[Parallel(n_jobs=1)]: Using backend SequentialBackend with 1 concurrent workers.\n",
      "[Parallel(n_jobs=1)]: Done 329 out of 329 | elapsed:    1.7s finished\n",
      "[Parallel(n_jobs=1)]: Using backend SequentialBackend with 1 concurrent workers.\n",
      "[Parallel(n_jobs=1)]: Done 329 out of 329 | elapsed:    0.0s finished\n"
     ]
    },
    {
     "name": "stdout",
     "output_type": "stream",
     "text": [
      "[CV]  rf__n_estimators=329, rf__min_samples_split=5, rf__min_samples_leaf=4, rf__max_features=auto, rf__max_depth=85, rf__bootstrap=False, total=   2.3s\n",
      "[CV] rf__n_estimators=329, rf__min_samples_split=5, rf__min_samples_leaf=4, rf__max_features=auto, rf__max_depth=85, rf__bootstrap=False \n"
     ]
    },
    {
     "name": "stderr",
     "output_type": "stream",
     "text": [
      "[Parallel(n_jobs=1)]: Using backend SequentialBackend with 1 concurrent workers.\n",
      "[Parallel(n_jobs=1)]: Done 329 out of 329 | elapsed:    1.6s finished\n",
      "[Parallel(n_jobs=1)]: Using backend SequentialBackend with 1 concurrent workers.\n",
      "[Parallel(n_jobs=1)]: Done 329 out of 329 | elapsed:    0.0s finished\n"
     ]
    },
    {
     "name": "stdout",
     "output_type": "stream",
     "text": [
      "[CV]  rf__n_estimators=329, rf__min_samples_split=5, rf__min_samples_leaf=4, rf__max_features=auto, rf__max_depth=85, rf__bootstrap=False, total=   2.3s\n",
      "[CV] rf__n_estimators=781, rf__min_samples_split=10, rf__min_samples_leaf=2, rf__max_features=auto, rf__max_depth=40, rf__bootstrap=False \n"
     ]
    },
    {
     "name": "stderr",
     "output_type": "stream",
     "text": [
      "[Parallel(n_jobs=1)]: Using backend SequentialBackend with 1 concurrent workers.\n",
      "[Parallel(n_jobs=1)]: Done 781 out of 781 | elapsed:    4.5s finished\n",
      "[Parallel(n_jobs=1)]: Using backend SequentialBackend with 1 concurrent workers.\n",
      "[Parallel(n_jobs=1)]: Done 781 out of 781 | elapsed:    0.1s finished\n"
     ]
    },
    {
     "name": "stdout",
     "output_type": "stream",
     "text": [
      "[CV]  rf__n_estimators=781, rf__min_samples_split=10, rf__min_samples_leaf=2, rf__max_features=auto, rf__max_depth=40, rf__bootstrap=False, total=   5.4s\n",
      "[CV] rf__n_estimators=781, rf__min_samples_split=10, rf__min_samples_leaf=2, rf__max_features=auto, rf__max_depth=40, rf__bootstrap=False \n"
     ]
    },
    {
     "name": "stderr",
     "output_type": "stream",
     "text": [
      "[Parallel(n_jobs=1)]: Using backend SequentialBackend with 1 concurrent workers.\n",
      "[Parallel(n_jobs=1)]: Done 781 out of 781 | elapsed:    4.2s finished\n",
      "[Parallel(n_jobs=1)]: Using backend SequentialBackend with 1 concurrent workers.\n",
      "[Parallel(n_jobs=1)]: Done 781 out of 781 | elapsed:    0.1s finished\n"
     ]
    },
    {
     "name": "stdout",
     "output_type": "stream",
     "text": [
      "[CV]  rf__n_estimators=781, rf__min_samples_split=10, rf__min_samples_leaf=2, rf__max_features=auto, rf__max_depth=40, rf__bootstrap=False, total=   5.2s\n",
      "[CV] rf__n_estimators=781, rf__min_samples_split=10, rf__min_samples_leaf=2, rf__max_features=auto, rf__max_depth=40, rf__bootstrap=False \n"
     ]
    },
    {
     "name": "stderr",
     "output_type": "stream",
     "text": [
      "[Parallel(n_jobs=1)]: Using backend SequentialBackend with 1 concurrent workers.\n",
      "[Parallel(n_jobs=1)]: Done 781 out of 781 | elapsed:    4.3s finished\n",
      "[Parallel(n_jobs=1)]: Using backend SequentialBackend with 1 concurrent workers.\n",
      "[Parallel(n_jobs=1)]: Done 781 out of 781 | elapsed:    0.1s finished\n"
     ]
    },
    {
     "name": "stdout",
     "output_type": "stream",
     "text": [
      "[CV]  rf__n_estimators=781, rf__min_samples_split=10, rf__min_samples_leaf=2, rf__max_features=auto, rf__max_depth=40, rf__bootstrap=False, total=   5.2s\n",
      "[CV] rf__n_estimators=781, rf__min_samples_split=10, rf__min_samples_leaf=2, rf__max_features=auto, rf__max_depth=40, rf__bootstrap=False \n"
     ]
    },
    {
     "name": "stderr",
     "output_type": "stream",
     "text": [
      "[Parallel(n_jobs=1)]: Using backend SequentialBackend with 1 concurrent workers.\n",
      "[Parallel(n_jobs=1)]: Done 781 out of 781 | elapsed:    4.1s finished\n",
      "[Parallel(n_jobs=1)]: Using backend SequentialBackend with 1 concurrent workers.\n",
      "[Parallel(n_jobs=1)]: Done 781 out of 781 | elapsed:    0.1s finished\n"
     ]
    },
    {
     "name": "stdout",
     "output_type": "stream",
     "text": [
      "[CV]  rf__n_estimators=781, rf__min_samples_split=10, rf__min_samples_leaf=2, rf__max_features=auto, rf__max_depth=40, rf__bootstrap=False, total=   5.0s\n",
      "[CV] rf__n_estimators=781, rf__min_samples_split=10, rf__min_samples_leaf=2, rf__max_features=auto, rf__max_depth=40, rf__bootstrap=False \n"
     ]
    },
    {
     "name": "stderr",
     "output_type": "stream",
     "text": [
      "[Parallel(n_jobs=1)]: Using backend SequentialBackend with 1 concurrent workers.\n",
      "[Parallel(n_jobs=1)]: Done 781 out of 781 | elapsed:    4.1s finished\n",
      "[Parallel(n_jobs=1)]: Using backend SequentialBackend with 1 concurrent workers.\n",
      "[Parallel(n_jobs=1)]: Done 781 out of 781 | elapsed:    0.1s finished\n"
     ]
    },
    {
     "name": "stdout",
     "output_type": "stream",
     "text": [
      "[CV]  rf__n_estimators=781, rf__min_samples_split=10, rf__min_samples_leaf=2, rf__max_features=auto, rf__max_depth=40, rf__bootstrap=False, total=   5.0s\n",
      "[CV] rf__n_estimators=587, rf__min_samples_split=5, rf__min_samples_leaf=2, rf__max_features=sqrt, rf__max_depth=100, rf__bootstrap=False \n"
     ]
    },
    {
     "name": "stderr",
     "output_type": "stream",
     "text": [
      "[Parallel(n_jobs=1)]: Using backend SequentialBackend with 1 concurrent workers.\n",
      "[Parallel(n_jobs=1)]: Done 587 out of 587 | elapsed:    4.9s finished\n",
      "[Parallel(n_jobs=1)]: Using backend SequentialBackend with 1 concurrent workers.\n",
      "[Parallel(n_jobs=1)]: Done 587 out of 587 | elapsed:    0.1s finished\n"
     ]
    },
    {
     "name": "stdout",
     "output_type": "stream",
     "text": [
      "[CV]  rf__n_estimators=587, rf__min_samples_split=5, rf__min_samples_leaf=2, rf__max_features=sqrt, rf__max_depth=100, rf__bootstrap=False, total=   5.8s\n",
      "[CV] rf__n_estimators=587, rf__min_samples_split=5, rf__min_samples_leaf=2, rf__max_features=sqrt, rf__max_depth=100, rf__bootstrap=False \n"
     ]
    },
    {
     "name": "stderr",
     "output_type": "stream",
     "text": [
      "[Parallel(n_jobs=1)]: Using backend SequentialBackend with 1 concurrent workers.\n",
      "[Parallel(n_jobs=1)]: Done 587 out of 587 | elapsed:    3.8s finished\n",
      "[Parallel(n_jobs=1)]: Using backend SequentialBackend with 1 concurrent workers.\n",
      "[Parallel(n_jobs=1)]: Done 587 out of 587 | elapsed:    0.1s finished\n"
     ]
    },
    {
     "name": "stdout",
     "output_type": "stream",
     "text": [
      "[CV]  rf__n_estimators=587, rf__min_samples_split=5, rf__min_samples_leaf=2, rf__max_features=sqrt, rf__max_depth=100, rf__bootstrap=False, total=   4.7s\n",
      "[CV] rf__n_estimators=587, rf__min_samples_split=5, rf__min_samples_leaf=2, rf__max_features=sqrt, rf__max_depth=100, rf__bootstrap=False \n"
     ]
    },
    {
     "name": "stderr",
     "output_type": "stream",
     "text": [
      "[Parallel(n_jobs=1)]: Using backend SequentialBackend with 1 concurrent workers.\n",
      "[Parallel(n_jobs=1)]: Done 587 out of 587 | elapsed:    4.3s finished\n",
      "[Parallel(n_jobs=1)]: Using backend SequentialBackend with 1 concurrent workers.\n",
      "[Parallel(n_jobs=1)]: Done 587 out of 587 | elapsed:    0.1s finished\n"
     ]
    },
    {
     "name": "stdout",
     "output_type": "stream",
     "text": [
      "[CV]  rf__n_estimators=587, rf__min_samples_split=5, rf__min_samples_leaf=2, rf__max_features=sqrt, rf__max_depth=100, rf__bootstrap=False, total=   5.3s\n",
      "[CV] rf__n_estimators=587, rf__min_samples_split=5, rf__min_samples_leaf=2, rf__max_features=sqrt, rf__max_depth=100, rf__bootstrap=False \n"
     ]
    },
    {
     "name": "stderr",
     "output_type": "stream",
     "text": [
      "[Parallel(n_jobs=1)]: Using backend SequentialBackend with 1 concurrent workers.\n",
      "[Parallel(n_jobs=1)]: Done 587 out of 587 | elapsed:    5.4s finished\n",
      "[Parallel(n_jobs=1)]: Using backend SequentialBackend with 1 concurrent workers.\n",
      "[Parallel(n_jobs=1)]: Done 587 out of 587 | elapsed:    0.1s finished\n"
     ]
    },
    {
     "name": "stdout",
     "output_type": "stream",
     "text": [
      "[CV]  rf__n_estimators=587, rf__min_samples_split=5, rf__min_samples_leaf=2, rf__max_features=sqrt, rf__max_depth=100, rf__bootstrap=False, total=   6.3s\n",
      "[CV] rf__n_estimators=587, rf__min_samples_split=5, rf__min_samples_leaf=2, rf__max_features=sqrt, rf__max_depth=100, rf__bootstrap=False \n"
     ]
    },
    {
     "name": "stderr",
     "output_type": "stream",
     "text": [
      "[Parallel(n_jobs=1)]: Using backend SequentialBackend with 1 concurrent workers.\n",
      "[Parallel(n_jobs=1)]: Done 587 out of 587 | elapsed:    3.9s finished\n",
      "[Parallel(n_jobs=1)]: Using backend SequentialBackend with 1 concurrent workers.\n",
      "[Parallel(n_jobs=1)]: Done 587 out of 587 | elapsed:    0.1s finished\n"
     ]
    },
    {
     "name": "stdout",
     "output_type": "stream",
     "text": [
      "[CV]  rf__n_estimators=587, rf__min_samples_split=5, rf__min_samples_leaf=2, rf__max_features=sqrt, rf__max_depth=100, rf__bootstrap=False, total=   5.3s\n",
      "[CV] rf__n_estimators=636, rf__min_samples_split=5, rf__min_samples_leaf=1, rf__max_features=auto, rf__max_depth=95, rf__bootstrap=True \n"
     ]
    },
    {
     "name": "stderr",
     "output_type": "stream",
     "text": [
      "[Parallel(n_jobs=1)]: Using backend SequentialBackend with 1 concurrent workers.\n",
      "[Parallel(n_jobs=1)]: Done 636 out of 636 | elapsed:    3.4s finished\n",
      "[Parallel(n_jobs=1)]: Using backend SequentialBackend with 1 concurrent workers.\n",
      "[Parallel(n_jobs=1)]: Done 636 out of 636 | elapsed:    0.1s finished\n"
     ]
    },
    {
     "name": "stdout",
     "output_type": "stream",
     "text": [
      "[CV]  rf__n_estimators=636, rf__min_samples_split=5, rf__min_samples_leaf=1, rf__max_features=auto, rf__max_depth=95, rf__bootstrap=True, total=   4.2s\n",
      "[CV] rf__n_estimators=636, rf__min_samples_split=5, rf__min_samples_leaf=1, rf__max_features=auto, rf__max_depth=95, rf__bootstrap=True \n"
     ]
    },
    {
     "name": "stderr",
     "output_type": "stream",
     "text": [
      "[Parallel(n_jobs=1)]: Using backend SequentialBackend with 1 concurrent workers.\n",
      "[Parallel(n_jobs=1)]: Done 636 out of 636 | elapsed:    3.2s finished\n",
      "[Parallel(n_jobs=1)]: Using backend SequentialBackend with 1 concurrent workers.\n",
      "[Parallel(n_jobs=1)]: Done 636 out of 636 | elapsed:    0.1s finished\n"
     ]
    },
    {
     "name": "stdout",
     "output_type": "stream",
     "text": [
      "[CV]  rf__n_estimators=636, rf__min_samples_split=5, rf__min_samples_leaf=1, rf__max_features=auto, rf__max_depth=95, rf__bootstrap=True, total=   4.3s\n",
      "[CV] rf__n_estimators=636, rf__min_samples_split=5, rf__min_samples_leaf=1, rf__max_features=auto, rf__max_depth=95, rf__bootstrap=True \n"
     ]
    },
    {
     "name": "stderr",
     "output_type": "stream",
     "text": [
      "[Parallel(n_jobs=1)]: Using backend SequentialBackend with 1 concurrent workers.\n",
      "[Parallel(n_jobs=1)]: Done 636 out of 636 | elapsed:    5.3s finished\n",
      "[Parallel(n_jobs=1)]: Using backend SequentialBackend with 1 concurrent workers.\n",
      "[Parallel(n_jobs=1)]: Done 636 out of 636 | elapsed:    0.1s finished\n"
     ]
    },
    {
     "name": "stdout",
     "output_type": "stream",
     "text": [
      "[CV]  rf__n_estimators=636, rf__min_samples_split=5, rf__min_samples_leaf=1, rf__max_features=auto, rf__max_depth=95, rf__bootstrap=True, total=   7.2s\n",
      "[CV] rf__n_estimators=636, rf__min_samples_split=5, rf__min_samples_leaf=1, rf__max_features=auto, rf__max_depth=95, rf__bootstrap=True \n"
     ]
    },
    {
     "name": "stderr",
     "output_type": "stream",
     "text": [
      "[Parallel(n_jobs=1)]: Using backend SequentialBackend with 1 concurrent workers.\n",
      "[Parallel(n_jobs=1)]: Done 636 out of 636 | elapsed:    3.4s finished\n",
      "[Parallel(n_jobs=1)]: Using backend SequentialBackend with 1 concurrent workers.\n",
      "[Parallel(n_jobs=1)]: Done 636 out of 636 | elapsed:    0.1s finished\n"
     ]
    },
    {
     "name": "stdout",
     "output_type": "stream",
     "text": [
      "[CV]  rf__n_estimators=636, rf__min_samples_split=5, rf__min_samples_leaf=1, rf__max_features=auto, rf__max_depth=95, rf__bootstrap=True, total=   4.3s\n",
      "[CV] rf__n_estimators=636, rf__min_samples_split=5, rf__min_samples_leaf=1, rf__max_features=auto, rf__max_depth=95, rf__bootstrap=True \n"
     ]
    },
    {
     "name": "stderr",
     "output_type": "stream",
     "text": [
      "[Parallel(n_jobs=1)]: Using backend SequentialBackend with 1 concurrent workers.\n",
      "[Parallel(n_jobs=1)]: Done 636 out of 636 | elapsed:    3.5s finished\n",
      "[Parallel(n_jobs=1)]: Using backend SequentialBackend with 1 concurrent workers.\n",
      "[Parallel(n_jobs=1)]: Done 636 out of 636 | elapsed:    0.1s finished\n"
     ]
    },
    {
     "name": "stdout",
     "output_type": "stream",
     "text": [
      "[CV]  rf__n_estimators=636, rf__min_samples_split=5, rf__min_samples_leaf=1, rf__max_features=auto, rf__max_depth=95, rf__bootstrap=True, total=   4.3s\n",
      "[CV] rf__n_estimators=385, rf__min_samples_split=5, rf__min_samples_leaf=4, rf__max_features=auto, rf__max_depth=90, rf__bootstrap=True \n"
     ]
    },
    {
     "name": "stderr",
     "output_type": "stream",
     "text": [
      "[Parallel(n_jobs=1)]: Using backend SequentialBackend with 1 concurrent workers.\n",
      "[Parallel(n_jobs=1)]: Done 385 out of 385 | elapsed:    1.5s finished\n",
      "[Parallel(n_jobs=1)]: Using backend SequentialBackend with 1 concurrent workers.\n",
      "[Parallel(n_jobs=1)]: Done 385 out of 385 | elapsed:    0.0s finished\n"
     ]
    },
    {
     "name": "stdout",
     "output_type": "stream",
     "text": [
      "[CV]  rf__n_estimators=385, rf__min_samples_split=5, rf__min_samples_leaf=4, rf__max_features=auto, rf__max_depth=90, rf__bootstrap=True, total=   2.3s\n",
      "[CV] rf__n_estimators=385, rf__min_samples_split=5, rf__min_samples_leaf=4, rf__max_features=auto, rf__max_depth=90, rf__bootstrap=True \n"
     ]
    },
    {
     "name": "stderr",
     "output_type": "stream",
     "text": [
      "[Parallel(n_jobs=1)]: Using backend SequentialBackend with 1 concurrent workers.\n",
      "[Parallel(n_jobs=1)]: Done 385 out of 385 | elapsed:    1.6s finished\n",
      "[Parallel(n_jobs=1)]: Using backend SequentialBackend with 1 concurrent workers.\n",
      "[Parallel(n_jobs=1)]: Done 385 out of 385 | elapsed:    0.0s finished\n"
     ]
    },
    {
     "name": "stdout",
     "output_type": "stream",
     "text": [
      "[CV]  rf__n_estimators=385, rf__min_samples_split=5, rf__min_samples_leaf=4, rf__max_features=auto, rf__max_depth=90, rf__bootstrap=True, total=   2.4s\n",
      "[CV] rf__n_estimators=385, rf__min_samples_split=5, rf__min_samples_leaf=4, rf__max_features=auto, rf__max_depth=90, rf__bootstrap=True \n"
     ]
    },
    {
     "name": "stderr",
     "output_type": "stream",
     "text": [
      "[Parallel(n_jobs=1)]: Using backend SequentialBackend with 1 concurrent workers.\n",
      "[Parallel(n_jobs=1)]: Done 385 out of 385 | elapsed:    1.4s finished\n",
      "[Parallel(n_jobs=1)]: Using backend SequentialBackend with 1 concurrent workers.\n",
      "[Parallel(n_jobs=1)]: Done 385 out of 385 | elapsed:    0.0s finished\n"
     ]
    },
    {
     "name": "stdout",
     "output_type": "stream",
     "text": [
      "[CV]  rf__n_estimators=385, rf__min_samples_split=5, rf__min_samples_leaf=4, rf__max_features=auto, rf__max_depth=90, rf__bootstrap=True, total=   2.2s\n",
      "[CV] rf__n_estimators=385, rf__min_samples_split=5, rf__min_samples_leaf=4, rf__max_features=auto, rf__max_depth=90, rf__bootstrap=True \n"
     ]
    },
    {
     "name": "stderr",
     "output_type": "stream",
     "text": [
      "[Parallel(n_jobs=1)]: Using backend SequentialBackend with 1 concurrent workers.\n",
      "[Parallel(n_jobs=1)]: Done 385 out of 385 | elapsed:    1.5s finished\n",
      "[Parallel(n_jobs=1)]: Using backend SequentialBackend with 1 concurrent workers.\n",
      "[Parallel(n_jobs=1)]: Done 385 out of 385 | elapsed:    0.0s finished\n"
     ]
    },
    {
     "name": "stdout",
     "output_type": "stream",
     "text": [
      "[CV]  rf__n_estimators=385, rf__min_samples_split=5, rf__min_samples_leaf=4, rf__max_features=auto, rf__max_depth=90, rf__bootstrap=True, total=   2.1s\n",
      "[CV] rf__n_estimators=385, rf__min_samples_split=5, rf__min_samples_leaf=4, rf__max_features=auto, rf__max_depth=90, rf__bootstrap=True \n"
     ]
    },
    {
     "name": "stderr",
     "output_type": "stream",
     "text": [
      "[Parallel(n_jobs=1)]: Using backend SequentialBackend with 1 concurrent workers.\n",
      "[Parallel(n_jobs=1)]: Done 385 out of 385 | elapsed:    1.4s finished\n",
      "[Parallel(n_jobs=1)]: Using backend SequentialBackend with 1 concurrent workers.\n",
      "[Parallel(n_jobs=1)]: Done 385 out of 385 | elapsed:    0.0s finished\n"
     ]
    },
    {
     "name": "stdout",
     "output_type": "stream",
     "text": [
      "[CV]  rf__n_estimators=385, rf__min_samples_split=5, rf__min_samples_leaf=4, rf__max_features=auto, rf__max_depth=90, rf__bootstrap=True, total=   2.1s\n",
      "[CV] rf__n_estimators=894, rf__min_samples_split=2, rf__min_samples_leaf=2, rf__max_features=auto, rf__max_depth=45, rf__bootstrap=True \n"
     ]
    },
    {
     "name": "stderr",
     "output_type": "stream",
     "text": [
      "[Parallel(n_jobs=1)]: Using backend SequentialBackend with 1 concurrent workers.\n",
      "[Parallel(n_jobs=1)]: Done 894 out of 894 | elapsed:    4.6s finished\n",
      "[Parallel(n_jobs=1)]: Using backend SequentialBackend with 1 concurrent workers.\n",
      "[Parallel(n_jobs=1)]: Done 894 out of 894 | elapsed:    0.1s finished\n"
     ]
    },
    {
     "name": "stdout",
     "output_type": "stream",
     "text": [
      "[CV]  rf__n_estimators=894, rf__min_samples_split=2, rf__min_samples_leaf=2, rf__max_features=auto, rf__max_depth=45, rf__bootstrap=True, total=   5.5s\n",
      "[CV] rf__n_estimators=894, rf__min_samples_split=2, rf__min_samples_leaf=2, rf__max_features=auto, rf__max_depth=45, rf__bootstrap=True \n"
     ]
    },
    {
     "name": "stderr",
     "output_type": "stream",
     "text": [
      "[Parallel(n_jobs=1)]: Using backend SequentialBackend with 1 concurrent workers.\n",
      "[Parallel(n_jobs=1)]: Done 894 out of 894 | elapsed:    4.6s finished\n",
      "[Parallel(n_jobs=1)]: Using backend SequentialBackend with 1 concurrent workers.\n",
      "[Parallel(n_jobs=1)]: Done 894 out of 894 | elapsed:    0.1s finished\n"
     ]
    },
    {
     "name": "stdout",
     "output_type": "stream",
     "text": [
      "[CV]  rf__n_estimators=894, rf__min_samples_split=2, rf__min_samples_leaf=2, rf__max_features=auto, rf__max_depth=45, rf__bootstrap=True, total=   5.6s\n",
      "[CV] rf__n_estimators=894, rf__min_samples_split=2, rf__min_samples_leaf=2, rf__max_features=auto, rf__max_depth=45, rf__bootstrap=True \n"
     ]
    },
    {
     "name": "stderr",
     "output_type": "stream",
     "text": [
      "[Parallel(n_jobs=1)]: Using backend SequentialBackend with 1 concurrent workers.\n",
      "[Parallel(n_jobs=1)]: Done 894 out of 894 | elapsed:    5.4s finished\n",
      "[Parallel(n_jobs=1)]: Using backend SequentialBackend with 1 concurrent workers.\n",
      "[Parallel(n_jobs=1)]: Done 894 out of 894 | elapsed:    0.2s finished\n"
     ]
    },
    {
     "name": "stdout",
     "output_type": "stream",
     "text": [
      "[CV]  rf__n_estimators=894, rf__min_samples_split=2, rf__min_samples_leaf=2, rf__max_features=auto, rf__max_depth=45, rf__bootstrap=True, total=   6.6s\n",
      "[CV] rf__n_estimators=894, rf__min_samples_split=2, rf__min_samples_leaf=2, rf__max_features=auto, rf__max_depth=45, rf__bootstrap=True \n"
     ]
    },
    {
     "name": "stderr",
     "output_type": "stream",
     "text": [
      "[Parallel(n_jobs=1)]: Using backend SequentialBackend with 1 concurrent workers.\n",
      "[Parallel(n_jobs=1)]: Done 894 out of 894 | elapsed:    4.9s finished\n",
      "[Parallel(n_jobs=1)]: Using backend SequentialBackend with 1 concurrent workers.\n",
      "[Parallel(n_jobs=1)]: Done 894 out of 894 | elapsed:    0.1s finished\n"
     ]
    },
    {
     "name": "stdout",
     "output_type": "stream",
     "text": [
      "[CV]  rf__n_estimators=894, rf__min_samples_split=2, rf__min_samples_leaf=2, rf__max_features=auto, rf__max_depth=45, rf__bootstrap=True, total=   6.4s\n",
      "[CV] rf__n_estimators=894, rf__min_samples_split=2, rf__min_samples_leaf=2, rf__max_features=auto, rf__max_depth=45, rf__bootstrap=True \n"
     ]
    },
    {
     "name": "stderr",
     "output_type": "stream",
     "text": [
      "[Parallel(n_jobs=1)]: Using backend SequentialBackend with 1 concurrent workers.\n",
      "[Parallel(n_jobs=1)]: Done 894 out of 894 | elapsed:    4.4s finished\n",
      "[Parallel(n_jobs=1)]: Using backend SequentialBackend with 1 concurrent workers.\n",
      "[Parallel(n_jobs=1)]: Done 894 out of 894 | elapsed:    0.1s finished\n"
     ]
    },
    {
     "name": "stdout",
     "output_type": "stream",
     "text": [
      "[CV]  rf__n_estimators=894, rf__min_samples_split=2, rf__min_samples_leaf=2, rf__max_features=auto, rf__max_depth=45, rf__bootstrap=True, total=   5.4s\n",
      "[CV] rf__n_estimators=951, rf__min_samples_split=2, rf__min_samples_leaf=4, rf__max_features=sqrt, rf__max_depth=10, rf__bootstrap=False \n"
     ]
    },
    {
     "name": "stderr",
     "output_type": "stream",
     "text": [
      "[Parallel(n_jobs=1)]: Using backend SequentialBackend with 1 concurrent workers.\n",
      "[Parallel(n_jobs=1)]: Done 951 out of 951 | elapsed:    4.4s finished\n",
      "[Parallel(n_jobs=1)]: Using backend SequentialBackend with 1 concurrent workers.\n",
      "[Parallel(n_jobs=1)]: Done 951 out of 951 | elapsed:    0.1s finished\n"
     ]
    },
    {
     "name": "stdout",
     "output_type": "stream",
     "text": [
      "[CV]  rf__n_estimators=951, rf__min_samples_split=2, rf__min_samples_leaf=4, rf__max_features=sqrt, rf__max_depth=10, rf__bootstrap=False, total=   5.4s\n",
      "[CV] rf__n_estimators=951, rf__min_samples_split=2, rf__min_samples_leaf=4, rf__max_features=sqrt, rf__max_depth=10, rf__bootstrap=False \n"
     ]
    },
    {
     "name": "stderr",
     "output_type": "stream",
     "text": [
      "[Parallel(n_jobs=1)]: Using backend SequentialBackend with 1 concurrent workers.\n"
     ]
    },
    {
     "ename": "KeyboardInterrupt",
     "evalue": "",
     "output_type": "error",
     "traceback": [
      "\u001b[0;31m---------------------------------------------------------------------------\u001b[0m",
      "\u001b[0;31mKeyboardInterrupt\u001b[0m                         Traceback (most recent call last)",
      "\u001b[0;32m<ipython-input-53-555a91b4352e>\u001b[0m in \u001b[0;36m<module>\u001b[0;34m\u001b[0m\n\u001b[1;32m     49\u001b[0m \u001b[0;31m# Fit the random search model\u001b[0m\u001b[0;34m\u001b[0m\u001b[0;34m\u001b[0m\u001b[0;34m\u001b[0m\u001b[0m\n\u001b[1;32m     50\u001b[0m \u001b[0mstart\u001b[0m \u001b[0;34m=\u001b[0m \u001b[0mtime\u001b[0m\u001b[0;34m(\u001b[0m\u001b[0;34m)\u001b[0m\u001b[0;34m\u001b[0m\u001b[0;34m\u001b[0m\u001b[0m\n\u001b[0;32m---> 51\u001b[0;31m \u001b[0mrf_random\u001b[0m\u001b[0;34m.\u001b[0m\u001b[0mfit\u001b[0m\u001b[0;34m(\u001b[0m\u001b[0mX\u001b[0m\u001b[0;34m[\u001b[0m\u001b[0;34m\"text\"\u001b[0m\u001b[0;34m]\u001b[0m\u001b[0;34m,\u001b[0m \u001b[0my_topic\u001b[0m\u001b[0;34m)\u001b[0m\u001b[0;34m\u001b[0m\u001b[0;34m\u001b[0m\u001b[0m\n\u001b[0m\u001b[1;32m     52\u001b[0m \u001b[0;34m\u001b[0m\u001b[0m\n\u001b[1;32m     53\u001b[0m print(\"RandomizedSearchCV for RandomForestClassifier on Topic feature: \\ntook %.2f seconds for %d candidates\"\n",
      "\u001b[0;32m~/.local/lib/python3.6/site-packages/sklearn/utils/validation.py\u001b[0m in \u001b[0;36minner_f\u001b[0;34m(*args, **kwargs)\u001b[0m\n\u001b[1;32m     70\u001b[0m                           FutureWarning)\n\u001b[1;32m     71\u001b[0m         \u001b[0mkwargs\u001b[0m\u001b[0;34m.\u001b[0m\u001b[0mupdate\u001b[0m\u001b[0;34m(\u001b[0m\u001b[0;34m{\u001b[0m\u001b[0mk\u001b[0m\u001b[0;34m:\u001b[0m \u001b[0marg\u001b[0m \u001b[0;32mfor\u001b[0m \u001b[0mk\u001b[0m\u001b[0;34m,\u001b[0m \u001b[0marg\u001b[0m \u001b[0;32min\u001b[0m \u001b[0mzip\u001b[0m\u001b[0;34m(\u001b[0m\u001b[0msig\u001b[0m\u001b[0;34m.\u001b[0m\u001b[0mparameters\u001b[0m\u001b[0;34m,\u001b[0m \u001b[0margs\u001b[0m\u001b[0;34m)\u001b[0m\u001b[0;34m}\u001b[0m\u001b[0;34m)\u001b[0m\u001b[0;34m\u001b[0m\u001b[0;34m\u001b[0m\u001b[0m\n\u001b[0;32m---> 72\u001b[0;31m         \u001b[0;32mreturn\u001b[0m \u001b[0mf\u001b[0m\u001b[0;34m(\u001b[0m\u001b[0;34m**\u001b[0m\u001b[0mkwargs\u001b[0m\u001b[0;34m)\u001b[0m\u001b[0;34m\u001b[0m\u001b[0;34m\u001b[0m\u001b[0m\n\u001b[0m\u001b[1;32m     73\u001b[0m     \u001b[0;32mreturn\u001b[0m \u001b[0minner_f\u001b[0m\u001b[0;34m\u001b[0m\u001b[0;34m\u001b[0m\u001b[0m\n\u001b[1;32m     74\u001b[0m \u001b[0;34m\u001b[0m\u001b[0m\n",
      "\u001b[0;32m~/.local/lib/python3.6/site-packages/sklearn/model_selection/_search.py\u001b[0m in \u001b[0;36mfit\u001b[0;34m(self, X, y, groups, **fit_params)\u001b[0m\n\u001b[1;32m    734\u001b[0m                 \u001b[0;32mreturn\u001b[0m \u001b[0mresults\u001b[0m\u001b[0;34m\u001b[0m\u001b[0;34m\u001b[0m\u001b[0m\n\u001b[1;32m    735\u001b[0m \u001b[0;34m\u001b[0m\u001b[0m\n\u001b[0;32m--> 736\u001b[0;31m             \u001b[0mself\u001b[0m\u001b[0;34m.\u001b[0m\u001b[0m_run_search\u001b[0m\u001b[0;34m(\u001b[0m\u001b[0mevaluate_candidates\u001b[0m\u001b[0;34m)\u001b[0m\u001b[0;34m\u001b[0m\u001b[0;34m\u001b[0m\u001b[0m\n\u001b[0m\u001b[1;32m    737\u001b[0m \u001b[0;34m\u001b[0m\u001b[0m\n\u001b[1;32m    738\u001b[0m         \u001b[0;31m# For multi-metric evaluation, store the best_index_, best_params_ and\u001b[0m\u001b[0;34m\u001b[0m\u001b[0;34m\u001b[0m\u001b[0;34m\u001b[0m\u001b[0m\n",
      "\u001b[0;32m~/.local/lib/python3.6/site-packages/sklearn/model_selection/_search.py\u001b[0m in \u001b[0;36m_run_search\u001b[0;34m(self, evaluate_candidates)\u001b[0m\n\u001b[1;32m   1529\u001b[0m         evaluate_candidates(ParameterSampler(\n\u001b[1;32m   1530\u001b[0m             \u001b[0mself\u001b[0m\u001b[0;34m.\u001b[0m\u001b[0mparam_distributions\u001b[0m\u001b[0;34m,\u001b[0m \u001b[0mself\u001b[0m\u001b[0;34m.\u001b[0m\u001b[0mn_iter\u001b[0m\u001b[0;34m,\u001b[0m\u001b[0;34m\u001b[0m\u001b[0;34m\u001b[0m\u001b[0m\n\u001b[0;32m-> 1531\u001b[0;31m             random_state=self.random_state))\n\u001b[0m",
      "\u001b[0;32m~/.local/lib/python3.6/site-packages/sklearn/model_selection/_search.py\u001b[0m in \u001b[0;36mevaluate_candidates\u001b[0;34m(candidate_params)\u001b[0m\n\u001b[1;32m    713\u001b[0m                                \u001b[0;32mfor\u001b[0m \u001b[0mparameters\u001b[0m\u001b[0;34m,\u001b[0m \u001b[0;34m(\u001b[0m\u001b[0mtrain\u001b[0m\u001b[0;34m,\u001b[0m \u001b[0mtest\u001b[0m\u001b[0;34m)\u001b[0m\u001b[0;34m\u001b[0m\u001b[0;34m\u001b[0m\u001b[0m\n\u001b[1;32m    714\u001b[0m                                in product(candidate_params,\n\u001b[0;32m--> 715\u001b[0;31m                                           cv.split(X, y, groups)))\n\u001b[0m\u001b[1;32m    716\u001b[0m \u001b[0;34m\u001b[0m\u001b[0m\n\u001b[1;32m    717\u001b[0m                 \u001b[0;32mif\u001b[0m \u001b[0mlen\u001b[0m\u001b[0;34m(\u001b[0m\u001b[0mout\u001b[0m\u001b[0;34m)\u001b[0m \u001b[0;34m<\u001b[0m \u001b[0;36m1\u001b[0m\u001b[0;34m:\u001b[0m\u001b[0;34m\u001b[0m\u001b[0;34m\u001b[0m\u001b[0m\n",
      "\u001b[0;32m~/.local/lib/python3.6/site-packages/joblib/parallel.py\u001b[0m in \u001b[0;36m__call__\u001b[0;34m(self, iterable)\u001b[0m\n\u001b[1;32m   1030\u001b[0m                 \u001b[0mself\u001b[0m\u001b[0;34m.\u001b[0m\u001b[0m_iterating\u001b[0m \u001b[0;34m=\u001b[0m \u001b[0mself\u001b[0m\u001b[0;34m.\u001b[0m\u001b[0m_original_iterator\u001b[0m \u001b[0;32mis\u001b[0m \u001b[0;32mnot\u001b[0m \u001b[0;32mNone\u001b[0m\u001b[0;34m\u001b[0m\u001b[0;34m\u001b[0m\u001b[0m\n\u001b[1;32m   1031\u001b[0m \u001b[0;34m\u001b[0m\u001b[0m\n\u001b[0;32m-> 1032\u001b[0;31m             \u001b[0;32mwhile\u001b[0m \u001b[0mself\u001b[0m\u001b[0;34m.\u001b[0m\u001b[0mdispatch_one_batch\u001b[0m\u001b[0;34m(\u001b[0m\u001b[0miterator\u001b[0m\u001b[0;34m)\u001b[0m\u001b[0;34m:\u001b[0m\u001b[0;34m\u001b[0m\u001b[0;34m\u001b[0m\u001b[0m\n\u001b[0m\u001b[1;32m   1033\u001b[0m                 \u001b[0;32mpass\u001b[0m\u001b[0;34m\u001b[0m\u001b[0;34m\u001b[0m\u001b[0m\n\u001b[1;32m   1034\u001b[0m \u001b[0;34m\u001b[0m\u001b[0m\n",
      "\u001b[0;32m~/.local/lib/python3.6/site-packages/joblib/parallel.py\u001b[0m in \u001b[0;36mdispatch_one_batch\u001b[0;34m(self, iterator)\u001b[0m\n\u001b[1;32m    845\u001b[0m                 \u001b[0;32mreturn\u001b[0m \u001b[0;32mFalse\u001b[0m\u001b[0;34m\u001b[0m\u001b[0;34m\u001b[0m\u001b[0m\n\u001b[1;32m    846\u001b[0m             \u001b[0;32melse\u001b[0m\u001b[0;34m:\u001b[0m\u001b[0;34m\u001b[0m\u001b[0;34m\u001b[0m\u001b[0m\n\u001b[0;32m--> 847\u001b[0;31m                 \u001b[0mself\u001b[0m\u001b[0;34m.\u001b[0m\u001b[0m_dispatch\u001b[0m\u001b[0;34m(\u001b[0m\u001b[0mtasks\u001b[0m\u001b[0;34m)\u001b[0m\u001b[0;34m\u001b[0m\u001b[0;34m\u001b[0m\u001b[0m\n\u001b[0m\u001b[1;32m    848\u001b[0m                 \u001b[0;32mreturn\u001b[0m \u001b[0;32mTrue\u001b[0m\u001b[0;34m\u001b[0m\u001b[0;34m\u001b[0m\u001b[0m\n\u001b[1;32m    849\u001b[0m \u001b[0;34m\u001b[0m\u001b[0m\n",
      "\u001b[0;32m~/.local/lib/python3.6/site-packages/joblib/parallel.py\u001b[0m in \u001b[0;36m_dispatch\u001b[0;34m(self, batch)\u001b[0m\n\u001b[1;32m    763\u001b[0m         \u001b[0;32mwith\u001b[0m \u001b[0mself\u001b[0m\u001b[0;34m.\u001b[0m\u001b[0m_lock\u001b[0m\u001b[0;34m:\u001b[0m\u001b[0;34m\u001b[0m\u001b[0;34m\u001b[0m\u001b[0m\n\u001b[1;32m    764\u001b[0m             \u001b[0mjob_idx\u001b[0m \u001b[0;34m=\u001b[0m \u001b[0mlen\u001b[0m\u001b[0;34m(\u001b[0m\u001b[0mself\u001b[0m\u001b[0;34m.\u001b[0m\u001b[0m_jobs\u001b[0m\u001b[0;34m)\u001b[0m\u001b[0;34m\u001b[0m\u001b[0;34m\u001b[0m\u001b[0m\n\u001b[0;32m--> 765\u001b[0;31m             \u001b[0mjob\u001b[0m \u001b[0;34m=\u001b[0m \u001b[0mself\u001b[0m\u001b[0;34m.\u001b[0m\u001b[0m_backend\u001b[0m\u001b[0;34m.\u001b[0m\u001b[0mapply_async\u001b[0m\u001b[0;34m(\u001b[0m\u001b[0mbatch\u001b[0m\u001b[0;34m,\u001b[0m \u001b[0mcallback\u001b[0m\u001b[0;34m=\u001b[0m\u001b[0mcb\u001b[0m\u001b[0;34m)\u001b[0m\u001b[0;34m\u001b[0m\u001b[0;34m\u001b[0m\u001b[0m\n\u001b[0m\u001b[1;32m    766\u001b[0m             \u001b[0;31m# A job can complete so quickly than its callback is\u001b[0m\u001b[0;34m\u001b[0m\u001b[0;34m\u001b[0m\u001b[0;34m\u001b[0m\u001b[0m\n\u001b[1;32m    767\u001b[0m             \u001b[0;31m# called before we get here, causing self._jobs to\u001b[0m\u001b[0;34m\u001b[0m\u001b[0;34m\u001b[0m\u001b[0;34m\u001b[0m\u001b[0m\n",
      "\u001b[0;32m~/.local/lib/python3.6/site-packages/joblib/_parallel_backends.py\u001b[0m in \u001b[0;36mapply_async\u001b[0;34m(self, func, callback)\u001b[0m\n\u001b[1;32m    206\u001b[0m     \u001b[0;32mdef\u001b[0m \u001b[0mapply_async\u001b[0m\u001b[0;34m(\u001b[0m\u001b[0mself\u001b[0m\u001b[0;34m,\u001b[0m \u001b[0mfunc\u001b[0m\u001b[0;34m,\u001b[0m \u001b[0mcallback\u001b[0m\u001b[0;34m=\u001b[0m\u001b[0;32mNone\u001b[0m\u001b[0;34m)\u001b[0m\u001b[0;34m:\u001b[0m\u001b[0;34m\u001b[0m\u001b[0;34m\u001b[0m\u001b[0m\n\u001b[1;32m    207\u001b[0m         \u001b[0;34m\"\"\"Schedule a func to be run\"\"\"\u001b[0m\u001b[0;34m\u001b[0m\u001b[0;34m\u001b[0m\u001b[0m\n\u001b[0;32m--> 208\u001b[0;31m         \u001b[0mresult\u001b[0m \u001b[0;34m=\u001b[0m \u001b[0mImmediateResult\u001b[0m\u001b[0;34m(\u001b[0m\u001b[0mfunc\u001b[0m\u001b[0;34m)\u001b[0m\u001b[0;34m\u001b[0m\u001b[0;34m\u001b[0m\u001b[0m\n\u001b[0m\u001b[1;32m    209\u001b[0m         \u001b[0;32mif\u001b[0m \u001b[0mcallback\u001b[0m\u001b[0;34m:\u001b[0m\u001b[0;34m\u001b[0m\u001b[0;34m\u001b[0m\u001b[0m\n\u001b[1;32m    210\u001b[0m             \u001b[0mcallback\u001b[0m\u001b[0;34m(\u001b[0m\u001b[0mresult\u001b[0m\u001b[0;34m)\u001b[0m\u001b[0;34m\u001b[0m\u001b[0;34m\u001b[0m\u001b[0m\n",
      "\u001b[0;32m~/.local/lib/python3.6/site-packages/joblib/_parallel_backends.py\u001b[0m in \u001b[0;36m__init__\u001b[0;34m(self, batch)\u001b[0m\n\u001b[1;32m    570\u001b[0m         \u001b[0;31m# Don't delay the application, to avoid keeping the input\u001b[0m\u001b[0;34m\u001b[0m\u001b[0;34m\u001b[0m\u001b[0;34m\u001b[0m\u001b[0m\n\u001b[1;32m    571\u001b[0m         \u001b[0;31m# arguments in memory\u001b[0m\u001b[0;34m\u001b[0m\u001b[0;34m\u001b[0m\u001b[0;34m\u001b[0m\u001b[0m\n\u001b[0;32m--> 572\u001b[0;31m         \u001b[0mself\u001b[0m\u001b[0;34m.\u001b[0m\u001b[0mresults\u001b[0m \u001b[0;34m=\u001b[0m \u001b[0mbatch\u001b[0m\u001b[0;34m(\u001b[0m\u001b[0;34m)\u001b[0m\u001b[0;34m\u001b[0m\u001b[0;34m\u001b[0m\u001b[0m\n\u001b[0m\u001b[1;32m    573\u001b[0m \u001b[0;34m\u001b[0m\u001b[0m\n\u001b[1;32m    574\u001b[0m     \u001b[0;32mdef\u001b[0m \u001b[0mget\u001b[0m\u001b[0;34m(\u001b[0m\u001b[0mself\u001b[0m\u001b[0;34m)\u001b[0m\u001b[0;34m:\u001b[0m\u001b[0;34m\u001b[0m\u001b[0;34m\u001b[0m\u001b[0m\n",
      "\u001b[0;32m~/.local/lib/python3.6/site-packages/joblib/parallel.py\u001b[0m in \u001b[0;36m__call__\u001b[0;34m(self)\u001b[0m\n\u001b[1;32m    251\u001b[0m         \u001b[0;32mwith\u001b[0m \u001b[0mparallel_backend\u001b[0m\u001b[0;34m(\u001b[0m\u001b[0mself\u001b[0m\u001b[0;34m.\u001b[0m\u001b[0m_backend\u001b[0m\u001b[0;34m,\u001b[0m \u001b[0mn_jobs\u001b[0m\u001b[0;34m=\u001b[0m\u001b[0mself\u001b[0m\u001b[0;34m.\u001b[0m\u001b[0m_n_jobs\u001b[0m\u001b[0;34m)\u001b[0m\u001b[0;34m:\u001b[0m\u001b[0;34m\u001b[0m\u001b[0;34m\u001b[0m\u001b[0m\n\u001b[1;32m    252\u001b[0m             return [func(*args, **kwargs)\n\u001b[0;32m--> 253\u001b[0;31m                     for func, args, kwargs in self.items]\n\u001b[0m\u001b[1;32m    254\u001b[0m \u001b[0;34m\u001b[0m\u001b[0m\n\u001b[1;32m    255\u001b[0m     \u001b[0;32mdef\u001b[0m \u001b[0m__reduce__\u001b[0m\u001b[0;34m(\u001b[0m\u001b[0mself\u001b[0m\u001b[0;34m)\u001b[0m\u001b[0;34m:\u001b[0m\u001b[0;34m\u001b[0m\u001b[0;34m\u001b[0m\u001b[0m\n",
      "\u001b[0;32m~/.local/lib/python3.6/site-packages/joblib/parallel.py\u001b[0m in \u001b[0;36m<listcomp>\u001b[0;34m(.0)\u001b[0m\n\u001b[1;32m    251\u001b[0m         \u001b[0;32mwith\u001b[0m \u001b[0mparallel_backend\u001b[0m\u001b[0;34m(\u001b[0m\u001b[0mself\u001b[0m\u001b[0;34m.\u001b[0m\u001b[0m_backend\u001b[0m\u001b[0;34m,\u001b[0m \u001b[0mn_jobs\u001b[0m\u001b[0;34m=\u001b[0m\u001b[0mself\u001b[0m\u001b[0;34m.\u001b[0m\u001b[0m_n_jobs\u001b[0m\u001b[0;34m)\u001b[0m\u001b[0;34m:\u001b[0m\u001b[0;34m\u001b[0m\u001b[0;34m\u001b[0m\u001b[0m\n\u001b[1;32m    252\u001b[0m             return [func(*args, **kwargs)\n\u001b[0;32m--> 253\u001b[0;31m                     for func, args, kwargs in self.items]\n\u001b[0m\u001b[1;32m    254\u001b[0m \u001b[0;34m\u001b[0m\u001b[0m\n\u001b[1;32m    255\u001b[0m     \u001b[0;32mdef\u001b[0m \u001b[0m__reduce__\u001b[0m\u001b[0;34m(\u001b[0m\u001b[0mself\u001b[0m\u001b[0;34m)\u001b[0m\u001b[0;34m:\u001b[0m\u001b[0;34m\u001b[0m\u001b[0;34m\u001b[0m\u001b[0m\n",
      "\u001b[0;32m~/.local/lib/python3.6/site-packages/sklearn/model_selection/_validation.py\u001b[0m in \u001b[0;36m_fit_and_score\u001b[0;34m(estimator, X, y, scorer, train, test, verbose, parameters, fit_params, return_train_score, return_parameters, return_n_test_samples, return_times, return_estimator, error_score)\u001b[0m\n\u001b[1;32m    529\u001b[0m             \u001b[0mestimator\u001b[0m\u001b[0;34m.\u001b[0m\u001b[0mfit\u001b[0m\u001b[0;34m(\u001b[0m\u001b[0mX_train\u001b[0m\u001b[0;34m,\u001b[0m \u001b[0;34m**\u001b[0m\u001b[0mfit_params\u001b[0m\u001b[0;34m)\u001b[0m\u001b[0;34m\u001b[0m\u001b[0;34m\u001b[0m\u001b[0m\n\u001b[1;32m    530\u001b[0m         \u001b[0;32melse\u001b[0m\u001b[0;34m:\u001b[0m\u001b[0;34m\u001b[0m\u001b[0;34m\u001b[0m\u001b[0m\n\u001b[0;32m--> 531\u001b[0;31m             \u001b[0mestimator\u001b[0m\u001b[0;34m.\u001b[0m\u001b[0mfit\u001b[0m\u001b[0;34m(\u001b[0m\u001b[0mX_train\u001b[0m\u001b[0;34m,\u001b[0m \u001b[0my_train\u001b[0m\u001b[0;34m,\u001b[0m \u001b[0;34m**\u001b[0m\u001b[0mfit_params\u001b[0m\u001b[0;34m)\u001b[0m\u001b[0;34m\u001b[0m\u001b[0;34m\u001b[0m\u001b[0m\n\u001b[0m\u001b[1;32m    532\u001b[0m \u001b[0;34m\u001b[0m\u001b[0m\n\u001b[1;32m    533\u001b[0m     \u001b[0;32mexcept\u001b[0m \u001b[0mException\u001b[0m \u001b[0;32mas\u001b[0m \u001b[0me\u001b[0m\u001b[0;34m:\u001b[0m\u001b[0;34m\u001b[0m\u001b[0;34m\u001b[0m\u001b[0m\n",
      "\u001b[0;32m~/.local/lib/python3.6/site-packages/sklearn/pipeline.py\u001b[0m in \u001b[0;36mfit\u001b[0;34m(self, X, y, **fit_params)\u001b[0m\n\u001b[1;32m    333\u001b[0m             \u001b[0;32mif\u001b[0m \u001b[0mself\u001b[0m\u001b[0;34m.\u001b[0m\u001b[0m_final_estimator\u001b[0m \u001b[0;34m!=\u001b[0m \u001b[0;34m'passthrough'\u001b[0m\u001b[0;34m:\u001b[0m\u001b[0;34m\u001b[0m\u001b[0;34m\u001b[0m\u001b[0m\n\u001b[1;32m    334\u001b[0m                 \u001b[0mfit_params_last_step\u001b[0m \u001b[0;34m=\u001b[0m \u001b[0mfit_params_steps\u001b[0m\u001b[0;34m[\u001b[0m\u001b[0mself\u001b[0m\u001b[0;34m.\u001b[0m\u001b[0msteps\u001b[0m\u001b[0;34m[\u001b[0m\u001b[0;34m-\u001b[0m\u001b[0;36m1\u001b[0m\u001b[0;34m]\u001b[0m\u001b[0;34m[\u001b[0m\u001b[0;36m0\u001b[0m\u001b[0;34m]\u001b[0m\u001b[0;34m]\u001b[0m\u001b[0;34m\u001b[0m\u001b[0;34m\u001b[0m\u001b[0m\n\u001b[0;32m--> 335\u001b[0;31m                 \u001b[0mself\u001b[0m\u001b[0;34m.\u001b[0m\u001b[0m_final_estimator\u001b[0m\u001b[0;34m.\u001b[0m\u001b[0mfit\u001b[0m\u001b[0;34m(\u001b[0m\u001b[0mXt\u001b[0m\u001b[0;34m,\u001b[0m \u001b[0my\u001b[0m\u001b[0;34m,\u001b[0m \u001b[0;34m**\u001b[0m\u001b[0mfit_params_last_step\u001b[0m\u001b[0;34m)\u001b[0m\u001b[0;34m\u001b[0m\u001b[0;34m\u001b[0m\u001b[0m\n\u001b[0m\u001b[1;32m    336\u001b[0m \u001b[0;34m\u001b[0m\u001b[0m\n\u001b[1;32m    337\u001b[0m         \u001b[0;32mreturn\u001b[0m \u001b[0mself\u001b[0m\u001b[0;34m\u001b[0m\u001b[0;34m\u001b[0m\u001b[0m\n",
      "\u001b[0;32m~/.local/lib/python3.6/site-packages/sklearn/ensemble/_forest.py\u001b[0m in \u001b[0;36mfit\u001b[0;34m(self, X, y, sample_weight)\u001b[0m\n\u001b[1;32m    390\u001b[0m                     \u001b[0mverbose\u001b[0m\u001b[0;34m=\u001b[0m\u001b[0mself\u001b[0m\u001b[0;34m.\u001b[0m\u001b[0mverbose\u001b[0m\u001b[0;34m,\u001b[0m \u001b[0mclass_weight\u001b[0m\u001b[0;34m=\u001b[0m\u001b[0mself\u001b[0m\u001b[0;34m.\u001b[0m\u001b[0mclass_weight\u001b[0m\u001b[0;34m,\u001b[0m\u001b[0;34m\u001b[0m\u001b[0;34m\u001b[0m\u001b[0m\n\u001b[1;32m    391\u001b[0m                     n_samples_bootstrap=n_samples_bootstrap)\n\u001b[0;32m--> 392\u001b[0;31m                 for i, t in enumerate(trees))\n\u001b[0m\u001b[1;32m    393\u001b[0m \u001b[0;34m\u001b[0m\u001b[0m\n\u001b[1;32m    394\u001b[0m             \u001b[0;31m# Collect newly grown trees\u001b[0m\u001b[0;34m\u001b[0m\u001b[0;34m\u001b[0m\u001b[0;34m\u001b[0m\u001b[0m\n",
      "\u001b[0;32m~/.local/lib/python3.6/site-packages/joblib/parallel.py\u001b[0m in \u001b[0;36m__call__\u001b[0;34m(self, iterable)\u001b[0m\n\u001b[1;32m   1030\u001b[0m                 \u001b[0mself\u001b[0m\u001b[0;34m.\u001b[0m\u001b[0m_iterating\u001b[0m \u001b[0;34m=\u001b[0m \u001b[0mself\u001b[0m\u001b[0;34m.\u001b[0m\u001b[0m_original_iterator\u001b[0m \u001b[0;32mis\u001b[0m \u001b[0;32mnot\u001b[0m \u001b[0;32mNone\u001b[0m\u001b[0;34m\u001b[0m\u001b[0;34m\u001b[0m\u001b[0m\n\u001b[1;32m   1031\u001b[0m \u001b[0;34m\u001b[0m\u001b[0m\n\u001b[0;32m-> 1032\u001b[0;31m             \u001b[0;32mwhile\u001b[0m \u001b[0mself\u001b[0m\u001b[0;34m.\u001b[0m\u001b[0mdispatch_one_batch\u001b[0m\u001b[0;34m(\u001b[0m\u001b[0miterator\u001b[0m\u001b[0;34m)\u001b[0m\u001b[0;34m:\u001b[0m\u001b[0;34m\u001b[0m\u001b[0;34m\u001b[0m\u001b[0m\n\u001b[0m\u001b[1;32m   1033\u001b[0m                 \u001b[0;32mpass\u001b[0m\u001b[0;34m\u001b[0m\u001b[0;34m\u001b[0m\u001b[0m\n\u001b[1;32m   1034\u001b[0m \u001b[0;34m\u001b[0m\u001b[0m\n",
      "\u001b[0;32m~/.local/lib/python3.6/site-packages/joblib/parallel.py\u001b[0m in \u001b[0;36mdispatch_one_batch\u001b[0;34m(self, iterator)\u001b[0m\n\u001b[1;32m    845\u001b[0m                 \u001b[0;32mreturn\u001b[0m \u001b[0;32mFalse\u001b[0m\u001b[0;34m\u001b[0m\u001b[0;34m\u001b[0m\u001b[0m\n\u001b[1;32m    846\u001b[0m             \u001b[0;32melse\u001b[0m\u001b[0;34m:\u001b[0m\u001b[0;34m\u001b[0m\u001b[0;34m\u001b[0m\u001b[0m\n\u001b[0;32m--> 847\u001b[0;31m                 \u001b[0mself\u001b[0m\u001b[0;34m.\u001b[0m\u001b[0m_dispatch\u001b[0m\u001b[0;34m(\u001b[0m\u001b[0mtasks\u001b[0m\u001b[0;34m)\u001b[0m\u001b[0;34m\u001b[0m\u001b[0;34m\u001b[0m\u001b[0m\n\u001b[0m\u001b[1;32m    848\u001b[0m                 \u001b[0;32mreturn\u001b[0m \u001b[0;32mTrue\u001b[0m\u001b[0;34m\u001b[0m\u001b[0;34m\u001b[0m\u001b[0m\n\u001b[1;32m    849\u001b[0m \u001b[0;34m\u001b[0m\u001b[0m\n",
      "\u001b[0;32m~/.local/lib/python3.6/site-packages/joblib/parallel.py\u001b[0m in \u001b[0;36m_dispatch\u001b[0;34m(self, batch)\u001b[0m\n\u001b[1;32m    763\u001b[0m         \u001b[0;32mwith\u001b[0m \u001b[0mself\u001b[0m\u001b[0;34m.\u001b[0m\u001b[0m_lock\u001b[0m\u001b[0;34m:\u001b[0m\u001b[0;34m\u001b[0m\u001b[0;34m\u001b[0m\u001b[0m\n\u001b[1;32m    764\u001b[0m             \u001b[0mjob_idx\u001b[0m \u001b[0;34m=\u001b[0m \u001b[0mlen\u001b[0m\u001b[0;34m(\u001b[0m\u001b[0mself\u001b[0m\u001b[0;34m.\u001b[0m\u001b[0m_jobs\u001b[0m\u001b[0;34m)\u001b[0m\u001b[0;34m\u001b[0m\u001b[0;34m\u001b[0m\u001b[0m\n\u001b[0;32m--> 765\u001b[0;31m             \u001b[0mjob\u001b[0m \u001b[0;34m=\u001b[0m \u001b[0mself\u001b[0m\u001b[0;34m.\u001b[0m\u001b[0m_backend\u001b[0m\u001b[0;34m.\u001b[0m\u001b[0mapply_async\u001b[0m\u001b[0;34m(\u001b[0m\u001b[0mbatch\u001b[0m\u001b[0;34m,\u001b[0m \u001b[0mcallback\u001b[0m\u001b[0;34m=\u001b[0m\u001b[0mcb\u001b[0m\u001b[0;34m)\u001b[0m\u001b[0;34m\u001b[0m\u001b[0;34m\u001b[0m\u001b[0m\n\u001b[0m\u001b[1;32m    766\u001b[0m             \u001b[0;31m# A job can complete so quickly than its callback is\u001b[0m\u001b[0;34m\u001b[0m\u001b[0;34m\u001b[0m\u001b[0;34m\u001b[0m\u001b[0m\n\u001b[1;32m    767\u001b[0m             \u001b[0;31m# called before we get here, causing self._jobs to\u001b[0m\u001b[0;34m\u001b[0m\u001b[0;34m\u001b[0m\u001b[0;34m\u001b[0m\u001b[0m\n",
      "\u001b[0;32m~/.local/lib/python3.6/site-packages/joblib/_parallel_backends.py\u001b[0m in \u001b[0;36mapply_async\u001b[0;34m(self, func, callback)\u001b[0m\n\u001b[1;32m    206\u001b[0m     \u001b[0;32mdef\u001b[0m \u001b[0mapply_async\u001b[0m\u001b[0;34m(\u001b[0m\u001b[0mself\u001b[0m\u001b[0;34m,\u001b[0m \u001b[0mfunc\u001b[0m\u001b[0;34m,\u001b[0m \u001b[0mcallback\u001b[0m\u001b[0;34m=\u001b[0m\u001b[0;32mNone\u001b[0m\u001b[0;34m)\u001b[0m\u001b[0;34m:\u001b[0m\u001b[0;34m\u001b[0m\u001b[0;34m\u001b[0m\u001b[0m\n\u001b[1;32m    207\u001b[0m         \u001b[0;34m\"\"\"Schedule a func to be run\"\"\"\u001b[0m\u001b[0;34m\u001b[0m\u001b[0;34m\u001b[0m\u001b[0m\n\u001b[0;32m--> 208\u001b[0;31m         \u001b[0mresult\u001b[0m \u001b[0;34m=\u001b[0m \u001b[0mImmediateResult\u001b[0m\u001b[0;34m(\u001b[0m\u001b[0mfunc\u001b[0m\u001b[0;34m)\u001b[0m\u001b[0;34m\u001b[0m\u001b[0;34m\u001b[0m\u001b[0m\n\u001b[0m\u001b[1;32m    209\u001b[0m         \u001b[0;32mif\u001b[0m \u001b[0mcallback\u001b[0m\u001b[0;34m:\u001b[0m\u001b[0;34m\u001b[0m\u001b[0;34m\u001b[0m\u001b[0m\n\u001b[1;32m    210\u001b[0m             \u001b[0mcallback\u001b[0m\u001b[0;34m(\u001b[0m\u001b[0mresult\u001b[0m\u001b[0;34m)\u001b[0m\u001b[0;34m\u001b[0m\u001b[0;34m\u001b[0m\u001b[0m\n",
      "\u001b[0;32m~/.local/lib/python3.6/site-packages/joblib/_parallel_backends.py\u001b[0m in \u001b[0;36m__init__\u001b[0;34m(self, batch)\u001b[0m\n\u001b[1;32m    570\u001b[0m         \u001b[0;31m# Don't delay the application, to avoid keeping the input\u001b[0m\u001b[0;34m\u001b[0m\u001b[0;34m\u001b[0m\u001b[0;34m\u001b[0m\u001b[0m\n\u001b[1;32m    571\u001b[0m         \u001b[0;31m# arguments in memory\u001b[0m\u001b[0;34m\u001b[0m\u001b[0;34m\u001b[0m\u001b[0;34m\u001b[0m\u001b[0m\n\u001b[0;32m--> 572\u001b[0;31m         \u001b[0mself\u001b[0m\u001b[0;34m.\u001b[0m\u001b[0mresults\u001b[0m \u001b[0;34m=\u001b[0m \u001b[0mbatch\u001b[0m\u001b[0;34m(\u001b[0m\u001b[0;34m)\u001b[0m\u001b[0;34m\u001b[0m\u001b[0;34m\u001b[0m\u001b[0m\n\u001b[0m\u001b[1;32m    573\u001b[0m \u001b[0;34m\u001b[0m\u001b[0m\n\u001b[1;32m    574\u001b[0m     \u001b[0;32mdef\u001b[0m \u001b[0mget\u001b[0m\u001b[0;34m(\u001b[0m\u001b[0mself\u001b[0m\u001b[0;34m)\u001b[0m\u001b[0;34m:\u001b[0m\u001b[0;34m\u001b[0m\u001b[0;34m\u001b[0m\u001b[0m\n",
      "\u001b[0;32m~/.local/lib/python3.6/site-packages/joblib/parallel.py\u001b[0m in \u001b[0;36m__call__\u001b[0;34m(self)\u001b[0m\n\u001b[1;32m    251\u001b[0m         \u001b[0;32mwith\u001b[0m \u001b[0mparallel_backend\u001b[0m\u001b[0;34m(\u001b[0m\u001b[0mself\u001b[0m\u001b[0;34m.\u001b[0m\u001b[0m_backend\u001b[0m\u001b[0;34m,\u001b[0m \u001b[0mn_jobs\u001b[0m\u001b[0;34m=\u001b[0m\u001b[0mself\u001b[0m\u001b[0;34m.\u001b[0m\u001b[0m_n_jobs\u001b[0m\u001b[0;34m)\u001b[0m\u001b[0;34m:\u001b[0m\u001b[0;34m\u001b[0m\u001b[0;34m\u001b[0m\u001b[0m\n\u001b[1;32m    252\u001b[0m             return [func(*args, **kwargs)\n\u001b[0;32m--> 253\u001b[0;31m                     for func, args, kwargs in self.items]\n\u001b[0m\u001b[1;32m    254\u001b[0m \u001b[0;34m\u001b[0m\u001b[0m\n\u001b[1;32m    255\u001b[0m     \u001b[0;32mdef\u001b[0m \u001b[0m__reduce__\u001b[0m\u001b[0;34m(\u001b[0m\u001b[0mself\u001b[0m\u001b[0;34m)\u001b[0m\u001b[0;34m:\u001b[0m\u001b[0;34m\u001b[0m\u001b[0;34m\u001b[0m\u001b[0m\n",
      "\u001b[0;32m~/.local/lib/python3.6/site-packages/joblib/parallel.py\u001b[0m in \u001b[0;36m<listcomp>\u001b[0;34m(.0)\u001b[0m\n\u001b[1;32m    251\u001b[0m         \u001b[0;32mwith\u001b[0m \u001b[0mparallel_backend\u001b[0m\u001b[0;34m(\u001b[0m\u001b[0mself\u001b[0m\u001b[0;34m.\u001b[0m\u001b[0m_backend\u001b[0m\u001b[0;34m,\u001b[0m \u001b[0mn_jobs\u001b[0m\u001b[0;34m=\u001b[0m\u001b[0mself\u001b[0m\u001b[0;34m.\u001b[0m\u001b[0m_n_jobs\u001b[0m\u001b[0;34m)\u001b[0m\u001b[0;34m:\u001b[0m\u001b[0;34m\u001b[0m\u001b[0;34m\u001b[0m\u001b[0m\n\u001b[1;32m    252\u001b[0m             return [func(*args, **kwargs)\n\u001b[0;32m--> 253\u001b[0;31m                     for func, args, kwargs in self.items]\n\u001b[0m\u001b[1;32m    254\u001b[0m \u001b[0;34m\u001b[0m\u001b[0m\n\u001b[1;32m    255\u001b[0m     \u001b[0;32mdef\u001b[0m \u001b[0m__reduce__\u001b[0m\u001b[0;34m(\u001b[0m\u001b[0mself\u001b[0m\u001b[0;34m)\u001b[0m\u001b[0;34m:\u001b[0m\u001b[0;34m\u001b[0m\u001b[0;34m\u001b[0m\u001b[0m\n",
      "\u001b[0;32m~/.local/lib/python3.6/site-packages/sklearn/ensemble/_forest.py\u001b[0m in \u001b[0;36m_parallel_build_trees\u001b[0;34m(tree, forest, X, y, sample_weight, tree_idx, n_trees, verbose, class_weight, n_samples_bootstrap)\u001b[0m\n\u001b[1;32m    168\u001b[0m         \u001b[0mtree\u001b[0m\u001b[0;34m.\u001b[0m\u001b[0mfit\u001b[0m\u001b[0;34m(\u001b[0m\u001b[0mX\u001b[0m\u001b[0;34m,\u001b[0m \u001b[0my\u001b[0m\u001b[0;34m,\u001b[0m \u001b[0msample_weight\u001b[0m\u001b[0;34m=\u001b[0m\u001b[0mcurr_sample_weight\u001b[0m\u001b[0;34m,\u001b[0m \u001b[0mcheck_input\u001b[0m\u001b[0;34m=\u001b[0m\u001b[0;32mFalse\u001b[0m\u001b[0;34m)\u001b[0m\u001b[0;34m\u001b[0m\u001b[0;34m\u001b[0m\u001b[0m\n\u001b[1;32m    169\u001b[0m     \u001b[0;32melse\u001b[0m\u001b[0;34m:\u001b[0m\u001b[0;34m\u001b[0m\u001b[0;34m\u001b[0m\u001b[0m\n\u001b[0;32m--> 170\u001b[0;31m         \u001b[0mtree\u001b[0m\u001b[0;34m.\u001b[0m\u001b[0mfit\u001b[0m\u001b[0;34m(\u001b[0m\u001b[0mX\u001b[0m\u001b[0;34m,\u001b[0m \u001b[0my\u001b[0m\u001b[0;34m,\u001b[0m \u001b[0msample_weight\u001b[0m\u001b[0;34m=\u001b[0m\u001b[0msample_weight\u001b[0m\u001b[0;34m,\u001b[0m \u001b[0mcheck_input\u001b[0m\u001b[0;34m=\u001b[0m\u001b[0;32mFalse\u001b[0m\u001b[0;34m)\u001b[0m\u001b[0;34m\u001b[0m\u001b[0;34m\u001b[0m\u001b[0m\n\u001b[0m\u001b[1;32m    171\u001b[0m \u001b[0;34m\u001b[0m\u001b[0m\n\u001b[1;32m    172\u001b[0m     \u001b[0;32mreturn\u001b[0m \u001b[0mtree\u001b[0m\u001b[0;34m\u001b[0m\u001b[0;34m\u001b[0m\u001b[0m\n",
      "\u001b[0;32m~/.local/lib/python3.6/site-packages/sklearn/tree/_classes.py\u001b[0m in \u001b[0;36mfit\u001b[0;34m(self, X, y, sample_weight, check_input, X_idx_sorted)\u001b[0m\n\u001b[1;32m    892\u001b[0m             \u001b[0msample_weight\u001b[0m\u001b[0;34m=\u001b[0m\u001b[0msample_weight\u001b[0m\u001b[0;34m,\u001b[0m\u001b[0;34m\u001b[0m\u001b[0;34m\u001b[0m\u001b[0m\n\u001b[1;32m    893\u001b[0m             \u001b[0mcheck_input\u001b[0m\u001b[0;34m=\u001b[0m\u001b[0mcheck_input\u001b[0m\u001b[0;34m,\u001b[0m\u001b[0;34m\u001b[0m\u001b[0;34m\u001b[0m\u001b[0m\n\u001b[0;32m--> 894\u001b[0;31m             X_idx_sorted=X_idx_sorted)\n\u001b[0m\u001b[1;32m    895\u001b[0m         \u001b[0;32mreturn\u001b[0m \u001b[0mself\u001b[0m\u001b[0;34m\u001b[0m\u001b[0;34m\u001b[0m\u001b[0m\n\u001b[1;32m    896\u001b[0m \u001b[0;34m\u001b[0m\u001b[0m\n",
      "\u001b[0;32m~/.local/lib/python3.6/site-packages/sklearn/tree/_classes.py\u001b[0m in \u001b[0;36mfit\u001b[0;34m(self, X, y, sample_weight, check_input, X_idx_sorted)\u001b[0m\n\u001b[1;32m    180\u001b[0m         \u001b[0;32mif\u001b[0m \u001b[0mis_classification\u001b[0m\u001b[0;34m:\u001b[0m\u001b[0;34m\u001b[0m\u001b[0;34m\u001b[0m\u001b[0m\n\u001b[1;32m    181\u001b[0m             \u001b[0mcheck_classification_targets\u001b[0m\u001b[0;34m(\u001b[0m\u001b[0my\u001b[0m\u001b[0;34m)\u001b[0m\u001b[0;34m\u001b[0m\u001b[0;34m\u001b[0m\u001b[0m\n\u001b[0;32m--> 182\u001b[0;31m             \u001b[0my\u001b[0m \u001b[0;34m=\u001b[0m \u001b[0mnp\u001b[0m\u001b[0;34m.\u001b[0m\u001b[0mcopy\u001b[0m\u001b[0;34m(\u001b[0m\u001b[0my\u001b[0m\u001b[0;34m)\u001b[0m\u001b[0;34m\u001b[0m\u001b[0;34m\u001b[0m\u001b[0m\n\u001b[0m\u001b[1;32m    183\u001b[0m \u001b[0;34m\u001b[0m\u001b[0m\n\u001b[1;32m    184\u001b[0m             \u001b[0mself\u001b[0m\u001b[0;34m.\u001b[0m\u001b[0mclasses_\u001b[0m \u001b[0;34m=\u001b[0m \u001b[0;34m[\u001b[0m\u001b[0;34m]\u001b[0m\u001b[0;34m\u001b[0m\u001b[0;34m\u001b[0m\u001b[0m\n",
      "\u001b[0;32m<__array_function__ internals>\u001b[0m in \u001b[0;36mcopy\u001b[0;34m(*args, **kwargs)\u001b[0m\n",
      "\u001b[0;32m~/anaconda3/lib/python3.6/site-packages/numpy/lib/function_base.py\u001b[0m in \u001b[0;36mcopy\u001b[0;34m(a, order, subok)\u001b[0m\n\u001b[1;32m    790\u001b[0m \u001b[0;34m\u001b[0m\u001b[0m\n\u001b[1;32m    791\u001b[0m     \"\"\"\n\u001b[0;32m--> 792\u001b[0;31m     \u001b[0;32mreturn\u001b[0m \u001b[0marray\u001b[0m\u001b[0;34m(\u001b[0m\u001b[0ma\u001b[0m\u001b[0;34m,\u001b[0m \u001b[0morder\u001b[0m\u001b[0;34m=\u001b[0m\u001b[0morder\u001b[0m\u001b[0;34m,\u001b[0m \u001b[0msubok\u001b[0m\u001b[0;34m=\u001b[0m\u001b[0msubok\u001b[0m\u001b[0;34m,\u001b[0m \u001b[0mcopy\u001b[0m\u001b[0;34m=\u001b[0m\u001b[0;32mTrue\u001b[0m\u001b[0;34m)\u001b[0m\u001b[0;34m\u001b[0m\u001b[0;34m\u001b[0m\u001b[0m\n\u001b[0m\u001b[1;32m    793\u001b[0m \u001b[0;34m\u001b[0m\u001b[0m\n\u001b[1;32m    794\u001b[0m \u001b[0;31m# Basic operations\u001b[0m\u001b[0;34m\u001b[0m\u001b[0;34m\u001b[0m\u001b[0;34m\u001b[0m\u001b[0m\n",
      "\u001b[0;31mKeyboardInterrupt\u001b[0m: "
     ]
    }
   ],
   "source": [
    "## Hyperparameter Tuning for Random Forest on Topic feature ##\n",
    "\n",
    "# Number of trees in random forest\n",
    "n_estimators = [int(x) for x in np.linspace(start = 200, stop = 1000, num = 100)]\n",
    "\n",
    "# Number of features to consider at every split\n",
    "max_features = ['auto', 'sqrt']\n",
    "\n",
    "# Maximum number of levels in tree\n",
    "max_depth = [int(x) for x in np.linspace(10, 110, num = 21)]\n",
    "max_depth.append(None)\n",
    "\n",
    "# Minimum number of samples required to split a node\n",
    "min_samples_split = [2, 5, 10]\n",
    "\n",
    "# Minimum number of samples required at each leaf node\n",
    "min_samples_leaf = [1, 2, 4]\n",
    "\n",
    "# Method of selecting samples for training each tree\n",
    "bootstrap = [True, False]\n",
    "\n",
    "# Create the random grid\n",
    "random_grid = {'rf__n_estimators': n_estimators,\n",
    "               'rf__max_features': max_features,\n",
    "               'rf__max_depth': max_depth,\n",
    "               'rf__min_samples_split': min_samples_split,\n",
    "               'rf__min_samples_leaf': min_samples_leaf,\n",
    "               'rf__bootstrap': bootstrap}\n",
    "print(random_grid)\n",
    "\n",
    "## Pipeline ##\n",
    "\n",
    "# we use the RandomForestClassifier object rf defined previously\n",
    "pipe_rf_topic = Pipeline(steps=[('tfidf', tfidf_vectorizer_base), ('rf', rf)])\n",
    "\n",
    "\n",
    "## Use the random grid to search for best hyperparameters ##\n",
    "\n",
    "# Random search of parameters, using 3 fold cross validation, \n",
    "# search across 100 different combinations, and use all available cores\n",
    "rf_random = RandomizedSearchCV(estimator = pipe_rf_topic, \n",
    "                               param_distributions = random_grid, \n",
    "                               n_iter = 100, \n",
    "                               cv = sss, \n",
    "                               verbose=2, \n",
    "                               random_state=2905, \n",
    "                               #n_jobs = -1\n",
    "                              )\n",
    "# Fit the random search model\n",
    "start = time()\n",
    "rf_random.fit(X[\"text\"], y_topic)\n",
    "\n",
    "print(\"RandomizedSearchCV for RandomForestClassifier on Topic feature: \\ntook %.2f seconds for %d candidates\"\n",
    "      \" parameter settings.\" % ((time() - start), n_iter_search))\n",
    "\n",
    "print(rf_random.best_params_)\n",
    "report(rf_random.cv_results_)\n"
   ]
  },
  {
   "cell_type": "raw",
   "metadata": {},
   "source": [
    "__Results!__\n",
    "\n",
    "RandomizedSearchCV for RandomForestClassifier on Topic feature: \n",
    "took 2186.39 seconds for 10 candidates parameter settings.\n",
    "{'rf__n_estimators': 337, 'rf__min_samples_split': 10, 'rf__min_samples_leaf': 1, 'rf__max_features': 'sqrt', 'rf__max_depth': 65, 'rf__bootstrap': True}\n",
    "Model with rank: 1\n",
    "Mean validation score: 0.474 (std: 0.031)\n",
    "Parameters: {'rf__n_estimators': 337, 'rf__min_samples_split': 10, 'rf__min_samples_leaf': 1, 'rf__max_features': 'sqrt', 'rf__max_depth': 65, 'rf__bootstrap': True}\n",
    "\n",
    "Model with rank: 2\n",
    "Mean validation score: 0.471 (std: 0.030)\n",
    "Parameters: {'rf__n_estimators': 402, 'rf__min_samples_split': 5, 'rf__min_samples_leaf': 1, 'rf__max_features': 'auto', 'rf__max_depth': 70, 'rf__bootstrap': True}\n",
    "\n",
    "Model with rank: 2\n",
    "Mean validation score: 0.471 (std: 0.025)\n",
    "Parameters: {'rf__n_estimators': 919, 'rf__min_samples_split': 5, 'rf__min_samples_leaf': 2, 'rf__max_features': 'auto', 'rf__max_depth': 10, 'rf__bootstrap': False}\n",
    "\n",
    "Model with rank: 2\n",
    "Mean validation score: 0.471 (std: 0.028)\n",
    "\n",
    "Best model:\n",
    "\n",
    "Parameters: {'rf__n_estimators': 967, 'rf__min_samples_split': 10, 'rf__min_samples_leaf': 1, 'rf__max_features': 'auto', 'rf__max_depth': 15, 'rf__bootstrap': True}\n"
   ]
  },
  {
   "cell_type": "code",
   "execution_count": null,
   "metadata": {},
   "outputs": [],
   "source": [
    "## Hyperparameter Tuning for Random Forest on Geo feature ##\n",
    "\n",
    "# Number of trees in random forest\n",
    "n_estimators = [int(x) for x in np.linspace(start = 200, stop = 1000, num = 100)]\n",
    "\n",
    "# Number of features to consider at every split\n",
    "max_features = ['auto', 'sqrt']\n",
    "\n",
    "# Maximum number of levels in tree\n",
    "max_depth = [int(x) for x in np.linspace(10, 110, num = 21)]\n",
    "max_depth.append(None)\n",
    "\n",
    "# Minimum number of samples required to split a node\n",
    "min_samples_split = [2, 5, 10]\n",
    "\n",
    "# Minimum number of samples required at each leaf node\n",
    "min_samples_leaf = [1, 2, 4]\n",
    "\n",
    "# Method of selecting samples for training each tree\n",
    "bootstrap = [True, False]\n",
    "\n",
    "# Create the random grid\n",
    "random_grid = {'rf__n_estimators': n_estimators,\n",
    "               'rf__max_features': max_features,\n",
    "               'rf__max_depth': max_depth,\n",
    "               'rf__min_samples_split': min_samples_split,\n",
    "               'rf__min_samples_leaf': min_samples_leaf,\n",
    "               'rf__bootstrap': bootstrap}\n",
    "print(random_grid)\n",
    "\n",
    "## Pipeline ##\n",
    "\n",
    "# we use the RandomForestClassifier object rf defined previously\n",
    "pipe_rf_topic = Pipeline(steps=[('tfidf', tfidf_vectorizer_vocab), ('rf', rf)])\n",
    "\n",
    "\n",
    "## Use the random grid to search for best hyperparameters ##\n",
    "\n",
    "# Random search of parameters, using 3 fold cross validation, \n",
    "# search across 100 different combinations, and use all available cores\n",
    "rf_random = RandomizedSearchCV(estimator = pipe_rf_topic, \n",
    "                               param_distributions = random_grid, \n",
    "                               n_iter = 100, \n",
    "                               cv = sss, \n",
    "                               verbose=2, \n",
    "                               random_state=2905, \n",
    "                               #n_jobs = -1\n",
    "                              )\n",
    "# Fit the random search model\n",
    "start = time()\n",
    "rf_random.fit(X[\"text\"], y_topic)\n",
    "\n",
    "print(\"RandomizedSearchCV for RandomForestClassifier on Geo feature: \\ntook %.2f seconds for %d candidates\"\n",
    "      \" parameter settings.\" % ((time() - start), n_iter_search))\n",
    "\n",
    "print(rf_random.best_params_)\n",
    "report(rf_random.cv_results_)\n"
   ]
  },
  {
   "cell_type": "raw",
   "metadata": {},
   "source": [
    "## Hyperparameter Tuning for Random Forest on Geo feature ##\n",
    "\n",
    "Results\n",
    "\n",
    "Model with rank: 1\n",
    "Mean validation score: 0.458 (std: 0.031)\n",
    "Parameters: {'rf__n_estimators': 563, 'rf__min_samples_split': 2, 'rf__min_samples_leaf': 4, 'rf__max_features': 'auto', 'rf__max_depth': 95, 'rf__bootstrap': True}\n",
    "\n",
    "Model with rank: 1\n",
    "Mean validation score: 0.458 (std: 0.036)\n",
    "Parameters: {'rf__n_estimators': 240, 'rf__min_samples_split': 10, 'rf__min_samples_leaf': 4, 'rf__max_features': 'sqrt', 'rf__max_depth': 90, 'rf__bootstrap': True}\n",
    "\n",
    "Model with rank: 1\n",
    "Mean validation score: 0.458 (std: 0.035)\n",
    "Parameters: {'rf__n_estimators': 288, 'rf__min_samples_split': 5, 'rf__min_samples_leaf': 4, 'rf__max_features': 'sqrt', 'rf__max_depth': 45, 'rf__bootstrap': True}"
   ]
  },
  {
   "cell_type": "markdown",
   "metadata": {},
   "source": [
    "__Summary__\n",
    "\n",
    "a. `Topic` multiclass classifier \n",
    "\n",
    "Best performance achieved with logistic regression + basic word-level tfidf:\n",
    "\n",
    "* penalty = elasticnet, solver=saga \n",
    "    * Mean validation score: 0.479 (std: 0.012)\n",
    "    * Parameters: {'logisticR__C': 1.8620777171647571, 'logisticR__l1_ratio': 0.08964905142835955, 'logisticR__penalty': 'elasticnet', 'logisticR__solver': 'saga'}\n",
    "* penalty = l2, solver=lbfgs\n",
    "    * Mean validation score: 0.474 (std: 0.014)\n",
    "    * Parameters: {'logisticR__C': 1.6910388216086767}\n",
    "    \n",
    "b. `Geo` multiclass classifier\n",
    "\n",
    "Best performance achieved with random forest + entity-based tfidf:\n",
    "\n",
    "* Mean validation score: 0.458 (std: 0.031)\n",
    "* Parameters: {'rf__n_estimators': 563, 'rf__min_samples_split': 2, 'rf__min_samples_leaf': 4, 'rf__max_features': 'auto', 'rf__max_depth': 95, 'rf__bootstrap': True}\n"
   ]
  },
  {
   "cell_type": "markdown",
   "metadata": {},
   "source": [
    "__How to improve ?__\n",
    "\n",
    "- dimensionality reduction: is it possible to apply scaling + PCA ? \n",
    "   * [Issue]: a sparse matrix can't be used as input for Naive Bayes, Scaling or PCA. \n",
    "   * [Resolved](https://stackoverflow.com/questions/28384680/scikit-learns-pipeline-a-sparse-matrix-was-passed-but-dense-data-is-required) by using .todense() on sparse matrix \n",
    "   * Effect: doesn't improve classification, needs >3 times the time to converge with the new representation.\n",
    "\n",
    "- one vs all classification : have a binary classifier for each class\n",
    "\n",
    "- fined-tuned vocabulary : enrich with TIME and ORG entities ? \n",
    "\n",
    "- Most and foremost : need for *more articles* and *a better balanced dataset*\n",
    "\n",
    "__Additional ideas (new features)__\n",
    "\n",
    "- add the articles's date as a feature ? how to combine it to the tfidf matrix?\n"
   ]
  },
  {
   "cell_type": "code",
   "execution_count": null,
   "metadata": {},
   "outputs": [],
   "source": []
  }
 ],
 "metadata": {
  "kernelspec": {
   "display_name": "Python 3",
   "language": "python",
   "name": "python3"
  },
  "language_info": {
   "codemirror_mode": {
    "name": "ipython",
    "version": 3
   },
   "file_extension": ".py",
   "mimetype": "text/x-python",
   "name": "python",
   "nbconvert_exporter": "python",
   "pygments_lexer": "ipython3",
   "version": "3.6.7"
  }
 },
 "nbformat": 4,
 "nbformat_minor": 2
}
