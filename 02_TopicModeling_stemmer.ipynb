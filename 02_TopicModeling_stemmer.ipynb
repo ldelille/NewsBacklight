{
 "cells": [
  {
   "cell_type": "markdown",
   "metadata": {},
   "source": [
    "# Topic Modeling\n",
    "\n",
    "The goal of this notebook is two-fold:\n",
    "* identify the main topics of the corpus through LDA and clustering (unsupervised approach)\n",
    "* train a text classifier based on these topics (supervised learning).\n",
    "\n",
    "### Contents\n",
    "\n",
    "__Preliminaries__\n",
    "* a. Overview of text modeling techniques\n",
    "* b. Imports\n",
    "\n",
    "__1. LDA__\n",
    "\n",
    "__2. Clustering__\n",
    "* a. Tf-Idf for Clustering\n",
    "* b. K-Means\n",
    "\n",
    "__3. Supervised topic classifiers__\n",
    "* add the details\n",
    "\n",
    "What's next"
   ]
  },
  {
   "cell_type": "markdown",
   "metadata": {},
   "source": [
    "# Preliminaries"
   ]
  },
  {
   "cell_type": "markdown",
   "metadata": {},
   "source": [
    "__a. Overview of text modeling techniques__\n",
    "\n",
    "* [LDA](https://towardsdatascience.com/end-to-end-topic-modeling-in-python-latent-dirichlet-allocation-lda-35ce4ed6b3e0)\n",
    "\n",
    "* Clustering. In order to build clusters we have to transform our news articles into a numerical representation that models can handle. Here we go for old good tf-idf vectors (we will test more state-of-the-art techniques in the next steps). Algorithms: K-Means and DBSCAN seem like the most relevant options to begin with.\n",
    "\n",
    "* ?"
   ]
  },
  {
   "cell_type": "markdown",
   "metadata": {},
   "source": [
    "__b. Imports__\n",
    "\n",
    "If you don't have already done so, please download these NLTK dependancies by running the following lines:\n",
    "\n",
    "> nltk.download('wordnet')\n",
    "\n",
    "> nltk.download('stopwords')"
   ]
  },
  {
   "cell_type": "code",
   "execution_count": 28,
   "metadata": {},
   "outputs": [
    {
     "name": "stdout",
     "output_type": "stream",
     "text": [
      "fr_core_news_sm loaded\n"
     ]
    }
   ],
   "source": [
    "# Classic packages\n",
    "\n",
    "import os \n",
    "import pandas as pd\n",
    "import matplotlib.pyplot as plt\n",
    "import numpy as np\n",
    "from collections import Counter\n",
    "import random \n",
    "random.seed(a=2905) # set random seed \n",
    "import pickle\n",
    "import re\n",
    "from scipy import stats\n",
    "from time import time\n",
    "\n",
    "# NLP packages\n",
    "\n",
    "import gensim\n",
    "from gensim import corpora\n",
    "\n",
    "from wordcloud import WordCloud\n",
    "\n",
    "import spacy\n",
    "try: \n",
    "    print(\"fr_core_news_sm loaded\")\n",
    "    nlp = spacy.load(\"fr_core_news_sm\") # load pre-trained models for French\n",
    "except:\n",
    "    print(\"fr loaded\")\n",
    "    nlp=spacy.load('fr') # fr calls fr_core_news_sm \n",
    "from spacy.lang.fr import French\n",
    "\n",
    "import nltk\n",
    "from nltk.corpus import wordnet as wn\n",
    "from nltk.stem.wordnet import WordNetLemmatizer # not adapted to French?\n",
    "from nltk.stem.snowball import FrenchStemmer # already something \n",
    "# --> Lemmatizer would be better --> use spaCy lemmatizer\n",
    "\n",
    "# ML with sklearn\n",
    "import sklearn.cluster\n",
    "from sklearn.feature_extraction.text import TfidfTransformer, CountVectorizer \n",
    "from sklearn.feature_extraction.text import  TfidfVectorizer\n",
    "from sklearn.pipeline import Pipeline\n",
    "from sklearn.linear_model import LogisticRegression\n",
    "from sklearn.naive_bayes import GaussianNB\n",
    "from sklearn.ensemble import RandomForestClassifier\n",
    "from sklearn.svm import LinearSVC\n",
    "from sklearn.metrics import classification_report\n",
    "from sklearn.model_selection import GridSearchCV, RandomizedSearchCV\n",
    "from sklearn.svm import SVC\n",
    "from sklearn.decomposition import PCA\n",
    "from sklearn.model_selection import StratifiedShuffleSplit\n",
    "from sklearn.preprocessing import StandardScaler, MinMaxScaler\n",
    "from sklearn.compose import make_column_selector\n",
    "from sklearn.model_selection import cross_val_score\n",
    "from sklearn.base import TransformerMixin\n",
    "from sklearn.cluster import KMeans\n",
    "#from sklearn.metrics import adjusted_rand_score(labels_true, labels_pred)\n",
    "from sklearn.metrics import silhouette_score"
   ]
  },
  {
   "cell_type": "code",
   "execution_count": 29,
   "metadata": {},
   "outputs": [],
   "source": [
    "# data\n",
    "news_df=pd.read_csv(\"./articles.csv\")"
   ]
  },
  {
   "cell_type": "markdown",
   "metadata": {},
   "source": [
    "# 1. Latent Dirichlet Allocation (LDA)\n",
    "\n",
    "\n",
    "Main idea: Each document is represented as a distribution over topics, and each topic is represented as a distribution over words.\n",
    "Here we do not set the number of topics in advance, we rather set it arbitrarily like a threshold and see if the results are relevant.\n",
    "\n",
    "Code freely adapted from this [TDS post](https://towardsdatascience.com/topic-modelling-in-python-with-nltk-and-gensim-4ef03213cd21).\n",
    "\n"
   ]
  },
  {
   "cell_type": "markdown",
   "metadata": {},
   "source": [
    "__Text cleaning for LDA__\n",
    "\n",
    "* tokenize words (here using spacy parser for French)\n",
    "* lemmatize (using NLTK WordNetLemmatizer)\n",
    "* stopwords removal (using the default NLTK stopwords list for French)\n",
    "* apply pipeline on titles and text bodies"
   ]
  },
  {
   "cell_type": "code",
   "execution_count": 30,
   "metadata": {},
   "outputs": [
    {
     "name": "stdout",
     "output_type": "stream",
     "text": [
      "['il', 'était', 'une', 'fois', 'dans', \"l'\", 'ouest', ',', 'une', 'troupe', 'de', 'cowboys', 'intrépides', '.']\n",
      "['URL', '/', 'notebooks/02_topicmodeling.ipynb']\n",
      "['eva.feillet', 'student.ecp.fr']\n",
      "['all']\n"
     ]
    }
   ],
   "source": [
    "## spacy LDA\n",
    "\n",
    "#spacy.load('fr')\n",
    "#from spacy.lang.fr import French\n",
    "parser = French()\n",
    "\n",
    "def tokenize(text):\n",
    "    lda_tokens = []\n",
    "    tokens = parser(text)\n",
    "    for token in tokens:\n",
    "        if token.orth_.isspace():\n",
    "            continue\n",
    "        elif token.like_url:\n",
    "            lda_tokens.append('URL')\n",
    "        elif '@' in str(token):\n",
    "            lda_tokens+=str(token).split('@')\n",
    "        else:\n",
    "            lda_tokens.append(token.lower_)\n",
    "    return [t for t in lda_tokens if len(str(t))>0]\n",
    "\n",
    "# test\n",
    "# we see it's basically a conversion of the words from the split sentence into lower case\n",
    "# but actually there is more under the hood because of the use of a parser\n",
    "print(tokenize(\"Il était une fois dans l'Ouest, une troupe de cowboys intrépides.\"))\n",
    "print(tokenize('http://localhost:8888/notebooks/02_TopicModeling.ipynb'))\n",
    "print(tokenize('eva.feillet@student.ecp.fr'))\n",
    "print(tokenize('@all'))"
   ]
  },
  {
   "cell_type": "code",
   "execution_count": 31,
   "metadata": {},
   "outputs": [
    {
     "name": "stdout",
     "output_type": "stream",
     "text": [
      "{'aient', 'pas', 'soixante', 'aviez', 'ce', 'qui', 'eut', 'auront', 'as', 'deux', 'ces', 'votre', 'par', 'étaient', 'cinquante', 'où', 'qu', 'étiez', 'nos', 'étantes', 'eusses', 'aurons', 'autre', 'ait', 'eusse', 'm', 'j', 'soyez', 'moi', 'es', 'ma', 'que', 'quatre', 'd', 'eux', 'ils', 'la', 'alors', 'donc', 'ont', 'est', 'on', 'serais', 'fusse', 'aurez', 'seraient', 'soit', 'seras', 'eu', 'cet', 'étés', 'vos', 'eurent', 'fut', 'avez', 'les', 'suis', 'y', 'serai', 'en', 'furent', 'trente', 'eût', 'tu', 'sept', 'à', 'avec', 'étions', 'nous', 'mes', 'quarante', 'le', 'son', 'l', 'aurions', 'aie', 'aurais', 'une', 'quand', 'mais', 'ta', 'avant', 'te', 'sois', 'au', 'treize', 'de', 'eussiez', 'car', 'fût', 'ou', 'vingt', 'elle', 'été', 'des', 'serez', 'seront', 'même', 'après', 'eus', 'ainsi', 'me', 'je', 'ses', 'étais', 'avons', 'vous', 'comme', 'celui', 'aies', 'fussiez', 'celui-là', 'aurait', 'se', 'ayez', 'avions', 'sommes', 'sa', 'ayante', 'serions', 'notre', 'serons', 'eussions', 'neuf', 'seriez', 'douze', 't', 'fus', 'fussent', 'ayant', 'eues', 'huit', 'celui-ci', 'soyons', 'c', 'six', 'ni', 'trois', 'cette', 'pour', 'étée', 'était', 'dix', 'eûmes', 'soient', 'quinze', 'un', 'et', 'il', 'étante', 'avaient', 'aurai', 'être', 'étant', 'avais', 'fûmes', 'ayantes', 'ai', 'seize', 'fûtes', 'leur', 'sera', 'eussent', 'avoir', 'toi', 'quoi', 'faire', 'avait', 'sur', 'du', 'étants', 'ayants', 'auriez', 'tes', 'eûtes', 'fussions', 'fusses', 'or', 'êtes', 's', 'sont', 'serait', 'mon', 'ayons', 'depuis', 'ton', 'ne', 'auraient', 'aura', 'cinq', 'cent', 'aux', 'onze', 'dans', 'n', 'lui', 'auras', 'étées', 'quatorze', 'eue'}\n"
     ]
    }
   ],
   "source": [
    "# stopwords removal\n",
    "\n",
    "#v0 : basic list\n",
    "fr_stop = set(nltk.corpus.stopwords.words('french'))\n",
    "\n",
    "#v1 : numbers\n",
    "my_fr_stop=fr_stop.union({'un' ,'deux','trois','quatre','cinq','six','sept','huit','neuf','dix',\n",
    "                          'onze', 'douze', 'treize','quatorze', 'quinze', 'seize', \n",
    "                          'vingt', 'trente', 'quarante', 'cinquante','soixante','cent'}, fr_stop)\n",
    "#v2 : conj + det + verbs\n",
    "my_fr_stop=my_fr_stop.union({'ce', 'celui', 'cette', 'cet', 'celui-là', 'celui-ci', \n",
    "                          'le', 'la', 'les', 'de', 'des', 'du',\n",
    "                          'mais', 'où', 'et', 'donc', 'or', 'ni', 'car', 'depuis', 'quand', 'que', 'qui', 'quoi',\n",
    "                          'ainsi', 'alors', 'avant', 'après', 'comme', \n",
    "                          'être', 'avoir', 'faire', \n",
    "                          'autre'})\n",
    "\n",
    "#'mille'  'million' 'milliard' 'billion' are not added to the stopwords list because they are more discriminative\n",
    "\n",
    "print(my_fr_stop)"
   ]
  },
  {
   "cell_type": "code",
   "execution_count": 32,
   "metadata": {},
   "outputs": [
    {
     "name": "stdout",
     "output_type": "stream",
     "text": [
      "'python 3' => 'python'\n",
      "'python3' => 'python3'\n",
      "'1something' => '1something'\n",
      "'1 something' => 'something'\n",
      "'2' => ''\n",
      "'434' => ''\n",
      "'python 35' => 'python'\n",
      "'1 ' => ''\n",
      "' 232' => ''\n"
     ]
    }
   ],
   "source": [
    "# example: digit removal with regex\n",
    "words = ['python 3', 'python3', '1something', '1 something', '2', '434', 'python 35', '1 ', ' 232']\n",
    "for word in words:\n",
    "    print(\"'{}' => '{}'\".format(word, re.sub(r'\\b\\d+\\b', '', word).strip(' ')))\n"
   ]
  },
  {
   "cell_type": "markdown",
   "metadata": {},
   "source": [
    "We would prefer to use the lemmas over the stems because they tend to be more informative and closer to the actual root word."
   ]
  },
  {
   "cell_type": "code",
   "execution_count": 33,
   "metadata": {},
   "outputs": [
    {
     "name": "stdout",
     "output_type": "stream",
     "text": [
      "\n",
      "Lemmas\n",
      "les --> le\n",
      "manifestations --> manifestation\n",
      "qui --> qui\n",
      "ont --> avoir\n",
      "agitées --> agiter\n",
      "la --> le\n",
      "France --> France\n",
      "ces --> ce\n",
      "derniers --> dernier\n",
      "mois --> mois\n",
      "\n",
      "Stems\n",
      "les --> le\n",
      "manifestations --> manifest\n",
      "qui --> qui\n",
      "ont --> ont\n",
      "agitées --> agit\n",
      "la --> la\n",
      "France --> franc\n",
      "ces --> ce\n",
      "derniers --> derni\n",
      "mois --> mois\n",
      "\n",
      "Lemmas\n",
      "Tintin --> tintin\n",
      "dans --> dans\n",
      "l' --> le\n",
      "espace --> espace\n",
      "a --> avoir\n",
      "quitté --> quitter\n",
      "la --> le\n",
      "France --> France\n",
      "il --> il\n",
      "n' --> n'\n",
      "aura --> avoir\n",
      "plus --> plus\n",
      "besoin --> besoin\n",
      "de --> de\n",
      "francs --> franc\n",
      "\n",
      "Stems\n",
      "Tintin --> tintin\n",
      "dans --> dan\n",
      "l'espace --> l'espac\n",
      "a --> a\n",
      "quitté --> quitt\n",
      "la --> la\n",
      "France --> franc\n",
      "il --> il\n",
      "n'aura --> n'aur\n",
      "plus --> plus\n",
      "besoin --> besoin\n",
      "de --> de\n",
      "francs --> franc\n"
     ]
    }
   ],
   "source": [
    "# Comparison: nltk french stemmer vs spacy french lemmatizer\n",
    "\n",
    "# spacy\n",
    "print(\"\\nLemmas\")\n",
    "doc = nlp(u\"les manifestations qui ont agitées la France ces derniers mois\")\n",
    "for token in doc:\n",
    "    print(token, '-->', token.lemma_)\n",
    "print(\"\\nStems\")\n",
    "stemmer = FrenchStemmer()\n",
    "for w in \"les manifestations qui ont agitées la France ces derniers mois\".split():\n",
    "    print(w, '-->', stemmer.stem(w))\n",
    "    \n",
    "## ?? espac / espace \n",
    "print(\"\\nLemmas\")\n",
    "doc = nlp(u\"Tintin dans l'espace a quitté la France il n'aura plus besoin de francs\")\n",
    "for token in doc:\n",
    "    print(token, '-->', token.lemma_)\n",
    "print(\"\\nStems\")\n",
    "stemmer = FrenchStemmer()\n",
    "for w in \"Tintin dans l'espace a quitté la France il n'aura plus besoin de francs\".split():\n",
    "    print(w, '-->', stemmer.stem(w))\n"
   ]
  },
  {
   "cell_type": "markdown",
   "metadata": {},
   "source": [
    "In fact there is some weird reproductibility issue happening with the spacy lemmatizer (see example with word \"espace\" repeated in a sentence). So in the end we go for the nltk French stemmer."
   ]
  },
  {
   "cell_type": "code",
   "execution_count": 34,
   "metadata": {},
   "outputs": [
    {
     "name": "stdout",
     "output_type": "stream",
     "text": [
      "\n",
      "\n",
      "Remaining tokens :  ['tintin', 'espace', 'espace', 'espace']\n",
      "['tintin', 'espac', 'espace', 'espacer']\n",
      "\n",
      "\n",
      "Remaining tokens :  ['manifestations', 'agitées', 'france', 'derniers', 'mois']\n",
      "['manifestation', 'agité', 'france', 'dernier', 'mois']\n",
      "\n",
      "\n",
      "Remaining tokens :  ['semaines', 'station', 'soviétique', 'jean-loup', 'chrétien', 'premier', 'ouest-européen', 'sortir', 'espace', 'espace', 'tintin', 'espace']\n",
      "['semaine', 'station', 'soviétique', 'jean-loup', 'chrétien', 'premier', 'ouest-européen', 'sortir', 'espace', 'espace', 'tintin', 'espac']\n"
     ]
    }
   ],
   "source": [
    "# Preprocessing  routine\n",
    "\n",
    "def prepare_text_lemma(text):\n",
    "    \"\"\"\n",
    "    Input:\n",
    "    ------\n",
    "    text: string, raw text\n",
    "    \n",
    "    Output:\n",
    "    ------\n",
    "    tokens: list of string, tokenized, filtered and lemmatized words from the input text\n",
    "    \"\"\"\n",
    "    tokens = tokenize(text) # parsing, split and lower case\n",
    "    tokens=[re.sub(r'\\b\\d+\\b', '', token).strip(' ') for token in tokens] # get rid of digits\n",
    "    tokens = [token for token in tokens if len(token) > 3] # arbitrary length, +get rid of empty strings\n",
    "    tokens = [token for token in tokens if token not in my_fr_stop] # stopwords\n",
    "    print(\"Remaining tokens : \", tokens)\n",
    "    doc = nlp(' '.join(tokens)) # pave the way for spacy lemmatizer\n",
    "    tokens = [t.lemma_ for t in doc] # obtain lemmas\n",
    "    return tokens  \n",
    "\n",
    "print(\"\\n\")\n",
    "print(prepare_text_lemma(\"Tintin dans l'espace espace l'espace\"))\n",
    "print(\"\\n\")\n",
    "print(prepare_text_lemma(\"les manifestations qui ont agitées la France ces derniers mois\"))\n",
    "print(\"\\n\")\n",
    "print(prepare_text_lemma(\"semaines station soviétique jean-loup chrétien premier ouest-européen sortir dans l'espace espace Tintin dans l'espace\"))"
   ]
  },
  {
   "cell_type": "code",
   "execution_count": 35,
   "metadata": {},
   "outputs": [
    {
     "name": "stdout",
     "output_type": "stream",
     "text": [
      "\n",
      "\n",
      "['tintin', 'espac', 'espac', 'espac']\n",
      "\n",
      "\n",
      "['manifest', 'agit', 'franc', 'derni', 'mois']\n",
      "\n",
      "\n",
      "['semain', 'station', 'soviet', 'jean-loup', 'chrétien', 'premi', 'ouest-européen', 'sort', 'espac', 'espac', 'tintin', 'espac']\n"
     ]
    }
   ],
   "source": [
    "def prepare_text_stem(text):\n",
    "    \"\"\"\n",
    "    Input:\n",
    "    ------\n",
    "    text: string, raw text\n",
    "    \n",
    "    Output:\n",
    "    ------\n",
    "    tokens: list of string, tokenized, filtered and lemmatized words from the input text\n",
    "    \"\"\"\n",
    "    tokens = tokenize(text) # split and lower case\n",
    "    tokens=[re.sub(r'\\b\\d+\\b', '', token).strip(' ') for token in tokens] # get rid of digits\n",
    "    tokens = [token for token in tokens if len(token) > 3] # arbitrary length, +get rid of empty strings\n",
    "    tokens = [token for token in tokens if token not in my_fr_stop] # stopwords\n",
    "    #print(\"Remaining tokens : \", tokens)\n",
    "    tokens = [stemmer.stem(token) for token in tokens] # obtain lemmas\n",
    "    return tokens  \n",
    "\n",
    "print(\"\\n\")\n",
    "print(prepare_text_stem(\"Tintin dans l'espace espace l'espace\"))\n",
    "print(\"\\n\")\n",
    "print(prepare_text_stem(\"les manifestations qui ont agitées la France ces derniers mois\"))\n",
    "print(\"\\n\")\n",
    "print(prepare_text_stem(\"semaines station soviétique jean-loup chrétien premier ouest-européen sortir dans l'espace espace Tintin dans l'espace\"))"
   ]
  },
  {
   "cell_type": "markdown",
   "metadata": {},
   "source": [
    "Finally. we apply this preprocessing routine to our corpus (titles+bodies)."
   ]
  },
  {
   "cell_type": "code",
   "execution_count": 36,
   "metadata": {},
   "outputs": [
    {
     "name": "stdout",
     "output_type": "stream",
     "text": [
      "0    Tintin dans l'espace\n",
      "Name: title, dtype: object\n",
      "[['tintin', 'espac']]\n",
      "0    Trois semaines à bord de la station soviétique...\n",
      "Name: text, dtype: object\n",
      "['semain', 'bord', 'station', 'soviet', 'jean-loup', 'chrétien', 'premi', 'ouest-européen', 'sort', 'espac']\n"
     ]
    }
   ],
   "source": [
    "title_tokens = []\n",
    "text_tokens = []\n",
    "\n",
    "## Apply on titles ##\n",
    "\n",
    "for t in news_df.title:\n",
    "    tokens = prepare_text_stem(t)\n",
    "    title_tokens.append(tokens)\n",
    "        \n",
    "## Apply on titles ##\n",
    "\n",
    "for t in news_df.text:\n",
    "    tokens = prepare_text_stem(t)\n",
    "    text_tokens.append(tokens)\n",
    "\n",
    "print(news_df.title[:1])        \n",
    "print(title_tokens[:1])\n",
    "print(news_df.text[:1][:20])  \n",
    "print(text_tokens[0][:10])"
   ]
  },
  {
   "cell_type": "markdown",
   "metadata": {},
   "source": [
    "__Visualize results with a wordcloud__\n",
    "\n",
    "We can control the quality of our preprocessing by plotting a wordcloud.\n",
    "\n",
    "We are satisfied by the quality of the processed titles since most of the words we see are nouns eligible as key words to describe an article.\n",
    "There is still room for improvement  on the side of article bodies (we spot a few link words, noun articles and adverbs we could get rid of through the stopwords list).\n",
    "\n",
    "//*Eventuellement on enrichira la liste de stopwords pour éliminer ces mots. Cependant, comme ils sont communs et donc peu discriminants, on peut espérer que leur score tf-idf sera en général relativement bas, et donc qu'ils seront éliminés du vocabulaire par la suite.*//"
   ]
  },
  {
   "cell_type": "code",
   "execution_count": 37,
   "metadata": {},
   "outputs": [
    {
     "data": {
      "image/png": "[encoded data removed]",
      "text/plain": [
       "<PIL.Image.Image image mode=RGB size=400x200 at 0x7FD7BAAEF898>"
      ]
     },
     "execution_count": 37,
     "metadata": {},
     "output_type": "execute_result"
    }
   ],
   "source": [
    "\n",
    "# Join the different processed titles together.\n",
    "long_string = ','.join(list([' '.join(word_list_i) for word_list_i in title_tokens]))\n",
    "# Create a WordCloud object\n",
    "wordcloud = WordCloud(background_color=\"white\", max_words=5000, contour_width=3, contour_color='steelblue')\n",
    "# Generate a word cloud\n",
    "wordcloud.generate(long_string)\n",
    "# Visualize the word cloud\n",
    "wordcloud.to_image()"
   ]
  },
  {
   "cell_type": "code",
   "execution_count": 38,
   "metadata": {},
   "outputs": [
    {
     "data": {
      "image/png": "[encoded data removed]",
      "text/plain": [
       "<PIL.Image.Image image mode=RGB size=400x200 at 0x7FD7B3730B70>"
      ]
     },
     "execution_count": 38,
     "metadata": {},
     "output_type": "execute_result"
    }
   ],
   "source": [
    "# Same for article bodies\n",
    "# Join the different processed texts together.\n",
    "long_string = ','.join(list([' '.join(word_list_i) for word_list_i in text_tokens]))\n",
    "# Create a WordCloud object\n",
    "wordcloud = WordCloud(background_color=\"white\", max_words=5000, contour_width=3, contour_color='steelblue')\n",
    "# Generate a word cloud\n",
    "wordcloud.generate(long_string)\n",
    "# Visualize the word cloud\n",
    "wordcloud.to_image()"
   ]
  },
  {
   "cell_type": "markdown",
   "metadata": {},
   "source": [
    "__Perform LDA with Gensim__\n",
    "\n",
    "Fixage arbitraire du nombre de topics, comme on fixerait arbitrairement k dans un k-means."
   ]
  },
  {
   "cell_type": "code",
   "execution_count": 39,
   "metadata": {},
   "outputs": [],
   "source": [
    "dic_title = corpora.Dictionary(title_tokens)\n",
    "dic_text = corpora.Dictionary(text_tokens)\n",
    "corpus_title = [dic_title.doc2bow(token) for token in title_tokens]\n",
    "corpus_text = [dic_text.doc2bow(token) for token in text_tokens]\n",
    "\n",
    "pickle.dump(corpus_title, open('corpus_title.pkl', 'wb'))\n",
    "dic_title.save('dic_title.gensim')\n",
    "pickle.dump(corpus_title, open('corpus_text.pkl', 'wb'))\n",
    "dic_text.save('dic_text.gensim')"
   ]
  },
  {
   "cell_type": "code",
   "execution_count": 40,
   "metadata": {},
   "outputs": [
    {
     "name": "stdout",
     "output_type": "stream",
     "text": [
      "['espac', 'tintin', 'boulin', 'faux', 'robert', 'suicid', 'certitud', 'contr', 'pierr', 'mercred', 'otag', 'soir', 'soudain', 'planet', 'roug', 'secret', 'abou', 'ammar', 'forc', 'march', 'champion', 'discret', 'olymp', 'quinon', 'alger', 'faillit', 'sangl', 'israël', 'mois', 'ébranl', 'homm', 'objet', 'pong', 'bess', 'georg', 'mort', 'pourquoi', 'africain', 'longu', 'mémoir', 'aid', 'malgr', 'tout', 'antigon', 'benaz', 'bhutto', 'janvi', 'pakistan', 'soupçon', 'triangl', 'campagn', 'ombre', 'darwin', 'tromp', 'dayan', 'symbol', 'div', 'impopulair', 'lead', 'péres', 'shimon', 'exclus', 'fin', 'penh', 'phnom', 'témoignag', 'expliqu', 'simon', 'veil', 'bureau', 'informat', 'livr', 'jérusalem', 'nouveau', 'seul', 'chopinet', 'mlle', 'express', 'paul', 'retrouv', 'touvi', 'nas', 'sous', 'tutel', 'agent', 'fauss', 'franc', 'star', 'vrais', 'complex', 'pinochet', 'san', 'challeng', 'dram', 'beineix', 'fait', 'tilt', 'coluch', 'nourrici', 'per', 'marchandag', 'rat', 'terror', 'enquêt', 'jug', 'reprend', 'espagn', 'goytisolo', 'sarrasin', 'attentat', 'blanco', 'carrero', 'décembr', 'avort', 'médecin', 'peur', 'pein', 'hors-la-loi', 'extrait', 'guerr', 'kippour', 'front', 'arafat', 'intronis', 'yass', 'femm', 'pouvoir', 'hearst', 'nouvel', 'patrici', 'épisod', 'appel', 'ambul', 'tir', 'feuilleton', 'dib', 'ethnologu', 'pascal', 'tribu', 'douc', 'manifest', 'novembr', 'retour', 'tchécoslovaqu', 'août', 'pologn', 'solidar', 'bocal', 'énigm', 'abbé', 'destin', 'sacr', 'capital', 'mar', 'ouvr', 'del', 'fuit', 'ozon', 'chadl', 'joker', 'faucon', 'têt', 'futur', 'oued', 'noiret', 'taverni', 'union', 'jour', 'pékin', 'tiananmen', 'droit', 'famin', 'château', 'havel', 'prison', 'vaclav', 'banquerout', 'mathieu', 'selon', 'pann', 'urss', 'revanch', 'serb', 'chargeur', 'réun', 'coup', 'jeun', 'enver', 'parad', 'chin', 'libert', 'typhon', 'enfant', 'saint-laurent', 'trist', 'yve', 'burguer', 'méthod', 'baton', 'carott', 'couet', 'degr', 'carthag', 'rêv', 'intemporel', 'chang', 'cris', 'japon', 'paysan', 'plouc', 'carrefour', 'scienc', 'conclus', 'heureux', 'liaison', 'croisad', 'mafi', 'papal', 'guignol', 'info', 'au-dessus', 'concerte', 'impossibl', 'recess', 'repons', 'ham', 'occup', 'territoir', 'hain', 'mill', 'normal', 'nuit', 'chiffr', 'querel', 'masquent', 'tarif', 'transparent', 'envah', 'europ', 'chomag', 'bien', 'comment', 'ger', 'imag', 'mammifer', 'éton', 'polit', 'social', 'limit', 'amour', 'reper', 'quel', 'étranger', 'euroscept', 'mont', 'sang', 'terr', 'fac', 'paix', 'atmospher', 'drôl', 'progres', 'rag', 'histoir', 'négoci', 'carton', 'jaun', 'tapi', 'agenc', 'assoc', 'consigny', 'directeur', 'lund', 'octobr', 'oper', 'publicit', 'thierry', 'bazar', 'econom', 'russ', 'compact', 'irest', 'tet', 'charlot', 'napp', 'parl', 'pouv', 'idyll', 'staccato', 'bours', 'apec', 'press', 'courri', 'lecteur', 'bois', 'vert', 'spirituel', 'cred', 'encor', 'lyon', 'tuil', 'découvert', 'indispens', 'las', 'hermon', 'michel', 'util', 'néglig', 'tort', 'bernard', 'madagascar1853', 'ucla', 'justic', 'prix', 'orgueil', 'franchis', 'heur', 'vérit', 'chaos', 'devon', 'victoir', 'afriqu', 'continent', 'miet', 'célin', 'l.-f.', 'nord', 'amer', 'capitain', 'grand', 'cameroun', 'deuxiem', 'cent', 'méti', 'cherchent', 'patron', 'repreneur', 'influenc', 'debat', 'interd', 'interet', 'taux', 'joyal', 'éternel', 'guiloineau', 'jean', 'mandel', 'nelson', 'implac', 'sant', 'intemper', 'temper', 'carnag', 'rével', 'renseign', 'cours', 'decodeur', 'méphisto', 'evalu', 'pet', 'sort', 'bor', 'eltsin', 'malad', 'dollar', 'baiss', 'gandois', 'salair', 'dijon', 'fêtard', 'italien', 'surmont', 'pantomim', 'port-au-princ', 'librair', 'impitoi', 'univer', 'sud-ouest', 'trêv', 'reten', 'embel', 'flaconnag', 'bless', 'dresd', 'licenc', 'priorit', 'reembauchag', 'salar', 'vagu', 'diplomat', 'quotidien', 'faill', 'perdr', 'exces', 'royaum', 'américain', 'etap', 'atteint', 'cim', 'minitel', 'diam', 'fantôm', 'asi', 'central', 'combourg', 'ceris', 'elle', 'levr', 'chant', 'dieux', 'yakout', 'astérix', 'theodor', 'zeldin', 'dilu', 'epope', 'eurotunnel', 'our', 'étreint', 'frangl', 'lexiqu', 'managerial', 'eternel', 'lumier', 'presqu', 'aéropostal', 'bouilloux', 'lafont', 'marcel', 'calvet', 'epuis', 'imprec', 'rol', 'choix', 'paris', 'banan', 'nabab', 'pay', 'island', 'kangaroo', 'revivr', 'combien', 'emploi', 'offre', 'stabilis', 'compt', 'légend', 'ancien', 'frem', 'essec', 'mard', 'suiss', 'feuill', 'impot', 'suiv', 'départ', 'apollo', 'mond', 'juillet', 'saut', 'désorm', 'misent', 'nigérian', 'lun', 'vivr', 'peupl', 'répress', 'alarm', 'faut', 'supprim', 'budapest', 'sartr', 'dout', 'semain', 'densit', 'implant', 'rebel', 'clef', 'psychanalys', 'bord', 'bollardi', 'combat', 'général', 'gagn', 'gourion', 'point', 'français', 'léon', 'mazurat', 'victim', 'edgar', 'morin', 'choreg', 'enjeu', 'médi', 'entre', 'racin', 'saveur', 'senteur', 'chanti', 'septennat', 'bon', 'dev', 'inégal', 'plais', 'syndic', 'apre', 'abbas', 'algerien', 'ferhat', 'utop', 'cabl', 'menac', 'satel', 'camp', 'horreur', 'naz', 'guet', 'tour', 'defic', 'rien', 'banlieu', 'vivi', 'suédois', 'humanitair', 'janin', 'ochojsk', 'pédagog', 'aim', 'financi', 'client', 'cultur', 'flamb', 'noum', 'vol', 'verbatim', 'cos', 'mutat', 'nostr', 'immigr', 'affair', 'révélon', 'budgetair', 'control', 'har', 'kir', 'class', 'mod', 'charismat', 'ministr', 'premi', 'québec', 'mensong', 'prisonni', 'dejouany', 'examen', 'berlin', 'doigt', 'cadr', 'etre', 'fier', 'partiel', 'temp', 'charl', 'matern', 'professeur', 'ren', 'rudigoz', 'sag', 'des', 'lorsqu', 'paraît', 'rebond', 'chirac', 'miroir', 'associ', 'collim', '-nous', 'joi', 'bien-êtr', 'combin', 'milliard', 'langag', 'exposit', 'leçon', 'societ', 'voir', 'émiss', 'film', 'pub', 'commun', 'jurassic', 'park', 'lénin', 'colon', 'préoccupent', 'khmer', 'bagarr', 'beb', 'budget', 'polici', 'écran', 'gent', 'interess', 'supporter', 'esclav', 'martyr', 'demenag', 'suff', 'sureffect', 'gaz', 'long', 'plus', 'syndicat', 'veulent', 'petit', 'phras', 'gustat', 'voyag', 'c?ur', 'françois', 'giroud', 'tigr', 'mauv', 'signal', 'brevet', 'vampir', 'ital', 'moral', 'ordre', 'dort', 'guid', 'jazz', 'vill', 'elys', 'étrang', 'antimissil', 'laser', 'orbit', 'concert', 'virtuel', 'héritag', 'rabin', 'institutionnel', 'trac', 'badint', 'eichmann', 'proces', 'kennedy', 'contingent', 'o.a.s.', 'programmm', 'etat', 'piao', 'otan', 'bark', 'rec', 'tu', 'témoin', 'chinois', 'culturel', 'regard', 'révolu', 'chapeau', 'rou', 'envoi', 'spécial', 'tres', 'jean-mar', 'vrai', 'lam', 'stepp', 'gag', 'volont', 'innov', 'vitamin', 'aller', 'jusqu', 'ponction', 'pourr', 'defient', 'gouvern', 'boom', 'tourism', 'accor', 'choc', 'strateg', \"'europ\", 'pari', 'tzigan', 'veut', 'engrenag', 'medecin', 'sall', 'irremplac', 'mendes', 'meurtri', 'accord', 'renault', 'volvo', 'cour', 'international', 'elizabeth', 'taylor', 'competitivit', 'prefer', 'productivit', 'directric', 'costum', 'marzotto', 'philipp', 'portr', 'séguin', 'disciplin', 'inflat', 'lesfranc', 'quiachang', 'minc', 'respons', 'ber', 'bercy', 'laiss', 'marqu', 'commiss', 'offens', 'orient', 'pacif', 'proch', 'empir', 'lev', 'men', 'soleil', 'train', 'exod', 'rout', 'allemand', 'regl', 'sauvag', 'tueur', 'attendent', 'islam', 'poid', 'gold', 'espoir', 'illus', 'dir', 'détect', 'marguerit', 'moïs', 'demain', 'kanaky', 'tjibaou', 'hont', 'vall', 'lettr', 'jam', 'yamit', 'cactus', 'sinaï', 'autr', 'jean-pierr', 'écart', 'acteur', 'désengag', 'avril', 'financ', 'retrait', 'ambiguït', 'mis', 'chez', 'holm', 'moin', 'sherlock', 'doubl', 'désastr', 'assassinat', 'bertrand', 'cambodg', 'goulag', 'bédouin', 'glac', 'commando', 'suit', 'henry', 'patrick', 'lrgoun', 'décid', 'euthanas', 'peut', 'schwartzenberg', 'condamn', 'augusto', 'cess', 'verdict', 'sham', 'soldat', 'second', 'bibliothequ', 'dumberto', 'arriv', 'pauvr', 'faim', 'génocid', 'burgos', 'biafr', \"jusqu'\", 'étern', 'parachut', 'guérilleros', 'téhéran', 'chut', 'strasbourg', 'cirqu', 'clignancourt', 'mesrin', 'giscard', 'espagnol', 'fili', 'goldman', 'fêt', 'lendemain', 'boulet', 'européen', 'khomein', 'occident', 'trembl', 'person', 'derni', 'dialogu', 'bomb', 'guêpi', 'fronti', 'demiss', 'dessous', 'hopital', 'attaqu', 'corrupt', 'jupp', 'confess', 'chien', 'manag', 'consult', 'danois', 'mariag', 'multipli', 'pression', 'cardin', 'galax', 'consomm', 'jou', 'repris', 'street', 'wall', 'cinem', 'grain', 'sabl', 'vatican', 'encycloped', 'ruptur', 'leur', 'dian', 'gloir', 'decollag', 'trop', 'armateur', 'barraquand', 'barreur', 'bollor', 'privilegi', 'bien-naîtr', 'devenu', 'expans', 'fevri', 'gener', 'pag', 'precarit', 'dictatur', 'narco', 'cannab', 'toxiqu', 'alleg', 'chambr', 'lou', 'ecolo', 'energ', 'rim', 'sydney', 'sien', 'toujour', 'trah', 'complic', 'elit', 'popul', 'armé', 'decus', 'patronat', 'bretagn', 'vendr', 'cohen', 'daniel', 'flammarion', 'nation', 'pauvret', 'richess', 'botan', 'tropical', 'clément', 'entourloup', 'judiciair', 'publiqu', 'aquitain', 'ben', 'brent', 'cur', 'jaffr', 'empoison', 'parquet', 'tardif', 'zel', 'libr', 'model', 'jack', 'maîtr', 'roserai', 'allemagn', 'eau', 'humeur', 'salaud', 'touch', 'frer', 'galer', 'jacqu', 'saad', 'lantern', 'franceman', 'industr', 'apprend', 'atlant', 'alcatel', 'patt', 'thomson', 'velour', 'antirigueur', 'argentin', 'menem', 'revolt', 'attent', 'dis', 'expatr', 'bilan', 'chapi', 'singuli', 'commandos', 'dieu', 'fais', 'pedro', 'murmur', 'bator', 'ouest', 'oulan', 'vent', 'délir', 'initi', 'umberto', 'libéri', 'national', 'parret', 'masqu', 'plum', 'westlak', 'part', 'plural', 'adolf', 'chanceli', 'hitl', 'rescap', 'rit', 'juif', 'milli', 'éclat', 'apocalyps', 'cow', 'foll', 'odyss', 'fusil', 'journal', 'dix-huit', 'rest', 'bousquet', 'bongo', 'montr', 'sert', 'févri', 'palestinien', 'réfugi', 'recul', 'telecom', 'aguich', 'mus', 'argent', 'rideau', 'effort', 'mesdam', 'prendr', 'calcul', 'chef', 'devr', 'servic', 'secteur', 'telecommun', 'jospin', 'honkong', 'vision', 'castr', 'henr', 'pret', 'regn', 'commerc', 'exterieur', 'repart', 'americain', 'negoci', 'sino', 'europeen', 'seattl', 'uni', 'confidentiel', 'répons', 'maltrait', 'princip', 'monu', 'remord', 'fiscal', 'surplus', 'conseil', 'theo', 'waigel', 'croissanc', 'mondial', 'command', 'etrang', 'profit', 'indépendans', 'tibet', 'législ', 'résultat', 'fiscalit', 'promet', 'encher', 'foot', 'troubl', 'bank', 'deutsch', 'sanction', 'telekom', 'balladur', 'devedjian', 'don', 'main', 'hommes-femm', 'malentendu', 'achet', 'grossist', 'sicav', 'anné', 'olivi', 'rolin', 'agricultur', 'rabot', 'affrontent', 'arnault', 'internet', 'pinault', 'emprunt', 'relanc', 'business', 'mediterrane', 'oriental', 'industriel', 'product', 'rechut', 'septembr', 'gerhard', 'massiv', 'schrod', 'abecedair', 'ami', 'revolu', 'silenci', 'chos', 'sport', 'lionel', 'acceler', 'decelerent', 'menag', 'record', 'baud', 'def', 'maison', 'restaur', 'chrono', 'convert', 'reseau', 'vit', 'antimondialis', 'export', 'chrétien', 'visag', 'joyeux', 'noel', 'famill', 'confirm', 'emplois', 'suppress', 'blair', 'licenci', 'tien', 'oestrich', 'sued', 'paritar', 'banqu', 'deficit', 'public', 'epanou', 'fleur', 'plein', 'astre', 'cayrol', 'roland', 'marocain', 'pleurent', 'protecteur', 'final', 'rugby', 'craindr', 'petroli', 'prochain', 'troisiem', 'platan', 'ravag', 'decen', 'meilleur', 'ver', 'medef', 'cerveau', 'depend', 'log', 'molecul', 'reduir', 'toxicoman', 'aerospatial', 'couac', 'fusion', 'matr', 'activit', 'hauss', 'ralent', 'enflamm', 'istambul', 'perdu', 'poes', 'action', 'rentabl', 'bijoux', 'chaumet', 'ebel', 'horlog', 'lvmh', 'dang', 'monsieur', '-vous', 'prépar', 'alstom', 'rever', 'siemen', 'sub', 'taiwan', 'abus', 'tax', 'commercial', 'enjeux', 'gouvernemental', 'mesur', 'inquiet', 'lamy', 'prepar', 'reunion', 'lyonnais', 'rappele', 'su', 'tractebel', 'mobil', 'salon', 'aubry', 'excedent', 'secu', 'vis', 'anne', 'cont', 'irland', 'pon', 'fix', 'selftrad', 'bull', 'recentrag', 'platz', 'potsdam', 'ténebr', 'fruit', 'mend', 'ingénieur', 'élev', 'camargu', 'lieu', 'oustiqu', 'coûteux', 'négligent', 'alli', 'bebear', 'parib', 'recoivent', 'region', 'balis', 'chemin', 'obstacl', 'pourt', 'débriefing', 'creent', 'depart', 'equip', 'xavi', 'partn', 'controvers', 'vaccin', 'frech', 'mid', 'surpris', 'bascul', 'bouygu', 'broth', 'etait', 'ailleur', 'krugman', 'viv', 'ballon', 'micro', 'apôtr', 'extrêm', 'attitud', 'routard', 'bienfait', 'cohabit', 'coffret', 'decouvert', 'gallimard', 'hav', 'interact', 'larouss', 'polem', 'previs', 'goût', 'grac', 'rayon', 'panam', 'ronfl', 'spleen', 'cor', 'idéal', 'jung', 'tourist', 'climat', 'deterior', 'laos', 'miser', 'fi', 'tortionnair', 'demission', 'enfanc', 'pâtur', 'fonctionnair', 'nippon', 'terreur', 'chronolog', 'democrat', 'anonym', 'passion', 'naîtr', 'indompt', 'shangh', 'fach', 'gastronom', 'invoqu', 'jox', 'cible', 'reduct', 'reflech', 'examin', 'ultrason', 'amien', 'téléphon', 'multimédi', 'posit', 'prend', 'schuman', 'conduit', 'houphouët', 'bénin', 'togo', 'jouent', 'pir', 'regret', 'serviteur', 'vichy', 'fatigu', 'parrain', 'musiqu', 'nott', 'croat', 'déchirur', 'enfer', 'kurdistan', 'oasis', 'contrôl', 'dérapag', 'madrid', 'promess', 'charit', 'iran', 'ordon', 'coeur', 'descent', 'bluff', 'boss', 'gadget', 'pren', 'candidat', 'embauch', 'ordin', 'sélect', 'cit', 'couleur', 'primair', 'calvair', 'scientologu', 'duel', 'netanyahu', 'arrive', 'unis', 'washington', 'rwand', 'privat', 'verit', 'néerland', 'fuel', 'cott', 'maill', 'après-aïdid', 'somal', 'ténus', 'chanceller', 'caiss', 'gest', 'pass', 'profan', 'figaro', 'heriti', 'guer', 'mâl', 'anti', 'oncle', 'defais', 'mexicain', 'cherch', 'aviv', 'indifférent', 'toll', 'hollywood', 'dot', 'elementair', 'gestion', 'local', 'organ', 'frontier', 'coupabl', 'forum', 'skod', 'exploit', 'johnny', 'malheur', 'mano', 'polic', 'prudenc', 'reform', 'progress', 'holding', 'nettoyag', 'cach', 'dingu', 'tendanc', 'tong', 'mot', 'économ', 'lescur', 'loup', 'moteur', 'nethold', 'fragil', 'syrien', 'marketing', 'reconcilient', 'yaourt', 'belgiqu', 'auss', 'canc', 'cigaret', 'gen', 'bénéfic', 'hezbollah', 'disney', 'emir', 'televis', 'harcel', 'prion', 'savoir', 'bott', 'haut', 'pasqu', 'repl', 'sein', 'indic', 'nikkei', 'rend', 'pieg', 'avocat', 'cabinet', 'cribl', 'irak', 'farin', 'poisson', 'viand', 'zapp', 'convoit', 'wireless', 'marilyn', 'monro', 'réuss', 'confus', 'dossi', 'charon', 'massacr']\n"
     ]
    }
   ],
   "source": [
    "print([k for k in dic_title.values()])"
   ]
  },
  {
   "cell_type": "code",
   "execution_count": 41,
   "metadata": {},
   "outputs": [
    {
     "name": "stdout",
     "output_type": "stream",
     "text": [
      "\n",
      "Topics\n",
      "(0, '0.015*\"contr\" + 0.015*\"pierr\" + 0.009*\"mémoir\" + 0.006*\"jug\"')\n",
      "(1, '0.011*\"sous\" + 0.011*\"franc\" + 0.009*\"grand\" + 0.009*\"jospin\"')\n",
      "(2, '0.017*\"express\" + 0.012*\"fait\" + 0.012*\"franc\" + 0.009*\"etat\"')\n",
      "(3, '0.014*\"mond\" + 0.008*\"express\" + 0.008*\"vrai\" + 0.008*\"encor\"')\n",
      "(4, '0.009*\"retour\" + 0.009*\"amour\" + 0.006*\"affair\" + 0.006*\"cris\"')\n",
      "(5, '0.015*\"plus\" + 0.012*\"contr\" + 0.009*\"femm\" + 0.009*\"homm\"')\n",
      "(6, '0.013*\"franc\" + 0.009*\"robert\" + 0.006*\"mod\" + 0.006*\"impot\"')\n",
      "(7, '0.018*\"heur\" + 0.009*\"droit\" + 0.006*\"boulin\" + 0.006*\"faux\"')\n",
      "(8, '0.033*\"franc\" + 0.007*\"sant\" + 0.005*\"europ\" + 0.005*\"etat\"')\n",
      "(9, '0.009*\"pay\" + 0.009*\"pass\" + 0.009*\"franc\" + 0.006*\"choc\"')\n",
      "\n",
      "Topics\n",
      "(0, '0.004*\"plus\" + 0.004*\"tzigan\" + 0.003*\"franc\" + 0.002*\"leur\"')\n",
      "(1, '0.009*\"plus\" + 0.007*\"tout\" + 0.005*\"homm\" + 0.004*\"avort\"')\n",
      "(2, '0.009*\"plus\" + 0.006*\"tout\" + 0.004*\"san\" + 0.004*\"franc\"')\n",
      "(3, '0.012*\"plus\" + 0.009*\"franc\" + 0.006*\"tout\" + 0.005*\"anné\"')\n",
      "(4, '0.011*\"plus\" + 0.010*\"franc\" + 0.006*\"tout\" + 0.005*\"polit\"')\n",
      "(5, '0.011*\"plus\" + 0.006*\"tout\" + 0.006*\"franc\" + 0.004*\"fait\"')\n",
      "(6, '0.009*\"franc\" + 0.008*\"plus\" + 0.005*\"tout\" + 0.003*\"million\"')\n",
      "(7, '0.016*\"kennedy\" + 0.011*\"plus\" + 0.009*\"américain\" + 0.007*\"tout\"')\n",
      "(8, '0.010*\"plus\" + 0.007*\"tout\" + 0.006*\"fait\" + 0.005*\"franc\"')\n",
      "(9, '0.010*\"plus\" + 0.007*\"tout\" + 0.004*\"part\" + 0.004*\"pay\"')\n"
     ]
    }
   ],
   "source": [
    "# get the topics! \n",
    "\n",
    "NUM_TOPICS = 10\n",
    "\n",
    "for (corpus, dictionary) in [(corpus_title, dic_title), (corpus_text, dic_text)]:\n",
    "    print('\\nTopics')\n",
    "    ldamodel = gensim.models.ldamodel.LdaModel(corpus, num_topics = NUM_TOPICS, id2word=dictionary, passes=15)\n",
    "    ldamodel.save('model5.gensim')\n",
    "    topics = ldamodel.print_topics(num_words=4)\n",
    "    for topic in topics:\n",
    "        print(topic)"
   ]
  },
  {
   "cell_type": "code",
   "execution_count": 42,
   "metadata": {},
   "outputs": [],
   "source": [
    "# to be continued\n",
    "# https://towardsdatascience.com/topic-modelling-in-python-with-nltk-and-gensim-4ef03213cd21"
   ]
  },
  {
   "cell_type": "markdown",
   "metadata": {},
   "source": [
    "__Analysis__\n",
    "\n",
    "* at first sight, key words associated to the same topic do not always have much in common \n",
    "* some of the words used to define topics do not seem like relevant, high level key words\n",
    "* maybe the corpus is to small or to heterogeneous to obtain relevant topics this way!\n",
    "\n",
    "--> *Improvement ideas*\n",
    "- preprocessing: remove figures ('000', '10', '100', '11', '12', '15', '16', '17', '1990', '1997', '20', '30', '31', '50', '500', '60')\n",
    "- try clustering methods and put a word on the topics\n",
    "- improve dictionary\n",
    "- improve this first LDA model (more ideas [here](https://www.machinelearningplus.com/nlp/topic-modeling-gensim-python/))\n",
    "- get more data on specific topics\n"
   ]
  },
  {
   "cell_type": "markdown",
   "metadata": {},
   "source": [
    "# 2. Clustering \n",
    "\n",
    "K-Means clustering and DBSCAN with tf-idf representation\n",
    "\n"
   ]
  },
  {
   "cell_type": "markdown",
   "metadata": {},
   "source": [
    "### a. Build a tf-idf matrix to represent the corpus"
   ]
  },
  {
   "cell_type": "markdown",
   "metadata": {},
   "source": [
    "__Naive approach based on word count__\n",
    "\n",
    "We rapidly see that the use of lemmas is nessecary to avoid the explosion of our vocabulary. For example, \"missives\" and \"missive\" should be considered to be the same. "
   ]
  },
  {
   "cell_type": "code",
   "execution_count": 43,
   "metadata": {},
   "outputs": [
    {
     "name": "stdout",
     "output_type": "stream",
     "text": [
      "(726, 43869)\n"
     ]
    }
   ],
   "source": [
    "#instantiate CountVectorizer() \n",
    "cv=CountVectorizer() \n",
    " \n",
    "# this steps generates word counts for the words in your docs \n",
    "word_count_vector=cv.fit_transform(news_df.text)\n",
    "\n",
    "print(word_count_vector.shape)\n",
    "# Houston, we have a dimensionality problem"
   ]
  },
  {
   "cell_type": "code",
   "execution_count": 44,
   "metadata": {},
   "outputs": [
    {
     "data": {
      "text/html": [
       "<div>\n",
       "<style scoped>\n",
       "    .dataframe tbody tr th:only-of-type {\n",
       "        vertical-align: middle;\n",
       "    }\n",
       "\n",
       "    .dataframe tbody tr th {\n",
       "        vertical-align: top;\n",
       "    }\n",
       "\n",
       "    .dataframe thead th {\n",
       "        text-align: right;\n",
       "    }\n",
       "</style>\n",
       "<table border=\"1\" class=\"dataframe\">\n",
       "  <thead>\n",
       "    <tr style=\"text-align: right;\">\n",
       "      <th></th>\n",
       "      <th>idf_weights</th>\n",
       "    </tr>\n",
       "  </thead>\n",
       "  <tbody>\n",
       "    <tr>\n",
       "      <th>de</th>\n",
       "      <td>1.000000</td>\n",
       "    </tr>\n",
       "    <tr>\n",
       "      <th>la</th>\n",
       "      <td>1.022254</td>\n",
       "    </tr>\n",
       "    <tr>\n",
       "      <th>le</th>\n",
       "      <td>1.036419</td>\n",
       "    </tr>\n",
       "    <tr>\n",
       "      <th>des</th>\n",
       "      <td>1.047896</td>\n",
       "    </tr>\n",
       "    <tr>\n",
       "      <th>les</th>\n",
       "      <td>1.052235</td>\n",
       "    </tr>\n",
       "    <tr>\n",
       "      <th>...</th>\n",
       "      <td>...</td>\n",
       "    </tr>\n",
       "    <tr>\n",
       "      <th>missives</th>\n",
       "      <td>6.895779</td>\n",
       "    </tr>\n",
       "    <tr>\n",
       "      <th>missive</th>\n",
       "      <td>6.895779</td>\n",
       "    </tr>\n",
       "    <tr>\n",
       "      <th>compensés</th>\n",
       "      <td>6.895779</td>\n",
       "    </tr>\n",
       "    <tr>\n",
       "      <th>miradors</th>\n",
       "      <td>6.895779</td>\n",
       "    </tr>\n",
       "    <tr>\n",
       "      <th>œuvre</th>\n",
       "      <td>6.895779</td>\n",
       "    </tr>\n",
       "  </tbody>\n",
       "</table>\n",
       "<p>43869 rows × 1 columns</p>\n",
       "</div>"
      ],
      "text/plain": [
       "           idf_weights\n",
       "de            1.000000\n",
       "la            1.022254\n",
       "le            1.036419\n",
       "des           1.047896\n",
       "les           1.052235\n",
       "...                ...\n",
       "missives      6.895779\n",
       "missive       6.895779\n",
       "compensés     6.895779\n",
       "miradors      6.895779\n",
       "œuvre         6.895779\n",
       "\n",
       "[43869 rows x 1 columns]"
      ]
     },
     "execution_count": 44,
     "metadata": {},
     "output_type": "execute_result"
    }
   ],
   "source": [
    "# tf-idf with all the words\n",
    "tfidf_transformer=TfidfTransformer(smooth_idf=True,use_idf=True) \n",
    "tfidf_transformer.fit(word_count_vector)\n",
    "\n",
    "# print idf values \n",
    "idf = pd.DataFrame(tfidf_transformer.idf_, index=cv.get_feature_names(),columns=[\"idf_weights\"]) \n",
    " \n",
    "# sort ascending \n",
    "idf.sort_values(by=['idf_weights'])"
   ]
  },
  {
   "cell_type": "markdown",
   "metadata": {},
   "source": [
    "We have to select the words with highest tf-idf count."
   ]
  },
  {
   "cell_type": "markdown",
   "metadata": {},
   "source": [
    "Improvement ideas:\n",
    "    \n",
    "* get rid of figures \"000\", \"cinq\"\n",
    "* get rid of non topic words (destructive approach)\n",
    "* custom build vocabulary for the corpus, based on previous NER extraction \n",
    "* use lemmas (root words) instead of full words (ex: français, france go back to the same entity)\n"
   ]
  },
  {
   "cell_type": "markdown",
   "metadata": {},
   "source": [
    "__Tf-idf with lemmatized words__\n",
    "\n",
    "We resuse the preprocessing made in the LDA section. We already obtain a smaller vocabulary, but it remains too big. So next step is to fit the Tf-Idf matrix with some constraints to reduce the number of features."
   ]
  },
  {
   "cell_type": "code",
   "execution_count": 45,
   "metadata": {},
   "outputs": [],
   "source": [
    "news_df['pre_title']=[' '.join(word_list_i) for word_list_i in title_tokens] # preprocessed titles\n",
    "news_df['pre_text']=[' '.join(word_list_i) for word_list_i in text_tokens] # preprocessed article bodies"
   ]
  },
  {
   "cell_type": "code",
   "execution_count": 46,
   "metadata": {},
   "outputs": [
    {
     "name": "stdout",
     "output_type": "stream",
     "text": [
      "(726, 22990)\n"
     ]
    },
    {
     "data": {
      "text/html": [
       "<div>\n",
       "<style scoped>\n",
       "    .dataframe tbody tr th:only-of-type {\n",
       "        vertical-align: middle;\n",
       "    }\n",
       "\n",
       "    .dataframe tbody tr th {\n",
       "        vertical-align: top;\n",
       "    }\n",
       "\n",
       "    .dataframe thead th {\n",
       "        text-align: right;\n",
       "    }\n",
       "</style>\n",
       "<table border=\"1\" class=\"dataframe\">\n",
       "  <thead>\n",
       "    <tr style=\"text-align: right;\">\n",
       "      <th></th>\n",
       "      <th>idf_weights</th>\n",
       "    </tr>\n",
       "  </thead>\n",
       "  <tbody>\n",
       "    <tr>\n",
       "      <th>plus</th>\n",
       "      <td>1.269958</td>\n",
       "    </tr>\n",
       "    <tr>\n",
       "      <th>tout</th>\n",
       "      <td>1.386391</td>\n",
       "    </tr>\n",
       "    <tr>\n",
       "      <th>fait</th>\n",
       "      <td>1.464243</td>\n",
       "    </tr>\n",
       "    <tr>\n",
       "      <th>franc</th>\n",
       "      <td>1.502152</td>\n",
       "    </tr>\n",
       "    <tr>\n",
       "      <th>premi</th>\n",
       "      <td>1.580113</td>\n",
       "    </tr>\n",
       "    <tr>\n",
       "      <th>...</th>\n",
       "      <td>...</td>\n",
       "    </tr>\n",
       "    <tr>\n",
       "      <th>pand</th>\n",
       "      <td>6.895779</td>\n",
       "    </tr>\n",
       "    <tr>\n",
       "      <th>pandolf</th>\n",
       "      <td>6.895779</td>\n",
       "    </tr>\n",
       "    <tr>\n",
       "      <th>enseeith</th>\n",
       "      <td>6.895779</td>\n",
       "    </tr>\n",
       "    <tr>\n",
       "      <th>paroi</th>\n",
       "      <td>6.895779</td>\n",
       "    </tr>\n",
       "    <tr>\n",
       "      <th>œuvr</th>\n",
       "      <td>6.895779</td>\n",
       "    </tr>\n",
       "  </tbody>\n",
       "</table>\n",
       "<p>22990 rows × 1 columns</p>\n",
       "</div>"
      ],
      "text/plain": [
       "          idf_weights\n",
       "plus         1.269958\n",
       "tout         1.386391\n",
       "fait         1.464243\n",
       "franc        1.502152\n",
       "premi        1.580113\n",
       "...               ...\n",
       "pand         6.895779\n",
       "pandolf      6.895779\n",
       "enseeith     6.895779\n",
       "paroi        6.895779\n",
       "œuvr         6.895779\n",
       "\n",
       "[22990 rows x 1 columns]"
      ]
     },
     "execution_count": 46,
     "metadata": {},
     "output_type": "execute_result"
    }
   ],
   "source": [
    "# Re-compute the word-count for preprocessed texts\n",
    "\n",
    "word_count_vector=cv.fit_transform(news_df.pre_text)\n",
    "\n",
    "print(word_count_vector.shape)\n",
    "\n",
    "# tf-idf with all the words\n",
    "tfidf_transformer=TfidfTransformer(smooth_idf=True,use_idf=True) \n",
    "tfidf_transformer.fit(word_count_vector)\n",
    "\n",
    "# print idf values \n",
    "idf = pd.DataFrame(tfidf_transformer.idf_, index=cv.get_feature_names(),columns=[\"idf_weights\"]) \n",
    " \n",
    "# sort ascending \n",
    "idf.sort_values(by=['idf_weights'])"
   ]
  },
  {
   "cell_type": "markdown",
   "metadata": {},
   "source": [
    "__Tf-Idf vectorizer with constraints__"
   ]
  },
  {
   "cell_type": "code",
   "execution_count": 47,
   "metadata": {},
   "outputs": [],
   "source": [
    "# fit tf-idf on all preprocessed texts with constraints on document frequency and number of tokens\n",
    "tfidf_vectorizer=TfidfVectorizer(max_df = 700, max_features=500, smooth_idf=True,use_idf=True) #strip_accents=True\n",
    "X = tfidf_vectorizer.fit_transform(news_df.pre_text) # X is a matrix"
   ]
  },
  {
   "cell_type": "code",
   "execution_count": 48,
   "metadata": {},
   "outputs": [
    {
     "name": "stdout",
     "output_type": "stream",
     "text": [
      "['abord', 'accept', 'accord', 'action', 'activ', 'actuel', 'administr', 'affair', 'affirm', 'afin', 'afriqu', 'agit', 'aid', 'ailleur', 'alger', 'allemagn', 'allemand', 'amer', 'américain', 'ancien', 'annonc', 'anné', 'appel', 'arab', 'argent', 'arme', 'armé', 'arriv', 'arrêt', 'assez', 'associ', 'assur', 'attend', 'aucun', 'aujourd', 'auss', 'aut', 'autor', 'autr', 'aven', 'avocat', 'avril', 'banqu', 'bas', 'beaucoup', 'besoin', 'bien', 'bon', 'bout', 'cadr', 'camp', 'campagn', 'capital', 'caus', 'cel', 'centr', 'central', 'certain', 'cess', 'ceux', 'chacun', 'chang', 'chaqu', 'charg', 'chef', 'cherch', 'chez', 'chiffr', 'chin', 'chois', 'chos', 'chômag', 'clair', 'colon', 'command', 'commenc', 'comment', 'commerc', 'commun', 'communaut', 'compt', 'condit', 'conseil', 'consider', 'constitu', 'continu', 'contr', 'contrôl', 'coup', 'cour', 'coût', 'cris', 'cré', 'côt', 'demand', 'derni', 'destin', 'dev', 'devenu', 'devr', 'difficil', 'différent', 'diplomat', 'dir', 'direct', 'directeur', 'dirig', 'doit', 'dollar', 'don', 'dont', 'dossi', 'dout', 'droit', 'dur', 'début', 'décembr', 'décid', 'décis', 'déclar', 'défens', 'déjà', 'démocrat', 'départ', 'déput', 'désorm', 'développ', 'effet', 'el', 'elle', 'emploi', 'emplois', 'encor', 'enfant', 'enfin', 'engag', 'ensembl', 'ensuit', 'entre', 'entrepris', 'entré', 'environ', 'envoi', 'esprit', 'essentiel', 'estim', 'etat', 'etats', 'europ', 'européen', 'exempl', 'expliqu', 'express', 'fac', 'fais', 'fait', 'famill', 'faut', 'façon', 'femm', 'fil', 'film', 'fin', 'financ', 'financi', 'fois', 'fonction', 'fond', 'font', 'forc', 'form', 'fort', 'franc', 'français', 'françois', 'fronti', 'gagn', 'gard', 'gauch', 'gen', 'gouvern', 'grand', 'group', 'grâc', 'guerr', 'général', 'habit', 'haut', 'heur', 'histoir', 'homm', 'hui', 'idé', 'il', 'imag', 'import', 'impos', 'industriel', 'indépend', 'inform', 'install', 'integr', 'international', 'intérieur', 'intérêt', 'invest', 'islam', 'israélien', 'israël', 'jacqu', 'jam', 'janvi', 'jean', 'jeun', 'jou', 'jour', 'journal', 'jug', 'juif', 'juillet', 'juin', 'jusqu', 'jérusalem', 'kennedy', 'laiss', 'lanc', 'leur', 'liber', 'libert', 'lieu', 'livr', 'local', 'loin', 'long', 'longtemp', 'longu', 'lor', 'lorsqu', 'lui', 'lutt', 'main', 'mainten', 'maison', 'major', 'malad', 'malgr', 'manifest', 'mar', 'march', 'matin', 'meilleur', 'membr', 'men', 'menac', 'mer', 'mesur', 'mettr', 'mieux', 'militair', 'milli', 'milliard', 'million', 'minister', 'ministr', 'mis', 'moin', 'mois', 'moment', 'mond', 'mondial', 'mont', 'montr', 'mort', 'mouv', 'moyen', 'médecin', 'mêm', 'nation', 'national', 'noir', 'nombr', 'nombreux', 'nord', 'not', 'nouveau', 'nouvel', 'novembr', 'nuit', 'négoci', 'occup', 'octobr', 'officiel', 'oper', 'ordre', 'organis', 'ouvert', 'ouvr', 'pai', 'paix', 'palestinien', 'parc', 'parfois', 'paris', 'parl', 'parm', 'part', 'particuli', 'pass', 'patron', 'pay', 'pein', 'pend', 'pens', 'per', 'person', 'personnel', 'pet', 'petit', 'peupl', 'peut', 'peuvent', 'pierr', 'plac', 'plan', 'plein', 'plupart', 'plus', 'plusieur', 'plutôt', 'point', 'polic', 'polit', 'popul', 'port', 'posit', 'possibl', 'post', 'pourquoi', 'pourr', 'pourt', 'pouv', 'pouvoir', 'pratiqu', 'premi', 'prendr', 'pres', 'presqu', 'press', 'principal', 'pris', 'priv', 'prix', 'problem', 'proch', 'prochain', 'product', 'produit', 'programm', 'projet', 'propos', 'propr', 'précis', 'prépar', 'présent', 'président', 'prêt', 'public', 'publiqu', 'puis', 'puiss', 'quel', 'quelqu', 'question', 'quitt', 'racont', 'raison', 'rappel', 'rapport', 'recherch', 'refus', 'regard', 'regl', 'relat', 'rencontr', 'représent', 'respons', 'rest', 'retour', 'retrait', 'retrouv', 'rien', 'risqu', 'roug', 'russ', 'réalis', 'récent', 'réform', 'régim', 'région', 'républ', 'résist', 'résultat', 'réuss', 'rével', 'révolu', 'rêv', 'rôl', 'saint', 'sait', 'salari', 'san', 'savoir', 'second', 'secret', 'secteur', 'selon', 'semain', 'sembl', 'sent', 'septembr', 'servic', 'seul', 'siecl', 'sieg', 'sign', 'simpl', 'situat', 'social', 'societ', 'soir', 'soldat', 'sort', 'sous', 'souvent', 'soviet', 'spécial', 'succes', 'suit', 'suiv', 'surtout', 'system', 'sécur', 'tant', 'tard', 'taux', 'tel', 'temp', 'tent', 'term', 'terr', 'territoir', 'tir', 'tomb', 'total', 'toujour', 'tour', 'tous', 'tout', 'trait', 'travail', 'travaill', 'tres', 'trop', 'trouv', 'têt', 'un', 'union', 'utilis', 'ven', 'vent', 'ver', 'veut', 'victim', 'vient', 'vill', 'vit', 'voi', 'voilà', 'voir', 'vont', 'vot', 'vous', 'vrai', 'vérit', 'yeux', 'écol', 'économ', 'égal', 'élect', 'élev', 'époqu', 'équip', 'établ', 'état', 'étrang', 'étranger', 'étud', 'étudi', 'évident', 'êtr']\n",
      "(726, 500)\n"
     ]
    }
   ],
   "source": [
    "# take a look at the result\n",
    "print(tfidf_vectorizer.get_feature_names())\n",
    "print(X.shape)"
   ]
  },
  {
   "cell_type": "markdown",
   "metadata": {},
   "source": [
    "### b.  K-Means Clustering \n",
    "\n",
    "We don't know how many clusters we might have, so we explore a ange of values for hyperparameter k and assess the quality of the clusters using the silhouette score. If our dataset had been labeled we could have used the adjusted rand index instead."
   ]
  },
  {
   "cell_type": "code",
   "execution_count": 49,
   "metadata": {},
   "outputs": [],
   "source": [
    "# training\n",
    "k_scores=[]\n",
    "for k in range(2, 21):\n",
    "    k_model = KMeans(n_clusters=k, init='k-means++', max_iter=100, n_init=1, random_state=2905,)\n",
    "    k_labels = k_model.fit_predict(X)\n",
    "    score = silhouette_score(X, k_labels,metric='cosine', sample_size=None)\n",
    "    k_scores.append(score)"
   ]
  },
  {
   "cell_type": "code",
   "execution_count": 50,
   "metadata": {},
   "outputs": [
    {
     "data": {
      "image/png": "[encoded data removed]",
      "text/plain": [
       "<Figure size 1440x720 with 1 Axes>"
      ]
     },
     "metadata": {
      "needs_background": "light"
     },
     "output_type": "display_data"
    }
   ],
   "source": [
    "# visualize\n",
    "plt.figure(figsize=(20,10))\n",
    "x_val = [k for k in range(2,21)]\n",
    "y_val = k_scores\n",
    "plt.plot(x_val,y_val)\n",
    "\n",
    "plt.plot(x_val,y_val,'ob') \n",
    "plt.plot(x_val[np.argmax(y_val)], np.max(y_val), 'or') \n",
    "plt.annotate(\"Best k value\",\n",
    "             (x_val[np.argmax(y_val)], np.max(y_val)),\n",
    "             textcoords=\"offset points\", \n",
    "             xytext=(0,-40), \n",
    "             ha='center')\n",
    "best_k=x_val[np.argmax(y_val)]\n",
    "x_val = [k for k in range(3,21)]\n",
    "y_val = k_scores[1:]\n",
    "plt.plot(x_val[np.argmax(y_val)], np.max(y_val), 'oy') \n",
    "plt.annotate(\"Second best k value\",\n",
    "             (x_val[np.argmax(y_val)], np.max(y_val)),\n",
    "             textcoords=\"offset points\", \n",
    "             xytext=(0,-40), \n",
    "             ha='center')\n",
    "second_best_k=x_val[np.argmax(y_val)]\n",
    "plt.xlabel('Number of clusters')\n",
    "plt.ylabel('Silhouette Score')\n",
    "plt.title('Silhouette score in function of the number of clusters') \n",
    "plt.show()"
   ]
  },
  {
   "cell_type": "markdown",
   "metadata": {},
   "source": [
    "So we will use either k=2 or k=16. Let's see if we can interprete the clusters by assigning them a relevant topic."
   ]
  },
  {
   "cell_type": "code",
   "execution_count": 51,
   "metadata": {},
   "outputs": [
    {
     "data": {
      "text/html": [
       "<div>\n",
       "<style scoped>\n",
       "    .dataframe tbody tr th:only-of-type {\n",
       "        vertical-align: middle;\n",
       "    }\n",
       "\n",
       "    .dataframe tbody tr th {\n",
       "        vertical-align: top;\n",
       "    }\n",
       "\n",
       "    .dataframe thead th {\n",
       "        text-align: right;\n",
       "    }\n",
       "</style>\n",
       "<table border=\"1\" class=\"dataframe\">\n",
       "  <thead>\n",
       "    <tr style=\"text-align: right;\">\n",
       "      <th></th>\n",
       "      <th>Unnamed: 0</th>\n",
       "      <th>year</th>\n",
       "      <th>title</th>\n",
       "      <th>text</th>\n",
       "      <th>url</th>\n",
       "      <th>pre_title</th>\n",
       "      <th>pre_text</th>\n",
       "      <th>k_2</th>\n",
       "      <th>k_3</th>\n",
       "    </tr>\n",
       "  </thead>\n",
       "  <tbody>\n",
       "    <tr>\n",
       "      <th>0</th>\n",
       "      <td>0</td>\n",
       "      <td>1988</td>\n",
       "      <td>Tintin dans l'espace</td>\n",
       "      <td>Trois semaines à bord de la station soviétique...</td>\n",
       "      <td>https://www.lexpress.fr/informations/tintin-da...</td>\n",
       "      <td>tintin espac</td>\n",
       "      <td>semain bord station soviet jean-loup chrétien ...</td>\n",
       "      <td>1</td>\n",
       "      <td>1</td>\n",
       "    </tr>\n",
       "    <tr>\n",
       "      <th>1</th>\n",
       "      <td>1</td>\n",
       "      <td>1988</td>\n",
       "      <td>Le faux suicide de Robert Boulin</td>\n",
       "      <td>1979 : son corps est découvert en forêt de Ram...</td>\n",
       "      <td>https://www.lexpress.fr/actualite/politique/le...</td>\n",
       "      <td>faux suicid robert boulin</td>\n",
       "      <td>corp découvert forêt rambouillet fauss pist né...</td>\n",
       "      <td>1</td>\n",
       "      <td>1</td>\n",
       "    </tr>\n",
       "    <tr>\n",
       "      <th>2</th>\n",
       "      <td>2</td>\n",
       "      <td>1988</td>\n",
       "      <td>Des pierres contre les certitudes</td>\n",
       "      <td>Rideaux de fer baissés, silhouettes furtives, ...</td>\n",
       "      <td>https://www.lexpress.fr/actualite/monde/proche...</td>\n",
       "      <td>pierr contr certitud</td>\n",
       "      <td>rideau baiss silhouet furtiv jérusalem arab to...</td>\n",
       "      <td>1</td>\n",
       "      <td>1</td>\n",
       "    </tr>\n",
       "    <tr>\n",
       "      <th>3</th>\n",
       "      <td>3</td>\n",
       "      <td>1988</td>\n",
       "      <td>Otages: soudain, mercredi soir...</td>\n",
       "      <td>\" Je lui ai dit: \"Ça suffit\", et j'ai raccroch...</td>\n",
       "      <td>https://www.lexpress.fr/informations/otages-so...</td>\n",
       "      <td>otag soudain mercred soir</td>\n",
       "      <td>suff raccroch trop souvent échaud trop souvent...</td>\n",
       "      <td>1</td>\n",
       "      <td>1</td>\n",
       "    </tr>\n",
       "    <tr>\n",
       "      <th>4</th>\n",
       "      <td>4</td>\n",
       "      <td>1988</td>\n",
       "      <td>Les secrets de la planète rouge</td>\n",
       "      <td>S'il existe, dans le système solaire, un seul ...</td>\n",
       "      <td>https://www.lexpress.fr/actualite/sciences/les...</td>\n",
       "      <td>secret planet roug</td>\n",
       "      <td>exist system solair seul endroit exobiolog dés...</td>\n",
       "      <td>0</td>\n",
       "      <td>2</td>\n",
       "    </tr>\n",
       "    <tr>\n",
       "      <th>5</th>\n",
       "      <td>5</td>\n",
       "      <td>1988</td>\n",
       "      <td>La marche forcée d'Abou Ammar</td>\n",
       "      <td>Prêt à la guerre en 1974, offrant la paix en 1...</td>\n",
       "      <td>https://www.lexpress.fr/informations/la-marche...</td>\n",
       "      <td>march forc abou ammar</td>\n",
       "      <td>prêt guerr offrant paix arafat cherch aupres a...</td>\n",
       "      <td>1</td>\n",
       "      <td>1</td>\n",
       "    </tr>\n",
       "    <tr>\n",
       "      <th>6</th>\n",
       "      <td>6</td>\n",
       "      <td>1988</td>\n",
       "      <td>Pierre Quinon, discret champion olympique</td>\n",
       "      <td>Pierre Quinon s'est donné la mort à 49 ans le ...</td>\n",
       "      <td>https://www.lexpress.fr/actualite/sport/pierre...</td>\n",
       "      <td>pierr quinon discret champion olymp</td>\n",
       "      <td>pierr quinon don mort août hyer portr consacr ...</td>\n",
       "      <td>1</td>\n",
       "      <td>1</td>\n",
       "    </tr>\n",
       "    <tr>\n",
       "      <th>7</th>\n",
       "      <td>7</td>\n",
       "      <td>1988</td>\n",
       "      <td>Algérie: la faillite sanglante</td>\n",
       "      <td>Au moins 1000 morts. Des milliers de blessés. ...</td>\n",
       "      <td>https://www.lexpress.fr/informations/algerie-l...</td>\n",
       "      <td>alger faillit sangl</td>\n",
       "      <td>moin mort milli bless arrest mass jam indépend...</td>\n",
       "      <td>1</td>\n",
       "      <td>1</td>\n",
       "    </tr>\n",
       "    <tr>\n",
       "      <th>8</th>\n",
       "      <td>8</td>\n",
       "      <td>1988</td>\n",
       "      <td>Les deux mois qui ont ébranlé Israël</td>\n",
       "      <td>Israël avait pris l'habitude de mesurer ses gu...</td>\n",
       "      <td>https://www.lexpress.fr/actualite/monde/proche...</td>\n",
       "      <td>mois ébranl israël</td>\n",
       "      <td>israël pris habitud mesur guerr journ déjà moi...</td>\n",
       "      <td>1</td>\n",
       "      <td>1</td>\n",
       "    </tr>\n",
       "    <tr>\n",
       "      <th>9</th>\n",
       "      <td>9</td>\n",
       "      <td>1988</td>\n",
       "      <td>Ponge: l'homme objets.</td>\n",
       "      <td>Francis Ponge célébra la Guêpe, un \" petit sip...</td>\n",
       "      <td>https://www.lexpress.fr/informations/ponge-l-h...</td>\n",
       "      <td>pong homm objet</td>\n",
       "      <td>franc pong célebr guêp pet siphon ambul abrico...</td>\n",
       "      <td>0</td>\n",
       "      <td>2</td>\n",
       "    </tr>\n",
       "  </tbody>\n",
       "</table>\n",
       "</div>"
      ],
      "text/plain": [
       "   Unnamed: 0  year                                      title  \\\n",
       "0           0  1988                       Tintin dans l'espace   \n",
       "1           1  1988           Le faux suicide de Robert Boulin   \n",
       "2           2  1988          Des pierres contre les certitudes   \n",
       "3           3  1988          Otages: soudain, mercredi soir...   \n",
       "4           4  1988            Les secrets de la planète rouge   \n",
       "5           5  1988              La marche forcée d'Abou Ammar   \n",
       "6           6  1988  Pierre Quinon, discret champion olympique   \n",
       "7           7  1988             Algérie: la faillite sanglante   \n",
       "8           8  1988       Les deux mois qui ont ébranlé Israël   \n",
       "9           9  1988                     Ponge: l'homme objets.   \n",
       "\n",
       "                                                text  \\\n",
       "0  Trois semaines à bord de la station soviétique...   \n",
       "1  1979 : son corps est découvert en forêt de Ram...   \n",
       "2  Rideaux de fer baissés, silhouettes furtives, ...   \n",
       "3  \" Je lui ai dit: \"Ça suffit\", et j'ai raccroch...   \n",
       "4  S'il existe, dans le système solaire, un seul ...   \n",
       "5  Prêt à la guerre en 1974, offrant la paix en 1...   \n",
       "6  Pierre Quinon s'est donné la mort à 49 ans le ...   \n",
       "7  Au moins 1000 morts. Des milliers de blessés. ...   \n",
       "8  Israël avait pris l'habitude de mesurer ses gu...   \n",
       "9  Francis Ponge célébra la Guêpe, un \" petit sip...   \n",
       "\n",
       "                                                 url  \\\n",
       "0  https://www.lexpress.fr/informations/tintin-da...   \n",
       "1  https://www.lexpress.fr/actualite/politique/le...   \n",
       "2  https://www.lexpress.fr/actualite/monde/proche...   \n",
       "3  https://www.lexpress.fr/informations/otages-so...   \n",
       "4  https://www.lexpress.fr/actualite/sciences/les...   \n",
       "5  https://www.lexpress.fr/informations/la-marche...   \n",
       "6  https://www.lexpress.fr/actualite/sport/pierre...   \n",
       "7  https://www.lexpress.fr/informations/algerie-l...   \n",
       "8  https://www.lexpress.fr/actualite/monde/proche...   \n",
       "9  https://www.lexpress.fr/informations/ponge-l-h...   \n",
       "\n",
       "                             pre_title  \\\n",
       "0                         tintin espac   \n",
       "1            faux suicid robert boulin   \n",
       "2                 pierr contr certitud   \n",
       "3            otag soudain mercred soir   \n",
       "4                   secret planet roug   \n",
       "5                march forc abou ammar   \n",
       "6  pierr quinon discret champion olymp   \n",
       "7                  alger faillit sangl   \n",
       "8                   mois ébranl israël   \n",
       "9                      pong homm objet   \n",
       "\n",
       "                                            pre_text  k_2  k_3  \n",
       "0  semain bord station soviet jean-loup chrétien ...    1    1  \n",
       "1  corp découvert forêt rambouillet fauss pist né...    1    1  \n",
       "2  rideau baiss silhouet furtiv jérusalem arab to...    1    1  \n",
       "3  suff raccroch trop souvent échaud trop souvent...    1    1  \n",
       "4  exist system solair seul endroit exobiolog dés...    0    2  \n",
       "5  prêt guerr offrant paix arafat cherch aupres a...    1    1  \n",
       "6  pierr quinon don mort août hyer portr consacr ...    1    1  \n",
       "7  moin mort milli bless arrest mass jam indépend...    1    1  \n",
       "8  israël pris habitud mesur guerr journ déjà moi...    1    1  \n",
       "9  franc pong célebr guêp pet siphon ambul abrico...    0    2  "
      ]
     },
     "execution_count": 51,
     "metadata": {},
     "output_type": "execute_result"
    }
   ],
   "source": [
    "news_clusters=news_df.copy()\n",
    "news_clusters['k_'+str(best_k)]=KMeans(n_clusters=best_k, init='k-means++', max_iter=100, n_init=1, random_state=2905).fit_predict(X)\n",
    "news_clusters['k_'+str(second_best_k)]=KMeans(n_clusters=second_best_k, init='k-means++', max_iter=100, n_init=1, random_state=2905).fit_predict(X)\n",
    "news_clusters.head(10)"
   ]
  },
  {
   "cell_type": "code",
   "execution_count": 52,
   "metadata": {},
   "outputs": [
    {
     "name": "stdout",
     "output_type": "stream",
     "text": [
      "k_2\n",
      "0    332\n",
      "1    394\n",
      "Name: year, dtype: int64\n",
      "k_3\n",
      "0    156\n",
      "1    357\n",
      "2    213\n",
      "Name: year, dtype: int64\n",
      "k_2  k_3\n",
      "0    0      126\n",
      "     2      206\n",
      "1    0       30\n",
      "     1      357\n",
      "     2        7\n",
      "Name: year, dtype: int64\n"
     ]
    }
   ],
   "source": [
    "# Look at the repartition between clusters\n",
    "print(news_clusters.groupby(['k_'+str(best_k)])[\"year\"].count())\n",
    "print(news_clusters.groupby(['k_'+str(second_best_k)])[\"year\"].count())\n",
    "print(news_clusters.groupby(['k_'+str(best_k), 'k_'+str(second_best_k)])[\"year\"].count())"
   ]
  },
  {
   "cell_type": "code",
   "execution_count": 53,
   "metadata": {},
   "outputs": [
    {
     "name": "stdout",
     "output_type": "stream",
     "text": [
      "\n",
      "Cluster  0\n",
      "4      Les secrets de la planète rouge\n",
      "9               Ponge: l'homme objets.\n",
      "19                                Diva\n",
      "23    Le bureau livré à l'informatique\n",
      "27                La Nasa sous tutelle\n",
      "31                   Beineix fait tilt\n",
      "43               Le pouvoir des femmes\n",
      "64             URSS: l'espace en panne\n",
      "66                Les chargeurs réunis\n",
      "71                 La méthode Burguéra\n",
      "Name: title, dtype: object\n",
      "\n",
      "Cluster  1\n",
      "0                          Tintin dans l'espace\n",
      "1              Le faux suicide de Robert Boulin\n",
      "2             Des pierres contre les certitudes\n",
      "3             Otages: soudain, mercredi soir...\n",
      "5                 La marche forcée d'Abou Ammar\n",
      "6     Pierre Quinon, discret champion olympique\n",
      "7                Algérie: la faillite sanglante\n",
      "8          Les deux mois qui ont ébranlé Israël\n",
      "10              Pourquoi est mort Georges Besse\n",
      "11             La longue marche du Che africain\n",
      "Name: title, dtype: object\n"
     ]
    }
   ],
   "source": [
    "# Try to identify topics inside clusters\n",
    "for i in range(best_k):\n",
    "    print(\"\\nCluster \", i)\n",
    "    print(news_clusters[news_clusters['k_'+str(best_k)]==i].title[:10]) # print 10 titles from each cluster"
   ]
  },
  {
   "cell_type": "markdown",
   "metadata": {},
   "source": [
    "On parvient à la liste de thèmes suivants:\n",
    "    \n",
    "* Infos nationales France / économie \n",
    "* Infos nationales France / économie et entreprises, emploi, compétitivité\n",
    "* Infos nationales France / Société\n",
    "* Infos nationales France /  Femmes et débats de société (ex: avortement)\n",
    "* Infos nationales France / Faits divers\n",
    "\n",
    "\n",
    "* International / économie internationale\n",
    "* International / Moyen Orient / politique\n",
    "* International / politique internationale (anciennes colonies notamment), conflits\n",
    "* International / Europe / économie\n",
    "* International / Europe / politique\n",
    "\n",
    "\n",
    "* Affaires judiciaires et criminelles\n",
    "* Santé, Biologie, Sciences\n",
    "* Sport\n",
    "* Culture\n",
    "\n",
    "\n",
    "On se rend compte que les thèmes serait mieux décrits par un fonctionnement matriciel, id est __un aspect géographique combiné à un aspect thématique__.\n",
    "\n",
    "* Géographie: France - Amérique - Europe - Asie - Afrique - Moyen Orient et même peut-être une région transverse \"anciennes colonnies françaises\"\n",
    "\n",
    "* Thèmes: Sciences/Santé - Politique - Economie/Entreprises - Société/Faits divers - Affaires judiciaires \n",
    "\n",
    "__D'où la nécessité dune double classfication géographique et thématique, pour obtenir le thème final de l'article.__\n"
   ]
  },
  {
   "cell_type": "markdown",
   "metadata": {},
   "source": [
    "__Temporality__\n",
    "\n",
    "Are some topics time-bound ? When did what topic particularly gain momentum ?\n",
    "\n",
    "Idea: topics like women's right to abort in France or the first French astronaut in space are related to precise events, respectively the corresponding law defended by Simone Weil and Jean-Loup Chrétien's trip to the ISS. Other topics, like French and internaitonal economics, are more likely to be always there, although sometines not at the forefront of the scene.\n",
    "\n",
    "*Idea: once we have labelled the data, visualize the topics as a fonction of time*"
   ]
  },
  {
   "cell_type": "markdown",
   "metadata": {},
   "source": [
    "### c. Clustering with entity-based vocabulary"
   ]
  },
  {
   "cell_type": "markdown",
   "metadata": {},
   "source": [
    "__Tf-idf with entity-based vocabulary__\n",
    "\n",
    "to do: notebook 01 --> add other entity types (ORG and TIME ?)\n",
    "\n",
    "*Note on PER entities*\n",
    "\n",
    "* Some cleaning might be necessary, for example 'ii' is considered as a single entity although it should be 'jean-paul ii' as a whole. \n",
    "\n",
    "* Also we are faced with multiple wordings for the same name. For example 'de gaulle' and 'général de gaulle' should be considered to be the same. \n",
    "\n",
    "* Most entities are personal names, like 'chirac', but some are categories, like 'président de la république' and might refer to a different person depending on the year the article was published.\n",
    "\n",
    "* Errors are due to the French \"-\", for example '-major' should be \"état-major\", \"-aviv\" is probably coming from \"Tel-aviv\"\n",
    "\n",
    "Nonetheless, the PER list is quite satisfying already.\n",
    "\n",
    "*Note on LOC entities*\n",
    "\n",
    "Similar remarks apply \n",
    "\n",
    "* cleaning necessary: '»' etc should be deleted\n",
    "* 'france', 'la france' should be the same, \"l'espagne\" should be \"espagne\" etc\n",
    "* 'état' is a category and should not be mistaken with 'etats-unis'\n",
    "* errors are trickier to explain, a few verbs are in the list: 'croyez', 'voudrais', 'avais'"
   ]
  },
  {
   "cell_type": "code",
   "execution_count": 54,
   "metadata": {},
   "outputs": [
    {
     "name": "stdout",
     "output_type": "stream",
     "text": [
      "       Unnamed: 0   PER_count\n",
      "count  287.000000  287.000000\n",
      "mean   143.000000    5.487805\n",
      "std     82.993976    4.539534\n",
      "min      0.000000    3.000000\n",
      "25%     71.500000    3.000000\n",
      "50%    143.000000    4.000000\n",
      "75%    214.500000    6.000000\n",
      "max    286.000000   35.000000\n",
      "       Unnamed: 0   LOC_count\n",
      "count   439.00000  439.000000\n",
      "mean    219.00000    9.621868\n",
      "std     126.87264   17.268576\n",
      "min       0.00000    3.000000\n",
      "25%     109.50000    3.000000\n",
      "50%     219.00000    5.000000\n",
      "75%     328.50000    8.500000\n",
      "max     438.00000  158.000000\n"
     ]
    }
   ],
   "source": [
    "PER_df=pd.read_csv('articles_PER.csv')\n",
    "LOC_df=pd.read_csv('articles_LOC.csv')\n",
    "print(PER_df.describe())\n",
    "print(LOC_df.describe())"
   ]
  },
  {
   "cell_type": "code",
   "execution_count": 56,
   "metadata": {},
   "outputs": [
    {
     "name": "stdout",
     "output_type": "stream",
     "text": [
      "There are 84 PER entities with >5 occurences.\n",
      "\n",
      "['françois mitterrand', 'jacques chirac', 'ii', 'de gaulle', 'président de la république', 'lionel jospin', 'général de gaulle', 'chirac', 'yasser arafat', 'mitterrand', 'menahem begin', 'bill clinton', 'charles pasqua', 'moshe dayan', 'arafat', 'hier', 'staline', 'alain juppé', 'edouard balladur', '-major', 'washington', 'begin', '-aviv', '-ci', 'itzhak rabin', 'sadate', 'lénine', 'golda meir', 'fini', 'helmut kohl', 'pierre bérégovoy', 'martine aubry', 'kennedy', 'hitler', \"valéry giscard d'estaing\", 'nasser', 'rabin', 'raymond barre', 'expert', 'shimon peres', 'napoléon', 'eisenhower', 'hasard', 'giscard', 'george bush', 'mao', 'saddam hussein', 'boulin', 'delmas', 'david ben gourion', 'robert badinter', 'georges pompidou', 'anouar el-sadate', 'voulez', 'jean-paul ii', 'christ', 'jimmy carter', 'michel rocard', 'voltaire', 'pierre mendès france', 'pierre mauroy', 'robert', 'regardez', 'marx', 'françoise giroud', 'soudain', 'mendès france', 'pompidou', 'louis xiv', 'mikhaïl gorbatchev', 'churchill', 'deng xiaoping', 'bernard kouchner', 'boris eltsine', 'roosevelt', 'claude bébéar', 'jacques toubon', 'guy mollet', '-', 'alain madelin', 'philippe séguin', 'fidel castro', 'john kennedy', 'françois hollande']\n",
      "mitterrand\n",
      "chirac\n",
      "<empty_str>\n",
      "\n",
      "gaulle\n",
      "président de la république\n",
      "jospin\n",
      "général de gaulle\n",
      "jean-paul\n",
      "christ\n",
      "<empty_str>\n",
      "<empty_str>\n"
     ]
    },
    {
     "data": {
      "text/html": [
       "<div>\n",
       "<style scoped>\n",
       "    .dataframe tbody tr th:only-of-type {\n",
       "        vertical-align: middle;\n",
       "    }\n",
       "\n",
       "    .dataframe tbody tr th {\n",
       "        vertical-align: top;\n",
       "    }\n",
       "\n",
       "    .dataframe thead th {\n",
       "        text-align: right;\n",
       "    }\n",
       "</style>\n",
       "<table border=\"1\" class=\"dataframe\">\n",
       "  <thead>\n",
       "    <tr style=\"text-align: right;\">\n",
       "      <th></th>\n",
       "      <th>Unnamed: 0</th>\n",
       "      <th>PER_entity</th>\n",
       "      <th>PER_count</th>\n",
       "      <th>clean_PER_entity</th>\n",
       "    </tr>\n",
       "  </thead>\n",
       "  <tbody>\n",
       "    <tr>\n",
       "      <th>0</th>\n",
       "      <td>0</td>\n",
       "      <td>françois mitterrand</td>\n",
       "      <td>35</td>\n",
       "      <td>mitterrand</td>\n",
       "    </tr>\n",
       "    <tr>\n",
       "      <th>1</th>\n",
       "      <td>1</td>\n",
       "      <td>jacques chirac</td>\n",
       "      <td>31</td>\n",
       "      <td>chirac</td>\n",
       "    </tr>\n",
       "    <tr>\n",
       "      <th>2</th>\n",
       "      <td>2</td>\n",
       "      <td>ii</td>\n",
       "      <td>29</td>\n",
       "      <td></td>\n",
       "    </tr>\n",
       "    <tr>\n",
       "      <th>3</th>\n",
       "      <td>3</td>\n",
       "      <td>de gaulle</td>\n",
       "      <td>26</td>\n",
       "      <td>gaulle</td>\n",
       "    </tr>\n",
       "    <tr>\n",
       "      <th>4</th>\n",
       "      <td>4</td>\n",
       "      <td>président de la république</td>\n",
       "      <td>26</td>\n",
       "      <td>président de la république</td>\n",
       "    </tr>\n",
       "    <tr>\n",
       "      <th>5</th>\n",
       "      <td>5</td>\n",
       "      <td>lionel jospin</td>\n",
       "      <td>26</td>\n",
       "      <td>jospin</td>\n",
       "    </tr>\n",
       "    <tr>\n",
       "      <th>6</th>\n",
       "      <td>6</td>\n",
       "      <td>général de gaulle</td>\n",
       "      <td>23</td>\n",
       "      <td>général de gaulle</td>\n",
       "    </tr>\n",
       "    <tr>\n",
       "      <th>7</th>\n",
       "      <td>7</td>\n",
       "      <td>chirac</td>\n",
       "      <td>18</td>\n",
       "      <td>chirac</td>\n",
       "    </tr>\n",
       "    <tr>\n",
       "      <th>8</th>\n",
       "      <td>8</td>\n",
       "      <td>yasser arafat</td>\n",
       "      <td>16</td>\n",
       "      <td>arafat</td>\n",
       "    </tr>\n",
       "    <tr>\n",
       "      <th>9</th>\n",
       "      <td>9</td>\n",
       "      <td>mitterrand</td>\n",
       "      <td>16</td>\n",
       "      <td>mitterrand</td>\n",
       "    </tr>\n",
       "  </tbody>\n",
       "</table>\n",
       "</div>"
      ],
      "text/plain": [
       "   Unnamed: 0                  PER_entity  PER_count  \\\n",
       "0           0         françois mitterrand         35   \n",
       "1           1              jacques chirac         31   \n",
       "2           2                          ii         29   \n",
       "3           3                   de gaulle         26   \n",
       "4           4  président de la république         26   \n",
       "5           5               lionel jospin         26   \n",
       "6           6           général de gaulle         23   \n",
       "7           7                      chirac         18   \n",
       "8           8               yasser arafat         16   \n",
       "9           9                  mitterrand         16   \n",
       "\n",
       "             clean_PER_entity  \n",
       "0                  mitterrand  \n",
       "1                      chirac  \n",
       "2                              \n",
       "3                      gaulle  \n",
       "4  président de la république  \n",
       "5                      jospin  \n",
       "6           général de gaulle  \n",
       "7                      chirac  \n",
       "8                      arafat  \n",
       "9                  mitterrand  "
      ]
     },
     "execution_count": 56,
     "metadata": {},
     "output_type": "execute_result"
    }
   ],
   "source": [
    "PER_highest=PER_df[PER_df['PER_count']>5]\n",
    "print(\"There are %s PER entities with >5 occurences.\\n\" %len(PER_highest))\n",
    "print(list(PER_highest.PER_entity))\n",
    "PER_highest[:5]\n",
    "\n",
    "def clean_PER(per_str):\n",
    "    if per_str in ['i', 'ii', 'iii', 'iv', '-', 'xiv']:\n",
    "        print('<empty_str>')\n",
    "        return ''\n",
    "    per_split=per_str.split(' ') # split on whute spaces\n",
    "    per_split=[w.strip('-') for w in per_split if w.strip('-') not in ['', ' ', 'i', 'ii', 'iii', 'iv', '-', 'xiv']] # strip \"-\"\n",
    "    if len(per_split)==1:\n",
    "        return per_split[0]\n",
    "    if len(per_split)==2:\n",
    "        return per_split[1] # assumption: we have first name and family name \n",
    "    else:\n",
    "        if \"président\" in per_split or \"général\" in per_split:\n",
    "            return ' '.join(per_split)\n",
    "        else:\n",
    "            return ' '.join(per_split[1:])\n",
    "    \n",
    "test = ['françois mitterrand', 'jacques chirac', 'ii', 'de gaulle', 'président de la république', 'lionel jospin', 'général de gaulle', 'jean-paul ii', 'christ']   \n",
    "for name in test:\n",
    "    print(clean_PER(name))\n",
    "    \n",
    "PER_df['clean_PER_entity']=PER_df['PER_entity'].apply(lambda x:clean_PER(x))\n",
    "PER_df.head(10)"
   ]
  },
  {
   "cell_type": "code",
   "execution_count": 29,
   "metadata": {},
   "outputs": [
    {
     "name": "stdout",
     "output_type": "stream",
     "text": [
      "There are 154 LOC entities with >6 occurences.\n",
      "\n",
      "['paris', 'france', 'la france', 'etat', 'etats-unis', 'europe', '-', \"l'europe\", 'allemagne', 'américains', 'état', 'de france', 'israël', 'londres', 'jérusalem', 'français', 'grande-bretagne', 'moscou', 'terre', 'washington', 'chine', 'afrique', '»', 'la chine', 'amérique', 'new york', 'algérie', 'allemands', 'angleterre', 'occident', 'berlin', 'italie', 'japon', 'beyrouth', 'espagne', 'genève', 'russie', 'suisse', 'pékin', \"l'amérique\", 'bruxelles', 'soleil', \"l'italie\", 'f', 'gaza', 'liban', 'cisjordanie', 'syrie', 'la terre', 'jordanie', 'iran', 'sinaï', 'asie', 'mercredi', 'damas', 'cher', 'lyon', 'européens', 'lune', \"l'afrique\", 'russes', 'pologne', 'egypte', 'algériens', 'israéliens', 'rome', 'c?ur', 'anglais', 'alger', 'inde', 'cuba', 'arabie saoudite', 'matignon', 'marseille', 'irak', 'vienne', \"l'empire\", 'madrid', 'pacifique', 'hongrie', 'suède', 'bordeaux', \"l'algérie\", 'tunisie', 'strasbourg', 'atlantique', 'britanniques', 'soudan', \"quai d'orsay\", 'mexique', 'belgique', 'sienne', 'maroc', 'chinois', 'japonais', 'italiens', 'téhéran', 'los angeles', \"l'asie\", 'champagne', 'syriens', 'turquie', 'munich', 'egyptiens', 'afrique du sud', 'libye', 'avais', 'danemark', 'américain', 'hexagone', 'portugal', 'au caire', 'koweït', 'méditerranée', 'le soleil', 'canal de suez', 'vatican', 'vichy', 'kremlin', \"l'espagne\", 'caire', 'roumanie', 'tchécoslovaquie', 'norvège', 'tokyo', 'le japon', 'autriche', 'canada', 'versailles', \"côte-d'ivoire\", 'kenya', 'maghreb', 'pakistan', 'laos', 'sénégal', 'francfort', 'vietnam', 'loire', 'toulouse', 'californie', 'prague', 'grèce', 'nigeria', 'gatt', 'du japon', 'madagascar', 'corée', 'congo', 'gabon', 'croyez', 'australie', 'voudrais', 'cambodge', 'luxembourg']\n"
     ]
    },
    {
     "data": {
      "text/html": [
       "<div>\n",
       "<style scoped>\n",
       "    .dataframe tbody tr th:only-of-type {\n",
       "        vertical-align: middle;\n",
       "    }\n",
       "\n",
       "    .dataframe tbody tr th {\n",
       "        vertical-align: top;\n",
       "    }\n",
       "\n",
       "    .dataframe thead th {\n",
       "        text-align: right;\n",
       "    }\n",
       "</style>\n",
       "<table border=\"1\" class=\"dataframe\">\n",
       "  <thead>\n",
       "    <tr style=\"text-align: right;\">\n",
       "      <th></th>\n",
       "      <th>Unnamed: 0</th>\n",
       "      <th>LOC_entity</th>\n",
       "      <th>LOC_count</th>\n",
       "    </tr>\n",
       "  </thead>\n",
       "  <tbody>\n",
       "    <tr>\n",
       "      <th>0</th>\n",
       "      <td>0</td>\n",
       "      <td>paris</td>\n",
       "      <td>158</td>\n",
       "    </tr>\n",
       "    <tr>\n",
       "      <th>1</th>\n",
       "      <td>1</td>\n",
       "      <td>france</td>\n",
       "      <td>156</td>\n",
       "    </tr>\n",
       "    <tr>\n",
       "      <th>2</th>\n",
       "      <td>2</td>\n",
       "      <td>la france</td>\n",
       "      <td>144</td>\n",
       "    </tr>\n",
       "    <tr>\n",
       "      <th>3</th>\n",
       "      <td>3</td>\n",
       "      <td>etat</td>\n",
       "      <td>124</td>\n",
       "    </tr>\n",
       "    <tr>\n",
       "      <th>4</th>\n",
       "      <td>4</td>\n",
       "      <td>etats-unis</td>\n",
       "      <td>116</td>\n",
       "    </tr>\n",
       "  </tbody>\n",
       "</table>\n",
       "</div>"
      ],
      "text/plain": [
       "   Unnamed: 0  LOC_entity  LOC_count\n",
       "0           0       paris        158\n",
       "1           1      france        156\n",
       "2           2   la france        144\n",
       "3           3        etat        124\n",
       "4           4  etats-unis        116"
      ]
     },
     "execution_count": 29,
     "metadata": {},
     "output_type": "execute_result"
    }
   ],
   "source": [
    "LOC_highest=LOC_df[LOC_df['LOC_count']>6]\n",
    "print(\"There are %s LOC entities with >6 occurences.\\n\" %len(LOC_highest))\n",
    "print(list(LOC_highest.LOC_entity))\n",
    "LOC_highest[:5]\n",
    "\n",
    "# no need to clean the entities here because articles like \"la, la l'\" will be cut by preprocessing function"
   ]
  },
  {
   "cell_type": "markdown",
   "metadata": {},
   "source": [
    "Now that we  have looked at the extracted entities, we are going to preprocess them the same way we did for the texts and titles earlier, and then use the keywords we obtain as vocabulary to build a new Tf-Idf matrix. Finally, we re-train k-means models and analyse the results to see if the relevance of individual clusters has improved regarding topic modelling.\n",
    "\n",
    "Note: one possible issue are the surnames that appear as autonomous entities after splitting full names, e.g. \"louis-ferdinand céline\" is a French author, \"céline dion\" is a singer, the family name of the first is the surname of the second. \"Prince Harry\" has nothing to do with singer \"Prince\". We see the need for word embeddings coming right toward us!"
   ]
  },
  {
   "cell_type": "code",
   "execution_count": 57,
   "metadata": {},
   "outputs": [
    {
     "name": "stdout",
     "output_type": "stream",
     "text": [
      "['mitterrand', 'chirac', 'gaull', 'président', 'républ', 'jospin', 'général', 'gaull', 'chirac', 'arafat', 'mitterrand', 'begin', 'clinton', 'pasqu', 'dayan', 'arafat', 'hi', 'stalin', 'jupp', 'balladur', 'major', 'washington', 'begin', 'aviv', 'rabin', 'sadat', 'lénin', 'meir', 'fin', 'kohl', 'bérégovoy', 'aubry', 'kennedy', 'hitl', 'giscard', 'estaing', 'nass', 'rabin', 'barr', 'expert', 'per', 'napoléon', 'eisenhow', 'hasard', 'giscard', 'bush', 'hussein', 'boulin', 'delm', 'gourion', 'badint', 'pompidou', 'sadat', 'voul', 'jean-paul', 'christ', 'cart', 'rocard', 'voltair', 'mendes', 'franc', 'mauroy', 'robert', 'regard', 'marx', 'giroud', 'soudain', 'franc', 'pompidou', 'lou', 'gorbatchev', 'churchill', 'xiaoping', 'kouchn', 'eltsin', 'roosevelt', 'bébéar', 'toubon', 'mollet', 'madelin', 'séguin', 'castro', 'kennedy', 'holland', 'boulin', 'chaban', 'hussein', 'abeb', 'dayan', 'monnet', 'gourion', 'veil', 'président', 'assad', 'peyrefitt', 'zol', 'lund', 'mar', 'philipp', 'schengen', 'bak', 'sinon', 'schneid', 'bercy', 'khrouchtchev', 'sharon', 'sharon', 'chaban', 'lanc', 'auriol', 'carton', 'fontain', 'bel', 'qu?il', 'viol', 'pascal', 'hassan', 'jean', 'sihanouk', 'eichmann', 'cheysson', 'pinochet', 'jox', 'fabius', 'derogy', 'guevar', 'gorbatchev', 'mobutu', 'maman', 'major', 'chateaubriand', 'tranch', 'leclerc', 'aron', 'livraison', 'lescur', 'bertrand', 'charl', 'chou', 'johnson', 'jésus', 'kennedy', 'truman', 'matignon', 'arnault', 'murdoch', 'léotard', 'lunet', 'aubert', 'blondel', 'madon', 'clinton', 'aujourd?hui', 'mendes', 'castro', 'pasteur', 'bollor', 'emmanuel', 'jaffr', 'gat', 'kirch', 'schröder', 'jospin', 'kahn', 'strauss', 'barbat', 'brand', 'tournet', 'boulin', 'lincoln', 'kauffmann', 'marchian', 'hussein', 'jordan', 'djedid', 'chadl', 'sartr', 'khartoum', 'péres', 'faur', 'debr', 'eban', 'bourreau', 'paul', 'reagan', 'cart', 'gagarin', 'beineix', 'mauroy', 'dum', 'kadhaf', 'carlos', 'perrault', 'foccart', 'cervantes', 'franco', 'messm', 'buffet', 'bontem', 'derni', 'kissing', 'après-mid', 'sham', 'carlos', 'avou', 'reagan', 'mandel', 'molotov', 'tito', 'chek', 'mozart', 'jésus', 'christ', 'mar', 'barrot', 'calvet', 'jéricho', 'allah', 'méhaigner', 'gaïdar', 'rupert', 'laurent', 'joseph', 'hugo', 'toung', 'piao', 'shakespear', 'giral', 'gandois', 'seilli', 'stock', 'pineau', 'berluscon', 'bonapart', 'henr', 'dur', 'poulenc', 'freud', 'noir', 'armstrong', 'aidrin', 'nixon', 'assis', 'césar', 'defferr', 'blum', 'messi', 'tchuruk', 'jackson', 'moubarak', 'dout', 'pétain', 'rimbaud', 'schuman', 'cheven', 'meurtri', 'alleg', 'gouffr', 'bush', 'zel', 'limpid', 'irgoun', 'blum', 'march', 'nicol', 'bertrand', 'henry', 'weizmann', 'pétain', 'monsieur', 'colet', 'mohammed', 'papon', 'blair', 'jacqu', 'taylor', 'johnson', 'bousquet', 'hav', 'lamy', 'jacquet', 'mossoul']\n"
     ]
    }
   ],
   "source": [
    "# preprocessing of individual entities\n",
    "\n",
    "#v0: use all entities\n",
    "voc_PER = []\n",
    "for PER in PER_df['clean_PER_entity']:\n",
    "    voc_PER+=prepare_text_stem(PER) # PER : one string, preprocessed PER is a list containing 0 to n strings\n",
    "print(voc_PER)"
   ]
  },
  {
   "cell_type": "code",
   "execution_count": 58,
   "metadata": {},
   "outputs": [
    {
     "name": "stdout",
     "output_type": "stream",
     "text": [
      "['paris', 'franc', 'franc', 'etat', 'etats-un', 'europ', 'europ', 'allemagn', 'américain', 'état', 'franc', 'israël', 'londr', 'jérusalem', 'franc', 'grande-bretagn', 'moscou', 'terr', 'washington', 'chin', 'afriqu', 'chin', 'amer', 'york', 'alger', 'allemand', 'angleterr', 'occident', 'berlin', 'ital', 'japon', 'beyrouth', 'espagn', 'genev', 'russ', 'suiss', 'pékin', 'amer', 'bruxel', 'soleil', 'ital', 'gaz', 'liban', 'cisjordan', 'syr', 'terr', 'jordan', 'iran', 'sinaï', 'asi', 'mercred', 'dam', 'cher', 'lyon', 'européen', 'lun', 'afriqu', 'russ', 'pologn', 'egypt', 'algérien', 'israélien', 'rom', 'c?ur', 'anglais', 'alger', 'inde', 'cub', 'arab', 'saoudit', 'matignon', 'marseil', 'irak', 'vien', 'empir', 'madrid', 'pacif', 'hongr', 'sued', 'bordeau', 'alger', 'tunis', 'strasbourg', 'atlant', 'britann', 'soudan', 'quai', 'orsay', 'mexiqu', 'belgiqu', 'sien', 'maroc', 'chinois', 'japon', 'italien', 'téhéran', 'angel', 'asi', 'champagn', 'syrien', 'turqu', 'munich', 'egyptien', 'afriqu', 'liby', 'danemark', 'américain', 'hexagon', 'portugal', 'cair', 'koweït', 'méditerran', 'soleil', 'canal', 'su', 'vatican', 'vichy', 'kremlin', 'espagn', 'cair', 'rouman', 'tchécoslovaqu', 'norveg', 'tokyo', 'japon', 'autrich', 'canad', 'versaill', \"côte-d'ivoir\", 'keni', 'maghreb', 'pakistan', 'laos', 'sénégal', 'francfort', 'vietnam', 'loir', 'toulous', 'californ', 'pragu', 'grec', 'nigeri', 'gatt', 'japon', 'madagascar', 'cor', 'congo', 'gabon', 'croi', 'austral', 'voudr', 'cambodg', 'luxembourg', 'autops', 'yvelin', 'samar', 'sympath', 'tripol', 'sein', 'cnr', 'ethiop', 'philippin', 'intend', 'aim', 'rhôn', 'afghanistan', 'guadeloup', 'argentin', 'lill', 'bosn', 'hongkong', 'milan', 'espagnol', 'normand', 'républ', 'tchequ', 'brésil', 'ukrain', 'bercy', 'liberi', 'unedic', 'forêt', 'rambouillet', 'mar', 'palestin', 'tun', 'amer', 'géorg', 'lsraël', 'pologn', 'marrakech', 'milicien', 'rendez-vous', 'bon', 'bagdad', 'plateau', 'golan', 'jourdain', 'car', 'pyren', 'magistrat', 'foot', 'shangh', 'maastricht', 'yen', 'mogadiscio', 'amman', 'cameroun', 'nant', 'tex', 'sahar', 'guin', 'tchad', 'afriqu', 'noir', 'bavi', 'cour', 'cassat', 'voi', 'girond', 'budapest', 'cor', 'auschwitz', 'turc', 'roissy', 'aquitain', 'afriqu', 'nord', 'thaïland', 'hollywood', 'indochin', 'hauts-de-sein', 'neuilly', 'séoul', 'allais', 'roug', 'grand-pein', 'cors', 'micro', 'clandestin', 'chil', 'dakar', 'belgrad', 'orly', 'cour', 'appel', 'paris', 'barcelon', 'golan', 'jud', 'état', 'major', 'parisien', 'egypt', 'alpe', 'qu?on', 'qu?el', 'pêle-mêl', 'vietnamien', 'angol', 'alsac', 'peur', 'nanterr', 'vrais', 'rab', 'royaum', 'vauclus', 'grand', 'israël', 'terr', 'saint', 'coca-col', 'ile-de-fr', 'montpelli', 'conakry', 'mal', 'gendarmer', 'seine-saint-den', 'côt', 'azur', 'trésor', 'pal', 'présidentiel', 'balkan', 'chypr', 'buenos', 'air', 'cubain', 'havan', 'chicago', 'tortur', 'pal', 'bourbon', 'aub', 'cor', 'nord', 'tuer', 'vosg', 'outre-rhin', 'singapour', 'somal', 'pay', 'basqu', 'monrovi', 'medef', 'houston', 'bretagn', 'moyen-orient', 'colomb', 'kabyl', 'garde-à-vous', 'outranc', 'express', 'bangladesh', 'reim', 'qu?il', 'iranien', 'abidjan', 'haïf', 'bâl', 'cognac', 'kak', 'quai', 'beka', 'santiago', 'chilien', 'cel', 'florid', 'otag', 'khomeiny', 'orne', 'montparn', 'manch', 'boulin', 'loir', 'man?uvr', 'mayen', 'pal', 'bourbon', 'yon', 'comédien', 'maritim', 'grenobl', 'provenc', 'berlinois', 'pruss', 'allemand', 'paraplui', 'hanoi', 'unis', 'sicil', 'xvi', 'ital', 'chari', 'bicyclet', 'canton', 'wuhan', 'républ', 'serb', 'ruhr', 'sur-le-champ', 'asi', 'sud-est', 'rhin', 'brandebourg', 'républ', 'populair', 'chin', 'caraïb', 'hérault', 'alexandr', 'vill', 'saint', 'surv', 'nancy', 'delh', 'nankin', 'kennedy', 'cair', 'africain', 'boston', 'saint-gobain', 'saint-pétersbourg', 'xvii', 'bretton', 'wood', 'dijon', 'cour', 'suprêm', 'squar', 'saigon', 'constantinopl', 'océan', 'indien', 'sarajevo', 'lourd', 'flandr', 'finland', 'kazakhstan', 'tech', 'québec', 'draguignan', 'antill', 'martin', 'keffieh', 'lausann', 'virgin', 'faim', 'bilbao', 'ren', 'blois', 'stockholm', 'stern', 'saint-den', 'franc', 'nicaragu', 'républ', 'weimar', 'malaysi', 'républ', 'fédéral', 'xii', 'goulag', 'epinal', 'craqu', 'oper', 'taiwan', 'indones', 'stuttgart', 'kalachnikov', 'affût', 'bâton', 'khartoum', 'poing', 'troy', 'cambodgien', 'gris', 'casern', 'oxford', 'afghan', 'chin', 'bokass', 'blanc', 'ois', 'danon', 'népal', 'guyan', 'rez-de-chauss', 'côt', 'ivoir', 'fisc', 'wall', 'street', 'venis', 'haute-garon', 'irakien']\n"
     ]
    }
   ],
   "source": [
    "#v0: use all entities\n",
    "voc_LOC = []\n",
    "for LOC in LOC_df['LOC_entity']:\n",
    "    voc_LOC+=prepare_text_stem(LOC) # idem\n",
    "print(voc_LOC)"
   ]
  },
  {
   "cell_type": "code",
   "execution_count": 59,
   "metadata": {},
   "outputs": [
    {
     "name": "stdout",
     "output_type": "stream",
     "text": [
      "Entity-based vocabulary of size  632\n",
      "['républ', 'lsraël', 'goulag', 'bicyclet', 'otag', 'chinois', 'sein', 'kabyl', 'hasard', 'tranch', 'somal', 'espagn', 'pêle-mêl', 'appel', 'laurent', 'cart', 'gaz', 'empir', 'bretagn', 'saint-den', 'stalin', 'neuilly', 'chilien', 'rouman', 'mohammed', 'liby', 'micro', 'veil', 'canal', 'hussein', 'kalachnikov', 'pruss', 'algérien', 'hexagon', 'jean', 'bavi', 'nanterr', 'gatt', 'eisenhow', 'pakistan', 'rabin', 'schuman', 'bangladesh', 'ukrain', 'maman', 'philipp', 'chaban', 'schröder', 'normand', 'congo', 'irakien', 'lou', 'irak', 'ital', 'kauffmann', 'freud', 'jourdain', 'pinochet', 'bilbao', 'schengen', 'gabon', 'rupert', 'tournet', 'chadl', 'sicil', 'kirch', 'zol', 'mozart', 'hugo', 'noir', 'napoléon', 'guin', 'vauclus', 'rhin', 'téhéran', 'foot', 'anglais', 'aidrin', 'virgin', 'air', 'foccart', 'norveg', 'moscou', 'aujourd?hui', 'milan', 'draguignan', 'casern', 'vosg', 'wall', 'reim', 'cassat', 'pompidou', 'hanoi', 'trésor', 'gandois', 'march', 'asi', 'taiwan', 'oxford', 'sympath', 'hauts-de-sein', 'lénin', 'aim', 'vrais', 'chil', 'djedid', 'milicien', 'gouffr', 'occident', 'tech', 'tortur', 'chek', 'montpelli', 'guyan', 'arafat', 'hérault', 'giscard', 'jox', 'derni', 'roissy', 'lanc', 'strauss', 'sinon', 'bourreau', 'américain', 'meurtri', 'piao', 'suiss', 'sihanouk', 'jupp', 'pacif', 'yen', 'philippin', 'géorg', 'bontem', 'général', 'livraison', 'marrakech', 'dayan', 'hollywood', 'cel', 'malaysi', 'lamy', 'su', 'buenos', 'angel', 'bak', 'per', 'beineix', 'shangh', 'grande-bretagn', 'girond', 'sarajevo', 'paraplui', 'flandr', 'chirac', 'delh', 'pyren', 'bollor', 'gorbatchev', 'sur-le-champ', 'mexiqu', 'tchequ', 'jacquet', 'begin', 'césar', 'suprêm', 'mobutu', 'buffet', 'indochin', 'indones', 'dam', 'saint-gobain', 'syr', 'auschwitz', 'badint', 'aubry', 'lescur', 'toubon', 'garde-à-vous', 'nigeri', 'tex', 'blair', 'portugal', 'soleil', 'carlos', 'madagascar', 'pay', 'marchian', 'emmanuel', 'bourbon', 'bordeau', 'grec', 'allemand', 'keffieh', 'gagarin', 'aub', 'kissing', 'danon', 'castro', 'medef', 'saint', 'saoudit', 'florid', 'laos', 'abeb', 'lund', 'berluscon', 'président', 'syrien', 'cognac', 'atlant', 'qu?on', 'cair', 'beyrouth', 'holland', 'péres', 'cambodgien', 'clinton', 'bâl', 'roosevelt', 'xvii', 'israélien', 'manch', 'gaïdar', 'khrouchtchev', 'londr', 'lourd', 'britann', 'soudain', 'maghreb', 'mitterrand', 'chicago', 'lausann', 'budapest', 'meir', 'brand', 'fin', 'coca-col', 'christ', 'californ', 'mogadiscio', 'kouchn', 'truman', 'monsieur', 'comédien', 'car', 'abidjan', 'havan', 'liberi', 'clandestin', 'indien', 'orly', 'populair', 'moubarak', 'marx', 'bagdad', 'brésil', 'inde', 'autops', 'sien', 'vichy', 'kennedy', 'jud', 'lincoln', 'bébéar', 'barcelon', 'zel', 'leclerc', 'street', 'franco', 'unedic', 'bousquet', 'qu?il', 'man?uvr', 'ruhr', 'sharon', 'bretton', 'hongkong', 'finland', 'barbat', 'grand-pein', 'angol', 'saint-pétersbourg', 'xvi', 'derogy', 'bertrand', 'xii', 'québec', 'croi', 'bosn', 'présidentiel', 'hassan', 'roug', 'c?ur', 'aviv', 'soudan', 'mercred', 'pal', 'allais', 'toulous', 'nord', 'pascal', 'vietnamien', 'bel', 'cisjordan', 'vatican', 'bruxel', 'schneid', 'voi', 'espagnol', 'turqu', 'cameroun', 'ois', 'nixon', 'colet', 'surv', 'méhaigner', 'oper', 'gaull', 'aquitain', 'henry', 'rom', 'blanc', 'barr', 'haïf', 'grand', 'charl', 'munich', 'alleg', 'mendes', 'versaill', 'paul', 'iranien', 'kak', 'parisien', 'affût', 'amer', 'chateaubriand', 'chin', 'mayen', 'messi', 'cheven', 'santiago', 'lunet', 'après-mid', 'côt', 'mandel', 'nankin', 'fabius', 'eichmann', 'churchill', 'haute-garon', 'alpe', 'hi', 'seilli', 'séguin', 'brandebourg', 'golan', 'joseph', 'egypt', 'cour', 'austral', 'houston', 'papon', 'tchad', 'magistrat', 'hongr', 'forêt', 'rendez-vous', 'cub', 'belgiqu', 'peyrefitt', 'robert', 'alsac', 'rimbaud', 'monnet', 'samar', 'colomb', 'maritim', 'outre-rhin', 'henr', 'danemark', 'jaffr', 'intend', 'basqu', 'boston', 'champagn', 'cher', 'constantinopl', 'nancy', 'rambouillet', 'terr', 'conakry', 'quai', 'népal', 'sud-est', 'arnault', 'armstrong', 'nicaragu', 'vill', 'carton', 'vien', 'weimar', 'autrich', 'yvelin', 'européen', 'berlin', 'cubain', 'blois', 'francfort', 'rhôn', 'sénégal', 'russ', 'nicol', 'epinal', 'jésus', 'venis', 'toung', 'israël', 'debr', 'aron', 'thaïland', 'africain', 'regard', 'cnr', 'taylor', 'sahar', 'argentin', 'matignon', \"côte-d'ivoir\", 'auriol', 'pineau', 'squar', 'alexandr', 'royaum', 'mauroy', 'tripol', 'jéricho', 'monrovi', 'yon', 'palestin', 'koweït', 'faim', 'allah', 'etats-un', 'pékin', 'boulin', 'saigon', 'dout', 'stern', 'troy', 'blondel', 'hav', 'irgoun', 'chypr', 'nass', 'bush', 'express', 'voul', 'paris', 'pétain', 'johnson', 'bâton', 'montparn', 'franc', 'jérusalem', 'ren', 'tokyo', 'xiaoping', 'berlinois', 'afriqu', 'méditerran', 'balkan', 'wood', 'reagan', 'caraïb', 'major', 'giral', 'amman', 'europ', 'voudr', 'iran', 'gat', 'maroc', 'pasteur', 'océan', 'perrault', 'rez-de-chauss', 'bérégovoy', 'martin', 'keni', 'fisc', 'alger', 'madon', 'dur', 'chari', 'pasqu', 'cor', 'peur', 'eban', 'guadeloup', 'fontain', 'sued', 'poulenc', 'weizmann', 'expert', 'jordan', 'avou', 'bon', 'pragu', 'barrot', 'mar', 'blum', 'tchécoslovaqu', 'lyon', 'kadhaf', 'jackson', 'egyptien', 'etat', 'serb', 'delm', 'madelin', 'ile-de-fr', 'tuer', 'limpid', 'poing', 'seine-saint-den', 'afghanistan', 'stock', 'luxembourg', 'ivoir', 'bonapart', 'aubert', 'rocard', 'tito', 'maastricht', 'washington', 'sinaï', 'mossoul', 'allemagn', 'cervantes', 'lun', 'mollet', 'sham', 'marseil', 'tchuruk', 'azur', 'dakar', 'gourion', 'sadat', 'bokass', 'loir', 'hitl', 'fédéral', 'khartoum', 'qu?el', 'arab', 'provenc', 'assis', 'canton', 'cambodg', 'gendarmer', 'shakespear', 'pologn', 'york', 'japon', 'stockholm', 'cheysson', 'giroud', 'antill', 'estaing', 'assad', 'outranc', 'voltair', 'tunis', 'état', 'kohl', 'afghan', 'jean-paul', 'tun', 'liban', 'plateau', 'wuhan', 'vietnam', 'singapour', 'nant', 'mal', 'italien', 'eltsin', 'grenobl', 'madrid', 'lill', 'beka', 'angleterr', 'strasbourg', 'turc', 'léotard', 'balladur', 'stuttgart', 'kremlin', 'messm', 'defferr', 'kazakhstan', 'faur', 'rab', 'guevar', 'cors', 'belgrad', 'viol', 'murdoch', 'orne', 'ethiop', 'unis', 'dijon', 'calvet', 'orsay', 'jacqu', 'moyen-orient', 'craqu', 'chou', 'canad', 'khomeiny', 'kahn', 'gris', 'dum', 'bercy', 'séoul', 'molotov', 'jospin', 'sartr', 'genev']\n"
     ]
    }
   ],
   "source": [
    "# define vocab\n",
    "my_vocab=list(set(voc_LOC+voc_PER))\n",
    "print(\"Entity-based vocabulary of size \", len(my_vocab))\n",
    "print(my_vocab)"
   ]
  },
  {
   "cell_type": "markdown",
   "metadata": {},
   "source": [
    "__KMeans__"
   ]
  },
  {
   "cell_type": "code",
   "execution_count": 33,
   "metadata": {},
   "outputs": [
    {
     "name": "stdout",
     "output_type": "stream",
     "text": [
      "(726, 322)\n"
     ]
    },
    {
     "data": {
      "image/png": "[encoded data removed]",
      "text/plain": [
       "<Figure size 1440x720 with 1 Axes>"
      ]
     },
     "metadata": {
      "needs_background": "light"
     },
     "output_type": "display_data"
    }
   ],
   "source": [
    "## PER entities only ##\n",
    "\n",
    "# fit new tf-idf on all preprocessed texts with new vocab and constraints on document frequency and number of tokens\n",
    "tfidf_vectorizer_vocab=TfidfVectorizer(vocabulary=list(set(voc_PER))) # my_vocab = PER+LOC preprocessed entities\n",
    "X_vocab = tfidf_vectorizer_vocab.fit_transform(news_df.pre_text) # X is a matrix\n",
    "print(X_vocab.shape)\n",
    "\n",
    "# training\n",
    "k_scores=[]\n",
    "for k in range(2, 21):\n",
    "    k_model = KMeans(n_clusters=k, init='k-means++', max_iter=100, n_init=1, random_state=2905,)\n",
    "    k_labels = k_model.fit_predict(X_vocab)\n",
    "    score = silhouette_score(X_vocab, k_labels,metric='cosine', sample_size=None)\n",
    "    k_scores.append(score)\n",
    "    \n",
    "# visualize\n",
    "plt.figure(figsize=(20,10))\n",
    "x_val = [k for k in range(2,21)]\n",
    "y_val = k_scores\n",
    "plt.plot(x_val,y_val)\n",
    "\n",
    "plt.plot(x_val,y_val,'ob') \n",
    "plt.plot(x_val[np.argmax(y_val)], np.max(y_val), 'or') \n",
    "plt.annotate(\"Best k value\",\n",
    "             (x_val[np.argmax(y_val)], np.max(y_val)),\n",
    "             textcoords=\"offset points\", \n",
    "             xytext=(0,-40), \n",
    "             ha='center')\n",
    "best_k=x_val[np.argmax(y_val)]\n",
    "plt.xlabel('Number of clusters')\n",
    "plt.ylabel('Silhouette Score')\n",
    "plt.title('Silhouette score in function of the number of clusters') \n",
    "plt.show()"
   ]
  },
  {
   "cell_type": "code",
   "execution_count": 34,
   "metadata": {},
   "outputs": [
    {
     "name": "stdout",
     "output_type": "stream",
     "text": [
      "k_PER_20\n",
      "0       5\n",
      "1      21\n",
      "2       2\n",
      "3     258\n",
      "4      18\n",
      "5      19\n",
      "6     120\n",
      "7       5\n",
      "8      25\n",
      "9      79\n",
      "10      6\n",
      "11     25\n",
      "12      3\n",
      "13     11\n",
      "14      7\n",
      "15     51\n",
      "16      7\n",
      "17      6\n",
      "18     15\n",
      "19     43\n",
      "Name: year, dtype: int64\n",
      "\n",
      "Cluster  0\n",
      "88                                  QUERELLE DE CHIFFRES\n",
      "303    La ponction sur le marche financier pourrait a...\n",
      "329                          Les nouvelles regles du jeu\n",
      "396                      Juppe s attaque a la corruption\n",
      "457                                      Parretti menacé\n",
      "Name: title, dtype: object\n",
      "\n",
      "Cluster  1\n",
      "2                      Des pierres contre les certitudes\n",
      "14     (1e janvier 1988) Benazir Bhutto: l'Antigone d...\n",
      "126                                 Notre père d'orgueil\n",
      "142                                   Le juge implacable\n",
      "200         Les Nigérians misent désormais sur la famine\n",
      "231                       Suédoises : le combat sans fin\n",
      "249    Maternité - René-Charles Rudigoz: le professeu...\n",
      "250                     Lorsque le désir d'enfant paraît\n",
      "263                       Le Jurassic Park du communisme\n",
      "271                          A 12 ans, esclave et martyr\n",
      "Name: title, dtype: object\n",
      "\n",
      "Cluster  2\n",
      "78                     Une Sciences po au Carrefour\n",
      "84    L impossible reponse concertee a la recession\n",
      "Name: title, dtype: object\n",
      "\n",
      "Cluster  3\n",
      "1         Le faux suicide de Robert Boulin\n",
      "8     Les deux mois qui ont ébranlé Israël\n",
      "9                   Ponge: l'homme objets.\n",
      "10         Pourquoi est mort Georges Besse\n",
      "11        La longue marche du Che africain\n",
      "13                  L'aide, malgré tout...\n",
      "15                Le triangle des soupçons\n",
      "17            Et si Darwin s'était trompé?\n",
      "18                 Dayan, symbole d'Israël\n",
      "19                                    Diva\n",
      "Name: title, dtype: object\n",
      "\n",
      "Cluster  4\n",
      "27                                  La Nasa sous tutelle\n",
      "50     Retour sur les manifestations de novembre 1989...\n",
      "77                              PAYSANS, MAIS PAS PLOUCS\n",
      "80                                LES LIAISONS HEUREUSES\n",
      "109                             COMPACT: L'IREST EN TETE\n",
      "161                          Embellie dans le flaconnage\n",
      "269                                       sur les écrans\n",
      "317    Le japon prefere la competitivite a la product...\n",
      "422                    L'armée met les islamistes au pas\n",
      "432                            Modes de vie: Temps libre\n",
      "Name: title, dtype: object\n",
      "\n",
      "Cluster  5\n",
      "95                               Les limites du droit\n",
      "282                      Elysée 95 - Vu de l'étranger\n",
      "304            Les patrons se defient du gouvernement\n",
      "400          Faut il a nouveau consulter les francais\n",
      "479               Du rideau de fer au rideau d argent\n",
      "488                La Lune Chirac et le Soleil Jospin\n",
      "506        Fiscalite jospin promet une baisse en 2001\n",
      "526    Gerhard schroder baisse massivement les impots\n",
      "530    Lionel jospin parie sur une france tgv en 2000\n",
      "534       Baisse de la tva dans la restauration suite\n",
      "Name: title, dtype: object\n",
      "\n",
      "Cluster  6\n",
      "3             Otages: soudain, mercredi soir...\n",
      "4               Les secrets de la planète rouge\n",
      "6     Pierre Quinon, discret champion olympique\n",
      "12                            Mémoire d'Algérie\n",
      "26              L'Express retrouve Paul Touvier\n",
      "28        France: fausses stars et vrais agents\n",
      "32                      Coluche père nourricier\n",
      "33              Terrorisme: le marchandage raté\n",
      "39       1973 : les hors-la-loi de l'avortement\n",
      "53               L'abbé Pierre: un sacré destin\n",
      "Name: title, dtype: object\n",
      "\n",
      "Cluster  7\n",
      "107               Russie l economie de bazar\n",
      "151    La maladie politique de boris eltsine\n",
      "180                     L'étreinte de l'Ours\n",
      "662                        Dérapage contrôlé\n",
      "685                         Eltsine en otage\n",
      "Name: title, dtype: object\n",
      "\n",
      "Cluster  8\n",
      "16                         L'ombre sur la campagne\n",
      "114                          L'APEC CHANGE DE TETE\n",
      "174    \"Que mes lèvres ne sont-elles des cerises!\"\n",
      "185            Calvet imprecateur un role epuisant\n",
      "216                          L'enjeu des Chorégies\n",
      "221                                     Vu de Bonn\n",
      "228                                  Tours de guet\n",
      "241                              EXPRESS politique\n",
      "242    Controle budgetaire histoire d un hara kiri\n",
      "252                           Chirac en son miroir\n",
      "Name: title, dtype: object\n",
      "\n",
      "Cluster  9\n",
      "73                    24 degrés sous la couette\n",
      "82                       LES GUIGNOLS DE L'INFO\n",
      "90                             L europe envahie\n",
      "97                                      Reperes\n",
      "98                  Quelle politique étrangère?\n",
      "108                            Reperes economie\n",
      "122                                       Utile\n",
      "135    Janvier 1960: Cameroun, le deuxième mari\n",
      "139            Taux d interet le debat interdit\n",
      "144                   Les intempéries tempérées\n",
      "Name: title, dtype: object\n",
      "\n",
      "Cluster  10\n",
      "48                Pascal Dibie, l'ethnologue de sa tribu\n",
      "509                                                  18h\n",
      "540    Le directeur des impots confirme 3 000 suppres...\n",
      "549                                                  18h\n",
      "580    Omc lamy inquiet par l etat de preparation de ...\n",
      "634                                  L'enfance en pâture\n",
      "Name: title, dtype: object\n",
      "\n",
      "Cluster  11\n",
      "54         Mars 1989: la Pologne s'ouvre au capitalisme\n",
      "94     1981 1993 les socialistes et le marche politique\n",
      "143                                       Express Santé\n",
      "152                                           Le dollar\n",
      "155             La bourse italienne surmontera la crise\n",
      "188                           Revivre à Kangaroo Island\n",
      "193                           Fremissement sur l ancien\n",
      "210                    Les Français au bord de l'Europe\n",
      "233                 Un grand financier qui aime les pme\n",
      "243                    Classement mva eva mode d emploi\n",
      "Name: title, dtype: object\n",
      "\n",
      "Cluster  12\n",
      "335    Espoir sans illusions\n",
      "363      Jérusalem: l'espoir\n",
      "387       Lendemains de fête\n",
      "Name: title, dtype: object\n",
      "\n",
      "Cluster  13\n",
      "5           La marche forcée d'Abou Ammar\n",
      "42                Yasser Arafat intronisé\n",
      "49                           Douce France\n",
      "85           Hamas occupe les Territoires\n",
      "101                       La paix en face\n",
      "104    Histoire secrète d'une négociation\n",
      "192                    Comptes et légende\n",
      "273            Gaza: le mois le plus long\n",
      "301              Un gage de bonne volonté\n",
      "351               Les ambiguïtés d'Arafat\n",
      "Name: title, dtype: object\n",
      "\n",
      "Cluster  14\n",
      "25                               «Mlle Chopinet»\n",
      "37              Avortement: la peur des médecins\n",
      "57                        Le faucon à deux têtes\n",
      "72                        LA CAROTTE ET LE BATON\n",
      "449                                    35 heures\n",
      "500                                          18h\n",
      "545    41 des patrons de pme pour le paritarisme\n",
      "Name: title, dtype: object\n",
      "\n",
      "Cluster  15\n",
      "0                            Tintin dans l'espace\n",
      "22                  1975 : Simone Veil s'explique\n",
      "29                         Pinochet sans complexe\n",
      "47                  Le feuilleton Patricia Hearst\n",
      "51    Août 1989: Solidarité au pouvoir en Pologne\n",
      "56                  Algérie: Les jokers de Chadli\n",
      "69                      Chine : le typhon Liberté\n",
      "76        Japon la crise et ce qu elle va changer\n",
      "89        Ce que masquent les tarifs transparents\n",
      "92           Comment bien gerer son capital image\n",
      "Name: title, dtype: object\n",
      "\n",
      "Cluster  16\n",
      "343                       Plus jamais Yamit\n",
      "344                     L'heure des comptes\n",
      "346                      Le Cactus du Sinaï\n",
      "347               Un Etat comme les autres?\n",
      "364                Les fantômes de l'lrgoun\n",
      "369                              Le verdict\n",
      "378    Jérusalem: I'éternité jusqu'à quand?\n",
      "Name: title, dtype: object\n",
      "\n",
      "Cluster  17\n",
      "172                                      L'ASIE CENTRALE\n",
      "208                 La densité de l'implantation rebelle\n",
      "218    Français, quelles sont vos racines? - Entre sa...\n",
      "276    Français, quelles sont vos racines? - Un voyag...\n",
      "572                             Préparez-vous au 11 août\n",
      "587                         Bull accelere son recentrage\n",
      "Name: title, dtype: object\n",
      "\n",
      "Cluster  18\n",
      "96                     Les hommes, les femmes et l'amour\n",
      "105         Tapie et l'OM: Carton jaune ou carton rouge?\n",
      "106    Lundi 25 octobre thierry consigny 32 ans direc...\n",
      "124                         Bernard Ucla: Madagascar1853\n",
      "195                         Ce qui fait peur aux Suisses\n",
      "244    express monde - Québec: Premier ministre chari...\n",
      "245                     Tapie, le prisonnier du mensonge\n",
      "306                                   ACCOR SOUS LE CHOC\n",
      "341                                La vallée de la honte\n",
      "461                         Les rescapés du \"Santa Rita\"\n",
      "Name: title, dtype: object\n",
      "\n",
      "Cluster  19\n",
      "7                       Algérie: la faillite sanglante\n",
      "21     Un témoignage exclusif : ainsi finit Phnom Penh\n",
      "40                      Guerre de Kippour. Extraits...\n",
      "55                               Ozone: délit de fuite\n",
      "61                        Famines et droits de l'homme\n",
      "83                       L'ONU au-dessus de ses forces\n",
      "93                               Un étonnant mammifère\n",
      "111                     Si les nappes pouvaient parler\n",
      "130      \"Cette victoire, nous la devons à nous seuls\"\n",
      "149                                   Votre evaluation\n",
      "Name: title, dtype: object\n"
     ]
    }
   ],
   "source": [
    "news_clusters[\"k_PER_\"+str(best_k)]=KMeans(n_clusters=best_k, init='k-means++', max_iter=100, n_init=1, random_state=2905).fit_predict(X_vocab)\n",
    "\n",
    "# repartition\n",
    "print(news_clusters.groupby([\"k_PER_\"+str(best_k)])[\"year\"].count())\n",
    "\n",
    "# Try to identify topics inside clusters\n",
    "for i in range(best_k):\n",
    "    print(\"\\nCluster \", i)\n",
    "    print(news_clusters[news_clusters[\"k_PER_\"+str(best_k)]==i].title[:10]) # print 10 titles from each cluster"
   ]
  },
  {
   "cell_type": "code",
   "execution_count": 35,
   "metadata": {},
   "outputs": [
    {
     "name": "stdout",
     "output_type": "stream",
     "text": [
      "(726, 402)\n"
     ]
    },
    {
     "data": {
      "image/png": "[encoded data removed]",
      "text/plain": [
       "<Figure size 1440x720 with 1 Axes>"
      ]
     },
     "metadata": {
      "needs_background": "light"
     },
     "output_type": "display_data"
    }
   ],
   "source": [
    "## LOC entities only ##\n",
    "\n",
    "# fit new tf-idf on all preprocessed texts with new vocab and constraints on document frequency and number of tokens\n",
    "tfidf_vectorizer_vocab=TfidfVectorizer(vocabulary=list(set(voc_LOC))) # my_vocab = PER+LOC preprocessed entities\n",
    "X_vocab = tfidf_vectorizer_vocab.fit_transform(news_df.pre_text) # X is a matrix\n",
    "print(X_vocab.shape)\n",
    "\n",
    "# training\n",
    "k_scores=[]\n",
    "for k in range(2, 21):\n",
    "    k_model = KMeans(n_clusters=k, init='k-means++', max_iter=100, n_init=1, random_state=2905,)\n",
    "    k_labels = k_model.fit_predict(X_vocab)\n",
    "    score = silhouette_score(X_vocab, k_labels,metric='cosine', sample_size=None)\n",
    "    k_scores.append(score)\n",
    "    \n",
    "# visualize\n",
    "plt.figure(figsize=(20,10))\n",
    "x_val = [k for k in range(2,21)]\n",
    "y_val = k_scores\n",
    "plt.plot(x_val,y_val)\n",
    "\n",
    "plt.plot(x_val,y_val,'ob') \n",
    "plt.plot(x_val[np.argmax(y_val)], np.max(y_val), 'or') \n",
    "plt.annotate(\"Best k value\",\n",
    "             (x_val[np.argmax(y_val)], np.max(y_val)),\n",
    "             textcoords=\"offset points\", \n",
    "             xytext=(0,-40), \n",
    "             ha='center')\n",
    "best_k=x_val[np.argmax(y_val)]\n",
    "plt.xlabel('Number of clusters')\n",
    "plt.ylabel('Silhouette Score')\n",
    "plt.title('Silhouette score in function of the number of clusters') \n",
    "plt.show()"
   ]
  },
  {
   "cell_type": "markdown",
   "metadata": {},
   "source": [
    "The graph outlook is quite strange but good news is the silhouette score, although remaining low, is higher than the first time.  Let's see if clusters can be directly mapped to topics at this stage."
   ]
  },
  {
   "cell_type": "code",
   "execution_count": 36,
   "metadata": {
    "scrolled": false
   },
   "outputs": [
    {
     "name": "stdout",
     "output_type": "stream",
     "text": [
      "k_PER_17\n",
      "0      22\n",
      "1      49\n",
      "2      33\n",
      "3      37\n",
      "4     195\n",
      "5      58\n",
      "6       9\n",
      "7      91\n",
      "8      10\n",
      "9      29\n",
      "10     31\n",
      "11     19\n",
      "12     35\n",
      "13     40\n",
      "14      7\n",
      "15     15\n",
      "16     46\n",
      "Name: year, dtype: int64\n",
      "\n",
      "Cluster  0\n",
      "68                            L'envers du paradis en RFA\n",
      "148                                  Méphisto, le retour\n",
      "162                         DRESDE OU LA MÉMOIRE BLESSÉE\n",
      "254                   La joie blessée d'un \"malgré-nous\"\n",
      "308                     Les Tziganes, parias de 1'Europe\n",
      "328                          Les trois crises allemandes\n",
      "462    Du Vel d'Hiv' aux camps, l'histoire de millier...\n",
      "497    Allemagne accord de principe sur la retraite a...\n",
      "501                      Theo waigel conseillera alcatel\n",
      "508         Deutsche telekom sanctionne la deutsche bank\n",
      "Name: title, dtype: object\n",
      "\n",
      "Cluster  1\n",
      "22               1975 : Simone Veil s'explique\n",
      "37            Avortement: la peur des médecins\n",
      "76     Japon la crise et ce qu elle va changer\n",
      "97                                     Reperes\n",
      "111             Si les nappes pouvaient parler\n",
      "125                    Prix et justice sociale\n",
      "137         Les patrons cherchent un repreneur\n",
      "177           Astérix vu par...Theodore Zeldin\n",
      "223                                    Syndics\n",
      "243           Classement mva eva mode d emploi\n",
      "Name: title, dtype: object\n",
      "\n",
      "Cluster  2\n",
      "35           Goytisolo, sarrasin d'Espagne\n",
      "73               24 degrés sous la couette\n",
      "78            Une Sciences po au Carrefour\n",
      "102                     DRÔLE D'ATMOSPHERE\n",
      "116                  Courrier des lecteurs\n",
      "146                  RENSEIGNEMENTS UTILES\n",
      "176                            Un été 1964\n",
      "193              Fremissement sur l ancien\n",
      "233    Un grand financier qui aime les pme\n",
      "354                         La saga du Sac\n",
      "Name: title, dtype: object\n",
      "\n",
      "Cluster  3\n",
      "17        Et si Darwin s'était trompé?\n",
      "30              Le drame de Challenger\n",
      "64             URSS: l'espace en panne\n",
      "129              Les morts de l'espace\n",
      "134                 Un grand capitaine\n",
      "152                          Le dollar\n",
      "234            Le monde est mon client\n",
      "267    Budget bagarre a coups de bebes\n",
      "282       Elysée 95 - Vu de l'étranger\n",
      "288            \"Kennedy dans la crise\"\n",
      "Name: title, dtype: object\n",
      "\n",
      "Cluster  4\n",
      "1                      Le faux suicide de Robert Boulin\n",
      "7                        Algérie: la faillite sanglante\n",
      "13                               L'aide, malgré tout...\n",
      "18                              Dayan, symbole d'Israël\n",
      "23                     Le bureau livré à l'informatique\n",
      "36    20 décembre 1973 : l'attentat contre Carrero B...\n",
      "48               Pascal Dibie, l'ethnologue de sa tribu\n",
      "52                                  L'énigme des bocaux\n",
      "58                              No future à Bab el-Oued\n",
      "65                               La revanche des Serbes\n",
      "Name: title, dtype: object\n",
      "\n",
      "Cluster  5\n",
      "10                 Pourquoi est mort Georges Besse\n",
      "43                           Le pouvoir des femmes\n",
      "51     Août 1989: Solidarité au pouvoir en Pologne\n",
      "103                           LE PROGRÈS FAIT RAGE\n",
      "145                     Révélations sur un carnage\n",
      "164                Le vague à l'âme du mont Fêtard\n",
      "188                      Revivre à Kangaroo Island\n",
      "211            Le combat du général de Bollardière\n",
      "214                   Edgar Morin et la complexité\n",
      "250               Lorsque le désir d'enfant paraît\n",
      "Name: title, dtype: object\n",
      "\n",
      "Cluster  6\n",
      "9               Ponge: l'homme objets.\n",
      "85        Hamas occupe les Territoires\n",
      "269                     sur les écrans\n",
      "298              Envoyés très spéciaux\n",
      "664    Iran : charité bien ordonnée...\n",
      "Name: title, dtype: object\n",
      "\n",
      "Cluster  7\n",
      "32                              Coluche père nourricier\n",
      "53                       L'abbé Pierre: un sacré destin\n",
      "75                                           Intemporel\n",
      "94     1981 1993 les socialistes et le marche politique\n",
      "122                                               Utile\n",
      "136                   Deux cents ans d'art et de métier\n",
      "140                            Les joyaux sont éternels\n",
      "158                        CSG, ton univers impitoyable\n",
      "165        La vie quotidienne des diplomates, 1880-1920\n",
      "185                 Calvet imprecateur un role epuisant\n",
      "Name: title, dtype: object\n",
      "\n",
      "Cluster  8\n",
      "3          Otages: soudain, mercredi soir...\n",
      "28     France: fausses stars et vrais agents\n",
      "49                              Douce France\n",
      "361          Les secrets du commando (suite)\n",
      "438        Jacques saade mon frere ma galere\n",
      "Name: title, dtype: object\n",
      "\n",
      "Cluster  9\n",
      "81                 Croisade papale contre la mafia\n",
      "121                                  MICHEL HERMON\n",
      "182                  Une lumiere presque eternelle\n",
      "242    Controle budgetaire histoire d un hara kiri\n",
      "397                    La confession d'un policier\n",
      "413              Justice quel syndicat privilegier\n",
      "421          Elitisme et populisme, deux complices\n",
      "431                      Le zèle tardif du parquet\n",
      "471               Restez chez vous, l'islam veille\n",
      "534    Baisse de la tva dans la restauration suite\n",
      "Name: title, dtype: object\n",
      "\n",
      "Cluster  10\n",
      "21     Un témoignage exclusif : ainsi finit Phnom Penh\n",
      "38                             Contre la peine de mort\n",
      "71                                 La méthode Burguéra\n",
      "80                              LES LIAISONS HEUREUSES\n",
      "142                                 Le juge implacable\n",
      "216                              L'enjeu des Chorégies\n",
      "224                     Apres le dollar l ecu bien sur\n",
      "246                             Guy Dejouany en examen\n",
      "255                          Les combines du bien-être\n",
      "336                               Le droit de dire non\n",
      "Name: title, dtype: object\n",
      "\n",
      "Cluster  11\n",
      "4         Les secrets de la planète rouge\n",
      "44        Patricia Hearst: nouvel épisode\n",
      "173              Les fantômes de Combourg\n",
      "198                 Le monde après Apollo\n",
      "201      Comment vivra-t-on sur la Lune ?\n",
      "331              Mon ami le tueur à gages\n",
      "488    La Lune Chirac et le Soleil Jospin\n",
      "572              Préparez-vous au 11 août\n",
      "603                           Tout contre\n",
      "683             Guérir le mâle par le mal\n",
      "Name: title, dtype: object\n",
      "\n",
      "Cluster  12\n",
      "2                  Des pierres contre les certitudes\n",
      "8               Les deux mois qui ont ébranlé Israël\n",
      "24                        Jérusalem: à nouveau seuls\n",
      "41                          L'autre front (extraits)\n",
      "101                                  La paix en face\n",
      "130    \"Cette victoire, nous la devons à nous seuls\"\n",
      "212                     Ben Gourion gagne aux points\n",
      "285                              L'héritage de Rabin\n",
      "325             Proche-Orient: l'offensive pacifique\n",
      "335                            Espoir sans illusions\n",
      "Name: title, dtype: object\n",
      "\n",
      "Cluster  13\n",
      "0                  Tintin dans l'espace\n",
      "90                     L europe envahie\n",
      "99         La montée des eurosceptiques\n",
      "117              LE BOIS SE MET AU VERT\n",
      "160                LE CHIFFRE A RETENIR\n",
      "210    Les Français au bord de l'Europe\n",
      "221                          Vu de Bonn\n",
      "262              Les films pas les pubs\n",
      "294              Otan: drame avec qui ?\n",
      "333                LE POIDS DE L'EUROPE\n",
      "Name: title, dtype: object\n",
      "\n",
      "Cluster  14\n",
      "54     Mars 1989: la Pologne s'ouvre au capitalisme\n",
      "247             Berlin a deux doigts de la faillite\n",
      "588                          Berlin potsdamer platz\n",
      "713               Sous la botte, le cinéma français\n",
      "Name: title, dtype: object\n",
      "\n",
      "Cluster  15\n",
      "57                                Le faucon à deux têtes\n",
      "155              La bourse italienne surmontera la crise\n",
      "258                                  Sortir - exposition\n",
      "319                       Le nouveau costume de marzotto\n",
      "457                                      Parretti menacé\n",
      "520    Italie la production industrielle rechute en s...\n",
      "666                                    Le bluff de Bossi\n",
      "721                        Cable wireless allie convoite\n",
      "Name: title, dtype: object\n",
      "\n",
      "Cluster  16\n",
      "29                      Pinochet sans complexe\n",
      "61                Famines et droits de l'homme\n",
      "100                  Terre de Feu, mer de sang\n",
      "131     1960: Afrique, un continent en miettes\n",
      "166    Le jour où Mandela a failli tout perdre\n",
      "236                           Le paysan volant\n",
      "263             Le Jurassic Park du communisme\n",
      "286                  La trace institutionnelle\n",
      "337                       Le sage de l'Afrique\n",
      "348                 L'Écart de Jean-Pierre Cot\n",
      "Name: title, dtype: object\n"
     ]
    }
   ],
   "source": [
    "news_clusters[\"k_PER_\"+str(best_k)]=KMeans(n_clusters=best_k, init='k-means++', max_iter=100, n_init=1, random_state=2905).fit_predict(X_vocab)\n",
    "\n",
    "# repartition\n",
    "print(news_clusters.groupby([\"k_PER_\"+str(best_k)])[\"year\"].count())\n",
    "\n",
    "# Try to identify topics inside clusters\n",
    "for i in range(best_k):\n",
    "    print(\"\\nCluster \", i)\n",
    "    print(news_clusters[news_clusters[\"k_PER_\"+str(best_k)]==i].title[:20:2]) # print 10 titles from each cluster"
   ]
  },
  {
   "cell_type": "code",
   "execution_count": 40,
   "metadata": {},
   "outputs": [
    {
     "name": "stdout",
     "output_type": "stream",
     "text": [
      "(726, 709)\n"
     ]
    },
    {
     "data": {
      "image/png": "[encoded data removed]",
      "text/plain": [
       "<Figure size 1440x720 with 1 Axes>"
      ]
     },
     "metadata": {
      "needs_background": "light"
     },
     "output_type": "display_data"
    }
   ],
   "source": [
    "## PER and LOC together ##\n",
    "\n",
    "# fit new tf-idf on all preprocessed texts with new vocab and constraints on document frequency and number of tokens\n",
    "tfidf_vectorizer_vocab=TfidfVectorizer(vocabulary=my_vocab) # my_vocab = PER+LOC preprocessed entities\n",
    "X_vocab = tfidf_vectorizer_vocab.fit_transform(news_df.pre_text) # X is a matrix\n",
    "print(X_vocab.shape)\n",
    "\n",
    "# training\n",
    "k_scores=[]\n",
    "for k in range(2, 21):\n",
    "    k_model = KMeans(n_clusters=k, init='k-means++', max_iter=100, n_init=1, random_state=2905,)\n",
    "    k_labels = k_model.fit_predict(X_vocab)\n",
    "    score = silhouette_score(X_vocab, k_labels,metric='cosine', sample_size=None)\n",
    "    k_scores.append(score)\n",
    "    \n",
    "# visualize\n",
    "plt.figure(figsize=(20,10))\n",
    "x_val = [k for k in range(2,21)]\n",
    "y_val = k_scores\n",
    "plt.plot(x_val,y_val)\n",
    "\n",
    "plt.plot(x_val,y_val,'ob') \n",
    "plt.plot(x_val[np.argmax(y_val)], np.max(y_val), 'or') \n",
    "plt.annotate(\"Best k value\",\n",
    "             (x_val[np.argmax(y_val)], np.max(y_val)),\n",
    "             textcoords=\"offset points\", \n",
    "             xytext=(0,-40), \n",
    "             ha='center')\n",
    "best_k=x_val[np.argmax(y_val)]\n",
    "\n",
    "plt.xlabel('Number of clusters')\n",
    "plt.ylabel('Silhouette Score')\n",
    "plt.title('Silhouette score in function of the number of clusters') \n",
    "\n",
    "x_val = [k for k in range(3,21)]\n",
    "y_val = k_scores[1:]\n",
    "plt.plot(x_val[np.argmax(y_val)], np.max(y_val), 'oy') \n",
    "plt.annotate(\"Second best k value\",\n",
    "             (x_val[np.argmax(y_val)], np.max(y_val)),\n",
    "             textcoords=\"offset points\", \n",
    "             xytext=(0,-40), \n",
    "             ha='center')\n",
    "second_best_k=x_val[np.argmax(y_val)]\n",
    "plt.xlabel('Number of clusters')\n",
    "plt.ylabel('Silhouette Score')\n",
    "plt.title('Silhouette score in function of the number of clusters') \n",
    "plt.show()"
   ]
  },
  {
   "cell_type": "code",
   "execution_count": 38,
   "metadata": {},
   "outputs": [
    {
     "name": "stdout",
     "output_type": "stream",
     "text": [
      "k_7\n",
      "0    304\n",
      "1     64\n",
      "2     49\n",
      "3     43\n",
      "4    151\n",
      "5     16\n",
      "6     99\n",
      "Name: year, dtype: int64\n",
      "\n",
      "Cluster  0\n",
      "4                       Les secrets de la planète rouge\n",
      "9                                Ponge: l'homme objets.\n",
      "11                     La longue marche du Che africain\n",
      "15                             Le triangle des soupçons\n",
      "19                                                 Diva\n",
      "22                        1975 : Simone Veil s'explique\n",
      "25                                      «Mlle Chopinet»\n",
      "30                               Le drame de Challenger\n",
      "36    20 décembre 1973 : l'attentat contre Carrero B...\n",
      "44                      Patricia Hearst: nouvel épisode\n",
      "Name: title, dtype: object\n",
      "\n",
      "Cluster  1\n",
      "1                 Le faux suicide de Robert Boulin\n",
      "16                         L'ombre sur la campagne\n",
      "31                               Beineix fait tilt\n",
      "52                             L'énigme des bocaux\n",
      "80                          LES LIAISONS HEUREUSES\n",
      "86                      Contre la haine, les juges\n",
      "118                                      Spirituel\n",
      "126                           Notre père d'orgueil\n",
      "141             Nelson Mandela, de Jean Guiloineau\n",
      "153    Jean Gandois: contre la baisse des salaires\n",
      "Name: title, dtype: object\n",
      "\n",
      "Cluster  2\n",
      "7                   Algérie: la faillite sanglante\n",
      "28           France: fausses stars et vrais agents\n",
      "56                   Algérie: Les jokers de Chadli\n",
      "70     Yves Saint-Laurent, le nouvel enfant triste\n",
      "77                        PAYSANS, MAIS PAS PLOUCS\n",
      "87               MILLE ET UNE NUITS DE NORMALE SUP\n",
      "114                          L'APEC CHANGE DE TETE\n",
      "121                                  MICHEL HERMON\n",
      "183        L'AÉROPOSTALE - MARCEL BOUILLOUX-LAFONT\n",
      "193                      Fremissement sur l ancien\n",
      "Name: title, dtype: object\n",
      "\n",
      "Cluster  3\n",
      "2         Des pierres contre les certitudes\n",
      "8      Les deux mois qui ont ébranlé Israël\n",
      "20      Shimon Pérès, le leader impopulaire\n",
      "40           Guerre de Kippour. Extraits...\n",
      "42                  Yasser Arafat intronisé\n",
      "85             Hamas occupe les Territoires\n",
      "104      Histoire secrète d'une négociation\n",
      "192                      Comptes et légende\n",
      "212            Ben Gourion gagne aux points\n",
      "273              Gaza: le mois le plus long\n",
      "Name: title, dtype: object\n",
      "\n",
      "Cluster  4\n",
      "0                  Tintin dans l'espace\n",
      "37     Avortement: la peur des médecins\n",
      "53       L'abbé Pierre: un sacré destin\n",
      "72               LA CAROTTE ET LE BATON\n",
      "82               LES GUIGNOLS DE L'INFO\n",
      "90                     L europe envahie\n",
      "97                              Reperes\n",
      "108                    Reperes economie\n",
      "122                               Utile\n",
      "127        Franchise: l'heure de vérité\n",
      "Name: title, dtype: object\n",
      "\n",
      "Cluster  5\n",
      "76               Japon la crise et ce qu elle va changer\n",
      "317    Le japon prefere la competitivite a la product...\n",
      "333                                 LE POIDS DE L'EUROPE\n",
      "406                             Cinéma - Grains de sable\n",
      "446                                Une si longue attente\n",
      "530       Lionel jospin parie sur une france tgv en 2000\n",
      "613                                     \" Vive Krugman \"\n",
      "701           modes de vie - tendance - Dingues de tongs\n",
      "Name: title, dtype: object\n",
      "\n",
      "Cluster  6\n",
      "14     (1e janvier 1988) Benazir Bhutto: l'Antigone d...\n",
      "43                                 Le pouvoir des femmes\n",
      "60                    Tiananmen: les cinq jours de Pékin\n",
      "62                Vaclav Havel : de la prison au Château\n",
      "67                      Mai 1989 : Coup de jeune à Pékin\n",
      "71                                   La méthode Burguéra\n",
      "98                           Quelle politique étrangère?\n",
      "103                                 LE PROGRÈS FAIT RAGE\n",
      "115                              LA LIBERTE DE LA PRESSE\n",
      "128                                       Chaos en Chine\n",
      "Name: title, dtype: object\n"
     ]
    }
   ],
   "source": [
    "news_clusters['k_'+str(second_best_k)]=KMeans(n_clusters=second_best_k, init='k-means++', max_iter=100, n_init=1, random_state=2905).fit_predict(X_vocab)\n",
    "\n",
    "# repartition\n",
    "print(news_clusters.groupby(['k_'+str(second_best_k)])[\"year\"].count())\n",
    "\n",
    "# Try to identify topics inside clusters\n",
    "for i in range(second_best_k):\n",
    "    print(\"\\nCluster \", i)\n",
    "    print(news_clusters[news_clusters['k_'+str(second_best_k)]==i].title[:20:2]) # print 10 titles from each cluster"
   ]
  },
  {
   "cell_type": "markdown",
   "metadata": {},
   "source": [
    "__Cluster interpretation__\n",
    "\n",
    "    k_6\n",
    "    0     81\n",
    "    1    455\n",
    "    2     57\n",
    "    3     69\n",
    "    4     20\n",
    "    5     44\n",
    "    Name: year, dtype: int64\n",
    "\n",
    "    Cluster  0\n",
    "    0                             Tintin dans l'espace\n",
    "    68                      L'envers du paradis en RFA\n",
    "    80                          LES LIAISONS HEUREUSES\n",
    "    88                            QUERELLE DE CHIFFRES\n",
    "    98                     Quelle politique étrangère?\n",
    "    113                             UNE BOURSE À GÉRER\n",
    "    153    Jean Gandois: contre la baisse des salaires\n",
    "    162                   DRESDE OU LA MÉMOIRE BLESSÉE\n",
    "    178                                L'Europe diluée\n",
    "    187                   Un nabab au pays des bananes\n",
    "    Name: title, dtype: object\n",
    "\n",
    "    Cluster  1\n",
    "    1                      Le faux suicide de Robert Boulin\n",
    "    4                       Les secrets de la planète rouge\n",
    "    9                                Ponge: l'homme objets.\n",
    "    11                     La longue marche du Che africain\n",
    "    14    (1e janvier 1988) Benazir Bhutto: l'Antigone d...\n",
    "    16                              L'ombre sur la campagne\n",
    "    19                                                 Diva\n",
    "    22                        1975 : Simone Veil s'explique\n",
    "    25                                      «Mlle Chopinet»\n",
    "    27                                 La Nasa sous tutelle\n",
    "    Name: title, dtype: object\n",
    "\n",
    "    Cluster  2\n",
    "    28           France: fausses stars et vrais agents\n",
    "    39          1973 : les hors-la-loi de l'avortement\n",
    "    70     Yves Saint-Laurent, le nouvel enfant triste\n",
    "    77                        PAYSANS, MAIS PAS PLOUCS\n",
    "    86                      Contre la haine, les juges\n",
    "    102                             DRÔLE D'ATMOSPHERE\n",
    "    116                          Courrier des lecteurs\n",
    "    121                                  MICHEL HERMON\n",
    "    174    \"Que mes lèvres ne sont-elles des cerises!\"\n",
    "    183        L'AÉROPOSTALE - MARCEL BOUILLOUX-LAFONT\n",
    "    Name: title, dtype: object\n",
    "\n",
    "    Cluster  3\n",
    "    32                              Coluche père nourricier\n",
    "    94     1981 1993 les socialistes et le marche politique\n",
    "    108                                    Reperes economie\n",
    "    122                                               Utile\n",
    "    139                    Taux d interet le debat interdit\n",
    "    146                               RENSEIGNEMENTS UTILES\n",
    "    159                         \"Sud-Ouest\": la trêve amère\n",
    "    226              Pourquoi le satelli te menace le cable\n",
    "    235                          La culture flambe a noumea\n",
    "    247                 Berlin a deux doigts de la faillite\n",
    "    Name: title, dtype: object\n",
    "\n",
    "    Cluster  4\n",
    "    7              Algérie: la faillite sanglante\n",
    "    56              Algérie: Les jokers de Chadli\n",
    "    186                  \"Paris a fait son choix\"\n",
    "    204                           Un cri d'alarme\n",
    "    225        Ferhat abbas une utopie algerienne\n",
    "    307                       La stratégie du FIS\n",
    "    322    \"Notre responsabilité n'est pas mince\"\n",
    "    397               La confession d'un policier\n",
    "    471          Restez chez vous, l'islam veille\n",
    "    593          La France peut gagner en Algerie\n",
    "    Name: title, dtype: object\n",
    "\n",
    "    Cluster  5\n",
    "    2         Des pierres contre les certitudes\n",
    "    8      Les deux mois qui ont ébranlé Israël\n",
    "    20      Shimon Pérès, le leader impopulaire\n",
    "    40           Guerre de Kippour. Extraits...\n",
    "    42                  Yasser Arafat intronisé\n",
    "    85             Hamas occupe les Territoires\n",
    "    104      Histoire secrète d'une négociation\n",
    "    192                      Comptes et légende\n",
    "    212            Ben Gourion gagne aux points\n",
    "    273              Gaza: le mois le plus long\n",
    "    Name: title, dtype: object\n",
    "\n",
    "* Cluster 0: hard to explain\n",
    "* Cluster 1: hard to explain\n",
    "* Cluster 2: French society topics --> not so clear though\n",
    "* Cluster 3: Economics in France and Europe \n",
    "* Cluster 4: Algérie --> cluster has better quality than previously\n",
    "* Cluster 5: Moyen-Orient --> already obtained with the first tf-idf\n",
    "\n",
    "So clustering using LOC entities seems to give relevant clusters / have more weight in the decision process here whereas clustering using PER entities doesn't seem to have a strong influence on building clusters corresponding to interpretable topics. \n",
    "\n"
   ]
  },
  {
   "cell_type": "code",
   "execution_count": 39,
   "metadata": {},
   "outputs": [
    {
     "name": "stdout",
     "output_type": "stream",
     "text": [
      "Top terms per cluster:\n",
      "Cluster 0:\n",
      " bérégovoy\n",
      " pierr\n",
      " jupp\n",
      " dout\n",
      " matignon\n",
      " bruxel\n",
      " fédéral\n",
      " alain\n",
      " italien\n",
      " parisien\n",
      "Cluster 1:\n",
      " gandois\n",
      " giral\n",
      " jean\n",
      " président\n",
      " bébéar\n",
      " pineau\n",
      " europ\n",
      " schneid\n",
      " gatt\n",
      " françois\n"
     ]
    }
   ],
   "source": [
    "## PER & LOC ## \n",
    "\n",
    "print(\"Top terms per cluster:\")\n",
    "order_centroids = k_model.cluster_centers_.argsort()[:, ::-1]\n",
    "terms = tfidf_vectorizer_vocab.get_feature_names()\n",
    "for i in range(best_k):\n",
    "    print (\"Cluster %d:\" % i,)\n",
    "    for ind in order_centroids[i, :10]:\n",
    "        print (' %s' % terms[ind],)"
   ]
  },
  {
   "cell_type": "markdown",
   "metadata": {},
   "source": [
    "__Summary__\n",
    "\n",
    "* For the final vocabulary, keep entities as keywords but not only\n",
    "* 2 classification: Geography + Topics "
   ]
  },
  {
   "cell_type": "markdown",
   "metadata": {},
   "source": [
    "# 3. Supervised topic classifiers\n",
    "\n"
   ]
  },
  {
   "cell_type": "markdown",
   "metadata": {},
   "source": [
    "### a. Preprocessing and labeling \n",
    "\n",
    "We have labeled the dataset by hand using the topics we have defined thanks to the above analysis. There's some cleaning left to do, though."
   ]
  },
  {
   "cell_type": "code",
   "execution_count": 40,
   "metadata": {},
   "outputs": [],
   "source": [
    "labeled_df=pd.read_excel(\"articles_labeled.xlsx\", sheet_name=0)\n",
    "geo_codes=pd.read_excel(\"articles_labeled.xlsx\", sheet_name=1)\n",
    "topic_codes=pd.read_excel(\"articles_labeled.xlsx\", sheet_name=2)"
   ]
  },
  {
   "cell_type": "markdown",
   "metadata": {},
   "source": [
    "__Cleaning the labels__"
   ]
  },
  {
   "cell_type": "code",
   "execution_count": 41,
   "metadata": {},
   "outputs": [
    {
     "data": {
      "text/html": [
       "<div>\n",
       "<style scoped>\n",
       "    .dataframe tbody tr th:only-of-type {\n",
       "        vertical-align: middle;\n",
       "    }\n",
       "\n",
       "    .dataframe tbody tr th {\n",
       "        vertical-align: top;\n",
       "    }\n",
       "\n",
       "    .dataframe thead th {\n",
       "        text-align: right;\n",
       "    }\n",
       "</style>\n",
       "<table border=\"1\" class=\"dataframe\">\n",
       "  <thead>\n",
       "    <tr style=\"text-align: right;\">\n",
       "      <th></th>\n",
       "      <th>Unnamed: 0</th>\n",
       "      <th>year</th>\n",
       "      <th>title</th>\n",
       "      <th>text</th>\n",
       "      <th>url</th>\n",
       "      <th>geo</th>\n",
       "      <th>topic</th>\n",
       "    </tr>\n",
       "  </thead>\n",
       "  <tbody>\n",
       "    <tr>\n",
       "      <th>0</th>\n",
       "      <td>0</td>\n",
       "      <td>1988</td>\n",
       "      <td>Tintin dans l'espace</td>\n",
       "      <td>Trois semaines à bord de la station soviétique...</td>\n",
       "      <td>https://www.lexpress.fr/informations/tintin-da...</td>\n",
       "      <td>fr</td>\n",
       "      <td>sc</td>\n",
       "    </tr>\n",
       "    <tr>\n",
       "      <th>1</th>\n",
       "      <td>1</td>\n",
       "      <td>1988</td>\n",
       "      <td>Le faux suicide de Robert Boulin</td>\n",
       "      <td>1979 : son corps est découvert en forêt de Ram...</td>\n",
       "      <td>https://www.lexpress.fr/actualite/politique/le...</td>\n",
       "      <td>fr</td>\n",
       "      <td>ju</td>\n",
       "    </tr>\n",
       "    <tr>\n",
       "      <th>2</th>\n",
       "      <td>2</td>\n",
       "      <td>1988</td>\n",
       "      <td>Des pierres contre les certitudes</td>\n",
       "      <td>Rideaux de fer baissés, silhouettes furtives, ...</td>\n",
       "      <td>https://www.lexpress.fr/actualite/monde/proche...</td>\n",
       "      <td>me</td>\n",
       "      <td>po</td>\n",
       "    </tr>\n",
       "    <tr>\n",
       "      <th>3</th>\n",
       "      <td>3</td>\n",
       "      <td>1988</td>\n",
       "      <td>Otages: soudain, mercredi soir...</td>\n",
       "      <td>\" Je lui ai dit: \"Ça suffit\", et j'ai raccroch...</td>\n",
       "      <td>https://www.lexpress.fr/informations/otages-so...</td>\n",
       "      <td>me</td>\n",
       "      <td>ju</td>\n",
       "    </tr>\n",
       "    <tr>\n",
       "      <th>4</th>\n",
       "      <td>4</td>\n",
       "      <td>1988</td>\n",
       "      <td>Les secrets de la planète rouge</td>\n",
       "      <td>S'il existe, dans le système solaire, un seul ...</td>\n",
       "      <td>https://www.lexpress.fr/actualite/sciences/les...</td>\n",
       "      <td>spa</td>\n",
       "      <td>sc</td>\n",
       "    </tr>\n",
       "  </tbody>\n",
       "</table>\n",
       "</div>"
      ],
      "text/plain": [
       "   Unnamed: 0  year                              title  \\\n",
       "0           0  1988               Tintin dans l'espace   \n",
       "1           1  1988   Le faux suicide de Robert Boulin   \n",
       "2           2  1988  Des pierres contre les certitudes   \n",
       "3           3  1988  Otages: soudain, mercredi soir...   \n",
       "4           4  1988    Les secrets de la planète rouge   \n",
       "\n",
       "                                                text  \\\n",
       "0  Trois semaines à bord de la station soviétique...   \n",
       "1  1979 : son corps est découvert en forêt de Ram...   \n",
       "2  Rideaux de fer baissés, silhouettes furtives, ...   \n",
       "3  \" Je lui ai dit: \"Ça suffit\", et j'ai raccroch...   \n",
       "4  S'il existe, dans le système solaire, un seul ...   \n",
       "\n",
       "                                                 url  geo topic  \n",
       "0  https://www.lexpress.fr/informations/tintin-da...   fr    sc  \n",
       "1  https://www.lexpress.fr/actualite/politique/le...   fr    ju  \n",
       "2  https://www.lexpress.fr/actualite/monde/proche...   me    po  \n",
       "3  https://www.lexpress.fr/informations/otages-so...   me    ju  \n",
       "4  https://www.lexpress.fr/actualite/sciences/les...  spa    sc  "
      ]
     },
     "execution_count": 41,
     "metadata": {},
     "output_type": "execute_result"
    }
   ],
   "source": [
    "labeled_df.head()"
   ]
  },
  {
   "cell_type": "code",
   "execution_count": 42,
   "metadata": {},
   "outputs": [
    {
     "name": "stdout",
     "output_type": "stream",
     "text": [
      "{'france': 'fr', 'fr': 'fr', 'europe': 'eu', 'eu': 'eu', 'usa': 'usa', 'africa': 'afr', 'afr': 'afr', 'asia': 'as', 'as': 'as', 'middle east': 'mo', 'mo': 'mo', 'space': 'spa', 'spa': 'spa', 'world': 'wo', 'wo': 'wo', 'latine america': 'lat', 'lat': 'lat'}\n",
      "{'science / STEM / technology / space': 'sc', 'science / STEM / technology / space ': 'sc', 'sc': 'sc', 'society / women /  human rights': 'so', 'society / women /  human rights ': 'so', 'so': 'so', 'culture': 'cu', 'culture ': 'cu', 'cu': 'cu', 'politics / wars': 'po', 'po': 'po', 'economics / companies / employment': 'eco', 'economics / companies / employment ': 'eco', 'eco': 'eco', 'judiciary/laws/ crime': 'ju', 'ju': 'ju', 'sports': 'spo', 'spo': 'spo', 'miscellaneous': 'mi', 'miscellaneous ': 'mi', 'mi': 'mi'}\n"
     ]
    }
   ],
   "source": [
    "# create dictionaries\n",
    "\n",
    "geo_dic={}\n",
    "for index, row in geo_codes.iterrows():\n",
    "    geo_dic[row[1].strip(' ')]=row[0].strip(' ')\n",
    "    geo_dic[row[0].strip(' ')]=row[0].strip(' ')\n",
    "print(geo_dic)\n",
    "\n",
    "topic_dic={}\n",
    "for index, row in topic_codes.iterrows():\n",
    "    topic_dic[row[1].split(',')[0].strip(' ')]=row[0].strip(' ')\n",
    "    topic_dic[row[1].split(',')[0]]=row[0].strip(' ')\n",
    "    topic_dic[row[0].strip(' ')]=row[0].strip(' ')\n",
    "print(topic_dic)"
   ]
  },
  {
   "cell_type": "code",
   "execution_count": 43,
   "metadata": {},
   "outputs": [
    {
     "name": "stdout",
     "output_type": "stream",
     "text": [
      "{'spa', 'moyen-orient', 'as', 'usa', 'africa', 'latin america', 'afr', 'france', 'europe', 'mo', 'middle east', 'world', 'fr', 'eu', 'space', 'France', 'lat', 'asia', 'me'}\n",
      "{'sc', 'politics / wars', 'po', 'eco', 'culture', 'mi', 'science / STEM / technology / space', 'ju', 'economics / companies / employment', 'spo', 'cu', 'miscellaneous ', 'so', 'judiciary/laws/ crime', 'society / women /  human rights ', 'sports', 'misc'}\n",
      "\n",
      "Final dict:\n",
      "{'france': 'fr', 'fr': 'fr', 'europe': 'eu', 'eu': 'eu', 'usa': 'usa', 'africa': 'afr', 'afr': 'afr', 'asia': 'as', 'as': 'as', 'middle east': 'me', 'mo': 'me', 'space': 'spa', 'spa': 'spa', 'world': 'wo', 'wo': 'wo', 'latine america': 'lat', 'lat': 'lat', 'France': 'fr', 'latin america': 'lat', 'moyen-orient': 'me', 'me': 'me'}\n",
      "{'science / STEM / technology / space': 'sc', 'science / STEM / technology / space ': 'sc', 'sc': 'sc', 'society / women /  human rights': 'so', 'society / women /  human rights ': 'so', 'so': 'so', 'culture': 'cu', 'culture ': 'cu', 'cu': 'cu', 'politics / wars': 'po', 'po': 'po', 'economics / companies / employment': 'eco', 'economics / companies / employment ': 'eco', 'eco': 'eco', 'judiciary/laws/ crime': 'ju', 'ju': 'ju', 'sports': 'spo', 'spo': 'spo', 'miscellaneous': 'mi', 'miscellaneous ': 'mi', 'mi': 'mi', 'misc': 'mi'}\n"
     ]
    }
   ],
   "source": [
    "# comparison\n",
    "print(set(labeled_df['geo']))\n",
    "print(set(labeled_df['topic']))\n",
    "\n",
    "# corrections\n",
    "geo_dic['France']='fr'\n",
    "geo_dic['latin america']='lat'\n",
    "geo_dic['mo']='me'\n",
    "geo_dic['middle east']='me'\n",
    "geo_dic['moyen-orient']='me'\n",
    "geo_dic['me']='me'\n",
    "\n",
    "topic_dic['misc']='mi'\n",
    "print('\\nFinal dict:')\n",
    "print(geo_dic)\n",
    "print(topic_dic)"
   ]
  },
  {
   "cell_type": "code",
   "execution_count": 44,
   "metadata": {},
   "outputs": [
    {
     "data": {
      "text/html": [
       "<div>\n",
       "<style scoped>\n",
       "    .dataframe tbody tr th:only-of-type {\n",
       "        vertical-align: middle;\n",
       "    }\n",
       "\n",
       "    .dataframe tbody tr th {\n",
       "        vertical-align: top;\n",
       "    }\n",
       "\n",
       "    .dataframe thead th {\n",
       "        text-align: right;\n",
       "    }\n",
       "</style>\n",
       "<table border=\"1\" class=\"dataframe\">\n",
       "  <thead>\n",
       "    <tr style=\"text-align: right;\">\n",
       "      <th></th>\n",
       "      <th>Unnamed: 0</th>\n",
       "      <th>year</th>\n",
       "      <th>title</th>\n",
       "      <th>text</th>\n",
       "      <th>url</th>\n",
       "      <th>geo</th>\n",
       "      <th>topic</th>\n",
       "      <th>geo_code</th>\n",
       "      <th>topic_code</th>\n",
       "    </tr>\n",
       "  </thead>\n",
       "  <tbody>\n",
       "    <tr>\n",
       "      <th>0</th>\n",
       "      <td>0</td>\n",
       "      <td>1988</td>\n",
       "      <td>Tintin dans l'espace</td>\n",
       "      <td>Trois semaines à bord de la station soviétique...</td>\n",
       "      <td>https://www.lexpress.fr/informations/tintin-da...</td>\n",
       "      <td>fr</td>\n",
       "      <td>sc</td>\n",
       "      <td>3</td>\n",
       "      <td>5</td>\n",
       "    </tr>\n",
       "    <tr>\n",
       "      <th>1</th>\n",
       "      <td>1</td>\n",
       "      <td>1988</td>\n",
       "      <td>Le faux suicide de Robert Boulin</td>\n",
       "      <td>1979 : son corps est découvert en forêt de Ram...</td>\n",
       "      <td>https://www.lexpress.fr/actualite/politique/le...</td>\n",
       "      <td>fr</td>\n",
       "      <td>ju</td>\n",
       "      <td>3</td>\n",
       "      <td>2</td>\n",
       "    </tr>\n",
       "    <tr>\n",
       "      <th>2</th>\n",
       "      <td>2</td>\n",
       "      <td>1988</td>\n",
       "      <td>Des pierres contre les certitudes</td>\n",
       "      <td>Rideaux de fer baissés, silhouettes furtives, ...</td>\n",
       "      <td>https://www.lexpress.fr/actualite/monde/proche...</td>\n",
       "      <td>me</td>\n",
       "      <td>po</td>\n",
       "      <td>5</td>\n",
       "      <td>4</td>\n",
       "    </tr>\n",
       "    <tr>\n",
       "      <th>3</th>\n",
       "      <td>3</td>\n",
       "      <td>1988</td>\n",
       "      <td>Otages: soudain, mercredi soir...</td>\n",
       "      <td>\" Je lui ai dit: \"Ça suffit\", et j'ai raccroch...</td>\n",
       "      <td>https://www.lexpress.fr/informations/otages-so...</td>\n",
       "      <td>me</td>\n",
       "      <td>ju</td>\n",
       "      <td>5</td>\n",
       "      <td>2</td>\n",
       "    </tr>\n",
       "    <tr>\n",
       "      <th>4</th>\n",
       "      <td>4</td>\n",
       "      <td>1988</td>\n",
       "      <td>Les secrets de la planète rouge</td>\n",
       "      <td>S'il existe, dans le système solaire, un seul ...</td>\n",
       "      <td>https://www.lexpress.fr/actualite/sciences/les...</td>\n",
       "      <td>spa</td>\n",
       "      <td>sc</td>\n",
       "      <td>6</td>\n",
       "      <td>5</td>\n",
       "    </tr>\n",
       "    <tr>\n",
       "      <th>5</th>\n",
       "      <td>5</td>\n",
       "      <td>1988</td>\n",
       "      <td>La marche forcée d'Abou Ammar</td>\n",
       "      <td>Prêt à la guerre en 1974, offrant la paix en 1...</td>\n",
       "      <td>https://www.lexpress.fr/informations/la-marche...</td>\n",
       "      <td>me</td>\n",
       "      <td>po</td>\n",
       "      <td>5</td>\n",
       "      <td>4</td>\n",
       "    </tr>\n",
       "    <tr>\n",
       "      <th>6</th>\n",
       "      <td>6</td>\n",
       "      <td>1988</td>\n",
       "      <td>Pierre Quinon, discret champion olympique</td>\n",
       "      <td>Pierre Quinon s'est donné la mort à 49 ans le ...</td>\n",
       "      <td>https://www.lexpress.fr/actualite/sport/pierre...</td>\n",
       "      <td>fr</td>\n",
       "      <td>spo</td>\n",
       "      <td>3</td>\n",
       "      <td>7</td>\n",
       "    </tr>\n",
       "    <tr>\n",
       "      <th>7</th>\n",
       "      <td>7</td>\n",
       "      <td>1988</td>\n",
       "      <td>Algérie: la faillite sanglante</td>\n",
       "      <td>Au moins 1000 morts. Des milliers de blessés. ...</td>\n",
       "      <td>https://www.lexpress.fr/informations/algerie-l...</td>\n",
       "      <td>afr</td>\n",
       "      <td>po</td>\n",
       "      <td>0</td>\n",
       "      <td>4</td>\n",
       "    </tr>\n",
       "    <tr>\n",
       "      <th>8</th>\n",
       "      <td>8</td>\n",
       "      <td>1988</td>\n",
       "      <td>Les deux mois qui ont ébranlé Israël</td>\n",
       "      <td>Israël avait pris l'habitude de mesurer ses gu...</td>\n",
       "      <td>https://www.lexpress.fr/actualite/monde/proche...</td>\n",
       "      <td>me</td>\n",
       "      <td>po</td>\n",
       "      <td>5</td>\n",
       "      <td>4</td>\n",
       "    </tr>\n",
       "    <tr>\n",
       "      <th>9</th>\n",
       "      <td>9</td>\n",
       "      <td>1988</td>\n",
       "      <td>Ponge: l'homme objets.</td>\n",
       "      <td>Francis Ponge célébra la Guêpe, un \" petit sip...</td>\n",
       "      <td>https://www.lexpress.fr/informations/ponge-l-h...</td>\n",
       "      <td>fr</td>\n",
       "      <td>cu</td>\n",
       "      <td>3</td>\n",
       "      <td>0</td>\n",
       "    </tr>\n",
       "  </tbody>\n",
       "</table>\n",
       "</div>"
      ],
      "text/plain": [
       "   Unnamed: 0  year                                      title  \\\n",
       "0           0  1988                       Tintin dans l'espace   \n",
       "1           1  1988           Le faux suicide de Robert Boulin   \n",
       "2           2  1988          Des pierres contre les certitudes   \n",
       "3           3  1988          Otages: soudain, mercredi soir...   \n",
       "4           4  1988            Les secrets de la planète rouge   \n",
       "5           5  1988              La marche forcée d'Abou Ammar   \n",
       "6           6  1988  Pierre Quinon, discret champion olympique   \n",
       "7           7  1988             Algérie: la faillite sanglante   \n",
       "8           8  1988       Les deux mois qui ont ébranlé Israël   \n",
       "9           9  1988                     Ponge: l'homme objets.   \n",
       "\n",
       "                                                text  \\\n",
       "0  Trois semaines à bord de la station soviétique...   \n",
       "1  1979 : son corps est découvert en forêt de Ram...   \n",
       "2  Rideaux de fer baissés, silhouettes furtives, ...   \n",
       "3  \" Je lui ai dit: \"Ça suffit\", et j'ai raccroch...   \n",
       "4  S'il existe, dans le système solaire, un seul ...   \n",
       "5  Prêt à la guerre en 1974, offrant la paix en 1...   \n",
       "6  Pierre Quinon s'est donné la mort à 49 ans le ...   \n",
       "7  Au moins 1000 morts. Des milliers de blessés. ...   \n",
       "8  Israël avait pris l'habitude de mesurer ses gu...   \n",
       "9  Francis Ponge célébra la Guêpe, un \" petit sip...   \n",
       "\n",
       "                                                 url  geo topic  geo_code  \\\n",
       "0  https://www.lexpress.fr/informations/tintin-da...   fr    sc         3   \n",
       "1  https://www.lexpress.fr/actualite/politique/le...   fr    ju         3   \n",
       "2  https://www.lexpress.fr/actualite/monde/proche...   me    po         5   \n",
       "3  https://www.lexpress.fr/informations/otages-so...   me    ju         5   \n",
       "4  https://www.lexpress.fr/actualite/sciences/les...  spa    sc         6   \n",
       "5  https://www.lexpress.fr/informations/la-marche...   me    po         5   \n",
       "6  https://www.lexpress.fr/actualite/sport/pierre...   fr   spo         3   \n",
       "7  https://www.lexpress.fr/informations/algerie-l...  afr    po         0   \n",
       "8  https://www.lexpress.fr/actualite/monde/proche...   me    po         5   \n",
       "9  https://www.lexpress.fr/informations/ponge-l-h...   fr    cu         3   \n",
       "\n",
       "   topic_code  \n",
       "0           5  \n",
       "1           2  \n",
       "2           4  \n",
       "3           2  \n",
       "4           5  \n",
       "5           4  \n",
       "6           7  \n",
       "7           4  \n",
       "8           4  \n",
       "9           0  "
      ]
     },
     "execution_count": 44,
     "metadata": {},
     "output_type": "execute_result"
    }
   ],
   "source": [
    "# map to categories\n",
    "\n",
    "labeled_df['geo']=labeled_df['geo'].apply(lambda x:geo_dic[x])\n",
    "labeled_df['topic']=labeled_df['topic'].apply(lambda x:topic_dic[x])\n",
    "labeled_df.geo = pd.Categorical(labeled_df.geo)\n",
    "labeled_df.topic = pd.Categorical(labeled_df.topic)\n",
    "\n",
    "labeled_df['geo_code'] = labeled_df.geo.cat.codes\n",
    "labeled_df['topic_code'] = labeled_df.topic.cat.codes\n",
    "\n",
    "labeled_df.head(10)"
   ]
  },
  {
   "cell_type": "markdown",
   "metadata": {},
   "source": [
    "__Exploration__\n",
    "\n",
    "Both the topic and the geo features are unbalanced.\n",
    "\n",
    "Most common locations are France and Europe. Most common topics are economics and politics, followed by society."
   ]
  },
  {
   "cell_type": "code",
   "execution_count": 45,
   "metadata": {},
   "outputs": [
    {
     "name": "stdout",
     "output_type": "stream",
     "text": [
      "\n",
      " Geo\n",
      "Index(['afr', 'as', 'eu', 'fr', 'lat', 'me', 'spa', 'usa', 'wo'], dtype='object')\n",
      "geo_code\n",
      "0     45\n",
      "1     48\n",
      "2     99\n",
      "3    401\n",
      "4      9\n",
      "5     54\n",
      "6      3\n",
      "7     40\n",
      "8     27\n",
      "Name: geo, dtype: int64\n",
      "\n",
      " Topic\n",
      "Index(['cu', 'eco', 'ju', 'mi', 'po', 'sc', 'so', 'spo'], dtype='object')\n",
      "topic_code\n",
      "0     66\n",
      "1    201\n",
      "2     39\n",
      "3     13\n",
      "4    235\n",
      "5     44\n",
      "6    117\n",
      "7     11\n",
      "Name: topic, dtype: int64\n"
     ]
    }
   ],
   "source": [
    "# Classe repartition\n",
    "\n",
    "print(\"\\n Geo\")\n",
    "print(labeled_df.geo.cat.categories)\n",
    "print(labeled_df.groupby([\"geo_code\"])['geo'].count())\n",
    "\n",
    "print(\"\\n Topic\")\n",
    "print(labeled_df.topic.cat.categories)\n",
    "print(labeled_df.groupby([\"topic_code\"])[\"topic\"].count())\n"
   ]
  },
  {
   "cell_type": "markdown",
   "metadata": {},
   "source": [
    "__Representative split__\n",
    "\n",
    "We use a stratified shuffle split to obtain 5 splits containing a representative percentage of each class in both the training and the test set."
   ]
  },
  {
   "cell_type": "code",
   "execution_count": 46,
   "metadata": {},
   "outputs": [],
   "source": [
    "X=labeled_df[['year', 'title', 'text']]\n",
    "y_geo=labeled_df.geo_code\n",
    "y_topic=labeled_df.topic_code\n",
    "sss = StratifiedShuffleSplit(n_splits=5, test_size=0.1, random_state=2905)\n",
    "geo_split=sss.split(X, y_geo) # geo\n",
    "topic_split=sss.split(X, y_topic) # topic"
   ]
  },
  {
   "cell_type": "markdown",
   "metadata": {},
   "source": [
    "__Tf-idf encoding__\n",
    "\n",
    "Will be done directly inside the pipelines."
   ]
  },
  {
   "cell_type": "markdown",
   "metadata": {},
   "source": [
    "### b. Training - Multiclass classifier"
   ]
  },
  {
   "cell_type": "markdown",
   "metadata": {},
   "source": [
    "__Accuracy Comparison for various model types using Cross-Validation__\n",
    "\n",
    "Using default parameters, we compare the accuracy of "
   ]
  },
  {
   "cell_type": "code",
   "execution_count": 47,
   "metadata": {},
   "outputs": [],
   "source": [
    "# preprocessing\n",
    "tfidf_vectorizer_base=TfidfVectorizer(max_df = 700, max_features=300, smooth_idf=True, use_idf=True) # \n",
    "tfidf_vectorizer_vocab=TfidfVectorizer(max_features=250, vocabulary=my_vocab) # my_vocab = PER+LOC preprocessed entities\n",
    "tfidf_list=[tfidf_vectorizer_base, tfidf_vectorizer_vocab]\n",
    "\n",
    "\n",
    "# models\n",
    "lr=LogisticRegression(max_iter=300, random_state=2905, verbose=1)\n",
    "nb=GaussianNB()\n",
    "rf=RandomForestClassifier(random_state=2905, verbose=1)\n",
    "lsvc=LinearSVC(max_iter=500, random_state=2905, verbose=1)\n",
    "svc=SVC(max_iter=500, random_state=2905, verbose=1)\n",
    "\n",
    "model_list=[lr, rf, lsvc, svc] # \n",
    "\n"
   ]
  },
  {
   "cell_type": "code",
   "execution_count": 48,
   "metadata": {},
   "outputs": [
    {
     "name": "stdout",
     "output_type": "stream",
     "text": [
      "\n",
      "Model:  LogisticRegression(max_iter=300, random_state=2905, verbose=1)\n",
      "\n",
      "Preprocessing:  TfidfVectorizer(max_df=700, max_features=300)\n"
     ]
    },
    {
     "name": "stderr",
     "output_type": "stream",
     "text": [
      "[Parallel(n_jobs=1)]: Using backend SequentialBackend with 1 concurrent workers.\n",
      "[Parallel(n_jobs=1)]: Done   1 out of   1 | elapsed:    0.1s finished\n",
      "[Parallel(n_jobs=1)]: Using backend SequentialBackend with 1 concurrent workers.\n",
      "[Parallel(n_jobs=1)]: Done   1 out of   1 | elapsed:    0.1s finished\n",
      "[Parallel(n_jobs=1)]: Using backend SequentialBackend with 1 concurrent workers.\n",
      "[Parallel(n_jobs=1)]: Done   1 out of   1 | elapsed:    0.1s finished\n",
      "[Parallel(n_jobs=1)]: Using backend SequentialBackend with 1 concurrent workers.\n",
      "[Parallel(n_jobs=1)]: Done   1 out of   1 | elapsed:    0.1s finished\n",
      "[Parallel(n_jobs=1)]: Using backend SequentialBackend with 1 concurrent workers.\n",
      "[Parallel(n_jobs=1)]: Done   1 out of   1 | elapsed:    0.1s finished\n"
     ]
    },
    {
     "name": "stdout",
     "output_type": "stream",
     "text": [
      "Accuracy for Geo   Classification: 0.55 (+/- 0.00)\n"
     ]
    },
    {
     "name": "stderr",
     "output_type": "stream",
     "text": [
      "[Parallel(n_jobs=1)]: Using backend SequentialBackend with 1 concurrent workers.\n",
      "[Parallel(n_jobs=1)]: Done   1 out of   1 | elapsed:    0.1s finished\n",
      "[Parallel(n_jobs=1)]: Using backend SequentialBackend with 1 concurrent workers.\n",
      "[Parallel(n_jobs=1)]: Done   1 out of   1 | elapsed:    0.1s finished\n",
      "[Parallel(n_jobs=1)]: Using backend SequentialBackend with 1 concurrent workers.\n",
      "[Parallel(n_jobs=1)]: Done   1 out of   1 | elapsed:    0.1s finished\n",
      "[Parallel(n_jobs=1)]: Using backend SequentialBackend with 1 concurrent workers.\n",
      "[Parallel(n_jobs=1)]: Done   1 out of   1 | elapsed:    0.1s finished\n",
      "[Parallel(n_jobs=1)]: Using backend SequentialBackend with 1 concurrent workers.\n",
      "[Parallel(n_jobs=1)]: Done   1 out of   1 | elapsed:    0.1s finished\n"
     ]
    },
    {
     "name": "stdout",
     "output_type": "stream",
     "text": [
      "Accuracy for Topic Classification: 0.47 (+/- 0.03)\n",
      "\n",
      "Preprocessing:  TfidfVectorizer(max_features=250,\n",
      "                vocabulary=['indones', 'chadl', 'allemagn', 'grand-pein',\n",
      "                            'armstrong', 'champagn', 'lausann', 'yen', 'cubain',\n",
      "                            'françois', 'fisc', 'robert', 'plateau', 'appel',\n",
      "                            'nicaragu', 'eichmann', 'irak', 'unedic', 'valéry',\n",
      "                            'pierr', 'carlos', 'aquitain', 'gold', 'alsac',\n",
      "                            'belgiqu', 'cheysson', 'marrakech', 'atlant',\n",
      "                            'gouffr', 'israël', ...])\n"
     ]
    },
    {
     "name": "stderr",
     "output_type": "stream",
     "text": [
      "[Parallel(n_jobs=1)]: Using backend SequentialBackend with 1 concurrent workers.\n",
      "[Parallel(n_jobs=1)]: Done   1 out of   1 | elapsed:    0.1s finished\n",
      "[Parallel(n_jobs=1)]: Using backend SequentialBackend with 1 concurrent workers.\n",
      "[Parallel(n_jobs=1)]: Done   1 out of   1 | elapsed:    0.1s finished\n",
      "[Parallel(n_jobs=1)]: Using backend SequentialBackend with 1 concurrent workers.\n",
      "[Parallel(n_jobs=1)]: Done   1 out of   1 | elapsed:    0.1s finished\n",
      "[Parallel(n_jobs=1)]: Using backend SequentialBackend with 1 concurrent workers.\n",
      "[Parallel(n_jobs=1)]: Done   1 out of   1 | elapsed:    0.1s finished\n",
      "[Parallel(n_jobs=1)]: Using backend SequentialBackend with 1 concurrent workers.\n",
      "[Parallel(n_jobs=1)]: Done   1 out of   1 | elapsed:    0.1s finished\n"
     ]
    },
    {
     "name": "stdout",
     "output_type": "stream",
     "text": [
      "Accuracy for Geo   Classification: 0.55 (+/- 0.04)\n"
     ]
    },
    {
     "name": "stderr",
     "output_type": "stream",
     "text": [
      "[Parallel(n_jobs=1)]: Using backend SequentialBackend with 1 concurrent workers.\n",
      "[Parallel(n_jobs=1)]: Done   1 out of   1 | elapsed:    0.1s finished\n",
      "[Parallel(n_jobs=1)]: Using backend SequentialBackend with 1 concurrent workers.\n",
      "[Parallel(n_jobs=1)]: Done   1 out of   1 | elapsed:    0.1s finished\n",
      "[Parallel(n_jobs=1)]: Using backend SequentialBackend with 1 concurrent workers.\n",
      "[Parallel(n_jobs=1)]: Done   1 out of   1 | elapsed:    0.1s finished\n",
      "[Parallel(n_jobs=1)]: Using backend SequentialBackend with 1 concurrent workers.\n",
      "[Parallel(n_jobs=1)]: Done   1 out of   1 | elapsed:    0.1s finished\n",
      "[Parallel(n_jobs=1)]: Using backend SequentialBackend with 1 concurrent workers.\n",
      "[Parallel(n_jobs=1)]: Done   1 out of   1 | elapsed:    0.1s finished\n"
     ]
    },
    {
     "name": "stdout",
     "output_type": "stream",
     "text": [
      "Accuracy for Topic Classification: 0.44 (+/- 0.05)\n",
      "\n",
      "Model:  RandomForestClassifier(random_state=2905, verbose=1)\n",
      "\n",
      "Preprocessing:  TfidfVectorizer(max_df=700, max_features=300)\n"
     ]
    },
    {
     "name": "stderr",
     "output_type": "stream",
     "text": [
      "[Parallel(n_jobs=1)]: Using backend SequentialBackend with 1 concurrent workers.\n",
      "[Parallel(n_jobs=1)]: Done 100 out of 100 | elapsed:    0.6s finished\n",
      "[Parallel(n_jobs=1)]: Using backend SequentialBackend with 1 concurrent workers.\n",
      "[Parallel(n_jobs=1)]: Done 100 out of 100 | elapsed:    0.0s finished\n",
      "[Parallel(n_jobs=1)]: Using backend SequentialBackend with 1 concurrent workers.\n",
      "[Parallel(n_jobs=1)]: Done 100 out of 100 | elapsed:    0.6s finished\n",
      "[Parallel(n_jobs=1)]: Using backend SequentialBackend with 1 concurrent workers.\n",
      "[Parallel(n_jobs=1)]: Done 100 out of 100 | elapsed:    0.0s finished\n",
      "[Parallel(n_jobs=1)]: Using backend SequentialBackend with 1 concurrent workers.\n",
      "[Parallel(n_jobs=1)]: Done 100 out of 100 | elapsed:    0.6s finished\n",
      "[Parallel(n_jobs=1)]: Using backend SequentialBackend with 1 concurrent workers.\n",
      "[Parallel(n_jobs=1)]: Done 100 out of 100 | elapsed:    0.0s finished\n",
      "[Parallel(n_jobs=1)]: Using backend SequentialBackend with 1 concurrent workers.\n",
      "[Parallel(n_jobs=1)]: Done 100 out of 100 | elapsed:    0.6s finished\n",
      "[Parallel(n_jobs=1)]: Using backend SequentialBackend with 1 concurrent workers.\n",
      "[Parallel(n_jobs=1)]: Done 100 out of 100 | elapsed:    0.0s finished\n",
      "[Parallel(n_jobs=1)]: Using backend SequentialBackend with 1 concurrent workers.\n",
      "[Parallel(n_jobs=1)]: Done 100 out of 100 | elapsed:    0.6s finished\n",
      "[Parallel(n_jobs=1)]: Using backend SequentialBackend with 1 concurrent workers.\n",
      "[Parallel(n_jobs=1)]: Done 100 out of 100 | elapsed:    0.0s finished\n"
     ]
    },
    {
     "name": "stdout",
     "output_type": "stream",
     "text": [
      "Accuracy for Geo   Classification: 0.55 (+/- 0.02)\n"
     ]
    },
    {
     "name": "stderr",
     "output_type": "stream",
     "text": [
      "[Parallel(n_jobs=1)]: Using backend SequentialBackend with 1 concurrent workers.\n",
      "[Parallel(n_jobs=1)]: Done 100 out of 100 | elapsed:    0.6s finished\n",
      "[Parallel(n_jobs=1)]: Using backend SequentialBackend with 1 concurrent workers.\n",
      "[Parallel(n_jobs=1)]: Done 100 out of 100 | elapsed:    0.0s finished\n",
      "[Parallel(n_jobs=1)]: Using backend SequentialBackend with 1 concurrent workers.\n",
      "[Parallel(n_jobs=1)]: Done 100 out of 100 | elapsed:    0.6s finished\n",
      "[Parallel(n_jobs=1)]: Using backend SequentialBackend with 1 concurrent workers.\n",
      "[Parallel(n_jobs=1)]: Done 100 out of 100 | elapsed:    0.0s finished\n",
      "[Parallel(n_jobs=1)]: Using backend SequentialBackend with 1 concurrent workers.\n",
      "[Parallel(n_jobs=1)]: Done 100 out of 100 | elapsed:    0.6s finished\n",
      "[Parallel(n_jobs=1)]: Using backend SequentialBackend with 1 concurrent workers.\n",
      "[Parallel(n_jobs=1)]: Done 100 out of 100 | elapsed:    0.0s finished\n",
      "[Parallel(n_jobs=1)]: Using backend SequentialBackend with 1 concurrent workers.\n",
      "[Parallel(n_jobs=1)]: Done 100 out of 100 | elapsed:    0.6s finished\n",
      "[Parallel(n_jobs=1)]: Using backend SequentialBackend with 1 concurrent workers.\n",
      "[Parallel(n_jobs=1)]: Done 100 out of 100 | elapsed:    0.0s finished\n",
      "[Parallel(n_jobs=1)]: Using backend SequentialBackend with 1 concurrent workers.\n",
      "[Parallel(n_jobs=1)]: Done 100 out of 100 | elapsed:    0.6s finished\n",
      "[Parallel(n_jobs=1)]: Using backend SequentialBackend with 1 concurrent workers.\n",
      "[Parallel(n_jobs=1)]: Done 100 out of 100 | elapsed:    0.0s finished\n"
     ]
    },
    {
     "name": "stdout",
     "output_type": "stream",
     "text": [
      "Accuracy for Topic Classification: 0.46 (+/- 0.07)\n",
      "\n",
      "Preprocessing:  TfidfVectorizer(max_features=250,\n",
      "                vocabulary=['indones', 'chadl', 'allemagn', 'grand-pein',\n",
      "                            'armstrong', 'champagn', 'lausann', 'yen', 'cubain',\n",
      "                            'françois', 'fisc', 'robert', 'plateau', 'appel',\n",
      "                            'nicaragu', 'eichmann', 'irak', 'unedic', 'valéry',\n",
      "                            'pierr', 'carlos', 'aquitain', 'gold', 'alsac',\n",
      "                            'belgiqu', 'cheysson', 'marrakech', 'atlant',\n",
      "                            'gouffr', 'israël', ...])\n"
     ]
    },
    {
     "name": "stderr",
     "output_type": "stream",
     "text": [
      "[Parallel(n_jobs=1)]: Using backend SequentialBackend with 1 concurrent workers.\n",
      "[Parallel(n_jobs=1)]: Done 100 out of 100 | elapsed:    0.3s finished\n",
      "[Parallel(n_jobs=1)]: Using backend SequentialBackend with 1 concurrent workers.\n",
      "[Parallel(n_jobs=1)]: Done 100 out of 100 | elapsed:    0.0s finished\n",
      "[Parallel(n_jobs=1)]: Using backend SequentialBackend with 1 concurrent workers.\n",
      "[Parallel(n_jobs=1)]: Done 100 out of 100 | elapsed:    0.3s finished\n",
      "[Parallel(n_jobs=1)]: Using backend SequentialBackend with 1 concurrent workers.\n",
      "[Parallel(n_jobs=1)]: Done 100 out of 100 | elapsed:    0.0s finished\n",
      "[Parallel(n_jobs=1)]: Using backend SequentialBackend with 1 concurrent workers.\n",
      "[Parallel(n_jobs=1)]: Done 100 out of 100 | elapsed:    0.3s finished\n",
      "[Parallel(n_jobs=1)]: Using backend SequentialBackend with 1 concurrent workers.\n",
      "[Parallel(n_jobs=1)]: Done 100 out of 100 | elapsed:    0.0s finished\n",
      "[Parallel(n_jobs=1)]: Using backend SequentialBackend with 1 concurrent workers.\n",
      "[Parallel(n_jobs=1)]: Done 100 out of 100 | elapsed:    0.3s finished\n",
      "[Parallel(n_jobs=1)]: Using backend SequentialBackend with 1 concurrent workers.\n",
      "[Parallel(n_jobs=1)]: Done 100 out of 100 | elapsed:    0.0s finished\n",
      "[Parallel(n_jobs=1)]: Using backend SequentialBackend with 1 concurrent workers.\n",
      "[Parallel(n_jobs=1)]: Done 100 out of 100 | elapsed:    0.3s finished\n",
      "[Parallel(n_jobs=1)]: Using backend SequentialBackend with 1 concurrent workers.\n",
      "[Parallel(n_jobs=1)]: Done 100 out of 100 | elapsed:    0.0s finished\n"
     ]
    },
    {
     "name": "stdout",
     "output_type": "stream",
     "text": [
      "Accuracy for Geo   Classification: 0.57 (+/- 0.02)\n"
     ]
    },
    {
     "name": "stderr",
     "output_type": "stream",
     "text": [
      "[Parallel(n_jobs=1)]: Using backend SequentialBackend with 1 concurrent workers.\n",
      "[Parallel(n_jobs=1)]: Done 100 out of 100 | elapsed:    0.3s finished\n",
      "[Parallel(n_jobs=1)]: Using backend SequentialBackend with 1 concurrent workers.\n",
      "[Parallel(n_jobs=1)]: Done 100 out of 100 | elapsed:    0.0s finished\n",
      "[Parallel(n_jobs=1)]: Using backend SequentialBackend with 1 concurrent workers.\n",
      "[Parallel(n_jobs=1)]: Done 100 out of 100 | elapsed:    0.3s finished\n",
      "[Parallel(n_jobs=1)]: Using backend SequentialBackend with 1 concurrent workers.\n",
      "[Parallel(n_jobs=1)]: Done 100 out of 100 | elapsed:    0.0s finished\n",
      "[Parallel(n_jobs=1)]: Using backend SequentialBackend with 1 concurrent workers.\n",
      "[Parallel(n_jobs=1)]: Done 100 out of 100 | elapsed:    0.3s finished\n",
      "[Parallel(n_jobs=1)]: Using backend SequentialBackend with 1 concurrent workers.\n",
      "[Parallel(n_jobs=1)]: Done 100 out of 100 | elapsed:    0.0s finished\n",
      "[Parallel(n_jobs=1)]: Using backend SequentialBackend with 1 concurrent workers.\n",
      "[Parallel(n_jobs=1)]: Done 100 out of 100 | elapsed:    0.3s finished\n",
      "[Parallel(n_jobs=1)]: Using backend SequentialBackend with 1 concurrent workers.\n",
      "[Parallel(n_jobs=1)]: Done 100 out of 100 | elapsed:    0.0s finished\n",
      "[Parallel(n_jobs=1)]: Using backend SequentialBackend with 1 concurrent workers.\n",
      "[Parallel(n_jobs=1)]: Done 100 out of 100 | elapsed:    0.3s finished\n",
      "[Parallel(n_jobs=1)]: Using backend SequentialBackend with 1 concurrent workers.\n",
      "[Parallel(n_jobs=1)]: Done 100 out of 100 | elapsed:    0.0s finished\n"
     ]
    },
    {
     "name": "stdout",
     "output_type": "stream",
     "text": [
      "Accuracy for Topic Classification: 0.42 (+/- 0.05)\n",
      "\n",
      "Model:  LinearSVC(max_iter=500, random_state=2905, verbose=1)\n",
      "\n",
      "Preprocessing:  TfidfVectorizer(max_df=700, max_features=300)\n",
      "[LibLinear][LibLinear][LibLinear][LibLinear][LibLinear]Accuracy for Geo   Classification: 0.55 (+/- 0.07)\n",
      "[LibLinear][LibLinear][LibLinear][LibLinear][LibLinear]Accuracy for Topic Classification: 0.45 (+/- 0.10)\n",
      "\n",
      "Preprocessing:  TfidfVectorizer(max_features=250,\n",
      "                vocabulary=['indones', 'chadl', 'allemagn', 'grand-pein',\n",
      "                            'armstrong', 'champagn', 'lausann', 'yen', 'cubain',\n",
      "                            'françois', 'fisc', 'robert', 'plateau', 'appel',\n",
      "                            'nicaragu', 'eichmann', 'irak', 'unedic', 'valéry',\n",
      "                            'pierr', 'carlos', 'aquitain', 'gold', 'alsac',\n",
      "                            'belgiqu', 'cheysson', 'marrakech', 'atlant',\n",
      "                            'gouffr', 'israël', ...])\n",
      "[LibLinear][LibLinear][LibLinear][LibLinear][LibLinear]Accuracy for Geo   Classification: 0.57 (+/- 0.04)\n",
      "[LibLinear][LibLinear][LibLinear][LibLinear][LibLinear]Accuracy for Topic Classification: 0.35 (+/- 0.12)\n",
      "\n",
      "Model:  SVC(max_iter=500, random_state=2905, verbose=1)\n",
      "\n",
      "Preprocessing:  TfidfVectorizer(max_df=700, max_features=300)\n",
      "[LibSVM]"
     ]
    },
    {
     "name": "stderr",
     "output_type": "stream",
     "text": [
      "/Users/eva/.local/lib/python3.6/site-packages/sklearn/svm/_base.py:249: ConvergenceWarning: Solver terminated early (max_iter=500).  Consider pre-processing your data with StandardScaler or MinMaxScaler.\n",
      "  % self.max_iter, ConvergenceWarning)\n"
     ]
    },
    {
     "name": "stdout",
     "output_type": "stream",
     "text": [
      "[LibSVM][LibSVM][LibSVM][LibSVM]Accuracy for Geo   Classification: 0.55 (+/- 0.03)\n",
      "[LibSVM][LibSVM][LibSVM][LibSVM][LibSVM]Accuracy for Topic Classification: 0.45 (+/- 0.03)\n",
      "\n",
      "Preprocessing:  TfidfVectorizer(max_features=250,\n",
      "                vocabulary=['indones', 'chadl', 'allemagn', 'grand-pein',\n",
      "                            'armstrong', 'champagn', 'lausann', 'yen', 'cubain',\n",
      "                            'françois', 'fisc', 'robert', 'plateau', 'appel',\n",
      "                            'nicaragu', 'eichmann', 'irak', 'unedic', 'valéry',\n",
      "                            'pierr', 'carlos', 'aquitain', 'gold', 'alsac',\n",
      "                            'belgiqu', 'cheysson', 'marrakech', 'atlant',\n",
      "                            'gouffr', 'israël', ...])\n",
      "[LibSVM]"
     ]
    },
    {
     "name": "stderr",
     "output_type": "stream",
     "text": [
      "/Users/eva/.local/lib/python3.6/site-packages/sklearn/svm/_base.py:249: ConvergenceWarning: Solver terminated early (max_iter=500).  Consider pre-processing your data with StandardScaler or MinMaxScaler.\n",
      "  % self.max_iter, ConvergenceWarning)\n"
     ]
    },
    {
     "name": "stdout",
     "output_type": "stream",
     "text": [
      "[LibSVM][LibSVM][LibSVM][LibSVM]Accuracy for Geo   Classification: 0.56 (+/- 0.03)\n",
      "[LibSVM][LibSVM][LibSVM][LibSVM][LibSVM]Accuracy for Topic Classification: 0.42 (+/- 0.07)\n",
      "\n",
      "Model:  GaussianNB()\n",
      "\n",
      "Preprocessing:  TfidfVectorizer(max_df=700, max_features=300)\n",
      "Accuracy for Geo   Classification: 0.32 (+/- 0.07)\n",
      "Accuracy for Topic Classification: 0.35 (+/- 0.04)\n",
      "\n",
      "Preprocessing:  TfidfVectorizer(max_features=250,\n",
      "                vocabulary=['indones', 'chadl', 'allemagn', 'grand-pein',\n",
      "                            'armstrong', 'champagn', 'lausann', 'yen', 'cubain',\n",
      "                            'françois', 'fisc', 'robert', 'plateau', 'appel',\n",
      "                            'nicaragu', 'eichmann', 'irak', 'unedic', 'valéry',\n",
      "                            'pierr', 'carlos', 'aquitain', 'gold', 'alsac',\n",
      "                            'belgiqu', 'cheysson', 'marrakech', 'atlant',\n",
      "                            'gouffr', 'israël', ...])\n",
      "Accuracy for Geo   Classification: 0.25 (+/- 0.04)\n",
      "Accuracy for Topic Classification: 0.27 (+/- 0.08)\n"
     ]
    }
   ],
   "source": [
    "\n",
    "\n",
    "class DenseTransformer(TransformerMixin):\n",
    "\n",
    "    def fit(self, X, y=None, **fit_params):\n",
    "        return self\n",
    "\n",
    "    def transform(self, X, y=None, **fit_params):\n",
    "        return X.todense()\n",
    "\n",
    "# Accuracy\n",
    "for m in model_list:\n",
    "    print(\"\\nModel: \", m)\n",
    "    for t in tfidf_list:\n",
    "        print(\"\\nPreprocessing: \", t)\n",
    "        pipe = Pipeline(steps=[('tfidf', t ), \n",
    "                               #('to_dense', DenseTransformer()), \n",
    "                               #('scale', StandardScaler()),\n",
    "                               #('pca', PCA(0.80)), \n",
    "                               ('model', m)])\n",
    "        geo_split=sss.split(X, y_geo) # geo\n",
    "        scores_geo = cross_val_score(pipe, X[\"text\"], y_geo, cv=geo_split) # scoring='f1_macro' to change the metric\n",
    "        print(\"Accuracy for Geo   Classification: %0.2f (+/- %0.2f)\" % (scores_geo.mean(), scores_geo.std() * 2))\n",
    "\n",
    "        topic_split=sss.split(X, y_topic) # topic\n",
    "        pipe = Pipeline(steps=[('tfidf', t ), \n",
    "                               #('to_dense', DenseTransformer()), \n",
    "                               #('scale', StandardScaler()),\n",
    "                               #('pca', PCA(0.8)), \n",
    "                               ('model', m)])\n",
    "        scores_topic = cross_val_score(pipe, X[\"text\"], y_topic, cv=topic_split) # scoring='f1_macro' to change the metric\n",
    "        print(\"Accuracy for Topic Classification: %0.2f (+/- %0.2f)\" % (scores_topic.mean(), scores_topic.std() * 2))\n",
    "\n",
    "print(\"\\nModel: \", nb)\n",
    "for t in tfidf_list:\n",
    "    print(\"\\nPreprocessing: \", t)\n",
    "    pipe = Pipeline(steps=[('tfidf', t ), \n",
    "                           ('to_dense', DenseTransformer()), \n",
    "                           ('scale', MinMaxScaler()),\n",
    "                           #('pca', PCA(0.80)), \n",
    "                           ('model', nb)])\n",
    "    geo_split=sss.split(X, y_geo) # geo\n",
    "    scores_geo = cross_val_score(pipe, X[\"text\"], y_geo, cv=geo_split) # scoring='f1_macro' to change the metric\n",
    "    print(\"Accuracy for Geo   Classification: %0.2f (+/- %0.2f)\" % (scores_geo.mean(), scores_geo.std() * 2))\n",
    "\n",
    "    topic_split=sss.split(X, y_topic) # topic\n",
    "    pipe = Pipeline(steps=[('tfidf', t ), \n",
    "                           ('to_dense', DenseTransformer()), \n",
    "                           ('scale', MinMaxScaler()),\n",
    "                           #('pca', PCA(0.8)), \n",
    "                           ('model', nb)])\n",
    "    scores_topic = cross_val_score(pipe, X[\"text\"], y_topic, cv=topic_split) # scoring='f1_macro' to change the metric\n",
    "    print(\"Accuracy for Topic Classification: %0.2f (+/- %0.2f)\" % (scores_topic.mean(), scores_topic.std() * 2))\n"
   ]
  },
  {
   "cell_type": "markdown",
   "metadata": {},
   "source": [
    "__What's next?__\n",
    "\n",
    "hyperparameter tuning : just for the most promising model types id est logistic regression and random forest.\n"
   ]
  },
  {
   "cell_type": "markdown",
   "metadata": {},
   "source": [
    "### c. Hyperparameter Tuning for multiclass classification\n",
    "\n",
    "We are going to tune the hyperparameters of a logistic regression model for the `topic` classification and the hyperparameters of a Random Forest for both `topic`and `geo`classifications.\n",
    "\n",
    "Here is an overview of the default values we used so far:\n",
    "\n",
    "    class sklearn.linear_model.LogisticRegression(penalty='l2', *, dual=False, tol=0.0001, C=1.0, fit_intercept=True, intercept_scaling=1, class_weight=None, random_state=None, solver='lbfgs', max_iter=100, multi_class='auto', verbose=0, warm_start=False, n_jobs=None, l1_ratio=None)\n",
    "    \n",
    "    class sklearn.ensemble.RandomForestClassifier(n_estimators=100, *, criterion='gini', max_depth=None, min_samples_split=2, min_samples_leaf=1, min_weight_fraction_leaf=0.0, max_features='auto', max_leaf_nodes=None, min_impurity_decrease=0.0, min_impurity_split=None, bootstrap=True, oob_score=False, n_jobs=None, random_state=None, verbose=0, warm_start=False, class_weight=None, ccp_alpha=0.0, max_samples=None)"
   ]
  },
  {
   "cell_type": "code",
   "execution_count": 49,
   "metadata": {},
   "outputs": [],
   "source": [
    "# Utility function to report best scores\n",
    "def report(results, n_top=3):\n",
    "    for i in range(1, n_top + 1):\n",
    "        candidates = np.flatnonzero(results['rank_test_score'] == i)\n",
    "        for candidate in candidates:\n",
    "            print(\"Model with rank: {0}\".format(i))\n",
    "            print(\"Mean validation score: {0:.3f} (std: {1:.3f})\"\n",
    "                  .format(results['mean_test_score'][candidate],\n",
    "                          results['std_test_score'][candidate]))\n",
    "            print(\"Parameters: {0}\".format(results['params'][candidate]))\n",
    "            print(\"\")\n"
   ]
  },
  {
   "cell_type": "markdown",
   "metadata": {},
   "source": [
    "__Logisitc regression for `topic`__\n",
    "\n",
    "Preprocessing : basic tfidf with constraints\n",
    "\n",
    "Don't forget to choose the random state!"
   ]
  },
  {
   "cell_type": "code",
   "execution_count": 50,
   "metadata": {},
   "outputs": [
    {
     "name": "stdout",
     "output_type": "stream",
     "text": [
      "Fitting 5 folds for each of 10 candidates, totalling 50 fits\n"
     ]
    },
    {
     "name": "stderr",
     "output_type": "stream",
     "text": [
      "[Parallel(n_jobs=-1)]: Using backend LokyBackend with 4 concurrent workers.\n",
      "[Parallel(n_jobs=-1)]: Done  33 tasks      | elapsed:   52.8s\n",
      "[Parallel(n_jobs=-1)]: Done  50 out of  50 | elapsed:  1.2min finished\n",
      "[Parallel(n_jobs=1)]: Using backend SequentialBackend with 1 concurrent workers.\n"
     ]
    },
    {
     "name": "stdout",
     "output_type": "stream",
     "text": [
      "max_iter reached after 4 seconds\n",
      "RandomizedSearchCV took 75.87 seconds for 10 candidates parameter settings.\n",
      "Model with rank: 1\n",
      "Mean validation score: 0.479 (std: 0.012)\n",
      "Parameters: {'logisticR__C': 1.8620777171647571, 'logisticR__l1_ratio': 0.08964905142835955, 'logisticR__penalty': 'elasticnet', 'logisticR__solver': 'saga'}\n",
      "\n",
      "Model with rank: 2\n",
      "Mean validation score: 0.474 (std: 0.014)\n",
      "Parameters: {'logisticR__C': 1.7121884444958853, 'logisticR__l1_ratio': 0.3076925707365644, 'logisticR__penalty': 'elasticnet', 'logisticR__solver': 'saga'}\n",
      "\n",
      "Model with rank: 3\n",
      "Mean validation score: 0.471 (std: 0.014)\n",
      "Parameters: {'logisticR__C': 1.867199528917896, 'logisticR__l1_ratio': 0.4236631421284509, 'logisticR__penalty': 'elasticnet', 'logisticR__solver': 'saga'}\n",
      "\n"
     ]
    },
    {
     "name": "stderr",
     "output_type": "stream",
     "text": [
      "/Users/eva/.local/lib/python3.6/site-packages/sklearn/linear_model/_sag.py:330: ConvergenceWarning: The max_iter was reached which means the coef_ did not converge\n",
      "  \"the coef_ did not converge\", ConvergenceWarning)\n",
      "[Parallel(n_jobs=1)]: Done   1 out of   1 | elapsed:    3.4s finished\n"
     ]
    }
   ],
   "source": [
    "## Randomized search 1 for Logistic regression : penalty = elasticnet, solver=saga ## \n",
    "\n",
    "# Pipeline\n",
    "# LR + basic vocab for topics\n",
    "lr=LogisticRegression(max_iter=400, random_state=2905, verbose=1)\n",
    "pipe_lr = Pipeline(steps=[('tfidf', tfidf_vectorizer_base), ('logisticR', lr)])\n",
    "\n",
    "# Hp distribution\n",
    "# specify parameters and distributions to sample from --> Randomized\n",
    "param_dist = {'logisticR__penalty':['elasticnet'],\n",
    "              'logisticR__solver':['saga'],\n",
    "              'logisticR__C':stats.uniform(0.1, 2),\n",
    "              'logisticR__l1_ratio': stats.uniform(0, 1)}\n",
    "\n",
    "# Run randomized search\n",
    "# cv = sss Shuffled split with 5 folds, defined earlier\n",
    "sss = StratifiedShuffleSplit(n_splits=5, test_size=0.1, random_state=2905)\n",
    "# iterations\n",
    "n_iter_search = 10\n",
    "random_search = RandomizedSearchCV(pipe_lr, \n",
    "                                   param_distributions=param_dist,\n",
    "                                   verbose=2, \n",
    "                                   random_state=2905,\n",
    "                                   n_iter=n_iter_search,\n",
    "                                   cv=sss, \n",
    "                                   n_jobs = -1 )\n",
    "# Monitor\n",
    "start = time()\n",
    "random_search.fit(X['text'], y_topic)\n",
    "print(\"RandomizedSearchCV took %.2f seconds for %d candidates\"\n",
    "      \" parameter settings.\" % ((time() - start), n_iter_search))\n",
    "report(random_search.cv_results_)\n"
   ]
  },
  {
   "cell_type": "raw",
   "metadata": {},
   "source": [
    "## Randomized search 1 for Logistic regression : penalty = elasticnet, solver=saga ## \n",
    "\n",
    "                                        ___ Results: ____\n",
    "\n",
    "\n",
    "RandomizedSearchCV took 77.72 seconds for 10 candidates parameter settings.\n",
    "Model with rank: 1\n",
    "Mean validation score: 0.479 (std: 0.012)\n",
    "Parameters: {'logisticR__C': 1.8620777171647571, 'logisticR__l1_ratio': 0.08964905142835955, 'logisticR__penalty': 'elasticnet', 'logisticR__solver': 'saga'}\n",
    "\n",
    "Model with rank: 2\n",
    "Mean validation score: 0.474 (std: 0.014)\n",
    "Parameters: {'logisticR__C': 1.7121884444958853, 'logisticR__l1_ratio': 0.3076925707365644, 'logisticR__penalty': 'elasticnet', 'logisticR__solver': 'saga'}\n",
    "\n",
    "Model with rank: 3\n",
    "Mean validation score: 0.471 (std: 0.014)\n",
    "Parameters: {'logisticR__C': 1.867199528917896, 'logisticR__l1_ratio': 0.4236631421284509, 'logisticR__penalty': 'elasticnet', 'logisticR__solver': 'saga'}"
   ]
  },
  {
   "cell_type": "code",
   "execution_count": 51,
   "metadata": {},
   "outputs": [
    {
     "name": "stdout",
     "output_type": "stream",
     "text": [
      "Fitting 5 folds for each of 10 candidates, totalling 50 fits\n"
     ]
    },
    {
     "name": "stderr",
     "output_type": "stream",
     "text": [
      "[Parallel(n_jobs=-1)]: Using backend LokyBackend with 4 concurrent workers.\n",
      "[Parallel(n_jobs=-1)]: Done  33 tasks      | elapsed:   12.9s\n",
      "[Parallel(n_jobs=-1)]: Done  50 out of  50 | elapsed:   18.3s finished\n"
     ]
    },
    {
     "name": "stdout",
     "output_type": "stream",
     "text": [
      "RandomizedSearchCV took 19.01 seconds for 10 candidates parameter settings.\n",
      "Model with rank: 1\n",
      "Mean validation score: 0.474 (std: 0.014)\n",
      "Parameters: {'logisticR__C': 1.6992857251271825}\n",
      "\n",
      "Model with rank: 1\n",
      "Mean validation score: 0.474 (std: 0.016)\n",
      "Parameters: {'logisticR__C': 1.8620777171647571}\n",
      "\n",
      "Model with rank: 3\n",
      "Mean validation score: 0.468 (std: 0.010)\n",
      "Parameters: {'logisticR__C': 1.02974916172587}\n",
      "\n",
      "{'logisticR__C': 1.6992857251271825}\n"
     ]
    },
    {
     "name": "stderr",
     "output_type": "stream",
     "text": [
      "[Parallel(n_jobs=1)]: Using backend SequentialBackend with 1 concurrent workers.\n",
      "[Parallel(n_jobs=1)]: Done   1 out of   1 | elapsed:    0.1s finished\n"
     ]
    }
   ],
   "source": [
    "## Randomized search 2 for Logistic regression : penalty = l2, solver=lbfgs ## \n",
    "\n",
    "# Model types to tune: LR + basic vocab for topics, RF + E-B vocab for locations\n",
    "\n",
    "\n",
    "## Randomized search  for Logistic regression## \n",
    "# LR + basic vocab for topics\n",
    "\n",
    "pipe_lr = Pipeline(steps=[('tfidf', tfidf_vectorizer_base), ('logisticR', lr)])\n",
    "\n",
    "# specify parameters and distributions to sample from --> Randomized\n",
    "param_dist = {'logisticR__C':stats.uniform(0.1, 2)} # l2 penalty, lbfgs solver\n",
    "\n",
    "# run randomized search\n",
    "n_iter_search = 10\n",
    "random_search = RandomizedSearchCV(pipe_lr, \n",
    "                                   param_distributions=param_dist,\n",
    "                                   n_iter=n_iter_search, \n",
    "                                   verbose=2, \n",
    "                                   random_state=2905,\n",
    "                                   cv=sss, \n",
    "                                   n_jobs = -1)\n",
    "\n",
    "start = time()\n",
    "random_search.fit(X['text'], y_topic)\n",
    "print(\"RandomizedSearchCV took %.2f seconds for %d candidates\"\n",
    "      \" parameter settings.\" % ((time() - start), n_iter_search))\n",
    "report(random_search.cv_results_)\n",
    "print(random_search.best_params_)"
   ]
  },
  {
   "cell_type": "raw",
   "metadata": {},
   "source": [
    "## Randomized search 2 for Logistic regression : penalty = l2, solver=lbfgs ## \n",
    "\n",
    "                                        ___ Results: ____\n",
    "\n",
    "RandomizedSearchCV took 20.06 seconds for 10 candidates parameter settings.\n",
    "Model with rank: 1\n",
    "Mean validation score: 0.474 (std: 0.014)\n",
    "Parameters: {'logisticR__C': 1.6910388216086767}\n",
    "\n",
    "Model with rank: 2\n",
    "Mean validation score: 0.468 (std: 0.016)\n",
    "Parameters: {'logisticR__C': 1.1282201218310974}\n",
    "\n",
    "Model with rank: 3\n",
    "Mean validation score: 0.468 (std: 0.018)\n",
    "Parameters: {'logisticR__C': 1.487719382030727}\n",
    "\n",
    "Model with rank: 3\n",
    "Mean validation score: 0.468 (std: 0.016)\n",
    "Parameters: {'logisticR__C': 1.7311788112185886}\n",
    "\n",
    "Best C: \n",
    "{'logisticR__C': 1.6910388216086767}"
   ]
  },
  {
   "cell_type": "code",
   "execution_count": 52,
   "metadata": {},
   "outputs": [
    {
     "data": {
      "text/plain": [
       "'\\n## Grid Search ##\\n\\n# param_grid for Grid\\nparam_grid = {\\'average\\': [True, False],\\n              \\'l1_ratio\\': np.linspace(0, 1, num=10),\\n              \\'alpha\\': np.power(10, np.arange(-4, 1, dtype=float))}\\n\\n# run grid search\\ngrid_search = GridSearchCV(clf, param_grid=param_grid)\\nstart = time()\\ngrid_search.fit(X, y)\\n\\nprint(\"GridSearchCV took %.2f seconds for %d candidate parameter settings.\"\\n      % (time() - start, len(grid_search.cv_results_[\\'params\\'])))\\nreport(grid_search.cv_results_)'"
      ]
     },
     "execution_count": 52,
     "metadata": {},
     "output_type": "execute_result"
    }
   ],
   "source": [
    "\"\"\"\n",
    "## Grid Search ##\n",
    "\n",
    "# param_grid for Grid\n",
    "param_grid = {'average': [True, False],\n",
    "              'l1_ratio': np.linspace(0, 1, num=10),\n",
    "              'alpha': np.power(10, np.arange(-4, 1, dtype=float))}\n",
    "\n",
    "# run grid search\n",
    "grid_search = GridSearchCV(clf, param_grid=param_grid)\n",
    "start = time()\n",
    "grid_search.fit(X, y)\n",
    "\n",
    "print(\"GridSearchCV took %.2f seconds for %d candidate parameter settings.\"\n",
    "      % (time() - start, len(grid_search.cv_results_['params'])))\n",
    "report(grid_search.cv_results_)\"\"\""
   ]
  },
  {
   "cell_type": "markdown",
   "metadata": {},
   "source": [
    "More on solver choices for logistic regression [here](https://towardsdatascience.com/dont-sweat-the-solver-stuff-aea7cddc3451).\n",
    "\n",
    "Tuorial for hp tuning [here](https://towardsdatascience.com/hyperparameter-tuning-the-random-forest-in-python-using-scikit-learn-28d2aa77dd74).\n",
    "\n",
    "*__Warning__*: the following cell will take a very long time to run if you don't have parallel workers."
   ]
  },
  {
   "cell_type": "code",
   "execution_count": 53,
   "metadata": {},
   "outputs": [
    {
     "name": "stderr",
     "output_type": "stream",
     "text": [
      "[Parallel(n_jobs=1)]: Using backend SequentialBackend with 1 concurrent workers.\n"
     ]
    },
    {
     "name": "stdout",
     "output_type": "stream",
     "text": [
      "{'rf__n_estimators': [200, 208, 216, 224, 232, 240, 248, 256, 264, 272, 280, 288, 296, 305, 313, 321, 329, 337, 345, 353, 361, 369, 377, 385, 393, 402, 410, 418, 426, 434, 442, 450, 458, 466, 474, 482, 490, 498, 507, 515, 523, 531, 539, 547, 555, 563, 571, 579, 587, 595, 604, 612, 620, 628, 636, 644, 652, 660, 668, 676, 684, 692, 701, 709, 717, 725, 733, 741, 749, 757, 765, 773, 781, 789, 797, 806, 814, 822, 830, 838, 846, 854, 862, 870, 878, 886, 894, 903, 911, 919, 927, 935, 943, 951, 959, 967, 975, 983, 991, 1000], 'rf__max_features': ['auto', 'sqrt'], 'rf__max_depth': [10, 15, 20, 25, 30, 35, 40, 45, 50, 55, 60, 65, 70, 75, 80, 85, 90, 95, 100, 105, 110, None], 'rf__min_samples_split': [2, 5, 10], 'rf__min_samples_leaf': [1, 2, 4], 'rf__bootstrap': [True, False]}\n",
      "Fitting 5 folds for each of 100 candidates, totalling 500 fits\n",
      "[CV] rf__n_estimators=345, rf__min_samples_split=10, rf__min_samples_leaf=2, rf__max_features=auto, rf__max_depth=None, rf__bootstrap=True \n"
     ]
    },
    {
     "name": "stderr",
     "output_type": "stream",
     "text": [
      "[Parallel(n_jobs=1)]: Using backend SequentialBackend with 1 concurrent workers.\n",
      "[Parallel(n_jobs=1)]: Done 345 out of 345 | elapsed:    1.4s finished\n",
      "[Parallel(n_jobs=1)]: Using backend SequentialBackend with 1 concurrent workers.\n",
      "[Parallel(n_jobs=1)]: Done 345 out of 345 | elapsed:    0.0s finished\n",
      "[Parallel(n_jobs=1)]: Done   1 out of   1 | elapsed:    2.2s remaining:    0.0s\n"
     ]
    },
    {
     "name": "stdout",
     "output_type": "stream",
     "text": [
      "[CV]  rf__n_estimators=345, rf__min_samples_split=10, rf__min_samples_leaf=2, rf__max_features=auto, rf__max_depth=None, rf__bootstrap=True, total=   2.2s\n",
      "[CV] rf__n_estimators=345, rf__min_samples_split=10, rf__min_samples_leaf=2, rf__max_features=auto, rf__max_depth=None, rf__bootstrap=True \n"
     ]
    },
    {
     "name": "stderr",
     "output_type": "stream",
     "text": [
      "[Parallel(n_jobs=1)]: Using backend SequentialBackend with 1 concurrent workers.\n",
      "[Parallel(n_jobs=1)]: Done 345 out of 345 | elapsed:    1.4s finished\n",
      "[Parallel(n_jobs=1)]: Using backend SequentialBackend with 1 concurrent workers.\n",
      "[Parallel(n_jobs=1)]: Done 345 out of 345 | elapsed:    0.0s finished\n"
     ]
    },
    {
     "name": "stdout",
     "output_type": "stream",
     "text": [
      "[CV]  rf__n_estimators=345, rf__min_samples_split=10, rf__min_samples_leaf=2, rf__max_features=auto, rf__max_depth=None, rf__bootstrap=True, total=   2.1s\n",
      "[CV] rf__n_estimators=345, rf__min_samples_split=10, rf__min_samples_leaf=2, rf__max_features=auto, rf__max_depth=None, rf__bootstrap=True \n"
     ]
    },
    {
     "name": "stderr",
     "output_type": "stream",
     "text": [
      "[Parallel(n_jobs=1)]: Using backend SequentialBackend with 1 concurrent workers.\n",
      "[Parallel(n_jobs=1)]: Done 345 out of 345 | elapsed:    1.4s finished\n",
      "[Parallel(n_jobs=1)]: Using backend SequentialBackend with 1 concurrent workers.\n",
      "[Parallel(n_jobs=1)]: Done 345 out of 345 | elapsed:    0.0s finished\n"
     ]
    },
    {
     "name": "stdout",
     "output_type": "stream",
     "text": [
      "[CV]  rf__n_estimators=345, rf__min_samples_split=10, rf__min_samples_leaf=2, rf__max_features=auto, rf__max_depth=None, rf__bootstrap=True, total=   2.1s\n",
      "[CV] rf__n_estimators=345, rf__min_samples_split=10, rf__min_samples_leaf=2, rf__max_features=auto, rf__max_depth=None, rf__bootstrap=True \n"
     ]
    },
    {
     "name": "stderr",
     "output_type": "stream",
     "text": [
      "[Parallel(n_jobs=1)]: Using backend SequentialBackend with 1 concurrent workers.\n",
      "[Parallel(n_jobs=1)]: Done 345 out of 345 | elapsed:    1.4s finished\n",
      "[Parallel(n_jobs=1)]: Using backend SequentialBackend with 1 concurrent workers.\n",
      "[Parallel(n_jobs=1)]: Done 345 out of 345 | elapsed:    0.0s finished\n"
     ]
    },
    {
     "name": "stdout",
     "output_type": "stream",
     "text": [
      "[CV]  rf__n_estimators=345, rf__min_samples_split=10, rf__min_samples_leaf=2, rf__max_features=auto, rf__max_depth=None, rf__bootstrap=True, total=   2.1s\n",
      "[CV] rf__n_estimators=345, rf__min_samples_split=10, rf__min_samples_leaf=2, rf__max_features=auto, rf__max_depth=None, rf__bootstrap=True \n"
     ]
    },
    {
     "name": "stderr",
     "output_type": "stream",
     "text": [
      "[Parallel(n_jobs=1)]: Using backend SequentialBackend with 1 concurrent workers.\n",
      "[Parallel(n_jobs=1)]: Done 345 out of 345 | elapsed:    1.3s finished\n",
      "[Parallel(n_jobs=1)]: Using backend SequentialBackend with 1 concurrent workers.\n",
      "[Parallel(n_jobs=1)]: Done 345 out of 345 | elapsed:    0.0s finished\n"
     ]
    },
    {
     "name": "stdout",
     "output_type": "stream",
     "text": [
      "[CV]  rf__n_estimators=345, rf__min_samples_split=10, rf__min_samples_leaf=2, rf__max_features=auto, rf__max_depth=None, rf__bootstrap=True, total=   2.0s\n",
      "[CV] rf__n_estimators=862, rf__min_samples_split=5, rf__min_samples_leaf=1, rf__max_features=sqrt, rf__max_depth=20, rf__bootstrap=True \n"
     ]
    },
    {
     "name": "stderr",
     "output_type": "stream",
     "text": [
      "[Parallel(n_jobs=1)]: Using backend SequentialBackend with 1 concurrent workers.\n",
      "[Parallel(n_jobs=1)]: Done 862 out of 862 | elapsed:    4.3s finished\n",
      "[Parallel(n_jobs=1)]: Using backend SequentialBackend with 1 concurrent workers.\n",
      "[Parallel(n_jobs=1)]: Done 862 out of 862 | elapsed:    0.1s finished\n"
     ]
    },
    {
     "name": "stdout",
     "output_type": "stream",
     "text": [
      "[CV]  rf__n_estimators=862, rf__min_samples_split=5, rf__min_samples_leaf=1, rf__max_features=sqrt, rf__max_depth=20, rf__bootstrap=True, total=   5.2s\n",
      "[CV] rf__n_estimators=862, rf__min_samples_split=5, rf__min_samples_leaf=1, rf__max_features=sqrt, rf__max_depth=20, rf__bootstrap=True \n"
     ]
    },
    {
     "name": "stderr",
     "output_type": "stream",
     "text": [
      "[Parallel(n_jobs=1)]: Using backend SequentialBackend with 1 concurrent workers.\n",
      "[Parallel(n_jobs=1)]: Done 862 out of 862 | elapsed:    4.2s finished\n",
      "[Parallel(n_jobs=1)]: Using backend SequentialBackend with 1 concurrent workers.\n",
      "[Parallel(n_jobs=1)]: Done 862 out of 862 | elapsed:    0.1s finished\n"
     ]
    },
    {
     "name": "stdout",
     "output_type": "stream",
     "text": [
      "[CV]  rf__n_estimators=862, rf__min_samples_split=5, rf__min_samples_leaf=1, rf__max_features=sqrt, rf__max_depth=20, rf__bootstrap=True, total=   5.1s\n",
      "[CV] rf__n_estimators=862, rf__min_samples_split=5, rf__min_samples_leaf=1, rf__max_features=sqrt, rf__max_depth=20, rf__bootstrap=True \n"
     ]
    },
    {
     "name": "stderr",
     "output_type": "stream",
     "text": [
      "[Parallel(n_jobs=1)]: Using backend SequentialBackend with 1 concurrent workers.\n",
      "[Parallel(n_jobs=1)]: Done 862 out of 862 | elapsed:    4.1s finished\n",
      "[Parallel(n_jobs=1)]: Using backend SequentialBackend with 1 concurrent workers.\n",
      "[Parallel(n_jobs=1)]: Done 862 out of 862 | elapsed:    0.1s finished\n"
     ]
    },
    {
     "name": "stdout",
     "output_type": "stream",
     "text": [
      "[CV]  rf__n_estimators=862, rf__min_samples_split=5, rf__min_samples_leaf=1, rf__max_features=sqrt, rf__max_depth=20, rf__bootstrap=True, total=   5.0s\n",
      "[CV] rf__n_estimators=862, rf__min_samples_split=5, rf__min_samples_leaf=1, rf__max_features=sqrt, rf__max_depth=20, rf__bootstrap=True \n"
     ]
    },
    {
     "name": "stderr",
     "output_type": "stream",
     "text": [
      "[Parallel(n_jobs=1)]: Using backend SequentialBackend with 1 concurrent workers.\n",
      "[Parallel(n_jobs=1)]: Done 862 out of 862 | elapsed:    4.4s finished\n",
      "[Parallel(n_jobs=1)]: Using backend SequentialBackend with 1 concurrent workers.\n",
      "[Parallel(n_jobs=1)]: Done 862 out of 862 | elapsed:    0.1s finished\n"
     ]
    },
    {
     "name": "stdout",
     "output_type": "stream",
     "text": [
      "[CV]  rf__n_estimators=862, rf__min_samples_split=5, rf__min_samples_leaf=1, rf__max_features=sqrt, rf__max_depth=20, rf__bootstrap=True, total=   5.3s\n",
      "[CV] rf__n_estimators=862, rf__min_samples_split=5, rf__min_samples_leaf=1, rf__max_features=sqrt, rf__max_depth=20, rf__bootstrap=True \n"
     ]
    },
    {
     "name": "stderr",
     "output_type": "stream",
     "text": [
      "[Parallel(n_jobs=1)]: Using backend SequentialBackend with 1 concurrent workers.\n",
      "[Parallel(n_jobs=1)]: Done 862 out of 862 | elapsed:    4.2s finished\n",
      "[Parallel(n_jobs=1)]: Using backend SequentialBackend with 1 concurrent workers.\n",
      "[Parallel(n_jobs=1)]: Done 862 out of 862 | elapsed:    0.1s finished\n"
     ]
    },
    {
     "name": "stdout",
     "output_type": "stream",
     "text": [
      "[CV]  rf__n_estimators=862, rf__min_samples_split=5, rf__min_samples_leaf=1, rf__max_features=sqrt, rf__max_depth=20, rf__bootstrap=True, total=   5.1s\n",
      "[CV] rf__n_estimators=628, rf__min_samples_split=5, rf__min_samples_leaf=4, rf__max_features=auto, rf__max_depth=85, rf__bootstrap=True \n"
     ]
    },
    {
     "name": "stderr",
     "output_type": "stream",
     "text": [
      "[Parallel(n_jobs=1)]: Using backend SequentialBackend with 1 concurrent workers.\n",
      "[Parallel(n_jobs=1)]: Done 628 out of 628 | elapsed:    2.3s finished\n",
      "[Parallel(n_jobs=1)]: Using backend SequentialBackend with 1 concurrent workers.\n",
      "[Parallel(n_jobs=1)]: Done 628 out of 628 | elapsed:    0.1s finished\n"
     ]
    },
    {
     "name": "stdout",
     "output_type": "stream",
     "text": [
      "[CV]  rf__n_estimators=628, rf__min_samples_split=5, rf__min_samples_leaf=4, rf__max_features=auto, rf__max_depth=85, rf__bootstrap=True, total=   3.2s\n",
      "[CV] rf__n_estimators=628, rf__min_samples_split=5, rf__min_samples_leaf=4, rf__max_features=auto, rf__max_depth=85, rf__bootstrap=True \n"
     ]
    },
    {
     "name": "stderr",
     "output_type": "stream",
     "text": [
      "[Parallel(n_jobs=1)]: Using backend SequentialBackend with 1 concurrent workers.\n",
      "[Parallel(n_jobs=1)]: Done 628 out of 628 | elapsed:    2.4s finished\n",
      "[Parallel(n_jobs=1)]: Using backend SequentialBackend with 1 concurrent workers.\n",
      "[Parallel(n_jobs=1)]: Done 628 out of 628 | elapsed:    0.1s finished\n"
     ]
    },
    {
     "name": "stdout",
     "output_type": "stream",
     "text": [
      "[CV]  rf__n_estimators=628, rf__min_samples_split=5, rf__min_samples_leaf=4, rf__max_features=auto, rf__max_depth=85, rf__bootstrap=True, total=   3.2s\n",
      "[CV] rf__n_estimators=628, rf__min_samples_split=5, rf__min_samples_leaf=4, rf__max_features=auto, rf__max_depth=85, rf__bootstrap=True \n"
     ]
    },
    {
     "name": "stderr",
     "output_type": "stream",
     "text": [
      "[Parallel(n_jobs=1)]: Using backend SequentialBackend with 1 concurrent workers.\n",
      "[Parallel(n_jobs=1)]: Done 628 out of 628 | elapsed:    2.4s finished\n",
      "[Parallel(n_jobs=1)]: Using backend SequentialBackend with 1 concurrent workers.\n",
      "[Parallel(n_jobs=1)]: Done 628 out of 628 | elapsed:    0.1s finished\n"
     ]
    },
    {
     "name": "stdout",
     "output_type": "stream",
     "text": [
      "[CV]  rf__n_estimators=628, rf__min_samples_split=5, rf__min_samples_leaf=4, rf__max_features=auto, rf__max_depth=85, rf__bootstrap=True, total=   3.2s\n",
      "[CV] rf__n_estimators=628, rf__min_samples_split=5, rf__min_samples_leaf=4, rf__max_features=auto, rf__max_depth=85, rf__bootstrap=True \n"
     ]
    },
    {
     "name": "stderr",
     "output_type": "stream",
     "text": [
      "[Parallel(n_jobs=1)]: Using backend SequentialBackend with 1 concurrent workers.\n",
      "[Parallel(n_jobs=1)]: Done 628 out of 628 | elapsed:    2.3s finished\n",
      "[Parallel(n_jobs=1)]: Using backend SequentialBackend with 1 concurrent workers.\n",
      "[Parallel(n_jobs=1)]: Done 628 out of 628 | elapsed:    0.1s finished\n"
     ]
    },
    {
     "name": "stdout",
     "output_type": "stream",
     "text": [
      "[CV]  rf__n_estimators=628, rf__min_samples_split=5, rf__min_samples_leaf=4, rf__max_features=auto, rf__max_depth=85, rf__bootstrap=True, total=   3.1s\n",
      "[CV] rf__n_estimators=628, rf__min_samples_split=5, rf__min_samples_leaf=4, rf__max_features=auto, rf__max_depth=85, rf__bootstrap=True \n"
     ]
    },
    {
     "name": "stderr",
     "output_type": "stream",
     "text": [
      "[Parallel(n_jobs=1)]: Using backend SequentialBackend with 1 concurrent workers.\n",
      "[Parallel(n_jobs=1)]: Done 628 out of 628 | elapsed:    2.3s finished\n",
      "[Parallel(n_jobs=1)]: Using backend SequentialBackend with 1 concurrent workers.\n",
      "[Parallel(n_jobs=1)]: Done 628 out of 628 | elapsed:    0.1s finished\n"
     ]
    },
    {
     "name": "stdout",
     "output_type": "stream",
     "text": [
      "[CV]  rf__n_estimators=628, rf__min_samples_split=5, rf__min_samples_leaf=4, rf__max_features=auto, rf__max_depth=85, rf__bootstrap=True, total=   3.1s\n",
      "[CV] rf__n_estimators=288, rf__min_samples_split=2, rf__min_samples_leaf=1, rf__max_features=sqrt, rf__max_depth=105, rf__bootstrap=False \n"
     ]
    },
    {
     "name": "stderr",
     "output_type": "stream",
     "text": [
      "[Parallel(n_jobs=1)]: Using backend SequentialBackend with 1 concurrent workers.\n",
      "[Parallel(n_jobs=1)]: Done 288 out of 288 | elapsed:    2.0s finished\n",
      "[Parallel(n_jobs=1)]: Using backend SequentialBackend with 1 concurrent workers.\n",
      "[Parallel(n_jobs=1)]: Done 288 out of 288 | elapsed:    0.0s finished\n"
     ]
    },
    {
     "name": "stdout",
     "output_type": "stream",
     "text": [
      "[CV]  rf__n_estimators=288, rf__min_samples_split=2, rf__min_samples_leaf=1, rf__max_features=sqrt, rf__max_depth=105, rf__bootstrap=False, total=   2.7s\n",
      "[CV] rf__n_estimators=288, rf__min_samples_split=2, rf__min_samples_leaf=1, rf__max_features=sqrt, rf__max_depth=105, rf__bootstrap=False \n"
     ]
    },
    {
     "name": "stderr",
     "output_type": "stream",
     "text": [
      "[Parallel(n_jobs=1)]: Using backend SequentialBackend with 1 concurrent workers.\n",
      "[Parallel(n_jobs=1)]: Done 288 out of 288 | elapsed:    2.0s finished\n",
      "[Parallel(n_jobs=1)]: Using backend SequentialBackend with 1 concurrent workers.\n",
      "[Parallel(n_jobs=1)]: Done 288 out of 288 | elapsed:    0.0s finished\n"
     ]
    },
    {
     "name": "stdout",
     "output_type": "stream",
     "text": [
      "[CV]  rf__n_estimators=288, rf__min_samples_split=2, rf__min_samples_leaf=1, rf__max_features=sqrt, rf__max_depth=105, rf__bootstrap=False, total=   2.7s\n",
      "[CV] rf__n_estimators=288, rf__min_samples_split=2, rf__min_samples_leaf=1, rf__max_features=sqrt, rf__max_depth=105, rf__bootstrap=False \n"
     ]
    },
    {
     "name": "stderr",
     "output_type": "stream",
     "text": [
      "[Parallel(n_jobs=1)]: Using backend SequentialBackend with 1 concurrent workers.\n",
      "[Parallel(n_jobs=1)]: Done 288 out of 288 | elapsed:    2.0s finished\n",
      "[Parallel(n_jobs=1)]: Using backend SequentialBackend with 1 concurrent workers.\n",
      "[Parallel(n_jobs=1)]: Done 288 out of 288 | elapsed:    0.0s finished\n"
     ]
    },
    {
     "name": "stdout",
     "output_type": "stream",
     "text": [
      "[CV]  rf__n_estimators=288, rf__min_samples_split=2, rf__min_samples_leaf=1, rf__max_features=sqrt, rf__max_depth=105, rf__bootstrap=False, total=   2.6s\n",
      "[CV] rf__n_estimators=288, rf__min_samples_split=2, rf__min_samples_leaf=1, rf__max_features=sqrt, rf__max_depth=105, rf__bootstrap=False \n"
     ]
    },
    {
     "name": "stderr",
     "output_type": "stream",
     "text": [
      "[Parallel(n_jobs=1)]: Using backend SequentialBackend with 1 concurrent workers.\n",
      "[Parallel(n_jobs=1)]: Done 288 out of 288 | elapsed:    2.0s finished\n",
      "[Parallel(n_jobs=1)]: Using backend SequentialBackend with 1 concurrent workers.\n",
      "[Parallel(n_jobs=1)]: Done 288 out of 288 | elapsed:    0.0s finished\n"
     ]
    },
    {
     "name": "stdout",
     "output_type": "stream",
     "text": [
      "[CV]  rf__n_estimators=288, rf__min_samples_split=2, rf__min_samples_leaf=1, rf__max_features=sqrt, rf__max_depth=105, rf__bootstrap=False, total=   2.6s\n",
      "[CV] rf__n_estimators=288, rf__min_samples_split=2, rf__min_samples_leaf=1, rf__max_features=sqrt, rf__max_depth=105, rf__bootstrap=False \n"
     ]
    },
    {
     "name": "stderr",
     "output_type": "stream",
     "text": [
      "[Parallel(n_jobs=1)]: Using backend SequentialBackend with 1 concurrent workers.\n",
      "[Parallel(n_jobs=1)]: Done 288 out of 288 | elapsed:    2.0s finished\n",
      "[Parallel(n_jobs=1)]: Using backend SequentialBackend with 1 concurrent workers.\n",
      "[Parallel(n_jobs=1)]: Done 288 out of 288 | elapsed:    0.0s finished\n"
     ]
    },
    {
     "name": "stdout",
     "output_type": "stream",
     "text": [
      "[CV]  rf__n_estimators=288, rf__min_samples_split=2, rf__min_samples_leaf=1, rf__max_features=sqrt, rf__max_depth=105, rf__bootstrap=False, total=   2.6s\n",
      "[CV] rf__n_estimators=789, rf__min_samples_split=5, rf__min_samples_leaf=1, rf__max_features=sqrt, rf__max_depth=110, rf__bootstrap=True \n"
     ]
    },
    {
     "name": "stderr",
     "output_type": "stream",
     "text": [
      "[Parallel(n_jobs=1)]: Using backend SequentialBackend with 1 concurrent workers.\n",
      "[Parallel(n_jobs=1)]: Done 789 out of 789 | elapsed:    3.9s finished\n",
      "[Parallel(n_jobs=1)]: Using backend SequentialBackend with 1 concurrent workers.\n",
      "[Parallel(n_jobs=1)]: Done 789 out of 789 | elapsed:    0.1s finished\n"
     ]
    },
    {
     "name": "stdout",
     "output_type": "stream",
     "text": [
      "[CV]  rf__n_estimators=789, rf__min_samples_split=5, rf__min_samples_leaf=1, rf__max_features=sqrt, rf__max_depth=110, rf__bootstrap=True, total=   4.7s\n",
      "[CV] rf__n_estimators=789, rf__min_samples_split=5, rf__min_samples_leaf=1, rf__max_features=sqrt, rf__max_depth=110, rf__bootstrap=True \n"
     ]
    },
    {
     "name": "stderr",
     "output_type": "stream",
     "text": [
      "[Parallel(n_jobs=1)]: Using backend SequentialBackend with 1 concurrent workers.\n",
      "[Parallel(n_jobs=1)]: Done 789 out of 789 | elapsed:    8.3s finished\n",
      "[Parallel(n_jobs=1)]: Using backend SequentialBackend with 1 concurrent workers.\n",
      "[Parallel(n_jobs=1)]: Done 789 out of 789 | elapsed:    0.3s finished\n"
     ]
    },
    {
     "name": "stdout",
     "output_type": "stream",
     "text": [
      "[CV]  rf__n_estimators=789, rf__min_samples_split=5, rf__min_samples_leaf=1, rf__max_features=sqrt, rf__max_depth=110, rf__bootstrap=True, total=   9.4s\n",
      "[CV] rf__n_estimators=789, rf__min_samples_split=5, rf__min_samples_leaf=1, rf__max_features=sqrt, rf__max_depth=110, rf__bootstrap=True \n"
     ]
    },
    {
     "name": "stderr",
     "output_type": "stream",
     "text": [
      "[Parallel(n_jobs=1)]: Using backend SequentialBackend with 1 concurrent workers.\n",
      "[Parallel(n_jobs=1)]: Done 789 out of 789 | elapsed:   10.6s finished\n",
      "[Parallel(n_jobs=1)]: Using backend SequentialBackend with 1 concurrent workers.\n",
      "[Parallel(n_jobs=1)]: Done 789 out of 789 | elapsed:    0.3s finished\n"
     ]
    },
    {
     "name": "stdout",
     "output_type": "stream",
     "text": [
      "[CV]  rf__n_estimators=789, rf__min_samples_split=5, rf__min_samples_leaf=1, rf__max_features=sqrt, rf__max_depth=110, rf__bootstrap=True, total=  13.5s\n",
      "[CV] rf__n_estimators=789, rf__min_samples_split=5, rf__min_samples_leaf=1, rf__max_features=sqrt, rf__max_depth=110, rf__bootstrap=True \n"
     ]
    },
    {
     "name": "stderr",
     "output_type": "stream",
     "text": [
      "[Parallel(n_jobs=1)]: Using backend SequentialBackend with 1 concurrent workers.\n",
      "[Parallel(n_jobs=1)]: Done 789 out of 789 | elapsed:   10.4s finished\n",
      "[Parallel(n_jobs=1)]: Using backend SequentialBackend with 1 concurrent workers.\n",
      "[Parallel(n_jobs=1)]: Done 789 out of 789 | elapsed:    0.3s finished\n"
     ]
    },
    {
     "name": "stdout",
     "output_type": "stream",
     "text": [
      "[CV]  rf__n_estimators=789, rf__min_samples_split=5, rf__min_samples_leaf=1, rf__max_features=sqrt, rf__max_depth=110, rf__bootstrap=True, total=  13.3s\n",
      "[CV] rf__n_estimators=789, rf__min_samples_split=5, rf__min_samples_leaf=1, rf__max_features=sqrt, rf__max_depth=110, rf__bootstrap=True \n"
     ]
    },
    {
     "name": "stderr",
     "output_type": "stream",
     "text": [
      "[Parallel(n_jobs=1)]: Using backend SequentialBackend with 1 concurrent workers.\n",
      "[Parallel(n_jobs=1)]: Done 789 out of 789 | elapsed:   10.5s finished\n",
      "[Parallel(n_jobs=1)]: Using backend SequentialBackend with 1 concurrent workers.\n",
      "[Parallel(n_jobs=1)]: Done 789 out of 789 | elapsed:    0.3s finished\n"
     ]
    },
    {
     "name": "stdout",
     "output_type": "stream",
     "text": [
      "[CV]  rf__n_estimators=789, rf__min_samples_split=5, rf__min_samples_leaf=1, rf__max_features=sqrt, rf__max_depth=110, rf__bootstrap=True, total=  13.5s\n",
      "[CV] rf__n_estimators=773, rf__min_samples_split=5, rf__min_samples_leaf=2, rf__max_features=sqrt, rf__max_depth=10, rf__bootstrap=True \n"
     ]
    },
    {
     "name": "stderr",
     "output_type": "stream",
     "text": [
      "[Parallel(n_jobs=1)]: Using backend SequentialBackend with 1 concurrent workers.\n",
      "[Parallel(n_jobs=1)]: Done 773 out of 773 | elapsed:    8.1s finished\n",
      "[Parallel(n_jobs=1)]: Using backend SequentialBackend with 1 concurrent workers.\n",
      "[Parallel(n_jobs=1)]: Done 773 out of 773 | elapsed:    0.3s finished\n"
     ]
    },
    {
     "name": "stdout",
     "output_type": "stream",
     "text": [
      "[CV]  rf__n_estimators=773, rf__min_samples_split=5, rf__min_samples_leaf=2, rf__max_features=sqrt, rf__max_depth=10, rf__bootstrap=True, total=  11.0s\n",
      "[CV] rf__n_estimators=773, rf__min_samples_split=5, rf__min_samples_leaf=2, rf__max_features=sqrt, rf__max_depth=10, rf__bootstrap=True \n"
     ]
    },
    {
     "name": "stderr",
     "output_type": "stream",
     "text": [
      "[Parallel(n_jobs=1)]: Using backend SequentialBackend with 1 concurrent workers.\n",
      "[Parallel(n_jobs=1)]: Done 773 out of 773 | elapsed:    8.1s finished\n",
      "[Parallel(n_jobs=1)]: Using backend SequentialBackend with 1 concurrent workers.\n",
      "[Parallel(n_jobs=1)]: Done 773 out of 773 | elapsed:    0.3s finished\n"
     ]
    },
    {
     "name": "stdout",
     "output_type": "stream",
     "text": [
      "[CV]  rf__n_estimators=773, rf__min_samples_split=5, rf__min_samples_leaf=2, rf__max_features=sqrt, rf__max_depth=10, rf__bootstrap=True, total=  11.1s\n",
      "[CV] rf__n_estimators=773, rf__min_samples_split=5, rf__min_samples_leaf=2, rf__max_features=sqrt, rf__max_depth=10, rf__bootstrap=True \n"
     ]
    },
    {
     "name": "stderr",
     "output_type": "stream",
     "text": [
      "[Parallel(n_jobs=1)]: Using backend SequentialBackend with 1 concurrent workers.\n",
      "[Parallel(n_jobs=1)]: Done 773 out of 773 | elapsed:    8.4s finished\n",
      "[Parallel(n_jobs=1)]: Using backend SequentialBackend with 1 concurrent workers.\n",
      "[Parallel(n_jobs=1)]: Done 773 out of 773 | elapsed:    0.3s finished\n"
     ]
    },
    {
     "name": "stdout",
     "output_type": "stream",
     "text": [
      "[CV]  rf__n_estimators=773, rf__min_samples_split=5, rf__min_samples_leaf=2, rf__max_features=sqrt, rf__max_depth=10, rf__bootstrap=True, total=  11.6s\n",
      "[CV] rf__n_estimators=773, rf__min_samples_split=5, rf__min_samples_leaf=2, rf__max_features=sqrt, rf__max_depth=10, rf__bootstrap=True \n"
     ]
    },
    {
     "name": "stderr",
     "output_type": "stream",
     "text": [
      "[Parallel(n_jobs=1)]: Using backend SequentialBackend with 1 concurrent workers.\n",
      "[Parallel(n_jobs=1)]: Done 773 out of 773 | elapsed:    9.2s finished\n",
      "[Parallel(n_jobs=1)]: Using backend SequentialBackend with 1 concurrent workers.\n",
      "[Parallel(n_jobs=1)]: Done 773 out of 773 | elapsed:    0.4s finished\n"
     ]
    },
    {
     "name": "stdout",
     "output_type": "stream",
     "text": [
      "[CV]  rf__n_estimators=773, rf__min_samples_split=5, rf__min_samples_leaf=2, rf__max_features=sqrt, rf__max_depth=10, rf__bootstrap=True, total=  12.5s\n",
      "[CV] rf__n_estimators=773, rf__min_samples_split=5, rf__min_samples_leaf=2, rf__max_features=sqrt, rf__max_depth=10, rf__bootstrap=True \n"
     ]
    },
    {
     "name": "stderr",
     "output_type": "stream",
     "text": [
      "[Parallel(n_jobs=1)]: Using backend SequentialBackend with 1 concurrent workers.\n",
      "[Parallel(n_jobs=1)]: Done 773 out of 773 | elapsed:    8.9s finished\n",
      "[Parallel(n_jobs=1)]: Using backend SequentialBackend with 1 concurrent workers.\n",
      "[Parallel(n_jobs=1)]: Done 773 out of 773 | elapsed:    0.3s finished\n"
     ]
    },
    {
     "name": "stdout",
     "output_type": "stream",
     "text": [
      "[CV]  rf__n_estimators=773, rf__min_samples_split=5, rf__min_samples_leaf=2, rf__max_features=sqrt, rf__max_depth=10, rf__bootstrap=True, total=  12.6s\n",
      "[CV] rf__n_estimators=402, rf__min_samples_split=5, rf__min_samples_leaf=1, rf__max_features=auto, rf__max_depth=70, rf__bootstrap=True \n"
     ]
    },
    {
     "name": "stderr",
     "output_type": "stream",
     "text": [
      "[Parallel(n_jobs=1)]: Using backend SequentialBackend with 1 concurrent workers.\n",
      "[Parallel(n_jobs=1)]: Done 402 out of 402 | elapsed:    5.2s finished\n",
      "[Parallel(n_jobs=1)]: Using backend SequentialBackend with 1 concurrent workers.\n",
      "[Parallel(n_jobs=1)]: Done 402 out of 402 | elapsed:    0.2s finished\n"
     ]
    },
    {
     "name": "stdout",
     "output_type": "stream",
     "text": [
      "[CV]  rf__n_estimators=402, rf__min_samples_split=5, rf__min_samples_leaf=1, rf__max_features=auto, rf__max_depth=70, rf__bootstrap=True, total=   7.5s\n",
      "[CV] rf__n_estimators=402, rf__min_samples_split=5, rf__min_samples_leaf=1, rf__max_features=auto, rf__max_depth=70, rf__bootstrap=True \n"
     ]
    },
    {
     "name": "stderr",
     "output_type": "stream",
     "text": [
      "[Parallel(n_jobs=1)]: Using backend SequentialBackend with 1 concurrent workers.\n",
      "[Parallel(n_jobs=1)]: Done 402 out of 402 | elapsed:    5.1s finished\n",
      "[Parallel(n_jobs=1)]: Using backend SequentialBackend with 1 concurrent workers.\n",
      "[Parallel(n_jobs=1)]: Done 402 out of 402 | elapsed:    0.2s finished\n"
     ]
    },
    {
     "name": "stdout",
     "output_type": "stream",
     "text": [
      "[CV]  rf__n_estimators=402, rf__min_samples_split=5, rf__min_samples_leaf=1, rf__max_features=auto, rf__max_depth=70, rf__bootstrap=True, total=   7.4s\n",
      "[CV] rf__n_estimators=402, rf__min_samples_split=5, rf__min_samples_leaf=1, rf__max_features=auto, rf__max_depth=70, rf__bootstrap=True \n"
     ]
    },
    {
     "name": "stderr",
     "output_type": "stream",
     "text": [
      "[Parallel(n_jobs=1)]: Using backend SequentialBackend with 1 concurrent workers.\n",
      "[Parallel(n_jobs=1)]: Done 402 out of 402 | elapsed:    5.1s finished\n",
      "[Parallel(n_jobs=1)]: Using backend SequentialBackend with 1 concurrent workers.\n",
      "[Parallel(n_jobs=1)]: Done 402 out of 402 | elapsed:    0.2s finished\n"
     ]
    },
    {
     "name": "stdout",
     "output_type": "stream",
     "text": [
      "[CV]  rf__n_estimators=402, rf__min_samples_split=5, rf__min_samples_leaf=1, rf__max_features=auto, rf__max_depth=70, rf__bootstrap=True, total=   7.4s\n",
      "[CV] rf__n_estimators=402, rf__min_samples_split=5, rf__min_samples_leaf=1, rf__max_features=auto, rf__max_depth=70, rf__bootstrap=True \n"
     ]
    },
    {
     "name": "stderr",
     "output_type": "stream",
     "text": [
      "[Parallel(n_jobs=1)]: Using backend SequentialBackend with 1 concurrent workers.\n",
      "[Parallel(n_jobs=1)]: Done 402 out of 402 | elapsed:    5.4s finished\n",
      "[Parallel(n_jobs=1)]: Using backend SequentialBackend with 1 concurrent workers.\n",
      "[Parallel(n_jobs=1)]: Done 402 out of 402 | elapsed:    0.2s finished\n"
     ]
    },
    {
     "name": "stdout",
     "output_type": "stream",
     "text": [
      "[CV]  rf__n_estimators=402, rf__min_samples_split=5, rf__min_samples_leaf=1, rf__max_features=auto, rf__max_depth=70, rf__bootstrap=True, total=   7.7s\n",
      "[CV] rf__n_estimators=402, rf__min_samples_split=5, rf__min_samples_leaf=1, rf__max_features=auto, rf__max_depth=70, rf__bootstrap=True \n"
     ]
    },
    {
     "name": "stderr",
     "output_type": "stream",
     "text": [
      "[Parallel(n_jobs=1)]: Using backend SequentialBackend with 1 concurrent workers.\n",
      "[Parallel(n_jobs=1)]: Done 402 out of 402 | elapsed:    5.6s finished\n",
      "[Parallel(n_jobs=1)]: Using backend SequentialBackend with 1 concurrent workers.\n",
      "[Parallel(n_jobs=1)]: Done 402 out of 402 | elapsed:    0.2s finished\n"
     ]
    },
    {
     "name": "stdout",
     "output_type": "stream",
     "text": [
      "[CV]  rf__n_estimators=402, rf__min_samples_split=5, rf__min_samples_leaf=1, rf__max_features=auto, rf__max_depth=70, rf__bootstrap=True, total=   8.0s\n",
      "[CV] rf__n_estimators=725, rf__min_samples_split=10, rf__min_samples_leaf=1, rf__max_features=auto, rf__max_depth=10, rf__bootstrap=False \n"
     ]
    },
    {
     "name": "stderr",
     "output_type": "stream",
     "text": [
      "[Parallel(n_jobs=1)]: Using backend SequentialBackend with 1 concurrent workers.\n",
      "[Parallel(n_jobs=1)]: Done 725 out of 725 | elapsed:    9.3s finished\n",
      "[Parallel(n_jobs=1)]: Using backend SequentialBackend with 1 concurrent workers.\n",
      "[Parallel(n_jobs=1)]: Done 725 out of 725 | elapsed:    0.3s finished\n"
     ]
    },
    {
     "name": "stdout",
     "output_type": "stream",
     "text": [
      "[CV]  rf__n_estimators=725, rf__min_samples_split=10, rf__min_samples_leaf=1, rf__max_features=auto, rf__max_depth=10, rf__bootstrap=False, total=  12.6s\n",
      "[CV] rf__n_estimators=725, rf__min_samples_split=10, rf__min_samples_leaf=1, rf__max_features=auto, rf__max_depth=10, rf__bootstrap=False \n"
     ]
    },
    {
     "name": "stderr",
     "output_type": "stream",
     "text": [
      "[Parallel(n_jobs=1)]: Using backend SequentialBackend with 1 concurrent workers.\n",
      "[Parallel(n_jobs=1)]: Done 725 out of 725 | elapsed:    8.0s finished\n",
      "[Parallel(n_jobs=1)]: Using backend SequentialBackend with 1 concurrent workers.\n",
      "[Parallel(n_jobs=1)]: Done 725 out of 725 | elapsed:    0.3s finished\n"
     ]
    },
    {
     "name": "stdout",
     "output_type": "stream",
     "text": [
      "[CV]  rf__n_estimators=725, rf__min_samples_split=10, rf__min_samples_leaf=1, rf__max_features=auto, rf__max_depth=10, rf__bootstrap=False, total=  10.8s\n",
      "[CV] rf__n_estimators=725, rf__min_samples_split=10, rf__min_samples_leaf=1, rf__max_features=auto, rf__max_depth=10, rf__bootstrap=False \n"
     ]
    },
    {
     "name": "stderr",
     "output_type": "stream",
     "text": [
      "[Parallel(n_jobs=1)]: Using backend SequentialBackend with 1 concurrent workers.\n",
      "[Parallel(n_jobs=1)]: Done 725 out of 725 | elapsed:   10.0s finished\n",
      "[Parallel(n_jobs=1)]: Using backend SequentialBackend with 1 concurrent workers.\n",
      "[Parallel(n_jobs=1)]: Done 725 out of 725 | elapsed:    0.3s finished\n"
     ]
    },
    {
     "name": "stdout",
     "output_type": "stream",
     "text": [
      "[CV]  rf__n_estimators=725, rf__min_samples_split=10, rf__min_samples_leaf=1, rf__max_features=auto, rf__max_depth=10, rf__bootstrap=False, total=  12.8s\n",
      "[CV] rf__n_estimators=725, rf__min_samples_split=10, rf__min_samples_leaf=1, rf__max_features=auto, rf__max_depth=10, rf__bootstrap=False \n"
     ]
    },
    {
     "name": "stderr",
     "output_type": "stream",
     "text": [
      "[Parallel(n_jobs=1)]: Using backend SequentialBackend with 1 concurrent workers.\n",
      "[Parallel(n_jobs=1)]: Done 725 out of 725 | elapsed:    7.9s finished\n",
      "[Parallel(n_jobs=1)]: Using backend SequentialBackend with 1 concurrent workers.\n",
      "[Parallel(n_jobs=1)]: Done 725 out of 725 | elapsed:    0.3s finished\n"
     ]
    },
    {
     "name": "stdout",
     "output_type": "stream",
     "text": [
      "[CV]  rf__n_estimators=725, rf__min_samples_split=10, rf__min_samples_leaf=1, rf__max_features=auto, rf__max_depth=10, rf__bootstrap=False, total=  11.1s\n",
      "[CV] rf__n_estimators=725, rf__min_samples_split=10, rf__min_samples_leaf=1, rf__max_features=auto, rf__max_depth=10, rf__bootstrap=False \n"
     ]
    },
    {
     "name": "stderr",
     "output_type": "stream",
     "text": [
      "[Parallel(n_jobs=1)]: Using backend SequentialBackend with 1 concurrent workers.\n",
      "[Parallel(n_jobs=1)]: Done 725 out of 725 | elapsed:    7.7s finished\n",
      "[Parallel(n_jobs=1)]: Using backend SequentialBackend with 1 concurrent workers.\n",
      "[Parallel(n_jobs=1)]: Done 725 out of 725 | elapsed:    0.3s finished\n"
     ]
    },
    {
     "name": "stdout",
     "output_type": "stream",
     "text": [
      "[CV]  rf__n_estimators=725, rf__min_samples_split=10, rf__min_samples_leaf=1, rf__max_features=auto, rf__max_depth=10, rf__bootstrap=False, total=  10.6s\n",
      "[CV] rf__n_estimators=903, rf__min_samples_split=2, rf__min_samples_leaf=1, rf__max_features=sqrt, rf__max_depth=65, rf__bootstrap=False \n"
     ]
    },
    {
     "name": "stderr",
     "output_type": "stream",
     "text": [
      "[Parallel(n_jobs=1)]: Using backend SequentialBackend with 1 concurrent workers.\n",
      "[Parallel(n_jobs=1)]: Done 903 out of 903 | elapsed:   18.6s finished\n",
      "[Parallel(n_jobs=1)]: Using backend SequentialBackend with 1 concurrent workers.\n",
      "[Parallel(n_jobs=1)]: Done 903 out of 903 | elapsed:    0.4s finished\n"
     ]
    },
    {
     "name": "stdout",
     "output_type": "stream",
     "text": [
      "[CV]  rf__n_estimators=903, rf__min_samples_split=2, rf__min_samples_leaf=1, rf__max_features=sqrt, rf__max_depth=65, rf__bootstrap=False, total=  21.9s\n",
      "[CV] rf__n_estimators=903, rf__min_samples_split=2, rf__min_samples_leaf=1, rf__max_features=sqrt, rf__max_depth=65, rf__bootstrap=False \n"
     ]
    },
    {
     "name": "stderr",
     "output_type": "stream",
     "text": [
      "[Parallel(n_jobs=1)]: Using backend SequentialBackend with 1 concurrent workers.\n",
      "[Parallel(n_jobs=1)]: Done 903 out of 903 | elapsed:   15.5s finished\n",
      "[Parallel(n_jobs=1)]: Using backend SequentialBackend with 1 concurrent workers.\n",
      "[Parallel(n_jobs=1)]: Done 903 out of 903 | elapsed:    0.4s finished\n"
     ]
    },
    {
     "name": "stdout",
     "output_type": "stream",
     "text": [
      "[CV]  rf__n_estimators=903, rf__min_samples_split=2, rf__min_samples_leaf=1, rf__max_features=sqrt, rf__max_depth=65, rf__bootstrap=False, total=  18.9s\n",
      "[CV] rf__n_estimators=903, rf__min_samples_split=2, rf__min_samples_leaf=1, rf__max_features=sqrt, rf__max_depth=65, rf__bootstrap=False \n"
     ]
    },
    {
     "name": "stderr",
     "output_type": "stream",
     "text": [
      "[Parallel(n_jobs=1)]: Using backend SequentialBackend with 1 concurrent workers.\n",
      "[Parallel(n_jobs=1)]: Done 903 out of 903 | elapsed:   15.5s finished\n",
      "[Parallel(n_jobs=1)]: Using backend SequentialBackend with 1 concurrent workers.\n",
      "[Parallel(n_jobs=1)]: Done 903 out of 903 | elapsed:    0.4s finished\n"
     ]
    },
    {
     "name": "stdout",
     "output_type": "stream",
     "text": [
      "[CV]  rf__n_estimators=903, rf__min_samples_split=2, rf__min_samples_leaf=1, rf__max_features=sqrt, rf__max_depth=65, rf__bootstrap=False, total=  18.4s\n",
      "[CV] rf__n_estimators=903, rf__min_samples_split=2, rf__min_samples_leaf=1, rf__max_features=sqrt, rf__max_depth=65, rf__bootstrap=False \n"
     ]
    },
    {
     "name": "stderr",
     "output_type": "stream",
     "text": [
      "[Parallel(n_jobs=1)]: Using backend SequentialBackend with 1 concurrent workers.\n",
      "[Parallel(n_jobs=1)]: Done 903 out of 903 | elapsed:   16.6s finished\n",
      "[Parallel(n_jobs=1)]: Using backend SequentialBackend with 1 concurrent workers.\n",
      "[Parallel(n_jobs=1)]: Done 903 out of 903 | elapsed:    0.3s finished\n"
     ]
    },
    {
     "name": "stdout",
     "output_type": "stream",
     "text": [
      "[CV]  rf__n_estimators=903, rf__min_samples_split=2, rf__min_samples_leaf=1, rf__max_features=sqrt, rf__max_depth=65, rf__bootstrap=False, total=  19.9s\n",
      "[CV] rf__n_estimators=903, rf__min_samples_split=2, rf__min_samples_leaf=1, rf__max_features=sqrt, rf__max_depth=65, rf__bootstrap=False \n"
     ]
    },
    {
     "name": "stderr",
     "output_type": "stream",
     "text": [
      "[Parallel(n_jobs=1)]: Using backend SequentialBackend with 1 concurrent workers.\n",
      "[Parallel(n_jobs=1)]: Done 903 out of 903 | elapsed:   16.2s finished\n",
      "[Parallel(n_jobs=1)]: Using backend SequentialBackend with 1 concurrent workers.\n",
      "[Parallel(n_jobs=1)]: Done 903 out of 903 | elapsed:    0.4s finished\n"
     ]
    },
    {
     "name": "stdout",
     "output_type": "stream",
     "text": [
      "[CV]  rf__n_estimators=903, rf__min_samples_split=2, rf__min_samples_leaf=1, rf__max_features=sqrt, rf__max_depth=65, rf__bootstrap=False, total=  19.3s\n",
      "[CV] rf__n_estimators=765, rf__min_samples_split=10, rf__min_samples_leaf=1, rf__max_features=sqrt, rf__max_depth=35, rf__bootstrap=True \n"
     ]
    },
    {
     "name": "stderr",
     "output_type": "stream",
     "text": [
      "[Parallel(n_jobs=1)]: Using backend SequentialBackend with 1 concurrent workers.\n",
      "[Parallel(n_jobs=1)]: Done 765 out of 765 | elapsed:   10.0s finished\n",
      "[Parallel(n_jobs=1)]: Using backend SequentialBackend with 1 concurrent workers.\n",
      "[Parallel(n_jobs=1)]: Done 765 out of 765 | elapsed:    0.3s finished\n"
     ]
    },
    {
     "name": "stdout",
     "output_type": "stream",
     "text": [
      "[CV]  rf__n_estimators=765, rf__min_samples_split=10, rf__min_samples_leaf=1, rf__max_features=sqrt, rf__max_depth=35, rf__bootstrap=True, total=  13.3s\n",
      "[CV] rf__n_estimators=765, rf__min_samples_split=10, rf__min_samples_leaf=1, rf__max_features=sqrt, rf__max_depth=35, rf__bootstrap=True \n"
     ]
    },
    {
     "name": "stderr",
     "output_type": "stream",
     "text": [
      "[Parallel(n_jobs=1)]: Using backend SequentialBackend with 1 concurrent workers.\n",
      "[Parallel(n_jobs=1)]: Done 765 out of 765 | elapsed:    8.3s finished\n",
      "[Parallel(n_jobs=1)]: Using backend SequentialBackend with 1 concurrent workers.\n",
      "[Parallel(n_jobs=1)]: Done 765 out of 765 | elapsed:    0.3s finished\n"
     ]
    },
    {
     "name": "stdout",
     "output_type": "stream",
     "text": [
      "[CV]  rf__n_estimators=765, rf__min_samples_split=10, rf__min_samples_leaf=1, rf__max_features=sqrt, rf__max_depth=35, rf__bootstrap=True, total=  11.2s\n",
      "[CV] rf__n_estimators=765, rf__min_samples_split=10, rf__min_samples_leaf=1, rf__max_features=sqrt, rf__max_depth=35, rf__bootstrap=True \n"
     ]
    },
    {
     "name": "stderr",
     "output_type": "stream",
     "text": [
      "[Parallel(n_jobs=1)]: Using backend SequentialBackend with 1 concurrent workers.\n",
      "[Parallel(n_jobs=1)]: Done 765 out of 765 | elapsed:    9.4s finished\n",
      "[Parallel(n_jobs=1)]: Using backend SequentialBackend with 1 concurrent workers.\n",
      "[Parallel(n_jobs=1)]: Done 765 out of 765 | elapsed:    0.4s finished\n"
     ]
    },
    {
     "name": "stdout",
     "output_type": "stream",
     "text": [
      "[CV]  rf__n_estimators=765, rf__min_samples_split=10, rf__min_samples_leaf=1, rf__max_features=sqrt, rf__max_depth=35, rf__bootstrap=True, total=  12.4s\n",
      "[CV] rf__n_estimators=765, rf__min_samples_split=10, rf__min_samples_leaf=1, rf__max_features=sqrt, rf__max_depth=35, rf__bootstrap=True \n"
     ]
    },
    {
     "name": "stderr",
     "output_type": "stream",
     "text": [
      "[Parallel(n_jobs=1)]: Using backend SequentialBackend with 1 concurrent workers.\n",
      "[Parallel(n_jobs=1)]: Done 765 out of 765 | elapsed:    9.7s finished\n",
      "[Parallel(n_jobs=1)]: Using backend SequentialBackend with 1 concurrent workers.\n",
      "[Parallel(n_jobs=1)]: Done 765 out of 765 | elapsed:    0.3s finished\n"
     ]
    },
    {
     "name": "stdout",
     "output_type": "stream",
     "text": [
      "[CV]  rf__n_estimators=765, rf__min_samples_split=10, rf__min_samples_leaf=1, rf__max_features=sqrt, rf__max_depth=35, rf__bootstrap=True, total=  13.1s\n",
      "[CV] rf__n_estimators=765, rf__min_samples_split=10, rf__min_samples_leaf=1, rf__max_features=sqrt, rf__max_depth=35, rf__bootstrap=True \n"
     ]
    },
    {
     "name": "stderr",
     "output_type": "stream",
     "text": [
      "[Parallel(n_jobs=1)]: Using backend SequentialBackend with 1 concurrent workers.\n",
      "[Parallel(n_jobs=1)]: Done 765 out of 765 | elapsed:    9.6s finished\n",
      "[Parallel(n_jobs=1)]: Using backend SequentialBackend with 1 concurrent workers.\n",
      "[Parallel(n_jobs=1)]: Done 765 out of 765 | elapsed:    0.3s finished\n"
     ]
    },
    {
     "name": "stdout",
     "output_type": "stream",
     "text": [
      "[CV]  rf__n_estimators=765, rf__min_samples_split=10, rf__min_samples_leaf=1, rf__max_features=sqrt, rf__max_depth=35, rf__bootstrap=True, total=  12.9s\n",
      "[CV] rf__n_estimators=393, rf__min_samples_split=10, rf__min_samples_leaf=2, rf__max_features=auto, rf__max_depth=15, rf__bootstrap=True \n"
     ]
    },
    {
     "name": "stderr",
     "output_type": "stream",
     "text": [
      "[Parallel(n_jobs=1)]: Using backend SequentialBackend with 1 concurrent workers.\n",
      "[Parallel(n_jobs=1)]: Done 393 out of 393 | elapsed:    4.2s finished\n",
      "[Parallel(n_jobs=1)]: Using backend SequentialBackend with 1 concurrent workers.\n",
      "[Parallel(n_jobs=1)]: Done 393 out of 393 | elapsed:    0.2s finished\n"
     ]
    },
    {
     "name": "stdout",
     "output_type": "stream",
     "text": [
      "[CV]  rf__n_estimators=393, rf__min_samples_split=10, rf__min_samples_leaf=2, rf__max_features=auto, rf__max_depth=15, rf__bootstrap=True, total=   6.7s\n",
      "[CV] rf__n_estimators=393, rf__min_samples_split=10, rf__min_samples_leaf=2, rf__max_features=auto, rf__max_depth=15, rf__bootstrap=True \n"
     ]
    },
    {
     "name": "stderr",
     "output_type": "stream",
     "text": [
      "[Parallel(n_jobs=1)]: Using backend SequentialBackend with 1 concurrent workers.\n",
      "[Parallel(n_jobs=1)]: Done 393 out of 393 | elapsed:    4.1s finished\n",
      "[Parallel(n_jobs=1)]: Using backend SequentialBackend with 1 concurrent workers.\n",
      "[Parallel(n_jobs=1)]: Done 393 out of 393 | elapsed:    0.2s finished\n"
     ]
    },
    {
     "name": "stdout",
     "output_type": "stream",
     "text": [
      "[CV]  rf__n_estimators=393, rf__min_samples_split=10, rf__min_samples_leaf=2, rf__max_features=auto, rf__max_depth=15, rf__bootstrap=True, total=   6.3s\n",
      "[CV] rf__n_estimators=393, rf__min_samples_split=10, rf__min_samples_leaf=2, rf__max_features=auto, rf__max_depth=15, rf__bootstrap=True \n"
     ]
    },
    {
     "name": "stderr",
     "output_type": "stream",
     "text": [
      "[Parallel(n_jobs=1)]: Using backend SequentialBackend with 1 concurrent workers.\n",
      "[Parallel(n_jobs=1)]: Done 393 out of 393 | elapsed:    4.0s finished\n",
      "[Parallel(n_jobs=1)]: Using backend SequentialBackend with 1 concurrent workers.\n",
      "[Parallel(n_jobs=1)]: Done 393 out of 393 | elapsed:    0.2s finished\n"
     ]
    },
    {
     "name": "stdout",
     "output_type": "stream",
     "text": [
      "[CV]  rf__n_estimators=393, rf__min_samples_split=10, rf__min_samples_leaf=2, rf__max_features=auto, rf__max_depth=15, rf__bootstrap=True, total=   6.2s\n",
      "[CV] rf__n_estimators=393, rf__min_samples_split=10, rf__min_samples_leaf=2, rf__max_features=auto, rf__max_depth=15, rf__bootstrap=True \n"
     ]
    },
    {
     "name": "stderr",
     "output_type": "stream",
     "text": [
      "[Parallel(n_jobs=1)]: Using backend SequentialBackend with 1 concurrent workers.\n",
      "[Parallel(n_jobs=1)]: Done 393 out of 393 | elapsed:    4.1s finished\n",
      "[Parallel(n_jobs=1)]: Using backend SequentialBackend with 1 concurrent workers.\n",
      "[Parallel(n_jobs=1)]: Done 393 out of 393 | elapsed:    0.2s finished\n"
     ]
    },
    {
     "name": "stdout",
     "output_type": "stream",
     "text": [
      "[CV]  rf__n_estimators=393, rf__min_samples_split=10, rf__min_samples_leaf=2, rf__max_features=auto, rf__max_depth=15, rf__bootstrap=True, total=   6.4s\n",
      "[CV] rf__n_estimators=393, rf__min_samples_split=10, rf__min_samples_leaf=2, rf__max_features=auto, rf__max_depth=15, rf__bootstrap=True \n"
     ]
    },
    {
     "name": "stderr",
     "output_type": "stream",
     "text": [
      "[Parallel(n_jobs=1)]: Using backend SequentialBackend with 1 concurrent workers.\n",
      "[Parallel(n_jobs=1)]: Done 393 out of 393 | elapsed:    4.2s finished\n",
      "[Parallel(n_jobs=1)]: Using backend SequentialBackend with 1 concurrent workers.\n",
      "[Parallel(n_jobs=1)]: Done 393 out of 393 | elapsed:    0.2s finished\n"
     ]
    },
    {
     "name": "stdout",
     "output_type": "stream",
     "text": [
      "[CV]  rf__n_estimators=393, rf__min_samples_split=10, rf__min_samples_leaf=2, rf__max_features=auto, rf__max_depth=15, rf__bootstrap=True, total=   6.5s\n",
      "[CV] rf__n_estimators=854, rf__min_samples_split=5, rf__min_samples_leaf=4, rf__max_features=auto, rf__max_depth=110, rf__bootstrap=True \n"
     ]
    },
    {
     "name": "stderr",
     "output_type": "stream",
     "text": [
      "[Parallel(n_jobs=1)]: Using backend SequentialBackend with 1 concurrent workers.\n",
      "[Parallel(n_jobs=1)]: Done 854 out of 854 | elapsed:    9.4s finished\n",
      "[Parallel(n_jobs=1)]: Using backend SequentialBackend with 1 concurrent workers.\n",
      "[Parallel(n_jobs=1)]: Done 854 out of 854 | elapsed:    0.4s finished\n"
     ]
    },
    {
     "name": "stdout",
     "output_type": "stream",
     "text": [
      "[CV]  rf__n_estimators=854, rf__min_samples_split=5, rf__min_samples_leaf=4, rf__max_features=auto, rf__max_depth=110, rf__bootstrap=True, total=  12.6s\n",
      "[CV] rf__n_estimators=854, rf__min_samples_split=5, rf__min_samples_leaf=4, rf__max_features=auto, rf__max_depth=110, rf__bootstrap=True \n"
     ]
    },
    {
     "name": "stderr",
     "output_type": "stream",
     "text": [
      "[Parallel(n_jobs=1)]: Using backend SequentialBackend with 1 concurrent workers.\n",
      "[Parallel(n_jobs=1)]: Done 854 out of 854 | elapsed:    8.9s finished\n",
      "[Parallel(n_jobs=1)]: Using backend SequentialBackend with 1 concurrent workers.\n",
      "[Parallel(n_jobs=1)]: Done 854 out of 854 | elapsed:    0.4s finished\n"
     ]
    },
    {
     "name": "stdout",
     "output_type": "stream",
     "text": [
      "[CV]  rf__n_estimators=854, rf__min_samples_split=5, rf__min_samples_leaf=4, rf__max_features=auto, rf__max_depth=110, rf__bootstrap=True, total=  12.1s\n",
      "[CV] rf__n_estimators=854, rf__min_samples_split=5, rf__min_samples_leaf=4, rf__max_features=auto, rf__max_depth=110, rf__bootstrap=True \n"
     ]
    },
    {
     "name": "stderr",
     "output_type": "stream",
     "text": [
      "[Parallel(n_jobs=1)]: Using backend SequentialBackend with 1 concurrent workers.\n",
      "[Parallel(n_jobs=1)]: Done 854 out of 854 | elapsed:    8.5s finished\n",
      "[Parallel(n_jobs=1)]: Using backend SequentialBackend with 1 concurrent workers.\n",
      "[Parallel(n_jobs=1)]: Done 854 out of 854 | elapsed:    0.4s finished\n"
     ]
    },
    {
     "name": "stdout",
     "output_type": "stream",
     "text": [
      "[CV]  rf__n_estimators=854, rf__min_samples_split=5, rf__min_samples_leaf=4, rf__max_features=auto, rf__max_depth=110, rf__bootstrap=True, total=  11.7s\n",
      "[CV] rf__n_estimators=854, rf__min_samples_split=5, rf__min_samples_leaf=4, rf__max_features=auto, rf__max_depth=110, rf__bootstrap=True \n"
     ]
    },
    {
     "name": "stderr",
     "output_type": "stream",
     "text": [
      "[Parallel(n_jobs=1)]: Using backend SequentialBackend with 1 concurrent workers.\n",
      "[Parallel(n_jobs=1)]: Done 854 out of 854 | elapsed:    8.7s finished\n",
      "[Parallel(n_jobs=1)]: Using backend SequentialBackend with 1 concurrent workers.\n",
      "[Parallel(n_jobs=1)]: Done 854 out of 854 | elapsed:    0.3s finished\n"
     ]
    },
    {
     "name": "stdout",
     "output_type": "stream",
     "text": [
      "[CV]  rf__n_estimators=854, rf__min_samples_split=5, rf__min_samples_leaf=4, rf__max_features=auto, rf__max_depth=110, rf__bootstrap=True, total=  11.8s\n",
      "[CV] rf__n_estimators=854, rf__min_samples_split=5, rf__min_samples_leaf=4, rf__max_features=auto, rf__max_depth=110, rf__bootstrap=True \n"
     ]
    },
    {
     "name": "stderr",
     "output_type": "stream",
     "text": [
      "[Parallel(n_jobs=1)]: Using backend SequentialBackend with 1 concurrent workers.\n",
      "[Parallel(n_jobs=1)]: Done 854 out of 854 | elapsed:    9.0s finished\n",
      "[Parallel(n_jobs=1)]: Using backend SequentialBackend with 1 concurrent workers.\n",
      "[Parallel(n_jobs=1)]: Done 854 out of 854 | elapsed:    0.4s finished\n"
     ]
    },
    {
     "name": "stdout",
     "output_type": "stream",
     "text": [
      "[CV]  rf__n_estimators=854, rf__min_samples_split=5, rf__min_samples_leaf=4, rf__max_features=auto, rf__max_depth=110, rf__bootstrap=True, total=  12.1s\n",
      "[CV] rf__n_estimators=353, rf__min_samples_split=5, rf__min_samples_leaf=4, rf__max_features=auto, rf__max_depth=110, rf__bootstrap=True \n"
     ]
    },
    {
     "name": "stderr",
     "output_type": "stream",
     "text": [
      "[Parallel(n_jobs=1)]: Using backend SequentialBackend with 1 concurrent workers.\n",
      "[Parallel(n_jobs=1)]: Done 353 out of 353 | elapsed:    3.6s finished\n",
      "[Parallel(n_jobs=1)]: Using backend SequentialBackend with 1 concurrent workers.\n",
      "[Parallel(n_jobs=1)]: Done 353 out of 353 | elapsed:    0.2s finished\n"
     ]
    },
    {
     "name": "stdout",
     "output_type": "stream",
     "text": [
      "[CV]  rf__n_estimators=353, rf__min_samples_split=5, rf__min_samples_leaf=4, rf__max_features=auto, rf__max_depth=110, rf__bootstrap=True, total=   6.0s\n",
      "[CV] rf__n_estimators=353, rf__min_samples_split=5, rf__min_samples_leaf=4, rf__max_features=auto, rf__max_depth=110, rf__bootstrap=True \n"
     ]
    },
    {
     "name": "stderr",
     "output_type": "stream",
     "text": [
      "[Parallel(n_jobs=1)]: Using backend SequentialBackend with 1 concurrent workers.\n",
      "[Parallel(n_jobs=1)]: Done 353 out of 353 | elapsed:    3.6s finished\n",
      "[Parallel(n_jobs=1)]: Using backend SequentialBackend with 1 concurrent workers.\n",
      "[Parallel(n_jobs=1)]: Done 353 out of 353 | elapsed:    0.1s finished\n"
     ]
    },
    {
     "name": "stdout",
     "output_type": "stream",
     "text": [
      "[CV]  rf__n_estimators=353, rf__min_samples_split=5, rf__min_samples_leaf=4, rf__max_features=auto, rf__max_depth=110, rf__bootstrap=True, total=   5.8s\n",
      "[CV] rf__n_estimators=353, rf__min_samples_split=5, rf__min_samples_leaf=4, rf__max_features=auto, rf__max_depth=110, rf__bootstrap=True \n"
     ]
    },
    {
     "name": "stderr",
     "output_type": "stream",
     "text": [
      "[Parallel(n_jobs=1)]: Using backend SequentialBackend with 1 concurrent workers.\n",
      "[Parallel(n_jobs=1)]: Done 353 out of 353 | elapsed:    3.5s finished\n",
      "[Parallel(n_jobs=1)]: Using backend SequentialBackend with 1 concurrent workers.\n",
      "[Parallel(n_jobs=1)]: Done 353 out of 353 | elapsed:    0.2s finished\n"
     ]
    },
    {
     "name": "stdout",
     "output_type": "stream",
     "text": [
      "[CV]  rf__n_estimators=353, rf__min_samples_split=5, rf__min_samples_leaf=4, rf__max_features=auto, rf__max_depth=110, rf__bootstrap=True, total=   5.7s\n",
      "[CV] rf__n_estimators=353, rf__min_samples_split=5, rf__min_samples_leaf=4, rf__max_features=auto, rf__max_depth=110, rf__bootstrap=True \n"
     ]
    },
    {
     "name": "stderr",
     "output_type": "stream",
     "text": [
      "[Parallel(n_jobs=1)]: Using backend SequentialBackend with 1 concurrent workers.\n",
      "[Parallel(n_jobs=1)]: Done 353 out of 353 | elapsed:    3.5s finished\n",
      "[Parallel(n_jobs=1)]: Using backend SequentialBackend with 1 concurrent workers.\n",
      "[Parallel(n_jobs=1)]: Done 353 out of 353 | elapsed:    0.2s finished\n"
     ]
    },
    {
     "name": "stdout",
     "output_type": "stream",
     "text": [
      "[CV]  rf__n_estimators=353, rf__min_samples_split=5, rf__min_samples_leaf=4, rf__max_features=auto, rf__max_depth=110, rf__bootstrap=True, total=   5.7s\n",
      "[CV] rf__n_estimators=353, rf__min_samples_split=5, rf__min_samples_leaf=4, rf__max_features=auto, rf__max_depth=110, rf__bootstrap=True \n"
     ]
    },
    {
     "name": "stderr",
     "output_type": "stream",
     "text": [
      "[Parallel(n_jobs=1)]: Using backend SequentialBackend with 1 concurrent workers.\n",
      "[Parallel(n_jobs=1)]: Done 353 out of 353 | elapsed:    3.3s finished\n",
      "[Parallel(n_jobs=1)]: Using backend SequentialBackend with 1 concurrent workers.\n",
      "[Parallel(n_jobs=1)]: Done 353 out of 353 | elapsed:    0.1s finished\n"
     ]
    },
    {
     "name": "stdout",
     "output_type": "stream",
     "text": [
      "[CV]  rf__n_estimators=353, rf__min_samples_split=5, rf__min_samples_leaf=4, rf__max_features=auto, rf__max_depth=110, rf__bootstrap=True, total=   5.6s\n",
      "[CV] rf__n_estimators=361, rf__min_samples_split=10, rf__min_samples_leaf=4, rf__max_features=sqrt, rf__max_depth=40, rf__bootstrap=True \n"
     ]
    },
    {
     "name": "stderr",
     "output_type": "stream",
     "text": [
      "[Parallel(n_jobs=1)]: Using backend SequentialBackend with 1 concurrent workers.\n",
      "[Parallel(n_jobs=1)]: Done 361 out of 361 | elapsed:    3.3s finished\n",
      "[Parallel(n_jobs=1)]: Using backend SequentialBackend with 1 concurrent workers.\n",
      "[Parallel(n_jobs=1)]: Done 361 out of 361 | elapsed:    0.1s finished\n"
     ]
    },
    {
     "name": "stdout",
     "output_type": "stream",
     "text": [
      "[CV]  rf__n_estimators=361, rf__min_samples_split=10, rf__min_samples_leaf=4, rf__max_features=sqrt, rf__max_depth=40, rf__bootstrap=True, total=   5.4s\n",
      "[CV] rf__n_estimators=361, rf__min_samples_split=10, rf__min_samples_leaf=4, rf__max_features=sqrt, rf__max_depth=40, rf__bootstrap=True \n"
     ]
    },
    {
     "name": "stderr",
     "output_type": "stream",
     "text": [
      "[Parallel(n_jobs=1)]: Using backend SequentialBackend with 1 concurrent workers.\n",
      "[Parallel(n_jobs=1)]: Done 361 out of 361 | elapsed:    3.3s finished\n",
      "[Parallel(n_jobs=1)]: Using backend SequentialBackend with 1 concurrent workers.\n",
      "[Parallel(n_jobs=1)]: Done 361 out of 361 | elapsed:    0.1s finished\n"
     ]
    },
    {
     "name": "stdout",
     "output_type": "stream",
     "text": [
      "[CV]  rf__n_estimators=361, rf__min_samples_split=10, rf__min_samples_leaf=4, rf__max_features=sqrt, rf__max_depth=40, rf__bootstrap=True, total=   5.4s\n",
      "[CV] rf__n_estimators=361, rf__min_samples_split=10, rf__min_samples_leaf=4, rf__max_features=sqrt, rf__max_depth=40, rf__bootstrap=True \n"
     ]
    },
    {
     "name": "stderr",
     "output_type": "stream",
     "text": [
      "[Parallel(n_jobs=1)]: Using backend SequentialBackend with 1 concurrent workers.\n",
      "[Parallel(n_jobs=1)]: Done 361 out of 361 | elapsed:    3.7s finished\n",
      "[Parallel(n_jobs=1)]: Using backend SequentialBackend with 1 concurrent workers.\n",
      "[Parallel(n_jobs=1)]: Done 361 out of 361 | elapsed:    0.2s finished\n"
     ]
    },
    {
     "name": "stdout",
     "output_type": "stream",
     "text": [
      "[CV]  rf__n_estimators=361, rf__min_samples_split=10, rf__min_samples_leaf=4, rf__max_features=sqrt, rf__max_depth=40, rf__bootstrap=True, total=   5.9s\n",
      "[CV] rf__n_estimators=361, rf__min_samples_split=10, rf__min_samples_leaf=4, rf__max_features=sqrt, rf__max_depth=40, rf__bootstrap=True \n"
     ]
    },
    {
     "name": "stderr",
     "output_type": "stream",
     "text": [
      "[Parallel(n_jobs=1)]: Using backend SequentialBackend with 1 concurrent workers.\n",
      "[Parallel(n_jobs=1)]: Done 361 out of 361 | elapsed:    3.8s finished\n",
      "[Parallel(n_jobs=1)]: Using backend SequentialBackend with 1 concurrent workers.\n",
      "[Parallel(n_jobs=1)]: Done 361 out of 361 | elapsed:    0.2s finished\n"
     ]
    },
    {
     "name": "stdout",
     "output_type": "stream",
     "text": [
      "[CV]  rf__n_estimators=361, rf__min_samples_split=10, rf__min_samples_leaf=4, rf__max_features=sqrt, rf__max_depth=40, rf__bootstrap=True, total=   6.1s\n",
      "[CV] rf__n_estimators=361, rf__min_samples_split=10, rf__min_samples_leaf=4, rf__max_features=sqrt, rf__max_depth=40, rf__bootstrap=True \n"
     ]
    },
    {
     "name": "stderr",
     "output_type": "stream",
     "text": [
      "[Parallel(n_jobs=1)]: Using backend SequentialBackend with 1 concurrent workers.\n",
      "[Parallel(n_jobs=1)]: Done 361 out of 361 | elapsed:    3.6s finished\n",
      "[Parallel(n_jobs=1)]: Using backend SequentialBackend with 1 concurrent workers.\n",
      "[Parallel(n_jobs=1)]: Done 361 out of 361 | elapsed:    0.2s finished\n"
     ]
    },
    {
     "name": "stdout",
     "output_type": "stream",
     "text": [
      "[CV]  rf__n_estimators=361, rf__min_samples_split=10, rf__min_samples_leaf=4, rf__max_features=sqrt, rf__max_depth=40, rf__bootstrap=True, total=   6.0s\n",
      "[CV] rf__n_estimators=402, rf__min_samples_split=5, rf__min_samples_leaf=2, rf__max_features=auto, rf__max_depth=70, rf__bootstrap=False \n"
     ]
    },
    {
     "name": "stderr",
     "output_type": "stream",
     "text": [
      "[Parallel(n_jobs=1)]: Using backend SequentialBackend with 1 concurrent workers.\n",
      "[Parallel(n_jobs=1)]: Done 402 out of 402 | elapsed:    7.6s finished\n",
      "[Parallel(n_jobs=1)]: Using backend SequentialBackend with 1 concurrent workers.\n",
      "[Parallel(n_jobs=1)]: Done 402 out of 402 | elapsed:    0.2s finished\n"
     ]
    },
    {
     "name": "stdout",
     "output_type": "stream",
     "text": [
      "[CV]  rf__n_estimators=402, rf__min_samples_split=5, rf__min_samples_leaf=2, rf__max_features=auto, rf__max_depth=70, rf__bootstrap=False, total=  10.4s\n",
      "[CV] rf__n_estimators=402, rf__min_samples_split=5, rf__min_samples_leaf=2, rf__max_features=auto, rf__max_depth=70, rf__bootstrap=False \n"
     ]
    },
    {
     "name": "stderr",
     "output_type": "stream",
     "text": [
      "[Parallel(n_jobs=1)]: Using backend SequentialBackend with 1 concurrent workers.\n",
      "[Parallel(n_jobs=1)]: Done 402 out of 402 | elapsed:    6.5s finished\n",
      "[Parallel(n_jobs=1)]: Using backend SequentialBackend with 1 concurrent workers.\n",
      "[Parallel(n_jobs=1)]: Done 402 out of 402 | elapsed:    0.2s finished\n"
     ]
    },
    {
     "name": "stdout",
     "output_type": "stream",
     "text": [
      "[CV]  rf__n_estimators=402, rf__min_samples_split=5, rf__min_samples_leaf=2, rf__max_features=auto, rf__max_depth=70, rf__bootstrap=False, total=   8.9s\n",
      "[CV] rf__n_estimators=402, rf__min_samples_split=5, rf__min_samples_leaf=2, rf__max_features=auto, rf__max_depth=70, rf__bootstrap=False \n"
     ]
    },
    {
     "name": "stderr",
     "output_type": "stream",
     "text": [
      "[Parallel(n_jobs=1)]: Using backend SequentialBackend with 1 concurrent workers.\n",
      "[Parallel(n_jobs=1)]: Done 402 out of 402 | elapsed:    6.7s finished\n",
      "[Parallel(n_jobs=1)]: Using backend SequentialBackend with 1 concurrent workers.\n",
      "[Parallel(n_jobs=1)]: Done 402 out of 402 | elapsed:    0.2s finished\n"
     ]
    },
    {
     "name": "stdout",
     "output_type": "stream",
     "text": [
      "[CV]  rf__n_estimators=402, rf__min_samples_split=5, rf__min_samples_leaf=2, rf__max_features=auto, rf__max_depth=70, rf__bootstrap=False, total=   8.9s\n",
      "[CV] rf__n_estimators=402, rf__min_samples_split=5, rf__min_samples_leaf=2, rf__max_features=auto, rf__max_depth=70, rf__bootstrap=False \n"
     ]
    },
    {
     "name": "stderr",
     "output_type": "stream",
     "text": [
      "[Parallel(n_jobs=1)]: Using backend SequentialBackend with 1 concurrent workers.\n",
      "[Parallel(n_jobs=1)]: Done 402 out of 402 | elapsed:    5.9s finished\n",
      "[Parallel(n_jobs=1)]: Using backend SequentialBackend with 1 concurrent workers.\n",
      "[Parallel(n_jobs=1)]: Done 402 out of 402 | elapsed:    0.2s finished\n"
     ]
    },
    {
     "name": "stdout",
     "output_type": "stream",
     "text": [
      "[CV]  rf__n_estimators=402, rf__min_samples_split=5, rf__min_samples_leaf=2, rf__max_features=auto, rf__max_depth=70, rf__bootstrap=False, total=   8.2s\n",
      "[CV] rf__n_estimators=402, rf__min_samples_split=5, rf__min_samples_leaf=2, rf__max_features=auto, rf__max_depth=70, rf__bootstrap=False \n"
     ]
    },
    {
     "name": "stderr",
     "output_type": "stream",
     "text": [
      "[Parallel(n_jobs=1)]: Using backend SequentialBackend with 1 concurrent workers.\n",
      "[Parallel(n_jobs=1)]: Done 402 out of 402 | elapsed:    5.7s finished\n",
      "[Parallel(n_jobs=1)]: Using backend SequentialBackend with 1 concurrent workers.\n",
      "[Parallel(n_jobs=1)]: Done 402 out of 402 | elapsed:    0.2s finished\n"
     ]
    },
    {
     "name": "stdout",
     "output_type": "stream",
     "text": [
      "[CV]  rf__n_estimators=402, rf__min_samples_split=5, rf__min_samples_leaf=2, rf__max_features=auto, rf__max_depth=70, rf__bootstrap=False, total=   7.9s\n",
      "[CV] rf__n_estimators=490, rf__min_samples_split=2, rf__min_samples_leaf=4, rf__max_features=auto, rf__max_depth=105, rf__bootstrap=False \n"
     ]
    },
    {
     "name": "stderr",
     "output_type": "stream",
     "text": [
      "[Parallel(n_jobs=1)]: Using backend SequentialBackend with 1 concurrent workers.\n",
      "[Parallel(n_jobs=1)]: Done 490 out of 490 | elapsed:    5.7s finished\n",
      "[Parallel(n_jobs=1)]: Using backend SequentialBackend with 1 concurrent workers.\n",
      "[Parallel(n_jobs=1)]: Done 490 out of 490 | elapsed:    0.2s finished\n"
     ]
    },
    {
     "name": "stdout",
     "output_type": "stream",
     "text": [
      "[CV]  rf__n_estimators=490, rf__min_samples_split=2, rf__min_samples_leaf=4, rf__max_features=auto, rf__max_depth=105, rf__bootstrap=False, total=   7.9s\n",
      "[CV] rf__n_estimators=490, rf__min_samples_split=2, rf__min_samples_leaf=4, rf__max_features=auto, rf__max_depth=105, rf__bootstrap=False \n"
     ]
    },
    {
     "name": "stderr",
     "output_type": "stream",
     "text": [
      "[Parallel(n_jobs=1)]: Using backend SequentialBackend with 1 concurrent workers.\n",
      "[Parallel(n_jobs=1)]: Done 490 out of 490 | elapsed:    7.0s finished\n",
      "[Parallel(n_jobs=1)]: Using backend SequentialBackend with 1 concurrent workers.\n",
      "[Parallel(n_jobs=1)]: Done 490 out of 490 | elapsed:    0.2s finished\n"
     ]
    },
    {
     "name": "stdout",
     "output_type": "stream",
     "text": [
      "[CV]  rf__n_estimators=490, rf__min_samples_split=2, rf__min_samples_leaf=4, rf__max_features=auto, rf__max_depth=105, rf__bootstrap=False, total=   9.5s\n",
      "[CV] rf__n_estimators=490, rf__min_samples_split=2, rf__min_samples_leaf=4, rf__max_features=auto, rf__max_depth=105, rf__bootstrap=False \n"
     ]
    },
    {
     "name": "stderr",
     "output_type": "stream",
     "text": [
      "[Parallel(n_jobs=1)]: Using backend SequentialBackend with 1 concurrent workers.\n",
      "[Parallel(n_jobs=1)]: Done 490 out of 490 | elapsed:    6.0s finished\n",
      "[Parallel(n_jobs=1)]: Using backend SequentialBackend with 1 concurrent workers.\n",
      "[Parallel(n_jobs=1)]: Done 490 out of 490 | elapsed:    0.2s finished\n"
     ]
    },
    {
     "name": "stdout",
     "output_type": "stream",
     "text": [
      "[CV]  rf__n_estimators=490, rf__min_samples_split=2, rf__min_samples_leaf=4, rf__max_features=auto, rf__max_depth=105, rf__bootstrap=False, total=   8.6s\n",
      "[CV] rf__n_estimators=490, rf__min_samples_split=2, rf__min_samples_leaf=4, rf__max_features=auto, rf__max_depth=105, rf__bootstrap=False \n"
     ]
    },
    {
     "name": "stderr",
     "output_type": "stream",
     "text": [
      "[Parallel(n_jobs=1)]: Using backend SequentialBackend with 1 concurrent workers.\n",
      "[Parallel(n_jobs=1)]: Done 490 out of 490 | elapsed:    5.7s finished\n",
      "[Parallel(n_jobs=1)]: Using backend SequentialBackend with 1 concurrent workers.\n",
      "[Parallel(n_jobs=1)]: Done 490 out of 490 | elapsed:    0.2s finished\n"
     ]
    },
    {
     "name": "stdout",
     "output_type": "stream",
     "text": [
      "[CV]  rf__n_estimators=490, rf__min_samples_split=2, rf__min_samples_leaf=4, rf__max_features=auto, rf__max_depth=105, rf__bootstrap=False, total=   8.0s\n",
      "[CV] rf__n_estimators=490, rf__min_samples_split=2, rf__min_samples_leaf=4, rf__max_features=auto, rf__max_depth=105, rf__bootstrap=False \n"
     ]
    },
    {
     "name": "stderr",
     "output_type": "stream",
     "text": [
      "[Parallel(n_jobs=1)]: Using backend SequentialBackend with 1 concurrent workers.\n",
      "[Parallel(n_jobs=1)]: Done 490 out of 490 | elapsed:    6.5s finished\n",
      "[Parallel(n_jobs=1)]: Using backend SequentialBackend with 1 concurrent workers.\n",
      "[Parallel(n_jobs=1)]: Done 490 out of 490 | elapsed:    0.2s finished\n"
     ]
    },
    {
     "name": "stdout",
     "output_type": "stream",
     "text": [
      "[CV]  rf__n_estimators=490, rf__min_samples_split=2, rf__min_samples_leaf=4, rf__max_features=auto, rf__max_depth=105, rf__bootstrap=False, total=   8.9s\n",
      "[CV] rf__n_estimators=474, rf__min_samples_split=5, rf__min_samples_leaf=4, rf__max_features=auto, rf__max_depth=20, rf__bootstrap=True \n"
     ]
    },
    {
     "name": "stderr",
     "output_type": "stream",
     "text": [
      "[Parallel(n_jobs=1)]: Using backend SequentialBackend with 1 concurrent workers.\n",
      "[Parallel(n_jobs=1)]: Done 474 out of 474 | elapsed:    5.1s finished\n",
      "[Parallel(n_jobs=1)]: Using backend SequentialBackend with 1 concurrent workers.\n",
      "[Parallel(n_jobs=1)]: Done 474 out of 474 | elapsed:    0.2s finished\n"
     ]
    },
    {
     "name": "stdout",
     "output_type": "stream",
     "text": [
      "[CV]  rf__n_estimators=474, rf__min_samples_split=5, rf__min_samples_leaf=4, rf__max_features=auto, rf__max_depth=20, rf__bootstrap=True, total=   7.7s\n",
      "[CV] rf__n_estimators=474, rf__min_samples_split=5, rf__min_samples_leaf=4, rf__max_features=auto, rf__max_depth=20, rf__bootstrap=True \n"
     ]
    },
    {
     "name": "stderr",
     "output_type": "stream",
     "text": [
      "[Parallel(n_jobs=1)]: Using backend SequentialBackend with 1 concurrent workers.\n",
      "[Parallel(n_jobs=1)]: Done 474 out of 474 | elapsed:    4.7s finished\n",
      "[Parallel(n_jobs=1)]: Using backend SequentialBackend with 1 concurrent workers.\n",
      "[Parallel(n_jobs=1)]: Done 474 out of 474 | elapsed:    0.2s finished\n"
     ]
    },
    {
     "name": "stdout",
     "output_type": "stream",
     "text": [
      "[CV]  rf__n_estimators=474, rf__min_samples_split=5, rf__min_samples_leaf=4, rf__max_features=auto, rf__max_depth=20, rf__bootstrap=True, total=   7.1s\n",
      "[CV] rf__n_estimators=474, rf__min_samples_split=5, rf__min_samples_leaf=4, rf__max_features=auto, rf__max_depth=20, rf__bootstrap=True \n"
     ]
    },
    {
     "name": "stderr",
     "output_type": "stream",
     "text": [
      "[Parallel(n_jobs=1)]: Using backend SequentialBackend with 1 concurrent workers.\n",
      "[Parallel(n_jobs=1)]: Done 474 out of 474 | elapsed:    4.6s finished\n",
      "[Parallel(n_jobs=1)]: Using backend SequentialBackend with 1 concurrent workers.\n",
      "[Parallel(n_jobs=1)]: Done 474 out of 474 | elapsed:    0.2s finished\n"
     ]
    },
    {
     "name": "stdout",
     "output_type": "stream",
     "text": [
      "[CV]  rf__n_estimators=474, rf__min_samples_split=5, rf__min_samples_leaf=4, rf__max_features=auto, rf__max_depth=20, rf__bootstrap=True, total=   6.9s\n",
      "[CV] rf__n_estimators=474, rf__min_samples_split=5, rf__min_samples_leaf=4, rf__max_features=auto, rf__max_depth=20, rf__bootstrap=True \n"
     ]
    },
    {
     "name": "stderr",
     "output_type": "stream",
     "text": [
      "[Parallel(n_jobs=1)]: Using backend SequentialBackend with 1 concurrent workers.\n",
      "[Parallel(n_jobs=1)]: Done 474 out of 474 | elapsed:    5.6s finished\n",
      "[Parallel(n_jobs=1)]: Using backend SequentialBackend with 1 concurrent workers.\n",
      "[Parallel(n_jobs=1)]: Done 474 out of 474 | elapsed:    0.2s finished\n"
     ]
    },
    {
     "name": "stdout",
     "output_type": "stream",
     "text": [
      "[CV]  rf__n_estimators=474, rf__min_samples_split=5, rf__min_samples_leaf=4, rf__max_features=auto, rf__max_depth=20, rf__bootstrap=True, total=   8.0s\n",
      "[CV] rf__n_estimators=474, rf__min_samples_split=5, rf__min_samples_leaf=4, rf__max_features=auto, rf__max_depth=20, rf__bootstrap=True \n"
     ]
    },
    {
     "name": "stderr",
     "output_type": "stream",
     "text": [
      "[Parallel(n_jobs=1)]: Using backend SequentialBackend with 1 concurrent workers.\n",
      "[Parallel(n_jobs=1)]: Done 474 out of 474 | elapsed:    5.2s finished\n",
      "[Parallel(n_jobs=1)]: Using backend SequentialBackend with 1 concurrent workers.\n",
      "[Parallel(n_jobs=1)]: Done 474 out of 474 | elapsed:    0.3s finished\n"
     ]
    },
    {
     "name": "stdout",
     "output_type": "stream",
     "text": [
      "[CV]  rf__n_estimators=474, rf__min_samples_split=5, rf__min_samples_leaf=4, rf__max_features=auto, rf__max_depth=20, rf__bootstrap=True, total=   8.1s\n",
      "[CV] rf__n_estimators=878, rf__min_samples_split=5, rf__min_samples_leaf=4, rf__max_features=sqrt, rf__max_depth=10, rf__bootstrap=False \n"
     ]
    },
    {
     "name": "stderr",
     "output_type": "stream",
     "text": [
      "[Parallel(n_jobs=1)]: Using backend SequentialBackend with 1 concurrent workers.\n",
      "[Parallel(n_jobs=1)]: Done 878 out of 878 | elapsed:   12.3s finished\n",
      "[Parallel(n_jobs=1)]: Using backend SequentialBackend with 1 concurrent workers.\n",
      "[Parallel(n_jobs=1)]: Done 878 out of 878 | elapsed:    0.2s finished\n"
     ]
    },
    {
     "name": "stdout",
     "output_type": "stream",
     "text": [
      "[CV]  rf__n_estimators=878, rf__min_samples_split=5, rf__min_samples_leaf=4, rf__max_features=sqrt, rf__max_depth=10, rf__bootstrap=False, total=  15.9s\n",
      "[CV] rf__n_estimators=878, rf__min_samples_split=5, rf__min_samples_leaf=4, rf__max_features=sqrt, rf__max_depth=10, rf__bootstrap=False \n"
     ]
    },
    {
     "name": "stderr",
     "output_type": "stream",
     "text": [
      "[Parallel(n_jobs=1)]: Using backend SequentialBackend with 1 concurrent workers.\n",
      "[Parallel(n_jobs=1)]: Done 878 out of 878 | elapsed:    4.1s finished\n",
      "[Parallel(n_jobs=1)]: Using backend SequentialBackend with 1 concurrent workers.\n",
      "[Parallel(n_jobs=1)]: Done 878 out of 878 | elapsed:    0.5s finished\n"
     ]
    },
    {
     "name": "stdout",
     "output_type": "stream",
     "text": [
      "[CV]  rf__n_estimators=878, rf__min_samples_split=5, rf__min_samples_leaf=4, rf__max_features=sqrt, rf__max_depth=10, rf__bootstrap=False, total=   5.6s\n",
      "[CV] rf__n_estimators=878, rf__min_samples_split=5, rf__min_samples_leaf=4, rf__max_features=sqrt, rf__max_depth=10, rf__bootstrap=False \n"
     ]
    },
    {
     "name": "stderr",
     "output_type": "stream",
     "text": [
      "[Parallel(n_jobs=1)]: Using backend SequentialBackend with 1 concurrent workers.\n",
      "[Parallel(n_jobs=1)]: Done 878 out of 878 | elapsed:    5.3s finished\n",
      "[Parallel(n_jobs=1)]: Using backend SequentialBackend with 1 concurrent workers.\n",
      "[Parallel(n_jobs=1)]: Done 878 out of 878 | elapsed:    0.2s finished\n"
     ]
    },
    {
     "name": "stdout",
     "output_type": "stream",
     "text": [
      "[CV]  rf__n_estimators=878, rf__min_samples_split=5, rf__min_samples_leaf=4, rf__max_features=sqrt, rf__max_depth=10, rf__bootstrap=False, total=   8.5s\n",
      "[CV] rf__n_estimators=878, rf__min_samples_split=5, rf__min_samples_leaf=4, rf__max_features=sqrt, rf__max_depth=10, rf__bootstrap=False \n"
     ]
    },
    {
     "name": "stderr",
     "output_type": "stream",
     "text": [
      "[Parallel(n_jobs=1)]: Using backend SequentialBackend with 1 concurrent workers.\n",
      "[Parallel(n_jobs=1)]: Done 878 out of 878 | elapsed:    6.2s finished\n",
      "[Parallel(n_jobs=1)]: Using backend SequentialBackend with 1 concurrent workers.\n",
      "[Parallel(n_jobs=1)]: Done 878 out of 878 | elapsed:    0.1s finished\n"
     ]
    },
    {
     "name": "stdout",
     "output_type": "stream",
     "text": [
      "[CV]  rf__n_estimators=878, rf__min_samples_split=5, rf__min_samples_leaf=4, rf__max_features=sqrt, rf__max_depth=10, rf__bootstrap=False, total=   7.2s\n",
      "[CV] rf__n_estimators=878, rf__min_samples_split=5, rf__min_samples_leaf=4, rf__max_features=sqrt, rf__max_depth=10, rf__bootstrap=False \n"
     ]
    },
    {
     "name": "stderr",
     "output_type": "stream",
     "text": [
      "[Parallel(n_jobs=1)]: Using backend SequentialBackend with 1 concurrent workers.\n",
      "[Parallel(n_jobs=1)]: Done 878 out of 878 | elapsed:    6.3s finished\n",
      "[Parallel(n_jobs=1)]: Using backend SequentialBackend with 1 concurrent workers.\n",
      "[Parallel(n_jobs=1)]: Done 878 out of 878 | elapsed:    0.2s finished\n"
     ]
    },
    {
     "name": "stdout",
     "output_type": "stream",
     "text": [
      "[CV]  rf__n_estimators=878, rf__min_samples_split=5, rf__min_samples_leaf=4, rf__max_features=sqrt, rf__max_depth=10, rf__bootstrap=False, total=   9.1s\n",
      "[CV] rf__n_estimators=773, rf__min_samples_split=5, rf__min_samples_leaf=1, rf__max_features=sqrt, rf__max_depth=60, rf__bootstrap=False \n"
     ]
    },
    {
     "name": "stderr",
     "output_type": "stream",
     "text": [
      "[Parallel(n_jobs=1)]: Using backend SequentialBackend with 1 concurrent workers.\n",
      "[Parallel(n_jobs=1)]: Done 773 out of 773 | elapsed:    6.8s finished\n",
      "[Parallel(n_jobs=1)]: Using backend SequentialBackend with 1 concurrent workers.\n",
      "[Parallel(n_jobs=1)]: Done 773 out of 773 | elapsed:    0.1s finished\n"
     ]
    },
    {
     "name": "stdout",
     "output_type": "stream",
     "text": [
      "[CV]  rf__n_estimators=773, rf__min_samples_split=5, rf__min_samples_leaf=1, rf__max_features=sqrt, rf__max_depth=60, rf__bootstrap=False, total=   8.4s\n",
      "[CV] rf__n_estimators=773, rf__min_samples_split=5, rf__min_samples_leaf=1, rf__max_features=sqrt, rf__max_depth=60, rf__bootstrap=False \n"
     ]
    },
    {
     "name": "stderr",
     "output_type": "stream",
     "text": [
      "[Parallel(n_jobs=1)]: Using backend SequentialBackend with 1 concurrent workers.\n",
      "[Parallel(n_jobs=1)]: Done 773 out of 773 | elapsed:    5.5s finished\n",
      "[Parallel(n_jobs=1)]: Using backend SequentialBackend with 1 concurrent workers.\n",
      "[Parallel(n_jobs=1)]: Done 773 out of 773 | elapsed:    0.1s finished\n"
     ]
    },
    {
     "name": "stdout",
     "output_type": "stream",
     "text": [
      "[CV]  rf__n_estimators=773, rf__min_samples_split=5, rf__min_samples_leaf=1, rf__max_features=sqrt, rf__max_depth=60, rf__bootstrap=False, total=   6.4s\n",
      "[CV] rf__n_estimators=773, rf__min_samples_split=5, rf__min_samples_leaf=1, rf__max_features=sqrt, rf__max_depth=60, rf__bootstrap=False \n"
     ]
    },
    {
     "name": "stderr",
     "output_type": "stream",
     "text": [
      "[Parallel(n_jobs=1)]: Using backend SequentialBackend with 1 concurrent workers.\n",
      "[Parallel(n_jobs=1)]: Done 773 out of 773 | elapsed:    6.0s finished\n",
      "[Parallel(n_jobs=1)]: Using backend SequentialBackend with 1 concurrent workers.\n",
      "[Parallel(n_jobs=1)]: Done 773 out of 773 | elapsed:    0.1s finished\n"
     ]
    },
    {
     "name": "stdout",
     "output_type": "stream",
     "text": [
      "[CV]  rf__n_estimators=773, rf__min_samples_split=5, rf__min_samples_leaf=1, rf__max_features=sqrt, rf__max_depth=60, rf__bootstrap=False, total=   7.2s\n",
      "[CV] rf__n_estimators=773, rf__min_samples_split=5, rf__min_samples_leaf=1, rf__max_features=sqrt, rf__max_depth=60, rf__bootstrap=False \n"
     ]
    },
    {
     "name": "stderr",
     "output_type": "stream",
     "text": [
      "[Parallel(n_jobs=1)]: Using backend SequentialBackend with 1 concurrent workers.\n",
      "[Parallel(n_jobs=1)]: Done 773 out of 773 | elapsed:    5.7s finished\n",
      "[Parallel(n_jobs=1)]: Using backend SequentialBackend with 1 concurrent workers.\n",
      "[Parallel(n_jobs=1)]: Done 773 out of 773 | elapsed:    0.1s finished\n"
     ]
    },
    {
     "name": "stdout",
     "output_type": "stream",
     "text": [
      "[CV]  rf__n_estimators=773, rf__min_samples_split=5, rf__min_samples_leaf=1, rf__max_features=sqrt, rf__max_depth=60, rf__bootstrap=False, total=   6.6s\n",
      "[CV] rf__n_estimators=773, rf__min_samples_split=5, rf__min_samples_leaf=1, rf__max_features=sqrt, rf__max_depth=60, rf__bootstrap=False \n"
     ]
    },
    {
     "name": "stderr",
     "output_type": "stream",
     "text": [
      "[Parallel(n_jobs=1)]: Using backend SequentialBackend with 1 concurrent workers.\n",
      "[Parallel(n_jobs=1)]: Done 773 out of 773 | elapsed:    5.0s finished\n",
      "[Parallel(n_jobs=1)]: Using backend SequentialBackend with 1 concurrent workers.\n",
      "[Parallel(n_jobs=1)]: Done 773 out of 773 | elapsed:    0.1s finished\n"
     ]
    },
    {
     "name": "stdout",
     "output_type": "stream",
     "text": [
      "[CV]  rf__n_estimators=773, rf__min_samples_split=5, rf__min_samples_leaf=1, rf__max_features=sqrt, rf__max_depth=60, rf__bootstrap=False, total=   5.9s\n",
      "[CV] rf__n_estimators=402, rf__min_samples_split=5, rf__min_samples_leaf=4, rf__max_features=auto, rf__max_depth=70, rf__bootstrap=False \n"
     ]
    },
    {
     "name": "stderr",
     "output_type": "stream",
     "text": [
      "[Parallel(n_jobs=1)]: Using backend SequentialBackend with 1 concurrent workers.\n",
      "[Parallel(n_jobs=1)]: Done 402 out of 402 | elapsed:    2.5s finished\n",
      "[Parallel(n_jobs=1)]: Using backend SequentialBackend with 1 concurrent workers.\n",
      "[Parallel(n_jobs=1)]: Done 402 out of 402 | elapsed:    0.0s finished\n"
     ]
    },
    {
     "name": "stdout",
     "output_type": "stream",
     "text": [
      "[CV]  rf__n_estimators=402, rf__min_samples_split=5, rf__min_samples_leaf=4, rf__max_features=auto, rf__max_depth=70, rf__bootstrap=False, total=   3.4s\n",
      "[CV] rf__n_estimators=402, rf__min_samples_split=5, rf__min_samples_leaf=4, rf__max_features=auto, rf__max_depth=70, rf__bootstrap=False \n"
     ]
    },
    {
     "name": "stderr",
     "output_type": "stream",
     "text": [
      "[Parallel(n_jobs=1)]: Using backend SequentialBackend with 1 concurrent workers.\n",
      "[Parallel(n_jobs=1)]: Done 402 out of 402 | elapsed:    2.8s finished\n",
      "[Parallel(n_jobs=1)]: Using backend SequentialBackend with 1 concurrent workers.\n",
      "[Parallel(n_jobs=1)]: Done 402 out of 402 | elapsed:    0.1s finished\n"
     ]
    },
    {
     "name": "stdout",
     "output_type": "stream",
     "text": [
      "[CV]  rf__n_estimators=402, rf__min_samples_split=5, rf__min_samples_leaf=4, rf__max_features=auto, rf__max_depth=70, rf__bootstrap=False, total=   3.6s\n",
      "[CV] rf__n_estimators=402, rf__min_samples_split=5, rf__min_samples_leaf=4, rf__max_features=auto, rf__max_depth=70, rf__bootstrap=False \n"
     ]
    },
    {
     "name": "stderr",
     "output_type": "stream",
     "text": [
      "[Parallel(n_jobs=1)]: Using backend SequentialBackend with 1 concurrent workers.\n",
      "[Parallel(n_jobs=1)]: Done 402 out of 402 | elapsed:    2.6s finished\n",
      "[Parallel(n_jobs=1)]: Using backend SequentialBackend with 1 concurrent workers.\n",
      "[Parallel(n_jobs=1)]: Done 402 out of 402 | elapsed:    0.0s finished\n"
     ]
    },
    {
     "name": "stdout",
     "output_type": "stream",
     "text": [
      "[CV]  rf__n_estimators=402, rf__min_samples_split=5, rf__min_samples_leaf=4, rf__max_features=auto, rf__max_depth=70, rf__bootstrap=False, total=   3.6s\n",
      "[CV] rf__n_estimators=402, rf__min_samples_split=5, rf__min_samples_leaf=4, rf__max_features=auto, rf__max_depth=70, rf__bootstrap=False \n"
     ]
    },
    {
     "name": "stderr",
     "output_type": "stream",
     "text": [
      "[Parallel(n_jobs=1)]: Using backend SequentialBackend with 1 concurrent workers.\n",
      "[Parallel(n_jobs=1)]: Done 402 out of 402 | elapsed:    2.1s finished\n",
      "[Parallel(n_jobs=1)]: Using backend SequentialBackend with 1 concurrent workers.\n",
      "[Parallel(n_jobs=1)]: Done 402 out of 402 | elapsed:    0.0s finished\n"
     ]
    },
    {
     "name": "stdout",
     "output_type": "stream",
     "text": [
      "[CV]  rf__n_estimators=402, rf__min_samples_split=5, rf__min_samples_leaf=4, rf__max_features=auto, rf__max_depth=70, rf__bootstrap=False, total=   2.8s\n",
      "[CV] rf__n_estimators=402, rf__min_samples_split=5, rf__min_samples_leaf=4, rf__max_features=auto, rf__max_depth=70, rf__bootstrap=False \n"
     ]
    },
    {
     "name": "stderr",
     "output_type": "stream",
     "text": [
      "[Parallel(n_jobs=1)]: Using backend SequentialBackend with 1 concurrent workers.\n",
      "[Parallel(n_jobs=1)]: Done 402 out of 402 | elapsed:    2.2s finished\n",
      "[Parallel(n_jobs=1)]: Using backend SequentialBackend with 1 concurrent workers.\n",
      "[Parallel(n_jobs=1)]: Done 402 out of 402 | elapsed:    0.0s finished\n"
     ]
    },
    {
     "name": "stdout",
     "output_type": "stream",
     "text": [
      "[CV]  rf__n_estimators=402, rf__min_samples_split=5, rf__min_samples_leaf=4, rf__max_features=auto, rf__max_depth=70, rf__bootstrap=False, total=   3.1s\n",
      "[CV] rf__n_estimators=838, rf__min_samples_split=10, rf__min_samples_leaf=4, rf__max_features=auto, rf__max_depth=90, rf__bootstrap=True \n"
     ]
    },
    {
     "name": "stderr",
     "output_type": "stream",
     "text": [
      "[Parallel(n_jobs=1)]: Using backend SequentialBackend with 1 concurrent workers.\n",
      "[Parallel(n_jobs=1)]: Done 838 out of 838 | elapsed:    3.8s finished\n",
      "[Parallel(n_jobs=1)]: Using backend SequentialBackend with 1 concurrent workers.\n",
      "[Parallel(n_jobs=1)]: Done 838 out of 838 | elapsed:    0.2s finished\n"
     ]
    },
    {
     "name": "stdout",
     "output_type": "stream",
     "text": [
      "[CV]  rf__n_estimators=838, rf__min_samples_split=10, rf__min_samples_leaf=4, rf__max_features=auto, rf__max_depth=90, rf__bootstrap=True, total=   5.0s\n",
      "[CV] rf__n_estimators=838, rf__min_samples_split=10, rf__min_samples_leaf=4, rf__max_features=auto, rf__max_depth=90, rf__bootstrap=True \n"
     ]
    },
    {
     "name": "stderr",
     "output_type": "stream",
     "text": [
      "[Parallel(n_jobs=1)]: Using backend SequentialBackend with 1 concurrent workers.\n",
      "[Parallel(n_jobs=1)]: Done 838 out of 838 | elapsed:    3.2s finished\n",
      "[Parallel(n_jobs=1)]: Using backend SequentialBackend with 1 concurrent workers.\n",
      "[Parallel(n_jobs=1)]: Done 838 out of 838 | elapsed:    0.1s finished\n"
     ]
    },
    {
     "name": "stdout",
     "output_type": "stream",
     "text": [
      "[CV]  rf__n_estimators=838, rf__min_samples_split=10, rf__min_samples_leaf=4, rf__max_features=auto, rf__max_depth=90, rf__bootstrap=True, total=   4.6s\n",
      "[CV] rf__n_estimators=838, rf__min_samples_split=10, rf__min_samples_leaf=4, rf__max_features=auto, rf__max_depth=90, rf__bootstrap=True \n"
     ]
    },
    {
     "name": "stderr",
     "output_type": "stream",
     "text": [
      "[Parallel(n_jobs=1)]: Using backend SequentialBackend with 1 concurrent workers.\n",
      "[Parallel(n_jobs=1)]: Done 838 out of 838 | elapsed:    3.1s finished\n",
      "[Parallel(n_jobs=1)]: Using backend SequentialBackend with 1 concurrent workers.\n",
      "[Parallel(n_jobs=1)]: Done 838 out of 838 | elapsed:    0.1s finished\n"
     ]
    },
    {
     "name": "stdout",
     "output_type": "stream",
     "text": [
      "[CV]  rf__n_estimators=838, rf__min_samples_split=10, rf__min_samples_leaf=4, rf__max_features=auto, rf__max_depth=90, rf__bootstrap=True, total=   4.1s\n",
      "[CV] rf__n_estimators=838, rf__min_samples_split=10, rf__min_samples_leaf=4, rf__max_features=auto, rf__max_depth=90, rf__bootstrap=True \n"
     ]
    },
    {
     "name": "stderr",
     "output_type": "stream",
     "text": [
      "[Parallel(n_jobs=1)]: Using backend SequentialBackend with 1 concurrent workers.\n",
      "[Parallel(n_jobs=1)]: Done 838 out of 838 | elapsed:    2.9s finished\n",
      "[Parallel(n_jobs=1)]: Using backend SequentialBackend with 1 concurrent workers.\n",
      "[Parallel(n_jobs=1)]: Done 838 out of 838 | elapsed:    0.1s finished\n"
     ]
    },
    {
     "name": "stdout",
     "output_type": "stream",
     "text": [
      "[CV]  rf__n_estimators=838, rf__min_samples_split=10, rf__min_samples_leaf=4, rf__max_features=auto, rf__max_depth=90, rf__bootstrap=True, total=   3.8s\n",
      "[CV] rf__n_estimators=838, rf__min_samples_split=10, rf__min_samples_leaf=4, rf__max_features=auto, rf__max_depth=90, rf__bootstrap=True \n"
     ]
    },
    {
     "name": "stderr",
     "output_type": "stream",
     "text": [
      "[Parallel(n_jobs=1)]: Using backend SequentialBackend with 1 concurrent workers.\n",
      "[Parallel(n_jobs=1)]: Done 838 out of 838 | elapsed:    3.1s finished\n",
      "[Parallel(n_jobs=1)]: Using backend SequentialBackend with 1 concurrent workers.\n",
      "[Parallel(n_jobs=1)]: Done 838 out of 838 | elapsed:    0.1s finished\n"
     ]
    },
    {
     "name": "stdout",
     "output_type": "stream",
     "text": [
      "[CV]  rf__n_estimators=838, rf__min_samples_split=10, rf__min_samples_leaf=4, rf__max_features=auto, rf__max_depth=90, rf__bootstrap=True, total=   4.0s\n",
      "[CV] rf__n_estimators=927, rf__min_samples_split=2, rf__min_samples_leaf=2, rf__max_features=sqrt, rf__max_depth=30, rf__bootstrap=True \n"
     ]
    },
    {
     "name": "stderr",
     "output_type": "stream",
     "text": [
      "[Parallel(n_jobs=1)]: Using backend SequentialBackend with 1 concurrent workers.\n",
      "[Parallel(n_jobs=1)]: Done 927 out of 927 | elapsed:    5.2s finished\n",
      "[Parallel(n_jobs=1)]: Using backend SequentialBackend with 1 concurrent workers.\n",
      "[Parallel(n_jobs=1)]: Done 927 out of 927 | elapsed:    0.1s finished\n"
     ]
    },
    {
     "name": "stdout",
     "output_type": "stream",
     "text": [
      "[CV]  rf__n_estimators=927, rf__min_samples_split=2, rf__min_samples_leaf=2, rf__max_features=sqrt, rf__max_depth=30, rf__bootstrap=True, total=   6.2s\n",
      "[CV] rf__n_estimators=927, rf__min_samples_split=2, rf__min_samples_leaf=2, rf__max_features=sqrt, rf__max_depth=30, rf__bootstrap=True \n"
     ]
    },
    {
     "name": "stderr",
     "output_type": "stream",
     "text": [
      "[Parallel(n_jobs=1)]: Using backend SequentialBackend with 1 concurrent workers.\n",
      "[Parallel(n_jobs=1)]: Done 927 out of 927 | elapsed:    5.4s finished\n",
      "[Parallel(n_jobs=1)]: Using backend SequentialBackend with 1 concurrent workers.\n",
      "[Parallel(n_jobs=1)]: Done 927 out of 927 | elapsed:    0.1s finished\n"
     ]
    },
    {
     "name": "stdout",
     "output_type": "stream",
     "text": [
      "[CV]  rf__n_estimators=927, rf__min_samples_split=2, rf__min_samples_leaf=2, rf__max_features=sqrt, rf__max_depth=30, rf__bootstrap=True, total=   6.3s\n",
      "[CV] rf__n_estimators=927, rf__min_samples_split=2, rf__min_samples_leaf=2, rf__max_features=sqrt, rf__max_depth=30, rf__bootstrap=True \n"
     ]
    },
    {
     "name": "stderr",
     "output_type": "stream",
     "text": [
      "[Parallel(n_jobs=1)]: Using backend SequentialBackend with 1 concurrent workers.\n",
      "[Parallel(n_jobs=1)]: Done 927 out of 927 | elapsed:    4.4s finished\n",
      "[Parallel(n_jobs=1)]: Using backend SequentialBackend with 1 concurrent workers.\n",
      "[Parallel(n_jobs=1)]: Done 927 out of 927 | elapsed:    0.1s finished\n"
     ]
    },
    {
     "name": "stdout",
     "output_type": "stream",
     "text": [
      "[CV]  rf__n_estimators=927, rf__min_samples_split=2, rf__min_samples_leaf=2, rf__max_features=sqrt, rf__max_depth=30, rf__bootstrap=True, total=   5.4s\n",
      "[CV] rf__n_estimators=927, rf__min_samples_split=2, rf__min_samples_leaf=2, rf__max_features=sqrt, rf__max_depth=30, rf__bootstrap=True \n"
     ]
    },
    {
     "name": "stderr",
     "output_type": "stream",
     "text": [
      "[Parallel(n_jobs=1)]: Using backend SequentialBackend with 1 concurrent workers.\n",
      "[Parallel(n_jobs=1)]: Done 927 out of 927 | elapsed:    4.8s finished\n",
      "[Parallel(n_jobs=1)]: Using backend SequentialBackend with 1 concurrent workers.\n",
      "[Parallel(n_jobs=1)]: Done 927 out of 927 | elapsed:    0.1s finished\n"
     ]
    },
    {
     "name": "stdout",
     "output_type": "stream",
     "text": [
      "[CV]  rf__n_estimators=927, rf__min_samples_split=2, rf__min_samples_leaf=2, rf__max_features=sqrt, rf__max_depth=30, rf__bootstrap=True, total=   5.7s\n",
      "[CV] rf__n_estimators=927, rf__min_samples_split=2, rf__min_samples_leaf=2, rf__max_features=sqrt, rf__max_depth=30, rf__bootstrap=True \n"
     ]
    },
    {
     "name": "stderr",
     "output_type": "stream",
     "text": [
      "[Parallel(n_jobs=1)]: Using backend SequentialBackend with 1 concurrent workers.\n",
      "[Parallel(n_jobs=1)]: Done 927 out of 927 | elapsed:    4.4s finished\n",
      "[Parallel(n_jobs=1)]: Using backend SequentialBackend with 1 concurrent workers.\n",
      "[Parallel(n_jobs=1)]: Done 927 out of 927 | elapsed:    0.1s finished\n"
     ]
    },
    {
     "name": "stdout",
     "output_type": "stream",
     "text": [
      "[CV]  rf__n_estimators=927, rf__min_samples_split=2, rf__min_samples_leaf=2, rf__max_features=sqrt, rf__max_depth=30, rf__bootstrap=True, total=   5.4s\n",
      "[CV] rf__n_estimators=773, rf__min_samples_split=10, rf__min_samples_leaf=1, rf__max_features=auto, rf__max_depth=20, rf__bootstrap=False \n"
     ]
    },
    {
     "name": "stderr",
     "output_type": "stream",
     "text": [
      "[Parallel(n_jobs=1)]: Using backend SequentialBackend with 1 concurrent workers.\n",
      "[Parallel(n_jobs=1)]: Done 773 out of 773 | elapsed:    4.1s finished\n",
      "[Parallel(n_jobs=1)]: Using backend SequentialBackend with 1 concurrent workers.\n",
      "[Parallel(n_jobs=1)]: Done 773 out of 773 | elapsed:    0.1s finished\n"
     ]
    },
    {
     "name": "stdout",
     "output_type": "stream",
     "text": [
      "[CV]  rf__n_estimators=773, rf__min_samples_split=10, rf__min_samples_leaf=1, rf__max_features=auto, rf__max_depth=20, rf__bootstrap=False, total=   5.0s\n",
      "[CV] rf__n_estimators=773, rf__min_samples_split=10, rf__min_samples_leaf=1, rf__max_features=auto, rf__max_depth=20, rf__bootstrap=False \n"
     ]
    },
    {
     "name": "stderr",
     "output_type": "stream",
     "text": [
      "[Parallel(n_jobs=1)]: Using backend SequentialBackend with 1 concurrent workers.\n",
      "[Parallel(n_jobs=1)]: Done 773 out of 773 | elapsed:    4.3s finished\n",
      "[Parallel(n_jobs=1)]: Using backend SequentialBackend with 1 concurrent workers.\n",
      "[Parallel(n_jobs=1)]: Done 773 out of 773 | elapsed:    0.1s finished\n"
     ]
    },
    {
     "name": "stdout",
     "output_type": "stream",
     "text": [
      "[CV]  rf__n_estimators=773, rf__min_samples_split=10, rf__min_samples_leaf=1, rf__max_features=auto, rf__max_depth=20, rf__bootstrap=False, total=   5.2s\n",
      "[CV] rf__n_estimators=773, rf__min_samples_split=10, rf__min_samples_leaf=1, rf__max_features=auto, rf__max_depth=20, rf__bootstrap=False \n"
     ]
    },
    {
     "name": "stderr",
     "output_type": "stream",
     "text": [
      "[Parallel(n_jobs=1)]: Using backend SequentialBackend with 1 concurrent workers.\n",
      "[Parallel(n_jobs=1)]: Done 773 out of 773 | elapsed:    4.5s finished\n",
      "[Parallel(n_jobs=1)]: Using backend SequentialBackend with 1 concurrent workers.\n",
      "[Parallel(n_jobs=1)]: Done 773 out of 773 | elapsed:    0.2s finished\n"
     ]
    },
    {
     "name": "stdout",
     "output_type": "stream",
     "text": [
      "[CV]  rf__n_estimators=773, rf__min_samples_split=10, rf__min_samples_leaf=1, rf__max_features=auto, rf__max_depth=20, rf__bootstrap=False, total=   5.6s\n",
      "[CV] rf__n_estimators=773, rf__min_samples_split=10, rf__min_samples_leaf=1, rf__max_features=auto, rf__max_depth=20, rf__bootstrap=False \n"
     ]
    },
    {
     "name": "stderr",
     "output_type": "stream",
     "text": [
      "[Parallel(n_jobs=1)]: Using backend SequentialBackend with 1 concurrent workers.\n",
      "[Parallel(n_jobs=1)]: Done 773 out of 773 | elapsed:    4.7s finished\n",
      "[Parallel(n_jobs=1)]: Using backend SequentialBackend with 1 concurrent workers.\n",
      "[Parallel(n_jobs=1)]: Done 773 out of 773 | elapsed:    0.2s finished\n"
     ]
    },
    {
     "name": "stdout",
     "output_type": "stream",
     "text": [
      "[CV]  rf__n_estimators=773, rf__min_samples_split=10, rf__min_samples_leaf=1, rf__max_features=auto, rf__max_depth=20, rf__bootstrap=False, total=   5.7s\n",
      "[CV] rf__n_estimators=773, rf__min_samples_split=10, rf__min_samples_leaf=1, rf__max_features=auto, rf__max_depth=20, rf__bootstrap=False \n"
     ]
    },
    {
     "name": "stderr",
     "output_type": "stream",
     "text": [
      "[Parallel(n_jobs=1)]: Using backend SequentialBackend with 1 concurrent workers.\n",
      "[Parallel(n_jobs=1)]: Done 773 out of 773 | elapsed:    6.2s finished\n",
      "[Parallel(n_jobs=1)]: Using backend SequentialBackend with 1 concurrent workers.\n",
      "[Parallel(n_jobs=1)]: Done 773 out of 773 | elapsed:    0.1s finished\n"
     ]
    },
    {
     "name": "stdout",
     "output_type": "stream",
     "text": [
      "[CV]  rf__n_estimators=773, rf__min_samples_split=10, rf__min_samples_leaf=1, rf__max_features=auto, rf__max_depth=20, rf__bootstrap=False, total=   7.5s\n",
      "[CV] rf__n_estimators=426, rf__min_samples_split=5, rf__min_samples_leaf=2, rf__max_features=auto, rf__max_depth=None, rf__bootstrap=False \n"
     ]
    },
    {
     "name": "stderr",
     "output_type": "stream",
     "text": [
      "[Parallel(n_jobs=1)]: Using backend SequentialBackend with 1 concurrent workers.\n",
      "[Parallel(n_jobs=1)]: Done 426 out of 426 | elapsed:    3.6s finished\n",
      "[Parallel(n_jobs=1)]: Using backend SequentialBackend with 1 concurrent workers.\n",
      "[Parallel(n_jobs=1)]: Done 426 out of 426 | elapsed:    0.0s finished\n"
     ]
    },
    {
     "name": "stdout",
     "output_type": "stream",
     "text": [
      "[CV]  rf__n_estimators=426, rf__min_samples_split=5, rf__min_samples_leaf=2, rf__max_features=auto, rf__max_depth=None, rf__bootstrap=False, total=   4.6s\n",
      "[CV] rf__n_estimators=426, rf__min_samples_split=5, rf__min_samples_leaf=2, rf__max_features=auto, rf__max_depth=None, rf__bootstrap=False \n"
     ]
    },
    {
     "name": "stderr",
     "output_type": "stream",
     "text": [
      "[Parallel(n_jobs=1)]: Using backend SequentialBackend with 1 concurrent workers.\n",
      "[Parallel(n_jobs=1)]: Done 426 out of 426 | elapsed:    2.8s finished\n",
      "[Parallel(n_jobs=1)]: Using backend SequentialBackend with 1 concurrent workers.\n",
      "[Parallel(n_jobs=1)]: Done 426 out of 426 | elapsed:    0.0s finished\n"
     ]
    },
    {
     "name": "stdout",
     "output_type": "stream",
     "text": [
      "[CV]  rf__n_estimators=426, rf__min_samples_split=5, rf__min_samples_leaf=2, rf__max_features=auto, rf__max_depth=None, rf__bootstrap=False, total=   3.7s\n",
      "[CV] rf__n_estimators=426, rf__min_samples_split=5, rf__min_samples_leaf=2, rf__max_features=auto, rf__max_depth=None, rf__bootstrap=False \n"
     ]
    },
    {
     "name": "stderr",
     "output_type": "stream",
     "text": [
      "[Parallel(n_jobs=1)]: Using backend SequentialBackend with 1 concurrent workers.\n",
      "[Parallel(n_jobs=1)]: Done 426 out of 426 | elapsed:    2.7s finished\n",
      "[Parallel(n_jobs=1)]: Using backend SequentialBackend with 1 concurrent workers.\n",
      "[Parallel(n_jobs=1)]: Done 426 out of 426 | elapsed:    0.0s finished\n"
     ]
    },
    {
     "name": "stdout",
     "output_type": "stream",
     "text": [
      "[CV]  rf__n_estimators=426, rf__min_samples_split=5, rf__min_samples_leaf=2, rf__max_features=auto, rf__max_depth=None, rf__bootstrap=False, total=   3.6s\n",
      "[CV] rf__n_estimators=426, rf__min_samples_split=5, rf__min_samples_leaf=2, rf__max_features=auto, rf__max_depth=None, rf__bootstrap=False \n"
     ]
    },
    {
     "name": "stderr",
     "output_type": "stream",
     "text": [
      "[Parallel(n_jobs=1)]: Using backend SequentialBackend with 1 concurrent workers.\n",
      "[Parallel(n_jobs=1)]: Done 426 out of 426 | elapsed:    2.6s finished\n",
      "[Parallel(n_jobs=1)]: Using backend SequentialBackend with 1 concurrent workers.\n",
      "[Parallel(n_jobs=1)]: Done 426 out of 426 | elapsed:    0.0s finished\n"
     ]
    },
    {
     "name": "stdout",
     "output_type": "stream",
     "text": [
      "[CV]  rf__n_estimators=426, rf__min_samples_split=5, rf__min_samples_leaf=2, rf__max_features=auto, rf__max_depth=None, rf__bootstrap=False, total=   3.3s\n",
      "[CV] rf__n_estimators=426, rf__min_samples_split=5, rf__min_samples_leaf=2, rf__max_features=auto, rf__max_depth=None, rf__bootstrap=False \n"
     ]
    },
    {
     "name": "stderr",
     "output_type": "stream",
     "text": [
      "[Parallel(n_jobs=1)]: Using backend SequentialBackend with 1 concurrent workers.\n",
      "[Parallel(n_jobs=1)]: Done 426 out of 426 | elapsed:    2.7s finished\n",
      "[Parallel(n_jobs=1)]: Using backend SequentialBackend with 1 concurrent workers.\n",
      "[Parallel(n_jobs=1)]: Done 426 out of 426 | elapsed:    0.0s finished\n"
     ]
    },
    {
     "name": "stdout",
     "output_type": "stream",
     "text": [
      "[CV]  rf__n_estimators=426, rf__min_samples_split=5, rf__min_samples_leaf=2, rf__max_features=auto, rf__max_depth=None, rf__bootstrap=False, total=   3.4s\n",
      "[CV] rf__n_estimators=442, rf__min_samples_split=2, rf__min_samples_leaf=1, rf__max_features=sqrt, rf__max_depth=40, rf__bootstrap=False \n"
     ]
    },
    {
     "name": "stderr",
     "output_type": "stream",
     "text": [
      "[Parallel(n_jobs=1)]: Using backend SequentialBackend with 1 concurrent workers.\n",
      "[Parallel(n_jobs=1)]: Done 442 out of 442 | elapsed:    3.3s finished\n",
      "[Parallel(n_jobs=1)]: Using backend SequentialBackend with 1 concurrent workers.\n",
      "[Parallel(n_jobs=1)]: Done 442 out of 442 | elapsed:    0.0s finished\n"
     ]
    },
    {
     "name": "stdout",
     "output_type": "stream",
     "text": [
      "[CV]  rf__n_estimators=442, rf__min_samples_split=2, rf__min_samples_leaf=1, rf__max_features=sqrt, rf__max_depth=40, rf__bootstrap=False, total=   4.0s\n",
      "[CV] rf__n_estimators=442, rf__min_samples_split=2, rf__min_samples_leaf=1, rf__max_features=sqrt, rf__max_depth=40, rf__bootstrap=False \n"
     ]
    },
    {
     "name": "stderr",
     "output_type": "stream",
     "text": [
      "[Parallel(n_jobs=1)]: Using backend SequentialBackend with 1 concurrent workers.\n",
      "[Parallel(n_jobs=1)]: Done 442 out of 442 | elapsed:    3.6s finished\n",
      "[Parallel(n_jobs=1)]: Using backend SequentialBackend with 1 concurrent workers.\n",
      "[Parallel(n_jobs=1)]: Done 442 out of 442 | elapsed:    0.0s finished\n"
     ]
    },
    {
     "name": "stdout",
     "output_type": "stream",
     "text": [
      "[CV]  rf__n_estimators=442, rf__min_samples_split=2, rf__min_samples_leaf=1, rf__max_features=sqrt, rf__max_depth=40, rf__bootstrap=False, total=   4.3s\n",
      "[CV] rf__n_estimators=442, rf__min_samples_split=2, rf__min_samples_leaf=1, rf__max_features=sqrt, rf__max_depth=40, rf__bootstrap=False \n"
     ]
    },
    {
     "name": "stderr",
     "output_type": "stream",
     "text": [
      "[Parallel(n_jobs=1)]: Using backend SequentialBackend with 1 concurrent workers.\n",
      "[Parallel(n_jobs=1)]: Done 442 out of 442 | elapsed:    3.3s finished\n",
      "[Parallel(n_jobs=1)]: Using backend SequentialBackend with 1 concurrent workers.\n",
      "[Parallel(n_jobs=1)]: Done 442 out of 442 | elapsed:    0.0s finished\n"
     ]
    },
    {
     "name": "stdout",
     "output_type": "stream",
     "text": [
      "[CV]  rf__n_estimators=442, rf__min_samples_split=2, rf__min_samples_leaf=1, rf__max_features=sqrt, rf__max_depth=40, rf__bootstrap=False, total=   4.0s\n",
      "[CV] rf__n_estimators=442, rf__min_samples_split=2, rf__min_samples_leaf=1, rf__max_features=sqrt, rf__max_depth=40, rf__bootstrap=False \n"
     ]
    },
    {
     "name": "stderr",
     "output_type": "stream",
     "text": [
      "[Parallel(n_jobs=1)]: Using backend SequentialBackend with 1 concurrent workers.\n",
      "[Parallel(n_jobs=1)]: Done 442 out of 442 | elapsed:    3.3s finished\n",
      "[Parallel(n_jobs=1)]: Using backend SequentialBackend with 1 concurrent workers.\n",
      "[Parallel(n_jobs=1)]: Done 442 out of 442 | elapsed:    0.0s finished\n"
     ]
    },
    {
     "name": "stdout",
     "output_type": "stream",
     "text": [
      "[CV]  rf__n_estimators=442, rf__min_samples_split=2, rf__min_samples_leaf=1, rf__max_features=sqrt, rf__max_depth=40, rf__bootstrap=False, total=   4.0s\n",
      "[CV] rf__n_estimators=442, rf__min_samples_split=2, rf__min_samples_leaf=1, rf__max_features=sqrt, rf__max_depth=40, rf__bootstrap=False \n"
     ]
    },
    {
     "name": "stderr",
     "output_type": "stream",
     "text": [
      "[Parallel(n_jobs=1)]: Using backend SequentialBackend with 1 concurrent workers.\n",
      "[Parallel(n_jobs=1)]: Done 442 out of 442 | elapsed:    3.2s finished\n",
      "[Parallel(n_jobs=1)]: Using backend SequentialBackend with 1 concurrent workers.\n",
      "[Parallel(n_jobs=1)]: Done 442 out of 442 | elapsed:    0.0s finished\n"
     ]
    },
    {
     "name": "stdout",
     "output_type": "stream",
     "text": [
      "[CV]  rf__n_estimators=442, rf__min_samples_split=2, rf__min_samples_leaf=1, rf__max_features=sqrt, rf__max_depth=40, rf__bootstrap=False, total=   4.5s\n",
      "[CV] rf__n_estimators=563, rf__min_samples_split=2, rf__min_samples_leaf=4, rf__max_features=auto, rf__max_depth=95, rf__bootstrap=True \n"
     ]
    },
    {
     "name": "stderr",
     "output_type": "stream",
     "text": [
      "[Parallel(n_jobs=1)]: Using backend SequentialBackend with 1 concurrent workers.\n",
      "[Parallel(n_jobs=1)]: Done 563 out of 563 | elapsed:    2.2s finished\n",
      "[Parallel(n_jobs=1)]: Using backend SequentialBackend with 1 concurrent workers.\n",
      "[Parallel(n_jobs=1)]: Done 563 out of 563 | elapsed:    0.1s finished\n"
     ]
    },
    {
     "name": "stdout",
     "output_type": "stream",
     "text": [
      "[CV]  rf__n_estimators=563, rf__min_samples_split=2, rf__min_samples_leaf=4, rf__max_features=auto, rf__max_depth=95, rf__bootstrap=True, total=   3.0s\n",
      "[CV] rf__n_estimators=563, rf__min_samples_split=2, rf__min_samples_leaf=4, rf__max_features=auto, rf__max_depth=95, rf__bootstrap=True \n"
     ]
    },
    {
     "name": "stderr",
     "output_type": "stream",
     "text": [
      "[Parallel(n_jobs=1)]: Using backend SequentialBackend with 1 concurrent workers.\n",
      "[Parallel(n_jobs=1)]: Done 563 out of 563 | elapsed:    2.2s finished\n",
      "[Parallel(n_jobs=1)]: Using backend SequentialBackend with 1 concurrent workers.\n",
      "[Parallel(n_jobs=1)]: Done 563 out of 563 | elapsed:    0.1s finished\n"
     ]
    },
    {
     "name": "stdout",
     "output_type": "stream",
     "text": [
      "[CV]  rf__n_estimators=563, rf__min_samples_split=2, rf__min_samples_leaf=4, rf__max_features=auto, rf__max_depth=95, rf__bootstrap=True, total=   3.1s\n",
      "[CV] rf__n_estimators=563, rf__min_samples_split=2, rf__min_samples_leaf=4, rf__max_features=auto, rf__max_depth=95, rf__bootstrap=True \n"
     ]
    },
    {
     "name": "stderr",
     "output_type": "stream",
     "text": [
      "[Parallel(n_jobs=1)]: Using backend SequentialBackend with 1 concurrent workers.\n",
      "[Parallel(n_jobs=1)]: Done 563 out of 563 | elapsed:    2.1s finished\n",
      "[Parallel(n_jobs=1)]: Using backend SequentialBackend with 1 concurrent workers.\n",
      "[Parallel(n_jobs=1)]: Done 563 out of 563 | elapsed:    0.1s finished\n"
     ]
    },
    {
     "name": "stdout",
     "output_type": "stream",
     "text": [
      "[CV]  rf__n_estimators=563, rf__min_samples_split=2, rf__min_samples_leaf=4, rf__max_features=auto, rf__max_depth=95, rf__bootstrap=True, total=   2.8s\n",
      "[CV] rf__n_estimators=563, rf__min_samples_split=2, rf__min_samples_leaf=4, rf__max_features=auto, rf__max_depth=95, rf__bootstrap=True \n"
     ]
    },
    {
     "name": "stderr",
     "output_type": "stream",
     "text": [
      "[Parallel(n_jobs=1)]: Using backend SequentialBackend with 1 concurrent workers.\n",
      "[Parallel(n_jobs=1)]: Done 563 out of 563 | elapsed:    2.2s finished\n",
      "[Parallel(n_jobs=1)]: Using backend SequentialBackend with 1 concurrent workers.\n",
      "[Parallel(n_jobs=1)]: Done 563 out of 563 | elapsed:    0.1s finished\n"
     ]
    },
    {
     "name": "stdout",
     "output_type": "stream",
     "text": [
      "[CV]  rf__n_estimators=563, rf__min_samples_split=2, rf__min_samples_leaf=4, rf__max_features=auto, rf__max_depth=95, rf__bootstrap=True, total=   2.9s\n",
      "[CV] rf__n_estimators=563, rf__min_samples_split=2, rf__min_samples_leaf=4, rf__max_features=auto, rf__max_depth=95, rf__bootstrap=True \n"
     ]
    },
    {
     "name": "stderr",
     "output_type": "stream",
     "text": [
      "[Parallel(n_jobs=1)]: Using backend SequentialBackend with 1 concurrent workers.\n",
      "[Parallel(n_jobs=1)]: Done 563 out of 563 | elapsed:    2.2s finished\n",
      "[Parallel(n_jobs=1)]: Using backend SequentialBackend with 1 concurrent workers.\n",
      "[Parallel(n_jobs=1)]: Done 563 out of 563 | elapsed:    0.1s finished\n"
     ]
    },
    {
     "name": "stdout",
     "output_type": "stream",
     "text": [
      "[CV]  rf__n_estimators=563, rf__min_samples_split=2, rf__min_samples_leaf=4, rf__max_features=auto, rf__max_depth=95, rf__bootstrap=True, total=   2.9s\n",
      "[CV] rf__n_estimators=313, rf__min_samples_split=2, rf__min_samples_leaf=1, rf__max_features=auto, rf__max_depth=100, rf__bootstrap=False \n"
     ]
    },
    {
     "name": "stderr",
     "output_type": "stream",
     "text": [
      "[Parallel(n_jobs=1)]: Using backend SequentialBackend with 1 concurrent workers.\n",
      "[Parallel(n_jobs=1)]: Done 313 out of 313 | elapsed:    2.3s finished\n",
      "[Parallel(n_jobs=1)]: Using backend SequentialBackend with 1 concurrent workers.\n",
      "[Parallel(n_jobs=1)]: Done 313 out of 313 | elapsed:    0.0s finished\n"
     ]
    },
    {
     "name": "stdout",
     "output_type": "stream",
     "text": [
      "[CV]  rf__n_estimators=313, rf__min_samples_split=2, rf__min_samples_leaf=1, rf__max_features=auto, rf__max_depth=100, rf__bootstrap=False, total=   3.0s\n",
      "[CV] rf__n_estimators=313, rf__min_samples_split=2, rf__min_samples_leaf=1, rf__max_features=auto, rf__max_depth=100, rf__bootstrap=False \n"
     ]
    },
    {
     "name": "stderr",
     "output_type": "stream",
     "text": [
      "[Parallel(n_jobs=1)]: Using backend SequentialBackend with 1 concurrent workers.\n",
      "[Parallel(n_jobs=1)]: Done 313 out of 313 | elapsed:    2.6s finished\n",
      "[Parallel(n_jobs=1)]: Using backend SequentialBackend with 1 concurrent workers.\n",
      "[Parallel(n_jobs=1)]: Done 313 out of 313 | elapsed:    0.0s finished\n"
     ]
    },
    {
     "name": "stdout",
     "output_type": "stream",
     "text": [
      "[CV]  rf__n_estimators=313, rf__min_samples_split=2, rf__min_samples_leaf=1, rf__max_features=auto, rf__max_depth=100, rf__bootstrap=False, total=   3.2s\n",
      "[CV] rf__n_estimators=313, rf__min_samples_split=2, rf__min_samples_leaf=1, rf__max_features=auto, rf__max_depth=100, rf__bootstrap=False \n"
     ]
    },
    {
     "name": "stderr",
     "output_type": "stream",
     "text": [
      "[Parallel(n_jobs=1)]: Using backend SequentialBackend with 1 concurrent workers.\n",
      "[Parallel(n_jobs=1)]: Done 313 out of 313 | elapsed:    2.2s finished\n",
      "[Parallel(n_jobs=1)]: Using backend SequentialBackend with 1 concurrent workers.\n",
      "[Parallel(n_jobs=1)]: Done 313 out of 313 | elapsed:    0.0s finished\n"
     ]
    },
    {
     "name": "stdout",
     "output_type": "stream",
     "text": [
      "[CV]  rf__n_estimators=313, rf__min_samples_split=2, rf__min_samples_leaf=1, rf__max_features=auto, rf__max_depth=100, rf__bootstrap=False, total=   2.9s\n",
      "[CV] rf__n_estimators=313, rf__min_samples_split=2, rf__min_samples_leaf=1, rf__max_features=auto, rf__max_depth=100, rf__bootstrap=False \n"
     ]
    },
    {
     "name": "stderr",
     "output_type": "stream",
     "text": [
      "[Parallel(n_jobs=1)]: Using backend SequentialBackend with 1 concurrent workers.\n",
      "[Parallel(n_jobs=1)]: Done 313 out of 313 | elapsed:    2.2s finished\n",
      "[Parallel(n_jobs=1)]: Using backend SequentialBackend with 1 concurrent workers.\n",
      "[Parallel(n_jobs=1)]: Done 313 out of 313 | elapsed:    0.0s finished\n"
     ]
    },
    {
     "name": "stdout",
     "output_type": "stream",
     "text": [
      "[CV]  rf__n_estimators=313, rf__min_samples_split=2, rf__min_samples_leaf=1, rf__max_features=auto, rf__max_depth=100, rf__bootstrap=False, total=   2.9s\n",
      "[CV] rf__n_estimators=313, rf__min_samples_split=2, rf__min_samples_leaf=1, rf__max_features=auto, rf__max_depth=100, rf__bootstrap=False \n"
     ]
    },
    {
     "name": "stderr",
     "output_type": "stream",
     "text": [
      "[Parallel(n_jobs=1)]: Using backend SequentialBackend with 1 concurrent workers.\n",
      "[Parallel(n_jobs=1)]: Done 313 out of 313 | elapsed:    2.2s finished\n",
      "[Parallel(n_jobs=1)]: Using backend SequentialBackend with 1 concurrent workers.\n",
      "[Parallel(n_jobs=1)]: Done 313 out of 313 | elapsed:    0.0s finished\n"
     ]
    },
    {
     "name": "stdout",
     "output_type": "stream",
     "text": [
      "[CV]  rf__n_estimators=313, rf__min_samples_split=2, rf__min_samples_leaf=1, rf__max_features=auto, rf__max_depth=100, rf__bootstrap=False, total=   2.9s\n",
      "[CV] rf__n_estimators=507, rf__min_samples_split=10, rf__min_samples_leaf=1, rf__max_features=sqrt, rf__max_depth=70, rf__bootstrap=False \n"
     ]
    },
    {
     "name": "stderr",
     "output_type": "stream",
     "text": [
      "[Parallel(n_jobs=1)]: Using backend SequentialBackend with 1 concurrent workers.\n",
      "[Parallel(n_jobs=1)]: Done 507 out of 507 | elapsed:    2.9s finished\n",
      "[Parallel(n_jobs=1)]: Using backend SequentialBackend with 1 concurrent workers.\n",
      "[Parallel(n_jobs=1)]: Done 507 out of 507 | elapsed:    0.1s finished\n"
     ]
    },
    {
     "name": "stdout",
     "output_type": "stream",
     "text": [
      "[CV]  rf__n_estimators=507, rf__min_samples_split=10, rf__min_samples_leaf=1, rf__max_features=sqrt, rf__max_depth=70, rf__bootstrap=False, total=   3.7s\n",
      "[CV] rf__n_estimators=507, rf__min_samples_split=10, rf__min_samples_leaf=1, rf__max_features=sqrt, rf__max_depth=70, rf__bootstrap=False \n"
     ]
    },
    {
     "name": "stderr",
     "output_type": "stream",
     "text": [
      "[Parallel(n_jobs=1)]: Using backend SequentialBackend with 1 concurrent workers.\n",
      "[Parallel(n_jobs=1)]: Done 507 out of 507 | elapsed:    3.0s finished\n",
      "[Parallel(n_jobs=1)]: Using backend SequentialBackend with 1 concurrent workers.\n",
      "[Parallel(n_jobs=1)]: Done 507 out of 507 | elapsed:    0.0s finished\n"
     ]
    },
    {
     "name": "stdout",
     "output_type": "stream",
     "text": [
      "[CV]  rf__n_estimators=507, rf__min_samples_split=10, rf__min_samples_leaf=1, rf__max_features=sqrt, rf__max_depth=70, rf__bootstrap=False, total=   3.9s\n",
      "[CV] rf__n_estimators=507, rf__min_samples_split=10, rf__min_samples_leaf=1, rf__max_features=sqrt, rf__max_depth=70, rf__bootstrap=False \n"
     ]
    },
    {
     "name": "stderr",
     "output_type": "stream",
     "text": [
      "[Parallel(n_jobs=1)]: Using backend SequentialBackend with 1 concurrent workers.\n",
      "[Parallel(n_jobs=1)]: Done 507 out of 507 | elapsed:    2.8s finished\n",
      "[Parallel(n_jobs=1)]: Using backend SequentialBackend with 1 concurrent workers.\n",
      "[Parallel(n_jobs=1)]: Done 507 out of 507 | elapsed:    0.0s finished\n"
     ]
    },
    {
     "name": "stdout",
     "output_type": "stream",
     "text": [
      "[CV]  rf__n_estimators=507, rf__min_samples_split=10, rf__min_samples_leaf=1, rf__max_features=sqrt, rf__max_depth=70, rf__bootstrap=False, total=   3.6s\n",
      "[CV] rf__n_estimators=507, rf__min_samples_split=10, rf__min_samples_leaf=1, rf__max_features=sqrt, rf__max_depth=70, rf__bootstrap=False \n"
     ]
    },
    {
     "name": "stderr",
     "output_type": "stream",
     "text": [
      "[Parallel(n_jobs=1)]: Using backend SequentialBackend with 1 concurrent workers.\n",
      "[Parallel(n_jobs=1)]: Done 507 out of 507 | elapsed:    2.9s finished\n",
      "[Parallel(n_jobs=1)]: Using backend SequentialBackend with 1 concurrent workers.\n",
      "[Parallel(n_jobs=1)]: Done 507 out of 507 | elapsed:    0.1s finished\n"
     ]
    },
    {
     "name": "stdout",
     "output_type": "stream",
     "text": [
      "[CV]  rf__n_estimators=507, rf__min_samples_split=10, rf__min_samples_leaf=1, rf__max_features=sqrt, rf__max_depth=70, rf__bootstrap=False, total=   3.7s\n",
      "[CV] rf__n_estimators=507, rf__min_samples_split=10, rf__min_samples_leaf=1, rf__max_features=sqrt, rf__max_depth=70, rf__bootstrap=False \n"
     ]
    },
    {
     "name": "stderr",
     "output_type": "stream",
     "text": [
      "[Parallel(n_jobs=1)]: Using backend SequentialBackend with 1 concurrent workers.\n",
      "[Parallel(n_jobs=1)]: Done 507 out of 507 | elapsed:    2.8s finished\n",
      "[Parallel(n_jobs=1)]: Using backend SequentialBackend with 1 concurrent workers.\n",
      "[Parallel(n_jobs=1)]: Done 507 out of 507 | elapsed:    0.0s finished\n"
     ]
    },
    {
     "name": "stdout",
     "output_type": "stream",
     "text": [
      "[CV]  rf__n_estimators=507, rf__min_samples_split=10, rf__min_samples_leaf=1, rf__max_features=sqrt, rf__max_depth=70, rf__bootstrap=False, total=   3.6s\n",
      "[CV] rf__n_estimators=830, rf__min_samples_split=2, rf__min_samples_leaf=1, rf__max_features=sqrt, rf__max_depth=30, rf__bootstrap=True \n"
     ]
    },
    {
     "name": "stderr",
     "output_type": "stream",
     "text": [
      "[Parallel(n_jobs=1)]: Using backend SequentialBackend with 1 concurrent workers.\n",
      "[Parallel(n_jobs=1)]: Done 830 out of 830 | elapsed:    4.5s finished\n",
      "[Parallel(n_jobs=1)]: Using backend SequentialBackend with 1 concurrent workers.\n",
      "[Parallel(n_jobs=1)]: Done 830 out of 830 | elapsed:    0.1s finished\n"
     ]
    },
    {
     "name": "stdout",
     "output_type": "stream",
     "text": [
      "[CV]  rf__n_estimators=830, rf__min_samples_split=2, rf__min_samples_leaf=1, rf__max_features=sqrt, rf__max_depth=30, rf__bootstrap=True, total=   5.5s\n",
      "[CV] rf__n_estimators=830, rf__min_samples_split=2, rf__min_samples_leaf=1, rf__max_features=sqrt, rf__max_depth=30, rf__bootstrap=True \n"
     ]
    },
    {
     "name": "stderr",
     "output_type": "stream",
     "text": [
      "[Parallel(n_jobs=1)]: Using backend SequentialBackend with 1 concurrent workers.\n",
      "[Parallel(n_jobs=1)]: Done 830 out of 830 | elapsed:    4.7s finished\n",
      "[Parallel(n_jobs=1)]: Using backend SequentialBackend with 1 concurrent workers.\n",
      "[Parallel(n_jobs=1)]: Done 830 out of 830 | elapsed:    0.2s finished\n"
     ]
    },
    {
     "name": "stdout",
     "output_type": "stream",
     "text": [
      "[CV]  rf__n_estimators=830, rf__min_samples_split=2, rf__min_samples_leaf=1, rf__max_features=sqrt, rf__max_depth=30, rf__bootstrap=True, total=   5.8s\n",
      "[CV] rf__n_estimators=830, rf__min_samples_split=2, rf__min_samples_leaf=1, rf__max_features=sqrt, rf__max_depth=30, rf__bootstrap=True \n"
     ]
    },
    {
     "name": "stderr",
     "output_type": "stream",
     "text": [
      "[Parallel(n_jobs=1)]: Using backend SequentialBackend with 1 concurrent workers.\n",
      "[Parallel(n_jobs=1)]: Done 830 out of 830 | elapsed:    4.7s finished\n",
      "[Parallel(n_jobs=1)]: Using backend SequentialBackend with 1 concurrent workers.\n",
      "[Parallel(n_jobs=1)]: Done 830 out of 830 | elapsed:    0.1s finished\n"
     ]
    },
    {
     "name": "stdout",
     "output_type": "stream",
     "text": [
      "[CV]  rf__n_estimators=830, rf__min_samples_split=2, rf__min_samples_leaf=1, rf__max_features=sqrt, rf__max_depth=30, rf__bootstrap=True, total=   5.8s\n",
      "[CV] rf__n_estimators=830, rf__min_samples_split=2, rf__min_samples_leaf=1, rf__max_features=sqrt, rf__max_depth=30, rf__bootstrap=True \n"
     ]
    },
    {
     "name": "stderr",
     "output_type": "stream",
     "text": [
      "[Parallel(n_jobs=1)]: Using backend SequentialBackend with 1 concurrent workers.\n",
      "[Parallel(n_jobs=1)]: Done 830 out of 830 | elapsed:    5.6s finished\n",
      "[Parallel(n_jobs=1)]: Using backend SequentialBackend with 1 concurrent workers.\n",
      "[Parallel(n_jobs=1)]: Done 830 out of 830 | elapsed:    0.1s finished\n"
     ]
    },
    {
     "name": "stdout",
     "output_type": "stream",
     "text": [
      "[CV]  rf__n_estimators=830, rf__min_samples_split=2, rf__min_samples_leaf=1, rf__max_features=sqrt, rf__max_depth=30, rf__bootstrap=True, total=   6.5s\n",
      "[CV] rf__n_estimators=830, rf__min_samples_split=2, rf__min_samples_leaf=1, rf__max_features=sqrt, rf__max_depth=30, rf__bootstrap=True \n"
     ]
    },
    {
     "name": "stderr",
     "output_type": "stream",
     "text": [
      "[Parallel(n_jobs=1)]: Using backend SequentialBackend with 1 concurrent workers.\n",
      "[Parallel(n_jobs=1)]: Done 830 out of 830 | elapsed:    5.1s finished\n",
      "[Parallel(n_jobs=1)]: Using backend SequentialBackend with 1 concurrent workers.\n",
      "[Parallel(n_jobs=1)]: Done 830 out of 830 | elapsed:    0.1s finished\n"
     ]
    },
    {
     "name": "stdout",
     "output_type": "stream",
     "text": [
      "[CV]  rf__n_estimators=830, rf__min_samples_split=2, rf__min_samples_leaf=1, rf__max_features=sqrt, rf__max_depth=30, rf__bootstrap=True, total=   6.1s\n",
      "[CV] rf__n_estimators=434, rf__min_samples_split=2, rf__min_samples_leaf=1, rf__max_features=sqrt, rf__max_depth=50, rf__bootstrap=False \n"
     ]
    },
    {
     "name": "stderr",
     "output_type": "stream",
     "text": [
      "[Parallel(n_jobs=1)]: Using backend SequentialBackend with 1 concurrent workers.\n",
      "[Parallel(n_jobs=1)]: Done 434 out of 434 | elapsed:    3.1s finished\n",
      "[Parallel(n_jobs=1)]: Using backend SequentialBackend with 1 concurrent workers.\n",
      "[Parallel(n_jobs=1)]: Done 434 out of 434 | elapsed:    0.0s finished\n"
     ]
    },
    {
     "name": "stdout",
     "output_type": "stream",
     "text": [
      "[CV]  rf__n_estimators=434, rf__min_samples_split=2, rf__min_samples_leaf=1, rf__max_features=sqrt, rf__max_depth=50, rf__bootstrap=False, total=   3.9s\n",
      "[CV] rf__n_estimators=434, rf__min_samples_split=2, rf__min_samples_leaf=1, rf__max_features=sqrt, rf__max_depth=50, rf__bootstrap=False \n"
     ]
    },
    {
     "name": "stderr",
     "output_type": "stream",
     "text": [
      "[Parallel(n_jobs=1)]: Using backend SequentialBackend with 1 concurrent workers.\n",
      "[Parallel(n_jobs=1)]: Done 434 out of 434 | elapsed:    3.2s finished\n",
      "[Parallel(n_jobs=1)]: Using backend SequentialBackend with 1 concurrent workers.\n",
      "[Parallel(n_jobs=1)]: Done 434 out of 434 | elapsed:    0.1s finished\n"
     ]
    },
    {
     "name": "stdout",
     "output_type": "stream",
     "text": [
      "[CV]  rf__n_estimators=434, rf__min_samples_split=2, rf__min_samples_leaf=1, rf__max_features=sqrt, rf__max_depth=50, rf__bootstrap=False, total=   4.0s\n",
      "[CV] rf__n_estimators=434, rf__min_samples_split=2, rf__min_samples_leaf=1, rf__max_features=sqrt, rf__max_depth=50, rf__bootstrap=False \n"
     ]
    },
    {
     "name": "stderr",
     "output_type": "stream",
     "text": [
      "[Parallel(n_jobs=1)]: Using backend SequentialBackend with 1 concurrent workers.\n",
      "[Parallel(n_jobs=1)]: Done 434 out of 434 | elapsed:    3.2s finished\n",
      "[Parallel(n_jobs=1)]: Using backend SequentialBackend with 1 concurrent workers.\n",
      "[Parallel(n_jobs=1)]: Done 434 out of 434 | elapsed:    0.0s finished\n"
     ]
    },
    {
     "name": "stdout",
     "output_type": "stream",
     "text": [
      "[CV]  rf__n_estimators=434, rf__min_samples_split=2, rf__min_samples_leaf=1, rf__max_features=sqrt, rf__max_depth=50, rf__bootstrap=False, total=   4.0s\n",
      "[CV] rf__n_estimators=434, rf__min_samples_split=2, rf__min_samples_leaf=1, rf__max_features=sqrt, rf__max_depth=50, rf__bootstrap=False \n"
     ]
    },
    {
     "name": "stderr",
     "output_type": "stream",
     "text": [
      "[Parallel(n_jobs=1)]: Using backend SequentialBackend with 1 concurrent workers.\n",
      "[Parallel(n_jobs=1)]: Done 434 out of 434 | elapsed:    3.1s finished\n",
      "[Parallel(n_jobs=1)]: Using backend SequentialBackend with 1 concurrent workers.\n",
      "[Parallel(n_jobs=1)]: Done 434 out of 434 | elapsed:    0.0s finished\n"
     ]
    },
    {
     "name": "stdout",
     "output_type": "stream",
     "text": [
      "[CV]  rf__n_estimators=434, rf__min_samples_split=2, rf__min_samples_leaf=1, rf__max_features=sqrt, rf__max_depth=50, rf__bootstrap=False, total=   3.8s\n",
      "[CV] rf__n_estimators=434, rf__min_samples_split=2, rf__min_samples_leaf=1, rf__max_features=sqrt, rf__max_depth=50, rf__bootstrap=False \n"
     ]
    },
    {
     "name": "stderr",
     "output_type": "stream",
     "text": [
      "[Parallel(n_jobs=1)]: Using backend SequentialBackend with 1 concurrent workers.\n",
      "[Parallel(n_jobs=1)]: Done 434 out of 434 | elapsed:    3.1s finished\n",
      "[Parallel(n_jobs=1)]: Using backend SequentialBackend with 1 concurrent workers.\n",
      "[Parallel(n_jobs=1)]: Done 434 out of 434 | elapsed:    0.0s finished\n"
     ]
    },
    {
     "name": "stdout",
     "output_type": "stream",
     "text": [
      "[CV]  rf__n_estimators=434, rf__min_samples_split=2, rf__min_samples_leaf=1, rf__max_features=sqrt, rf__max_depth=50, rf__bootstrap=False, total=   3.8s\n",
      "[CV] rf__n_estimators=296, rf__min_samples_split=2, rf__min_samples_leaf=1, rf__max_features=auto, rf__max_depth=75, rf__bootstrap=False \n"
     ]
    },
    {
     "name": "stderr",
     "output_type": "stream",
     "text": [
      "[Parallel(n_jobs=1)]: Using backend SequentialBackend with 1 concurrent workers.\n",
      "[Parallel(n_jobs=1)]: Done 296 out of 296 | elapsed:    2.1s finished\n",
      "[Parallel(n_jobs=1)]: Using backend SequentialBackend with 1 concurrent workers.\n",
      "[Parallel(n_jobs=1)]: Done 296 out of 296 | elapsed:    0.0s finished\n"
     ]
    },
    {
     "name": "stdout",
     "output_type": "stream",
     "text": [
      "[CV]  rf__n_estimators=296, rf__min_samples_split=2, rf__min_samples_leaf=1, rf__max_features=auto, rf__max_depth=75, rf__bootstrap=False, total=   2.8s\n",
      "[CV] rf__n_estimators=296, rf__min_samples_split=2, rf__min_samples_leaf=1, rf__max_features=auto, rf__max_depth=75, rf__bootstrap=False \n"
     ]
    },
    {
     "name": "stderr",
     "output_type": "stream",
     "text": [
      "[Parallel(n_jobs=1)]: Using backend SequentialBackend with 1 concurrent workers.\n",
      "[Parallel(n_jobs=1)]: Done 296 out of 296 | elapsed:    2.1s finished\n",
      "[Parallel(n_jobs=1)]: Using backend SequentialBackend with 1 concurrent workers.\n",
      "[Parallel(n_jobs=1)]: Done 296 out of 296 | elapsed:    0.0s finished\n"
     ]
    },
    {
     "name": "stdout",
     "output_type": "stream",
     "text": [
      "[CV]  rf__n_estimators=296, rf__min_samples_split=2, rf__min_samples_leaf=1, rf__max_features=auto, rf__max_depth=75, rf__bootstrap=False, total=   2.8s\n",
      "[CV] rf__n_estimators=296, rf__min_samples_split=2, rf__min_samples_leaf=1, rf__max_features=auto, rf__max_depth=75, rf__bootstrap=False \n"
     ]
    },
    {
     "name": "stderr",
     "output_type": "stream",
     "text": [
      "[Parallel(n_jobs=1)]: Using backend SequentialBackend with 1 concurrent workers.\n",
      "[Parallel(n_jobs=1)]: Done 296 out of 296 | elapsed:    2.1s finished\n",
      "[Parallel(n_jobs=1)]: Using backend SequentialBackend with 1 concurrent workers.\n",
      "[Parallel(n_jobs=1)]: Done 296 out of 296 | elapsed:    0.0s finished\n"
     ]
    },
    {
     "name": "stdout",
     "output_type": "stream",
     "text": [
      "[CV]  rf__n_estimators=296, rf__min_samples_split=2, rf__min_samples_leaf=1, rf__max_features=auto, rf__max_depth=75, rf__bootstrap=False, total=   2.8s\n",
      "[CV] rf__n_estimators=296, rf__min_samples_split=2, rf__min_samples_leaf=1, rf__max_features=auto, rf__max_depth=75, rf__bootstrap=False \n"
     ]
    },
    {
     "name": "stderr",
     "output_type": "stream",
     "text": [
      "[Parallel(n_jobs=1)]: Using backend SequentialBackend with 1 concurrent workers.\n",
      "[Parallel(n_jobs=1)]: Done 296 out of 296 | elapsed:    2.1s finished\n",
      "[Parallel(n_jobs=1)]: Using backend SequentialBackend with 1 concurrent workers.\n",
      "[Parallel(n_jobs=1)]: Done 296 out of 296 | elapsed:    0.0s finished\n"
     ]
    },
    {
     "name": "stdout",
     "output_type": "stream",
     "text": [
      "[CV]  rf__n_estimators=296, rf__min_samples_split=2, rf__min_samples_leaf=1, rf__max_features=auto, rf__max_depth=75, rf__bootstrap=False, total=   2.8s\n",
      "[CV] rf__n_estimators=296, rf__min_samples_split=2, rf__min_samples_leaf=1, rf__max_features=auto, rf__max_depth=75, rf__bootstrap=False \n"
     ]
    },
    {
     "name": "stderr",
     "output_type": "stream",
     "text": [
      "[Parallel(n_jobs=1)]: Using backend SequentialBackend with 1 concurrent workers.\n",
      "[Parallel(n_jobs=1)]: Done 296 out of 296 | elapsed:    2.1s finished\n",
      "[Parallel(n_jobs=1)]: Using backend SequentialBackend with 1 concurrent workers.\n",
      "[Parallel(n_jobs=1)]: Done 296 out of 296 | elapsed:    0.0s finished\n"
     ]
    },
    {
     "name": "stdout",
     "output_type": "stream",
     "text": [
      "[CV]  rf__n_estimators=296, rf__min_samples_split=2, rf__min_samples_leaf=1, rf__max_features=auto, rf__max_depth=75, rf__bootstrap=False, total=   2.7s\n",
      "[CV] rf__n_estimators=216, rf__min_samples_split=2, rf__min_samples_leaf=2, rf__max_features=auto, rf__max_depth=95, rf__bootstrap=False \n"
     ]
    },
    {
     "name": "stderr",
     "output_type": "stream",
     "text": [
      "[Parallel(n_jobs=1)]: Using backend SequentialBackend with 1 concurrent workers.\n",
      "[Parallel(n_jobs=1)]: Done 216 out of 216 | elapsed:    1.4s finished\n",
      "[Parallel(n_jobs=1)]: Using backend SequentialBackend with 1 concurrent workers.\n",
      "[Parallel(n_jobs=1)]: Done 216 out of 216 | elapsed:    0.0s finished\n"
     ]
    },
    {
     "name": "stdout",
     "output_type": "stream",
     "text": [
      "[CV]  rf__n_estimators=216, rf__min_samples_split=2, rf__min_samples_leaf=2, rf__max_features=auto, rf__max_depth=95, rf__bootstrap=False, total=   2.0s\n",
      "[CV] rf__n_estimators=216, rf__min_samples_split=2, rf__min_samples_leaf=2, rf__max_features=auto, rf__max_depth=95, rf__bootstrap=False \n"
     ]
    },
    {
     "name": "stderr",
     "output_type": "stream",
     "text": [
      "[Parallel(n_jobs=1)]: Using backend SequentialBackend with 1 concurrent workers.\n",
      "[Parallel(n_jobs=1)]: Done 216 out of 216 | elapsed:    1.4s finished\n",
      "[Parallel(n_jobs=1)]: Using backend SequentialBackend with 1 concurrent workers.\n",
      "[Parallel(n_jobs=1)]: Done 216 out of 216 | elapsed:    0.0s finished\n"
     ]
    },
    {
     "name": "stdout",
     "output_type": "stream",
     "text": [
      "[CV]  rf__n_estimators=216, rf__min_samples_split=2, rf__min_samples_leaf=2, rf__max_features=auto, rf__max_depth=95, rf__bootstrap=False, total=   2.1s\n",
      "[CV] rf__n_estimators=216, rf__min_samples_split=2, rf__min_samples_leaf=2, rf__max_features=auto, rf__max_depth=95, rf__bootstrap=False \n"
     ]
    },
    {
     "name": "stderr",
     "output_type": "stream",
     "text": [
      "[Parallel(n_jobs=1)]: Using backend SequentialBackend with 1 concurrent workers.\n",
      "[Parallel(n_jobs=1)]: Done 216 out of 216 | elapsed:    1.6s finished\n",
      "[Parallel(n_jobs=1)]: Using backend SequentialBackend with 1 concurrent workers.\n",
      "[Parallel(n_jobs=1)]: Done 216 out of 216 | elapsed:    0.0s finished\n"
     ]
    },
    {
     "name": "stdout",
     "output_type": "stream",
     "text": [
      "[CV]  rf__n_estimators=216, rf__min_samples_split=2, rf__min_samples_leaf=2, rf__max_features=auto, rf__max_depth=95, rf__bootstrap=False, total=   2.3s\n",
      "[CV] rf__n_estimators=216, rf__min_samples_split=2, rf__min_samples_leaf=2, rf__max_features=auto, rf__max_depth=95, rf__bootstrap=False \n"
     ]
    },
    {
     "name": "stderr",
     "output_type": "stream",
     "text": [
      "[Parallel(n_jobs=1)]: Using backend SequentialBackend with 1 concurrent workers.\n",
      "[Parallel(n_jobs=1)]: Done 216 out of 216 | elapsed:    1.4s finished\n",
      "[Parallel(n_jobs=1)]: Using backend SequentialBackend with 1 concurrent workers.\n",
      "[Parallel(n_jobs=1)]: Done 216 out of 216 | elapsed:    0.0s finished\n"
     ]
    },
    {
     "name": "stdout",
     "output_type": "stream",
     "text": [
      "[CV]  rf__n_estimators=216, rf__min_samples_split=2, rf__min_samples_leaf=2, rf__max_features=auto, rf__max_depth=95, rf__bootstrap=False, total=   2.0s\n",
      "[CV] rf__n_estimators=216, rf__min_samples_split=2, rf__min_samples_leaf=2, rf__max_features=auto, rf__max_depth=95, rf__bootstrap=False \n"
     ]
    },
    {
     "name": "stderr",
     "output_type": "stream",
     "text": [
      "[Parallel(n_jobs=1)]: Using backend SequentialBackend with 1 concurrent workers.\n",
      "[Parallel(n_jobs=1)]: Done 216 out of 216 | elapsed:    1.6s finished\n",
      "[Parallel(n_jobs=1)]: Using backend SequentialBackend with 1 concurrent workers.\n",
      "[Parallel(n_jobs=1)]: Done 216 out of 216 | elapsed:    0.0s finished\n"
     ]
    },
    {
     "name": "stdout",
     "output_type": "stream",
     "text": [
      "[CV]  rf__n_estimators=216, rf__min_samples_split=2, rf__min_samples_leaf=2, rf__max_features=auto, rf__max_depth=95, rf__bootstrap=False, total=   2.2s\n",
      "[CV] rf__n_estimators=288, rf__min_samples_split=5, rf__min_samples_leaf=2, rf__max_features=sqrt, rf__max_depth=85, rf__bootstrap=False \n"
     ]
    },
    {
     "name": "stderr",
     "output_type": "stream",
     "text": [
      "[Parallel(n_jobs=1)]: Using backend SequentialBackend with 1 concurrent workers.\n",
      "[Parallel(n_jobs=1)]: Done 288 out of 288 | elapsed:    1.9s finished\n",
      "[Parallel(n_jobs=1)]: Using backend SequentialBackend with 1 concurrent workers.\n",
      "[Parallel(n_jobs=1)]: Done 288 out of 288 | elapsed:    0.0s finished\n"
     ]
    },
    {
     "name": "stdout",
     "output_type": "stream",
     "text": [
      "[CV]  rf__n_estimators=288, rf__min_samples_split=5, rf__min_samples_leaf=2, rf__max_features=sqrt, rf__max_depth=85, rf__bootstrap=False, total=   2.6s\n",
      "[CV] rf__n_estimators=288, rf__min_samples_split=5, rf__min_samples_leaf=2, rf__max_features=sqrt, rf__max_depth=85, rf__bootstrap=False \n"
     ]
    },
    {
     "name": "stderr",
     "output_type": "stream",
     "text": [
      "[Parallel(n_jobs=1)]: Using backend SequentialBackend with 1 concurrent workers.\n",
      "[Parallel(n_jobs=1)]: Done 288 out of 288 | elapsed:    1.8s finished\n",
      "[Parallel(n_jobs=1)]: Using backend SequentialBackend with 1 concurrent workers.\n",
      "[Parallel(n_jobs=1)]: Done 288 out of 288 | elapsed:    0.0s finished\n"
     ]
    },
    {
     "name": "stdout",
     "output_type": "stream",
     "text": [
      "[CV]  rf__n_estimators=288, rf__min_samples_split=5, rf__min_samples_leaf=2, rf__max_features=sqrt, rf__max_depth=85, rf__bootstrap=False, total=   2.5s\n",
      "[CV] rf__n_estimators=288, rf__min_samples_split=5, rf__min_samples_leaf=2, rf__max_features=sqrt, rf__max_depth=85, rf__bootstrap=False \n"
     ]
    },
    {
     "name": "stderr",
     "output_type": "stream",
     "text": [
      "[Parallel(n_jobs=1)]: Using backend SequentialBackend with 1 concurrent workers.\n",
      "[Parallel(n_jobs=1)]: Done 288 out of 288 | elapsed:    1.8s finished\n",
      "[Parallel(n_jobs=1)]: Using backend SequentialBackend with 1 concurrent workers.\n",
      "[Parallel(n_jobs=1)]: Done 288 out of 288 | elapsed:    0.0s finished\n"
     ]
    },
    {
     "name": "stdout",
     "output_type": "stream",
     "text": [
      "[CV]  rf__n_estimators=288, rf__min_samples_split=5, rf__min_samples_leaf=2, rf__max_features=sqrt, rf__max_depth=85, rf__bootstrap=False, total=   2.6s\n",
      "[CV] rf__n_estimators=288, rf__min_samples_split=5, rf__min_samples_leaf=2, rf__max_features=sqrt, rf__max_depth=85, rf__bootstrap=False \n"
     ]
    },
    {
     "name": "stderr",
     "output_type": "stream",
     "text": [
      "[Parallel(n_jobs=1)]: Using backend SequentialBackend with 1 concurrent workers.\n",
      "[Parallel(n_jobs=1)]: Done 288 out of 288 | elapsed:    1.9s finished\n",
      "[Parallel(n_jobs=1)]: Using backend SequentialBackend with 1 concurrent workers.\n",
      "[Parallel(n_jobs=1)]: Done 288 out of 288 | elapsed:    0.0s finished\n"
     ]
    },
    {
     "name": "stdout",
     "output_type": "stream",
     "text": [
      "[CV]  rf__n_estimators=288, rf__min_samples_split=5, rf__min_samples_leaf=2, rf__max_features=sqrt, rf__max_depth=85, rf__bootstrap=False, total=   2.6s\n",
      "[CV] rf__n_estimators=288, rf__min_samples_split=5, rf__min_samples_leaf=2, rf__max_features=sqrt, rf__max_depth=85, rf__bootstrap=False \n"
     ]
    },
    {
     "name": "stderr",
     "output_type": "stream",
     "text": [
      "[Parallel(n_jobs=1)]: Using backend SequentialBackend with 1 concurrent workers.\n",
      "[Parallel(n_jobs=1)]: Done 288 out of 288 | elapsed:    1.9s finished\n",
      "[Parallel(n_jobs=1)]: Using backend SequentialBackend with 1 concurrent workers.\n",
      "[Parallel(n_jobs=1)]: Done 288 out of 288 | elapsed:    0.0s finished\n"
     ]
    },
    {
     "name": "stdout",
     "output_type": "stream",
     "text": [
      "[CV]  rf__n_estimators=288, rf__min_samples_split=5, rf__min_samples_leaf=2, rf__max_features=sqrt, rf__max_depth=85, rf__bootstrap=False, total=   2.5s\n",
      "[CV] rf__n_estimators=571, rf__min_samples_split=10, rf__min_samples_leaf=4, rf__max_features=auto, rf__max_depth=75, rf__bootstrap=False \n"
     ]
    },
    {
     "name": "stderr",
     "output_type": "stream",
     "text": [
      "[Parallel(n_jobs=1)]: Using backend SequentialBackend with 1 concurrent workers.\n",
      "[Parallel(n_jobs=1)]: Done 571 out of 571 | elapsed:    2.8s finished\n",
      "[Parallel(n_jobs=1)]: Using backend SequentialBackend with 1 concurrent workers.\n",
      "[Parallel(n_jobs=1)]: Done 571 out of 571 | elapsed:    0.1s finished\n"
     ]
    },
    {
     "name": "stdout",
     "output_type": "stream",
     "text": [
      "[CV]  rf__n_estimators=571, rf__min_samples_split=10, rf__min_samples_leaf=4, rf__max_features=auto, rf__max_depth=75, rf__bootstrap=False, total=   3.6s\n",
      "[CV] rf__n_estimators=571, rf__min_samples_split=10, rf__min_samples_leaf=4, rf__max_features=auto, rf__max_depth=75, rf__bootstrap=False \n"
     ]
    },
    {
     "name": "stderr",
     "output_type": "stream",
     "text": [
      "[Parallel(n_jobs=1)]: Using backend SequentialBackend with 1 concurrent workers.\n",
      "[Parallel(n_jobs=1)]: Done 571 out of 571 | elapsed:    2.8s finished\n",
      "[Parallel(n_jobs=1)]: Using backend SequentialBackend with 1 concurrent workers.\n",
      "[Parallel(n_jobs=1)]: Done 571 out of 571 | elapsed:    0.1s finished\n"
     ]
    },
    {
     "name": "stdout",
     "output_type": "stream",
     "text": [
      "[CV]  rf__n_estimators=571, rf__min_samples_split=10, rf__min_samples_leaf=4, rf__max_features=auto, rf__max_depth=75, rf__bootstrap=False, total=   3.7s\n",
      "[CV] rf__n_estimators=571, rf__min_samples_split=10, rf__min_samples_leaf=4, rf__max_features=auto, rf__max_depth=75, rf__bootstrap=False \n"
     ]
    },
    {
     "name": "stderr",
     "output_type": "stream",
     "text": [
      "[Parallel(n_jobs=1)]: Using backend SequentialBackend with 1 concurrent workers.\n",
      "[Parallel(n_jobs=1)]: Done 571 out of 571 | elapsed:    2.8s finished\n",
      "[Parallel(n_jobs=1)]: Using backend SequentialBackend with 1 concurrent workers.\n",
      "[Parallel(n_jobs=1)]: Done 571 out of 571 | elapsed:    0.1s finished\n"
     ]
    },
    {
     "name": "stdout",
     "output_type": "stream",
     "text": [
      "[CV]  rf__n_estimators=571, rf__min_samples_split=10, rf__min_samples_leaf=4, rf__max_features=auto, rf__max_depth=75, rf__bootstrap=False, total=   3.7s\n",
      "[CV] rf__n_estimators=571, rf__min_samples_split=10, rf__min_samples_leaf=4, rf__max_features=auto, rf__max_depth=75, rf__bootstrap=False \n"
     ]
    },
    {
     "name": "stderr",
     "output_type": "stream",
     "text": [
      "[Parallel(n_jobs=1)]: Using backend SequentialBackend with 1 concurrent workers.\n",
      "[Parallel(n_jobs=1)]: Done 571 out of 571 | elapsed:    3.2s finished\n",
      "[Parallel(n_jobs=1)]: Using backend SequentialBackend with 1 concurrent workers.\n",
      "[Parallel(n_jobs=1)]: Done 571 out of 571 | elapsed:    0.1s finished\n"
     ]
    },
    {
     "name": "stdout",
     "output_type": "stream",
     "text": [
      "[CV]  rf__n_estimators=571, rf__min_samples_split=10, rf__min_samples_leaf=4, rf__max_features=auto, rf__max_depth=75, rf__bootstrap=False, total=   4.2s\n",
      "[CV] rf__n_estimators=571, rf__min_samples_split=10, rf__min_samples_leaf=4, rf__max_features=auto, rf__max_depth=75, rf__bootstrap=False \n"
     ]
    },
    {
     "name": "stderr",
     "output_type": "stream",
     "text": [
      "[Parallel(n_jobs=1)]: Using backend SequentialBackend with 1 concurrent workers.\n",
      "[Parallel(n_jobs=1)]: Done 571 out of 571 | elapsed:    2.9s finished\n",
      "[Parallel(n_jobs=1)]: Using backend SequentialBackend with 1 concurrent workers.\n",
      "[Parallel(n_jobs=1)]: Done 571 out of 571 | elapsed:    0.1s finished\n"
     ]
    },
    {
     "name": "stdout",
     "output_type": "stream",
     "text": [
      "[CV]  rf__n_estimators=571, rf__min_samples_split=10, rf__min_samples_leaf=4, rf__max_features=auto, rf__max_depth=75, rf__bootstrap=False, total=   4.0s\n",
      "[CV] rf__n_estimators=377, rf__min_samples_split=5, rf__min_samples_leaf=2, rf__max_features=sqrt, rf__max_depth=100, rf__bootstrap=False \n"
     ]
    },
    {
     "name": "stderr",
     "output_type": "stream",
     "text": [
      "[Parallel(n_jobs=1)]: Using backend SequentialBackend with 1 concurrent workers.\n",
      "[Parallel(n_jobs=1)]: Done 377 out of 377 | elapsed:    2.3s finished\n",
      "[Parallel(n_jobs=1)]: Using backend SequentialBackend with 1 concurrent workers.\n",
      "[Parallel(n_jobs=1)]: Done 377 out of 377 | elapsed:    0.0s finished\n"
     ]
    },
    {
     "name": "stdout",
     "output_type": "stream",
     "text": [
      "[CV]  rf__n_estimators=377, rf__min_samples_split=5, rf__min_samples_leaf=2, rf__max_features=sqrt, rf__max_depth=100, rf__bootstrap=False, total=   3.0s\n",
      "[CV] rf__n_estimators=377, rf__min_samples_split=5, rf__min_samples_leaf=2, rf__max_features=sqrt, rf__max_depth=100, rf__bootstrap=False \n"
     ]
    },
    {
     "name": "stderr",
     "output_type": "stream",
     "text": [
      "[Parallel(n_jobs=1)]: Using backend SequentialBackend with 1 concurrent workers.\n",
      "[Parallel(n_jobs=1)]: Done 377 out of 377 | elapsed:    2.4s finished\n",
      "[Parallel(n_jobs=1)]: Using backend SequentialBackend with 1 concurrent workers.\n",
      "[Parallel(n_jobs=1)]: Done 377 out of 377 | elapsed:    0.0s finished\n"
     ]
    },
    {
     "name": "stdout",
     "output_type": "stream",
     "text": [
      "[CV]  rf__n_estimators=377, rf__min_samples_split=5, rf__min_samples_leaf=2, rf__max_features=sqrt, rf__max_depth=100, rf__bootstrap=False, total=   3.1s\n",
      "[CV] rf__n_estimators=377, rf__min_samples_split=5, rf__min_samples_leaf=2, rf__max_features=sqrt, rf__max_depth=100, rf__bootstrap=False \n"
     ]
    },
    {
     "name": "stderr",
     "output_type": "stream",
     "text": [
      "[Parallel(n_jobs=1)]: Using backend SequentialBackend with 1 concurrent workers.\n",
      "[Parallel(n_jobs=1)]: Done 377 out of 377 | elapsed:    2.4s finished\n",
      "[Parallel(n_jobs=1)]: Using backend SequentialBackend with 1 concurrent workers.\n",
      "[Parallel(n_jobs=1)]: Done 377 out of 377 | elapsed:    0.3s finished\n"
     ]
    },
    {
     "name": "stdout",
     "output_type": "stream",
     "text": [
      "[CV]  rf__n_estimators=377, rf__min_samples_split=5, rf__min_samples_leaf=2, rf__max_features=sqrt, rf__max_depth=100, rf__bootstrap=False, total=   3.3s\n",
      "[CV] rf__n_estimators=377, rf__min_samples_split=5, rf__min_samples_leaf=2, rf__max_features=sqrt, rf__max_depth=100, rf__bootstrap=False \n"
     ]
    },
    {
     "name": "stderr",
     "output_type": "stream",
     "text": [
      "[Parallel(n_jobs=1)]: Using backend SequentialBackend with 1 concurrent workers.\n",
      "[Parallel(n_jobs=1)]: Done 377 out of 377 | elapsed:    3.8s finished\n",
      "[Parallel(n_jobs=1)]: Using backend SequentialBackend with 1 concurrent workers.\n",
      "[Parallel(n_jobs=1)]: Done 377 out of 377 | elapsed:    0.0s finished\n"
     ]
    },
    {
     "name": "stdout",
     "output_type": "stream",
     "text": [
      "[CV]  rf__n_estimators=377, rf__min_samples_split=5, rf__min_samples_leaf=2, rf__max_features=sqrt, rf__max_depth=100, rf__bootstrap=False, total=   5.5s\n",
      "[CV] rf__n_estimators=377, rf__min_samples_split=5, rf__min_samples_leaf=2, rf__max_features=sqrt, rf__max_depth=100, rf__bootstrap=False \n"
     ]
    },
    {
     "name": "stderr",
     "output_type": "stream",
     "text": [
      "[Parallel(n_jobs=1)]: Using backend SequentialBackend with 1 concurrent workers.\n",
      "[Parallel(n_jobs=1)]: Done 377 out of 377 | elapsed:    3.5s finished\n",
      "[Parallel(n_jobs=1)]: Using backend SequentialBackend with 1 concurrent workers.\n",
      "[Parallel(n_jobs=1)]: Done 377 out of 377 | elapsed:    0.0s finished\n"
     ]
    },
    {
     "name": "stdout",
     "output_type": "stream",
     "text": [
      "[CV]  rf__n_estimators=377, rf__min_samples_split=5, rf__min_samples_leaf=2, rf__max_features=sqrt, rf__max_depth=100, rf__bootstrap=False, total=   4.5s\n",
      "[CV] rf__n_estimators=636, rf__min_samples_split=2, rf__min_samples_leaf=4, rf__max_features=sqrt, rf__max_depth=65, rf__bootstrap=False \n"
     ]
    },
    {
     "name": "stderr",
     "output_type": "stream",
     "text": [
      "[Parallel(n_jobs=1)]: Using backend SequentialBackend with 1 concurrent workers.\n",
      "[Parallel(n_jobs=1)]: Done 636 out of 636 | elapsed:    4.6s finished\n",
      "[Parallel(n_jobs=1)]: Using backend SequentialBackend with 1 concurrent workers.\n",
      "[Parallel(n_jobs=1)]: Done 636 out of 636 | elapsed:    0.1s finished\n"
     ]
    },
    {
     "name": "stdout",
     "output_type": "stream",
     "text": [
      "[CV]  rf__n_estimators=636, rf__min_samples_split=2, rf__min_samples_leaf=4, rf__max_features=sqrt, rf__max_depth=65, rf__bootstrap=False, total=   5.4s\n",
      "[CV] rf__n_estimators=636, rf__min_samples_split=2, rf__min_samples_leaf=4, rf__max_features=sqrt, rf__max_depth=65, rf__bootstrap=False \n"
     ]
    },
    {
     "name": "stderr",
     "output_type": "stream",
     "text": [
      "[Parallel(n_jobs=1)]: Using backend SequentialBackend with 1 concurrent workers.\n",
      "[Parallel(n_jobs=1)]: Done 636 out of 636 | elapsed:    3.4s finished\n",
      "[Parallel(n_jobs=1)]: Using backend SequentialBackend with 1 concurrent workers.\n",
      "[Parallel(n_jobs=1)]: Done 636 out of 636 | elapsed:    0.1s finished\n"
     ]
    },
    {
     "name": "stdout",
     "output_type": "stream",
     "text": [
      "[CV]  rf__n_estimators=636, rf__min_samples_split=2, rf__min_samples_leaf=4, rf__max_features=sqrt, rf__max_depth=65, rf__bootstrap=False, total=   4.3s\n",
      "[CV] rf__n_estimators=636, rf__min_samples_split=2, rf__min_samples_leaf=4, rf__max_features=sqrt, rf__max_depth=65, rf__bootstrap=False \n"
     ]
    },
    {
     "name": "stderr",
     "output_type": "stream",
     "text": [
      "[Parallel(n_jobs=1)]: Using backend SequentialBackend with 1 concurrent workers.\n",
      "[Parallel(n_jobs=1)]: Done 636 out of 636 | elapsed:    3.5s finished\n",
      "[Parallel(n_jobs=1)]: Using backend SequentialBackend with 1 concurrent workers.\n",
      "[Parallel(n_jobs=1)]: Done 636 out of 636 | elapsed:    0.1s finished\n"
     ]
    },
    {
     "name": "stdout",
     "output_type": "stream",
     "text": [
      "[CV]  rf__n_estimators=636, rf__min_samples_split=2, rf__min_samples_leaf=4, rf__max_features=sqrt, rf__max_depth=65, rf__bootstrap=False, total=   4.8s\n",
      "[CV] rf__n_estimators=636, rf__min_samples_split=2, rf__min_samples_leaf=4, rf__max_features=sqrt, rf__max_depth=65, rf__bootstrap=False \n"
     ]
    },
    {
     "name": "stderr",
     "output_type": "stream",
     "text": [
      "[Parallel(n_jobs=1)]: Using backend SequentialBackend with 1 concurrent workers.\n",
      "[Parallel(n_jobs=1)]: Done 636 out of 636 | elapsed:    3.5s finished\n",
      "[Parallel(n_jobs=1)]: Using backend SequentialBackend with 1 concurrent workers.\n",
      "[Parallel(n_jobs=1)]: Done 636 out of 636 | elapsed:    0.1s finished\n"
     ]
    },
    {
     "name": "stdout",
     "output_type": "stream",
     "text": [
      "[CV]  rf__n_estimators=636, rf__min_samples_split=2, rf__min_samples_leaf=4, rf__max_features=sqrt, rf__max_depth=65, rf__bootstrap=False, total=   4.4s\n",
      "[CV] rf__n_estimators=636, rf__min_samples_split=2, rf__min_samples_leaf=4, rf__max_features=sqrt, rf__max_depth=65, rf__bootstrap=False \n"
     ]
    },
    {
     "name": "stderr",
     "output_type": "stream",
     "text": [
      "[Parallel(n_jobs=1)]: Using backend SequentialBackend with 1 concurrent workers.\n",
      "[Parallel(n_jobs=1)]: Done 636 out of 636 | elapsed:    3.6s finished\n",
      "[Parallel(n_jobs=1)]: Using backend SequentialBackend with 1 concurrent workers.\n",
      "[Parallel(n_jobs=1)]: Done 636 out of 636 | elapsed:    0.1s finished\n"
     ]
    },
    {
     "name": "stdout",
     "output_type": "stream",
     "text": [
      "[CV]  rf__n_estimators=636, rf__min_samples_split=2, rf__min_samples_leaf=4, rf__max_features=sqrt, rf__max_depth=65, rf__bootstrap=False, total=   4.7s\n",
      "[CV] rf__n_estimators=216, rf__min_samples_split=5, rf__min_samples_leaf=4, rf__max_features=sqrt, rf__max_depth=85, rf__bootstrap=True \n"
     ]
    },
    {
     "name": "stderr",
     "output_type": "stream",
     "text": [
      "[Parallel(n_jobs=1)]: Using backend SequentialBackend with 1 concurrent workers.\n",
      "[Parallel(n_jobs=1)]: Done 216 out of 216 | elapsed:    0.9s finished\n",
      "[Parallel(n_jobs=1)]: Using backend SequentialBackend with 1 concurrent workers.\n",
      "[Parallel(n_jobs=1)]: Done 216 out of 216 | elapsed:    0.0s finished\n"
     ]
    },
    {
     "name": "stdout",
     "output_type": "stream",
     "text": [
      "[CV]  rf__n_estimators=216, rf__min_samples_split=5, rf__min_samples_leaf=4, rf__max_features=sqrt, rf__max_depth=85, rf__bootstrap=True, total=   1.5s\n",
      "[CV] rf__n_estimators=216, rf__min_samples_split=5, rf__min_samples_leaf=4, rf__max_features=sqrt, rf__max_depth=85, rf__bootstrap=True \n"
     ]
    },
    {
     "name": "stderr",
     "output_type": "stream",
     "text": [
      "[Parallel(n_jobs=1)]: Using backend SequentialBackend with 1 concurrent workers.\n",
      "[Parallel(n_jobs=1)]: Done 216 out of 216 | elapsed:    0.8s finished\n",
      "[Parallel(n_jobs=1)]: Using backend SequentialBackend with 1 concurrent workers.\n",
      "[Parallel(n_jobs=1)]: Done 216 out of 216 | elapsed:    0.0s finished\n"
     ]
    },
    {
     "name": "stdout",
     "output_type": "stream",
     "text": [
      "[CV]  rf__n_estimators=216, rf__min_samples_split=5, rf__min_samples_leaf=4, rf__max_features=sqrt, rf__max_depth=85, rf__bootstrap=True, total=   1.5s\n",
      "[CV] rf__n_estimators=216, rf__min_samples_split=5, rf__min_samples_leaf=4, rf__max_features=sqrt, rf__max_depth=85, rf__bootstrap=True \n"
     ]
    },
    {
     "name": "stderr",
     "output_type": "stream",
     "text": [
      "[Parallel(n_jobs=1)]: Using backend SequentialBackend with 1 concurrent workers.\n",
      "[Parallel(n_jobs=1)]: Done 216 out of 216 | elapsed:    0.8s finished\n",
      "[Parallel(n_jobs=1)]: Using backend SequentialBackend with 1 concurrent workers.\n",
      "[Parallel(n_jobs=1)]: Done 216 out of 216 | elapsed:    0.0s finished\n"
     ]
    },
    {
     "name": "stdout",
     "output_type": "stream",
     "text": [
      "[CV]  rf__n_estimators=216, rf__min_samples_split=5, rf__min_samples_leaf=4, rf__max_features=sqrt, rf__max_depth=85, rf__bootstrap=True, total=   1.5s\n",
      "[CV] rf__n_estimators=216, rf__min_samples_split=5, rf__min_samples_leaf=4, rf__max_features=sqrt, rf__max_depth=85, rf__bootstrap=True \n"
     ]
    },
    {
     "name": "stderr",
     "output_type": "stream",
     "text": [
      "[Parallel(n_jobs=1)]: Using backend SequentialBackend with 1 concurrent workers.\n",
      "[Parallel(n_jobs=1)]: Done 216 out of 216 | elapsed:    0.8s finished\n",
      "[Parallel(n_jobs=1)]: Using backend SequentialBackend with 1 concurrent workers.\n",
      "[Parallel(n_jobs=1)]: Done 216 out of 216 | elapsed:    0.0s finished\n"
     ]
    },
    {
     "name": "stdout",
     "output_type": "stream",
     "text": [
      "[CV]  rf__n_estimators=216, rf__min_samples_split=5, rf__min_samples_leaf=4, rf__max_features=sqrt, rf__max_depth=85, rf__bootstrap=True, total=   1.5s\n",
      "[CV] rf__n_estimators=216, rf__min_samples_split=5, rf__min_samples_leaf=4, rf__max_features=sqrt, rf__max_depth=85, rf__bootstrap=True \n"
     ]
    },
    {
     "name": "stderr",
     "output_type": "stream",
     "text": [
      "[Parallel(n_jobs=1)]: Using backend SequentialBackend with 1 concurrent workers.\n",
      "[Parallel(n_jobs=1)]: Done 216 out of 216 | elapsed:    0.8s finished\n",
      "[Parallel(n_jobs=1)]: Using backend SequentialBackend with 1 concurrent workers.\n",
      "[Parallel(n_jobs=1)]: Done 216 out of 216 | elapsed:    0.0s finished\n"
     ]
    },
    {
     "name": "stdout",
     "output_type": "stream",
     "text": [
      "[CV]  rf__n_estimators=216, rf__min_samples_split=5, rf__min_samples_leaf=4, rf__max_features=sqrt, rf__max_depth=85, rf__bootstrap=True, total=   1.5s\n",
      "[CV] rf__n_estimators=361, rf__min_samples_split=2, rf__min_samples_leaf=2, rf__max_features=auto, rf__max_depth=95, rf__bootstrap=True \n"
     ]
    },
    {
     "name": "stderr",
     "output_type": "stream",
     "text": [
      "[Parallel(n_jobs=1)]: Using backend SequentialBackend with 1 concurrent workers.\n",
      "[Parallel(n_jobs=1)]: Done 361 out of 361 | elapsed:    1.8s finished\n",
      "[Parallel(n_jobs=1)]: Using backend SequentialBackend with 1 concurrent workers.\n",
      "[Parallel(n_jobs=1)]: Done 361 out of 361 | elapsed:    0.0s finished\n"
     ]
    },
    {
     "name": "stdout",
     "output_type": "stream",
     "text": [
      "[CV]  rf__n_estimators=361, rf__min_samples_split=2, rf__min_samples_leaf=2, rf__max_features=auto, rf__max_depth=95, rf__bootstrap=True, total=   2.5s\n",
      "[CV] rf__n_estimators=361, rf__min_samples_split=2, rf__min_samples_leaf=2, rf__max_features=auto, rf__max_depth=95, rf__bootstrap=True \n"
     ]
    },
    {
     "name": "stderr",
     "output_type": "stream",
     "text": [
      "[Parallel(n_jobs=1)]: Using backend SequentialBackend with 1 concurrent workers.\n",
      "[Parallel(n_jobs=1)]: Done 361 out of 361 | elapsed:    1.8s finished\n",
      "[Parallel(n_jobs=1)]: Using backend SequentialBackend with 1 concurrent workers.\n",
      "[Parallel(n_jobs=1)]: Done 361 out of 361 | elapsed:    0.0s finished\n"
     ]
    },
    {
     "name": "stdout",
     "output_type": "stream",
     "text": [
      "[CV]  rf__n_estimators=361, rf__min_samples_split=2, rf__min_samples_leaf=2, rf__max_features=auto, rf__max_depth=95, rf__bootstrap=True, total=   2.5s\n",
      "[CV] rf__n_estimators=361, rf__min_samples_split=2, rf__min_samples_leaf=2, rf__max_features=auto, rf__max_depth=95, rf__bootstrap=True \n"
     ]
    },
    {
     "name": "stderr",
     "output_type": "stream",
     "text": [
      "[Parallel(n_jobs=1)]: Using backend SequentialBackend with 1 concurrent workers.\n",
      "[Parallel(n_jobs=1)]: Done 361 out of 361 | elapsed:    1.7s finished\n",
      "[Parallel(n_jobs=1)]: Using backend SequentialBackend with 1 concurrent workers.\n",
      "[Parallel(n_jobs=1)]: Done 361 out of 361 | elapsed:    0.0s finished\n"
     ]
    },
    {
     "name": "stdout",
     "output_type": "stream",
     "text": [
      "[CV]  rf__n_estimators=361, rf__min_samples_split=2, rf__min_samples_leaf=2, rf__max_features=auto, rf__max_depth=95, rf__bootstrap=True, total=   2.4s\n",
      "[CV] rf__n_estimators=361, rf__min_samples_split=2, rf__min_samples_leaf=2, rf__max_features=auto, rf__max_depth=95, rf__bootstrap=True \n"
     ]
    },
    {
     "name": "stderr",
     "output_type": "stream",
     "text": [
      "[Parallel(n_jobs=1)]: Using backend SequentialBackend with 1 concurrent workers.\n",
      "[Parallel(n_jobs=1)]: Done 361 out of 361 | elapsed:    1.8s finished\n",
      "[Parallel(n_jobs=1)]: Using backend SequentialBackend with 1 concurrent workers.\n",
      "[Parallel(n_jobs=1)]: Done 361 out of 361 | elapsed:    0.0s finished\n"
     ]
    },
    {
     "name": "stdout",
     "output_type": "stream",
     "text": [
      "[CV]  rf__n_estimators=361, rf__min_samples_split=2, rf__min_samples_leaf=2, rf__max_features=auto, rf__max_depth=95, rf__bootstrap=True, total=   2.6s\n",
      "[CV] rf__n_estimators=361, rf__min_samples_split=2, rf__min_samples_leaf=2, rf__max_features=auto, rf__max_depth=95, rf__bootstrap=True \n"
     ]
    },
    {
     "name": "stderr",
     "output_type": "stream",
     "text": [
      "[Parallel(n_jobs=1)]: Using backend SequentialBackend with 1 concurrent workers.\n",
      "[Parallel(n_jobs=1)]: Done 361 out of 361 | elapsed:    1.9s finished\n",
      "[Parallel(n_jobs=1)]: Using backend SequentialBackend with 1 concurrent workers.\n",
      "[Parallel(n_jobs=1)]: Done 361 out of 361 | elapsed:    0.0s finished\n"
     ]
    },
    {
     "name": "stdout",
     "output_type": "stream",
     "text": [
      "[CV]  rf__n_estimators=361, rf__min_samples_split=2, rf__min_samples_leaf=2, rf__max_features=auto, rf__max_depth=95, rf__bootstrap=True, total=   2.6s\n",
      "[CV] rf__n_estimators=612, rf__min_samples_split=5, rf__min_samples_leaf=1, rf__max_features=sqrt, rf__max_depth=55, rf__bootstrap=True \n"
     ]
    },
    {
     "name": "stderr",
     "output_type": "stream",
     "text": [
      "[Parallel(n_jobs=1)]: Using backend SequentialBackend with 1 concurrent workers.\n",
      "[Parallel(n_jobs=1)]: Done 612 out of 612 | elapsed:    3.1s finished\n",
      "[Parallel(n_jobs=1)]: Using backend SequentialBackend with 1 concurrent workers.\n",
      "[Parallel(n_jobs=1)]: Done 612 out of 612 | elapsed:    0.1s finished\n"
     ]
    },
    {
     "name": "stdout",
     "output_type": "stream",
     "text": [
      "[CV]  rf__n_estimators=612, rf__min_samples_split=5, rf__min_samples_leaf=1, rf__max_features=sqrt, rf__max_depth=55, rf__bootstrap=True, total=   4.0s\n",
      "[CV] rf__n_estimators=612, rf__min_samples_split=5, rf__min_samples_leaf=1, rf__max_features=sqrt, rf__max_depth=55, rf__bootstrap=True \n"
     ]
    },
    {
     "name": "stderr",
     "output_type": "stream",
     "text": [
      "[Parallel(n_jobs=1)]: Using backend SequentialBackend with 1 concurrent workers.\n",
      "[Parallel(n_jobs=1)]: Done 612 out of 612 | elapsed:    3.3s finished\n",
      "[Parallel(n_jobs=1)]: Using backend SequentialBackend with 1 concurrent workers.\n",
      "[Parallel(n_jobs=1)]: Done 612 out of 612 | elapsed:    0.1s finished\n"
     ]
    },
    {
     "name": "stdout",
     "output_type": "stream",
     "text": [
      "[CV]  rf__n_estimators=612, rf__min_samples_split=5, rf__min_samples_leaf=1, rf__max_features=sqrt, rf__max_depth=55, rf__bootstrap=True, total=   4.1s\n",
      "[CV] rf__n_estimators=612, rf__min_samples_split=5, rf__min_samples_leaf=1, rf__max_features=sqrt, rf__max_depth=55, rf__bootstrap=True \n"
     ]
    },
    {
     "name": "stderr",
     "output_type": "stream",
     "text": [
      "[Parallel(n_jobs=1)]: Using backend SequentialBackend with 1 concurrent workers.\n",
      "[Parallel(n_jobs=1)]: Done 612 out of 612 | elapsed:    3.1s finished\n",
      "[Parallel(n_jobs=1)]: Using backend SequentialBackend with 1 concurrent workers.\n",
      "[Parallel(n_jobs=1)]: Done 612 out of 612 | elapsed:    0.1s finished\n"
     ]
    },
    {
     "name": "stdout",
     "output_type": "stream",
     "text": [
      "[CV]  rf__n_estimators=612, rf__min_samples_split=5, rf__min_samples_leaf=1, rf__max_features=sqrt, rf__max_depth=55, rf__bootstrap=True, total=   3.9s\n",
      "[CV] rf__n_estimators=612, rf__min_samples_split=5, rf__min_samples_leaf=1, rf__max_features=sqrt, rf__max_depth=55, rf__bootstrap=True \n"
     ]
    },
    {
     "name": "stderr",
     "output_type": "stream",
     "text": [
      "[Parallel(n_jobs=1)]: Using backend SequentialBackend with 1 concurrent workers.\n",
      "[Parallel(n_jobs=1)]: Done 612 out of 612 | elapsed:    3.3s finished\n",
      "[Parallel(n_jobs=1)]: Using backend SequentialBackend with 1 concurrent workers.\n",
      "[Parallel(n_jobs=1)]: Done 612 out of 612 | elapsed:    0.1s finished\n"
     ]
    },
    {
     "name": "stdout",
     "output_type": "stream",
     "text": [
      "[CV]  rf__n_estimators=612, rf__min_samples_split=5, rf__min_samples_leaf=1, rf__max_features=sqrt, rf__max_depth=55, rf__bootstrap=True, total=   4.1s\n",
      "[CV] rf__n_estimators=612, rf__min_samples_split=5, rf__min_samples_leaf=1, rf__max_features=sqrt, rf__max_depth=55, rf__bootstrap=True \n"
     ]
    },
    {
     "name": "stderr",
     "output_type": "stream",
     "text": [
      "[Parallel(n_jobs=1)]: Using backend SequentialBackend with 1 concurrent workers.\n",
      "[Parallel(n_jobs=1)]: Done 612 out of 612 | elapsed:    3.2s finished\n",
      "[Parallel(n_jobs=1)]: Using backend SequentialBackend with 1 concurrent workers.\n",
      "[Parallel(n_jobs=1)]: Done 612 out of 612 | elapsed:    0.1s finished\n"
     ]
    },
    {
     "name": "stdout",
     "output_type": "stream",
     "text": [
      "[CV]  rf__n_estimators=612, rf__min_samples_split=5, rf__min_samples_leaf=1, rf__max_features=sqrt, rf__max_depth=55, rf__bootstrap=True, total=   4.1s\n",
      "[CV] rf__n_estimators=240, rf__min_samples_split=10, rf__min_samples_leaf=4, rf__max_features=sqrt, rf__max_depth=90, rf__bootstrap=True \n"
     ]
    },
    {
     "name": "stderr",
     "output_type": "stream",
     "text": [
      "[Parallel(n_jobs=1)]: Using backend SequentialBackend with 1 concurrent workers.\n",
      "[Parallel(n_jobs=1)]: Done 240 out of 240 | elapsed:    0.9s finished\n",
      "[Parallel(n_jobs=1)]: Using backend SequentialBackend with 1 concurrent workers.\n",
      "[Parallel(n_jobs=1)]: Done 240 out of 240 | elapsed:    0.0s finished\n"
     ]
    },
    {
     "name": "stdout",
     "output_type": "stream",
     "text": [
      "[CV]  rf__n_estimators=240, rf__min_samples_split=10, rf__min_samples_leaf=4, rf__max_features=sqrt, rf__max_depth=90, rf__bootstrap=True, total=   1.5s\n",
      "[CV] rf__n_estimators=240, rf__min_samples_split=10, rf__min_samples_leaf=4, rf__max_features=sqrt, rf__max_depth=90, rf__bootstrap=True \n"
     ]
    },
    {
     "name": "stderr",
     "output_type": "stream",
     "text": [
      "[Parallel(n_jobs=1)]: Using backend SequentialBackend with 1 concurrent workers.\n",
      "[Parallel(n_jobs=1)]: Done 240 out of 240 | elapsed:    0.9s finished\n",
      "[Parallel(n_jobs=1)]: Using backend SequentialBackend with 1 concurrent workers.\n",
      "[Parallel(n_jobs=1)]: Done 240 out of 240 | elapsed:    0.0s finished\n"
     ]
    },
    {
     "name": "stdout",
     "output_type": "stream",
     "text": [
      "[CV]  rf__n_estimators=240, rf__min_samples_split=10, rf__min_samples_leaf=4, rf__max_features=sqrt, rf__max_depth=90, rf__bootstrap=True, total=   1.5s\n",
      "[CV] rf__n_estimators=240, rf__min_samples_split=10, rf__min_samples_leaf=4, rf__max_features=sqrt, rf__max_depth=90, rf__bootstrap=True \n"
     ]
    },
    {
     "name": "stderr",
     "output_type": "stream",
     "text": [
      "[Parallel(n_jobs=1)]: Using backend SequentialBackend with 1 concurrent workers.\n",
      "[Parallel(n_jobs=1)]: Done 240 out of 240 | elapsed:    0.9s finished\n",
      "[Parallel(n_jobs=1)]: Using backend SequentialBackend with 1 concurrent workers.\n",
      "[Parallel(n_jobs=1)]: Done 240 out of 240 | elapsed:    0.0s finished\n"
     ]
    },
    {
     "name": "stdout",
     "output_type": "stream",
     "text": [
      "[CV]  rf__n_estimators=240, rf__min_samples_split=10, rf__min_samples_leaf=4, rf__max_features=sqrt, rf__max_depth=90, rf__bootstrap=True, total=   1.5s\n",
      "[CV] rf__n_estimators=240, rf__min_samples_split=10, rf__min_samples_leaf=4, rf__max_features=sqrt, rf__max_depth=90, rf__bootstrap=True \n"
     ]
    },
    {
     "name": "stderr",
     "output_type": "stream",
     "text": [
      "[Parallel(n_jobs=1)]: Using backend SequentialBackend with 1 concurrent workers.\n",
      "[Parallel(n_jobs=1)]: Done 240 out of 240 | elapsed:    0.9s finished\n",
      "[Parallel(n_jobs=1)]: Using backend SequentialBackend with 1 concurrent workers.\n",
      "[Parallel(n_jobs=1)]: Done 240 out of 240 | elapsed:    0.0s finished\n"
     ]
    },
    {
     "name": "stdout",
     "output_type": "stream",
     "text": [
      "[CV]  rf__n_estimators=240, rf__min_samples_split=10, rf__min_samples_leaf=4, rf__max_features=sqrt, rf__max_depth=90, rf__bootstrap=True, total=   1.5s\n",
      "[CV] rf__n_estimators=240, rf__min_samples_split=10, rf__min_samples_leaf=4, rf__max_features=sqrt, rf__max_depth=90, rf__bootstrap=True \n"
     ]
    },
    {
     "name": "stderr",
     "output_type": "stream",
     "text": [
      "[Parallel(n_jobs=1)]: Using backend SequentialBackend with 1 concurrent workers.\n",
      "[Parallel(n_jobs=1)]: Done 240 out of 240 | elapsed:    0.8s finished\n",
      "[Parallel(n_jobs=1)]: Using backend SequentialBackend with 1 concurrent workers.\n",
      "[Parallel(n_jobs=1)]: Done 240 out of 240 | elapsed:    0.0s finished\n"
     ]
    },
    {
     "name": "stdout",
     "output_type": "stream",
     "text": [
      "[CV]  rf__n_estimators=240, rf__min_samples_split=10, rf__min_samples_leaf=4, rf__max_features=sqrt, rf__max_depth=90, rf__bootstrap=True, total=   1.5s\n",
      "[CV] rf__n_estimators=1000, rf__min_samples_split=2, rf__min_samples_leaf=4, rf__max_features=sqrt, rf__max_depth=35, rf__bootstrap=False \n"
     ]
    },
    {
     "name": "stderr",
     "output_type": "stream",
     "text": [
      "[Parallel(n_jobs=1)]: Using backend SequentialBackend with 1 concurrent workers.\n",
      "[Parallel(n_jobs=1)]: Done 1000 out of 1000 | elapsed:    5.4s finished\n",
      "[Parallel(n_jobs=1)]: Using backend SequentialBackend with 1 concurrent workers.\n",
      "[Parallel(n_jobs=1)]: Done 1000 out of 1000 | elapsed:    0.1s finished\n"
     ]
    },
    {
     "name": "stdout",
     "output_type": "stream",
     "text": [
      "[CV]  rf__n_estimators=1000, rf__min_samples_split=2, rf__min_samples_leaf=4, rf__max_features=sqrt, rf__max_depth=35, rf__bootstrap=False, total=   6.4s\n",
      "[CV] rf__n_estimators=1000, rf__min_samples_split=2, rf__min_samples_leaf=4, rf__max_features=sqrt, rf__max_depth=35, rf__bootstrap=False \n"
     ]
    },
    {
     "name": "stderr",
     "output_type": "stream",
     "text": [
      "[Parallel(n_jobs=1)]: Using backend SequentialBackend with 1 concurrent workers.\n",
      "[Parallel(n_jobs=1)]: Done 1000 out of 1000 | elapsed:    5.5s finished\n",
      "[Parallel(n_jobs=1)]: Using backend SequentialBackend with 1 concurrent workers.\n",
      "[Parallel(n_jobs=1)]: Done 1000 out of 1000 | elapsed:    0.1s finished\n"
     ]
    },
    {
     "name": "stdout",
     "output_type": "stream",
     "text": [
      "[CV]  rf__n_estimators=1000, rf__min_samples_split=2, rf__min_samples_leaf=4, rf__max_features=sqrt, rf__max_depth=35, rf__bootstrap=False, total=   6.7s\n",
      "[CV] rf__n_estimators=1000, rf__min_samples_split=2, rf__min_samples_leaf=4, rf__max_features=sqrt, rf__max_depth=35, rf__bootstrap=False \n"
     ]
    },
    {
     "name": "stderr",
     "output_type": "stream",
     "text": [
      "[Parallel(n_jobs=1)]: Using backend SequentialBackend with 1 concurrent workers.\n",
      "[Parallel(n_jobs=1)]: Done 1000 out of 1000 | elapsed:    5.7s finished\n",
      "[Parallel(n_jobs=1)]: Using backend SequentialBackend with 1 concurrent workers.\n",
      "[Parallel(n_jobs=1)]: Done 1000 out of 1000 | elapsed:    0.1s finished\n"
     ]
    },
    {
     "name": "stdout",
     "output_type": "stream",
     "text": [
      "[CV]  rf__n_estimators=1000, rf__min_samples_split=2, rf__min_samples_leaf=4, rf__max_features=sqrt, rf__max_depth=35, rf__bootstrap=False, total=   6.8s\n",
      "[CV] rf__n_estimators=1000, rf__min_samples_split=2, rf__min_samples_leaf=4, rf__max_features=sqrt, rf__max_depth=35, rf__bootstrap=False \n"
     ]
    },
    {
     "name": "stderr",
     "output_type": "stream",
     "text": [
      "[Parallel(n_jobs=1)]: Using backend SequentialBackend with 1 concurrent workers.\n",
      "[Parallel(n_jobs=1)]: Done 1000 out of 1000 | elapsed:    5.0s finished\n",
      "[Parallel(n_jobs=1)]: Using backend SequentialBackend with 1 concurrent workers.\n",
      "[Parallel(n_jobs=1)]: Done 1000 out of 1000 | elapsed:    0.1s finished\n"
     ]
    },
    {
     "name": "stdout",
     "output_type": "stream",
     "text": [
      "[CV]  rf__n_estimators=1000, rf__min_samples_split=2, rf__min_samples_leaf=4, rf__max_features=sqrt, rf__max_depth=35, rf__bootstrap=False, total=   6.3s\n",
      "[CV] rf__n_estimators=1000, rf__min_samples_split=2, rf__min_samples_leaf=4, rf__max_features=sqrt, rf__max_depth=35, rf__bootstrap=False \n"
     ]
    },
    {
     "name": "stderr",
     "output_type": "stream",
     "text": [
      "[Parallel(n_jobs=1)]: Using backend SequentialBackend with 1 concurrent workers.\n",
      "[Parallel(n_jobs=1)]: Done 1000 out of 1000 | elapsed:    4.8s finished\n",
      "[Parallel(n_jobs=1)]: Using backend SequentialBackend with 1 concurrent workers.\n",
      "[Parallel(n_jobs=1)]: Done 1000 out of 1000 | elapsed:    0.1s finished\n"
     ]
    },
    {
     "name": "stdout",
     "output_type": "stream",
     "text": [
      "[CV]  rf__n_estimators=1000, rf__min_samples_split=2, rf__min_samples_leaf=4, rf__max_features=sqrt, rf__max_depth=35, rf__bootstrap=False, total=   5.8s\n",
      "[CV] rf__n_estimators=458, rf__min_samples_split=10, rf__min_samples_leaf=2, rf__max_features=sqrt, rf__max_depth=45, rf__bootstrap=True \n"
     ]
    },
    {
     "name": "stderr",
     "output_type": "stream",
     "text": [
      "[Parallel(n_jobs=1)]: Using backend SequentialBackend with 1 concurrent workers.\n",
      "[Parallel(n_jobs=1)]: Done 458 out of 458 | elapsed:    2.1s finished\n",
      "[Parallel(n_jobs=1)]: Using backend SequentialBackend with 1 concurrent workers.\n",
      "[Parallel(n_jobs=1)]: Done 458 out of 458 | elapsed:    0.0s finished\n"
     ]
    },
    {
     "name": "stdout",
     "output_type": "stream",
     "text": [
      "[CV]  rf__n_estimators=458, rf__min_samples_split=10, rf__min_samples_leaf=2, rf__max_features=sqrt, rf__max_depth=45, rf__bootstrap=True, total=   3.0s\n",
      "[CV] rf__n_estimators=458, rf__min_samples_split=10, rf__min_samples_leaf=2, rf__max_features=sqrt, rf__max_depth=45, rf__bootstrap=True \n"
     ]
    },
    {
     "name": "stderr",
     "output_type": "stream",
     "text": [
      "[Parallel(n_jobs=1)]: Using backend SequentialBackend with 1 concurrent workers.\n",
      "[Parallel(n_jobs=1)]: Done 458 out of 458 | elapsed:    2.5s finished\n",
      "[Parallel(n_jobs=1)]: Using backend SequentialBackend with 1 concurrent workers.\n",
      "[Parallel(n_jobs=1)]: Done 458 out of 458 | elapsed:    0.0s finished\n"
     ]
    },
    {
     "name": "stdout",
     "output_type": "stream",
     "text": [
      "[CV]  rf__n_estimators=458, rf__min_samples_split=10, rf__min_samples_leaf=2, rf__max_features=sqrt, rf__max_depth=45, rf__bootstrap=True, total=   3.5s\n",
      "[CV] rf__n_estimators=458, rf__min_samples_split=10, rf__min_samples_leaf=2, rf__max_features=sqrt, rf__max_depth=45, rf__bootstrap=True \n"
     ]
    },
    {
     "name": "stderr",
     "output_type": "stream",
     "text": [
      "[Parallel(n_jobs=1)]: Using backend SequentialBackend with 1 concurrent workers.\n",
      "[Parallel(n_jobs=1)]: Done 458 out of 458 | elapsed:    1.9s finished\n",
      "[Parallel(n_jobs=1)]: Using backend SequentialBackend with 1 concurrent workers.\n",
      "[Parallel(n_jobs=1)]: Done 458 out of 458 | elapsed:    0.0s finished\n"
     ]
    },
    {
     "name": "stdout",
     "output_type": "stream",
     "text": [
      "[CV]  rf__n_estimators=458, rf__min_samples_split=10, rf__min_samples_leaf=2, rf__max_features=sqrt, rf__max_depth=45, rf__bootstrap=True, total=   2.8s\n",
      "[CV] rf__n_estimators=458, rf__min_samples_split=10, rf__min_samples_leaf=2, rf__max_features=sqrt, rf__max_depth=45, rf__bootstrap=True \n"
     ]
    },
    {
     "name": "stderr",
     "output_type": "stream",
     "text": [
      "[Parallel(n_jobs=1)]: Using backend SequentialBackend with 1 concurrent workers.\n",
      "[Parallel(n_jobs=1)]: Done 458 out of 458 | elapsed:    2.1s finished\n",
      "[Parallel(n_jobs=1)]: Using backend SequentialBackend with 1 concurrent workers.\n",
      "[Parallel(n_jobs=1)]: Done 458 out of 458 | elapsed:    0.0s finished\n"
     ]
    },
    {
     "name": "stdout",
     "output_type": "stream",
     "text": [
      "[CV]  rf__n_estimators=458, rf__min_samples_split=10, rf__min_samples_leaf=2, rf__max_features=sqrt, rf__max_depth=45, rf__bootstrap=True, total=   3.1s\n",
      "[CV] rf__n_estimators=458, rf__min_samples_split=10, rf__min_samples_leaf=2, rf__max_features=sqrt, rf__max_depth=45, rf__bootstrap=True \n"
     ]
    },
    {
     "name": "stderr",
     "output_type": "stream",
     "text": [
      "[Parallel(n_jobs=1)]: Using backend SequentialBackend with 1 concurrent workers.\n",
      "[Parallel(n_jobs=1)]: Done 458 out of 458 | elapsed:    2.5s finished\n",
      "[Parallel(n_jobs=1)]: Using backend SequentialBackend with 1 concurrent workers.\n",
      "[Parallel(n_jobs=1)]: Done 458 out of 458 | elapsed:    0.0s finished\n"
     ]
    },
    {
     "name": "stdout",
     "output_type": "stream",
     "text": [
      "[CV]  rf__n_estimators=458, rf__min_samples_split=10, rf__min_samples_leaf=2, rf__max_features=sqrt, rf__max_depth=45, rf__bootstrap=True, total=   3.2s\n",
      "[CV] rf__n_estimators=717, rf__min_samples_split=10, rf__min_samples_leaf=1, rf__max_features=auto, rf__max_depth=85, rf__bootstrap=False \n"
     ]
    },
    {
     "name": "stderr",
     "output_type": "stream",
     "text": [
      "[Parallel(n_jobs=1)]: Using backend SequentialBackend with 1 concurrent workers.\n",
      "[Parallel(n_jobs=1)]: Done 717 out of 717 | elapsed:    4.6s finished\n",
      "[Parallel(n_jobs=1)]: Using backend SequentialBackend with 1 concurrent workers.\n",
      "[Parallel(n_jobs=1)]: Done 717 out of 717 | elapsed:    0.1s finished\n"
     ]
    },
    {
     "name": "stdout",
     "output_type": "stream",
     "text": [
      "[CV]  rf__n_estimators=717, rf__min_samples_split=10, rf__min_samples_leaf=1, rf__max_features=auto, rf__max_depth=85, rf__bootstrap=False, total=   5.7s\n",
      "[CV] rf__n_estimators=717, rf__min_samples_split=10, rf__min_samples_leaf=1, rf__max_features=auto, rf__max_depth=85, rf__bootstrap=False \n"
     ]
    },
    {
     "name": "stderr",
     "output_type": "stream",
     "text": [
      "[Parallel(n_jobs=1)]: Using backend SequentialBackend with 1 concurrent workers.\n",
      "[Parallel(n_jobs=1)]: Done 717 out of 717 | elapsed:    4.7s finished\n",
      "[Parallel(n_jobs=1)]: Using backend SequentialBackend with 1 concurrent workers.\n",
      "[Parallel(n_jobs=1)]: Done 717 out of 717 | elapsed:    0.1s finished\n"
     ]
    },
    {
     "name": "stdout",
     "output_type": "stream",
     "text": [
      "[CV]  rf__n_estimators=717, rf__min_samples_split=10, rf__min_samples_leaf=1, rf__max_features=auto, rf__max_depth=85, rf__bootstrap=False, total=   5.6s\n",
      "[CV] rf__n_estimators=717, rf__min_samples_split=10, rf__min_samples_leaf=1, rf__max_features=auto, rf__max_depth=85, rf__bootstrap=False \n"
     ]
    },
    {
     "name": "stderr",
     "output_type": "stream",
     "text": [
      "[Parallel(n_jobs=1)]: Using backend SequentialBackend with 1 concurrent workers.\n",
      "[Parallel(n_jobs=1)]: Done 717 out of 717 | elapsed:    4.4s finished\n",
      "[Parallel(n_jobs=1)]: Using backend SequentialBackend with 1 concurrent workers.\n",
      "[Parallel(n_jobs=1)]: Done 717 out of 717 | elapsed:    0.1s finished\n"
     ]
    },
    {
     "name": "stdout",
     "output_type": "stream",
     "text": [
      "[CV]  rf__n_estimators=717, rf__min_samples_split=10, rf__min_samples_leaf=1, rf__max_features=auto, rf__max_depth=85, rf__bootstrap=False, total=   5.6s\n",
      "[CV] rf__n_estimators=717, rf__min_samples_split=10, rf__min_samples_leaf=1, rf__max_features=auto, rf__max_depth=85, rf__bootstrap=False \n"
     ]
    },
    {
     "name": "stderr",
     "output_type": "stream",
     "text": [
      "[Parallel(n_jobs=1)]: Using backend SequentialBackend with 1 concurrent workers.\n",
      "[Parallel(n_jobs=1)]: Done 717 out of 717 | elapsed:    4.4s finished\n",
      "[Parallel(n_jobs=1)]: Using backend SequentialBackend with 1 concurrent workers.\n",
      "[Parallel(n_jobs=1)]: Done 717 out of 717 | elapsed:    0.1s finished\n"
     ]
    },
    {
     "name": "stdout",
     "output_type": "stream",
     "text": [
      "[CV]  rf__n_estimators=717, rf__min_samples_split=10, rf__min_samples_leaf=1, rf__max_features=auto, rf__max_depth=85, rf__bootstrap=False, total=   5.3s\n",
      "[CV] rf__n_estimators=717, rf__min_samples_split=10, rf__min_samples_leaf=1, rf__max_features=auto, rf__max_depth=85, rf__bootstrap=False \n"
     ]
    },
    {
     "name": "stderr",
     "output_type": "stream",
     "text": [
      "[Parallel(n_jobs=1)]: Using backend SequentialBackend with 1 concurrent workers.\n",
      "[Parallel(n_jobs=1)]: Done 717 out of 717 | elapsed:    4.1s finished\n",
      "[Parallel(n_jobs=1)]: Using backend SequentialBackend with 1 concurrent workers.\n",
      "[Parallel(n_jobs=1)]: Done 717 out of 717 | elapsed:    0.1s finished\n"
     ]
    },
    {
     "name": "stdout",
     "output_type": "stream",
     "text": [
      "[CV]  rf__n_estimators=717, rf__min_samples_split=10, rf__min_samples_leaf=1, rf__max_features=auto, rf__max_depth=85, rf__bootstrap=False, total=   5.0s\n",
      "[CV] rf__n_estimators=595, rf__min_samples_split=5, rf__min_samples_leaf=2, rf__max_features=sqrt, rf__max_depth=50, rf__bootstrap=True \n"
     ]
    },
    {
     "name": "stderr",
     "output_type": "stream",
     "text": [
      "[Parallel(n_jobs=1)]: Using backend SequentialBackend with 1 concurrent workers.\n",
      "[Parallel(n_jobs=1)]: Done 595 out of 595 | elapsed:    4.1s finished\n",
      "[Parallel(n_jobs=1)]: Using backend SequentialBackend with 1 concurrent workers.\n",
      "[Parallel(n_jobs=1)]: Done 595 out of 595 | elapsed:    0.1s finished\n"
     ]
    },
    {
     "name": "stdout",
     "output_type": "stream",
     "text": [
      "[CV]  rf__n_estimators=595, rf__min_samples_split=5, rf__min_samples_leaf=2, rf__max_features=sqrt, rf__max_depth=50, rf__bootstrap=True, total=   5.7s\n",
      "[CV] rf__n_estimators=595, rf__min_samples_split=5, rf__min_samples_leaf=2, rf__max_features=sqrt, rf__max_depth=50, rf__bootstrap=True \n"
     ]
    },
    {
     "name": "stderr",
     "output_type": "stream",
     "text": [
      "[Parallel(n_jobs=1)]: Using backend SequentialBackend with 1 concurrent workers.\n",
      "[Parallel(n_jobs=1)]: Done 595 out of 595 | elapsed:    2.8s finished\n",
      "[Parallel(n_jobs=1)]: Using backend SequentialBackend with 1 concurrent workers.\n",
      "[Parallel(n_jobs=1)]: Done 595 out of 595 | elapsed:    0.1s finished\n"
     ]
    },
    {
     "name": "stdout",
     "output_type": "stream",
     "text": [
      "[CV]  rf__n_estimators=595, rf__min_samples_split=5, rf__min_samples_leaf=2, rf__max_features=sqrt, rf__max_depth=50, rf__bootstrap=True, total=   3.6s\n",
      "[CV] rf__n_estimators=595, rf__min_samples_split=5, rf__min_samples_leaf=2, rf__max_features=sqrt, rf__max_depth=50, rf__bootstrap=True \n"
     ]
    },
    {
     "name": "stderr",
     "output_type": "stream",
     "text": [
      "[Parallel(n_jobs=1)]: Using backend SequentialBackend with 1 concurrent workers.\n",
      "[Parallel(n_jobs=1)]: Done 595 out of 595 | elapsed:    3.0s finished\n",
      "[Parallel(n_jobs=1)]: Using backend SequentialBackend with 1 concurrent workers.\n",
      "[Parallel(n_jobs=1)]: Done 595 out of 595 | elapsed:    0.1s finished\n"
     ]
    },
    {
     "name": "stdout",
     "output_type": "stream",
     "text": [
      "[CV]  rf__n_estimators=595, rf__min_samples_split=5, rf__min_samples_leaf=2, rf__max_features=sqrt, rf__max_depth=50, rf__bootstrap=True, total=   3.9s\n",
      "[CV] rf__n_estimators=595, rf__min_samples_split=5, rf__min_samples_leaf=2, rf__max_features=sqrt, rf__max_depth=50, rf__bootstrap=True \n"
     ]
    },
    {
     "name": "stderr",
     "output_type": "stream",
     "text": [
      "[Parallel(n_jobs=1)]: Using backend SequentialBackend with 1 concurrent workers.\n",
      "[Parallel(n_jobs=1)]: Done 595 out of 595 | elapsed:    3.4s finished\n",
      "[Parallel(n_jobs=1)]: Using backend SequentialBackend with 1 concurrent workers.\n",
      "[Parallel(n_jobs=1)]: Done 595 out of 595 | elapsed:    0.1s finished\n"
     ]
    },
    {
     "name": "stdout",
     "output_type": "stream",
     "text": [
      "[CV]  rf__n_estimators=595, rf__min_samples_split=5, rf__min_samples_leaf=2, rf__max_features=sqrt, rf__max_depth=50, rf__bootstrap=True, total=   4.2s\n",
      "[CV] rf__n_estimators=595, rf__min_samples_split=5, rf__min_samples_leaf=2, rf__max_features=sqrt, rf__max_depth=50, rf__bootstrap=True \n"
     ]
    },
    {
     "name": "stderr",
     "output_type": "stream",
     "text": [
      "[Parallel(n_jobs=1)]: Using backend SequentialBackend with 1 concurrent workers.\n",
      "[Parallel(n_jobs=1)]: Done 595 out of 595 | elapsed:    3.3s finished\n",
      "[Parallel(n_jobs=1)]: Using backend SequentialBackend with 1 concurrent workers.\n",
      "[Parallel(n_jobs=1)]: Done 595 out of 595 | elapsed:    0.1s finished\n"
     ]
    },
    {
     "name": "stdout",
     "output_type": "stream",
     "text": [
      "[CV]  rf__n_estimators=595, rf__min_samples_split=5, rf__min_samples_leaf=2, rf__max_features=sqrt, rf__max_depth=50, rf__bootstrap=True, total=   4.1s\n",
      "[CV] rf__n_estimators=967, rf__min_samples_split=10, rf__min_samples_leaf=4, rf__max_features=sqrt, rf__max_depth=70, rf__bootstrap=True \n"
     ]
    },
    {
     "name": "stderr",
     "output_type": "stream",
     "text": [
      "[Parallel(n_jobs=1)]: Using backend SequentialBackend with 1 concurrent workers.\n",
      "[Parallel(n_jobs=1)]: Done 967 out of 967 | elapsed:    3.5s finished\n",
      "[Parallel(n_jobs=1)]: Using backend SequentialBackend with 1 concurrent workers.\n",
      "[Parallel(n_jobs=1)]: Done 967 out of 967 | elapsed:    0.1s finished\n"
     ]
    },
    {
     "name": "stdout",
     "output_type": "stream",
     "text": [
      "[CV]  rf__n_estimators=967, rf__min_samples_split=10, rf__min_samples_leaf=4, rf__max_features=sqrt, rf__max_depth=70, rf__bootstrap=True, total=   4.5s\n",
      "[CV] rf__n_estimators=967, rf__min_samples_split=10, rf__min_samples_leaf=4, rf__max_features=sqrt, rf__max_depth=70, rf__bootstrap=True \n"
     ]
    },
    {
     "name": "stderr",
     "output_type": "stream",
     "text": [
      "[Parallel(n_jobs=1)]: Using backend SequentialBackend with 1 concurrent workers.\n",
      "[Parallel(n_jobs=1)]: Done 967 out of 967 | elapsed:    3.4s finished\n",
      "[Parallel(n_jobs=1)]: Using backend SequentialBackend with 1 concurrent workers.\n",
      "[Parallel(n_jobs=1)]: Done 967 out of 967 | elapsed:    0.1s finished\n"
     ]
    },
    {
     "name": "stdout",
     "output_type": "stream",
     "text": [
      "[CV]  rf__n_estimators=967, rf__min_samples_split=10, rf__min_samples_leaf=4, rf__max_features=sqrt, rf__max_depth=70, rf__bootstrap=True, total=   4.4s\n",
      "[CV] rf__n_estimators=967, rf__min_samples_split=10, rf__min_samples_leaf=4, rf__max_features=sqrt, rf__max_depth=70, rf__bootstrap=True \n"
     ]
    },
    {
     "name": "stderr",
     "output_type": "stream",
     "text": [
      "[Parallel(n_jobs=1)]: Using backend SequentialBackend with 1 concurrent workers.\n",
      "[Parallel(n_jobs=1)]: Done 967 out of 967 | elapsed:    3.4s finished\n",
      "[Parallel(n_jobs=1)]: Using backend SequentialBackend with 1 concurrent workers.\n",
      "[Parallel(n_jobs=1)]: Done 967 out of 967 | elapsed:    0.1s finished\n"
     ]
    },
    {
     "name": "stdout",
     "output_type": "stream",
     "text": [
      "[CV]  rf__n_estimators=967, rf__min_samples_split=10, rf__min_samples_leaf=4, rf__max_features=sqrt, rf__max_depth=70, rf__bootstrap=True, total=   4.4s\n",
      "[CV] rf__n_estimators=967, rf__min_samples_split=10, rf__min_samples_leaf=4, rf__max_features=sqrt, rf__max_depth=70, rf__bootstrap=True \n"
     ]
    },
    {
     "name": "stderr",
     "output_type": "stream",
     "text": [
      "[Parallel(n_jobs=1)]: Using backend SequentialBackend with 1 concurrent workers.\n",
      "[Parallel(n_jobs=1)]: Done 967 out of 967 | elapsed:    4.2s finished\n",
      "[Parallel(n_jobs=1)]: Using backend SequentialBackend with 1 concurrent workers.\n",
      "[Parallel(n_jobs=1)]: Done 967 out of 967 | elapsed:    0.1s finished\n"
     ]
    },
    {
     "name": "stdout",
     "output_type": "stream",
     "text": [
      "[CV]  rf__n_estimators=967, rf__min_samples_split=10, rf__min_samples_leaf=4, rf__max_features=sqrt, rf__max_depth=70, rf__bootstrap=True, total=   5.2s\n",
      "[CV] rf__n_estimators=967, rf__min_samples_split=10, rf__min_samples_leaf=4, rf__max_features=sqrt, rf__max_depth=70, rf__bootstrap=True \n"
     ]
    },
    {
     "name": "stderr",
     "output_type": "stream",
     "text": [
      "[Parallel(n_jobs=1)]: Using backend SequentialBackend with 1 concurrent workers.\n",
      "[Parallel(n_jobs=1)]: Done 967 out of 967 | elapsed:    3.4s finished\n",
      "[Parallel(n_jobs=1)]: Using backend SequentialBackend with 1 concurrent workers.\n",
      "[Parallel(n_jobs=1)]: Done 967 out of 967 | elapsed:    0.1s finished\n"
     ]
    },
    {
     "name": "stdout",
     "output_type": "stream",
     "text": [
      "[CV]  rf__n_estimators=967, rf__min_samples_split=10, rf__min_samples_leaf=4, rf__max_features=sqrt, rf__max_depth=70, rf__bootstrap=True, total=   4.4s\n",
      "[CV] rf__n_estimators=571, rf__min_samples_split=10, rf__min_samples_leaf=1, rf__max_features=auto, rf__max_depth=35, rf__bootstrap=False \n"
     ]
    },
    {
     "name": "stderr",
     "output_type": "stream",
     "text": [
      "[Parallel(n_jobs=1)]: Using backend SequentialBackend with 1 concurrent workers.\n",
      "[Parallel(n_jobs=1)]: Done 571 out of 571 | elapsed:    3.2s finished\n",
      "[Parallel(n_jobs=1)]: Using backend SequentialBackend with 1 concurrent workers.\n",
      "[Parallel(n_jobs=1)]: Done 571 out of 571 | elapsed:    0.1s finished\n"
     ]
    },
    {
     "name": "stdout",
     "output_type": "stream",
     "text": [
      "[CV]  rf__n_estimators=571, rf__min_samples_split=10, rf__min_samples_leaf=1, rf__max_features=auto, rf__max_depth=35, rf__bootstrap=False, total=   4.0s\n",
      "[CV] rf__n_estimators=571, rf__min_samples_split=10, rf__min_samples_leaf=1, rf__max_features=auto, rf__max_depth=35, rf__bootstrap=False \n"
     ]
    },
    {
     "name": "stderr",
     "output_type": "stream",
     "text": [
      "[Parallel(n_jobs=1)]: Using backend SequentialBackend with 1 concurrent workers.\n",
      "[Parallel(n_jobs=1)]: Done 571 out of 571 | elapsed:    4.6s finished\n",
      "[Parallel(n_jobs=1)]: Using backend SequentialBackend with 1 concurrent workers.\n",
      "[Parallel(n_jobs=1)]: Done 571 out of 571 | elapsed:    0.1s finished\n"
     ]
    },
    {
     "name": "stdout",
     "output_type": "stream",
     "text": [
      "[CV]  rf__n_estimators=571, rf__min_samples_split=10, rf__min_samples_leaf=1, rf__max_features=auto, rf__max_depth=35, rf__bootstrap=False, total=   5.5s\n",
      "[CV] rf__n_estimators=571, rf__min_samples_split=10, rf__min_samples_leaf=1, rf__max_features=auto, rf__max_depth=35, rf__bootstrap=False \n"
     ]
    },
    {
     "name": "stderr",
     "output_type": "stream",
     "text": [
      "[Parallel(n_jobs=1)]: Using backend SequentialBackend with 1 concurrent workers.\n",
      "[Parallel(n_jobs=1)]: Done 571 out of 571 | elapsed:    4.4s finished\n",
      "[Parallel(n_jobs=1)]: Using backend SequentialBackend with 1 concurrent workers.\n",
      "[Parallel(n_jobs=1)]: Done 571 out of 571 | elapsed:    0.1s finished\n"
     ]
    },
    {
     "name": "stdout",
     "output_type": "stream",
     "text": [
      "[CV]  rf__n_estimators=571, rf__min_samples_split=10, rf__min_samples_leaf=1, rf__max_features=auto, rf__max_depth=35, rf__bootstrap=False, total=   5.5s\n",
      "[CV] rf__n_estimators=571, rf__min_samples_split=10, rf__min_samples_leaf=1, rf__max_features=auto, rf__max_depth=35, rf__bootstrap=False \n"
     ]
    },
    {
     "name": "stderr",
     "output_type": "stream",
     "text": [
      "[Parallel(n_jobs=1)]: Using backend SequentialBackend with 1 concurrent workers.\n",
      "[Parallel(n_jobs=1)]: Done 571 out of 571 | elapsed:    4.8s finished\n",
      "[Parallel(n_jobs=1)]: Using backend SequentialBackend with 1 concurrent workers.\n",
      "[Parallel(n_jobs=1)]: Done 571 out of 571 | elapsed:    0.1s finished\n"
     ]
    },
    {
     "name": "stdout",
     "output_type": "stream",
     "text": [
      "[CV]  rf__n_estimators=571, rf__min_samples_split=10, rf__min_samples_leaf=1, rf__max_features=auto, rf__max_depth=35, rf__bootstrap=False, total=   6.1s\n",
      "[CV] rf__n_estimators=571, rf__min_samples_split=10, rf__min_samples_leaf=1, rf__max_features=auto, rf__max_depth=35, rf__bootstrap=False \n"
     ]
    },
    {
     "name": "stderr",
     "output_type": "stream",
     "text": [
      "[Parallel(n_jobs=1)]: Using backend SequentialBackend with 1 concurrent workers.\n",
      "[Parallel(n_jobs=1)]: Done 571 out of 571 | elapsed:    3.4s finished\n",
      "[Parallel(n_jobs=1)]: Using backend SequentialBackend with 1 concurrent workers.\n",
      "[Parallel(n_jobs=1)]: Done 571 out of 571 | elapsed:    0.1s finished\n"
     ]
    },
    {
     "name": "stdout",
     "output_type": "stream",
     "text": [
      "[CV]  rf__n_estimators=571, rf__min_samples_split=10, rf__min_samples_leaf=1, rf__max_features=auto, rf__max_depth=35, rf__bootstrap=False, total=   4.3s\n",
      "[CV] rf__n_estimators=943, rf__min_samples_split=5, rf__min_samples_leaf=1, rf__max_features=auto, rf__max_depth=35, rf__bootstrap=True \n"
     ]
    },
    {
     "name": "stderr",
     "output_type": "stream",
     "text": [
      "[Parallel(n_jobs=1)]: Using backend SequentialBackend with 1 concurrent workers.\n",
      "[Parallel(n_jobs=1)]: Done 943 out of 943 | elapsed:    7.6s finished\n",
      "[Parallel(n_jobs=1)]: Using backend SequentialBackend with 1 concurrent workers.\n",
      "[Parallel(n_jobs=1)]: Done 943 out of 943 | elapsed:    0.2s finished\n"
     ]
    },
    {
     "name": "stdout",
     "output_type": "stream",
     "text": [
      "[CV]  rf__n_estimators=943, rf__min_samples_split=5, rf__min_samples_leaf=1, rf__max_features=auto, rf__max_depth=35, rf__bootstrap=True, total=   8.7s\n",
      "[CV] rf__n_estimators=943, rf__min_samples_split=5, rf__min_samples_leaf=1, rf__max_features=auto, rf__max_depth=35, rf__bootstrap=True \n"
     ]
    },
    {
     "name": "stderr",
     "output_type": "stream",
     "text": [
      "[Parallel(n_jobs=1)]: Using backend SequentialBackend with 1 concurrent workers.\n",
      "[Parallel(n_jobs=1)]: Done 943 out of 943 | elapsed:    5.4s finished\n",
      "[Parallel(n_jobs=1)]: Using backend SequentialBackend with 1 concurrent workers.\n",
      "[Parallel(n_jobs=1)]: Done 943 out of 943 | elapsed:    0.1s finished\n"
     ]
    },
    {
     "name": "stdout",
     "output_type": "stream",
     "text": [
      "[CV]  rf__n_estimators=943, rf__min_samples_split=5, rf__min_samples_leaf=1, rf__max_features=auto, rf__max_depth=35, rf__bootstrap=True, total=   7.1s\n",
      "[CV] rf__n_estimators=943, rf__min_samples_split=5, rf__min_samples_leaf=1, rf__max_features=auto, rf__max_depth=35, rf__bootstrap=True \n"
     ]
    },
    {
     "name": "stderr",
     "output_type": "stream",
     "text": [
      "[Parallel(n_jobs=1)]: Using backend SequentialBackend with 1 concurrent workers.\n",
      "[Parallel(n_jobs=1)]: Done 943 out of 943 | elapsed:    4.7s finished\n",
      "[Parallel(n_jobs=1)]: Using backend SequentialBackend with 1 concurrent workers.\n",
      "[Parallel(n_jobs=1)]: Done 943 out of 943 | elapsed:    0.1s finished\n"
     ]
    },
    {
     "name": "stdout",
     "output_type": "stream",
     "text": [
      "[CV]  rf__n_estimators=943, rf__min_samples_split=5, rf__min_samples_leaf=1, rf__max_features=auto, rf__max_depth=35, rf__bootstrap=True, total=   5.7s\n",
      "[CV] rf__n_estimators=943, rf__min_samples_split=5, rf__min_samples_leaf=1, rf__max_features=auto, rf__max_depth=35, rf__bootstrap=True \n"
     ]
    },
    {
     "name": "stderr",
     "output_type": "stream",
     "text": [
      "[Parallel(n_jobs=1)]: Using backend SequentialBackend with 1 concurrent workers.\n",
      "[Parallel(n_jobs=1)]: Done 943 out of 943 | elapsed:    4.6s finished\n",
      "[Parallel(n_jobs=1)]: Using backend SequentialBackend with 1 concurrent workers.\n",
      "[Parallel(n_jobs=1)]: Done 943 out of 943 | elapsed:    0.1s finished\n"
     ]
    },
    {
     "name": "stdout",
     "output_type": "stream",
     "text": [
      "[CV]  rf__n_estimators=943, rf__min_samples_split=5, rf__min_samples_leaf=1, rf__max_features=auto, rf__max_depth=35, rf__bootstrap=True, total=   5.6s\n",
      "[CV] rf__n_estimators=943, rf__min_samples_split=5, rf__min_samples_leaf=1, rf__max_features=auto, rf__max_depth=35, rf__bootstrap=True \n"
     ]
    },
    {
     "name": "stderr",
     "output_type": "stream",
     "text": [
      "[Parallel(n_jobs=1)]: Using backend SequentialBackend with 1 concurrent workers.\n",
      "[Parallel(n_jobs=1)]: Done 943 out of 943 | elapsed:    4.6s finished\n",
      "[Parallel(n_jobs=1)]: Using backend SequentialBackend with 1 concurrent workers.\n",
      "[Parallel(n_jobs=1)]: Done 943 out of 943 | elapsed:    0.1s finished\n"
     ]
    },
    {
     "name": "stdout",
     "output_type": "stream",
     "text": [
      "[CV]  rf__n_estimators=943, rf__min_samples_split=5, rf__min_samples_leaf=1, rf__max_features=auto, rf__max_depth=35, rf__bootstrap=True, total=   5.5s\n",
      "[CV] rf__n_estimators=345, rf__min_samples_split=5, rf__min_samples_leaf=1, rf__max_features=sqrt, rf__max_depth=50, rf__bootstrap=True \n"
     ]
    },
    {
     "name": "stderr",
     "output_type": "stream",
     "text": [
      "[Parallel(n_jobs=1)]: Using backend SequentialBackend with 1 concurrent workers.\n",
      "[Parallel(n_jobs=1)]: Done 345 out of 345 | elapsed:    1.7s finished\n",
      "[Parallel(n_jobs=1)]: Using backend SequentialBackend with 1 concurrent workers.\n",
      "[Parallel(n_jobs=1)]: Done 345 out of 345 | elapsed:    0.0s finished\n"
     ]
    },
    {
     "name": "stdout",
     "output_type": "stream",
     "text": [
      "[CV]  rf__n_estimators=345, rf__min_samples_split=5, rf__min_samples_leaf=1, rf__max_features=sqrt, rf__max_depth=50, rf__bootstrap=True, total=   2.4s\n",
      "[CV] rf__n_estimators=345, rf__min_samples_split=5, rf__min_samples_leaf=1, rf__max_features=sqrt, rf__max_depth=50, rf__bootstrap=True \n"
     ]
    },
    {
     "name": "stderr",
     "output_type": "stream",
     "text": [
      "[Parallel(n_jobs=1)]: Using backend SequentialBackend with 1 concurrent workers.\n",
      "[Parallel(n_jobs=1)]: Done 345 out of 345 | elapsed:    1.7s finished\n",
      "[Parallel(n_jobs=1)]: Using backend SequentialBackend with 1 concurrent workers.\n",
      "[Parallel(n_jobs=1)]: Done 345 out of 345 | elapsed:    0.0s finished\n"
     ]
    },
    {
     "name": "stdout",
     "output_type": "stream",
     "text": [
      "[CV]  rf__n_estimators=345, rf__min_samples_split=5, rf__min_samples_leaf=1, rf__max_features=sqrt, rf__max_depth=50, rf__bootstrap=True, total=   2.4s\n",
      "[CV] rf__n_estimators=345, rf__min_samples_split=5, rf__min_samples_leaf=1, rf__max_features=sqrt, rf__max_depth=50, rf__bootstrap=True \n"
     ]
    },
    {
     "name": "stderr",
     "output_type": "stream",
     "text": [
      "[Parallel(n_jobs=1)]: Using backend SequentialBackend with 1 concurrent workers.\n",
      "[Parallel(n_jobs=1)]: Done 345 out of 345 | elapsed:    1.7s finished\n",
      "[Parallel(n_jobs=1)]: Using backend SequentialBackend with 1 concurrent workers.\n",
      "[Parallel(n_jobs=1)]: Done 345 out of 345 | elapsed:    0.0s finished\n"
     ]
    },
    {
     "name": "stdout",
     "output_type": "stream",
     "text": [
      "[CV]  rf__n_estimators=345, rf__min_samples_split=5, rf__min_samples_leaf=1, rf__max_features=sqrt, rf__max_depth=50, rf__bootstrap=True, total=   2.3s\n",
      "[CV] rf__n_estimators=345, rf__min_samples_split=5, rf__min_samples_leaf=1, rf__max_features=sqrt, rf__max_depth=50, rf__bootstrap=True \n"
     ]
    },
    {
     "name": "stderr",
     "output_type": "stream",
     "text": [
      "[Parallel(n_jobs=1)]: Using backend SequentialBackend with 1 concurrent workers.\n",
      "[Parallel(n_jobs=1)]: Done 345 out of 345 | elapsed:    1.7s finished\n",
      "[Parallel(n_jobs=1)]: Using backend SequentialBackend with 1 concurrent workers.\n",
      "[Parallel(n_jobs=1)]: Done 345 out of 345 | elapsed:    0.0s finished\n"
     ]
    },
    {
     "name": "stdout",
     "output_type": "stream",
     "text": [
      "[CV]  rf__n_estimators=345, rf__min_samples_split=5, rf__min_samples_leaf=1, rf__max_features=sqrt, rf__max_depth=50, rf__bootstrap=True, total=   2.4s\n",
      "[CV] rf__n_estimators=345, rf__min_samples_split=5, rf__min_samples_leaf=1, rf__max_features=sqrt, rf__max_depth=50, rf__bootstrap=True \n"
     ]
    },
    {
     "name": "stderr",
     "output_type": "stream",
     "text": [
      "[Parallel(n_jobs=1)]: Using backend SequentialBackend with 1 concurrent workers.\n",
      "[Parallel(n_jobs=1)]: Done 345 out of 345 | elapsed:    1.8s finished\n",
      "[Parallel(n_jobs=1)]: Using backend SequentialBackend with 1 concurrent workers.\n",
      "[Parallel(n_jobs=1)]: Done 345 out of 345 | elapsed:    0.0s finished\n"
     ]
    },
    {
     "name": "stdout",
     "output_type": "stream",
     "text": [
      "[CV]  rf__n_estimators=345, rf__min_samples_split=5, rf__min_samples_leaf=1, rf__max_features=sqrt, rf__max_depth=50, rf__bootstrap=True, total=   2.4s\n",
      "[CV] rf__n_estimators=482, rf__min_samples_split=10, rf__min_samples_leaf=1, rf__max_features=auto, rf__max_depth=30, rf__bootstrap=False \n"
     ]
    },
    {
     "name": "stderr",
     "output_type": "stream",
     "text": [
      "[Parallel(n_jobs=1)]: Using backend SequentialBackend with 1 concurrent workers.\n",
      "[Parallel(n_jobs=1)]: Done 482 out of 482 | elapsed:    2.7s finished\n",
      "[Parallel(n_jobs=1)]: Using backend SequentialBackend with 1 concurrent workers.\n",
      "[Parallel(n_jobs=1)]: Done 482 out of 482 | elapsed:    0.0s finished\n"
     ]
    },
    {
     "name": "stdout",
     "output_type": "stream",
     "text": [
      "[CV]  rf__n_estimators=482, rf__min_samples_split=10, rf__min_samples_leaf=1, rf__max_features=auto, rf__max_depth=30, rf__bootstrap=False, total=   3.4s\n",
      "[CV] rf__n_estimators=482, rf__min_samples_split=10, rf__min_samples_leaf=1, rf__max_features=auto, rf__max_depth=30, rf__bootstrap=False \n"
     ]
    },
    {
     "name": "stderr",
     "output_type": "stream",
     "text": [
      "[Parallel(n_jobs=1)]: Using backend SequentialBackend with 1 concurrent workers.\n",
      "[Parallel(n_jobs=1)]: Done 482 out of 482 | elapsed:    2.6s finished\n",
      "[Parallel(n_jobs=1)]: Using backend SequentialBackend with 1 concurrent workers.\n",
      "[Parallel(n_jobs=1)]: Done 482 out of 482 | elapsed:    0.0s finished\n"
     ]
    },
    {
     "name": "stdout",
     "output_type": "stream",
     "text": [
      "[CV]  rf__n_estimators=482, rf__min_samples_split=10, rf__min_samples_leaf=1, rf__max_features=auto, rf__max_depth=30, rf__bootstrap=False, total=   3.3s\n",
      "[CV] rf__n_estimators=482, rf__min_samples_split=10, rf__min_samples_leaf=1, rf__max_features=auto, rf__max_depth=30, rf__bootstrap=False \n"
     ]
    },
    {
     "name": "stderr",
     "output_type": "stream",
     "text": [
      "[Parallel(n_jobs=1)]: Using backend SequentialBackend with 1 concurrent workers.\n",
      "[Parallel(n_jobs=1)]: Done 482 out of 482 | elapsed:    2.9s finished\n",
      "[Parallel(n_jobs=1)]: Using backend SequentialBackend with 1 concurrent workers.\n",
      "[Parallel(n_jobs=1)]: Done 482 out of 482 | elapsed:    0.0s finished\n"
     ]
    },
    {
     "name": "stdout",
     "output_type": "stream",
     "text": [
      "[CV]  rf__n_estimators=482, rf__min_samples_split=10, rf__min_samples_leaf=1, rf__max_features=auto, rf__max_depth=30, rf__bootstrap=False, total=   3.7s\n",
      "[CV] rf__n_estimators=482, rf__min_samples_split=10, rf__min_samples_leaf=1, rf__max_features=auto, rf__max_depth=30, rf__bootstrap=False \n"
     ]
    },
    {
     "name": "stderr",
     "output_type": "stream",
     "text": [
      "[Parallel(n_jobs=1)]: Using backend SequentialBackend with 1 concurrent workers.\n",
      "[Parallel(n_jobs=1)]: Done 482 out of 482 | elapsed:    2.8s finished\n",
      "[Parallel(n_jobs=1)]: Using backend SequentialBackend with 1 concurrent workers.\n",
      "[Parallel(n_jobs=1)]: Done 482 out of 482 | elapsed:    0.1s finished\n"
     ]
    },
    {
     "name": "stdout",
     "output_type": "stream",
     "text": [
      "[CV]  rf__n_estimators=482, rf__min_samples_split=10, rf__min_samples_leaf=1, rf__max_features=auto, rf__max_depth=30, rf__bootstrap=False, total=   3.6s\n",
      "[CV] rf__n_estimators=482, rf__min_samples_split=10, rf__min_samples_leaf=1, rf__max_features=auto, rf__max_depth=30, rf__bootstrap=False \n"
     ]
    },
    {
     "name": "stderr",
     "output_type": "stream",
     "text": [
      "[Parallel(n_jobs=1)]: Using backend SequentialBackend with 1 concurrent workers.\n",
      "[Parallel(n_jobs=1)]: Done 482 out of 482 | elapsed:    2.9s finished\n",
      "[Parallel(n_jobs=1)]: Using backend SequentialBackend with 1 concurrent workers.\n",
      "[Parallel(n_jobs=1)]: Done 482 out of 482 | elapsed:    0.1s finished\n"
     ]
    },
    {
     "name": "stdout",
     "output_type": "stream",
     "text": [
      "[CV]  rf__n_estimators=482, rf__min_samples_split=10, rf__min_samples_leaf=1, rf__max_features=auto, rf__max_depth=30, rf__bootstrap=False, total=   3.7s\n",
      "[CV] rf__n_estimators=329, rf__min_samples_split=5, rf__min_samples_leaf=4, rf__max_features=auto, rf__max_depth=85, rf__bootstrap=False \n"
     ]
    },
    {
     "name": "stderr",
     "output_type": "stream",
     "text": [
      "[Parallel(n_jobs=1)]: Using backend SequentialBackend with 1 concurrent workers.\n",
      "[Parallel(n_jobs=1)]: Done 329 out of 329 | elapsed:    1.6s finished\n",
      "[Parallel(n_jobs=1)]: Using backend SequentialBackend with 1 concurrent workers.\n",
      "[Parallel(n_jobs=1)]: Done 329 out of 329 | elapsed:    0.0s finished\n"
     ]
    },
    {
     "name": "stdout",
     "output_type": "stream",
     "text": [
      "[CV]  rf__n_estimators=329, rf__min_samples_split=5, rf__min_samples_leaf=4, rf__max_features=auto, rf__max_depth=85, rf__bootstrap=False, total=   2.3s\n",
      "[CV] rf__n_estimators=329, rf__min_samples_split=5, rf__min_samples_leaf=4, rf__max_features=auto, rf__max_depth=85, rf__bootstrap=False \n"
     ]
    },
    {
     "name": "stderr",
     "output_type": "stream",
     "text": [
      "[Parallel(n_jobs=1)]: Using backend SequentialBackend with 1 concurrent workers.\n",
      "[Parallel(n_jobs=1)]: Done 329 out of 329 | elapsed:    1.7s finished\n",
      "[Parallel(n_jobs=1)]: Using backend SequentialBackend with 1 concurrent workers.\n",
      "[Parallel(n_jobs=1)]: Done 329 out of 329 | elapsed:    0.0s finished\n"
     ]
    },
    {
     "name": "stdout",
     "output_type": "stream",
     "text": [
      "[CV]  rf__n_estimators=329, rf__min_samples_split=5, rf__min_samples_leaf=4, rf__max_features=auto, rf__max_depth=85, rf__bootstrap=False, total=   2.3s\n",
      "[CV] rf__n_estimators=329, rf__min_samples_split=5, rf__min_samples_leaf=4, rf__max_features=auto, rf__max_depth=85, rf__bootstrap=False \n"
     ]
    },
    {
     "name": "stderr",
     "output_type": "stream",
     "text": [
      "[Parallel(n_jobs=1)]: Using backend SequentialBackend with 1 concurrent workers.\n",
      "[Parallel(n_jobs=1)]: Done 329 out of 329 | elapsed:    1.7s finished\n",
      "[Parallel(n_jobs=1)]: Using backend SequentialBackend with 1 concurrent workers.\n",
      "[Parallel(n_jobs=1)]: Done 329 out of 329 | elapsed:    0.0s finished\n"
     ]
    },
    {
     "name": "stdout",
     "output_type": "stream",
     "text": [
      "[CV]  rf__n_estimators=329, rf__min_samples_split=5, rf__min_samples_leaf=4, rf__max_features=auto, rf__max_depth=85, rf__bootstrap=False, total=   2.4s\n",
      "[CV] rf__n_estimators=329, rf__min_samples_split=5, rf__min_samples_leaf=4, rf__max_features=auto, rf__max_depth=85, rf__bootstrap=False \n"
     ]
    },
    {
     "name": "stderr",
     "output_type": "stream",
     "text": [
      "[Parallel(n_jobs=1)]: Using backend SequentialBackend with 1 concurrent workers.\n",
      "[Parallel(n_jobs=1)]: Done 329 out of 329 | elapsed:    1.7s finished\n",
      "[Parallel(n_jobs=1)]: Using backend SequentialBackend with 1 concurrent workers.\n",
      "[Parallel(n_jobs=1)]: Done 329 out of 329 | elapsed:    0.0s finished\n"
     ]
    },
    {
     "name": "stdout",
     "output_type": "stream",
     "text": [
      "[CV]  rf__n_estimators=329, rf__min_samples_split=5, rf__min_samples_leaf=4, rf__max_features=auto, rf__max_depth=85, rf__bootstrap=False, total=   2.3s\n",
      "[CV] rf__n_estimators=329, rf__min_samples_split=5, rf__min_samples_leaf=4, rf__max_features=auto, rf__max_depth=85, rf__bootstrap=False \n"
     ]
    },
    {
     "name": "stderr",
     "output_type": "stream",
     "text": [
      "[Parallel(n_jobs=1)]: Using backend SequentialBackend with 1 concurrent workers.\n",
      "[Parallel(n_jobs=1)]: Done 329 out of 329 | elapsed:    1.6s finished\n",
      "[Parallel(n_jobs=1)]: Using backend SequentialBackend with 1 concurrent workers.\n",
      "[Parallel(n_jobs=1)]: Done 329 out of 329 | elapsed:    0.0s finished\n"
     ]
    },
    {
     "name": "stdout",
     "output_type": "stream",
     "text": [
      "[CV]  rf__n_estimators=329, rf__min_samples_split=5, rf__min_samples_leaf=4, rf__max_features=auto, rf__max_depth=85, rf__bootstrap=False, total=   2.3s\n",
      "[CV] rf__n_estimators=781, rf__min_samples_split=10, rf__min_samples_leaf=2, rf__max_features=auto, rf__max_depth=40, rf__bootstrap=False \n"
     ]
    },
    {
     "name": "stderr",
     "output_type": "stream",
     "text": [
      "[Parallel(n_jobs=1)]: Using backend SequentialBackend with 1 concurrent workers.\n",
      "[Parallel(n_jobs=1)]: Done 781 out of 781 | elapsed:    4.5s finished\n",
      "[Parallel(n_jobs=1)]: Using backend SequentialBackend with 1 concurrent workers.\n",
      "[Parallel(n_jobs=1)]: Done 781 out of 781 | elapsed:    0.1s finished\n"
     ]
    },
    {
     "name": "stdout",
     "output_type": "stream",
     "text": [
      "[CV]  rf__n_estimators=781, rf__min_samples_split=10, rf__min_samples_leaf=2, rf__max_features=auto, rf__max_depth=40, rf__bootstrap=False, total=   5.4s\n",
      "[CV] rf__n_estimators=781, rf__min_samples_split=10, rf__min_samples_leaf=2, rf__max_features=auto, rf__max_depth=40, rf__bootstrap=False \n"
     ]
    },
    {
     "name": "stderr",
     "output_type": "stream",
     "text": [
      "[Parallel(n_jobs=1)]: Using backend SequentialBackend with 1 concurrent workers.\n",
      "[Parallel(n_jobs=1)]: Done 781 out of 781 | elapsed:    4.2s finished\n",
      "[Parallel(n_jobs=1)]: Using backend SequentialBackend with 1 concurrent workers.\n",
      "[Parallel(n_jobs=1)]: Done 781 out of 781 | elapsed:    0.1s finished\n"
     ]
    },
    {
     "name": "stdout",
     "output_type": "stream",
     "text": [
      "[CV]  rf__n_estimators=781, rf__min_samples_split=10, rf__min_samples_leaf=2, rf__max_features=auto, rf__max_depth=40, rf__bootstrap=False, total=   5.2s\n",
      "[CV] rf__n_estimators=781, rf__min_samples_split=10, rf__min_samples_leaf=2, rf__max_features=auto, rf__max_depth=40, rf__bootstrap=False \n"
     ]
    },
    {
     "name": "stderr",
     "output_type": "stream",
     "text": [
      "[Parallel(n_jobs=1)]: Using backend SequentialBackend with 1 concurrent workers.\n",
      "[Parallel(n_jobs=1)]: Done 781 out of 781 | elapsed:    4.3s finished\n",
      "[Parallel(n_jobs=1)]: Using backend SequentialBackend with 1 concurrent workers.\n",
      "[Parallel(n_jobs=1)]: Done 781 out of 781 | elapsed:    0.1s finished\n"
     ]
    },
    {
     "name": "stdout",
     "output_type": "stream",
     "text": [
      "[CV]  rf__n_estimators=781, rf__min_samples_split=10, rf__min_samples_leaf=2, rf__max_features=auto, rf__max_depth=40, rf__bootstrap=False, total=   5.2s\n",
      "[CV] rf__n_estimators=781, rf__min_samples_split=10, rf__min_samples_leaf=2, rf__max_features=auto, rf__max_depth=40, rf__bootstrap=False \n"
     ]
    },
    {
     "name": "stderr",
     "output_type": "stream",
     "text": [
      "[Parallel(n_jobs=1)]: Using backend SequentialBackend with 1 concurrent workers.\n",
      "[Parallel(n_jobs=1)]: Done 781 out of 781 | elapsed:    4.1s finished\n",
      "[Parallel(n_jobs=1)]: Using backend SequentialBackend with 1 concurrent workers.\n",
      "[Parallel(n_jobs=1)]: Done 781 out of 781 | elapsed:    0.1s finished\n"
     ]
    },
    {
     "name": "stdout",
     "output_type": "stream",
     "text": [
      "[CV]  rf__n_estimators=781, rf__min_samples_split=10, rf__min_samples_leaf=2, rf__max_features=auto, rf__max_depth=40, rf__bootstrap=False, total=   5.0s\n",
      "[CV] rf__n_estimators=781, rf__min_samples_split=10, rf__min_samples_leaf=2, rf__max_features=auto, rf__max_depth=40, rf__bootstrap=False \n"
     ]
    },
    {
     "name": "stderr",
     "output_type": "stream",
     "text": [
      "[Parallel(n_jobs=1)]: Using backend SequentialBackend with 1 concurrent workers.\n",
      "[Parallel(n_jobs=1)]: Done 781 out of 781 | elapsed:    4.1s finished\n",
      "[Parallel(n_jobs=1)]: Using backend SequentialBackend with 1 concurrent workers.\n",
      "[Parallel(n_jobs=1)]: Done 781 out of 781 | elapsed:    0.1s finished\n"
     ]
    },
    {
     "name": "stdout",
     "output_type": "stream",
     "text": [
      "[CV]  rf__n_estimators=781, rf__min_samples_split=10, rf__min_samples_leaf=2, rf__max_features=auto, rf__max_depth=40, rf__bootstrap=False, total=   5.0s\n",
      "[CV] rf__n_estimators=587, rf__min_samples_split=5, rf__min_samples_leaf=2, rf__max_features=sqrt, rf__max_depth=100, rf__bootstrap=False \n"
     ]
    },
    {
     "name": "stderr",
     "output_type": "stream",
     "text": [
      "[Parallel(n_jobs=1)]: Using backend SequentialBackend with 1 concurrent workers.\n",
      "[Parallel(n_jobs=1)]: Done 587 out of 587 | elapsed:    4.9s finished\n",
      "[Parallel(n_jobs=1)]: Using backend SequentialBackend with 1 concurrent workers.\n",
      "[Parallel(n_jobs=1)]: Done 587 out of 587 | elapsed:    0.1s finished\n"
     ]
    },
    {
     "name": "stdout",
     "output_type": "stream",
     "text": [
      "[CV]  rf__n_estimators=587, rf__min_samples_split=5, rf__min_samples_leaf=2, rf__max_features=sqrt, rf__max_depth=100, rf__bootstrap=False, total=   5.8s\n",
      "[CV] rf__n_estimators=587, rf__min_samples_split=5, rf__min_samples_leaf=2, rf__max_features=sqrt, rf__max_depth=100, rf__bootstrap=False \n"
     ]
    },
    {
     "name": "stderr",
     "output_type": "stream",
     "text": [
      "[Parallel(n_jobs=1)]: Using backend SequentialBackend with 1 concurrent workers.\n",
      "[Parallel(n_jobs=1)]: Done 587 out of 587 | elapsed:    3.8s finished\n",
      "[Parallel(n_jobs=1)]: Using backend SequentialBackend with 1 concurrent workers.\n",
      "[Parallel(n_jobs=1)]: Done 587 out of 587 | elapsed:    0.1s finished\n"
     ]
    },
    {
     "name": "stdout",
     "output_type": "stream",
     "text": [
      "[CV]  rf__n_estimators=587, rf__min_samples_split=5, rf__min_samples_leaf=2, rf__max_features=sqrt, rf__max_depth=100, rf__bootstrap=False, total=   4.7s\n",
      "[CV] rf__n_estimators=587, rf__min_samples_split=5, rf__min_samples_leaf=2, rf__max_features=sqrt, rf__max_depth=100, rf__bootstrap=False \n"
     ]
    },
    {
     "name": "stderr",
     "output_type": "stream",
     "text": [
      "[Parallel(n_jobs=1)]: Using backend SequentialBackend with 1 concurrent workers.\n",
      "[Parallel(n_jobs=1)]: Done 587 out of 587 | elapsed:    4.3s finished\n",
      "[Parallel(n_jobs=1)]: Using backend SequentialBackend with 1 concurrent workers.\n",
      "[Parallel(n_jobs=1)]: Done 587 out of 587 | elapsed:    0.1s finished\n"
     ]
    },
    {
     "name": "stdout",
     "output_type": "stream",
     "text": [
      "[CV]  rf__n_estimators=587, rf__min_samples_split=5, rf__min_samples_leaf=2, rf__max_features=sqrt, rf__max_depth=100, rf__bootstrap=False, total=   5.3s\n",
      "[CV] rf__n_estimators=587, rf__min_samples_split=5, rf__min_samples_leaf=2, rf__max_features=sqrt, rf__max_depth=100, rf__bootstrap=False \n"
     ]
    },
    {
     "name": "stderr",
     "output_type": "stream",
     "text": [
      "[Parallel(n_jobs=1)]: Using backend SequentialBackend with 1 concurrent workers.\n",
      "[Parallel(n_jobs=1)]: Done 587 out of 587 | elapsed:    5.4s finished\n",
      "[Parallel(n_jobs=1)]: Using backend SequentialBackend with 1 concurrent workers.\n",
      "[Parallel(n_jobs=1)]: Done 587 out of 587 | elapsed:    0.1s finished\n"
     ]
    },
    {
     "name": "stdout",
     "output_type": "stream",
     "text": [
      "[CV]  rf__n_estimators=587, rf__min_samples_split=5, rf__min_samples_leaf=2, rf__max_features=sqrt, rf__max_depth=100, rf__bootstrap=False, total=   6.3s\n",
      "[CV] rf__n_estimators=587, rf__min_samples_split=5, rf__min_samples_leaf=2, rf__max_features=sqrt, rf__max_depth=100, rf__bootstrap=False \n"
     ]
    },
    {
     "name": "stderr",
     "output_type": "stream",
     "text": [
      "[Parallel(n_jobs=1)]: Using backend SequentialBackend with 1 concurrent workers.\n",
      "[Parallel(n_jobs=1)]: Done 587 out of 587 | elapsed:    3.9s finished\n",
      "[Parallel(n_jobs=1)]: Using backend SequentialBackend with 1 concurrent workers.\n",
      "[Parallel(n_jobs=1)]: Done 587 out of 587 | elapsed:    0.1s finished\n"
     ]
    },
    {
     "name": "stdout",
     "output_type": "stream",
     "text": [
      "[CV]  rf__n_estimators=587, rf__min_samples_split=5, rf__min_samples_leaf=2, rf__max_features=sqrt, rf__max_depth=100, rf__bootstrap=False, total=   5.3s\n",
      "[CV] rf__n_estimators=636, rf__min_samples_split=5, rf__min_samples_leaf=1, rf__max_features=auto, rf__max_depth=95, rf__bootstrap=True \n"
     ]
    },
    {
     "name": "stderr",
     "output_type": "stream",
     "text": [
      "[Parallel(n_jobs=1)]: Using backend SequentialBackend with 1 concurrent workers.\n",
      "[Parallel(n_jobs=1)]: Done 636 out of 636 | elapsed:    3.4s finished\n",
      "[Parallel(n_jobs=1)]: Using backend SequentialBackend with 1 concurrent workers.\n",
      "[Parallel(n_jobs=1)]: Done 636 out of 636 | elapsed:    0.1s finished\n"
     ]
    },
    {
     "name": "stdout",
     "output_type": "stream",
     "text": [
      "[CV]  rf__n_estimators=636, rf__min_samples_split=5, rf__min_samples_leaf=1, rf__max_features=auto, rf__max_depth=95, rf__bootstrap=True, total=   4.2s\n",
      "[CV] rf__n_estimators=636, rf__min_samples_split=5, rf__min_samples_leaf=1, rf__max_features=auto, rf__max_depth=95, rf__bootstrap=True \n"
     ]
    },
    {
     "name": "stderr",
     "output_type": "stream",
     "text": [
      "[Parallel(n_jobs=1)]: Using backend SequentialBackend with 1 concurrent workers.\n",
      "[Parallel(n_jobs=1)]: Done 636 out of 636 | elapsed:    3.2s finished\n",
      "[Parallel(n_jobs=1)]: Using backend SequentialBackend with 1 concurrent workers.\n",
      "[Parallel(n_jobs=1)]: Done 636 out of 636 | elapsed:    0.1s finished\n"
     ]
    },
    {
     "name": "stdout",
     "output_type": "stream",
     "text": [
      "[CV]  rf__n_estimators=636, rf__min_samples_split=5, rf__min_samples_leaf=1, rf__max_features=auto, rf__max_depth=95, rf__bootstrap=True, total=   4.3s\n",
      "[CV] rf__n_estimators=636, rf__min_samples_split=5, rf__min_samples_leaf=1, rf__max_features=auto, rf__max_depth=95, rf__bootstrap=True \n"
     ]
    },
    {
     "name": "stderr",
     "output_type": "stream",
     "text": [
      "[Parallel(n_jobs=1)]: Using backend SequentialBackend with 1 concurrent workers.\n",
      "[Parallel(n_jobs=1)]: Done 636 out of 636 | elapsed:    5.3s finished\n",
      "[Parallel(n_jobs=1)]: Using backend SequentialBackend with 1 concurrent workers.\n",
      "[Parallel(n_jobs=1)]: Done 636 out of 636 | elapsed:    0.1s finished\n"
     ]
    },
    {
     "name": "stdout",
     "output_type": "stream",
     "text": [
      "[CV]  rf__n_estimators=636, rf__min_samples_split=5, rf__min_samples_leaf=1, rf__max_features=auto, rf__max_depth=95, rf__bootstrap=True, total=   7.2s\n",
      "[CV] rf__n_estimators=636, rf__min_samples_split=5, rf__min_samples_leaf=1, rf__max_features=auto, rf__max_depth=95, rf__bootstrap=True \n"
     ]
    },
    {
     "name": "stderr",
     "output_type": "stream",
     "text": [
      "[Parallel(n_jobs=1)]: Using backend SequentialBackend with 1 concurrent workers.\n",
      "[Parallel(n_jobs=1)]: Done 636 out of 636 | elapsed:    3.4s finished\n",
      "[Parallel(n_jobs=1)]: Using backend SequentialBackend with 1 concurrent workers.\n",
      "[Parallel(n_jobs=1)]: Done 636 out of 636 | elapsed:    0.1s finished\n"
     ]
    },
    {
     "name": "stdout",
     "output_type": "stream",
     "text": [
      "[CV]  rf__n_estimators=636, rf__min_samples_split=5, rf__min_samples_leaf=1, rf__max_features=auto, rf__max_depth=95, rf__bootstrap=True, total=   4.3s\n",
      "[CV] rf__n_estimators=636, rf__min_samples_split=5, rf__min_samples_leaf=1, rf__max_features=auto, rf__max_depth=95, rf__bootstrap=True \n"
     ]
    },
    {
     "name": "stderr",
     "output_type": "stream",
     "text": [
      "[Parallel(n_jobs=1)]: Using backend SequentialBackend with 1 concurrent workers.\n",
      "[Parallel(n_jobs=1)]: Done 636 out of 636 | elapsed:    3.5s finished\n",
      "[Parallel(n_jobs=1)]: Using backend SequentialBackend with 1 concurrent workers.\n",
      "[Parallel(n_jobs=1)]: Done 636 out of 636 | elapsed:    0.1s finished\n"
     ]
    },
    {
     "name": "stdout",
     "output_type": "stream",
     "text": [
      "[CV]  rf__n_estimators=636, rf__min_samples_split=5, rf__min_samples_leaf=1, rf__max_features=auto, rf__max_depth=95, rf__bootstrap=True, total=   4.3s\n",
      "[CV] rf__n_estimators=385, rf__min_samples_split=5, rf__min_samples_leaf=4, rf__max_features=auto, rf__max_depth=90, rf__bootstrap=True \n"
     ]
    },
    {
     "name": "stderr",
     "output_type": "stream",
     "text": [
      "[Parallel(n_jobs=1)]: Using backend SequentialBackend with 1 concurrent workers.\n",
      "[Parallel(n_jobs=1)]: Done 385 out of 385 | elapsed:    1.5s finished\n",
      "[Parallel(n_jobs=1)]: Using backend SequentialBackend with 1 concurrent workers.\n",
      "[Parallel(n_jobs=1)]: Done 385 out of 385 | elapsed:    0.0s finished\n"
     ]
    },
    {
     "name": "stdout",
     "output_type": "stream",
     "text": [
      "[CV]  rf__n_estimators=385, rf__min_samples_split=5, rf__min_samples_leaf=4, rf__max_features=auto, rf__max_depth=90, rf__bootstrap=True, total=   2.3s\n",
      "[CV] rf__n_estimators=385, rf__min_samples_split=5, rf__min_samples_leaf=4, rf__max_features=auto, rf__max_depth=90, rf__bootstrap=True \n"
     ]
    },
    {
     "name": "stderr",
     "output_type": "stream",
     "text": [
      "[Parallel(n_jobs=1)]: Using backend SequentialBackend with 1 concurrent workers.\n",
      "[Parallel(n_jobs=1)]: Done 385 out of 385 | elapsed:    1.6s finished\n",
      "[Parallel(n_jobs=1)]: Using backend SequentialBackend with 1 concurrent workers.\n",
      "[Parallel(n_jobs=1)]: Done 385 out of 385 | elapsed:    0.0s finished\n"
     ]
    },
    {
     "name": "stdout",
     "output_type": "stream",
     "text": [
      "[CV]  rf__n_estimators=385, rf__min_samples_split=5, rf__min_samples_leaf=4, rf__max_features=auto, rf__max_depth=90, rf__bootstrap=True, total=   2.4s\n",
      "[CV] rf__n_estimators=385, rf__min_samples_split=5, rf__min_samples_leaf=4, rf__max_features=auto, rf__max_depth=90, rf__bootstrap=True \n"
     ]
    },
    {
     "name": "stderr",
     "output_type": "stream",
     "text": [
      "[Parallel(n_jobs=1)]: Using backend SequentialBackend with 1 concurrent workers.\n",
      "[Parallel(n_jobs=1)]: Done 385 out of 385 | elapsed:    1.4s finished\n",
      "[Parallel(n_jobs=1)]: Using backend SequentialBackend with 1 concurrent workers.\n",
      "[Parallel(n_jobs=1)]: Done 385 out of 385 | elapsed:    0.0s finished\n"
     ]
    },
    {
     "name": "stdout",
     "output_type": "stream",
     "text": [
      "[CV]  rf__n_estimators=385, rf__min_samples_split=5, rf__min_samples_leaf=4, rf__max_features=auto, rf__max_depth=90, rf__bootstrap=True, total=   2.2s\n",
      "[CV] rf__n_estimators=385, rf__min_samples_split=5, rf__min_samples_leaf=4, rf__max_features=auto, rf__max_depth=90, rf__bootstrap=True \n"
     ]
    },
    {
     "name": "stderr",
     "output_type": "stream",
     "text": [
      "[Parallel(n_jobs=1)]: Using backend SequentialBackend with 1 concurrent workers.\n",
      "[Parallel(n_jobs=1)]: Done 385 out of 385 | elapsed:    1.5s finished\n",
      "[Parallel(n_jobs=1)]: Using backend SequentialBackend with 1 concurrent workers.\n",
      "[Parallel(n_jobs=1)]: Done 385 out of 385 | elapsed:    0.0s finished\n"
     ]
    },
    {
     "name": "stdout",
     "output_type": "stream",
     "text": [
      "[CV]  rf__n_estimators=385, rf__min_samples_split=5, rf__min_samples_leaf=4, rf__max_features=auto, rf__max_depth=90, rf__bootstrap=True, total=   2.1s\n",
      "[CV] rf__n_estimators=385, rf__min_samples_split=5, rf__min_samples_leaf=4, rf__max_features=auto, rf__max_depth=90, rf__bootstrap=True \n"
     ]
    },
    {
     "name": "stderr",
     "output_type": "stream",
     "text": [
      "[Parallel(n_jobs=1)]: Using backend SequentialBackend with 1 concurrent workers.\n",
      "[Parallel(n_jobs=1)]: Done 385 out of 385 | elapsed:    1.4s finished\n",
      "[Parallel(n_jobs=1)]: Using backend SequentialBackend with 1 concurrent workers.\n",
      "[Parallel(n_jobs=1)]: Done 385 out of 385 | elapsed:    0.0s finished\n"
     ]
    },
    {
     "name": "stdout",
     "output_type": "stream",
     "text": [
      "[CV]  rf__n_estimators=385, rf__min_samples_split=5, rf__min_samples_leaf=4, rf__max_features=auto, rf__max_depth=90, rf__bootstrap=True, total=   2.1s\n",
      "[CV] rf__n_estimators=894, rf__min_samples_split=2, rf__min_samples_leaf=2, rf__max_features=auto, rf__max_depth=45, rf__bootstrap=True \n"
     ]
    },
    {
     "name": "stderr",
     "output_type": "stream",
     "text": [
      "[Parallel(n_jobs=1)]: Using backend SequentialBackend with 1 concurrent workers.\n",
      "[Parallel(n_jobs=1)]: Done 894 out of 894 | elapsed:    4.6s finished\n",
      "[Parallel(n_jobs=1)]: Using backend SequentialBackend with 1 concurrent workers.\n",
      "[Parallel(n_jobs=1)]: Done 894 out of 894 | elapsed:    0.1s finished\n"
     ]
    },
    {
     "name": "stdout",
     "output_type": "stream",
     "text": [
      "[CV]  rf__n_estimators=894, rf__min_samples_split=2, rf__min_samples_leaf=2, rf__max_features=auto, rf__max_depth=45, rf__bootstrap=True, total=   5.5s\n",
      "[CV] rf__n_estimators=894, rf__min_samples_split=2, rf__min_samples_leaf=2, rf__max_features=auto, rf__max_depth=45, rf__bootstrap=True \n"
     ]
    },
    {
     "name": "stderr",
     "output_type": "stream",
     "text": [
      "[Parallel(n_jobs=1)]: Using backend SequentialBackend with 1 concurrent workers.\n",
      "[Parallel(n_jobs=1)]: Done 894 out of 894 | elapsed:    4.6s finished\n",
      "[Parallel(n_jobs=1)]: Using backend SequentialBackend with 1 concurrent workers.\n",
      "[Parallel(n_jobs=1)]: Done 894 out of 894 | elapsed:    0.1s finished\n"
     ]
    },
    {
     "name": "stdout",
     "output_type": "stream",
     "text": [
      "[CV]  rf__n_estimators=894, rf__min_samples_split=2, rf__min_samples_leaf=2, rf__max_features=auto, rf__max_depth=45, rf__bootstrap=True, total=   5.6s\n",
      "[CV] rf__n_estimators=894, rf__min_samples_split=2, rf__min_samples_leaf=2, rf__max_features=auto, rf__max_depth=45, rf__bootstrap=True \n"
     ]
    },
    {
     "name": "stderr",
     "output_type": "stream",
     "text": [
      "[Parallel(n_jobs=1)]: Using backend SequentialBackend with 1 concurrent workers.\n",
      "[Parallel(n_jobs=1)]: Done 894 out of 894 | elapsed:    5.4s finished\n",
      "[Parallel(n_jobs=1)]: Using backend SequentialBackend with 1 concurrent workers.\n",
      "[Parallel(n_jobs=1)]: Done 894 out of 894 | elapsed:    0.2s finished\n"
     ]
    },
    {
     "name": "stdout",
     "output_type": "stream",
     "text": [
      "[CV]  rf__n_estimators=894, rf__min_samples_split=2, rf__min_samples_leaf=2, rf__max_features=auto, rf__max_depth=45, rf__bootstrap=True, total=   6.6s\n",
      "[CV] rf__n_estimators=894, rf__min_samples_split=2, rf__min_samples_leaf=2, rf__max_features=auto, rf__max_depth=45, rf__bootstrap=True \n"
     ]
    },
    {
     "name": "stderr",
     "output_type": "stream",
     "text": [
      "[Parallel(n_jobs=1)]: Using backend SequentialBackend with 1 concurrent workers.\n",
      "[Parallel(n_jobs=1)]: Done 894 out of 894 | elapsed:    4.9s finished\n",
      "[Parallel(n_jobs=1)]: Using backend SequentialBackend with 1 concurrent workers.\n",
      "[Parallel(n_jobs=1)]: Done 894 out of 894 | elapsed:    0.1s finished\n"
     ]
    },
    {
     "name": "stdout",
     "output_type": "stream",
     "text": [
      "[CV]  rf__n_estimators=894, rf__min_samples_split=2, rf__min_samples_leaf=2, rf__max_features=auto, rf__max_depth=45, rf__bootstrap=True, total=   6.4s\n",
      "[CV] rf__n_estimators=894, rf__min_samples_split=2, rf__min_samples_leaf=2, rf__max_features=auto, rf__max_depth=45, rf__bootstrap=True \n"
     ]
    },
    {
     "name": "stderr",
     "output_type": "stream",
     "text": [
      "[Parallel(n_jobs=1)]: Using backend SequentialBackend with 1 concurrent workers.\n",
      "[Parallel(n_jobs=1)]: Done 894 out of 894 | elapsed:    4.4s finished\n",
      "[Parallel(n_jobs=1)]: Using backend SequentialBackend with 1 concurrent workers.\n",
      "[Parallel(n_jobs=1)]: Done 894 out of 894 | elapsed:    0.1s finished\n"
     ]
    },
    {
     "name": "stdout",
     "output_type": "stream",
     "text": [
      "[CV]  rf__n_estimators=894, rf__min_samples_split=2, rf__min_samples_leaf=2, rf__max_features=auto, rf__max_depth=45, rf__bootstrap=True, total=   5.4s\n",
      "[CV] rf__n_estimators=951, rf__min_samples_split=2, rf__min_samples_leaf=4, rf__max_features=sqrt, rf__max_depth=10, rf__bootstrap=False \n"
     ]
    },
    {
     "name": "stderr",
     "output_type": "stream",
     "text": [
      "[Parallel(n_jobs=1)]: Using backend SequentialBackend with 1 concurrent workers.\n",
      "[Parallel(n_jobs=1)]: Done 951 out of 951 | elapsed:    4.4s finished\n",
      "[Parallel(n_jobs=1)]: Using backend SequentialBackend with 1 concurrent workers.\n",
      "[Parallel(n_jobs=1)]: Done 951 out of 951 | elapsed:    0.1s finished\n"
     ]
    },
    {
     "name": "stdout",
     "output_type": "stream",
     "text": [
      "[CV]  rf__n_estimators=951, rf__min_samples_split=2, rf__min_samples_leaf=4, rf__max_features=sqrt, rf__max_depth=10, rf__bootstrap=False, total=   5.4s\n",
      "[CV] rf__n_estimators=951, rf__min_samples_split=2, rf__min_samples_leaf=4, rf__max_features=sqrt, rf__max_depth=10, rf__bootstrap=False \n"
     ]
    },
    {
     "name": "stderr",
     "output_type": "stream",
     "text": [
      "[Parallel(n_jobs=1)]: Using backend SequentialBackend with 1 concurrent workers.\n"
     ]
    },
    {
     "ename": "KeyboardInterrupt",
     "evalue": "",
     "output_type": "error",
     "traceback": [
      "\u001b[0;31m---------------------------------------------------------------------------\u001b[0m",
      "\u001b[0;31mKeyboardInterrupt\u001b[0m                         Traceback (most recent call last)",
      "\u001b[0;32m<ipython-input-53-555a91b4352e>\u001b[0m in \u001b[0;36m<module>\u001b[0;34m\u001b[0m\n\u001b[1;32m     49\u001b[0m \u001b[0;31m# Fit the random search model\u001b[0m\u001b[0;34m\u001b[0m\u001b[0;34m\u001b[0m\u001b[0;34m\u001b[0m\u001b[0m\n\u001b[1;32m     50\u001b[0m \u001b[0mstart\u001b[0m \u001b[0;34m=\u001b[0m \u001b[0mtime\u001b[0m\u001b[0;34m(\u001b[0m\u001b[0;34m)\u001b[0m\u001b[0;34m\u001b[0m\u001b[0;34m\u001b[0m\u001b[0m\n\u001b[0;32m---> 51\u001b[0;31m \u001b[0mrf_random\u001b[0m\u001b[0;34m.\u001b[0m\u001b[0mfit\u001b[0m\u001b[0;34m(\u001b[0m\u001b[0mX\u001b[0m\u001b[0;34m[\u001b[0m\u001b[0;34m\"text\"\u001b[0m\u001b[0;34m]\u001b[0m\u001b[0;34m,\u001b[0m \u001b[0my_topic\u001b[0m\u001b[0;34m)\u001b[0m\u001b[0;34m\u001b[0m\u001b[0;34m\u001b[0m\u001b[0m\n\u001b[0m\u001b[1;32m     52\u001b[0m \u001b[0;34m\u001b[0m\u001b[0m\n\u001b[1;32m     53\u001b[0m print(\"RandomizedSearchCV for RandomForestClassifier on Topic feature: \\ntook %.2f seconds for %d candidates\"\n",
      "\u001b[0;32m~/.local/lib/python3.6/site-packages/sklearn/utils/validation.py\u001b[0m in \u001b[0;36minner_f\u001b[0;34m(*args, **kwargs)\u001b[0m\n\u001b[1;32m     70\u001b[0m                           FutureWarning)\n\u001b[1;32m     71\u001b[0m         \u001b[0mkwargs\u001b[0m\u001b[0;34m.\u001b[0m\u001b[0mupdate\u001b[0m\u001b[0;34m(\u001b[0m\u001b[0;34m{\u001b[0m\u001b[0mk\u001b[0m\u001b[0;34m:\u001b[0m \u001b[0marg\u001b[0m \u001b[0;32mfor\u001b[0m \u001b[0mk\u001b[0m\u001b[0;34m,\u001b[0m \u001b[0marg\u001b[0m \u001b[0;32min\u001b[0m \u001b[0mzip\u001b[0m\u001b[0;34m(\u001b[0m\u001b[0msig\u001b[0m\u001b[0;34m.\u001b[0m\u001b[0mparameters\u001b[0m\u001b[0;34m,\u001b[0m \u001b[0margs\u001b[0m\u001b[0;34m)\u001b[0m\u001b[0;34m}\u001b[0m\u001b[0;34m)\u001b[0m\u001b[0;34m\u001b[0m\u001b[0;34m\u001b[0m\u001b[0m\n\u001b[0;32m---> 72\u001b[0;31m         \u001b[0;32mreturn\u001b[0m \u001b[0mf\u001b[0m\u001b[0;34m(\u001b[0m\u001b[0;34m**\u001b[0m\u001b[0mkwargs\u001b[0m\u001b[0;34m)\u001b[0m\u001b[0;34m\u001b[0m\u001b[0;34m\u001b[0m\u001b[0m\n\u001b[0m\u001b[1;32m     73\u001b[0m     \u001b[0;32mreturn\u001b[0m \u001b[0minner_f\u001b[0m\u001b[0;34m\u001b[0m\u001b[0;34m\u001b[0m\u001b[0m\n\u001b[1;32m     74\u001b[0m \u001b[0;34m\u001b[0m\u001b[0m\n",
      "\u001b[0;32m~/.local/lib/python3.6/site-packages/sklearn/model_selection/_search.py\u001b[0m in \u001b[0;36mfit\u001b[0;34m(self, X, y, groups, **fit_params)\u001b[0m\n\u001b[1;32m    734\u001b[0m                 \u001b[0;32mreturn\u001b[0m \u001b[0mresults\u001b[0m\u001b[0;34m\u001b[0m\u001b[0;34m\u001b[0m\u001b[0m\n\u001b[1;32m    735\u001b[0m \u001b[0;34m\u001b[0m\u001b[0m\n\u001b[0;32m--> 736\u001b[0;31m             \u001b[0mself\u001b[0m\u001b[0;34m.\u001b[0m\u001b[0m_run_search\u001b[0m\u001b[0;34m(\u001b[0m\u001b[0mevaluate_candidates\u001b[0m\u001b[0;34m)\u001b[0m\u001b[0;34m\u001b[0m\u001b[0;34m\u001b[0m\u001b[0m\n\u001b[0m\u001b[1;32m    737\u001b[0m \u001b[0;34m\u001b[0m\u001b[0m\n\u001b[1;32m    738\u001b[0m         \u001b[0;31m# For multi-metric evaluation, store the best_index_, best_params_ and\u001b[0m\u001b[0;34m\u001b[0m\u001b[0;34m\u001b[0m\u001b[0;34m\u001b[0m\u001b[0m\n",
      "\u001b[0;32m~/.local/lib/python3.6/site-packages/sklearn/model_selection/_search.py\u001b[0m in \u001b[0;36m_run_search\u001b[0;34m(self, evaluate_candidates)\u001b[0m\n\u001b[1;32m   1529\u001b[0m         evaluate_candidates(ParameterSampler(\n\u001b[1;32m   1530\u001b[0m             \u001b[0mself\u001b[0m\u001b[0;34m.\u001b[0m\u001b[0mparam_distributions\u001b[0m\u001b[0;34m,\u001b[0m \u001b[0mself\u001b[0m\u001b[0;34m.\u001b[0m\u001b[0mn_iter\u001b[0m\u001b[0;34m,\u001b[0m\u001b[0;34m\u001b[0m\u001b[0;34m\u001b[0m\u001b[0m\n\u001b[0;32m-> 1531\u001b[0;31m             random_state=self.random_state))\n\u001b[0m",
      "\u001b[0;32m~/.local/lib/python3.6/site-packages/sklearn/model_selection/_search.py\u001b[0m in \u001b[0;36mevaluate_candidates\u001b[0;34m(candidate_params)\u001b[0m\n\u001b[1;32m    713\u001b[0m                                \u001b[0;32mfor\u001b[0m \u001b[0mparameters\u001b[0m\u001b[0;34m,\u001b[0m \u001b[0;34m(\u001b[0m\u001b[0mtrain\u001b[0m\u001b[0;34m,\u001b[0m \u001b[0mtest\u001b[0m\u001b[0;34m)\u001b[0m\u001b[0;34m\u001b[0m\u001b[0;34m\u001b[0m\u001b[0m\n\u001b[1;32m    714\u001b[0m                                in product(candidate_params,\n\u001b[0;32m--> 715\u001b[0;31m                                           cv.split(X, y, groups)))\n\u001b[0m\u001b[1;32m    716\u001b[0m \u001b[0;34m\u001b[0m\u001b[0m\n\u001b[1;32m    717\u001b[0m                 \u001b[0;32mif\u001b[0m \u001b[0mlen\u001b[0m\u001b[0;34m(\u001b[0m\u001b[0mout\u001b[0m\u001b[0;34m)\u001b[0m \u001b[0;34m<\u001b[0m \u001b[0;36m1\u001b[0m\u001b[0;34m:\u001b[0m\u001b[0;34m\u001b[0m\u001b[0;34m\u001b[0m\u001b[0m\n",
      "\u001b[0;32m~/.local/lib/python3.6/site-packages/joblib/parallel.py\u001b[0m in \u001b[0;36m__call__\u001b[0;34m(self, iterable)\u001b[0m\n\u001b[1;32m   1030\u001b[0m                 \u001b[0mself\u001b[0m\u001b[0;34m.\u001b[0m\u001b[0m_iterating\u001b[0m \u001b[0;34m=\u001b[0m \u001b[0mself\u001b[0m\u001b[0;34m.\u001b[0m\u001b[0m_original_iterator\u001b[0m \u001b[0;32mis\u001b[0m \u001b[0;32mnot\u001b[0m \u001b[0;32mNone\u001b[0m\u001b[0;34m\u001b[0m\u001b[0;34m\u001b[0m\u001b[0m\n\u001b[1;32m   1031\u001b[0m \u001b[0;34m\u001b[0m\u001b[0m\n\u001b[0;32m-> 1032\u001b[0;31m             \u001b[0;32mwhile\u001b[0m \u001b[0mself\u001b[0m\u001b[0;34m.\u001b[0m\u001b[0mdispatch_one_batch\u001b[0m\u001b[0;34m(\u001b[0m\u001b[0miterator\u001b[0m\u001b[0;34m)\u001b[0m\u001b[0;34m:\u001b[0m\u001b[0;34m\u001b[0m\u001b[0;34m\u001b[0m\u001b[0m\n\u001b[0m\u001b[1;32m   1033\u001b[0m                 \u001b[0;32mpass\u001b[0m\u001b[0;34m\u001b[0m\u001b[0;34m\u001b[0m\u001b[0m\n\u001b[1;32m   1034\u001b[0m \u001b[0;34m\u001b[0m\u001b[0m\n",
      "\u001b[0;32m~/.local/lib/python3.6/site-packages/joblib/parallel.py\u001b[0m in \u001b[0;36mdispatch_one_batch\u001b[0;34m(self, iterator)\u001b[0m\n\u001b[1;32m    845\u001b[0m                 \u001b[0;32mreturn\u001b[0m \u001b[0;32mFalse\u001b[0m\u001b[0;34m\u001b[0m\u001b[0;34m\u001b[0m\u001b[0m\n\u001b[1;32m    846\u001b[0m             \u001b[0;32melse\u001b[0m\u001b[0;34m:\u001b[0m\u001b[0;34m\u001b[0m\u001b[0;34m\u001b[0m\u001b[0m\n\u001b[0;32m--> 847\u001b[0;31m                 \u001b[0mself\u001b[0m\u001b[0;34m.\u001b[0m\u001b[0m_dispatch\u001b[0m\u001b[0;34m(\u001b[0m\u001b[0mtasks\u001b[0m\u001b[0;34m)\u001b[0m\u001b[0;34m\u001b[0m\u001b[0;34m\u001b[0m\u001b[0m\n\u001b[0m\u001b[1;32m    848\u001b[0m                 \u001b[0;32mreturn\u001b[0m \u001b[0;32mTrue\u001b[0m\u001b[0;34m\u001b[0m\u001b[0;34m\u001b[0m\u001b[0m\n\u001b[1;32m    849\u001b[0m \u001b[0;34m\u001b[0m\u001b[0m\n",
      "\u001b[0;32m~/.local/lib/python3.6/site-packages/joblib/parallel.py\u001b[0m in \u001b[0;36m_dispatch\u001b[0;34m(self, batch)\u001b[0m\n\u001b[1;32m    763\u001b[0m         \u001b[0;32mwith\u001b[0m \u001b[0mself\u001b[0m\u001b[0;34m.\u001b[0m\u001b[0m_lock\u001b[0m\u001b[0;34m:\u001b[0m\u001b[0;34m\u001b[0m\u001b[0;34m\u001b[0m\u001b[0m\n\u001b[1;32m    764\u001b[0m             \u001b[0mjob_idx\u001b[0m \u001b[0;34m=\u001b[0m \u001b[0mlen\u001b[0m\u001b[0;34m(\u001b[0m\u001b[0mself\u001b[0m\u001b[0;34m.\u001b[0m\u001b[0m_jobs\u001b[0m\u001b[0;34m)\u001b[0m\u001b[0;34m\u001b[0m\u001b[0;34m\u001b[0m\u001b[0m\n\u001b[0;32m--> 765\u001b[0;31m             \u001b[0mjob\u001b[0m \u001b[0;34m=\u001b[0m \u001b[0mself\u001b[0m\u001b[0;34m.\u001b[0m\u001b[0m_backend\u001b[0m\u001b[0;34m.\u001b[0m\u001b[0mapply_async\u001b[0m\u001b[0;34m(\u001b[0m\u001b[0mbatch\u001b[0m\u001b[0;34m,\u001b[0m \u001b[0mcallback\u001b[0m\u001b[0;34m=\u001b[0m\u001b[0mcb\u001b[0m\u001b[0;34m)\u001b[0m\u001b[0;34m\u001b[0m\u001b[0;34m\u001b[0m\u001b[0m\n\u001b[0m\u001b[1;32m    766\u001b[0m             \u001b[0;31m# A job can complete so quickly than its callback is\u001b[0m\u001b[0;34m\u001b[0m\u001b[0;34m\u001b[0m\u001b[0;34m\u001b[0m\u001b[0m\n\u001b[1;32m    767\u001b[0m             \u001b[0;31m# called before we get here, causing self._jobs to\u001b[0m\u001b[0;34m\u001b[0m\u001b[0;34m\u001b[0m\u001b[0;34m\u001b[0m\u001b[0m\n",
      "\u001b[0;32m~/.local/lib/python3.6/site-packages/joblib/_parallel_backends.py\u001b[0m in \u001b[0;36mapply_async\u001b[0;34m(self, func, callback)\u001b[0m\n\u001b[1;32m    206\u001b[0m     \u001b[0;32mdef\u001b[0m \u001b[0mapply_async\u001b[0m\u001b[0;34m(\u001b[0m\u001b[0mself\u001b[0m\u001b[0;34m,\u001b[0m \u001b[0mfunc\u001b[0m\u001b[0;34m,\u001b[0m \u001b[0mcallback\u001b[0m\u001b[0;34m=\u001b[0m\u001b[0;32mNone\u001b[0m\u001b[0;34m)\u001b[0m\u001b[0;34m:\u001b[0m\u001b[0;34m\u001b[0m\u001b[0;34m\u001b[0m\u001b[0m\n\u001b[1;32m    207\u001b[0m         \u001b[0;34m\"\"\"Schedule a func to be run\"\"\"\u001b[0m\u001b[0;34m\u001b[0m\u001b[0;34m\u001b[0m\u001b[0m\n\u001b[0;32m--> 208\u001b[0;31m         \u001b[0mresult\u001b[0m \u001b[0;34m=\u001b[0m \u001b[0mImmediateResult\u001b[0m\u001b[0;34m(\u001b[0m\u001b[0mfunc\u001b[0m\u001b[0;34m)\u001b[0m\u001b[0;34m\u001b[0m\u001b[0;34m\u001b[0m\u001b[0m\n\u001b[0m\u001b[1;32m    209\u001b[0m         \u001b[0;32mif\u001b[0m \u001b[0mcallback\u001b[0m\u001b[0;34m:\u001b[0m\u001b[0;34m\u001b[0m\u001b[0;34m\u001b[0m\u001b[0m\n\u001b[1;32m    210\u001b[0m             \u001b[0mcallback\u001b[0m\u001b[0;34m(\u001b[0m\u001b[0mresult\u001b[0m\u001b[0;34m)\u001b[0m\u001b[0;34m\u001b[0m\u001b[0;34m\u001b[0m\u001b[0m\n",
      "\u001b[0;32m~/.local/lib/python3.6/site-packages/joblib/_parallel_backends.py\u001b[0m in \u001b[0;36m__init__\u001b[0;34m(self, batch)\u001b[0m\n\u001b[1;32m    570\u001b[0m         \u001b[0;31m# Don't delay the application, to avoid keeping the input\u001b[0m\u001b[0;34m\u001b[0m\u001b[0;34m\u001b[0m\u001b[0;34m\u001b[0m\u001b[0m\n\u001b[1;32m    571\u001b[0m         \u001b[0;31m# arguments in memory\u001b[0m\u001b[0;34m\u001b[0m\u001b[0;34m\u001b[0m\u001b[0;34m\u001b[0m\u001b[0m\n\u001b[0;32m--> 572\u001b[0;31m         \u001b[0mself\u001b[0m\u001b[0;34m.\u001b[0m\u001b[0mresults\u001b[0m \u001b[0;34m=\u001b[0m \u001b[0mbatch\u001b[0m\u001b[0;34m(\u001b[0m\u001b[0;34m)\u001b[0m\u001b[0;34m\u001b[0m\u001b[0;34m\u001b[0m\u001b[0m\n\u001b[0m\u001b[1;32m    573\u001b[0m \u001b[0;34m\u001b[0m\u001b[0m\n\u001b[1;32m    574\u001b[0m     \u001b[0;32mdef\u001b[0m \u001b[0mget\u001b[0m\u001b[0;34m(\u001b[0m\u001b[0mself\u001b[0m\u001b[0;34m)\u001b[0m\u001b[0;34m:\u001b[0m\u001b[0;34m\u001b[0m\u001b[0;34m\u001b[0m\u001b[0m\n",
      "\u001b[0;32m~/.local/lib/python3.6/site-packages/joblib/parallel.py\u001b[0m in \u001b[0;36m__call__\u001b[0;34m(self)\u001b[0m\n\u001b[1;32m    251\u001b[0m         \u001b[0;32mwith\u001b[0m \u001b[0mparallel_backend\u001b[0m\u001b[0;34m(\u001b[0m\u001b[0mself\u001b[0m\u001b[0;34m.\u001b[0m\u001b[0m_backend\u001b[0m\u001b[0;34m,\u001b[0m \u001b[0mn_jobs\u001b[0m\u001b[0;34m=\u001b[0m\u001b[0mself\u001b[0m\u001b[0;34m.\u001b[0m\u001b[0m_n_jobs\u001b[0m\u001b[0;34m)\u001b[0m\u001b[0;34m:\u001b[0m\u001b[0;34m\u001b[0m\u001b[0;34m\u001b[0m\u001b[0m\n\u001b[1;32m    252\u001b[0m             return [func(*args, **kwargs)\n\u001b[0;32m--> 253\u001b[0;31m                     for func, args, kwargs in self.items]\n\u001b[0m\u001b[1;32m    254\u001b[0m \u001b[0;34m\u001b[0m\u001b[0m\n\u001b[1;32m    255\u001b[0m     \u001b[0;32mdef\u001b[0m \u001b[0m__reduce__\u001b[0m\u001b[0;34m(\u001b[0m\u001b[0mself\u001b[0m\u001b[0;34m)\u001b[0m\u001b[0;34m:\u001b[0m\u001b[0;34m\u001b[0m\u001b[0;34m\u001b[0m\u001b[0m\n",
      "\u001b[0;32m~/.local/lib/python3.6/site-packages/joblib/parallel.py\u001b[0m in \u001b[0;36m<listcomp>\u001b[0;34m(.0)\u001b[0m\n\u001b[1;32m    251\u001b[0m         \u001b[0;32mwith\u001b[0m \u001b[0mparallel_backend\u001b[0m\u001b[0;34m(\u001b[0m\u001b[0mself\u001b[0m\u001b[0;34m.\u001b[0m\u001b[0m_backend\u001b[0m\u001b[0;34m,\u001b[0m \u001b[0mn_jobs\u001b[0m\u001b[0;34m=\u001b[0m\u001b[0mself\u001b[0m\u001b[0;34m.\u001b[0m\u001b[0m_n_jobs\u001b[0m\u001b[0;34m)\u001b[0m\u001b[0;34m:\u001b[0m\u001b[0;34m\u001b[0m\u001b[0;34m\u001b[0m\u001b[0m\n\u001b[1;32m    252\u001b[0m             return [func(*args, **kwargs)\n\u001b[0;32m--> 253\u001b[0;31m                     for func, args, kwargs in self.items]\n\u001b[0m\u001b[1;32m    254\u001b[0m \u001b[0;34m\u001b[0m\u001b[0m\n\u001b[1;32m    255\u001b[0m     \u001b[0;32mdef\u001b[0m \u001b[0m__reduce__\u001b[0m\u001b[0;34m(\u001b[0m\u001b[0mself\u001b[0m\u001b[0;34m)\u001b[0m\u001b[0;34m:\u001b[0m\u001b[0;34m\u001b[0m\u001b[0;34m\u001b[0m\u001b[0m\n",
      "\u001b[0;32m~/.local/lib/python3.6/site-packages/sklearn/model_selection/_validation.py\u001b[0m in \u001b[0;36m_fit_and_score\u001b[0;34m(estimator, X, y, scorer, train, test, verbose, parameters, fit_params, return_train_score, return_parameters, return_n_test_samples, return_times, return_estimator, error_score)\u001b[0m\n\u001b[1;32m    529\u001b[0m             \u001b[0mestimator\u001b[0m\u001b[0;34m.\u001b[0m\u001b[0mfit\u001b[0m\u001b[0;34m(\u001b[0m\u001b[0mX_train\u001b[0m\u001b[0;34m,\u001b[0m \u001b[0;34m**\u001b[0m\u001b[0mfit_params\u001b[0m\u001b[0;34m)\u001b[0m\u001b[0;34m\u001b[0m\u001b[0;34m\u001b[0m\u001b[0m\n\u001b[1;32m    530\u001b[0m         \u001b[0;32melse\u001b[0m\u001b[0;34m:\u001b[0m\u001b[0;34m\u001b[0m\u001b[0;34m\u001b[0m\u001b[0m\n\u001b[0;32m--> 531\u001b[0;31m             \u001b[0mestimator\u001b[0m\u001b[0;34m.\u001b[0m\u001b[0mfit\u001b[0m\u001b[0;34m(\u001b[0m\u001b[0mX_train\u001b[0m\u001b[0;34m,\u001b[0m \u001b[0my_train\u001b[0m\u001b[0;34m,\u001b[0m \u001b[0;34m**\u001b[0m\u001b[0mfit_params\u001b[0m\u001b[0;34m)\u001b[0m\u001b[0;34m\u001b[0m\u001b[0;34m\u001b[0m\u001b[0m\n\u001b[0m\u001b[1;32m    532\u001b[0m \u001b[0;34m\u001b[0m\u001b[0m\n\u001b[1;32m    533\u001b[0m     \u001b[0;32mexcept\u001b[0m \u001b[0mException\u001b[0m \u001b[0;32mas\u001b[0m \u001b[0me\u001b[0m\u001b[0;34m:\u001b[0m\u001b[0;34m\u001b[0m\u001b[0;34m\u001b[0m\u001b[0m\n",
      "\u001b[0;32m~/.local/lib/python3.6/site-packages/sklearn/pipeline.py\u001b[0m in \u001b[0;36mfit\u001b[0;34m(self, X, y, **fit_params)\u001b[0m\n\u001b[1;32m    333\u001b[0m             \u001b[0;32mif\u001b[0m \u001b[0mself\u001b[0m\u001b[0;34m.\u001b[0m\u001b[0m_final_estimator\u001b[0m \u001b[0;34m!=\u001b[0m \u001b[0;34m'passthrough'\u001b[0m\u001b[0;34m:\u001b[0m\u001b[0;34m\u001b[0m\u001b[0;34m\u001b[0m\u001b[0m\n\u001b[1;32m    334\u001b[0m                 \u001b[0mfit_params_last_step\u001b[0m \u001b[0;34m=\u001b[0m \u001b[0mfit_params_steps\u001b[0m\u001b[0;34m[\u001b[0m\u001b[0mself\u001b[0m\u001b[0;34m.\u001b[0m\u001b[0msteps\u001b[0m\u001b[0;34m[\u001b[0m\u001b[0;34m-\u001b[0m\u001b[0;36m1\u001b[0m\u001b[0;34m]\u001b[0m\u001b[0;34m[\u001b[0m\u001b[0;36m0\u001b[0m\u001b[0;34m]\u001b[0m\u001b[0;34m]\u001b[0m\u001b[0;34m\u001b[0m\u001b[0;34m\u001b[0m\u001b[0m\n\u001b[0;32m--> 335\u001b[0;31m                 \u001b[0mself\u001b[0m\u001b[0;34m.\u001b[0m\u001b[0m_final_estimator\u001b[0m\u001b[0;34m.\u001b[0m\u001b[0mfit\u001b[0m\u001b[0;34m(\u001b[0m\u001b[0mXt\u001b[0m\u001b[0;34m,\u001b[0m \u001b[0my\u001b[0m\u001b[0;34m,\u001b[0m \u001b[0;34m**\u001b[0m\u001b[0mfit_params_last_step\u001b[0m\u001b[0;34m)\u001b[0m\u001b[0;34m\u001b[0m\u001b[0;34m\u001b[0m\u001b[0m\n\u001b[0m\u001b[1;32m    336\u001b[0m \u001b[0;34m\u001b[0m\u001b[0m\n\u001b[1;32m    337\u001b[0m         \u001b[0;32mreturn\u001b[0m \u001b[0mself\u001b[0m\u001b[0;34m\u001b[0m\u001b[0;34m\u001b[0m\u001b[0m\n",
      "\u001b[0;32m~/.local/lib/python3.6/site-packages/sklearn/ensemble/_forest.py\u001b[0m in \u001b[0;36mfit\u001b[0;34m(self, X, y, sample_weight)\u001b[0m\n\u001b[1;32m    390\u001b[0m                     \u001b[0mverbose\u001b[0m\u001b[0;34m=\u001b[0m\u001b[0mself\u001b[0m\u001b[0;34m.\u001b[0m\u001b[0mverbose\u001b[0m\u001b[0;34m,\u001b[0m \u001b[0mclass_weight\u001b[0m\u001b[0;34m=\u001b[0m\u001b[0mself\u001b[0m\u001b[0;34m.\u001b[0m\u001b[0mclass_weight\u001b[0m\u001b[0;34m,\u001b[0m\u001b[0;34m\u001b[0m\u001b[0;34m\u001b[0m\u001b[0m\n\u001b[1;32m    391\u001b[0m                     n_samples_bootstrap=n_samples_bootstrap)\n\u001b[0;32m--> 392\u001b[0;31m                 for i, t in enumerate(trees))\n\u001b[0m\u001b[1;32m    393\u001b[0m \u001b[0;34m\u001b[0m\u001b[0m\n\u001b[1;32m    394\u001b[0m             \u001b[0;31m# Collect newly grown trees\u001b[0m\u001b[0;34m\u001b[0m\u001b[0;34m\u001b[0m\u001b[0;34m\u001b[0m\u001b[0m\n",
      "\u001b[0;32m~/.local/lib/python3.6/site-packages/joblib/parallel.py\u001b[0m in \u001b[0;36m__call__\u001b[0;34m(self, iterable)\u001b[0m\n\u001b[1;32m   1030\u001b[0m                 \u001b[0mself\u001b[0m\u001b[0;34m.\u001b[0m\u001b[0m_iterating\u001b[0m \u001b[0;34m=\u001b[0m \u001b[0mself\u001b[0m\u001b[0;34m.\u001b[0m\u001b[0m_original_iterator\u001b[0m \u001b[0;32mis\u001b[0m \u001b[0;32mnot\u001b[0m \u001b[0;32mNone\u001b[0m\u001b[0;34m\u001b[0m\u001b[0;34m\u001b[0m\u001b[0m\n\u001b[1;32m   1031\u001b[0m \u001b[0;34m\u001b[0m\u001b[0m\n\u001b[0;32m-> 1032\u001b[0;31m             \u001b[0;32mwhile\u001b[0m \u001b[0mself\u001b[0m\u001b[0;34m.\u001b[0m\u001b[0mdispatch_one_batch\u001b[0m\u001b[0;34m(\u001b[0m\u001b[0miterator\u001b[0m\u001b[0;34m)\u001b[0m\u001b[0;34m:\u001b[0m\u001b[0;34m\u001b[0m\u001b[0;34m\u001b[0m\u001b[0m\n\u001b[0m\u001b[1;32m   1033\u001b[0m                 \u001b[0;32mpass\u001b[0m\u001b[0;34m\u001b[0m\u001b[0;34m\u001b[0m\u001b[0m\n\u001b[1;32m   1034\u001b[0m \u001b[0;34m\u001b[0m\u001b[0m\n",
      "\u001b[0;32m~/.local/lib/python3.6/site-packages/joblib/parallel.py\u001b[0m in \u001b[0;36mdispatch_one_batch\u001b[0;34m(self, iterator)\u001b[0m\n\u001b[1;32m    845\u001b[0m                 \u001b[0;32mreturn\u001b[0m \u001b[0;32mFalse\u001b[0m\u001b[0;34m\u001b[0m\u001b[0;34m\u001b[0m\u001b[0m\n\u001b[1;32m    846\u001b[0m             \u001b[0;32melse\u001b[0m\u001b[0;34m:\u001b[0m\u001b[0;34m\u001b[0m\u001b[0;34m\u001b[0m\u001b[0m\n\u001b[0;32m--> 847\u001b[0;31m                 \u001b[0mself\u001b[0m\u001b[0;34m.\u001b[0m\u001b[0m_dispatch\u001b[0m\u001b[0;34m(\u001b[0m\u001b[0mtasks\u001b[0m\u001b[0;34m)\u001b[0m\u001b[0;34m\u001b[0m\u001b[0;34m\u001b[0m\u001b[0m\n\u001b[0m\u001b[1;32m    848\u001b[0m                 \u001b[0;32mreturn\u001b[0m \u001b[0;32mTrue\u001b[0m\u001b[0;34m\u001b[0m\u001b[0;34m\u001b[0m\u001b[0m\n\u001b[1;32m    849\u001b[0m \u001b[0;34m\u001b[0m\u001b[0m\n",
      "\u001b[0;32m~/.local/lib/python3.6/site-packages/joblib/parallel.py\u001b[0m in \u001b[0;36m_dispatch\u001b[0;34m(self, batch)\u001b[0m\n\u001b[1;32m    763\u001b[0m         \u001b[0;32mwith\u001b[0m \u001b[0mself\u001b[0m\u001b[0;34m.\u001b[0m\u001b[0m_lock\u001b[0m\u001b[0;34m:\u001b[0m\u001b[0;34m\u001b[0m\u001b[0;34m\u001b[0m\u001b[0m\n\u001b[1;32m    764\u001b[0m             \u001b[0mjob_idx\u001b[0m \u001b[0;34m=\u001b[0m \u001b[0mlen\u001b[0m\u001b[0;34m(\u001b[0m\u001b[0mself\u001b[0m\u001b[0;34m.\u001b[0m\u001b[0m_jobs\u001b[0m\u001b[0;34m)\u001b[0m\u001b[0;34m\u001b[0m\u001b[0;34m\u001b[0m\u001b[0m\n\u001b[0;32m--> 765\u001b[0;31m             \u001b[0mjob\u001b[0m \u001b[0;34m=\u001b[0m \u001b[0mself\u001b[0m\u001b[0;34m.\u001b[0m\u001b[0m_backend\u001b[0m\u001b[0;34m.\u001b[0m\u001b[0mapply_async\u001b[0m\u001b[0;34m(\u001b[0m\u001b[0mbatch\u001b[0m\u001b[0;34m,\u001b[0m \u001b[0mcallback\u001b[0m\u001b[0;34m=\u001b[0m\u001b[0mcb\u001b[0m\u001b[0;34m)\u001b[0m\u001b[0;34m\u001b[0m\u001b[0;34m\u001b[0m\u001b[0m\n\u001b[0m\u001b[1;32m    766\u001b[0m             \u001b[0;31m# A job can complete so quickly than its callback is\u001b[0m\u001b[0;34m\u001b[0m\u001b[0;34m\u001b[0m\u001b[0;34m\u001b[0m\u001b[0m\n\u001b[1;32m    767\u001b[0m             \u001b[0;31m# called before we get here, causing self._jobs to\u001b[0m\u001b[0;34m\u001b[0m\u001b[0;34m\u001b[0m\u001b[0;34m\u001b[0m\u001b[0m\n",
      "\u001b[0;32m~/.local/lib/python3.6/site-packages/joblib/_parallel_backends.py\u001b[0m in \u001b[0;36mapply_async\u001b[0;34m(self, func, callback)\u001b[0m\n\u001b[1;32m    206\u001b[0m     \u001b[0;32mdef\u001b[0m \u001b[0mapply_async\u001b[0m\u001b[0;34m(\u001b[0m\u001b[0mself\u001b[0m\u001b[0;34m,\u001b[0m \u001b[0mfunc\u001b[0m\u001b[0;34m,\u001b[0m \u001b[0mcallback\u001b[0m\u001b[0;34m=\u001b[0m\u001b[0;32mNone\u001b[0m\u001b[0;34m)\u001b[0m\u001b[0;34m:\u001b[0m\u001b[0;34m\u001b[0m\u001b[0;34m\u001b[0m\u001b[0m\n\u001b[1;32m    207\u001b[0m         \u001b[0;34m\"\"\"Schedule a func to be run\"\"\"\u001b[0m\u001b[0;34m\u001b[0m\u001b[0;34m\u001b[0m\u001b[0m\n\u001b[0;32m--> 208\u001b[0;31m         \u001b[0mresult\u001b[0m \u001b[0;34m=\u001b[0m \u001b[0mImmediateResult\u001b[0m\u001b[0;34m(\u001b[0m\u001b[0mfunc\u001b[0m\u001b[0;34m)\u001b[0m\u001b[0;34m\u001b[0m\u001b[0;34m\u001b[0m\u001b[0m\n\u001b[0m\u001b[1;32m    209\u001b[0m         \u001b[0;32mif\u001b[0m \u001b[0mcallback\u001b[0m\u001b[0;34m:\u001b[0m\u001b[0;34m\u001b[0m\u001b[0;34m\u001b[0m\u001b[0m\n\u001b[1;32m    210\u001b[0m             \u001b[0mcallback\u001b[0m\u001b[0;34m(\u001b[0m\u001b[0mresult\u001b[0m\u001b[0;34m)\u001b[0m\u001b[0;34m\u001b[0m\u001b[0;34m\u001b[0m\u001b[0m\n",
      "\u001b[0;32m~/.local/lib/python3.6/site-packages/joblib/_parallel_backends.py\u001b[0m in \u001b[0;36m__init__\u001b[0;34m(self, batch)\u001b[0m\n\u001b[1;32m    570\u001b[0m         \u001b[0;31m# Don't delay the application, to avoid keeping the input\u001b[0m\u001b[0;34m\u001b[0m\u001b[0;34m\u001b[0m\u001b[0;34m\u001b[0m\u001b[0m\n\u001b[1;32m    571\u001b[0m         \u001b[0;31m# arguments in memory\u001b[0m\u001b[0;34m\u001b[0m\u001b[0;34m\u001b[0m\u001b[0;34m\u001b[0m\u001b[0m\n\u001b[0;32m--> 572\u001b[0;31m         \u001b[0mself\u001b[0m\u001b[0;34m.\u001b[0m\u001b[0mresults\u001b[0m \u001b[0;34m=\u001b[0m \u001b[0mbatch\u001b[0m\u001b[0;34m(\u001b[0m\u001b[0;34m)\u001b[0m\u001b[0;34m\u001b[0m\u001b[0;34m\u001b[0m\u001b[0m\n\u001b[0m\u001b[1;32m    573\u001b[0m \u001b[0;34m\u001b[0m\u001b[0m\n\u001b[1;32m    574\u001b[0m     \u001b[0;32mdef\u001b[0m \u001b[0mget\u001b[0m\u001b[0;34m(\u001b[0m\u001b[0mself\u001b[0m\u001b[0;34m)\u001b[0m\u001b[0;34m:\u001b[0m\u001b[0;34m\u001b[0m\u001b[0;34m\u001b[0m\u001b[0m\n",
      "\u001b[0;32m~/.local/lib/python3.6/site-packages/joblib/parallel.py\u001b[0m in \u001b[0;36m__call__\u001b[0;34m(self)\u001b[0m\n\u001b[1;32m    251\u001b[0m         \u001b[0;32mwith\u001b[0m \u001b[0mparallel_backend\u001b[0m\u001b[0;34m(\u001b[0m\u001b[0mself\u001b[0m\u001b[0;34m.\u001b[0m\u001b[0m_backend\u001b[0m\u001b[0;34m,\u001b[0m \u001b[0mn_jobs\u001b[0m\u001b[0;34m=\u001b[0m\u001b[0mself\u001b[0m\u001b[0;34m.\u001b[0m\u001b[0m_n_jobs\u001b[0m\u001b[0;34m)\u001b[0m\u001b[0;34m:\u001b[0m\u001b[0;34m\u001b[0m\u001b[0;34m\u001b[0m\u001b[0m\n\u001b[1;32m    252\u001b[0m             return [func(*args, **kwargs)\n\u001b[0;32m--> 253\u001b[0;31m                     for func, args, kwargs in self.items]\n\u001b[0m\u001b[1;32m    254\u001b[0m \u001b[0;34m\u001b[0m\u001b[0m\n\u001b[1;32m    255\u001b[0m     \u001b[0;32mdef\u001b[0m \u001b[0m__reduce__\u001b[0m\u001b[0;34m(\u001b[0m\u001b[0mself\u001b[0m\u001b[0;34m)\u001b[0m\u001b[0;34m:\u001b[0m\u001b[0;34m\u001b[0m\u001b[0;34m\u001b[0m\u001b[0m\n",
      "\u001b[0;32m~/.local/lib/python3.6/site-packages/joblib/parallel.py\u001b[0m in \u001b[0;36m<listcomp>\u001b[0;34m(.0)\u001b[0m\n\u001b[1;32m    251\u001b[0m         \u001b[0;32mwith\u001b[0m \u001b[0mparallel_backend\u001b[0m\u001b[0;34m(\u001b[0m\u001b[0mself\u001b[0m\u001b[0;34m.\u001b[0m\u001b[0m_backend\u001b[0m\u001b[0;34m,\u001b[0m \u001b[0mn_jobs\u001b[0m\u001b[0;34m=\u001b[0m\u001b[0mself\u001b[0m\u001b[0;34m.\u001b[0m\u001b[0m_n_jobs\u001b[0m\u001b[0;34m)\u001b[0m\u001b[0;34m:\u001b[0m\u001b[0;34m\u001b[0m\u001b[0;34m\u001b[0m\u001b[0m\n\u001b[1;32m    252\u001b[0m             return [func(*args, **kwargs)\n\u001b[0;32m--> 253\u001b[0;31m                     for func, args, kwargs in self.items]\n\u001b[0m\u001b[1;32m    254\u001b[0m \u001b[0;34m\u001b[0m\u001b[0m\n\u001b[1;32m    255\u001b[0m     \u001b[0;32mdef\u001b[0m \u001b[0m__reduce__\u001b[0m\u001b[0;34m(\u001b[0m\u001b[0mself\u001b[0m\u001b[0;34m)\u001b[0m\u001b[0;34m:\u001b[0m\u001b[0;34m\u001b[0m\u001b[0;34m\u001b[0m\u001b[0m\n",
      "\u001b[0;32m~/.local/lib/python3.6/site-packages/sklearn/ensemble/_forest.py\u001b[0m in \u001b[0;36m_parallel_build_trees\u001b[0;34m(tree, forest, X, y, sample_weight, tree_idx, n_trees, verbose, class_weight, n_samples_bootstrap)\u001b[0m\n\u001b[1;32m    168\u001b[0m         \u001b[0mtree\u001b[0m\u001b[0;34m.\u001b[0m\u001b[0mfit\u001b[0m\u001b[0;34m(\u001b[0m\u001b[0mX\u001b[0m\u001b[0;34m,\u001b[0m \u001b[0my\u001b[0m\u001b[0;34m,\u001b[0m \u001b[0msample_weight\u001b[0m\u001b[0;34m=\u001b[0m\u001b[0mcurr_sample_weight\u001b[0m\u001b[0;34m,\u001b[0m \u001b[0mcheck_input\u001b[0m\u001b[0;34m=\u001b[0m\u001b[0;32mFalse\u001b[0m\u001b[0;34m)\u001b[0m\u001b[0;34m\u001b[0m\u001b[0;34m\u001b[0m\u001b[0m\n\u001b[1;32m    169\u001b[0m     \u001b[0;32melse\u001b[0m\u001b[0;34m:\u001b[0m\u001b[0;34m\u001b[0m\u001b[0;34m\u001b[0m\u001b[0m\n\u001b[0;32m--> 170\u001b[0;31m         \u001b[0mtree\u001b[0m\u001b[0;34m.\u001b[0m\u001b[0mfit\u001b[0m\u001b[0;34m(\u001b[0m\u001b[0mX\u001b[0m\u001b[0;34m,\u001b[0m \u001b[0my\u001b[0m\u001b[0;34m,\u001b[0m \u001b[0msample_weight\u001b[0m\u001b[0;34m=\u001b[0m\u001b[0msample_weight\u001b[0m\u001b[0;34m,\u001b[0m \u001b[0mcheck_input\u001b[0m\u001b[0;34m=\u001b[0m\u001b[0;32mFalse\u001b[0m\u001b[0;34m)\u001b[0m\u001b[0;34m\u001b[0m\u001b[0;34m\u001b[0m\u001b[0m\n\u001b[0m\u001b[1;32m    171\u001b[0m \u001b[0;34m\u001b[0m\u001b[0m\n\u001b[1;32m    172\u001b[0m     \u001b[0;32mreturn\u001b[0m \u001b[0mtree\u001b[0m\u001b[0;34m\u001b[0m\u001b[0;34m\u001b[0m\u001b[0m\n",
      "\u001b[0;32m~/.local/lib/python3.6/site-packages/sklearn/tree/_classes.py\u001b[0m in \u001b[0;36mfit\u001b[0;34m(self, X, y, sample_weight, check_input, X_idx_sorted)\u001b[0m\n\u001b[1;32m    892\u001b[0m             \u001b[0msample_weight\u001b[0m\u001b[0;34m=\u001b[0m\u001b[0msample_weight\u001b[0m\u001b[0;34m,\u001b[0m\u001b[0;34m\u001b[0m\u001b[0;34m\u001b[0m\u001b[0m\n\u001b[1;32m    893\u001b[0m             \u001b[0mcheck_input\u001b[0m\u001b[0;34m=\u001b[0m\u001b[0mcheck_input\u001b[0m\u001b[0;34m,\u001b[0m\u001b[0;34m\u001b[0m\u001b[0;34m\u001b[0m\u001b[0m\n\u001b[0;32m--> 894\u001b[0;31m             X_idx_sorted=X_idx_sorted)\n\u001b[0m\u001b[1;32m    895\u001b[0m         \u001b[0;32mreturn\u001b[0m \u001b[0mself\u001b[0m\u001b[0;34m\u001b[0m\u001b[0;34m\u001b[0m\u001b[0m\n\u001b[1;32m    896\u001b[0m \u001b[0;34m\u001b[0m\u001b[0m\n",
      "\u001b[0;32m~/.local/lib/python3.6/site-packages/sklearn/tree/_classes.py\u001b[0m in \u001b[0;36mfit\u001b[0;34m(self, X, y, sample_weight, check_input, X_idx_sorted)\u001b[0m\n\u001b[1;32m    180\u001b[0m         \u001b[0;32mif\u001b[0m \u001b[0mis_classification\u001b[0m\u001b[0;34m:\u001b[0m\u001b[0;34m\u001b[0m\u001b[0;34m\u001b[0m\u001b[0m\n\u001b[1;32m    181\u001b[0m             \u001b[0mcheck_classification_targets\u001b[0m\u001b[0;34m(\u001b[0m\u001b[0my\u001b[0m\u001b[0;34m)\u001b[0m\u001b[0;34m\u001b[0m\u001b[0;34m\u001b[0m\u001b[0m\n\u001b[0;32m--> 182\u001b[0;31m             \u001b[0my\u001b[0m \u001b[0;34m=\u001b[0m \u001b[0mnp\u001b[0m\u001b[0;34m.\u001b[0m\u001b[0mcopy\u001b[0m\u001b[0;34m(\u001b[0m\u001b[0my\u001b[0m\u001b[0;34m)\u001b[0m\u001b[0;34m\u001b[0m\u001b[0;34m\u001b[0m\u001b[0m\n\u001b[0m\u001b[1;32m    183\u001b[0m \u001b[0;34m\u001b[0m\u001b[0m\n\u001b[1;32m    184\u001b[0m             \u001b[0mself\u001b[0m\u001b[0;34m.\u001b[0m\u001b[0mclasses_\u001b[0m \u001b[0;34m=\u001b[0m \u001b[0;34m[\u001b[0m\u001b[0;34m]\u001b[0m\u001b[0;34m\u001b[0m\u001b[0;34m\u001b[0m\u001b[0m\n",
      "\u001b[0;32m<__array_function__ internals>\u001b[0m in \u001b[0;36mcopy\u001b[0;34m(*args, **kwargs)\u001b[0m\n",
      "\u001b[0;32m~/anaconda3/lib/python3.6/site-packages/numpy/lib/function_base.py\u001b[0m in \u001b[0;36mcopy\u001b[0;34m(a, order, subok)\u001b[0m\n\u001b[1;32m    790\u001b[0m \u001b[0;34m\u001b[0m\u001b[0m\n\u001b[1;32m    791\u001b[0m     \"\"\"\n\u001b[0;32m--> 792\u001b[0;31m     \u001b[0;32mreturn\u001b[0m \u001b[0marray\u001b[0m\u001b[0;34m(\u001b[0m\u001b[0ma\u001b[0m\u001b[0;34m,\u001b[0m \u001b[0morder\u001b[0m\u001b[0;34m=\u001b[0m\u001b[0morder\u001b[0m\u001b[0;34m,\u001b[0m \u001b[0msubok\u001b[0m\u001b[0;34m=\u001b[0m\u001b[0msubok\u001b[0m\u001b[0;34m,\u001b[0m \u001b[0mcopy\u001b[0m\u001b[0;34m=\u001b[0m\u001b[0;32mTrue\u001b[0m\u001b[0;34m)\u001b[0m\u001b[0;34m\u001b[0m\u001b[0;34m\u001b[0m\u001b[0m\n\u001b[0m\u001b[1;32m    793\u001b[0m \u001b[0;34m\u001b[0m\u001b[0m\n\u001b[1;32m    794\u001b[0m \u001b[0;31m# Basic operations\u001b[0m\u001b[0;34m\u001b[0m\u001b[0;34m\u001b[0m\u001b[0;34m\u001b[0m\u001b[0m\n",
      "\u001b[0;31mKeyboardInterrupt\u001b[0m: "
     ]
    }
   ],
   "source": [
    "## Hyperparameter Tuning for Random Forest on Topic feature ##\n",
    "\n",
    "# Number of trees in random forest\n",
    "n_estimators = [int(x) for x in np.linspace(start = 200, stop = 1000, num = 100)]\n",
    "\n",
    "# Number of features to consider at every split\n",
    "max_features = ['auto', 'sqrt']\n",
    "\n",
    "# Maximum number of levels in tree\n",
    "max_depth = [int(x) for x in np.linspace(10, 110, num = 21)]\n",
    "max_depth.append(None)\n",
    "\n",
    "# Minimum number of samples required to split a node\n",
    "min_samples_split = [2, 5, 10]\n",
    "\n",
    "# Minimum number of samples required at each leaf node\n",
    "min_samples_leaf = [1, 2, 4]\n",
    "\n",
    "# Method of selecting samples for training each tree\n",
    "bootstrap = [True, False]\n",
    "\n",
    "# Create the random grid\n",
    "random_grid = {'rf__n_estimators': n_estimators,\n",
    "               'rf__max_features': max_features,\n",
    "               'rf__max_depth': max_depth,\n",
    "               'rf__min_samples_split': min_samples_split,\n",
    "               'rf__min_samples_leaf': min_samples_leaf,\n",
    "               'rf__bootstrap': bootstrap}\n",
    "print(random_grid)\n",
    "\n",
    "## Pipeline ##\n",
    "\n",
    "# we use the RandomForestClassifier object rf defined previously\n",
    "pipe_rf_topic = Pipeline(steps=[('tfidf', tfidf_vectorizer_base), ('rf', rf)])\n",
    "\n",
    "\n",
    "## Use the random grid to search for best hyperparameters ##\n",
    "\n",
    "# Random search of parameters, using 3 fold cross validation, \n",
    "# search across 100 different combinations, and use all available cores\n",
    "rf_random = RandomizedSearchCV(estimator = pipe_rf_topic, \n",
    "                               param_distributions = random_grid, \n",
    "                               n_iter = 100, \n",
    "                               cv = sss, \n",
    "                               verbose=2, \n",
    "                               random_state=2905, \n",
    "                               #n_jobs = -1\n",
    "                              )\n",
    "# Fit the random search model\n",
    "start = time()\n",
    "rf_random.fit(X[\"text\"], y_topic)\n",
    "\n",
    "print(\"RandomizedSearchCV for RandomForestClassifier on Topic feature: \\ntook %.2f seconds for %d candidates\"\n",
    "      \" parameter settings.\" % ((time() - start), n_iter_search))\n",
    "\n",
    "print(rf_random.best_params_)\n",
    "report(rf_random.cv_results_)\n"
   ]
  },
  {
   "cell_type": "raw",
   "metadata": {},
   "source": [
    "__Results!__\n",
    "\n",
    "RandomizedSearchCV for RandomForestClassifier on Topic feature: \n",
    "took 2186.39 seconds for 10 candidates parameter settings.\n",
    "{'rf__n_estimators': 337, 'rf__min_samples_split': 10, 'rf__min_samples_leaf': 1, 'rf__max_features': 'sqrt', 'rf__max_depth': 65, 'rf__bootstrap': True}\n",
    "Model with rank: 1\n",
    "Mean validation score: 0.474 (std: 0.031)\n",
    "Parameters: {'rf__n_estimators': 337, 'rf__min_samples_split': 10, 'rf__min_samples_leaf': 1, 'rf__max_features': 'sqrt', 'rf__max_depth': 65, 'rf__bootstrap': True}\n",
    "\n",
    "Model with rank: 2\n",
    "Mean validation score: 0.471 (std: 0.030)\n",
    "Parameters: {'rf__n_estimators': 402, 'rf__min_samples_split': 5, 'rf__min_samples_leaf': 1, 'rf__max_features': 'auto', 'rf__max_depth': 70, 'rf__bootstrap': True}\n",
    "\n",
    "Model with rank: 2\n",
    "Mean validation score: 0.471 (std: 0.025)\n",
    "Parameters: {'rf__n_estimators': 919, 'rf__min_samples_split': 5, 'rf__min_samples_leaf': 2, 'rf__max_features': 'auto', 'rf__max_depth': 10, 'rf__bootstrap': False}\n",
    "\n",
    "Model with rank: 2\n",
    "Mean validation score: 0.471 (std: 0.028)\n",
    "\n",
    "Best model:\n",
    "\n",
    "Parameters: {'rf__n_estimators': 967, 'rf__min_samples_split': 10, 'rf__min_samples_leaf': 1, 'rf__max_features': 'auto', 'rf__max_depth': 15, 'rf__bootstrap': True}\n"
   ]
  },
  {
   "cell_type": "code",
   "execution_count": null,
   "metadata": {},
   "outputs": [],
   "source": [
    "## Hyperparameter Tuning for Random Forest on Geo feature ##\n",
    "\n",
    "# Number of trees in random forest\n",
    "n_estimators = [int(x) for x in np.linspace(start = 200, stop = 1000, num = 100)]\n",
    "\n",
    "# Number of features to consider at every split\n",
    "max_features = ['auto', 'sqrt']\n",
    "\n",
    "# Maximum number of levels in tree\n",
    "max_depth = [int(x) for x in np.linspace(10, 110, num = 21)]\n",
    "max_depth.append(None)\n",
    "\n",
    "# Minimum number of samples required to split a node\n",
    "min_samples_split = [2, 5, 10]\n",
    "\n",
    "# Minimum number of samples required at each leaf node\n",
    "min_samples_leaf = [1, 2, 4]\n",
    "\n",
    "# Method of selecting samples for training each tree\n",
    "bootstrap = [True, False]\n",
    "\n",
    "# Create the random grid\n",
    "random_grid = {'rf__n_estimators': n_estimators,\n",
    "               'rf__max_features': max_features,\n",
    "               'rf__max_depth': max_depth,\n",
    "               'rf__min_samples_split': min_samples_split,\n",
    "               'rf__min_samples_leaf': min_samples_leaf,\n",
    "               'rf__bootstrap': bootstrap}\n",
    "print(random_grid)\n",
    "\n",
    "## Pipeline ##\n",
    "\n",
    "# we use the RandomForestClassifier object rf defined previously\n",
    "pipe_rf_topic = Pipeline(steps=[('tfidf', tfidf_vectorizer_vocab), ('rf', rf)])\n",
    "\n",
    "\n",
    "## Use the random grid to search for best hyperparameters ##\n",
    "\n",
    "# Random search of parameters, using 3 fold cross validation, \n",
    "# search across 100 different combinations, and use all available cores\n",
    "rf_random = RandomizedSearchCV(estimator = pipe_rf_topic, \n",
    "                               param_distributions = random_grid, \n",
    "                               n_iter = 100, \n",
    "                               cv = sss, \n",
    "                               verbose=2, \n",
    "                               random_state=2905, \n",
    "                               #n_jobs = -1\n",
    "                              )\n",
    "# Fit the random search model\n",
    "start = time()\n",
    "rf_random.fit(X[\"text\"], y_topic)\n",
    "\n",
    "print(\"RandomizedSearchCV for RandomForestClassifier on Geo feature: \\ntook %.2f seconds for %d candidates\"\n",
    "      \" parameter settings.\" % ((time() - start), n_iter_search))\n",
    "\n",
    "print(rf_random.best_params_)\n",
    "report(rf_random.cv_results_)\n"
   ]
  },
  {
   "cell_type": "raw",
   "metadata": {},
   "source": [
    "## Hyperparameter Tuning for Random Forest on Geo feature ##\n",
    "\n",
    "Results\n",
    "\n",
    "Model with rank: 1\n",
    "Mean validation score: 0.458 (std: 0.031)\n",
    "Parameters: {'rf__n_estimators': 563, 'rf__min_samples_split': 2, 'rf__min_samples_leaf': 4, 'rf__max_features': 'auto', 'rf__max_depth': 95, 'rf__bootstrap': True}\n",
    "\n",
    "Model with rank: 1\n",
    "Mean validation score: 0.458 (std: 0.036)\n",
    "Parameters: {'rf__n_estimators': 240, 'rf__min_samples_split': 10, 'rf__min_samples_leaf': 4, 'rf__max_features': 'sqrt', 'rf__max_depth': 90, 'rf__bootstrap': True}\n",
    "\n",
    "Model with rank: 1\n",
    "Mean validation score: 0.458 (std: 0.035)\n",
    "Parameters: {'rf__n_estimators': 288, 'rf__min_samples_split': 5, 'rf__min_samples_leaf': 4, 'rf__max_features': 'sqrt', 'rf__max_depth': 45, 'rf__bootstrap': True}"
   ]
  },
  {
   "cell_type": "markdown",
   "metadata": {},
   "source": [
    "__Assess performance on test set__"
   ]
  },
  {
   "cell_type": "code",
   "execution_count": null,
   "metadata": {},
   "outputs": [],
   "source": []
  },
  {
   "cell_type": "code",
   "execution_count": null,
   "metadata": {},
   "outputs": [],
   "source": []
  },
  {
   "cell_type": "markdown",
   "metadata": {},
   "source": [
    "__Summary__\n",
    "\n",
    "a. `Topic` multiclass classifier \n",
    "\n",
    "Best performance achieved with logistic regression + basic word-level tfidf:\n",
    "\n",
    "* penalty = elasticnet, solver=saga \n",
    "    * Mean validation score: 0.479 (std: 0.012)\n",
    "    * Parameters: {'logisticR__C': 1.8620777171647571, 'logisticR__l1_ratio': 0.08964905142835955, 'logisticR__penalty': 'elasticnet', 'logisticR__solver': 'saga'}\n",
    "* penalty = l2, solver=lbfgs\n",
    "    * Mean validation score: 0.474 (std: 0.014)\n",
    "    * Parameters: {'logisticR__C': 1.6910388216086767}\n",
    "    \n",
    "b. `Geo` multiclass classifier\n",
    "\n",
    "Best performance achieved with random forest + entity-based tfidf:\n",
    "\n",
    "* Mean validation score: 0.458 (std: 0.031)\n",
    "* Parameters: {'rf__n_estimators': 563, 'rf__min_samples_split': 2, 'rf__min_samples_leaf': 4, 'rf__max_features': 'auto', 'rf__max_depth': 95, 'rf__bootstrap': True}\n"
   ]
  },
  {
   "cell_type": "markdown",
   "metadata": {},
   "source": [
    "__How to improve ?__\n",
    "\n",
    "- dimensionality reduction: is it possible to apply scaling + PCA ? \n",
    "   * [Issue]: a sparse matrix can't be used as input for Naive Bayes, Scaling or PCA. \n",
    "   * [Resolved](https://stackoverflow.com/questions/28384680/scikit-learns-pipeline-a-sparse-matrix-was-passed-but-dense-data-is-required) by using .todense() on sparse matrix \n",
    "   * Effect: doesn't improve classification, needs >3 times the time to converge with the new representation.\n",
    "\n",
    "- one vs all classification : have a binary classifier for each class\n",
    "\n",
    "- fined-tuned vocabulary : enrich with TIME and ORG entities ? \n",
    "\n",
    "- Most and foremost : need for *more articles* and *a better balanced dataset*\n",
    "\n",
    "__Additional ideas (new features)__\n",
    "\n",
    "- add the articles's date as a feature ? how to combine it to the tfidf matrix?\n"
   ]
  },
  {
   "cell_type": "markdown",
   "metadata": {},
   "source": [
    "### What's next ?\n",
    "\n",
    "Apply the models to a recommandation scenario. See notebook 03_Recommandation."
   ]
  }
 ],
 "metadata": {
  "kernelspec": {
   "display_name": "Python 3",
   "language": "python",
   "name": "python3"
  },
  "language_info": {
   "codemirror_mode": {
    "name": "ipython",
    "version": 3
   },
   "file_extension": ".py",
   "mimetype": "text/x-python",
   "name": "python",
   "nbconvert_exporter": "python",
   "pygments_lexer": "ipython3",
   "version": "3.6.7"
  }
 },
 "nbformat": 4,
 "nbformat_minor": 2
}
