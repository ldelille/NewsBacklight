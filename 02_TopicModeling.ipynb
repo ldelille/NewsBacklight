{
 "cells": [
  {
   "cell_type": "markdown",
   "metadata": {},
   "source": [
    "# Topic Modeling\n",
    "\n",
    "The goal of this notebook is two-fold:\n",
    "* identify the main topics of the corpus through LDA and clustering (unsupervised approach)\n",
    "* train a text classifier based on these topics (supervised learning).\n",
    "\n",
    "### Contents\n",
    "\n",
    "__Preliminaries__\n",
    "* a. Overview of text modeling techniques\n",
    "* b. Imports\n",
    "\n",
    "__1. LDA__\n",
    "\n",
    "__2. Clustering__\n",
    "* a. Tf-Idf for Clustering\n",
    "* b. K-Means\n",
    "* c. DBSCAN\n",
    "\n",
    "__3. Topic classifier__\n",
    "\n",
    "What's next"
   ]
  },
  {
   "cell_type": "markdown",
   "metadata": {},
   "source": [
    "# Preliminaries"
   ]
  },
  {
   "cell_type": "markdown",
   "metadata": {},
   "source": [
    "__a. Overview of text modeling techniques__\n",
    "\n",
    "* [LDA](https://towardsdatascience.com/end-to-end-topic-modeling-in-python-latent-dirichlet-allocation-lda-35ce4ed6b3e0)\n",
    "\n",
    "* Clustering. In order to build clusters we have to transform our news articles into a numerical representation that models can handle. Here we go for old good tf-idf vectors (we will test more state-of-the-art techniques in the next steps). Algorithms: K-Means and DBSCAN seem like the most relevant options to begin with.\n",
    "\n",
    "* ?"
   ]
  },
  {
   "cell_type": "markdown",
   "metadata": {},
   "source": [
    "__b. Imports__\n",
    "\n",
    "If you don't have already done so, please download these NLTK dependancies by running the following lines:\n",
    "\n",
    "> nltk.download('wordnet')\n",
    "\n",
    "> nltk.download('stopwords')"
   ]
  },
  {
   "cell_type": "code",
   "execution_count": 1,
   "metadata": {},
   "outputs": [
    {
     "name": "stdout",
     "output_type": "stream",
     "text": [
      "fr_core_news_sm loaded\n"
     ]
    }
   ],
   "source": [
    "# Classic packages\n",
    "\n",
    "import os \n",
    "import pandas as pd\n",
    "import matplotlib.pyplot as plt\n",
    "import numpy as np\n",
    "from collections import Counter\n",
    "import random \n",
    "random.seed(a=2905) # set random seed \n",
    "import pickle\n",
    "\n",
    "\n",
    "# NLP packages\n",
    "\n",
    "import gensim\n",
    "from gensim import corpora\n",
    "\n",
    "import spacy\n",
    "try: \n",
    "    print(\"fr_core_news_sm loaded\")\n",
    "    nlp = spacy.load(\"fr_core_news_sm\") # load pre-trained models for French\n",
    "except:\n",
    "    print(\"fr loaded\")\n",
    "    nlp=spacy.load('fr') # fr calls fr_core_news_sm \n",
    "\n",
    "import nltk\n",
    "from nltk.corpus import wordnet as wn\n",
    "from nltk.stem.wordnet import WordNetLemmatizer # not adapted to French?\n",
    "from nltk.stem.snowball import FrenchStemmer # already something \n",
    "# --> Lemmatizer would be better --> use spaCy lemmatizer\n",
    "\n",
    "# ML with sklearn\n",
    "import sklearn.cluster\n",
    "from sklearn.feature_extraction.text import TfidfTransformer, CountVectorizer \n",
    "from sklearn.feature_extraction.text import  TfidfVectorizer\n"
   ]
  },
  {
   "cell_type": "code",
   "execution_count": 2,
   "metadata": {},
   "outputs": [],
   "source": [
    "# data\n",
    "news_df=pd.read_csv(\"./articles.csv\")"
   ]
  },
  {
   "cell_type": "markdown",
   "metadata": {},
   "source": [
    "# 1. Latent Dirichlet Allocation (LDA)\n",
    "\n",
    "\n",
    "Main idea: Each document is represented as a distribution over topics, and each topic is represented as a distribution over words.\n",
    "Here we do not set the number of topics in advance, we rather set it arbitrarily like a threshold and see if the results are relevant.\n",
    "\n",
    "Code freely adapted from this [TDS post](https://towardsdatascience.com/topic-modelling-in-python-with-nltk-and-gensim-4ef03213cd21).\n",
    "\n"
   ]
  },
  {
   "cell_type": "markdown",
   "metadata": {},
   "source": [
    "__Text cleaning for LDA__\n",
    "\n",
    "* tokenize words (here using spacy parser for French)\n",
    "* lemmatize (using NLTK WordNetLemmatizer)\n",
    "* stopwords removal (using the default NLTK stopwords list for French)\n",
    "* apply pipeline on titles and text bodies"
   ]
  },
  {
   "cell_type": "code",
   "execution_count": 3,
   "metadata": {},
   "outputs": [
    {
     "data": {
      "text/plain": [
       "['il',\n",
       " 'était',\n",
       " 'une',\n",
       " 'fois',\n",
       " 'dans',\n",
       " \"l'\",\n",
       " 'ouest',\n",
       " ',',\n",
       " 'une',\n",
       " 'troupe',\n",
       " 'de',\n",
       " 'cowboys',\n",
       " 'intrépides',\n",
       " '.']"
      ]
     },
     "execution_count": 3,
     "metadata": {},
     "output_type": "execute_result"
    }
   ],
   "source": [
    "## spacy LDA\n",
    "\n",
    "spacy.load('fr')\n",
    "from spacy.lang.fr import French\n",
    "parser = French()\n",
    "\n",
    "def tokenize(text):\n",
    "    lda_tokens = []\n",
    "    tokens = parser(text)\n",
    "    for token in tokens:\n",
    "        if token.orth_.isspace():\n",
    "            continue\n",
    "        elif token.like_url:\n",
    "            lda_tokens.append('URL')\n",
    "        elif token.orth_.startswith('@'):\n",
    "            lda_tokens.append('SCREEN_NAME')\n",
    "        else:\n",
    "            lda_tokens.append(token.lower_)\n",
    "    return lda_tokens\n",
    "\n",
    "# test\n",
    "# we see it's basically a conversion of the words from the split sentence into lower case\n",
    "# but actually there is more under the hood because of the use of a parser\n",
    "tokenize(\"Il était une fois dans l'Ouest, une troupe de cowboys intrépides.\")"
   ]
  },
  {
   "cell_type": "code",
   "execution_count": 4,
   "metadata": {},
   "outputs": [
    {
     "name": "stdout",
     "output_type": "stream",
     "text": [
      "{'dans', 'on', 'tu', 'il', 'eu', 'serons', 'des', 'je', 'ma', 't', 'auras', 'en', 'auraient', 'quand', 'étant', 'aura', 'eussiez', 'étaient', 'ils', 'ta', 'les', 'eusse', 'où', 'le', 'une', 'aurai', 'eûtes', 'après', 'auriez', 'c', 'as', 'fus', 'sommes', 'mes', 'nos', 'd', 'avons', 'sur', 'lui', 'était', 'eût', 'j', 'autre', 'n', 's', 'eurent', 'notre', 'étée', 'nous', 'aurez', 'donc', 'ayant', 'te', 'aie', 'ainsi', 'même', 'ai', 'avaient', 'eut', 'or', 'serais', 'm', 'serez', 'celui-ci', 'eux', 'avions', 'fusses', 'celui-là', 'y', 'étés', 'fût', 'que', 'ayants', 'à', 'l', 'êtes', 'avez', 'ait', 'aient', 'la', 'fut', 'qu', 'seras', 'étiez', 'soyez', 'un', 'de', 'fussions', 'auront', 'comme', 'suis', 'soyons', 'ne', 'été', 'fussiez', 'ayantes', 'soient', 'ayez', 'vos', 'seraient', 'moi', 'tes', 'aies', 'mais', 'étais', 'ni', 'seriez', 'ses', 'aurais', 'aurons', 'leur', 'sera', 'se', 'eus', 'aurait', 'du', 'toi', 'pas', 'fusse', 'me', 'serions', 'fussent', 'ayante', 'aux', 'étants', 'eussions', 'celui', 'aurions', 'avec', 'eusses', 'ce', 'qui', 'fûmes', 'son', 'pour', 'avais', 'au', 'eussent', 'avoir', 'cette', 'est', 'fûtes', 'ont', 'votre', 'serai', 'étantes', 'et', 'mon', 'ayons', 'avant', 'cet', 'soit', 'ton', 'ou', 'eues', 'aviez', 'faire', 'eue', 'par', 'sa', 'être', 'avait', 'depuis', 'elle', 'car', 'es', 'étions', 'vous', 'quoi', 'sont', 'furent', 'sois', 'seront', 'serait', 'alors', 'étées', 'eûmes', 'étante', 'ces'}\n"
     ]
    }
   ],
   "source": [
    "# stopwords removal\n",
    "\n",
    "#v0 : basic list\n",
    "fr_stop = set(nltk.corpus.stopwords.words('french'))\n",
    "#v1 : numbers\n",
    "my_fr_stop=fr_stop.union({'un' ,'deux','trois','quatre','cinq','six','sept','huit','neuf','dix',\n",
    "                          'onze', 'douze', 'treize','quatorze', 'quinze', 'seize', \n",
    "                          'vingt', 'trente', 'quarante', 'cinquante','soixante','cent'}, fr_stop)\n",
    "#v2 : conj + det + verbs\n",
    "my_fr_stop=fr_stop.union({'ce', 'celui', 'cette', 'cet', 'celui-là', 'celui-ci', \n",
    "                          'le', 'la', 'les', 'de', 'des', 'du',\n",
    "                          'mais', 'où', 'et', 'donc', 'or', 'ni', 'car', 'depuis', 'quand', 'que', 'qui', 'quoi',\n",
    "                          'ainsi', 'alors', 'avant', 'après', 'comme', \n",
    "                          'être', 'avoir', 'faire', \n",
    "                          'autre'})\n",
    "\n",
    "#'mille'  'million' 'milliard' 'billion' are not added to the stopwords list because they are more discriminative\n",
    "\n",
    "print(my_fr_stop)"
   ]
  },
  {
   "cell_type": "code",
   "execution_count": 5,
   "metadata": {},
   "outputs": [
    {
     "name": "stdout",
     "output_type": "stream",
     "text": [
      "\n",
      "Lemmas\n",
      "les --> le\n",
      "manifestations --> manifestation\n",
      "qui --> qui\n",
      "ont --> avoir\n",
      "agitées --> agiter\n",
      "la --> le\n",
      "France --> France\n",
      "ces --> ce\n",
      "derniers --> dernier\n",
      "mois --> mois\n",
      "\n",
      "Stems\n",
      "les --> le\n",
      "manifestations --> manifest\n",
      "qui --> qui\n",
      "ont --> ont\n",
      "agitées --> agit\n",
      "la --> la\n",
      "France --> franc\n",
      "ces --> ce\n",
      "derniers --> derni\n",
      "mois --> mois\n"
     ]
    }
   ],
   "source": [
    "# Comparison: nltk french stemmer vs spacy french lemmatizer\n",
    "\n",
    "# spacy\n",
    "print(\"\\nLemmas\")\n",
    "doc = nlp(u\"les manifestations qui ont agitées la France ces derniers mois\")\n",
    "for token in doc:\n",
    "    print(token, '-->', token.lemma_)\n",
    "print(\"\\nStems\")\n",
    "stemmer = FrenchStemmer()\n",
    "for w in \"les manifestations qui ont agitées la France ces derniers mois\".split():\n",
    "    print(w, '-->', stemmer.stem(w))"
   ]
  },
  {
   "cell_type": "markdown",
   "metadata": {},
   "source": [
    "We prefer to use the lemmas over the stems because they tend to be more informative and closer to the actual root word."
   ]
  },
  {
   "cell_type": "code",
   "execution_count": 6,
   "metadata": {},
   "outputs": [
    {
     "name": "stdout",
     "output_type": "stream",
     "text": [
      "'python 3' => 'python '\n",
      "'python3' => 'python3'\n",
      "'1something' => '1something'\n",
      "'2' => ''\n",
      "'434' => ''\n",
      "'python 35' => 'python '\n",
      "'1 ' => ' '\n",
      "' 232' => ' '\n"
     ]
    }
   ],
   "source": [
    "import re\n",
    "words = ['python 3', 'python3', '1something', '2', '434', 'python 35', '1 ', ' 232']\n",
    "for word in words:\n",
    "    print(\"'{}' => '{}'\".format(word, re.sub(r'\\b\\d+\\b', '', word)))\n"
   ]
  },
  {
   "cell_type": "code",
   "execution_count": 52,
   "metadata": {},
   "outputs": [],
   "source": [
    "# Preprocessing  routine\n",
    "\n",
    "def prepare_text(text):\n",
    "    \"\"\"\n",
    "    Input:\n",
    "    ------\n",
    "    text: string, raw text\n",
    "    \n",
    "    Output:\n",
    "    ------\n",
    "    tokens: list of string, tokenized, filtered and lemmatized words from the input text\n",
    "    \"\"\"\n",
    "    tokens = tokenize(text) # split and lower case\n",
    "    tokens=[re.sub(r'\\b\\d+\\b', '', token) for token in tokens] # get rid of digits\n",
    "    tokens = [token for token in tokens if len(token) > 4] # arbitrary length, +get rid of empty strings\n",
    "    tokens = [token for token in tokens if token not in my_fr_stop] # stopwords\n",
    "    doc = nlp(' '.join(tokens)) # pave the wave for spacy lemmatizer\n",
    "    tokens = [token.lemma_ for token in doc] # obtain lemmas\n",
    "    return tokens  "
   ]
  },
  {
   "cell_type": "code",
   "execution_count": 8,
   "metadata": {},
   "outputs": [
    {
     "name": "stdout",
     "output_type": "stream",
     "text": [
      "0    Tintin dans l'espace\n",
      "Name: title, dtype: object\n",
      "[['tintin', 'espac']]\n",
      "0    Trois semaines à bord de la station soviétique...\n",
      "Name: text, dtype: object\n",
      "['trois', 'semaine', 'station', 'soviétique', 'jean-loup', 'chrétien', 'premier', 'ouest-européen', 'sortir', 'espace']\n"
     ]
    }
   ],
   "source": [
    "title_tokens = []\n",
    "text_tokens = []\n",
    "\n",
    "## Apply on titles ##\n",
    "\n",
    "for t in news_df.title:\n",
    "    tokens = prepare_text(t)\n",
    "    title_tokens.append(tokens)\n",
    "        \n",
    "## Apply on titles ##\n",
    "\n",
    "for t in news_df.text:\n",
    "    tokens = prepare_text(t)\n",
    "    text_tokens.append(tokens)\n",
    "\n",
    "print(news_df.title[:1])        \n",
    "print(title_tokens[:1])\n",
    "print(news_df.text[:1][:20])  \n",
    "print(text_tokens[0][:10])"
   ]
  },
  {
   "cell_type": "code",
   "execution_count": 9,
   "metadata": {},
   "outputs": [
    {
     "name": "stdout",
     "output_type": "stream",
     "text": [
      "Tintin --> tintin\n",
      "dans --> dans\n",
      "l' --> le\n",
      "espace --> espace\n",
      "a --> avoir\n",
      "quitté --> quitter\n",
      "la --> le\n",
      "France --> France\n",
      ", --> ,\n",
      "il --> il\n",
      "n' --> n'\n",
      "aura --> avoir\n",
      "plus --> plus\n",
      "besoin --> besoin\n",
      "de --> de\n",
      "francs --> franc\n",
      ". --> .\n"
     ]
    }
   ],
   "source": [
    "## ?? espac / espace \n",
    "doc = nlp(u\"Tintin dans l'espace a quitté la France, il n'aura plus besoin de francs.\")\n",
    "for token in doc:\n",
    "    print(token, '-->', token.lemma_)"
   ]
  },
  {
   "cell_type": "markdown",
   "metadata": {},
   "source": [
    "__Visualize results with a wordcloud__\n",
    "\n",
    "We can control the quality of our preprocessing by plotting a wordcloud.\n",
    "\n",
    "We are satisfied by the quality of the processed titles since most of the words we see are nouns eligible as key words to describe an article.\n",
    "There is still room for improvement  on the side of article bodies (we spot a few link words, noun articles and adverbs we could get rid of through the stopwords list).\n",
    "\n",
    "//*Eventuellement on enrichira la liste de stopwords pour éliminer ces mots. Cependant, comme ils sont communs et donc peu discriminants, on peut espérer que leur score tf-idf sera en général relativement bas, et donc qu'ils seront éliminés du vocabulaire par la suite.*//"
   ]
  },
  {
   "cell_type": "code",
   "execution_count": 10,
   "metadata": {},
   "outputs": [
    {
     "data": {
      "image/png": "[encoded data removed]",
      "text/plain": [
       "<PIL.Image.Image image mode=RGB size=400x200 at 0x7F991DFC9AC8>"
      ]
     },
     "execution_count": 10,
     "metadata": {},
     "output_type": "execute_result"
    }
   ],
   "source": [
    "# Import the wordcloud library\n",
    "from wordcloud import WordCloud\n",
    "# Join the different processed titles together.\n",
    "long_string = ','.join(list([' '.join(word_list_i) for word_list_i in title_tokens]))\n",
    "# Create a WordCloud object\n",
    "wordcloud = WordCloud(background_color=\"white\", max_words=5000, contour_width=3, contour_color='steelblue')\n",
    "# Generate a word cloud\n",
    "wordcloud.generate(long_string)\n",
    "# Visualize the word cloud\n",
    "wordcloud.to_image()"
   ]
  },
  {
   "cell_type": "code",
   "execution_count": 11,
   "metadata": {},
   "outputs": [
    {
     "data": {
      "image/png": "[encoded data removed]",
      "text/plain": [
       "<PIL.Image.Image image mode=RGB size=400x200 at 0x7F991DFD82B0>"
      ]
     },
     "execution_count": 11,
     "metadata": {},
     "output_type": "execute_result"
    }
   ],
   "source": [
    "# Same for article bodies\n",
    "# Join the different processed texts together.\n",
    "long_string = ','.join(list([' '.join(word_list_i) for word_list_i in text_tokens]))\n",
    "# Create a WordCloud object\n",
    "wordcloud = WordCloud(background_color=\"white\", max_words=5000, contour_width=3, contour_color='steelblue')\n",
    "# Generate a word cloud\n",
    "wordcloud.generate(long_string)\n",
    "# Visualize the word cloud\n",
    "wordcloud.to_image()"
   ]
  },
  {
   "cell_type": "markdown",
   "metadata": {},
   "source": [
    "__Perform LDA with Gensim__\n",
    "\n",
    "Fixage arbitraire du nombre de topics, comme on fixerait arbitrairement k dans un k-means."
   ]
  },
  {
   "cell_type": "code",
   "execution_count": 12,
   "metadata": {},
   "outputs": [],
   "source": [
    "dic_title = corpora.Dictionary(title_tokens)\n",
    "dic_text = corpora.Dictionary(text_tokens)\n",
    "corpus_title = [dic_title.doc2bow(token) for token in title_tokens]\n",
    "corpus_text = [dic_text.doc2bow(token) for token in text_tokens]\n",
    "\n",
    "pickle.dump(corpus_title, open('corpus_title.pkl', 'wb'))\n",
    "dic_title.save('dic_title.gensim')\n",
    "pickle.dump(corpus_title, open('corpus_text.pkl', 'wb'))\n",
    "dic_text.save('dic_text.gensim')"
   ]
  },
  {
   "cell_type": "code",
   "execution_count": 13,
   "metadata": {},
   "outputs": [
    {
     "name": "stdout",
     "output_type": "stream",
     "text": [
      "['espac', 'tintin', 'boulin', 'robert', 'suicide', 'certitude', 'contre', 'pierre', 'mercredi', 'otage', 'soudain', 'planète', 'rouge', 'secret', 'ammar', 'forcer', 'marche', 'champion', 'discret', 'olympique', 'quinon', 'algérie', 'faillit', 'sanglant', 'israël', 'ébranlé', 'homme', 'objet', 'ponge', 'bess', 'georges', 'pourquoi', 'africain', 'long', 'mémoire', 'malgré', 'antigone', 'benazir', 'bhutto', 'janvier', 'pakistan', 'soupçon', 'triangle', 'campagne', 'ombre', 'darwin', 'tromper', 'dayan', 'symbole', 'impopulaire', 'leader', 'pérè', 'shimon', 'exclusif', 'finit', 'phnom', 'témoignage', 'expliqu', 'simone', 'bureau', 'informatique', 'livré', 'jérusalem', 'nouveau', 'seul', 'chopinet', 'express', 'retrouve', 'touvier', 'tutelle', 'agent', 'faux', 'france', 'star', 'vrai', 'complexe', 'pinochet', 'challenger', 'drame', 'beineix', 'coluche', 'nourricier', 'marchandage', 'terrorisme', 'enquête', 'reprendre', 'espagne', 'goytisolo', 'sarrasin', 'attentat', 'blanco', 'carrero', 'décembre', 'avortement', 'médecin', 'peine', 'hors-la-loi', 'extraire', 'guerre', 'kippour', 'front', 'arafat', 'intronisé', 'yasser', 'femme', 'pouvoir', 'hearst', 'patricia', 'épisode', 'appel', 'ambulance', 'feuilleton', 'dibi', 'ethnologue', 'pascal', 'tribu', 'douce', 'manifestation', 'novembre', 'retour', 'tchécoslovaquie', 'pologn', 'solidarité', 'bocal', 'énigme', 'destin', 'sacré', 'capitalisme', 'ouvrir', 'pologne', 'délit', 'fuite', 'ozone', 'chadli', 'joker', 'faucon', 'tête', 'future', 'noiret', 'sacrer', 'tavernier', 'union', 'jour', 'pékin', 'tiananmen', 'droit', 'famine', 'château', 'havel', 'prison', 'vaclav', 'banqueroute', 'mathieu', 'selon', 'espace', 'pann', 'revanche', 'serber', 'chargeur', 'réunir', 'jeune', 'envers', 'paradis', 'chine', 'liberté', 'typhon', 'enfant', 'saint-laurent', 'triste', 'burguéra', 'méthode', 'baton', 'carotte', 'couette', 'degré', 'carthage', 'rêver', 'intemporel', 'changer', 'crise', 'japon', 'paysans', 'ploucs', 'carrefour', 'science', 'conclusion', 'heureux', 'liaison', 'croisade', 'mafia', 'papal', 'guignols', 'au-dessus', 'force', 'concertee', 'impossible', 'recession', 'reponse', 'hamas', 'occupe', 'territoire', 'haine', 'juge', 'mille', 'normal', 'nuit', 'chiffre', 'querelle', 'masquer', 'tarif', 'transparent', 'envahie', 'europe', 'chomage', 'capital', 'comment', 'gerer', 'image', 'mammifère', 'étonnant', 'politique', 'socialiste', 'limite', 'amour', 'repere', 'quel', 'étranger', 'eurosceptique', 'monter', 'terre', 'atmosphere', 'drôle', 'progrès', 'histoire', 'négociation', 'carton', 'jaune', 'tapie', 'agence', 'associ', 'consigny', 'directeur', 'lundi', 'octobre', 'oper', 'publicit', 'thierry', 'bazar', 'economie', 'russi', 'compact', 'irest', 'charlot', 'napper', 'parler', 'pouvaient', 'idyll', 'staccato', 'bourse', 'gérer', 'change', 'libert', 'presse', 'courrier', 'lecteur', 'spirituel', 'credit', 'encore', 'lyonnais', 'tuil', 'découverte', 'indispensable', 'laser', 'hermon', 'michel', 'utile', 'négliger', 'bernard', 'madagascar1853', 'justice', 'social', 'orgueil', 'franchise', 'heur', 'vérité', 'chaos', 'mort', 'devon', 'victoire', 'afrique', 'continent', 'miette', '.', 'céline', 'l.-f', 'amériqu', 'capitaine', 'grand', 'cameroun', 'deuxième', 'cent', 'métier', 'chercher', 'patron', 'repreneur', 'influence', 'debat', 'interdire', 'interet', 'joyau', 'éternel', 'guiloineau', 'mandela', 'nelson', 'implacable', 'santé', 'intempérie', 'tempérer', 'carnage', 'révélation', 'renseignement', 'cours', 'decodeur', 'méphisto', 'evaluation', 'petit', 'sortie', 'boris', 'eltsine', 'maladie', 'dollar', 'baisse', 'gandoi', 'salaire', 'dijon', 'fêtard', 'italien', 'surmontera', 'pantomime', 'port-au-prince', 'libraire', 'impitoyable', 'univers', 'amer', 'sud-ouest', 'trêve', 'retenir', 'embellie', 'flaconnage', 'blesser', 'dresde', 'mémoir', 'licencie', 'priorite', 'reembauchage', 'salarie', 'vague', 'diplomate', 'quotidien', 'faillir', 'perdre', 'excès', 'royaume', 'américain', 'etape', 'atteint', 'minitel', 'diamant', 'fantôme', 'central', 'combourg', 'cerise', 'lui', 'lèvre', 'cher', 'dieux', 'yakouti', 'astéri', 'theodore', 'zeldin', 'diluer', 'epopee', 'eurotunnel', 'étreinte', 'franglais', 'lexiqu', 'managerial', 'eternell', 'lumiere', 'presque', 'aéropostal', 'bouilloux', 'lafont', 'marcel', 'chant', 'tout', 'calvet', 'epuisant', 'imprecateur', 'choix', 'paris', 'banane', 'nabab', 'island', 'kangaroo', 'revivre', 'combien', 'emploi', 'offre', 'stabilisation', 'compte', 'légend', 'ancien', 'fremissement', 'essec', 'mardi', 'suisse', 'feuille', 'impot', 'suivez', 'départ', 'apollo', 'mond', 'juillet', 'désormais', 'misent', 'nigérian', 'vivra', 'peuple', 'suicid', 'répression', 'alarme', 'supprimer', 'budapest', 'parle', 'sartre', 'doute', 'semaine', 'densité', 'implantation', 'rebelle', 'clefs', 'psychanalyse', 'français', 'bollardière', 'combat', 'général', 'gagne', 'gourion', 'point', 'léone', 'mazurat', 'victime', 'complexité', 'edgar', 'morin', 'economist', 'tirer', 'chorégier', 'enjeu', 'média', 'entre', 'quelle', 'racine', 'saveur', 'senteur', 'chantiers', 'septennat', 'véritable', 'devant', 'inégal', 'plaisir', 'syndic', 'apre', 'abba', 'algerienn', 'ferhat', 'utopie', 'cabl', 'menac', 'satelli', 'camp', 'horreur', 'nazis', 'tour', 'deficit', 'banlieue', 'vivier', 'suédois', 'humanitaire', 'janina', 'ochojska', 'pédagogie', 'financier', 'client', 'culture', 'flambe', 'noumea', 'paysan', 'voler', 'verbatim', 'mutation', 'nostra', 'immigre', 'affaire', 'révélon', 'budgetair', 'controle', 'classement', 'charismatique', 'ministre', 'monde', 'premier', 'québec', 'mensonge', 'prisonnier', 'dejouany', 'examen', 'berlin', 'doigt', 'cadre', 'fier', 'partiel', 'temps', 'charles', 'maternité', 'professeur', 'rudigoz', 'désir', 'lorsque', 'paraître', 'rebond', 'chirac', 'miroir', 'association', 'collimateur', '-nou', 'bien-êtr', 'combine', 'milliard', 'langage', 'exposition', 'sortir', 'dram', 'leçons', 'société', 'émission', 'film', 'communisme', 'jurassic', 'lénine', 'colon', 'préoccupent', 'khmer', 'bagarre', 'bebe', 'budget', 'coup', 'policier', 'énigm', 'écran', 'interesse', 'supporter', 'esclave', 'martyr', 'demenager', 'suffire', 'sureffectif', 'syndicat', 'veulent', 'phrase', 'gustatif', 'voyage', 'françois', 'giroud', 'tigre', 'mauvais', 'signal', 'brevet', 'vampire', 'italie', 'moral', 'ordre', 'guide', 'ville', 'elyser', 'antimissile', 'lasers', 'orbite', 'concert', 'virtuel', 'héritage', 'rabin', 'institutionnel', 'trace', 'badinter', 'eichmann', 'procès', 'kennedy', 'contingent', 'o.a.s', 'programmme', 'heure', 'barka', 'récit', 'témoin', 'chinois', 'culturel', 'regard', 'révolution', 'chapeau', 'envoyé', 'spécial', 'jean-marie', 'vraiment', 'lamas', 'stepp', 'bon', 'volonté', 'innovateur', 'vitamine', 'aller', 'franc', 'jusqu', 'ponction', 'defier', 'gouvernement', 'tourisme', 'accor', 'stratégie', \"'\", 'paria', 'tzigane', 'engrenage', 'medecin', 'salle', 'irremplaçable', 'mendè', 'meurtrier', 'accord', 'renault', 'volvo', 'courant', 'internationaliste', 'elizabeth', 'taylor', 'competitivite', 'prefere', 'productivite', 'directrice', 'trois', 'costume', 'marzotto', 'philippe', 'portrer', 'séguin', 'discipline', 'inflation', 'lesfrancai', 'quiachange', 'vivre', 'mince', 'responsabilité', 'bercy', 'laisse', 'marque', 'commission', 'offensif', 'orient', 'pacifique', 'proche', 'empire', 'lever', 'soleil', 'train', 'exode', 'route', 'allemand', 'regle', 'sauvage', 'gages', 'tueur', 'attendre', 'islamiste', 'poids', 'golda', 'espoir', 'illusion', 'afriqu', 'détectiv', 'marguerite', 'moïs', 'opération', 'demain', 'kanaky', 'tjibaou', 'hont', 'vallée', 'lettre', 'jamais', 'yamit', 'cactus', 'sinaï', 'autre', 'jean-pierre', 'écart', 'acteur', 'désengager', 'avril', 'financer', 'retraite', 'ambiguïté', 'holme', 'moine', 'sherlock', 'double', 'désastreux', 'moins', 'assassinat', 'bertrand', 'cambodge', 'goulag', 'bédouin', 'glace', 'commando', 'suite', 'henry', 'patrick', 'lrgoun', 'décider', 'euthanasie', 'schwartzenberg', 'condamnation', 'appeler', 'augusto', 'cessa', 'verdict', 'ombr', 'shamir', 'soldat', 'second', 'bibliothèqu', 'dumberto', 'arrive', 'pauvre', 'génocid', 'burgo', 'biafra', 'éternité', 'continger', 'parachutiste', 'guérillero', 'téhéran', 'chute', 'strasbourg', 'cirqu', 'clignancourt', 'mesrine', 'giscard', 'espagnol', 'filièr', 'goldman', 'lendemain', 'boulet', 'européen', 'homm', 'khomeini', 'occident', 'trembler', 'personne', 'dernier', 'dialogue', 'bombe', 'guêpier', 'frontière', 'demission', 'dessous', 'hopital', 'attaque', 'corruption', 'juppe', 'confession', 'chien', 'management', 'consulter', 'francai', 'danois', 'mariage', 'international', 'multiplier', 'pression', 'cardin', 'galaxie', 'mode', 'consommation', 'reprise', 'street', 'cinémer', 'grain', 'sable', 'vatican', 'encyclopedie', 'rupture', 'immigré', 'leur', 'diana', 'gloire', 'decollage', 'armateur', 'barraquand', 'barreur', 'bollore', 'privilegier', 'bien-naître', 'devenir', 'expansion', 'fevrier', 'generation', 'precarit', 'dictature', 'narco', 'cannabis', 'toxique', 'allege', 'chambre', 'ecolo', 'energie', 'sydney', 'sien', 'toujours', 'trahir', 'complice', 'elitisme', 'populism', 'armée', 'decu', 'gandois', 'patronat', 'socialistes', 'bretagne', 'vendre', 'cohen', 'daniel', 'flammarion', 'nations', 'page', 'pauvretes', 'richess', 'botanique', 'cime', 'tropical', 'clémer', 'entourloupe', 'judiciaire', 'publication', 'aquitaine', 'benie', 'brer', 'jaffre', 'empoisonner', 'parquet', 'tardif', 'libre', 'modèle', 'maître', 'roserai', 'allemagne', 'réunie', 'humeur', 'salaud', 'touch', 'frere', 'galere', 'jacques', 'saade', 'europ', 'lantern', 'franceman', 'industrie', 'apprendre', 'atlantique', 'alcatel', 'patte', 'thomson', 'velours', 'antirigueur', 'argentine', 'menem', 'revolte', 'attente', 'disaient', 'expatrier', 'bilan', 'chapier', 'laisser', 'singulier', 'nous', 'pedro', 'murmure', 'bator', 'ouest', 'oulan', 'délir', 'initié', 'umberto', 'libéria', 'national', 'menacé', 'parretti', 'masque', 'plume', 'westlak', 'partir', 'pluralisme', 'adolf', 'chancelier', 'hitler', 'rescapé', 'santer', 'juif', 'millier', 'financement', 'éclater', 'apocalypse', 'folle', 'odysser', 'fusil', 'journal', 'dix-huit', 'islam', 'restez', 'veille', 'bousquet', 'vraie', 'bongo', 'montre', 'février', 'palestinien', 'réfugier', 'reculer', 'telecom', 'aguichant', 'argent', 'rideau', 'effort', 'madame', 'prendre', 'calculez', 'chef', 'devoir', 'gagner', 'service', 'secteur', 'telecommunication', 'jospin', 'fausse', 'honkong', 'vision', 'castrier', 'henri', 'regner', 'commerce', 'exterieur', 'repartir', 'americaine', 'negociation', 'europeenn', 'seattle', 'confidentiel', 'réponse', 'maltraitance', 'principe', 'retraire', 'monument', 'remordre', 'fiscal', 'surplus', 'conseillera', 'waigel', 'croissance', 'mondial', 'allemagn', 'commande', 'etranger', 'profite', 'indépendanse', 'tibet', 'législatives', 'résultat', 'fiscalite', 'promettre', 'enchere', 'trouble', 'deutsche', 'sanctionn', 'telekom', 'balladur', 'devedjian', 'donne', 'hommes-femme', 'malentendu', 'cinema', 'acheter', 'grossiste', 'sicav', 'année', 'olivier', 'rolin', 'agriculture', 'americain', 'raboter', 'affrontent', 'arnault', 'internet', 'pinault', 'emprunt', 'relance', 'busines', 'mediterranee', 'oriental', 'industriel', 'production', 'rechute', 'septembre', 'public', 'gerhard', 'massivement', 'schroder', 'abecedair', 'amiant', 'revolution', 'silencieux', 'chose', 'sport', 'lionel', 'parie', 'accelere', 'decelerent', 'menages', 'record', 'salarier', 'baudis', 'défi', 'maison', 'baiss', 'restauration', 'chrono', 'convertit', 'reseau', 'reseaux', 'antimondialisation', 'export', 'chrétien', 'visage', 'joyeux', 'famille', 'confirme', 'suppression', 'blair', 'licencier', 'tiens', 'fou', 'oestrich', 'suède', 'paritarism', 'banque', 'deficits', 'epanouissement', 'fleurs', 'plein', 'astre', 'cayrol', 'publica', 'roland', 'marocain', 'pleurer', 'protecteur', 'final', 'rugby', 'craindre', 'petrolier', 'prochain', 'troisieme', 'platanisme', 'ravage', 'decennie', 'meilleur', 'vente', 'medef', 'paritarisme', 'cerveau', 'dependance', 'molecule', 'reduir', 'toxicomani', 'aerospatial', 'couac', 'fusion', 'matra', 'activite', 'hausse', 'ralentir', 'enflamm', 'istambul', 'poésie', 'retrouver', 'action', 'rentable', 'bijou', 'chaumet', 'horloge', 'Monsieur', 'danger', 'préparer', 'vous', 'alstom', 'revers', 'siemens', 'subit', 'taiwan', 'abusif', 'licenciement', 'taxer', 'commercial', 'enjeux', 'gouvernemental', 'mesure', 'inquiet', 'preparation', 'reunion', 'rappelee', 'tractebel', 'mobiles', 'salon', 'aubry', 'excedent', 'conte', 'irland', 'bours', 'selftrade', 'acceler', 'recentrage', 'platz', 'potsdamer', 'ténébreux', 'fruit', 'verts', 'algerie', 'mende', 'ingénieur', 'mobiliter', 'élève', 'camargue', 'oustiqu', 'coûteuser', 'négligence', 'alli', 'bebear', 'paribas', 'aide', 'europeenne', 'recoivent', 'region', 'balis', 'chemin', 'obstacle', 'pourtant', 'débriefing', 'creent', 'departement', 'emplois', 'equipe', 'xavier', 'partner', 'controversé', 'vaccin', 'frèche', 'surprise', 'basculer', 'bouygue', 'brother', 'eter', 'ailleurs', 'krugman', 'ballon', 'micro', 'apôtr', 'droite', 'extrême', 'attitude', 'routards', 'bienfait', 'cohabitation', 'coffret', 'decouverte', 'gallimard', 'havas', 'interactive', 'larousse', 'polemique', 'prevision', 'grac', 'rayonn', 'panama', 'strategi', 'ronflement', 'spleen', 'coré', 'idéal', 'touristique', 'climat', 'deteriore', 'miser', 'tortionnaire', 'chanter', 'demissionne', 'enfance', 'pâtur', 'fonctionnaires', 'nippon', 'terreur', 'chronologie', 'democratie', 'anonyme', 'passionnément', 'naître', 'indomptable', 'shanghai', 'fache', 'gastronomie', 'contrer', 'invoqu', 'cible', 'reduction', 'reflechisson', 'examine', 'ultrason', 'amiens', 'téléphonie', 'multimédia', 'position', 'schuman', 'conduire', 'houphouët', 'bénin', 'jouent', 'regret', 'serviteur', 'vichy', 'fatiguée', 'parrain', 'musiqu', 'notte', 'croatie', 'déchirur', 'enfer', 'kurdistan', 'oasis', 'contrôlé', 'dérapage', 'madrid', 'promesse', 'charité', 'ordonnée', 'coeur', 'descente', 'bluff', 'bossi', 'gadget', 'candidat', 'embauche', 'ordinateur', 'sélection', 'couleur', 'primaire', 'calvair', 'scientologue', 'netanyahu', 'etat', 'washington', 'rwanda', 'privation', 'verite', 'néerlandais', 'cotte', 'maille', 'après-aïdid', 'espoirs', 'somali', 'ténus', 'chancellerie', 'marches', 'caisse', 'geste', 'passer', 'profanateur', 'figaro', 'heritier', 'guérir', 'oncle', 'eltsin', 'defaisance', 'mexicain', 'cherchez', 'indifférence', 'toller', 'hollywood', 'control', 'doter', 'elementaire', 'gestion', 'local', 'organismes', 'courir', 'frontiere', 'pass', 'coupable', 'forum', 'skoda', 'exploitez', 'johnny', 'malheur', 'police', 'prudence', 'reform', 'progresse', 'finance', 'holdings', 'nettoyage', 'operation', 'cache', 'dingue', 'tendance', 'tong', 'économie', 'lescure', 'moteur', 'nethold', 'fragile', 'rêve', 'syrien', 'consommateur', 'francer', 'marketing', 'reconcilient', 'yaourt', 'belgiqu', 'éclaté', 'aussi', 'cancer', 'cigarette', 'gene', 'bénéfice', 'hezbollah', 'disney', 'television', 'harcèlement', 'prion', 'savoir', 'botte', 'hauts', 'pasquer', 'repli', 'seine', 'indice', 'nikkei', 'piéger', 'avocat', 'cabinet', 'cribl', 'passe', 'vivant', 'farine', 'poisson', 'viande', 'zapper', 'convoite', 'wireles', 'marilyn', 'monroe', 'réussir', 'confu', 'dossier', 'charonn', 'massacre']\n"
     ]
    }
   ],
   "source": [
    "print([k for k in dic_title.values()])"
   ]
  },
  {
   "cell_type": "code",
   "execution_count": 14,
   "metadata": {},
   "outputs": [
    {
     "name": "stdout",
     "output_type": "stream",
     "text": [
      "\n",
      "Topics\n",
      "(0, '0.019*\"contre\" + 0.013*\"france\" + 0.010*\"algérie\" + 0.006*\"rouge\"')\n",
      "(1, '0.017*\"express\" + 0.012*\"franc\" + 0.011*\"pouvoir\" + 0.009*\"femme\"')\n",
      "(2, '0.011*\"chine\" + 0.007*\"robert\" + 0.007*\"droit\" + 0.007*\"appeler\"')\n",
      "(3, '0.010*\"nouveau\" + 0.007*\"homme\" + 0.007*\"allemagne\" + 0.007*\"carton\"')\n",
      "(4, '0.014*\"france\" + 0.008*\"retour\" + 0.008*\"pierre\" + 0.008*\"crise\"')\n",
      "(5, '0.012*\"france\" + 0.009*\"royaume\" + 0.006*\"emploi\" + 0.006*\"semaine\"')\n",
      "(6, '0.010*\"europe\" + 0.010*\"italie\" + 0.007*\"chiffre\" + 0.007*\"boulin\"')\n",
      "(7, '0.013*\"histoire\" + 0.007*\"patron\" + 0.007*\"affaire\" + 0.007*\"petit\"')\n",
      "(8, '0.016*\"heure\" + 0.013*\"japon\" + 0.013*\"changer\" + 0.007*\"décembre\"')\n",
      "(9, '0.015*\"encore\" + 0.008*\"marche\" + 0.008*\"premier\" + 0.008*\"ministre\"')\n",
      "\n",
      "Topics\n",
      "(0, '0.006*\"pouvoir\" + 0.005*\"premier\" + 0.004*\"politique\" + 0.004*\"homme\"')\n",
      "(1, '0.005*\"pouvoir\" + 0.004*\"français\" + 0.004*\"france\" + 0.004*\"kennedy\"')\n",
      "(2, '0.004*\"israël\" + 0.003*\"temps\" + 0.003*\"israélien\" + 0.003*\"grand\"')\n",
      "(3, '0.011*\"emploi\" + 0.005*\"franc\" + 0.005*\"créer\" + 0.005*\"salarier\"')\n",
      "(4, '0.005*\"politique\" + 0.003*\"homme\" + 0.003*\"france\" + 0.003*\"pouvoir\"')\n",
      "(5, '0.004*\"pouvoir\" + 0.004*\"homme\" + 0.003*\"grand\" + 0.003*\"premier\"')\n",
      "(6, '0.004*\"français\" + 0.004*\"américain\" + 0.003*\"grand\" + 0.003*\"entre\"')\n",
      "(7, '0.004*\"premier\" + 0.003*\"homme\" + 0.003*\"ministre\" + 0.003*\"quelque\"')\n",
      "(8, '0.004*\"femme\" + 0.004*\"franc\" + 0.004*\"france\" + 0.004*\"français\"')\n",
      "(9, '0.003*\"pouvoir\" + 0.003*\"grand\" + 0.003*\"leur\" + 0.003*\"premier\"')\n"
     ]
    }
   ],
   "source": [
    "# get the topics! \n",
    "\n",
    "NUM_TOPICS = 10\n",
    "\n",
    "for (corpus, dictionary) in [(corpus_title, dic_title), (corpus_text, dic_text)]:\n",
    "    print('\\nTopics')\n",
    "    ldamodel = gensim.models.ldamodel.LdaModel(corpus, num_topics = NUM_TOPICS, id2word=dictionary, passes=15)\n",
    "    ldamodel.save('model5.gensim')\n",
    "    topics = ldamodel.print_topics(num_words=4)\n",
    "    for topic in topics:\n",
    "        print(topic)"
   ]
  },
  {
   "cell_type": "code",
   "execution_count": 15,
   "metadata": {},
   "outputs": [],
   "source": [
    "# to be continued\n",
    "# https://towardsdatascience.com/topic-modelling-in-python-with-nltk-and-gensim-4ef03213cd21"
   ]
  },
  {
   "cell_type": "markdown",
   "metadata": {},
   "source": [
    "__Analysis__\n",
    "\n",
    "* at first sight, key words associated to the same topic do not always have much in common \n",
    "* some of the words used to define topics do not seem like relevant, high level key words\n",
    "* maybe the corpus is to small or to heterogeneous to obtain relevant topics this way!\n",
    "\n",
    "--> *Improvement ideas*\n",
    "- preprocessing: remove figures ('000', '10', '100', '11', '12', '15', '16', '17', '1990', '1997', '20', '30', '31', '50', '500', '60')\n",
    "- try clustering methods and put a word on the topics\n",
    "- improve dictionary\n",
    "- improve this first LDA model (more ideas [here](https://www.machinelearningplus.com/nlp/topic-modeling-gensim-python/))\n",
    "- get more data on specific topics\n"
   ]
  },
  {
   "cell_type": "markdown",
   "metadata": {},
   "source": [
    "# 2. Clustering \n",
    "\n",
    "K-Means clustering and DBSCAN with tf-idf representation\n",
    "\n"
   ]
  },
  {
   "cell_type": "markdown",
   "metadata": {},
   "source": [
    "### a. Build a tf-idf matrix to represent the corpus"
   ]
  },
  {
   "cell_type": "markdown",
   "metadata": {},
   "source": [
    "__Naive approach based on word count__\n",
    "\n",
    "We rapidly see that the use of lemmas is nessecary to avoid the explosion of our vocabulary. For example, \"missives\" and \"missive\" should be considered to be the same. "
   ]
  },
  {
   "cell_type": "code",
   "execution_count": 16,
   "metadata": {},
   "outputs": [
    {
     "name": "stdout",
     "output_type": "stream",
     "text": [
      "(726, 43869)\n"
     ]
    }
   ],
   "source": [
    "#instantiate CountVectorizer() \n",
    "cv=CountVectorizer() \n",
    " \n",
    "# this steps generates word counts for the words in your docs \n",
    "word_count_vector=cv.fit_transform(news_df.text)\n",
    "\n",
    "print(word_count_vector.shape)\n",
    "# Houston, we have a dimensionality problem"
   ]
  },
  {
   "cell_type": "code",
   "execution_count": 17,
   "metadata": {},
   "outputs": [
    {
     "data": {
      "text/html": [
       "<div>\n",
       "<style scoped>\n",
       "    .dataframe tbody tr th:only-of-type {\n",
       "        vertical-align: middle;\n",
       "    }\n",
       "\n",
       "    .dataframe tbody tr th {\n",
       "        vertical-align: top;\n",
       "    }\n",
       "\n",
       "    .dataframe thead th {\n",
       "        text-align: right;\n",
       "    }\n",
       "</style>\n",
       "<table border=\"1\" class=\"dataframe\">\n",
       "  <thead>\n",
       "    <tr style=\"text-align: right;\">\n",
       "      <th></th>\n",
       "      <th>idf_weights</th>\n",
       "    </tr>\n",
       "  </thead>\n",
       "  <tbody>\n",
       "    <tr>\n",
       "      <th>de</th>\n",
       "      <td>1.000000</td>\n",
       "    </tr>\n",
       "    <tr>\n",
       "      <th>la</th>\n",
       "      <td>1.022254</td>\n",
       "    </tr>\n",
       "    <tr>\n",
       "      <th>le</th>\n",
       "      <td>1.036419</td>\n",
       "    </tr>\n",
       "    <tr>\n",
       "      <th>des</th>\n",
       "      <td>1.047896</td>\n",
       "    </tr>\n",
       "    <tr>\n",
       "      <th>les</th>\n",
       "      <td>1.052235</td>\n",
       "    </tr>\n",
       "    <tr>\n",
       "      <th>...</th>\n",
       "      <td>...</td>\n",
       "    </tr>\n",
       "    <tr>\n",
       "      <th>missives</th>\n",
       "      <td>6.895779</td>\n",
       "    </tr>\n",
       "    <tr>\n",
       "      <th>missive</th>\n",
       "      <td>6.895779</td>\n",
       "    </tr>\n",
       "    <tr>\n",
       "      <th>compensés</th>\n",
       "      <td>6.895779</td>\n",
       "    </tr>\n",
       "    <tr>\n",
       "      <th>miradors</th>\n",
       "      <td>6.895779</td>\n",
       "    </tr>\n",
       "    <tr>\n",
       "      <th>œuvre</th>\n",
       "      <td>6.895779</td>\n",
       "    </tr>\n",
       "  </tbody>\n",
       "</table>\n",
       "<p>43869 rows × 1 columns</p>\n",
       "</div>"
      ],
      "text/plain": [
       "           idf_weights\n",
       "de            1.000000\n",
       "la            1.022254\n",
       "le            1.036419\n",
       "des           1.047896\n",
       "les           1.052235\n",
       "...                ...\n",
       "missives      6.895779\n",
       "missive       6.895779\n",
       "compensés     6.895779\n",
       "miradors      6.895779\n",
       "œuvre         6.895779\n",
       "\n",
       "[43869 rows x 1 columns]"
      ]
     },
     "execution_count": 17,
     "metadata": {},
     "output_type": "execute_result"
    }
   ],
   "source": [
    "# tf-idf with all the words\n",
    "tfidf_transformer=TfidfTransformer(smooth_idf=True,use_idf=True) \n",
    "tfidf_transformer.fit(word_count_vector)\n",
    "\n",
    "# print idf values \n",
    "idf = pd.DataFrame(tfidf_transformer.idf_, index=cv.get_feature_names(),columns=[\"idf_weights\"]) \n",
    " \n",
    "# sort ascending \n",
    "idf.sort_values(by=['idf_weights'])"
   ]
  },
  {
   "cell_type": "markdown",
   "metadata": {},
   "source": [
    "We have to select the words with highest tf-idf count."
   ]
  },
  {
   "cell_type": "markdown",
   "metadata": {},
   "source": [
    "Improvement ideas:\n",
    "    \n",
    "* get rid of figures \"000\", \"cinq\"\n",
    "* get rid of non topic words (destructive approach)\n",
    "* custom build vocabulary for the corpus, based on previous NER extraction \n",
    "* use lemmas (root words) instead of full words (ex: français, france go back to the same entity)\n"
   ]
  },
  {
   "cell_type": "markdown",
   "metadata": {},
   "source": [
    "__Tf-idf with lemmatized words__\n",
    "\n",
    "We resuse the preprocessing made in the LDA section. We already obtain a smaller vocabulary, but it remains too big. So next step is to fit the Tf-Idf matrix with some constraints to reduce the number of features."
   ]
  },
  {
   "cell_type": "code",
   "execution_count": 18,
   "metadata": {},
   "outputs": [],
   "source": [
    "news_df['pre_title']=[' '.join(word_list_i) for word_list_i in title_tokens] # preprocessed titles\n",
    "news_df['pre_text']=[' '.join(word_list_i) for word_list_i in text_tokens] # preprocessed article bodies"
   ]
  },
  {
   "cell_type": "code",
   "execution_count": 19,
   "metadata": {},
   "outputs": [
    {
     "name": "stdout",
     "output_type": "stream",
     "text": [
      "(726, 33644)\n"
     ]
    },
    {
     "data": {
      "text/html": [
       "<div>\n",
       "<style scoped>\n",
       "    .dataframe tbody tr th:only-of-type {\n",
       "        vertical-align: middle;\n",
       "    }\n",
       "\n",
       "    .dataframe tbody tr th {\n",
       "        vertical-align: top;\n",
       "    }\n",
       "\n",
       "    .dataframe thead th {\n",
       "        text-align: right;\n",
       "    }\n",
       "</style>\n",
       "<table border=\"1\" class=\"dataframe\">\n",
       "  <thead>\n",
       "    <tr style=\"text-align: right;\">\n",
       "      <th></th>\n",
       "      <th>idf_weights</th>\n",
       "    </tr>\n",
       "  </thead>\n",
       "  <tbody>\n",
       "    <tr>\n",
       "      <th>pouvoir</th>\n",
       "      <td>1.602474</td>\n",
       "    </tr>\n",
       "    <tr>\n",
       "      <th>premier</th>\n",
       "      <td>1.610041</td>\n",
       "    </tr>\n",
       "    <tr>\n",
       "      <th>grand</th>\n",
       "      <td>1.617665</td>\n",
       "    </tr>\n",
       "    <tr>\n",
       "      <th>nouveau</th>\n",
       "      <td>1.675423</td>\n",
       "    </tr>\n",
       "    <tr>\n",
       "      <th>aussi</th>\n",
       "      <td>1.689029</td>\n",
       "    </tr>\n",
       "    <tr>\n",
       "      <th>...</th>\n",
       "      <td>...</td>\n",
       "    </tr>\n",
       "    <tr>\n",
       "      <th>houleuse</th>\n",
       "      <td>6.895779</td>\n",
       "    </tr>\n",
       "    <tr>\n",
       "      <th>houle</th>\n",
       "      <td>6.895779</td>\n",
       "    </tr>\n",
       "    <tr>\n",
       "      <th>houillon</th>\n",
       "      <td>6.895779</td>\n",
       "    </tr>\n",
       "    <tr>\n",
       "      <th>hooligans</th>\n",
       "      <td>6.895779</td>\n",
       "    </tr>\n",
       "    <tr>\n",
       "      <th>œuvre</th>\n",
       "      <td>6.895779</td>\n",
       "    </tr>\n",
       "  </tbody>\n",
       "</table>\n",
       "<p>33644 rows × 1 columns</p>\n",
       "</div>"
      ],
      "text/plain": [
       "           idf_weights\n",
       "pouvoir       1.602474\n",
       "premier       1.610041\n",
       "grand         1.617665\n",
       "nouveau       1.675423\n",
       "aussi         1.689029\n",
       "...                ...\n",
       "houleuse      6.895779\n",
       "houle         6.895779\n",
       "houillon      6.895779\n",
       "hooligans     6.895779\n",
       "œuvre         6.895779\n",
       "\n",
       "[33644 rows x 1 columns]"
      ]
     },
     "execution_count": 19,
     "metadata": {},
     "output_type": "execute_result"
    }
   ],
   "source": [
    "# Re-compute the word-count for preprocessed texts\n",
    "\n",
    "word_count_vector=cv.fit_transform(news_df.pre_text)\n",
    "\n",
    "print(word_count_vector.shape)\n",
    "\n",
    "# tf-idf with all the words\n",
    "tfidf_transformer=TfidfTransformer(smooth_idf=True,use_idf=True) \n",
    "tfidf_transformer.fit(word_count_vector)\n",
    "\n",
    "# print idf values \n",
    "idf = pd.DataFrame(tfidf_transformer.idf_, index=cv.get_feature_names(),columns=[\"idf_weights\"]) \n",
    " \n",
    "# sort ascending \n",
    "idf.sort_values(by=['idf_weights'])"
   ]
  },
  {
   "cell_type": "markdown",
   "metadata": {},
   "source": [
    "__Tf-Idf vectorizer with constraints__"
   ]
  },
  {
   "cell_type": "code",
   "execution_count": 20,
   "metadata": {},
   "outputs": [],
   "source": [
    "# fit tf-idf on all preprocessed texts with constraints on document frequency and number of tokens\n",
    "tfidf_vectorizer=TfidfVectorizer(max_df = 700, max_features=500, smooth_idf=True,use_idf=True) #strip_accents=True\n",
    "X = tfidf_vectorizer.fit_transform(news_df.pre_text) # X is a matrix"
   ]
  },
  {
   "cell_type": "code",
   "execution_count": 21,
   "metadata": {},
   "outputs": [
    {
     "name": "stdout",
     "output_type": "stream",
     "text": [
      "['abord', 'accepter', 'accord', 'action', 'activité', 'administration', 'affaire', 'africain', 'ailleurs', 'algérie', 'algérien', 'allemagne', 'allemand', 'aller', 'américain', 'amériqu', 'ancien', 'annoncer', 'année', 'appel', 'appeler', 'apprendre', 'arabe', 'argent', 'arme', 'armer', 'armée', 'arriver', 'arrêter', 'assez', 'association', 'assurer', 'atteindre', 'attendre', 'aucun', 'aujourd', 'aussi', 'autant', 'auteur', 'autorité', 'autour', 'autre', 'avenir', 'avocat', 'avril', 'beaucoup', 'begin', 'bernard', 'besoin', 'blanc', 'bon', 'cadre', 'campagne', 'capital', 'cause', 'celui', 'centaine', 'central', 'centre', 'certain', 'certains', 'chacun', 'chambre', 'chance', 'changer', 'chaque', 'charger', 'chercher', 'chiffre', 'chine', 'chinois', 'chirac', 'choisir', 'choix', 'chose', 'chômage', 'civil', 'clair', 'commencer', 'comment', 'commission', 'commun', 'communauté', 'communiste', 'comprendre', 'compris', 'compte', 'condition', 'conduire', 'connaître', 'conseil', 'continuer', 'contre', 'contrôle', 'coup', 'cours', 'crise', 'croire', 'croissance', 'création', 'créer', 'demande', 'demander', 'dernier', 'derrière', 'deuxième', 'devant', 'devenir', 'devoir', 'difficile', 'dire', 'directeur', 'direction', 'dirigeant', 'dollar', 'donner', 'dossier', 'doute', 'droit', 'droite', 'débat', 'début', 'décembre', 'décider', 'décision', 'découvrir', 'défense', 'démocratie', 'départ', 'député', 'désormais', 'développement', 'effet', 'emploi', 'encore', 'enfant', 'enfin', 'engager', 'enquête', 'ensembl', 'ensuite', 'entendre', 'entier', 'entre', 'entreprendre', 'entreprise', 'entrer', 'environ', 'envoyer', 'esprit', 'essentiel', 'est', 'etats', 'europe', 'européen', 'exemple', 'explique', 'expliquer', 'express', 'expérience', 'faire', 'falloir', 'famille', 'façon', 'femme', 'fille', 'financier', 'fonction', 'fonds', 'force', 'formation', 'forme', 'fort', 'franc', 'france', 'français', 'françois', 'front', 'frontière', 'frère', 'février', 'gagner', 'garde', 'gauche', 'gaulle', 'gouvernement', 'grand', 'grave', 'groupe', 'grâce', 'guerre', 'général', 'habitant', 'heure', 'histoire', 'homme', 'hui', 'humain', 'image', 'important', 'imposer', 'industrie', 'industriel', 'indépendance', 'information', 'installer', 'international', 'intérieur', 'intérêt', 'israélien', 'israël', 'italien', 'jacques', 'jamais', 'janvier', 'jean', 'jeune', 'johnson', 'jouer', 'jour', 'journal', 'journaliste', 'juif', 'juillet', 'jusqu', 'justice', 'jérusalem', 'kennedy', 'laisser', 'lancer', 'leader', 'lendemain', 'lequel', 'lettre', 'leur', 'liberté', 'libre', 'libération', 'livre', 'local', 'long', 'longtemps', 'lorsqu', 'lorsque', 'lui', 'lutte', 'maintenant', 'maison', 'majorité', 'malgré', 'marcher', 'marché', 'matin', 'mauvais', 'meilleur', 'membre', 'menacer', 'mesure', 'mettre', 'michel', 'mieux', 'milieu', 'militaire', 'milliard', 'millier', 'million', 'ministre', 'mission', 'moins', 'moitié', 'moment', 'mond', 'monde', 'mondial', 'montrer', 'mort', 'mouvemer', 'moyen', 'médecin', 'même', 'nation', 'national', 'niveau', 'nombre', 'nombreux', 'notamment', 'nouveau', 'négociation', 'objectif', 'obtenir', 'occasion', 'occidental', 'occuper', 'octobre', 'oeuvre', 'officiel', 'offrir', 'opinion', 'opposition', 'opération', 'ordre', 'organisation', 'organiser', 'oublier', 'ouest', 'outre', 'ouvrir', 'palestinien', 'paraître', 'parce', 'parfois', 'paris', 'parle', 'parler', 'parmi', 'parti', 'partie', 'partir', 'passer', 'patron', 'payer', 'peine', 'pendant', 'penser', 'perdre', 'permettre', 'personnage', 'personne', 'personnel', 'petit', 'peuple', 'peut', 'pierre', 'pièce', 'place', 'plein', 'plupart', 'plusieurs', 'plutôt', 'point', 'police', 'policier', 'politique', 'populaire', 'population', 'porte', 'porter', 'position', 'possible', 'poste', 'pourquoi', 'pourtant', 'pouvoir', 'premier', 'prendre', 'presque', 'presse', 'principal', 'principe', 'priver', 'problème', 'prochain', 'proche', 'production', 'produire', 'produit', 'programme', 'projet', 'propre', 'présent', 'président', 'prévoir', 'public', 'puissance', 'période', 'quant', 'quatre', 'quel', 'quelque', 'question', 'raison', 'rapport', 'recevoir', 'recherche', 'reconnaître', 'refuser', 'relation', 'religieux', 'rendre', 'reprendre', 'représenter', 'responsable', 'reste', 'rester', 'retour', 'retrouver', 'revenir', 'risque', 'robert', 'rouge', 'route', 'russe', 'réaliser', 'régim', 'région', 'répondre', 'république', 'réseau', 'résultat', 'révolution', 'saint', 'salarier', 'salle', 'santé', 'savoir', 'scène', 'second', 'secret', 'secrétaire', 'secteur', 'selon', 'semaine', 'semble', 'septembre', 'service', 'servir', 'seul', 'seulement', 'signe', 'signer', 'simple', 'situation', 'siècle', 'siège', 'social', 'socialiste', 'société', 'soldat', 'solution', 'sortir', 'sous', 'souvent', 'soviétique', 'succès', 'suite', 'suivre', 'sujet', 'supérieur', 'surtout', 'système', 'sécurité', 'tel', 'temps', 'tenir', 'tenter', 'terme', 'terrain', 'terre', 'titre', 'total', 'toujours', 'tout', 'travail', 'travailler', 'trente', 'trois', 'trouve', 'trouver', 'télévision', 'union', 'unis', 'valeur', 'venir', 'victime', 'vieux', 'village', 'ville', 'vingt', 'visage', 'vivre', 'voilà', 'voisin', 'voiture', 'vouloir', 'vous', 'vraiment', 'véritable', 'vérité', 'école', 'économie', 'économique', 'également', 'élection', 'époque', 'équipe', 'étranger', 'étude', 'étudiant', 'événement', 'être']\n",
      "(726, 500)\n"
     ]
    }
   ],
   "source": [
    "# take a look at the result\n",
    "print(tfidf_vectorizer.get_feature_names())\n",
    "print(X.shape)"
   ]
  },
  {
   "cell_type": "markdown",
   "metadata": {},
   "source": [
    "### b.  K-Means Clustering \n",
    "\n",
    "We don't know how many clusters we might have, so we explore a ange of values for hyperparameter k and assess the quality of the clusters using the silhouette score. If our dataset had been labeled we could have used the adjusted rand index instead."
   ]
  },
  {
   "cell_type": "code",
   "execution_count": 22,
   "metadata": {},
   "outputs": [],
   "source": [
    "from sklearn.cluster import KMeans\n",
    "#from sklearn.metrics import adjusted_rand_score(labels_true, labels_pred)\n",
    "from sklearn.metrics import silhouette_score\n",
    "\n",
    "# training\n",
    "k_scores=[]\n",
    "for k in range(2, 21):\n",
    "    k_model = KMeans(n_clusters=k, init='k-means++', max_iter=100, n_init=1, random_state=2905,)\n",
    "    k_labels = k_model.fit_predict(X)\n",
    "    score = silhouette_score(X, k_labels,metric='cosine', sample_size=None)\n",
    "    k_scores.append(score)"
   ]
  },
  {
   "cell_type": "code",
   "execution_count": 48,
   "metadata": {},
   "outputs": [
    {
     "data": {
      "image/png": "[encoded data removed]",
      "text/plain": [
       "<Figure size 1440x720 with 1 Axes>"
      ]
     },
     "metadata": {
      "needs_background": "light"
     },
     "output_type": "display_data"
    }
   ],
   "source": [
    "# visualize\n",
    "plt.figure(figsize=(20,10))\n",
    "x_val = [k for k in range(2,21)]\n",
    "y_val = k_scores\n",
    "plt.plot(x_val,y_val)\n",
    "\n",
    "plt.plot(x_val,y_val,'ob') \n",
    "plt.plot(x_val[np.argmax(y_val)], np.max(y_val), 'or') \n",
    "plt.annotate(\"Best k value\",\n",
    "             (x_val[np.argmax(y_val)], np.max(y_val)),\n",
    "             textcoords=\"offset points\", \n",
    "             xytext=(0,-40), \n",
    "             ha='center')\n",
    "\n",
    "x_val = [k for k in range(3,21)]\n",
    "y_val = k_scores[1:]\n",
    "plt.plot(x_val[np.argmax(y_val)], np.max(y_val), 'oy') \n",
    "plt.annotate(\"Second best k value\",\n",
    "             (x_val[np.argmax(y_val)], np.max(y_val)),\n",
    "             textcoords=\"offset points\", \n",
    "             xytext=(0,-40), \n",
    "             ha='center')\n",
    "\n",
    "plt.xlabel('Number of clusters')\n",
    "plt.ylabel('Silhouette Score')\n",
    "plt.title('Silhouette score in function of the number of clusters') \n",
    "plt.show()"
   ]
  },
  {
   "cell_type": "markdown",
   "metadata": {},
   "source": [
    "So we will use either k=2 or k=16. Let's see if we can interprete the clusters by assigning them a relevant topic."
   ]
  },
  {
   "cell_type": "code",
   "execution_count": 33,
   "metadata": {},
   "outputs": [
    {
     "data": {
      "text/html": [
       "<div>\n",
       "<style scoped>\n",
       "    .dataframe tbody tr th:only-of-type {\n",
       "        vertical-align: middle;\n",
       "    }\n",
       "\n",
       "    .dataframe tbody tr th {\n",
       "        vertical-align: top;\n",
       "    }\n",
       "\n",
       "    .dataframe thead th {\n",
       "        text-align: right;\n",
       "    }\n",
       "</style>\n",
       "<table border=\"1\" class=\"dataframe\">\n",
       "  <thead>\n",
       "    <tr style=\"text-align: right;\">\n",
       "      <th></th>\n",
       "      <th>Unnamed: 0</th>\n",
       "      <th>year</th>\n",
       "      <th>title</th>\n",
       "      <th>text</th>\n",
       "      <th>url</th>\n",
       "      <th>pre_title</th>\n",
       "      <th>pre_text</th>\n",
       "      <th>k_2</th>\n",
       "      <th>k_10</th>\n",
       "    </tr>\n",
       "  </thead>\n",
       "  <tbody>\n",
       "    <tr>\n",
       "      <th>0</th>\n",
       "      <td>0</td>\n",
       "      <td>1988</td>\n",
       "      <td>Tintin dans l'espace</td>\n",
       "      <td>Trois semaines à bord de la station soviétique...</td>\n",
       "      <td>https://www.lexpress.fr/informations/tintin-da...</td>\n",
       "      <td>tintin espac</td>\n",
       "      <td>trois semaine station soviétique jean-loup chr...</td>\n",
       "      <td>0</td>\n",
       "      <td>13</td>\n",
       "    </tr>\n",
       "    <tr>\n",
       "      <th>1</th>\n",
       "      <td>1</td>\n",
       "      <td>1988</td>\n",
       "      <td>Le faux suicide de Robert Boulin</td>\n",
       "      <td>1979 : son corps est découvert en forêt de Ram...</td>\n",
       "      <td>https://www.lexpress.fr/actualite/politique/le...</td>\n",
       "      <td>suicide robert boulin</td>\n",
       "      <td>corps découvrir forêt rambouillet faux piste n...</td>\n",
       "      <td>0</td>\n",
       "      <td>1</td>\n",
       "    </tr>\n",
       "    <tr>\n",
       "      <th>2</th>\n",
       "      <td>2</td>\n",
       "      <td>1988</td>\n",
       "      <td>Des pierres contre les certitudes</td>\n",
       "      <td>Rideaux de fer baissés, silhouettes furtives, ...</td>\n",
       "      <td>https://www.lexpress.fr/actualite/monde/proche...</td>\n",
       "      <td>pierre contre certitude</td>\n",
       "      <td>rideal baisser silhouette furtif jérusalem ara...</td>\n",
       "      <td>0</td>\n",
       "      <td>5</td>\n",
       "    </tr>\n",
       "    <tr>\n",
       "      <th>3</th>\n",
       "      <td>3</td>\n",
       "      <td>1988</td>\n",
       "      <td>Otages: soudain, mercredi soir...</td>\n",
       "      <td>\" Je lui ai dit: \"Ça suffit\", et j'ai raccroch...</td>\n",
       "      <td>https://www.lexpress.fr/informations/otages-so...</td>\n",
       "      <td>otage soudain mercredi</td>\n",
       "      <td>suffit raccrocher souvent échauder souvent tro...</td>\n",
       "      <td>0</td>\n",
       "      <td>11</td>\n",
       "    </tr>\n",
       "    <tr>\n",
       "      <th>4</th>\n",
       "      <td>4</td>\n",
       "      <td>1988</td>\n",
       "      <td>Les secrets de la planète rouge</td>\n",
       "      <td>S'il existe, dans le système solaire, un seul ...</td>\n",
       "      <td>https://www.lexpress.fr/actualite/sciences/les...</td>\n",
       "      <td>secret planète rouge</td>\n",
       "      <td>existe système solaire endroit exobiologister ...</td>\n",
       "      <td>1</td>\n",
       "      <td>8</td>\n",
       "    </tr>\n",
       "    <tr>\n",
       "      <th>5</th>\n",
       "      <td>5</td>\n",
       "      <td>1988</td>\n",
       "      <td>La marche forcée d'Abou Ammar</td>\n",
       "      <td>Prêt à la guerre en 1974, offrant la paix en 1...</td>\n",
       "      <td>https://www.lexpress.fr/informations/la-marche...</td>\n",
       "      <td>marche forcer ammar</td>\n",
       "      <td>guerre offrir arafat cherche auprès alliés isr...</td>\n",
       "      <td>0</td>\n",
       "      <td>5</td>\n",
       "    </tr>\n",
       "    <tr>\n",
       "      <th>6</th>\n",
       "      <td>6</td>\n",
       "      <td>1988</td>\n",
       "      <td>Pierre Quinon, discret champion olympique</td>\n",
       "      <td>Pierre Quinon s'est donné la mort à 49 ans le ...</td>\n",
       "      <td>https://www.lexpress.fr/actualite/sport/pierre...</td>\n",
       "      <td>pierre quinon discret champion olympique</td>\n",
       "      <td>pierre quinon donner hyère portrer consacrer s...</td>\n",
       "      <td>0</td>\n",
       "      <td>14</td>\n",
       "    </tr>\n",
       "    <tr>\n",
       "      <th>7</th>\n",
       "      <td>7</td>\n",
       "      <td>1988</td>\n",
       "      <td>Algérie: la faillite sanglante</td>\n",
       "      <td>Au moins 1000 morts. Des milliers de blessés. ...</td>\n",
       "      <td>https://www.lexpress.fr/informations/algerie-l...</td>\n",
       "      <td>algérie faillit sanglant</td>\n",
       "      <td>moins mort millier blessé arrestation masser j...</td>\n",
       "      <td>0</td>\n",
       "      <td>12</td>\n",
       "    </tr>\n",
       "    <tr>\n",
       "      <th>8</th>\n",
       "      <td>8</td>\n",
       "      <td>1988</td>\n",
       "      <td>Les deux mois qui ont ébranlé Israël</td>\n",
       "      <td>Israël avait pris l'habitude de mesurer ses gu...</td>\n",
       "      <td>https://www.lexpress.fr/actualite/monde/proche...</td>\n",
       "      <td>ébranlé israël</td>\n",
       "      <td>israël habitude mesurer guerre journée trouble...</td>\n",
       "      <td>0</td>\n",
       "      <td>5</td>\n",
       "    </tr>\n",
       "    <tr>\n",
       "      <th>9</th>\n",
       "      <td>9</td>\n",
       "      <td>1988</td>\n",
       "      <td>Ponge: l'homme objets.</td>\n",
       "      <td>Francis Ponge célébra la Guêpe, un \" petit sip...</td>\n",
       "      <td>https://www.lexpress.fr/informations/ponge-l-h...</td>\n",
       "      <td>ponge homme objet</td>\n",
       "      <td>francis ponge célébra guêpe petit siphon ambul...</td>\n",
       "      <td>1</td>\n",
       "      <td>8</td>\n",
       "    </tr>\n",
       "  </tbody>\n",
       "</table>\n",
       "</div>"
      ],
      "text/plain": [
       "   Unnamed: 0  year                                      title  \\\n",
       "0           0  1988                       Tintin dans l'espace   \n",
       "1           1  1988           Le faux suicide de Robert Boulin   \n",
       "2           2  1988          Des pierres contre les certitudes   \n",
       "3           3  1988          Otages: soudain, mercredi soir...   \n",
       "4           4  1988            Les secrets de la planète rouge   \n",
       "5           5  1988              La marche forcée d'Abou Ammar   \n",
       "6           6  1988  Pierre Quinon, discret champion olympique   \n",
       "7           7  1988             Algérie: la faillite sanglante   \n",
       "8           8  1988       Les deux mois qui ont ébranlé Israël   \n",
       "9           9  1988                     Ponge: l'homme objets.   \n",
       "\n",
       "                                                text  \\\n",
       "0  Trois semaines à bord de la station soviétique...   \n",
       "1  1979 : son corps est découvert en forêt de Ram...   \n",
       "2  Rideaux de fer baissés, silhouettes furtives, ...   \n",
       "3  \" Je lui ai dit: \"Ça suffit\", et j'ai raccroch...   \n",
       "4  S'il existe, dans le système solaire, un seul ...   \n",
       "5  Prêt à la guerre en 1974, offrant la paix en 1...   \n",
       "6  Pierre Quinon s'est donné la mort à 49 ans le ...   \n",
       "7  Au moins 1000 morts. Des milliers de blessés. ...   \n",
       "8  Israël avait pris l'habitude de mesurer ses gu...   \n",
       "9  Francis Ponge célébra la Guêpe, un \" petit sip...   \n",
       "\n",
       "                                                 url  \\\n",
       "0  https://www.lexpress.fr/informations/tintin-da...   \n",
       "1  https://www.lexpress.fr/actualite/politique/le...   \n",
       "2  https://www.lexpress.fr/actualite/monde/proche...   \n",
       "3  https://www.lexpress.fr/informations/otages-so...   \n",
       "4  https://www.lexpress.fr/actualite/sciences/les...   \n",
       "5  https://www.lexpress.fr/informations/la-marche...   \n",
       "6  https://www.lexpress.fr/actualite/sport/pierre...   \n",
       "7  https://www.lexpress.fr/informations/algerie-l...   \n",
       "8  https://www.lexpress.fr/actualite/monde/proche...   \n",
       "9  https://www.lexpress.fr/informations/ponge-l-h...   \n",
       "\n",
       "                                  pre_title  \\\n",
       "0                              tintin espac   \n",
       "1                     suicide robert boulin   \n",
       "2                   pierre contre certitude   \n",
       "3                    otage soudain mercredi   \n",
       "4                      secret planète rouge   \n",
       "5                       marche forcer ammar   \n",
       "6  pierre quinon discret champion olympique   \n",
       "7                  algérie faillit sanglant   \n",
       "8                            ébranlé israël   \n",
       "9                         ponge homme objet   \n",
       "\n",
       "                                            pre_text  k_2  k_10  \n",
       "0  trois semaine station soviétique jean-loup chr...    0    13  \n",
       "1  corps découvrir forêt rambouillet faux piste n...    0     1  \n",
       "2  rideal baisser silhouette furtif jérusalem ara...    0     5  \n",
       "3  suffit raccrocher souvent échauder souvent tro...    0    11  \n",
       "4  existe système solaire endroit exobiologister ...    1     8  \n",
       "5  guerre offrir arafat cherche auprès alliés isr...    0     5  \n",
       "6  pierre quinon donner hyère portrer consacrer s...    0    14  \n",
       "7  moins mort millier blessé arrestation masser j...    0    12  \n",
       "8  israël habitude mesurer guerre journée trouble...    0     5  \n",
       "9  francis ponge célébra guêpe petit siphon ambul...    1     8  "
      ]
     },
     "execution_count": 33,
     "metadata": {},
     "output_type": "execute_result"
    }
   ],
   "source": [
    "news_clusters=news_df.copy()\n",
    "news_clusters['k_2']=KMeans(n_clusters=2, init='k-means++', max_iter=100, n_init=1, random_state=2905).fit_predict(X)\n",
    "news_clusters['k_10']=KMeans(n_clusters=16, init='k-means++', max_iter=100, n_init=1, random_state=2905).fit_predict(X)\n",
    "news_clusters.head(10)"
   ]
  },
  {
   "cell_type": "code",
   "execution_count": 34,
   "metadata": {},
   "outputs": [
    {
     "name": "stdout",
     "output_type": "stream",
     "text": [
      "k_2\n",
      "0    376\n",
      "1    350\n",
      "Name: year, dtype: int64\n",
      "k_10\n",
      "0      12\n",
      "1      51\n",
      "2      12\n",
      "3      22\n",
      "4      14\n",
      "5      42\n",
      "6      41\n",
      "7      29\n",
      "8     143\n",
      "9      28\n",
      "10     56\n",
      "11     77\n",
      "12     77\n",
      "13     39\n",
      "14     66\n",
      "15     17\n",
      "Name: year, dtype: int64\n",
      "k_2  k_10\n",
      "0    0         1\n",
      "     1        50\n",
      "     2         2\n",
      "     4        11\n",
      "     5        42\n",
      "     6        37\n",
      "     7        13\n",
      "     8        17\n",
      "     9         3\n",
      "     10        6\n",
      "     11       46\n",
      "     12       76\n",
      "     13       12\n",
      "     14       59\n",
      "     15        1\n",
      "1    0        11\n",
      "     1         1\n",
      "     2        10\n",
      "     3        22\n",
      "     4         3\n",
      "     6         4\n",
      "     7        16\n",
      "     8       126\n",
      "     9        25\n",
      "     10       50\n",
      "     11       31\n",
      "     12        1\n",
      "     13       27\n",
      "     14        7\n",
      "     15       16\n",
      "Name: year, dtype: int64\n"
     ]
    }
   ],
   "source": [
    "# Look at the repartition between clusters\n",
    "print(news_clusters.groupby([\"k_2\"])[\"year\"].count())\n",
    "print(news_clusters.groupby([\"k_10\"])[\"year\"].count())\n",
    "print(news_clusters.groupby([\"k_2\", \"k_10\"])[\"year\"].count())"
   ]
  },
  {
   "cell_type": "code",
   "execution_count": 36,
   "metadata": {},
   "outputs": [
    {
     "name": "stdout",
     "output_type": "stream",
     "text": [
      "\n",
      "Cluster  0\n",
      "88                                  QUERELLE DE CHIFFRES\n",
      "411    Asie du sud encore trop pauvre pour un vrai de...\n",
      "441                                            Industrie\n",
      "479                  Du rideau de fer au rideau d argent\n",
      "484                                                  18h\n",
      "502       3 5 la croissance mondiale 2000 vue par le fmi\n",
      "520    Italie la production industrielle rechute en s...\n",
      "530       Lionel jospin parie sur une france tgv en 2000\n",
      "546                La france championne de la croissance\n",
      "620           Polemique sur les previsions de croissance\n",
      "Name: title, dtype: object\n",
      "\n",
      "Cluster  1\n",
      "1                      Le faux suicide de Robert Boulin\n",
      "15                             Le triangle des soupçons\n",
      "26                      L'Express retrouve Paul Touvier\n",
      "33                      Terrorisme: le marchandage raté\n",
      "36    20 décembre 1973 : l'attentat contre Carrero B...\n",
      "44                      Patricia Hearst: nouvel épisode\n",
      "47                        Le feuilleton Patricia Hearst\n",
      "52                                  L'énigme des bocaux\n",
      "53                       L'abbé Pierre: un sacré destin\n",
      "54         Mars 1989: la Pologne s'ouvre au capitalisme\n",
      "Name: title, dtype: object\n",
      "\n",
      "Cluster  2\n",
      "77                              PAYSANS, MAIS PAS PLOUCS\n",
      "80                                LES LIAISONS HEUREUSES\n",
      "115                              LA LIBERTE DE LA PRESSE\n",
      "155              La bourse italienne surmontera la crise\n",
      "280                        L'Italie face à l'ordre moral\n",
      "284                                    Concerts virtuels\n",
      "519     Business a l italienne en mediterranee orientale\n",
      "547    Italie la banque d italie chiffre la reprise e...\n",
      "588                               Berlin potsdamer platz\n",
      "647                     Amiens capitale de la téléphonie\n",
      "Name: title, dtype: object\n",
      "\n",
      "Cluster  3\n",
      "97                                               Reperes\n",
      "163    La priorite au reembauchage des salaries licen...\n",
      "170                           LE MINITEL ATTEINT LE CIME\n",
      "190                                    COMBIEN - COMMENT\n",
      "191                    Stabilisation des offres d emploi\n",
      "207                    Oui sans doute pour la 4e semaine\n",
      "274                         Ce que veulent les syndicats\n",
      "317    Le japon prefere la competitivite a la product...\n",
      "399                        Management - Une vie de chien\n",
      "449                                            35 heures\n",
      "Name: title, dtype: object\n",
      "\n",
      "Cluster  4\n",
      "60      Tiananmen: les cinq jours de Pékin\n",
      "330          Les Mad Max de l'Etat sauvage\n",
      "332    Les islamistes attendent leur heure\n",
      "359              Cambodge : le pays goulag\n",
      "380             Les guérilleros de Téhéran\n",
      "456           Libéria: le suicide national\n",
      "461           Les rescapés du \"Santa Rita\"\n",
      "464                         Mort d'un pays\n",
      "465             Le \" petit empire \" éclaté\n",
      "467       La folle odyssée du \"Santa Rita\"\n",
      "Name: title, dtype: object\n",
      "\n",
      "Cluster  5\n",
      "2        Des pierres contre les certitudes\n",
      "5            La marche forcée d'Abou Ammar\n",
      "8     Les deux mois qui ont ébranlé Israël\n",
      "18                 Dayan, symbole d'Israël\n",
      "20     Shimon Pérès, le leader impopulaire\n",
      "24              Jérusalem: à nouveau seuls\n",
      "40          Guerre de Kippour. Extraits...\n",
      "41                L'autre front (extraits)\n",
      "42                 Yasser Arafat intronisé\n",
      "49                            Douce France\n",
      "Name: title, dtype: object\n",
      "\n",
      "Cluster  6\n",
      "22                   1975 : Simone Veil s'explique\n",
      "25                                 «Mlle Chopinet»\n",
      "37                Avortement: la peur des médecins\n",
      "39          1973 : les hors-la-loi de l'avortement\n",
      "43                           Le pouvoir des femmes\n",
      "45             1974: appel pour la loi Simone Veil\n",
      "70     Yves Saint-Laurent, le nouvel enfant triste\n",
      "96               Les hommes, les femmes et l'amour\n",
      "112                             Idylle en staccato\n",
      "124                   Bernard Ucla: Madagascar1853\n",
      "Name: title, dtype: object\n",
      "\n",
      "Cluster  7\n",
      "30                       Le drame de Challenger\n",
      "119    Encore une tuile pour le credit lyonnais\n",
      "129                       Les morts de l'espace\n",
      "133                      Une nouvelle Amérique?\n",
      "134                          Un grand capitaine\n",
      "147                       COURSE AUX DECODEURS.\n",
      "152                                   Le dollar\n",
      "168                             L'ami américain\n",
      "182               Une lumiere presque eternelle\n",
      "198                       Le monde après Apollo\n",
      "Name: title, dtype: object\n",
      "\n",
      "Cluster  8\n",
      "4      Les secrets de la planète rouge\n",
      "9               Ponge: l'homme objets.\n",
      "17        Et si Darwin s'était trompé?\n",
      "23    Le bureau livré à l'informatique\n",
      "27                La Nasa sous tutelle\n",
      "55               Ozone: délit de fuite\n",
      "64             URSS: l'espace en panne\n",
      "71                 La méthode Burguéra\n",
      "73           24 degrés sous la couette\n",
      "75                          Intemporel\n",
      "Name: title, dtype: object\n",
      "\n",
      "Cluster  9\n",
      "116                                Courrier des lecteurs\n",
      "233                  Un grand financier qui aime les pme\n",
      "243                     Classement mva eva mode d emploi\n",
      "251                                              Rebonds\n",
      "412    Yves barraquand armateur pro le barreur prefer...\n",
      "427    Publication judiciaire - \" L'entourloupe espag...\n",
      "483    Chefs de service calculez ce que vous devriez ...\n",
      "487                                                  18h\n",
      "490    Henri de castries pret a regner sur le royaume...\n",
      "501                      Theo waigel conseillera alcatel\n",
      "Name: title, dtype: object\n",
      "\n",
      "Cluster  10\n",
      "32                          Coluche père nourricier\n",
      "105    Tapie et l'OM: Carton jaune ou carton rouge?\n",
      "108                                Reperes economie\n",
      "111                  Si les nappes pouvaient parler\n",
      "118                                       Spirituel\n",
      "122                                           Utile\n",
      "140                        Les joyaux sont éternels\n",
      "146                           RENSEIGNEMENTS UTILES\n",
      "159                     \"Sud-Ouest\": la trêve amère\n",
      "185             Calvet imprecateur un role epuisant\n",
      "Name: title, dtype: object\n",
      "\n",
      "Cluster  11\n",
      "3                     Otages: soudain, mercredi soir...\n",
      "12                                    Mémoire d'Algérie\n",
      "16                              L'ombre sur la campagne\n",
      "28                France: fausses stars et vrais agents\n",
      "34                   Boulin : le juge reprend l'enquête\n",
      "56                        Algérie: Les jokers de Chadli\n",
      "72                               LA CAROTTE ET LE BATON\n",
      "82                               LES GUIGNOLS DE L'INFO\n",
      "94     1981 1993 les socialistes et le marche politique\n",
      "137                  Les patrons cherchent un repreneur\n",
      "Name: title, dtype: object\n",
      "\n",
      "Cluster  12\n",
      "7                        Algérie: la faillite sanglante\n",
      "10                      Pourquoi est mort Georges Besse\n",
      "11                     La longue marche du Che africain\n",
      "13                               L'aide, malgré tout...\n",
      "14    (1e janvier 1988) Benazir Bhutto: l'Antigone d...\n",
      "29                               Pinochet sans complexe\n",
      "50    Retour sur les manifestations de novembre 1989...\n",
      "51          Août 1989: Solidarité au pouvoir en Pologne\n",
      "58                              No future à Bab el-Oued\n",
      "61                         Famines et droits de l'homme\n",
      "Name: title, dtype: object\n",
      "\n",
      "Cluster  13\n",
      "0                               Tintin dans l'espace\n",
      "57                            Le faucon à deux têtes\n",
      "84     L impossible reponse concertee a la recession\n",
      "90                                  L europe envahie\n",
      "98                       Quelle politique étrangère?\n",
      "99                      La montée des eurosceptiques\n",
      "139                 Taux d interet le debat interdit\n",
      "153      Jean Gandois: contre la baisse des salaires\n",
      "178                                  L'Europe diluée\n",
      "210                 Les Français au bord de l'Europe\n",
      "Name: title, dtype: object\n",
      "\n",
      "Cluster  14\n",
      "6           Pierre Quinon, discret champion olympique\n",
      "21    Un témoignage exclusif : ainsi finit Phnom Penh\n",
      "31                                  Beineix fait tilt\n",
      "35                      Goytisolo, sarrasin d'Espagne\n",
      "38                            Contre la peine de mort\n",
      "46                 \"On ne tire pas sur une ambulance\"\n",
      "48             Pascal Dibie, l'ethnologue de sa tribu\n",
      "59                   Tavernier-Noiret: l'union sacrée\n",
      "66                               Les chargeurs réunis\n",
      "74                                     Rêver Carthage\n",
      "Name: title, dtype: object\n",
      "\n",
      "Cluster  15\n",
      "19                                                  Diva\n",
      "92                  Comment bien gerer son capital image\n",
      "143                                        Express Santé\n",
      "181                Petit lexique du franglais managerial\n",
      "279                                      Vampire brevete\n",
      "302                     La vitamine des pmi innovatrices\n",
      "319                       Le nouveau costume de marzotto\n",
      "321    Vivre sans l inflation la discipline quiachang...\n",
      "329                          Les nouvelles regles du jeu\n",
      "404                                         Consommation\n",
      "Name: title, dtype: object\n"
     ]
    }
   ],
   "source": [
    "# Try to identify topics inside clusters\n",
    "for i in range(16):\n",
    "    print(\"\\nCluster \", i)\n",
    "    print(news_clusters[news_clusters[\"k_10\"]==i].title[:10]) # print 10 titles from each cluster"
   ]
  },
  {
   "cell_type": "markdown",
   "metadata": {},
   "source": [
    "On parvient à la liste de thèmes suivants:\n",
    "    \n",
    "* Infos nationales France / économie \n",
    "* Infos nationales France / économie et entreprises, emploi, compétitivité\n",
    "* Infos nationales France / Société\n",
    "* Infos nationales France /  Femmes et débats de société (ex: avortement)\n",
    "* Infos nationales France / Faits divers\n",
    "\n",
    "\n",
    "* International / économie internationale\n",
    "* International / Moyen Orient / politique\n",
    "* International / politique internationale (anciennes colonies notamment), conflits\n",
    "* International / Europe / économie\n",
    "* International / Europe / politique\n",
    "\n",
    "\n",
    "* Affaires judiciaires et criminelles\n",
    "* Santé, Biologie, Sciences\n",
    "* Sport\n",
    "* Culture\n",
    "\n",
    "\n",
    "On se rend compte que les thèmes serait mieux décrits par un fonctionnement matriciel, id est __un aspect géographique combiné à un aspect thématique__.\n",
    "\n",
    "* Géographie: France - Amérique - Europe - Asie - Afrique - Moyen Orient et même peut-être une région transverse \"anciennes colonnies françaises\"\n",
    "\n",
    "* Thèmes: Sciences/Santé - Politique - Economie/Entreprises - Société/Faits divers - Affaires judiciaires \n",
    "\n",
    "__D'où la nécessité dune double classfication géographique et thématique, pour obtenir le thème final de l'article.__\n"
   ]
  },
  {
   "cell_type": "markdown",
   "metadata": {},
   "source": [
    "__Temporality__\n",
    "\n",
    "Are some topics time-bound ? When did what topic particularly gain momentum ?\n",
    "\n",
    "Idea: topics like women's right to abort in France or the first French astronaut in space are related to precise events, respectively the corresponding law defended by Simone Weil and Jean-Loup Chrétien's trip to the ISS. Other topics, like French and internaitonal economics, are more likely to be always there, although sometines not at the forefront of the scene.\n",
    "\n",
    "*Idea: once we have labelled the data, visualize the topics as a fonction of time*"
   ]
  },
  {
   "cell_type": "markdown",
   "metadata": {},
   "source": [
    "### c. Clustering with entity-based vocabulary"
   ]
  },
  {
   "cell_type": "markdown",
   "metadata": {},
   "source": [
    "__Tf-idf with entity-based vocabulary__\n",
    "\n",
    "to do: notebook 01 --> add other entity types (ORG and TIME ?)\n",
    "\n",
    "*Note on PER entities*\n",
    "\n",
    "* Some cleaning might be necessary, for example 'ii' is considered as a single entity although it should be 'jean-paul ii' as a whole. \n",
    "\n",
    "* Also we are faced with multiple wordings for the same name. For example 'de gaulle' and 'général de gaulle' should be considered to be the same. \n",
    "\n",
    "* Most entities are personal names, like 'chirac', but some are categories, like 'président de la république' and might refer to a different person depending on the year the article was published.\n",
    "\n",
    "* Errors are due to the French \"-\", for example '-major' should be \"état-major\", \"-aviv\" is probably coming from \"Tel-aviv\"\n",
    "\n",
    "Nonetheless, the PER list is quite satisfying already.\n",
    "\n",
    "*Note on LOC entities*\n",
    "\n",
    "Similar remarks apply \n",
    "\n",
    "* cleaning necessary: '»' etc should be deleted\n",
    "* 'france', 'la france' should be the same, \"l'espagne\" should be \"espagne\" etc\n",
    "* 'état' is a category and should not be mistaken with 'etats-unis'\n",
    "* errors are trickier to explain, a few verbs are in the list: 'croyez', 'voudrais', 'avais'"
   ]
  },
  {
   "cell_type": "code",
   "execution_count": 41,
   "metadata": {},
   "outputs": [
    {
     "name": "stdout",
     "output_type": "stream",
     "text": [
      "       Unnamed: 0   PER_count\n",
      "count  287.000000  287.000000\n",
      "mean   143.000000    5.487805\n",
      "std     82.993976    4.539534\n",
      "min      0.000000    3.000000\n",
      "25%     71.500000    3.000000\n",
      "50%    143.000000    4.000000\n",
      "75%    214.500000    6.000000\n",
      "max    286.000000   35.000000\n",
      "       Unnamed: 0   LOC_count\n",
      "count   439.00000  439.000000\n",
      "mean    219.00000    9.621868\n",
      "std     126.87264   17.268576\n",
      "min       0.00000    3.000000\n",
      "25%     109.50000    3.000000\n",
      "50%     219.00000    5.000000\n",
      "75%     328.50000    8.500000\n",
      "max     438.00000  158.000000\n"
     ]
    }
   ],
   "source": [
    "PER_df=pd.read_csv('articles_PER.csv')\n",
    "LOC_df=pd.read_csv('articles_LOC.csv')\n",
    "print(PER_df.describe())\n",
    "print(LOC_df.describe())"
   ]
  },
  {
   "cell_type": "code",
   "execution_count": 42,
   "metadata": {},
   "outputs": [
    {
     "name": "stdout",
     "output_type": "stream",
     "text": [
      "There are 84 PER entities with >5 occurences.\n",
      "['françois mitterrand', 'jacques chirac', 'ii', 'de gaulle', 'président de la république', 'lionel jospin', 'général de gaulle', 'chirac', 'yasser arafat', 'mitterrand', 'menahem begin', 'bill clinton', 'charles pasqua', 'moshe dayan', 'arafat', 'hier', 'staline', 'alain juppé', 'edouard balladur', '-major', 'washington', 'begin', '-aviv', '-ci', 'itzhak rabin', 'sadate', 'lénine', 'golda meir', 'fini', 'helmut kohl', 'pierre bérégovoy', 'martine aubry', 'kennedy', 'hitler', \"valéry giscard d'estaing\", 'nasser', 'rabin', 'raymond barre', 'expert', 'shimon peres', 'napoléon', 'eisenhower', 'hasard', 'giscard', 'george bush', 'mao', 'saddam hussein', 'boulin', 'delmas', 'david ben gourion', 'robert badinter', 'georges pompidou', 'anouar el-sadate', 'voulez', 'jean-paul ii', 'christ', 'jimmy carter', 'michel rocard', 'voltaire', 'pierre mendès france', 'pierre mauroy', 'robert', 'regardez', 'marx', 'françoise giroud', 'soudain', 'mendès france', 'pompidou', 'louis xiv', 'mikhaïl gorbatchev', 'churchill', 'deng xiaoping', 'bernard kouchner', 'boris eltsine', 'roosevelt', 'claude bébéar', 'jacques toubon', 'guy mollet', '-', 'alain madelin', 'philippe séguin', 'fidel castro', 'john kennedy', 'françois hollande']\n"
     ]
    },
    {
     "data": {
      "text/html": [
       "<div>\n",
       "<style scoped>\n",
       "    .dataframe tbody tr th:only-of-type {\n",
       "        vertical-align: middle;\n",
       "    }\n",
       "\n",
       "    .dataframe tbody tr th {\n",
       "        vertical-align: top;\n",
       "    }\n",
       "\n",
       "    .dataframe thead th {\n",
       "        text-align: right;\n",
       "    }\n",
       "</style>\n",
       "<table border=\"1\" class=\"dataframe\">\n",
       "  <thead>\n",
       "    <tr style=\"text-align: right;\">\n",
       "      <th></th>\n",
       "      <th>Unnamed: 0</th>\n",
       "      <th>PER_entity</th>\n",
       "      <th>PER_count</th>\n",
       "    </tr>\n",
       "  </thead>\n",
       "  <tbody>\n",
       "    <tr>\n",
       "      <th>0</th>\n",
       "      <td>0</td>\n",
       "      <td>françois mitterrand</td>\n",
       "      <td>35</td>\n",
       "    </tr>\n",
       "    <tr>\n",
       "      <th>1</th>\n",
       "      <td>1</td>\n",
       "      <td>jacques chirac</td>\n",
       "      <td>31</td>\n",
       "    </tr>\n",
       "    <tr>\n",
       "      <th>2</th>\n",
       "      <td>2</td>\n",
       "      <td>ii</td>\n",
       "      <td>29</td>\n",
       "    </tr>\n",
       "    <tr>\n",
       "      <th>3</th>\n",
       "      <td>3</td>\n",
       "      <td>de gaulle</td>\n",
       "      <td>26</td>\n",
       "    </tr>\n",
       "    <tr>\n",
       "      <th>4</th>\n",
       "      <td>4</td>\n",
       "      <td>président de la république</td>\n",
       "      <td>26</td>\n",
       "    </tr>\n",
       "  </tbody>\n",
       "</table>\n",
       "</div>"
      ],
      "text/plain": [
       "   Unnamed: 0                  PER_entity  PER_count\n",
       "0           0         françois mitterrand         35\n",
       "1           1              jacques chirac         31\n",
       "2           2                          ii         29\n",
       "3           3                   de gaulle         26\n",
       "4           4  président de la république         26"
      ]
     },
     "execution_count": 42,
     "metadata": {},
     "output_type": "execute_result"
    }
   ],
   "source": [
    "PER_highest=PER_df[PER_df['PER_count']>5]\n",
    "print(\"There are %s PER entities with >5 occurences.\\n\" %len(PER_highest))\n",
    "print(list(PER_highest.PER_entity))\n",
    "PER_highest[:5]\n"
   ]
  },
  {
   "cell_type": "code",
   "execution_count": 43,
   "metadata": {},
   "outputs": [
    {
     "name": "stdout",
     "output_type": "stream",
     "text": [
      "There are 154 LOC entities with >6 occurences.\n",
      "['paris', 'france', 'la france', 'etat', 'etats-unis', 'europe', '-', \"l'europe\", 'allemagne', 'américains', 'état', 'de france', 'israël', 'londres', 'jérusalem', 'français', 'grande-bretagne', 'moscou', 'terre', 'washington', 'chine', 'afrique', '»', 'la chine', 'amérique', 'new york', 'algérie', 'allemands', 'angleterre', 'occident', 'berlin', 'italie', 'japon', 'beyrouth', 'espagne', 'genève', 'russie', 'suisse', 'pékin', \"l'amérique\", 'bruxelles', 'soleil', \"l'italie\", 'f', 'gaza', 'liban', 'cisjordanie', 'syrie', 'la terre', 'jordanie', 'iran', 'sinaï', 'asie', 'mercredi', 'damas', 'cher', 'lyon', 'européens', 'lune', \"l'afrique\", 'russes', 'pologne', 'egypte', 'algériens', 'israéliens', 'rome', 'c?ur', 'anglais', 'alger', 'inde', 'cuba', 'arabie saoudite', 'matignon', 'marseille', 'irak', 'vienne', \"l'empire\", 'madrid', 'pacifique', 'hongrie', 'suède', 'bordeaux', \"l'algérie\", 'tunisie', 'strasbourg', 'atlantique', 'britanniques', 'soudan', \"quai d'orsay\", 'mexique', 'belgique', 'sienne', 'maroc', 'chinois', 'japonais', 'italiens', 'téhéran', 'los angeles', \"l'asie\", 'champagne', 'syriens', 'turquie', 'munich', 'egyptiens', 'afrique du sud', 'libye', 'avais', 'danemark', 'américain', 'hexagone', 'portugal', 'au caire', 'koweït', 'méditerranée', 'le soleil', 'canal de suez', 'vatican', 'vichy', 'kremlin', \"l'espagne\", 'caire', 'roumanie', 'tchécoslovaquie', 'norvège', 'tokyo', 'le japon', 'autriche', 'canada', 'versailles', \"côte-d'ivoire\", 'kenya', 'maghreb', 'pakistan', 'laos', 'sénégal', 'francfort', 'vietnam', 'loire', 'toulouse', 'californie', 'prague', 'grèce', 'nigeria', 'gatt', 'du japon', 'madagascar', 'corée', 'congo', 'gabon', 'croyez', 'australie', 'voudrais', 'cambodge', 'luxembourg']\n"
     ]
    },
    {
     "data": {
      "text/html": [
       "<div>\n",
       "<style scoped>\n",
       "    .dataframe tbody tr th:only-of-type {\n",
       "        vertical-align: middle;\n",
       "    }\n",
       "\n",
       "    .dataframe tbody tr th {\n",
       "        vertical-align: top;\n",
       "    }\n",
       "\n",
       "    .dataframe thead th {\n",
       "        text-align: right;\n",
       "    }\n",
       "</style>\n",
       "<table border=\"1\" class=\"dataframe\">\n",
       "  <thead>\n",
       "    <tr style=\"text-align: right;\">\n",
       "      <th></th>\n",
       "      <th>Unnamed: 0</th>\n",
       "      <th>LOC_entity</th>\n",
       "      <th>LOC_count</th>\n",
       "    </tr>\n",
       "  </thead>\n",
       "  <tbody>\n",
       "    <tr>\n",
       "      <th>0</th>\n",
       "      <td>0</td>\n",
       "      <td>paris</td>\n",
       "      <td>158</td>\n",
       "    </tr>\n",
       "    <tr>\n",
       "      <th>1</th>\n",
       "      <td>1</td>\n",
       "      <td>france</td>\n",
       "      <td>156</td>\n",
       "    </tr>\n",
       "    <tr>\n",
       "      <th>2</th>\n",
       "      <td>2</td>\n",
       "      <td>la france</td>\n",
       "      <td>144</td>\n",
       "    </tr>\n",
       "    <tr>\n",
       "      <th>3</th>\n",
       "      <td>3</td>\n",
       "      <td>etat</td>\n",
       "      <td>124</td>\n",
       "    </tr>\n",
       "    <tr>\n",
       "      <th>4</th>\n",
       "      <td>4</td>\n",
       "      <td>etats-unis</td>\n",
       "      <td>116</td>\n",
       "    </tr>\n",
       "  </tbody>\n",
       "</table>\n",
       "</div>"
      ],
      "text/plain": [
       "   Unnamed: 0  LOC_entity  LOC_count\n",
       "0           0       paris        158\n",
       "1           1      france        156\n",
       "2           2   la france        144\n",
       "3           3        etat        124\n",
       "4           4  etats-unis        116"
      ]
     },
     "execution_count": 43,
     "metadata": {},
     "output_type": "execute_result"
    }
   ],
   "source": [
    "LOC_highest=LOC_df[LOC_df['LOC_count']>6]\n",
    "print(\"There are %s LOC entities with >6 occurences.\\n\" %len(LOC_highest))\n",
    "print(list(LOC_highest.LOC_entity))\n",
    "LOC_highest[:5]"
   ]
  },
  {
   "cell_type": "markdown",
   "metadata": {},
   "source": [
    "Now that we  have looked at the extracted entities, we are going to preprocess them the same way we did for the texts and titles earlier, and then use the keywords we obtain as vocabulary to build a new Tf-Idf matrix. Finally, we re-train k-means models and analyse the results to see if the relevance of individual clusters has improved regarding topic modelling.\n",
    "\n",
    "Note: one possible issue are the surnames that appear as autonomous entities after splitting full names, e.g. \"louis-ferdinand céline\" is a French author, \"céline dion\" is a singer, the family name of the first is the surname of the second. \"Prince Harry\" has nothing to do with singer \"Prince\". We see the need for word embeddings coming right toward us!"
   ]
  },
  {
   "cell_type": "code",
   "execution_count": 53,
   "metadata": {},
   "outputs": [
    {
     "name": "stdout",
     "output_type": "stream",
     "text": [
      "['françois', 'mitterrand', 'jacques', 'chirac', 'gaulle', 'président', 'républiqu', 'lionel', 'jospin', 'général', 'gaulle', 'chirac', 'yasser', 'arafat', 'mitterrand', 'menahem', 'begin', 'clinton', 'charles', 'pasqua', 'moshe', 'dayan', 'arafat', 'staline', 'alain', 'juppé', 'edouard', 'balladur', '-major', 'washington', 'begin', '-aviv', 'itzhak', 'rabin', 'sadate', 'lénine', 'golda', 'helmut', 'pierre', 'bérégovoy', 'martin', 'aubry', 'kennedy', 'hitler', 'valéry', 'giscard', 'estaing', 'nasser', 'rabin', 'raymond', 'barre', 'expert', 'shimon', 'pere', 'napoléon', 'eisenhower', 'hasard', 'giscard', 'george', 'saddam', 'hussein', 'boulin', 'delmas', 'david', 'gourion', 'robert', 'badinter', 'georges', 'pompidou', 'anouar', 'sadate', 'vouloir', 'jean-paul', 'christ', 'jimmy', 'carter', 'michel', 'rocard', 'voltair', 'pierre', 'mendès', 'france', 'pierre', 'mauroy', 'robert', 'regardez', 'françoise', 'giroud', 'soudain', 'mendè', 'france', 'pompidou', 'louis', 'mikhaïl', 'gorbatchev', 'churchill', 'xiaoping', 'bernard', 'kouchner', 'boris', 'eltsine', 'roosevelt', 'claude', 'bébéar', 'jacques', 'toubon', 'mollet', 'alain', 'madelin', 'philippe', 'séguin', 'fidel', 'castro', 'kennedy', 'françois', 'hollande', 'robert', 'boulin', 'jacques', 'chaban', 'hussein', '-abeba', 'dayan', 'monnet', 'gourion', 'simone', 'président', 'hafer', 'assad', 'alain', 'peyrefitte', 'lundi', 'marie', 'philippe', 'schengen', 'james', 'baker', 'sinon', 'schneider', 'bercy', 'khrouchtchev', 'ariel', 'sharon', 'sharon', 'chaban', 'lance', 'auriol', 'marcel', 'carton', 'marcel', 'fontaine', 'bella', 'qu?il', 'pascal', 'hassan', 'norodom', 'sihanouk', 'adolf', 'eichmann', 'claude', 'cheysson', 'pinochet', 'pierre', 'laurent', 'fabius', 'jacques', 'derogy', 'guevara', 'gorbatchev', 'mobutu', 'maman', 'major', 'chateaubriand', 'trancher', 'leclerc', 'raymond', 'livraison', 'pierre', 'lescur', 'bertrand', 'charles', 'johnson', 'jésus', 'kennedy', 'truman', 'matignon', 'bernard', 'arnault', 'rupert', 'murdoch', 'françois', 'léotard', 'lunette', 'françois', 'aubert', 'blondel', 'robert', 'madonna', 'clinton', 'aujourd?hui', 'mendè', 'castro', 'pasteur', 'vincent', 'bolloré', 'henri', 'emmanuelli', 'philippe', 'jaffré', 'gate', 'kirch', 'gerhard', 'schröder', 'jospin', 'dominique', 'straus', 'robert', 'barbat', 'brandir', 'henri', 'tournet', 'colette', 'boulin', 'abraham', 'lincoln', 'jean-paul', 'kauffmann', 'jean-charle', 'marchiani', 'hussein', 'jordanie', 'chadli', 'djedid', 'chadli', 'sartre', 'khartoum', 'pérè', 'edgar', 'faure', 'michel', 'debré', 'bourreau', 'ronald', 'reagan', 'président', 'carter', 'youri', 'gagarine', 'jean-jacque', 'beineix', 'mauroy', 'roland', 'dumas', 'kadhafi', 'carlo', 'gille', 'perrault', 'jacques', 'foccart', 'cervantè', 'franco', 'pierre', 'messmer', 'claude', 'buffet', 'roger', 'bontems', 'lundi', 'dernier', 'henry', 'kissinger', 'après-midi', 'itzhak', 'shamir', 'carlo', 'avou', 'reagan', 'nelson', 'mandela', 'molotov', 'tchang', 'mozart', 'jésus', 'christ', 'jean-marie', 'jacques', 'barrot', 'jacques', 'calvet', 'jéricho', 'allah', 'pierre', 'méhaignerie', 'gaïdar', 'rupert', 'laurent', 'joseph', 'toung', 'shakespeare', 'jean-loui', 'giral', 'gandoi', 'antoin', 'seillière', 'stock', 'didier', 'pineau', 'silvio', 'berlusconi', 'bonaparte', 'henri', 'marguerite', 'dura', 'poulenc', 'freud', 'michel', 'armstrong', 'edwin', 'aidrin', 'richard', 'nixon', 'assi', 'césar', 'gaston', 'defferre', 'jean-marie', 'messier', 'serge', 'tchuruk', 'michael', 'jackson', 'hosni', 'moubarak', 'douter', 'maréchal', 'pétain', 'rimbaud', 'robert', 'schuman', 'jean-pierre', 'chevènement', 'meurtrière', 'alléger', 'gouffre', 'limpide', 'irgoun', 'george', 'marchais', 'nicole', 'philippe', 'bertrand', 'patrick', 'henry', 'weizmann', 'pétain', 'Monsieur', 'colett', 'mohammed', 'maurice', 'papon', 'blair', 'jacques', 'charles', 'taylor', 'samuel', 'prince', 'johnson', 'bousquet', 'hava', 'pascal', 'jacquet', 'mossoul']\n"
     ]
    }
   ],
   "source": [
    "# preprocessing of individual entities\n",
    "\n",
    "#v0: use all entities\n",
    "voc_PER = []\n",
    "for PER in PER_df['PER_entity']:\n",
    "    voc_PER+=prepare_text(PER) # PER : one string, preprocessed PER is a list containing 0 to n strings\n",
    "print(voc_PER)\n",
    "\n",
    "#v1: use most common entities only "
   ]
  },
  {
   "cell_type": "code",
   "execution_count": 54,
   "metadata": {},
   "outputs": [
    {
     "name": "stdout",
     "output_type": "stream",
     "text": [
      "['paris', 'france', 'france', 'etats-unis', 'europe', 'europe', 'allemagne', 'américain', 'france', 'israël', 'londre', 'jérusalem', 'français', 'grande-bretagne', 'moscou', 'terre', 'washington', 'chine', 'afriqu', 'chine', 'amériqu', 'algérie', 'allemand', 'angleterre', 'occident', 'berlin', 'itali', 'japon', 'beyrouth', 'espagn', 'genève', 'russie', 'suisse', 'pékin', 'amériqu', 'bruxelle', 'soleil', 'itali', 'liban', 'cisjordanie', 'syrie', 'terre', 'jordanie', 'sinaï', 'mercredi', 'damas', 'européen', 'afriqu', 'russe', 'pologn', 'egypte', 'algérien', 'israélien', 'anglais', 'alger', 'arabie', 'saoudite', 'matignon', 'marseill', 'vienn', 'empire', 'madrid', 'pacifique', 'hongrie', 'suède', 'bordeaux', 'algérie', 'tunisie', 'strasbourg', 'atlantique', 'britannique', 'soudan', 'orsay', 'mexique', 'belgiqu', 'sien', 'maroc', 'chinois', 'japonais', 'italien', 'téhéran', 'angele', 'champagne', 'syrien', 'turqui', 'munich', 'egyptien', 'afriqu', 'liby', 'danemark', 'américain', 'hexagone', 'portugal', 'cair', 'koweït', 'méditerranée', 'soleil', 'canal', 'vatican', 'vichy', 'kremlin', 'espagn', 'cair', 'roumanie', 'tchécoslovaquie', 'norvège', 'tokyo', 'japon', 'autrich', 'canada', 'versaille', \"côte-d'ivoir\", 'kenya', 'maghreb', 'pakistan', 'sénégal', 'francfort', 'vietnam', 'loir', 'toulouse', 'californie', 'prague', 'grèc', 'nigeria', 'japon', 'madagascar', 'coré', 'congo', 'gabon', 'croyez', 'australie', 'voudrai', 'cambodge', 'luxembourg', 'autopsie', 'yveline', 'samarie', 'sympathie', 'tripolir', 'seine', 'ethiopie', 'philippine', 'intendance', 'aimerai', 'rhône', 'afghanistan', 'guadeloupe', 'argentine', 'lill', 'bosnie', 'hongkong', 'milan', 'espagnol', 'normandie', 'république', 'tchèque', 'brésil', 'ukraine', 'bercy', 'liberia', 'unedic', 'forêt', 'rambouillet', 'palestin', 'tunis', 'amériqu', 'géorgie', 'lsraël', 'pologn', 'marrakech', 'milicien', 'rendez-vous', 'bagdad', 'plateau', 'golan', 'jourdain', 'pyrénée', 'magistrat', 'shangher', 'maastricht', 'mogadiscio', 'amman', 'cameroun', 'nante', 'texa', 'saharer', 'guinée', 'tchad', 'afrique', 'noire', 'bavièr', 'cassation', 'voyez', 'girond', 'budapest', 'coré', 'auschwitz', 'turcs', 'roissy', 'aquitaine', 'afriqu', 'thaïlande', 'hollywood', 'indochine', 'hauts-de-seine', 'neuilly', 'séoul', 'allai', 'rouge', 'grand-peine', 'corse', 'micro', 'clandestin', 'chili', 'dakar', 'belgrade', 'appel', 'paris', 'barcelone', 'golan', 'juder', 'major', 'parisien', 'egypte', 'alpe', 'qu?on', 'qu?elle', 'pêle-mêle', 'vietnamien', 'angola', 'alsac', 'nanterre', 'vrai', 'rabai', 'royaume', 'vauclus', 'grand', 'israël', 'terre', 'saint', 'coca-cola', 'ile-de-france', 'montpellier', 'conakry', 'gendarmerie', 'seine-saint-denis', 'trésor', 'palais', 'présidentiel', 'balkans', 'chypre', 'bueno', 'aire', 'cubain', 'havane', 'chicago', 'torture', 'palais', 'bourbon', 'coré', 'tuerie', 'vosge', 'outre-rhin', 'singapour', 'somali', 'basque', 'monrovia', 'medef', 'houston', 'bretagn', 'moyen-orient', 'colombe', 'kabylie', 'garde-à-vous', 'outrance', 'express', 'bangladesh', 'reim', 'qu?il', 'iranien', 'abidjan', 'haïfa', 'cognac', 'bekaa', 'santiago', 'chilien', 'celui', 'floride', 'otage', 'khomeiny', 'montparnass', 'manch', 'boulin', 'loir', 'man?uvre', 'mayenn', 'palais', 'bourbon', 'yonn', 'comédien', 'maritime', 'grenobl', 'provence', 'berlinois', 'prusse', 'allemand', 'parapluie', 'hanoi', 'sicil', 'itali', 'charia', 'bicyclett', 'canton', 'wuhan', 'république', 'serbie', 'sur-le-champ', 'sud-est', 'brandebourg', 'république', 'populaire', 'chine', 'caraïbes', 'hérault', 'alexandrie', 'ville', 'saint', 'survie', 'nancy', 'delhi', 'nankin', 'kennedy', 'cair', 'africain', 'boston', 'saint-gobain', 'saint-pétersbourg', 'xviiie', 'bretton', 'wood', 'dijon', 'suprême', 'square', 'saigon', 'constantinople', 'océan', 'indien', 'sarajevo', 'lourdes', 'flandr', 'finlande', 'kazakhstan', 'québec', 'draguignan', 'antille', 'martiniqu', 'keffieh', 'lausann', 'virginie', 'bilbao', 'renne', 'bloi', 'stockholm', 'stern', 'saint-deni', 'franc', 'nicaragua', 'république', 'weimar', 'malaysia', 'république', 'fédéral', 'xiii', 'goulag', 'epinal', 'craquer', 'opéra', 'taiwan', 'indonésie', 'stuttgart', 'kalachnikov', 'affût', 'bâton', 'khartoum', 'poing', 'troyer', 'cambodgien', 'caserne', 'oxford', 'afghans', 'chine', 'bokassa', 'blanc', 'danone', 'népal', 'guyane', 'rez-de-chaussée', 'ivoir', 'street', 'venise', 'haute-garonn', 'irakien']\n"
     ]
    }
   ],
   "source": [
    "#v0: use all entities\n",
    "voc_LOC = []\n",
    "for LOC in LOC_df['LOC_entity']:\n",
    "    voc_LOC+=prepare_text(LOC) # idem\n",
    "print(voc_LOC)"
   ]
  },
  {
   "cell_type": "code",
   "execution_count": 55,
   "metadata": {},
   "outputs": [
    {
     "name": "stdout",
     "output_type": "stream",
     "text": [
      "Entity-based vocabulary of size  641\n"
     ]
    }
   ],
   "source": [
    "# define vocab\n",
    "my_vocab=list(set(voc_LOC+voc_PER))\n",
    "print(\"Entity-based vocabulary of size \", len(my_vocab))"
   ]
  },
  {
   "cell_type": "code",
   "execution_count": 60,
   "metadata": {},
   "outputs": [
    {
     "name": "stdout",
     "output_type": "stream",
     "text": [
      "(726, 641)\n"
     ]
    }
   ],
   "source": [
    "# fit new tf-idf on all preprocessed texts with new vocab and constraints on document frequency and number of tokens\n",
    "tfidf_vectorizer_vocab=TfidfVectorizer(vocabulary=my_vocab) \n",
    "X_vocab = tfidf_vectorizer_vocab.fit_transform(news_df.pre_text) # X is a matrix\n",
    "print(X_vocab.shape)"
   ]
  },
  {
   "cell_type": "markdown",
   "metadata": {},
   "source": [
    "__KMeans__"
   ]
  },
  {
   "cell_type": "markdown",
   "metadata": {},
   "source": [
    "__DBSCAN__"
   ]
  },
  {
   "cell_type": "code",
   "execution_count": null,
   "metadata": {},
   "outputs": [],
   "source": []
  }
 ],
 "metadata": {
  "kernelspec": {
   "display_name": "Python 3",
   "language": "python",
   "name": "python3"
  },
  "language_info": {
   "codemirror_mode": {
    "name": "ipython",
    "version": 3
   },
   "file_extension": ".py",
   "mimetype": "text/x-python",
   "name": "python",
   "nbconvert_exporter": "python",
   "pygments_lexer": "ipython3",
   "version": "3.6.7"
  }
 },
 "nbformat": 4,
 "nbformat_minor": 2
}
