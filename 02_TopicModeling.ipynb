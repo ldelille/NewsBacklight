{
 "cells": [
  {
   "cell_type": "markdown",
   "metadata": {},
   "source": [
    "# Topic Modeling\n",
    "\n",
    "The goal of this notebook is two-fold:\n",
    "* identify the main topics of the corpus through LDA and clustering (unsupervised approach)\n",
    "* train a text classifier based on these topics (supervised learning).\n",
    "\n",
    "### Contents\n",
    "\n",
    "__Preliminaries__\n",
    "* a. Overview of text modeling techniques\n",
    "* b. Imports\n",
    "\n",
    "__1. LDA__\n",
    "\n",
    "__2. Clustering__\n",
    "* a. Tf-Idf for Clustering\n",
    "* b. K-Means\n",
    "* c. DBSCAN\n",
    "\n",
    "__3. Topic classifier__\n",
    "\n",
    "What's next"
   ]
  },
  {
   "cell_type": "markdown",
   "metadata": {},
   "source": [
    "# Preliminaries"
   ]
  },
  {
   "cell_type": "markdown",
   "metadata": {},
   "source": [
    "__a. Overview of text modeling techniques__\n",
    "\n",
    "* [LDA](https://towardsdatascience.com/end-to-end-topic-modeling-in-python-latent-dirichlet-allocation-lda-35ce4ed6b3e0)\n",
    "\n",
    "* Clustering. In order to build clusters we have to transform our news articles into a numerical representation that models can handle. Here we go for old good tf-idf vectors (we will test more state-of-the-art techniques in the next steps). Algorithms: K-Means and DBSCAN seem like the most relevant options to begin with.\n",
    "\n",
    "* ?"
   ]
  },
  {
   "cell_type": "markdown",
   "metadata": {},
   "source": [
    "__b. Imports__\n",
    "\n",
    "If you don't have already done so, please download these NLTK dependancies by running the following lines:\n",
    "\n",
    "> nltk.download('wordnet')\n",
    "\n",
    "> nltk.download('stopwords')"
   ]
  },
  {
   "cell_type": "code",
   "execution_count": 1,
   "metadata": {},
   "outputs": [
    {
     "name": "stdout",
     "output_type": "stream",
     "text": [
      "fr_core_news_sm loaded\n"
     ]
    }
   ],
   "source": [
    "# Classic packages\n",
    "\n",
    "import os \n",
    "import pandas as pd\n",
    "import matplotlib.pyplot as plt\n",
    "import numpy as np\n",
    "from collections import Counter\n",
    "import random \n",
    "random.seed(a=2905) # set random seed \n",
    "import pickle\n",
    "\n",
    "\n",
    "# NLP packages\n",
    "\n",
    "import gensim\n",
    "from gensim import corpora\n",
    "\n",
    "import spacy\n",
    "try: \n",
    "    print(\"fr_core_news_sm loaded\")\n",
    "    nlp = spacy.load(\"fr_core_news_sm\") # load pre-trained models for French\n",
    "except:\n",
    "    print(\"fr loaded\")\n",
    "    nlp=spacy.load('fr') # fr calls fr_core_news_sm \n",
    "\n",
    "import nltk\n",
    "from nltk.corpus import wordnet as wn\n",
    "from nltk.stem.wordnet import WordNetLemmatizer # not adapted to French?\n",
    "from nltk.stem.snowball import FrenchStemmer # already something \n",
    "# --> Lemmatizer would be better --> use spaCy lemmatizer\n",
    "\n",
    "# ML with sklearn\n",
    "import sklearn.cluster\n",
    "from sklearn.feature_extraction.text import TfidfTransformer, CountVectorizer \n",
    "from sklearn.feature_extraction.text import  TfidfVectorizer\n"
   ]
  },
  {
   "cell_type": "code",
   "execution_count": 2,
   "metadata": {},
   "outputs": [],
   "source": [
    "# data\n",
    "news_df=pd.read_csv(\"./articles.csv\")"
   ]
  },
  {
   "cell_type": "markdown",
   "metadata": {},
   "source": [
    "# 1. Latent Dirichlet Allocation (LDA)\n",
    "\n",
    "\n",
    "Main idea: Each document is represented as a distribution over topics, and each topic is represented as a distribution over words.\n",
    "Here we do not set the number of topics in advance, we rather set it arbitrarily like a threshold and see if the results are relevant.\n",
    "\n",
    "Code freely adapted from this [TDS post](https://towardsdatascience.com/topic-modelling-in-python-with-nltk-and-gensim-4ef03213cd21).\n",
    "\n"
   ]
  },
  {
   "cell_type": "markdown",
   "metadata": {},
   "source": [
    "__Text cleaning for LDA__\n",
    "\n",
    "* tokenize words (here using spacy parser for French)\n",
    "* lemmatize (using NLTK WordNetLemmatizer)\n",
    "* stopwords removal (using the default NLTK stopwords list for French)\n",
    "* apply pipeline on titles and text bodies"
   ]
  },
  {
   "cell_type": "code",
   "execution_count": 3,
   "metadata": {},
   "outputs": [
    {
     "data": {
      "text/plain": [
       "['il',\n",
       " 'était',\n",
       " 'une',\n",
       " 'fois',\n",
       " 'dans',\n",
       " \"l'\",\n",
       " 'ouest',\n",
       " ',',\n",
       " 'une',\n",
       " 'troupe',\n",
       " 'de',\n",
       " 'cowboys',\n",
       " 'intrépides',\n",
       " '.']"
      ]
     },
     "execution_count": 3,
     "metadata": {},
     "output_type": "execute_result"
    }
   ],
   "source": [
    "## spacy LDA\n",
    "\n",
    "spacy.load('fr')\n",
    "from spacy.lang.fr import French\n",
    "parser = French()\n",
    "\n",
    "def tokenize(text):\n",
    "    lda_tokens = []\n",
    "    tokens = parser(text)\n",
    "    for token in tokens:\n",
    "        if token.orth_.isspace():\n",
    "            continue\n",
    "        elif token.like_url:\n",
    "            lda_tokens.append('URL')\n",
    "        elif token.orth_.startswith('@'):\n",
    "            lda_tokens.append('SCREEN_NAME')\n",
    "        else:\n",
    "            lda_tokens.append(token.lower_)\n",
    "    return lda_tokens\n",
    "\n",
    "# test\n",
    "# we see it's basically a conversion of the words from the split sentence into lower case\n",
    "# but actually there is more under the hood because of the use of a parser\n",
    "tokenize(\"Il était une fois dans l'Ouest, une troupe de cowboys intrépides.\")"
   ]
  },
  {
   "cell_type": "code",
   "execution_count": 4,
   "metadata": {},
   "outputs": [
    {
     "name": "stdout",
     "output_type": "stream",
     "text": [
      "{'ayons', 'serons', 'sommes', 'eus', 'ton', 'un', 'qu', 'la', 'fusse', 'auriez', 'comme', 'or', 'elle', 'te', 'celui-là', 'étaient', 'fûtes', 'avait', 'était', 'étée', 'aux', 'car', 'sur', 'et', 'fut', 'votre', 'avec', 'étants', 'celui', 'aurons', 'étiez', 'eussions', 'ce', 'ma', 'au', 'fussiez', 'est', 'aies', 'eusses', 'de', 'on', 'tu', 'fus', 'soient', 'fût', 'eue', 'aurez', 'avez', 'ne', 'son', 'fussent', 'ayantes', 'l', 'même', 'notre', 'aurait', 'suis', 'eusse', 'auraient', 'quoi', 'soyons', 'aurais', 'étions', 'eussent', 'vos', 'eussiez', 'furent', 'une', 'serions', 'les', 'ou', 'tes', 'eût', 'mais', 'moi', 'soyez', 'étante', 'cette', 'mes', 'fussions', 'ils', 'sera', 'ayante', 'avais', 'serais', 'avions', 'fûmes', 'ses', 'avaient', 'ai', 'ces', 'étais', 'sont', 'avons', 'nous', 'mon', 'aura', 't', 'donc', 'il', 'dans', 'à', 'étant', 'eûtes', 'celui-ci', 'cet', 'auront', 'aurai', 'y', 'des', 'seront', 'avoir', 'lui', 'me', 'eux', 'étantes', 'ta', 'depuis', 'en', 'étés', 'pas', 'eut', 'aie', 'que', 'du', 'seras', 'seriez', 'fusses', 'sa', 'serait', 'sois', 'été', 'je', 'faire', 'se', 'as', 'n', 'serez', 'ni', 'étées', 'soit', 'êtes', 'le', 'd', 'eûmes', 'aurions', 's', 'aient', 'vous', 'c', 'es', 'toi', 'serai', 'autre', 'leur', 'par', 'eurent', 'où', 'j', 'eues', 'eu', 'auras', 'ayant', 'ayez', 'ayants', 'qui', 'ont', 'pour', 'seraient', 'aviez', 'être', 'ait', 'quand', 'm', 'nos'}\n"
     ]
    }
   ],
   "source": [
    "# stopwords removal\n",
    "\n",
    "#v0 : basic list\n",
    "fr_stop = set(nltk.corpus.stopwords.words('french'))\n",
    "#v1 : numbers\n",
    "my_fr_stop=fr_stop.union({'un' ,'deux','trois','quatre','cinq','six','sept','huit','neuf','dix',\n",
    "                          'onze', 'douze', 'treize','quatorze', 'quinze', 'seize', \n",
    "                          'vingt', 'trente', 'quarante', 'cinquante','soixante','cent'}, fr_stop)\n",
    "#v2 : conj + det + verbs\n",
    "my_fr_stop=fr_stop.union({'comme', 'ce', 'celui', 'cette', 'cet', 'celui-là', 'celui-ci', \n",
    "                          'le', 'la', 'les', 'de', 'des', 'du',\n",
    "                          'mais', 'où', 'et', 'donc', 'or', 'ni', 'car', 'depuis', 'quand', 'que', 'qui', 'quoi',\n",
    "                          'être', 'avoir', 'faire', \n",
    "                          'autre'})\n",
    "\n",
    "#'mille'  'million' 'milliard' 'billion' are not added to the stopwords list because they are more discriminative\n",
    "\n",
    "print(my_fr_stop)"
   ]
  },
  {
   "cell_type": "code",
   "execution_count": 5,
   "metadata": {},
   "outputs": [
    {
     "name": "stdout",
     "output_type": "stream",
     "text": [
      "\n",
      "Lemmas\n",
      "les --> le\n",
      "manifestations --> manifestation\n",
      "qui --> qui\n",
      "ont --> avoir\n",
      "agitées --> agiter\n",
      "la --> le\n",
      "France --> France\n",
      "ces --> ce\n",
      "derniers --> dernier\n",
      "mois --> mois\n",
      "\n",
      "Stems\n",
      "les --> le\n",
      "manifestations --> manifest\n",
      "qui --> qui\n",
      "ont --> ont\n",
      "agitées --> agit\n",
      "la --> la\n",
      "France --> franc\n",
      "ces --> ce\n",
      "derniers --> derni\n",
      "mois --> mois\n"
     ]
    }
   ],
   "source": [
    "# Comparison: nltk french stemmer vs spacy french lemmatizer\n",
    "\n",
    "# spacy\n",
    "print(\"\\nLemmas\")\n",
    "doc = nlp(u\"les manifestations qui ont agitées la France ces derniers mois\")\n",
    "for token in doc:\n",
    "    print(token, '-->', token.lemma_)\n",
    "print(\"\\nStems\")\n",
    "stemmer = FrenchStemmer()\n",
    "for w in \"les manifestations qui ont agitées la France ces derniers mois\".split():\n",
    "    print(w, '-->', stemmer.stem(w))"
   ]
  },
  {
   "cell_type": "markdown",
   "metadata": {},
   "source": [
    "We prefer to use the lemmas over the stems because they tend to be more informative and closer to the actual root word."
   ]
  },
  {
   "cell_type": "code",
   "execution_count": 6,
   "metadata": {},
   "outputs": [
    {
     "name": "stdout",
     "output_type": "stream",
     "text": [
      "'python 3' => 'python '\n",
      "'python3' => 'python3'\n",
      "'1something' => '1something'\n",
      "'2' => ''\n",
      "'434' => ''\n",
      "'python 35' => 'python '\n",
      "'1 ' => ' '\n",
      "' 232' => ' '\n"
     ]
    }
   ],
   "source": [
    "import re\n",
    "words = ['python 3', 'python3', '1something', '2', '434', 'python 35', '1 ', ' 232']\n",
    "for word in words:\n",
    "    print(\"'{}' => '{}'\".format(word, re.sub(r'\\b\\d+\\b', '', word)))\n"
   ]
  },
  {
   "cell_type": "code",
   "execution_count": 7,
   "metadata": {},
   "outputs": [],
   "source": [
    "# Tokenize, delete token if too small, \n",
    "def prepare_text_for_lda(text):\n",
    "    tokens = tokenize(text) # split and lower case\n",
    "    tokens=[re.sub(r'\\b\\d+\\b', '', token) for token in tokens] # get rid of digits\n",
    "    tokens = [token for token in tokens if len(token) > 4] # arbitrary length, +get rid of empty strings\n",
    "    tokens = [token for token in tokens if token not in my_fr_stop] # stopwords\n",
    "    doc = nlp(' '.join(tokens)) # pave the wave for spacy lemmatizer\n",
    "    tokens = [token.lemma_ for token in doc] # obtain lemmas\n",
    "    return tokens  "
   ]
  },
  {
   "cell_type": "code",
   "execution_count": 8,
   "metadata": {},
   "outputs": [
    {
     "name": "stdout",
     "output_type": "stream",
     "text": [
      "0    Tintin dans l'espace\n",
      "Name: title, dtype: object\n",
      "[['tintin', 'espac']]\n",
      "0    Trois semaines à bord de la station soviétique...\n",
      "Name: text, dtype: object\n",
      "['trois', 'semaine', 'station', 'soviétique', 'jean-loup', 'chrétien', 'premier', 'ouest-européen', 'sortir', 'espace']\n"
     ]
    }
   ],
   "source": [
    "title_tokens = []\n",
    "text_tokens = []\n",
    "\n",
    "## Apply on titles ##\n",
    "\n",
    "for t in news_df.title:\n",
    "    tokens = prepare_text_for_lda(t)\n",
    "    title_tokens.append(tokens)\n",
    "        \n",
    "## Apply on titles ##\n",
    "\n",
    "for t in news_df.text:\n",
    "    tokens = prepare_text_for_lda(t)\n",
    "    text_tokens.append(tokens)\n",
    "\n",
    "print(news_df.title[:1])        \n",
    "print(title_tokens[:1])\n",
    "print(news_df.text[:1][:20])  \n",
    "print(text_tokens[0][:10])"
   ]
  },
  {
   "cell_type": "code",
   "execution_count": 9,
   "metadata": {},
   "outputs": [
    {
     "name": "stdout",
     "output_type": "stream",
     "text": [
      "Tintin --> tintin\n",
      "dans --> dans\n",
      "l' --> le\n",
      "espace --> espace\n",
      "a --> avoir\n",
      "quitté --> quitter\n",
      "la --> le\n",
      "France --> France\n",
      ", --> ,\n",
      "il --> il\n",
      "n' --> n'\n",
      "aura --> avoir\n",
      "plus --> plus\n",
      "besoin --> besoin\n",
      "de --> de\n",
      "francs --> franc\n",
      ". --> .\n"
     ]
    }
   ],
   "source": [
    "## ?? espac / espace \n",
    "doc = nlp(u\"Tintin dans l'espace a quitté la France, il n'aura plus besoin de francs.\")\n",
    "for token in doc:\n",
    "    print(token, '-->', token.lemma_)"
   ]
  },
  {
   "cell_type": "markdown",
   "metadata": {},
   "source": [
    "__Visualize results with a wordcloud__\n",
    "\n",
    "We can control the quality of our preprocessing by plotting a wordcloud.\n",
    "\n",
    "We are satisfied by the quality of the processed titles since most of the words we see are nouns eligible as key words to describe an article.\n",
    "There is still room for improvement  on the side of article bodies (we spot a few link words, noun articles and adverbs we could get rid of through the stopwords list).\n",
    "\n",
    "//*Eventuellement on enrichira la liste de stopwords pour éliminer ces mots. Cependant, comme ils sont communs et donc peu discriminants, on peut espérer que leur score tf-idf sera en général relativement bas, et donc qu'ils seront éliminés du vocabulaire par la suite.*//"
   ]
  },
  {
   "cell_type": "code",
   "execution_count": 10,
   "metadata": {},
   "outputs": [
    {
     "data": {
      "image/png": "[encoded data removed]",
      "text/plain": [
       "<PIL.Image.Image image mode=RGB size=400x200 at 0x7FF1AE37DBE0>"
      ]
     },
     "execution_count": 10,
     "metadata": {},
     "output_type": "execute_result"
    }
   ],
   "source": [
    "# Import the wordcloud library\n",
    "from wordcloud import WordCloud\n",
    "# Join the different processed titles together.\n",
    "long_string = ','.join(list([' '.join(word_list_i) for word_list_i in title_tokens]))\n",
    "# Create a WordCloud object\n",
    "wordcloud = WordCloud(background_color=\"white\", max_words=5000, contour_width=3, contour_color='steelblue')\n",
    "# Generate a word cloud\n",
    "wordcloud.generate(long_string)\n",
    "# Visualize the word cloud\n",
    "wordcloud.to_image()"
   ]
  },
  {
   "cell_type": "code",
   "execution_count": 11,
   "metadata": {},
   "outputs": [
    {
     "data": {
      "image/png": "[encoded data removed]",
      "text/plain": [
       "<PIL.Image.Image image mode=RGB size=400x200 at 0x7FF1AC71BE10>"
      ]
     },
     "execution_count": 11,
     "metadata": {},
     "output_type": "execute_result"
    }
   ],
   "source": [
    "# Same for article bodies\n",
    "# Join the different processed texts together.\n",
    "long_string = ','.join(list([' '.join(word_list_i) for word_list_i in text_tokens]))\n",
    "# Create a WordCloud object\n",
    "wordcloud = WordCloud(background_color=\"white\", max_words=5000, contour_width=3, contour_color='steelblue')\n",
    "# Generate a word cloud\n",
    "wordcloud.generate(long_string)\n",
    "# Visualize the word cloud\n",
    "wordcloud.to_image()"
   ]
  },
  {
   "cell_type": "markdown",
   "metadata": {},
   "source": [
    "__Perform LDA with Gensim__\n",
    "\n",
    "Fixage arbitraire du nombre de topics, comme on fixerait arbitrairement k dans un k-means."
   ]
  },
  {
   "cell_type": "code",
   "execution_count": 12,
   "metadata": {},
   "outputs": [],
   "source": [
    "dic_title = corpora.Dictionary(title_tokens)\n",
    "dic_text = corpora.Dictionary(text_tokens)\n",
    "corpus_title = [dic_title.doc2bow(token) for token in title_tokens]\n",
    "corpus_text = [dic_text.doc2bow(token) for token in text_tokens]\n",
    "\n",
    "pickle.dump(corpus_title, open('corpus_title.pkl', 'wb'))\n",
    "dic_title.save('dic_title.gensim')\n",
    "pickle.dump(corpus_title, open('corpus_text.pkl', 'wb'))\n",
    "dic_text.save('dic_text.gensim')"
   ]
  },
  {
   "cell_type": "code",
   "execution_count": 13,
   "metadata": {},
   "outputs": [
    {
     "name": "stdout",
     "output_type": "stream",
     "text": [
      "['espac', 'tintin', 'boulin', 'robert', 'suicide', 'certitude', 'contre', 'pierre', 'mercredi', 'otage', 'soudain', 'planète', 'rouge', 'secret', 'ammar', 'forcer', 'marche', 'champion', 'discret', 'olympique', 'quinon', 'algérie', 'faillit', 'sanglant', 'israël', 'ébranlé', 'homme', 'objet', 'ponge', 'bess', 'georges', 'pourquoi', 'africain', 'long', 'mémoire', 'malgré', 'antigone', 'benazir', 'bhutto', 'janvier', 'pakistan', 'soupçon', 'triangle', 'campagne', 'ombre', 'darwin', 'tromper', 'dayan', 'symbole', 'impopulaire', 'leader', 'pérè', 'shimon', 'ainsi', 'exclusif', 'finir', 'phnom', 'témoignage', 'expliqu', 'simone', 'bureau', 'informatique', 'livré', 'jérusalem', 'nouveau', 'seul', 'chopinet', 'express', 'retrouve', 'touvier', 'tutelle', 'agent', 'faux', 'france', 'star', 'vrai', 'complexe', 'pinochet', 'challenger', 'drame', 'beineix', 'coluche', 'nourricier', 'marchandage', 'terrorisme', 'enquête', 'reprendre', 'espagne', 'goytisolo', 'sarrasin', 'attentat', 'blanco', 'carrero', 'décembre', 'avortement', 'médecin', 'peine', 'hors-la-loi', 'extraire', 'guerre', 'kippour', 'front', 'arafat', 'intronisé', 'yasser', 'femme', 'pouvoir', 'hearst', 'patricia', 'épisode', 'appel', 'ambulance', 'feuilleton', 'dibi', 'ethnologue', 'pascal', 'tribu', 'douce', 'manifestation', 'novembre', 'retour', 'tchécoslovaquie', 'pologn', 'solidarité', 'bocal', 'énigme', 'destin', 'sacré', 'capitalisme', 'ouvrir', 'pologne', 'délit', 'fuite', 'ozone', 'chadli', 'joker', 'faucon', 'tête', 'future', 'noiret', 'sacrer', 'tavernier', 'union', 'jour', 'pékin', 'tiananmen', 'droit', 'famine', 'château', 'havel', 'prison', 'vaclav', 'banqueroute', 'mathieu', 'selon', 'espace', 'pann', 'revanche', 'serber', 'chargeur', 'réunir', 'jeune', 'envers', 'paradis', 'chine', 'liberté', 'typhon', 'enfant', 'saint-laurent', 'triste', 'burguéra', 'méthode', 'baton', 'carotte', 'couette', 'degré', 'carthage', 'rêver', 'intemporel', 'changer', 'crise', 'japon', 'paysans', 'ploucs', 'carrefour', 'science', 'conclusion', 'heureux', 'liaison', 'croisade', 'mafia', 'papal', 'guignols', 'au-dessus', 'force', 'concertee', 'impossible', 'recession', 'reponse', 'hamas', 'occupe', 'territoire', 'haine', 'juge', 'mille', 'normal', 'nuit', 'chiffre', 'querelle', 'masquer', 'tarif', 'transparent', 'envahie', 'europe', 'chomage', 'capital', 'comment', 'gerer', 'image', 'mammifère', 'étonnant', 'politique', 'socialiste', 'limite', 'amour', 'repere', 'quel', 'étranger', 'eurosceptique', 'monter', 'terre', 'atmosphere', 'drôle', 'progrès', 'histoire', 'négociation', 'carton', 'jaune', 'tapie', 'agence', 'associ', 'consigny', 'directeur', 'lundi', 'octobre', 'operer', 'publicit', 'thierry', 'bazar', 'economie', 'russi', 'compact', 'irest', 'charlot', 'napper', 'parler', 'pouvaient', 'idyll', 'staccato', 'bourse', 'gérer', 'change', 'libert', 'presse', 'courrier', 'lecteur', 'spirituel', 'credit', 'encore', 'lyonnais', 'tuil', 'découverte', 'indispensable', 'laser', 'hermon', 'michel', 'utile', 'négliger', 'bernard', 'madagascar1853', 'justice', 'social', 'orgueil', 'franchise', 'heur', 'vérité', 'chaos', 'mort', 'devon', 'victoire', 'afrique', 'continent', 'miette', '.', 'céline', 'l.-f', 'amériqu', 'capitaine', 'grand', 'cameroun', 'deuxième', 'cent', 'métier', 'chercher', 'patron', 'repreneur', 'influence', 'debat', 'interdire', 'interet', 'joyau', 'éternel', 'guiloineau', 'mandela', 'nelson', 'implacable', 'santé', 'intempérie', 'tempérer', 'carnage', 'révélation', 'renseignement', 'cours', 'decodeur', 'méphisto', 'evaluation', 'petit', 'sortie', 'boris', 'eltsine', 'maladie', 'dollar', 'baisse', 'gandoi', 'salaire', 'dijon', 'fêtard', 'italien', 'surmontera', 'pantomime', 'port-au-prince', 'libraire', 'impitoyable', 'univers', 'amer', 'sud-ouest', 'trêve', 'retenir', 'embellie', 'flaconnage', 'blesser', 'dresde', 'mémoir', 'licencie', 'priorite', 'reembauchage', 'salarie', 'vague', 'diplomate', 'quotidien', 'faillir', 'perdre', 'excès', 'royaume', 'américain', 'etape', 'atteint', 'minitel', 'diamant', 'fantôme', 'central', 'combourg', 'cerise', 'lui', 'lèvre', 'cher', 'dieux', 'yakouti', 'astéri', 'theodore', 'zeldin', 'diluer', 'epopee', 'eurotunnel', 'étreinte', 'franglais', 'lexiqu', 'managerial', 'eternell', 'lumiere', 'presque', 'aéropostal', 'bouilloux', 'lafont', 'marcel', 'chant', 'tout', 'calvet', 'epuisant', 'imprecateur', 'choix', 'paris', 'banane', 'nabab', 'island', 'kangaroo', 'revivre', 'combien', 'emploi', 'offre', 'stabilisation', 'compte', 'légend', 'ancien', 'fremissement', 'essec', 'mardi', 'suisse', 'feuille', 'impot', 'suivez', 'départ', 'apollo', 'après', 'mond', 'juillet', 'désormais', 'misent', 'nigérian', 'vivra', 'peuple', 'suicid', 'répression', 'alarme', 'supprimer', 'budapest', 'parle', 'sartre', 'doute', 'semaine', 'densité', 'implantation', 'rebelle', 'clefs', 'psychanalyse', 'français', 'bollardière', 'combat', 'général', 'gagne', 'gourion', 'point', 'léone', 'mazurat', 'victime', 'complexité', 'edgar', 'morin', 'economist', 'tirer', 'chorégier', 'enjeu', 'média', 'entre', 'quelle', 'racine', 'saveur', 'senteur', 'chantiers', 'septennat', 'véritable', 'devant', 'inégal', 'plaisir', 'syndic', 'apre', 'abba', 'algerienn', 'ferhat', 'utopie', 'cabl', 'menac', 'satelli', 'camp', 'horreur', 'nazis', 'tour', 'deficit', 'banlieue', 'vivier', 'suédois', 'humanitaire', 'janina', 'ochojska', 'pédagogie', 'financier', 'client', 'culture', 'flambe', 'noumea', 'paysan', 'voler', 'verbatim', 'mutation', 'nostra', 'immigre', 'affaire', 'révélon', 'budgetair', 'controle', 'classement', 'charismatique', 'ministre', 'monde', 'premier', 'québec', 'mensonge', 'prisonnier', 'dejouany', 'examen', 'berlin', 'doigt', 'cadre', 'fier', 'partiel', 'temps', 'charles', 'maternité', 'professeur', 'rudigoz', 'désir', 'lorsque', 'paraître', 'rebond', 'chirac', 'miroir', 'association', 'collimateur', '-nou', 'bien-êtr', 'combine', 'milliard', 'langage', 'exposition', 'sortir', 'dram', 'leçons', 'société', 'émission', 'film', 'communisme', 'jurassic', 'lénine', 'colon', 'préoccupent', 'khmer', 'bagarre', 'bebe', 'budget', 'coup', 'policier', 'énigm', 'écran', 'interesse', 'supporter', 'esclave', 'martyr', 'demenager', 'suffire', 'sureffectif', 'syndicat', 'veulent', 'phrase', 'gustatif', 'voyage', 'françois', 'giroud', 'tigre', 'mauvais', 'signal', 'brevet', 'vampire', 'italie', 'moral', 'ordre', 'guide', 'ville', 'elyser', 'antimissile', 'lasers', 'orbite', 'concert', 'virtuel', 'héritage', 'rabin', 'institutionnel', 'trace', 'badinter', 'eichmann', 'procès', 'kennedy', 'contingent', 'o.a.s', 'programmme', 'heure', 'barka', 'récit', 'témoin', 'chinois', 'culturel', 'regard', 'révolution', 'chapeau', 'envoyé', 'spécial', 'jean-marie', 'vraiment', 'lamas', 'stepp', 'bon', 'volonté', 'innovateur', 'vitamine', 'aller', 'franc', 'jusqu', 'ponction', 'defier', 'gouvernement', 'tourisme', 'accor', 'stratégie', \"'\", 'paria', 'tzigane', 'engrenage', 'medecin', 'salle', 'irremplaçable', 'mendè', 'meurtrier', 'accord', 'renault', 'volvo', 'courant', 'internationaliste', 'elizabeth', 'taylor', 'competitivite', 'prefere', 'productivite', 'directrice', 'trois', 'costume', 'marzotto', 'philippe', 'portrer', 'séguin', 'discipline', 'inflation', 'lesfrancai', 'quiachange', 'vivre', 'mince', 'responsabilité', 'bercy', 'laisse', 'marque', 'commission', 'offensif', 'orient', 'pacifique', 'proche', 'empire', 'lever', 'soleil', 'train', 'exode', 'route', 'allemand', 'regle', 'sauvage', 'gages', 'tueur', 'attendre', 'islamiste', 'poids', 'golda', 'espoir', 'illusion', 'afriqu', 'détectiv', 'marguerite', 'moïs', 'opération', 'demain', 'kanaky', 'tjibaou', 'hont', 'vallée', 'lettre', 'jamais', 'yamit', 'cactus', 'sinaï', 'autre', 'jean-pierre', 'écart', 'acteur', 'désengager', 'avril', 'financer', 'retraite', 'ambiguïté', 'holme', 'moine', 'sherlock', 'double', 'désastreux', 'moins', 'assassinat', 'bertrand', 'cambodge', 'goulag', 'bédouin', 'glace', 'commando', 'suite', 'henry', 'patrick', 'lrgoun', 'décider', 'euthanasie', 'schwartzenberg', 'condamnation', 'appeler', 'augusto', 'cessa', 'verdict', 'ombr', 'shamir', 'soldat', 'second', 'bibliothèqu', 'dumberto', 'arrive', 'pauvre', 'génocid', 'burgo', 'biafra', 'éternité', 'continger', 'parachutiste', 'guérillero', 'téhéran', 'chute', 'strasbourg', 'cirqu', 'clignancourt', 'mesrine', 'giscard', 'espagnol', 'filièr', 'goldman', 'lendemain', 'boulet', 'européen', 'homm', 'khomeini', 'occident', 'trembler', 'personne', 'dernier', 'dialogue', 'bombe', 'guêpier', 'frontière', 'demission', 'dessous', 'hopital', 'attaque', 'corruption', 'juppe', 'confession', 'chien', 'management', 'consulter', 'francai', 'danois', 'mariage', 'international', 'multiplier', 'pression', 'cardin', 'galaxie', 'mode', 'consommation', 'reprise', 'street', 'cinémer', 'grain', 'sable', 'vatican', 'encyclopedie', 'rupture', 'immigré', 'leur', 'diana', 'gloire', 'decollage', 'armateur', 'barraquand', 'barreur', 'bollore', 'privilegier', 'bien-naître', 'devenir', 'expansion', 'fevrier', 'generation', 'precarit', 'dictature', 'narco', 'cannabis', 'toxique', 'allege', 'chambre', 'ecolo', 'energie', 'sydney', 'sien', 'toujours', 'trahir', 'complice', 'elitisme', 'populism', 'armée', 'decu', 'gandois', 'patronat', 'socialistes', 'bretagne', 'vendre', 'cohen', 'daniel', 'flammarion', 'nations', 'page', 'pauvretes', 'richess', 'botanique', 'cime', 'tropical', 'clémer', 'entourloupe', 'judiciaire', 'publication', 'aquitaine', 'benie', 'brer', 'jaffre', 'empoisonner', 'parquet', 'tardif', 'libre', 'modèle', 'maître', 'roserai', 'allemagne', 'réunie', 'humeur', 'salaud', 'touch', 'frere', 'galere', 'jacques', 'saade', 'europ', 'lantern', 'franceman', 'industrie', 'apprendre', 'atlantique', 'alcatel', 'patte', 'thomson', 'velours', 'antirigueur', 'argentine', 'menem', 'revolte', 'attente', 'disaient', 'expatrier', 'bilan', 'chapier', 'laisser', 'singulier', 'nous', 'pedro', 'murmure', 'bator', 'ouest', 'oulan', 'délir', 'initié', 'umberto', 'libéria', 'national', 'menacé', 'parretti', 'masque', 'plume', 'westlak', 'partir', 'pluralisme', 'adolf', 'chancelier', 'hitler', 'rescapé', 'santer', 'juif', 'millier', 'financement', 'éclater', 'apocalypse', 'folle', 'odysser', 'fusil', 'journal', 'dix-huit', 'islam', 'restez', 'veille', 'bousquet', 'vraie', 'bongo', 'montre', 'février', 'palestinien', 'réfugier', 'reculer', 'telecom', 'aguichant', 'argent', 'rideau', 'effort', 'madame', 'prendre', 'calculez', 'chef', 'devoir', 'gagner', 'service', 'secteur', 'telecommunication', 'jospin', 'fausse', 'honkong', 'vision', 'castrier', 'henri', 'regner', 'commerce', 'exterieur', 'repartir', 'americaine', 'negociation', 'europeenn', 'seattle', 'confidentiel', 'réponse', 'maltraitance', 'principe', 'retraire', 'monument', 'remordre', 'fiscal', 'surplus', 'conseillera', 'waigel', 'croissance', 'mondial', 'allemagn', 'commande', 'etranger', 'profite', 'indépendanse', 'tibet', 'législatives', 'résultat', 'fiscalite', 'promettre', 'enchere', 'trouble', 'deutsche', 'sanctionn', 'telekom', 'balladur', 'devedjian', 'donne', 'hommes-femme', 'malentendu', 'cinema', 'acheter', 'grossiste', 'sicav', 'année', 'olivier', 'rolin', 'agriculture', 'americain', 'raboter', 'affrontent', 'arnault', 'internet', 'pinault', 'emprunt', 'relance', 'busines', 'mediterranee', 'oriental', 'industriel', 'production', 'rechute', 'septembre', 'public', 'gerhard', 'massivement', 'schroder', 'abecedair', 'amiant', 'revolution', 'silencieux', 'chose', 'sport', 'lionel', 'parie', 'accelere', 'decelerent', 'menages', 'record', 'salarier', 'baudis', 'défi', 'maison', 'baiss', 'restauration', 'chrono', 'convertit', 'reseau', 'reseaux', 'antimondialisation', 'export', 'chrétien', 'visage', 'joyeux', 'famille', 'confirme', 'suppression', 'blair', 'licencier', 'tiens', 'fou', 'oestrich', 'suède', 'paritarism', 'banque', 'deficits', 'epanouissement', 'fleurs', 'plein', 'astre', 'cayrol', 'publica', 'roland', 'marocain', 'pleurer', 'protecteur', 'final', 'rugby', 'craindre', 'petrolier', 'prochain', 'troisieme', 'platanisme', 'ravage', 'decennie', 'meilleur', 'vente', 'medef', 'paritarisme', 'cerveau', 'dependance', 'molecule', 'reduir', 'toxicomani', 'aerospatial', 'couac', 'fusion', 'matra', 'activite', 'hausse', 'ralentir', 'enflamm', 'istambul', 'poésie', 'retrouver', 'action', 'rentable', 'bijou', 'chaumet', 'horloge', 'Monsieur', 'danger', 'préparer', 'vous', 'alstom', 'revers', 'siemens', 'subit', 'taiwan', 'abusif', 'licenciement', 'taxer', 'commercial', 'enjeux', 'gouvernemental', 'mesure', 'inquiet', 'preparation', 'reunion', 'rappelee', 'tractebel', 'mobiles', 'salon', 'aubry', 'excedent', 'conte', 'irland', 'bours', 'selftrade', 'acceler', 'recentrage', 'platz', 'potsdamer', 'ténébreux', 'fruit', 'verts', 'algerie', 'mende', 'ingénieur', 'mobiliter', 'élève', 'camargue', 'oustiqu', 'coûteuser', 'négligence', 'alli', 'bebear', 'paribas', 'aide', 'europeenne', 'recoivent', 'region', 'balis', 'chemin', 'obstacle', 'pourtant', 'débriefing', 'creent', 'departement', 'emplois', 'equipe', 'xavier', 'partner', 'controversé', 'vaccin', 'frèche', 'surprise', 'basculer', 'bouygue', 'brother', 'eter', 'ailleurs', 'krugman', 'ballon', 'micro', 'apôtr', 'droite', 'extrême', 'attitude', 'routards', 'bienfait', 'cohabitation', 'coffret', 'decouverte', 'gallimard', 'havas', 'interactive', 'larousse', 'polemique', 'prevision', 'grac', 'rayonn', 'panama', 'strategi', 'ronflement', 'spleen', 'coré', 'idéal', 'touristique', 'climat', 'deteriore', 'miser', 'tortionnaire', 'chanter', 'demissionne', 'enfance', 'pâtur', 'fonctionnaires', 'nippon', 'terreur', 'chronologie', 'democratie', 'anonyme', 'passionnément', 'naître', 'indomptable', 'shanghai', 'fache', 'gastronomie', 'contrer', 'invoqu', 'cible', 'reduction', 'reflechisson', 'examine', 'ultrason', 'amiens', 'téléphonie', 'multimédia', 'position', 'schuman', 'conduire', 'houphouët', 'bénin', 'jouent', 'regret', 'serviteur', 'vichy', 'fatiguée', 'parrain', 'musiqu', 'notte', 'croatie', 'déchirur', 'enfer', 'kurdistan', 'oasis', 'contrôlé', 'dérapage', 'madrid', 'promesse', 'charité', 'ordonnée', 'coeur', 'descente', 'bluff', 'bossi', 'gadget', 'candidat', 'embauche', 'ordinateur', 'sélection', 'couleur', 'primaire', 'calvair', 'scientologue', 'netanyahu', 'etat', 'washington', 'rwanda', 'privation', 'verite', 'néerlandais', 'cotte', 'maille', 'après-aïdid', 'espoirs', 'somali', 'ténus', 'chancellerie', 'marches', 'caisse', 'geste', 'passer', 'profanateur', 'figaro', 'heritier', 'guérir', 'oncle', 'eltsin', 'defaisance', 'mexicain', 'cherchez', 'indifférence', 'toller', 'hollywood', 'control', 'doter', 'elementaire', 'gestion', 'local', 'organismes', 'courir', 'frontiere', 'pass', 'coupable', 'forum', 'skoda', 'exploitez', 'johnny', 'malheur', 'police', 'prudence', 'reform', 'progresse', 'finance', 'holdings', 'nettoyage', 'operation', 'cache', 'dingue', 'tendance', 'tong', 'économie', 'lescure', 'moteur', 'nethold', 'fragile', 'rêve', 'syrien', 'consommateur', 'francer', 'marketing', 'reconcilient', 'yaourt', 'belgiqu', 'éclaté', 'aussi', 'cancer', 'cigarette', 'gene', 'bénéfice', 'hezbollah', 'disney', 'television', 'harcèlement', 'prion', 'savoir', 'botte', 'hauts', 'pasquer', 'repli', 'seine', 'indice', 'nikkei', 'piéger', 'avocat', 'cabinet', 'cribl', 'passe', 'vivant', 'farine', 'poisson', 'viande', 'zapper', 'convoite', 'wireles', 'marilyn', 'monroe', 'réussir', 'confu', 'dossier', 'charonn', 'massacre']\n"
     ]
    }
   ],
   "source": [
    "print([k for k in dic_title.values()])"
   ]
  },
  {
   "cell_type": "code",
   "execution_count": 14,
   "metadata": {},
   "outputs": [
    {
     "name": "stdout",
     "output_type": "stream",
     "text": [
      "\n",
      "Topics\n",
      "(0, '0.010*\"france\" + 0.007*\"baisse\" + 0.007*\"grand\" + 0.007*\"jospin\"')\n",
      "(1, '0.010*\"emploi\" + 0.010*\"histoire\" + 0.010*\"suite\" + 0.007*\"patron\"')\n",
      "(2, '0.016*\"crise\" + 0.013*\"encore\" + 0.013*\"contre\" + 0.010*\"italie\"')\n",
      "(3, '0.011*\"jour\" + 0.007*\"israël\" + 0.007*\"comment\" + 0.007*\"henry\"')\n",
      "(4, '0.018*\"europe\" + 0.009*\"marche\" + 0.006*\"algérie\" + 0.006*\"homme\"')\n",
      "(5, '0.022*\"contre\" + 0.010*\"pierre\" + 0.010*\"france\" + 0.010*\"américain\"')\n",
      "(6, '0.011*\"heure\" + 0.008*\"franc\" + 0.008*\"mond\" + 0.008*\"france\"')\n",
      "(7, '0.018*\"nouveau\" + 0.012*\"france\" + 0.009*\"compte\" + 0.009*\"droit\"')\n",
      "(8, '0.013*\"express\" + 0.010*\"français\" + 0.007*\"rouge\" + 0.007*\"guerre\"')\n",
      "(9, '0.020*\"retour\" + 0.010*\"affaire\" + 0.010*\"express\" + 0.010*\"japon\"')\n",
      "\n",
      "Topics\n",
      "(0, '0.005*\"france\" + 0.005*\"politique\" + 0.004*\"pouvoir\" + 0.004*\"homme\"')\n",
      "(1, '0.005*\"français\" + 0.005*\"pouvoir\" + 0.004*\"france\" + 0.004*\"politique\"')\n",
      "(2, '0.005*\"homme\" + 0.004*\"franc\" + 0.004*\"pouvoir\" + 0.003*\"nouveau\"')\n",
      "(3, '0.004*\"grand\" + 0.003*\"leur\" + 0.003*\"pouvoir\" + 0.003*\"femme\"')\n",
      "(4, '0.004*\"bousquet\" + 0.003*\"france\" + 0.003*\"europe\" + 0.003*\"français\"')\n",
      "(5, '0.005*\"pouvoir\" + 0.005*\"retraite\" + 0.004*\"femme\" + 0.004*\"homme\"')\n",
      "(6, '0.005*\"pouvoir\" + 0.004*\"grand\" + 0.004*\"israélien\" + 0.004*\"israël\"')\n",
      "(7, '0.006*\"emploi\" + 0.005*\"grand\" + 0.004*\"entreprise\" + 0.004*\"franc\"')\n",
      "(8, '0.004*\"nouveau\" + 0.004*\"million\" + 0.003*\"pouvoir\" + 0.003*\"franc\"')\n",
      "(9, '0.006*\"johnson\" + 0.005*\"kennedy\" + 0.003*\"homme\" + 0.003*\"graham\"')\n"
     ]
    }
   ],
   "source": [
    "# get the topics! \n",
    "\n",
    "NUM_TOPICS = 10\n",
    "\n",
    "for (corpus, dictionary) in [(corpus_title, dic_title), (corpus_text, dic_text)]:\n",
    "    print('\\nTopics')\n",
    "    ldamodel = gensim.models.ldamodel.LdaModel(corpus, num_topics = NUM_TOPICS, id2word=dictionary, passes=15)\n",
    "    ldamodel.save('model5.gensim')\n",
    "    topics = ldamodel.print_topics(num_words=4)\n",
    "    for topic in topics:\n",
    "        print(topic)"
   ]
  },
  {
   "cell_type": "code",
   "execution_count": 15,
   "metadata": {},
   "outputs": [],
   "source": [
    "# to be continued\n",
    "# https://towardsdatascience.com/topic-modelling-in-python-with-nltk-and-gensim-4ef03213cd21"
   ]
  },
  {
   "cell_type": "markdown",
   "metadata": {},
   "source": [
    "__Analysis__\n",
    "\n",
    "* at first sight, key words associated to the same topic do not always have much in common \n",
    "* some of the words used to define topics do not seem like relevant, high level key words\n",
    "* maybe the corpus is to small or to heterogeneous to obtain relevant topics this way!\n",
    "\n",
    "--> *Improvement ideas*\n",
    "- preprocessing: remove figures ('000', '10', '100', '11', '12', '15', '16', '17', '1990', '1997', '20', '30', '31', '50', '500', '60')\n",
    "- try clustering methods and put a word on the topics\n",
    "- improve dictionary\n",
    "- improve this first LDA model (more ideas [here](https://www.machinelearningplus.com/nlp/topic-modeling-gensim-python/))\n",
    "- get more data on specific topics\n"
   ]
  },
  {
   "cell_type": "markdown",
   "metadata": {},
   "source": [
    "# 2. Clustering \n",
    "\n",
    "K-Means clustering and DBSCAN with tf-idf representation\n",
    "\n"
   ]
  },
  {
   "cell_type": "markdown",
   "metadata": {},
   "source": [
    "### a. Build a tf-idf matrix to represent the corpus"
   ]
  },
  {
   "cell_type": "markdown",
   "metadata": {},
   "source": [
    "__Naive approach based on word count__\n",
    "\n",
    "We rapidly see that the use of lemmas is nessecary to avoid the explosion of our vocabulary. For example, \"missives\" and \"missive\" should be considered to be the same. "
   ]
  },
  {
   "cell_type": "code",
   "execution_count": 16,
   "metadata": {},
   "outputs": [
    {
     "name": "stdout",
     "output_type": "stream",
     "text": [
      "(726, 43869)\n"
     ]
    }
   ],
   "source": [
    "#instantiate CountVectorizer() \n",
    "cv=CountVectorizer() \n",
    " \n",
    "# this steps generates word counts for the words in your docs \n",
    "word_count_vector=cv.fit_transform(news_df.text)\n",
    "\n",
    "print(word_count_vector.shape)\n",
    "# Houston, we have a dimensionality problem"
   ]
  },
  {
   "cell_type": "code",
   "execution_count": 17,
   "metadata": {},
   "outputs": [
    {
     "data": {
      "text/html": [
       "<div>\n",
       "<style scoped>\n",
       "    .dataframe tbody tr th:only-of-type {\n",
       "        vertical-align: middle;\n",
       "    }\n",
       "\n",
       "    .dataframe tbody tr th {\n",
       "        vertical-align: top;\n",
       "    }\n",
       "\n",
       "    .dataframe thead th {\n",
       "        text-align: right;\n",
       "    }\n",
       "</style>\n",
       "<table border=\"1\" class=\"dataframe\">\n",
       "  <thead>\n",
       "    <tr style=\"text-align: right;\">\n",
       "      <th></th>\n",
       "      <th>idf_weights</th>\n",
       "    </tr>\n",
       "  </thead>\n",
       "  <tbody>\n",
       "    <tr>\n",
       "      <th>de</th>\n",
       "      <td>1.000000</td>\n",
       "    </tr>\n",
       "    <tr>\n",
       "      <th>la</th>\n",
       "      <td>1.022254</td>\n",
       "    </tr>\n",
       "    <tr>\n",
       "      <th>le</th>\n",
       "      <td>1.036419</td>\n",
       "    </tr>\n",
       "    <tr>\n",
       "      <th>des</th>\n",
       "      <td>1.047896</td>\n",
       "    </tr>\n",
       "    <tr>\n",
       "      <th>les</th>\n",
       "      <td>1.052235</td>\n",
       "    </tr>\n",
       "    <tr>\n",
       "      <th>...</th>\n",
       "      <td>...</td>\n",
       "    </tr>\n",
       "    <tr>\n",
       "      <th>missives</th>\n",
       "      <td>6.895779</td>\n",
       "    </tr>\n",
       "    <tr>\n",
       "      <th>missive</th>\n",
       "      <td>6.895779</td>\n",
       "    </tr>\n",
       "    <tr>\n",
       "      <th>compensés</th>\n",
       "      <td>6.895779</td>\n",
       "    </tr>\n",
       "    <tr>\n",
       "      <th>miradors</th>\n",
       "      <td>6.895779</td>\n",
       "    </tr>\n",
       "    <tr>\n",
       "      <th>œuvre</th>\n",
       "      <td>6.895779</td>\n",
       "    </tr>\n",
       "  </tbody>\n",
       "</table>\n",
       "<p>43869 rows × 1 columns</p>\n",
       "</div>"
      ],
      "text/plain": [
       "           idf_weights\n",
       "de            1.000000\n",
       "la            1.022254\n",
       "le            1.036419\n",
       "des           1.047896\n",
       "les           1.052235\n",
       "...                ...\n",
       "missives      6.895779\n",
       "missive       6.895779\n",
       "compensés     6.895779\n",
       "miradors      6.895779\n",
       "œuvre         6.895779\n",
       "\n",
       "[43869 rows x 1 columns]"
      ]
     },
     "execution_count": 17,
     "metadata": {},
     "output_type": "execute_result"
    }
   ],
   "source": [
    "# tf-idf with all the words\n",
    "tfidf_transformer=TfidfTransformer(smooth_idf=True,use_idf=True) \n",
    "tfidf_transformer.fit(word_count_vector)\n",
    "\n",
    "# print idf values \n",
    "idf = pd.DataFrame(tfidf_transformer.idf_, index=cv.get_feature_names(),columns=[\"idf_weights\"]) \n",
    " \n",
    "# sort ascending \n",
    "idf.sort_values(by=['idf_weights'])"
   ]
  },
  {
   "cell_type": "markdown",
   "metadata": {},
   "source": [
    "We have to select the words with highest tf-idf count."
   ]
  },
  {
   "cell_type": "markdown",
   "metadata": {},
   "source": [
    "Improvement ideas:\n",
    "    \n",
    "* get rid of figures \"000\", \"cinq\"\n",
    "* get rid of non topic words (destructive approach)\n",
    "* custom build vocabulary for the corpus, based on previous NER extraction \n",
    "* use lemmas (root words) instead of full words (ex: français, france go back to the same entity)\n"
   ]
  },
  {
   "cell_type": "markdown",
   "metadata": {},
   "source": [
    "__Tf-idf with lemmatized words__\n",
    "\n",
    "We resuse the preprocessing made in the LDA section. We already obtain a smaller vocabulary, but it remains too big. So next step is to fit the Tf-Idf matrix with some constraints to reduce the number of features."
   ]
  },
  {
   "cell_type": "code",
   "execution_count": 18,
   "metadata": {},
   "outputs": [],
   "source": [
    "news_df['pre_title']=[' '.join(word_list_i) for word_list_i in title_tokens] # preprocessed titles\n",
    "news_df['pre_text']=[' '.join(word_list_i) for word_list_i in text_tokens] # preprocessed article bodies"
   ]
  },
  {
   "cell_type": "code",
   "execution_count": 19,
   "metadata": {},
   "outputs": [
    {
     "name": "stdout",
     "output_type": "stream",
     "text": [
      "(726, 33630)\n"
     ]
    },
    {
     "data": {
      "text/html": [
       "<div>\n",
       "<style scoped>\n",
       "    .dataframe tbody tr th:only-of-type {\n",
       "        vertical-align: middle;\n",
       "    }\n",
       "\n",
       "    .dataframe tbody tr th {\n",
       "        vertical-align: top;\n",
       "    }\n",
       "\n",
       "    .dataframe thead th {\n",
       "        text-align: right;\n",
       "    }\n",
       "</style>\n",
       "<table border=\"1\" class=\"dataframe\">\n",
       "  <thead>\n",
       "    <tr style=\"text-align: right;\">\n",
       "      <th></th>\n",
       "      <th>idf_weights</th>\n",
       "    </tr>\n",
       "  </thead>\n",
       "  <tbody>\n",
       "    <tr>\n",
       "      <th>pouvoir</th>\n",
       "      <td>1.602474</td>\n",
       "    </tr>\n",
       "    <tr>\n",
       "      <th>premier</th>\n",
       "      <td>1.610041</td>\n",
       "    </tr>\n",
       "    <tr>\n",
       "      <th>grand</th>\n",
       "      <td>1.617665</td>\n",
       "    </tr>\n",
       "    <tr>\n",
       "      <th>nouveau</th>\n",
       "      <td>1.675423</td>\n",
       "    </tr>\n",
       "    <tr>\n",
       "      <th>aussi</th>\n",
       "      <td>1.689029</td>\n",
       "    </tr>\n",
       "    <tr>\n",
       "      <th>...</th>\n",
       "      <td>...</td>\n",
       "    </tr>\n",
       "    <tr>\n",
       "      <th>houle</th>\n",
       "      <td>6.895779</td>\n",
       "    </tr>\n",
       "    <tr>\n",
       "      <th>houillon</th>\n",
       "      <td>6.895779</td>\n",
       "    </tr>\n",
       "    <tr>\n",
       "      <th>houill</th>\n",
       "      <td>6.895779</td>\n",
       "    </tr>\n",
       "    <tr>\n",
       "      <th>honved</th>\n",
       "      <td>6.895779</td>\n",
       "    </tr>\n",
       "    <tr>\n",
       "      <th>œuvre</th>\n",
       "      <td>6.895779</td>\n",
       "    </tr>\n",
       "  </tbody>\n",
       "</table>\n",
       "<p>33630 rows × 1 columns</p>\n",
       "</div>"
      ],
      "text/plain": [
       "          idf_weights\n",
       "pouvoir      1.602474\n",
       "premier      1.610041\n",
       "grand        1.617665\n",
       "nouveau      1.675423\n",
       "aussi        1.689029\n",
       "...               ...\n",
       "houle        6.895779\n",
       "houillon     6.895779\n",
       "houill       6.895779\n",
       "honved       6.895779\n",
       "œuvre        6.895779\n",
       "\n",
       "[33630 rows x 1 columns]"
      ]
     },
     "execution_count": 19,
     "metadata": {},
     "output_type": "execute_result"
    }
   ],
   "source": [
    "# Re-compute the word-count for preprocessed texts\n",
    "\n",
    "word_count_vector=cv.fit_transform(news_df.pre_text)\n",
    "\n",
    "print(word_count_vector.shape)\n",
    "\n",
    "# tf-idf with all the words\n",
    "tfidf_transformer=TfidfTransformer(smooth_idf=True,use_idf=True) \n",
    "tfidf_transformer.fit(word_count_vector)\n",
    "\n",
    "# print idf values \n",
    "idf = pd.DataFrame(tfidf_transformer.idf_, index=cv.get_feature_names(),columns=[\"idf_weights\"]) \n",
    " \n",
    "# sort ascending \n",
    "idf.sort_values(by=['idf_weights'])"
   ]
  },
  {
   "cell_type": "markdown",
   "metadata": {},
   "source": [
    "__Tf-Idf vectorizer with constraints__"
   ]
  },
  {
   "cell_type": "code",
   "execution_count": 20,
   "metadata": {},
   "outputs": [],
   "source": [
    "# fit tf-idf on all texts with constraints on document frequency and number of tokens\n",
    "tfidf_vectorizer=TfidfVectorizer(max_df = 700, max_features=500, smooth_idf=True,use_idf=True) \n",
    "X = tfidf_vectorizer.fit_transform(news_df.pre_text) # X is a matrix"
   ]
  },
  {
   "cell_type": "code",
   "execution_count": 21,
   "metadata": {},
   "outputs": [
    {
     "name": "stdout",
     "output_type": "stream",
     "text": [
      "['abord', 'accepter', 'accord', 'action', 'activité', 'administration', 'affaire', 'africain', 'ailleurs', 'ainsi', 'algérie', 'algérien', 'allemagne', 'allemand', 'aller', 'alors', 'américain', 'amériqu', 'ancien', 'annoncer', 'année', 'appel', 'appeler', 'apprendre', 'après', 'arabe', 'argent', 'arme', 'armer', 'armée', 'arriver', 'arrêter', 'assez', 'association', 'assurer', 'atteindre', 'attendre', 'aucun', 'aujourd', 'aussi', 'autant', 'autorité', 'autour', 'autre', 'avant', 'avenir', 'avocat', 'avril', 'beaucoup', 'begin', 'bernard', 'besoin', 'blanc', 'bon', 'cadre', 'campagne', 'capital', 'cause', 'celui', 'centaine', 'central', 'centre', 'certain', 'certains', 'chacun', 'chambre', 'chance', 'changer', 'chaque', 'charger', 'chercher', 'chiffre', 'chine', 'chinois', 'chirac', 'choisir', 'choix', 'chose', 'chômage', 'civil', 'clair', 'commencer', 'comment', 'commission', 'commun', 'communauté', 'communiste', 'comprendre', 'compris', 'compte', 'condition', 'conduire', 'connaître', 'conseil', 'continuer', 'contre', 'contrôle', 'coup', 'cours', 'crise', 'croire', 'croissance', 'création', 'créer', 'demande', 'demander', 'dernier', 'derrière', 'deuxième', 'devant', 'devenir', 'devoir', 'difficile', 'dire', 'directeur', 'direction', 'dirigeant', 'diriger', 'dollar', 'donner', 'dossier', 'doute', 'droit', 'droite', 'débat', 'début', 'décembre', 'décider', 'décision', 'découvrir', 'défense', 'démocratie', 'départ', 'député', 'désormais', 'développement', 'effet', 'emploi', 'encore', 'enfant', 'enfin', 'engager', 'enquête', 'ensembl', 'ensuite', 'entendre', 'entier', 'entre', 'entreprendre', 'entreprise', 'entrer', 'environ', 'envoyer', 'esprit', 'essentiel', 'est', 'etats', 'europe', 'européen', 'exemple', 'explique', 'expliquer', 'express', 'expérience', 'faire', 'falloir', 'famille', 'façon', 'femme', 'fille', 'financier', 'fonction', 'fonds', 'force', 'formation', 'forme', 'fort', 'franc', 'france', 'français', 'françois', 'front', 'frontière', 'février', 'gagner', 'garde', 'gauche', 'gaulle', 'gouvernement', 'grand', 'grave', 'groupe', 'grâce', 'guerre', 'général', 'habitant', 'heure', 'histoire', 'homme', 'hui', 'humain', 'image', 'important', 'imposer', 'industrie', 'industriel', 'indépendance', 'information', 'installer', 'international', 'intérieur', 'intérêt', 'israélien', 'israël', 'italien', 'jacques', 'jamais', 'janvier', 'jean', 'jeune', 'johnson', 'jouer', 'jour', 'journal', 'journaliste', 'juif', 'juillet', 'jusqu', 'justice', 'jérusalem', 'kennedy', 'laisser', 'lancer', 'leader', 'lendemain', 'lequel', 'lettre', 'leur', 'liberté', 'libre', 'libération', 'livre', 'local', 'long', 'longtemps', 'lorsqu', 'lorsque', 'lui', 'lutte', 'maintenant', 'maison', 'majorité', 'malgré', 'marcher', 'marché', 'matin', 'mauvais', 'meilleur', 'membre', 'menacer', 'mesure', 'mettre', 'michel', 'mieux', 'milieu', 'militaire', 'milliard', 'millier', 'million', 'ministre', 'mission', 'moins', 'moment', 'mond', 'monde', 'mondial', 'montrer', 'mort', 'mouvemer', 'moyen', 'médecin', 'même', 'nation', 'national', 'niveau', 'nombre', 'nombreux', 'notamment', 'nouveau', 'négociation', 'objectif', 'obtenir', 'occidental', 'occuper', 'octobre', 'oeuvre', 'officiel', 'offrir', 'opinion', 'opposition', 'opération', 'ordre', 'organisation', 'organiser', 'oublier', 'ouest', 'outre', 'ouvrir', 'palestinien', 'paraître', 'parce', 'parfois', 'paris', 'parle', 'parler', 'parmi', 'parti', 'partie', 'partir', 'passer', 'patron', 'payer', 'peine', 'pendant', 'penser', 'perdre', 'permettre', 'personnage', 'personne', 'personnel', 'petit', 'peuple', 'peut', 'pierre', 'pièce', 'place', 'plein', 'plupart', 'plusieurs', 'plutôt', 'point', 'police', 'policier', 'politique', 'populaire', 'population', 'porte', 'porter', 'position', 'possible', 'poste', 'pourquoi', 'pourtant', 'pouvoir', 'premier', 'prendre', 'presque', 'presse', 'principal', 'principe', 'priver', 'problème', 'prochain', 'proche', 'production', 'produire', 'produit', 'programme', 'projet', 'propre', 'présent', 'président', 'prévoir', 'public', 'puissance', 'période', 'quant', 'quatre', 'quel', 'quelque', 'question', 'raison', 'rapport', 'recevoir', 'recherche', 'reconnaître', 'refuser', 'relation', 'religieux', 'rendre', 'reprendre', 'représenter', 'responsable', 'reste', 'rester', 'retour', 'retrouver', 'revenir', 'risque', 'robert', 'rouge', 'route', 'russe', 'régim', 'région', 'répondre', 'république', 'réseau', 'résultat', 'révolution', 'saint', 'salarier', 'salle', 'santé', 'savoir', 'scène', 'second', 'secret', 'secrétaire', 'secteur', 'selon', 'semaine', 'semble', 'septembre', 'service', 'servir', 'seul', 'seulement', 'signe', 'signer', 'simple', 'situation', 'siècle', 'siège', 'social', 'socialiste', 'société', 'soldat', 'solution', 'sortir', 'sous', 'souvent', 'soviétique', 'succès', 'suite', 'suivre', 'sujet', 'supérieur', 'surtout', 'système', 'sécurité', 'tel', 'temps', 'tenir', 'tenter', 'terme', 'terrain', 'terre', 'titre', 'total', 'toujours', 'tout', 'travail', 'travailler', 'trente', 'trois', 'trouve', 'trouver', 'télévision', 'union', 'unis', 'valeur', 'venir', 'victime', 'vieux', 'village', 'ville', 'vingt', 'visage', 'vivre', 'voilà', 'voisin', 'voiture', 'vouloir', 'vous', 'vraiment', 'véritable', 'vérité', 'école', 'économie', 'économique', 'également', 'élection', 'époque', 'équipe', 'étranger', 'étude', 'étudiant', 'événement', 'être']\n",
      "(726, 500)\n"
     ]
    }
   ],
   "source": [
    "# take a look at the result\n",
    "print(tfidf_vectorizer.get_feature_names())\n",
    "print(X.shape)"
   ]
  },
  {
   "cell_type": "code",
   "execution_count": null,
   "metadata": {},
   "outputs": [],
   "source": []
  },
  {
   "cell_type": "code",
   "execution_count": null,
   "metadata": {},
   "outputs": [],
   "source": []
  },
  {
   "cell_type": "code",
   "execution_count": null,
   "metadata": {},
   "outputs": [],
   "source": []
  },
  {
   "cell_type": "code",
   "execution_count": null,
   "metadata": {},
   "outputs": [],
   "source": []
  },
  {
   "cell_type": "markdown",
   "metadata": {},
   "source": [
    "__Tf-idf with entity-based vocabulary__"
   ]
  },
  {
   "cell_type": "code",
   "execution_count": 22,
   "metadata": {},
   "outputs": [],
   "source": [
    "PER_df=pd.read_csv('articles_PER.csv')\n",
    "LOC_df=pd.read_csv('articles_LOC.csv')"
   ]
  },
  {
   "cell_type": "code",
   "execution_count": 23,
   "metadata": {},
   "outputs": [
    {
     "data": {
      "text/html": [
       "<div>\n",
       "<style scoped>\n",
       "    .dataframe tbody tr th:only-of-type {\n",
       "        vertical-align: middle;\n",
       "    }\n",
       "\n",
       "    .dataframe tbody tr th {\n",
       "        vertical-align: top;\n",
       "    }\n",
       "\n",
       "    .dataframe thead th {\n",
       "        text-align: right;\n",
       "    }\n",
       "</style>\n",
       "<table border=\"1\" class=\"dataframe\">\n",
       "  <thead>\n",
       "    <tr style=\"text-align: right;\">\n",
       "      <th></th>\n",
       "      <th>Unnamed: 0</th>\n",
       "      <th>PER_count</th>\n",
       "    </tr>\n",
       "  </thead>\n",
       "  <tbody>\n",
       "    <tr>\n",
       "      <th>count</th>\n",
       "      <td>287.000000</td>\n",
       "      <td>287.000000</td>\n",
       "    </tr>\n",
       "    <tr>\n",
       "      <th>mean</th>\n",
       "      <td>143.000000</td>\n",
       "      <td>5.487805</td>\n",
       "    </tr>\n",
       "    <tr>\n",
       "      <th>std</th>\n",
       "      <td>82.993976</td>\n",
       "      <td>4.539534</td>\n",
       "    </tr>\n",
       "    <tr>\n",
       "      <th>min</th>\n",
       "      <td>0.000000</td>\n",
       "      <td>3.000000</td>\n",
       "    </tr>\n",
       "    <tr>\n",
       "      <th>25%</th>\n",
       "      <td>71.500000</td>\n",
       "      <td>3.000000</td>\n",
       "    </tr>\n",
       "    <tr>\n",
       "      <th>50%</th>\n",
       "      <td>143.000000</td>\n",
       "      <td>4.000000</td>\n",
       "    </tr>\n",
       "    <tr>\n",
       "      <th>75%</th>\n",
       "      <td>214.500000</td>\n",
       "      <td>6.000000</td>\n",
       "    </tr>\n",
       "    <tr>\n",
       "      <th>max</th>\n",
       "      <td>286.000000</td>\n",
       "      <td>35.000000</td>\n",
       "    </tr>\n",
       "  </tbody>\n",
       "</table>\n",
       "</div>"
      ],
      "text/plain": [
       "       Unnamed: 0   PER_count\n",
       "count  287.000000  287.000000\n",
       "mean   143.000000    5.487805\n",
       "std     82.993976    4.539534\n",
       "min      0.000000    3.000000\n",
       "25%     71.500000    3.000000\n",
       "50%    143.000000    4.000000\n",
       "75%    214.500000    6.000000\n",
       "max    286.000000   35.000000"
      ]
     },
     "execution_count": 23,
     "metadata": {},
     "output_type": "execute_result"
    }
   ],
   "source": [
    "PER_df.describe()"
   ]
  },
  {
   "cell_type": "code",
   "execution_count": 24,
   "metadata": {},
   "outputs": [
    {
     "name": "stdout",
     "output_type": "stream",
     "text": [
      "['françois mitterrand', 'jacques chirac', 'ii', 'de gaulle', 'président de la république', 'lionel jospin', 'général de gaulle', 'chirac', 'yasser arafat', 'mitterrand', 'menahem begin', 'bill clinton', 'charles pasqua', 'moshe dayan', 'arafat', 'hier', 'staline', 'alain juppé', 'edouard balladur', '-major', 'washington', 'begin', '-aviv', '-ci', 'itzhak rabin', 'sadate', 'lénine', 'golda meir', 'fini', 'helmut kohl', 'pierre bérégovoy', 'martine aubry', 'kennedy', 'hitler', \"valéry giscard d'estaing\", 'nasser', 'rabin', 'raymond barre', 'expert', 'shimon peres', 'napoléon', 'eisenhower', 'hasard', 'giscard', 'george bush', 'mao', 'saddam hussein', 'boulin', 'delmas', 'david ben gourion', 'robert badinter', 'georges pompidou', 'anouar el-sadate', 'voulez', 'jean-paul ii', 'christ', 'jimmy carter', 'michel rocard', 'voltaire', 'pierre mendès france', 'pierre mauroy', 'robert', 'regardez', 'marx', 'françoise giroud', 'soudain', 'mendès france', 'pompidou', 'louis xiv', 'mikhaïl gorbatchev', 'churchill', 'deng xiaoping', 'bernard kouchner', 'boris eltsine', 'roosevelt', 'claude bébéar', 'jacques toubon', 'guy mollet', '-', 'alain madelin', 'philippe séguin', 'fidel castro', 'john kennedy', 'françois hollande']\n"
     ]
    },
    {
     "data": {
      "text/html": [
       "<div>\n",
       "<style scoped>\n",
       "    .dataframe tbody tr th:only-of-type {\n",
       "        vertical-align: middle;\n",
       "    }\n",
       "\n",
       "    .dataframe tbody tr th {\n",
       "        vertical-align: top;\n",
       "    }\n",
       "\n",
       "    .dataframe thead th {\n",
       "        text-align: right;\n",
       "    }\n",
       "</style>\n",
       "<table border=\"1\" class=\"dataframe\">\n",
       "  <thead>\n",
       "    <tr style=\"text-align: right;\">\n",
       "      <th></th>\n",
       "      <th>Unnamed: 0</th>\n",
       "      <th>PER_entity</th>\n",
       "      <th>PER_count</th>\n",
       "    </tr>\n",
       "  </thead>\n",
       "  <tbody>\n",
       "    <tr>\n",
       "      <th>0</th>\n",
       "      <td>0</td>\n",
       "      <td>françois mitterrand</td>\n",
       "      <td>35</td>\n",
       "    </tr>\n",
       "    <tr>\n",
       "      <th>1</th>\n",
       "      <td>1</td>\n",
       "      <td>jacques chirac</td>\n",
       "      <td>31</td>\n",
       "    </tr>\n",
       "    <tr>\n",
       "      <th>2</th>\n",
       "      <td>2</td>\n",
       "      <td>ii</td>\n",
       "      <td>29</td>\n",
       "    </tr>\n",
       "    <tr>\n",
       "      <th>3</th>\n",
       "      <td>3</td>\n",
       "      <td>de gaulle</td>\n",
       "      <td>26</td>\n",
       "    </tr>\n",
       "    <tr>\n",
       "      <th>4</th>\n",
       "      <td>4</td>\n",
       "      <td>président de la république</td>\n",
       "      <td>26</td>\n",
       "    </tr>\n",
       "  </tbody>\n",
       "</table>\n",
       "</div>"
      ],
      "text/plain": [
       "   Unnamed: 0                  PER_entity  PER_count\n",
       "0           0         françois mitterrand         35\n",
       "1           1              jacques chirac         31\n",
       "2           2                          ii         29\n",
       "3           3                   de gaulle         26\n",
       "4           4  président de la république         26"
      ]
     },
     "execution_count": 24,
     "metadata": {},
     "output_type": "execute_result"
    }
   ],
   "source": [
    "PER_highest=PER_df[PER_df['PER_count']>5]\n",
    "print(list(PER_highest.PER_entity))\n",
    "PER_highest.head()"
   ]
  },
  {
   "cell_type": "code",
   "execution_count": 25,
   "metadata": {},
   "outputs": [
    {
     "data": {
      "text/html": [
       "<div>\n",
       "<style scoped>\n",
       "    .dataframe tbody tr th:only-of-type {\n",
       "        vertical-align: middle;\n",
       "    }\n",
       "\n",
       "    .dataframe tbody tr th {\n",
       "        vertical-align: top;\n",
       "    }\n",
       "\n",
       "    .dataframe thead th {\n",
       "        text-align: right;\n",
       "    }\n",
       "</style>\n",
       "<table border=\"1\" class=\"dataframe\">\n",
       "  <thead>\n",
       "    <tr style=\"text-align: right;\">\n",
       "      <th></th>\n",
       "      <th>Unnamed: 0</th>\n",
       "      <th>LOC_count</th>\n",
       "    </tr>\n",
       "  </thead>\n",
       "  <tbody>\n",
       "    <tr>\n",
       "      <th>count</th>\n",
       "      <td>439.00000</td>\n",
       "      <td>439.000000</td>\n",
       "    </tr>\n",
       "    <tr>\n",
       "      <th>mean</th>\n",
       "      <td>219.00000</td>\n",
       "      <td>9.621868</td>\n",
       "    </tr>\n",
       "    <tr>\n",
       "      <th>std</th>\n",
       "      <td>126.87264</td>\n",
       "      <td>17.268576</td>\n",
       "    </tr>\n",
       "    <tr>\n",
       "      <th>min</th>\n",
       "      <td>0.00000</td>\n",
       "      <td>3.000000</td>\n",
       "    </tr>\n",
       "    <tr>\n",
       "      <th>25%</th>\n",
       "      <td>109.50000</td>\n",
       "      <td>3.000000</td>\n",
       "    </tr>\n",
       "    <tr>\n",
       "      <th>50%</th>\n",
       "      <td>219.00000</td>\n",
       "      <td>5.000000</td>\n",
       "    </tr>\n",
       "    <tr>\n",
       "      <th>75%</th>\n",
       "      <td>328.50000</td>\n",
       "      <td>8.500000</td>\n",
       "    </tr>\n",
       "    <tr>\n",
       "      <th>max</th>\n",
       "      <td>438.00000</td>\n",
       "      <td>158.000000</td>\n",
       "    </tr>\n",
       "  </tbody>\n",
       "</table>\n",
       "</div>"
      ],
      "text/plain": [
       "       Unnamed: 0   LOC_count\n",
       "count   439.00000  439.000000\n",
       "mean    219.00000    9.621868\n",
       "std     126.87264   17.268576\n",
       "min       0.00000    3.000000\n",
       "25%     109.50000    3.000000\n",
       "50%     219.00000    5.000000\n",
       "75%     328.50000    8.500000\n",
       "max     438.00000  158.000000"
      ]
     },
     "execution_count": 25,
     "metadata": {},
     "output_type": "execute_result"
    }
   ],
   "source": [
    "LOC_df.describe()"
   ]
  },
  {
   "cell_type": "code",
   "execution_count": 26,
   "metadata": {},
   "outputs": [
    {
     "name": "stdout",
     "output_type": "stream",
     "text": [
      "['paris', 'france', 'la france', 'etat', 'etats-unis', 'europe', '-', \"l'europe\", 'allemagne', 'américains', 'état', 'de france', 'israël', 'londres', 'jérusalem', 'français', 'grande-bretagne', 'moscou', 'terre', 'washington', 'chine', 'afrique', '»', 'la chine', 'amérique', 'new york', 'algérie', 'allemands', 'angleterre', 'occident', 'berlin', 'italie', 'japon', 'beyrouth', 'espagne', 'genève', 'russie', 'suisse', 'pékin', \"l'amérique\", 'bruxelles', 'soleil', \"l'italie\", 'f', 'gaza', 'liban', 'cisjordanie', 'syrie', 'la terre', 'jordanie', 'iran', 'sinaï', 'asie', 'mercredi', 'damas', 'cher', 'lyon', 'européens', 'lune', \"l'afrique\", 'russes', 'pologne', 'egypte', 'algériens', 'israéliens', 'rome', 'c?ur', 'anglais', 'alger', 'inde', 'cuba', 'arabie saoudite', 'matignon', 'marseille', 'irak', 'vienne', \"l'empire\", 'madrid', 'pacifique', 'hongrie', 'suède', 'bordeaux', \"l'algérie\", 'tunisie', 'strasbourg', 'atlantique', 'britanniques', 'soudan', \"quai d'orsay\", 'mexique', 'belgique', 'sienne', 'maroc', 'chinois', 'japonais', 'italiens', 'téhéran', 'los angeles', \"l'asie\", 'champagne', 'syriens', 'turquie', 'munich', 'egyptiens', 'afrique du sud', 'libye', 'avais', 'danemark', 'américain', 'hexagone', 'portugal', 'au caire', 'koweït', 'méditerranée', 'le soleil', 'canal de suez', 'vatican', 'vichy', 'kremlin', \"l'espagne\", 'caire', 'roumanie', 'tchécoslovaquie', 'norvège', 'tokyo', 'le japon', 'autriche', 'canada', 'versailles', \"côte-d'ivoire\", 'kenya', 'maghreb', 'pakistan', 'laos', 'sénégal', 'francfort', 'vietnam', 'loire', 'toulouse', 'californie', 'prague', 'grèce', 'nigeria', 'gatt', 'du japon', 'madagascar', 'corée', 'congo', 'gabon', 'croyez', 'australie', 'voudrais', 'cambodge', 'luxembourg']\n"
     ]
    },
    {
     "data": {
      "text/html": [
       "<div>\n",
       "<style scoped>\n",
       "    .dataframe tbody tr th:only-of-type {\n",
       "        vertical-align: middle;\n",
       "    }\n",
       "\n",
       "    .dataframe tbody tr th {\n",
       "        vertical-align: top;\n",
       "    }\n",
       "\n",
       "    .dataframe thead th {\n",
       "        text-align: right;\n",
       "    }\n",
       "</style>\n",
       "<table border=\"1\" class=\"dataframe\">\n",
       "  <thead>\n",
       "    <tr style=\"text-align: right;\">\n",
       "      <th></th>\n",
       "      <th>Unnamed: 0</th>\n",
       "      <th>LOC_entity</th>\n",
       "      <th>LOC_count</th>\n",
       "    </tr>\n",
       "  </thead>\n",
       "  <tbody>\n",
       "    <tr>\n",
       "      <th>0</th>\n",
       "      <td>0</td>\n",
       "      <td>paris</td>\n",
       "      <td>158</td>\n",
       "    </tr>\n",
       "    <tr>\n",
       "      <th>1</th>\n",
       "      <td>1</td>\n",
       "      <td>france</td>\n",
       "      <td>156</td>\n",
       "    </tr>\n",
       "    <tr>\n",
       "      <th>2</th>\n",
       "      <td>2</td>\n",
       "      <td>la france</td>\n",
       "      <td>144</td>\n",
       "    </tr>\n",
       "    <tr>\n",
       "      <th>3</th>\n",
       "      <td>3</td>\n",
       "      <td>etat</td>\n",
       "      <td>124</td>\n",
       "    </tr>\n",
       "    <tr>\n",
       "      <th>4</th>\n",
       "      <td>4</td>\n",
       "      <td>etats-unis</td>\n",
       "      <td>116</td>\n",
       "    </tr>\n",
       "  </tbody>\n",
       "</table>\n",
       "</div>"
      ],
      "text/plain": [
       "   Unnamed: 0  LOC_entity  LOC_count\n",
       "0           0       paris        158\n",
       "1           1      france        156\n",
       "2           2   la france        144\n",
       "3           3        etat        124\n",
       "4           4  etats-unis        116"
      ]
     },
     "execution_count": 26,
     "metadata": {},
     "output_type": "execute_result"
    }
   ],
   "source": [
    "LOC_highest=LOC_df[LOC_df['LOC_count']>6]\n",
    "print(list(LOC_highest.LOC_entity))\n",
    "LOC_highest.head()"
   ]
  },
  {
   "cell_type": "code",
   "execution_count": 27,
   "metadata": {},
   "outputs": [],
   "source": [
    "vocabulary=['paris', 'france', 'etat', 'etats-unis', 'europe', 'allemagne', 'américains', 'état', 'de france', 'israël', 'londres', 'jérusalem', 'français', 'grande-bretagne', 'moscou', 'terre', 'washington', 'chine', 'afrique', '»', 'la chine', 'amérique', 'new york', 'algérie', 'allemands', 'angleterre', 'occident', 'berlin', 'italie', 'japon', 'beyrouth', 'espagne', 'genève', 'russie', 'suisse', 'pékin', \"l'amérique\", 'bruxelles', 'soleil', \"l'italie\", 'f', 'gaza', 'liban', 'cisjordanie', 'syrie', 'la terre', 'jordanie', 'iran', 'sinaï', 'asie', 'mercredi', 'damas', 'cher', 'lyon', 'européens', 'lune', \"l'afrique\", 'russes', 'pologne', 'egypte', 'algériens', 'israéliens', 'rome', 'c?ur', 'anglais', 'alger', 'inde', 'cuba', 'arabie saoudite', 'matignon', 'marseille', 'irak', 'vienne', \"l'empire\", 'madrid', 'pacifique', 'hongrie', 'suède', 'bordeaux', \"l'algérie\", 'tunisie', 'strasbourg', 'atlantique', 'britanniques', 'soudan', \"quai d'orsay\", 'mexique', 'belgique', 'sienne', 'maroc', 'chinois', 'japonais', 'italiens', 'téhéran', 'los angeles', \"l'asie\", 'champagne', 'syriens', 'turquie', 'munich', 'egyptiens', 'afrique du sud', 'libye', 'avais', 'danemark', 'américain', 'hexagone', 'portugal', 'au caire', 'koweït', 'méditerranée', 'le soleil', 'canal de suez', 'vatican', 'vichy', 'kremlin', \"l'espagne\", 'caire', 'roumanie', 'tchécoslovaquie', 'norvège', 'tokyo', 'le japon', 'autriche', 'canada', 'versailles', \"côte-d'ivoire\", 'kenya', 'maghreb', 'pakistan', 'laos', 'sénégal', 'francfort', 'vietnam', 'loire', 'toulouse', 'californie', 'prague', 'grèce', 'nigeria', 'gatt', 'du japon', 'madagascar', 'corée', 'congo', 'gabon', 'croyez', 'australie', 'voudrais', 'cambodge', 'luxembourg']"
   ]
  }
 ],
 "metadata": {
  "kernelspec": {
   "display_name": "Python 3",
   "language": "python",
   "name": "python3"
  },
  "language_info": {
   "codemirror_mode": {
    "name": "ipython",
    "version": 3
   },
   "file_extension": ".py",
   "mimetype": "text/x-python",
   "name": "python",
   "nbconvert_exporter": "python",
   "pygments_lexer": "ipython3",
   "version": "3.6.7"
  }
 },
 "nbformat": 4,
 "nbformat_minor": 2
}
